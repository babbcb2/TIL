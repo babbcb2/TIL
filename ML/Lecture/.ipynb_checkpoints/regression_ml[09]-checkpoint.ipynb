{
 "cells": [
  {
   "cell_type": "code",
   "execution_count": 5,
   "metadata": {},
   "outputs": [],
   "source": [
    "from sklearn.tree         import DecisionTreeClassifier\n",
    "from sklearn.linear_model import LogisticRegression\n",
    "from sklearn.ensemble     import RandomForestClassifier\n",
    "\n",
    "# SVM add\n",
    "from sklearn.svm          import SVC\n",
    "\n",
    "# knn add\n",
    "from sklearn.neighbors    import KNeighborsClassifier\n",
    "\n",
    "# ensemble add\n",
    "from sklearn.ensemble     import VotingClassifier\n",
    "from sklearn.ensemble     import RandomForestClassifier\n",
    "\n",
    "from sklearn.preprocessing   import LabelEncoder , OneHotEncoder , StandardScaler , MinMaxScaler , Binarizer \n",
    "from sklearn.model_selection import train_test_split , GridSearchCV, cross_val_score\n",
    "\n",
    "from sklearn.metrics import accuracy_score, precision_score, recall_score, f1_score , roc_auc_score\n",
    "from sklearn.metrics import confusion_matrix, precision_recall_curve , roc_curve\n",
    "\n",
    "import pandas as pd\n",
    "import numpy  as np\n",
    "import matplotlib.pyplot as plt\n",
    "import seaborn as sns\n",
    "\n",
    "import missingno as ms\n",
    "%matplotlib inline\n",
    "\n",
    "import warnings\n",
    "warnings.filterwarnings('ignore')\n",
    "\n",
    "# datasets\n",
    "from sklearn.datasets import load_breast_cancer\n",
    "\n",
    "# XGBoost\n",
    "import xgboost as xgb\n",
    "from xgboost import plot_importance\n",
    "from xgboost import XGBClassifier"
   ]
  },
  {
   "cell_type": "code",
   "execution_count": 3,
   "metadata": {},
   "outputs": [],
   "source": [
    "# AUC 성능평가 확인\n",
    "\n",
    "def metrics_evaluation(y_test, y_pred=None , y_pred_proba=None) :\n",
    "    print(\"정확도 : {} , 정밀도 : {} , 재현율 : {} , 조화평균(F1) : {} , AUC : {} \"\n",
    "          .format(accuracy_score(y_test, y_pred) , \n",
    "                  precision_score(y_test, y_pred) , \n",
    "                  recall_score(y_test, y_pred) , \n",
    "                  f1_score(y_test, y_pred) , \n",
    "                  roc_auc_score(y_test, y_pred_proba) ) )"
   ]
  },
  {
   "cell_type": "markdown",
   "metadata": {},
   "source": [
    "#### Lineare Regression\n",
    "\n",
    "- f(x) = wx + b\n",
    "- 예측 함수를 통해서 예측값과 실제값의 차이를 계산\n",
    "- cost(w, b) : 업데이트를 통해서 w,b 값을 조정한다\n",
    "- 위 과정을 특정 횟수만큼 반복\n",
    "- 수정된 값을 통해서 f(x) = wx + b 정의한다"
   ]
  },
  {
   "cell_type": "markdown",
   "metadata": {},
   "source": [
    "- 독립변수 (feature), 종속변수(target)\n",
    "- 독립변수의 갯수에 따라서 : 단일회귀, 다중회귀"
   ]
  },
  {
   "cell_type": "code",
   "execution_count": 10,
   "metadata": {},
   "outputs": [],
   "source": [
    "from sklearn.linear_model import LinearRegression\n",
    "\n",
    "import pandas as pd\n",
    "import numpy  as np\n",
    "import matplotlib.pyplot as plt\n",
    "import seaborn as sns\n",
    "\n",
    "import missingno as ms\n",
    "%matplotlib inline\n",
    "\n",
    "import warnings\n",
    "warnings.filterwarnings('ignore')"
   ]
  },
  {
   "cell_type": "code",
   "execution_count": 11,
   "metadata": {},
   "outputs": [],
   "source": [
    "df = pd.DataFrame({\n",
    "'height': [1.47, 1.50, 1.52, 1.55, 1.57, 1.60, 1.63, 1.65, 1.68, 1.70, 1.73, 1.75, 1.78, 1.80, 1.83],\n",
    "'mass': [52.21, 53.12, 54.48, 55.84, 57.20, 58.57, 59.93, 61.29, 63.11, 64.47, 66.28, 68.10, 69.92, 72.19, 74.46],\n",
    "})\n"
   ]
  },
  {
   "cell_type": "code",
   "execution_count": 12,
   "metadata": {
    "collapsed": true
   },
   "outputs": [
    {
     "data": {
      "text/html": [
       "<div>\n",
       "<style scoped>\n",
       "    .dataframe tbody tr th:only-of-type {\n",
       "        vertical-align: middle;\n",
       "    }\n",
       "\n",
       "    .dataframe tbody tr th {\n",
       "        vertical-align: top;\n",
       "    }\n",
       "\n",
       "    .dataframe thead th {\n",
       "        text-align: right;\n",
       "    }\n",
       "</style>\n",
       "<table border=\"1\" class=\"dataframe\">\n",
       "  <thead>\n",
       "    <tr style=\"text-align: right;\">\n",
       "      <th></th>\n",
       "      <th>height</th>\n",
       "      <th>mass</th>\n",
       "    </tr>\n",
       "  </thead>\n",
       "  <tbody>\n",
       "    <tr>\n",
       "      <th>0</th>\n",
       "      <td>1.47</td>\n",
       "      <td>52.21</td>\n",
       "    </tr>\n",
       "    <tr>\n",
       "      <th>1</th>\n",
       "      <td>1.50</td>\n",
       "      <td>53.12</td>\n",
       "    </tr>\n",
       "    <tr>\n",
       "      <th>2</th>\n",
       "      <td>1.52</td>\n",
       "      <td>54.48</td>\n",
       "    </tr>\n",
       "    <tr>\n",
       "      <th>3</th>\n",
       "      <td>1.55</td>\n",
       "      <td>55.84</td>\n",
       "    </tr>\n",
       "    <tr>\n",
       "      <th>4</th>\n",
       "      <td>1.57</td>\n",
       "      <td>57.20</td>\n",
       "    </tr>\n",
       "    <tr>\n",
       "      <th>5</th>\n",
       "      <td>1.60</td>\n",
       "      <td>58.57</td>\n",
       "    </tr>\n",
       "    <tr>\n",
       "      <th>6</th>\n",
       "      <td>1.63</td>\n",
       "      <td>59.93</td>\n",
       "    </tr>\n",
       "    <tr>\n",
       "      <th>7</th>\n",
       "      <td>1.65</td>\n",
       "      <td>61.29</td>\n",
       "    </tr>\n",
       "    <tr>\n",
       "      <th>8</th>\n",
       "      <td>1.68</td>\n",
       "      <td>63.11</td>\n",
       "    </tr>\n",
       "    <tr>\n",
       "      <th>9</th>\n",
       "      <td>1.70</td>\n",
       "      <td>64.47</td>\n",
       "    </tr>\n",
       "    <tr>\n",
       "      <th>10</th>\n",
       "      <td>1.73</td>\n",
       "      <td>66.28</td>\n",
       "    </tr>\n",
       "    <tr>\n",
       "      <th>11</th>\n",
       "      <td>1.75</td>\n",
       "      <td>68.10</td>\n",
       "    </tr>\n",
       "    <tr>\n",
       "      <th>12</th>\n",
       "      <td>1.78</td>\n",
       "      <td>69.92</td>\n",
       "    </tr>\n",
       "    <tr>\n",
       "      <th>13</th>\n",
       "      <td>1.80</td>\n",
       "      <td>72.19</td>\n",
       "    </tr>\n",
       "    <tr>\n",
       "      <th>14</th>\n",
       "      <td>1.83</td>\n",
       "      <td>74.46</td>\n",
       "    </tr>\n",
       "  </tbody>\n",
       "</table>\n",
       "</div>"
      ],
      "text/plain": [
       "    height   mass\n",
       "0     1.47  52.21\n",
       "1     1.50  53.12\n",
       "2     1.52  54.48\n",
       "3     1.55  55.84\n",
       "4     1.57  57.20\n",
       "5     1.60  58.57\n",
       "6     1.63  59.93\n",
       "7     1.65  61.29\n",
       "8     1.68  63.11\n",
       "9     1.70  64.47\n",
       "10    1.73  66.28\n",
       "11    1.75  68.10\n",
       "12    1.78  69.92\n",
       "13    1.80  72.19\n",
       "14    1.83  74.46"
      ]
     },
     "execution_count": 12,
     "metadata": {},
     "output_type": "execute_result"
    }
   ],
   "source": [
    "df"
   ]
  },
  {
   "cell_type": "code",
   "execution_count": 19,
   "metadata": {
    "collapsed": true
   },
   "outputs": [
    {
     "data": {
      "text/html": [
       "<div>\n",
       "<style scoped>\n",
       "    .dataframe tbody tr th:only-of-type {\n",
       "        vertical-align: middle;\n",
       "    }\n",
       "\n",
       "    .dataframe tbody tr th {\n",
       "        vertical-align: top;\n",
       "    }\n",
       "\n",
       "    .dataframe thead th {\n",
       "        text-align: right;\n",
       "    }\n",
       "</style>\n",
       "<table border=\"1\" class=\"dataframe\">\n",
       "  <thead>\n",
       "    <tr style=\"text-align: right;\">\n",
       "      <th></th>\n",
       "      <th>height</th>\n",
       "    </tr>\n",
       "  </thead>\n",
       "  <tbody>\n",
       "    <tr>\n",
       "      <th>0</th>\n",
       "      <td>1.47</td>\n",
       "    </tr>\n",
       "    <tr>\n",
       "      <th>1</th>\n",
       "      <td>1.50</td>\n",
       "    </tr>\n",
       "    <tr>\n",
       "      <th>2</th>\n",
       "      <td>1.52</td>\n",
       "    </tr>\n",
       "    <tr>\n",
       "      <th>3</th>\n",
       "      <td>1.55</td>\n",
       "    </tr>\n",
       "    <tr>\n",
       "      <th>4</th>\n",
       "      <td>1.57</td>\n",
       "    </tr>\n",
       "    <tr>\n",
       "      <th>5</th>\n",
       "      <td>1.60</td>\n",
       "    </tr>\n",
       "    <tr>\n",
       "      <th>6</th>\n",
       "      <td>1.63</td>\n",
       "    </tr>\n",
       "    <tr>\n",
       "      <th>7</th>\n",
       "      <td>1.65</td>\n",
       "    </tr>\n",
       "    <tr>\n",
       "      <th>8</th>\n",
       "      <td>1.68</td>\n",
       "    </tr>\n",
       "    <tr>\n",
       "      <th>9</th>\n",
       "      <td>1.70</td>\n",
       "    </tr>\n",
       "    <tr>\n",
       "      <th>10</th>\n",
       "      <td>1.73</td>\n",
       "    </tr>\n",
       "    <tr>\n",
       "      <th>11</th>\n",
       "      <td>1.75</td>\n",
       "    </tr>\n",
       "    <tr>\n",
       "      <th>12</th>\n",
       "      <td>1.78</td>\n",
       "    </tr>\n",
       "    <tr>\n",
       "      <th>13</th>\n",
       "      <td>1.80</td>\n",
       "    </tr>\n",
       "    <tr>\n",
       "      <th>14</th>\n",
       "      <td>1.83</td>\n",
       "    </tr>\n",
       "  </tbody>\n",
       "</table>\n",
       "</div>"
      ],
      "text/plain": [
       "    height\n",
       "0     1.47\n",
       "1     1.50\n",
       "2     1.52\n",
       "3     1.55\n",
       "4     1.57\n",
       "5     1.60\n",
       "6     1.63\n",
       "7     1.65\n",
       "8     1.68\n",
       "9     1.70\n",
       "10    1.73\n",
       "11    1.75\n",
       "12    1.78\n",
       "13    1.80\n",
       "14    1.83"
      ]
     },
     "execution_count": 19,
     "metadata": {},
     "output_type": "execute_result"
    }
   ],
   "source": [
    "# 독립변수\n",
    "X = df[['height']]\n",
    "X"
   ]
  },
  {
   "cell_type": "code",
   "execution_count": 20,
   "metadata": {
    "collapsed": true
   },
   "outputs": [
    {
     "data": {
      "text/plain": [
       "0     52.21\n",
       "1     53.12\n",
       "2     54.48\n",
       "3     55.84\n",
       "4     57.20\n",
       "5     58.57\n",
       "6     59.93\n",
       "7     61.29\n",
       "8     63.11\n",
       "9     64.47\n",
       "10    66.28\n",
       "11    68.10\n",
       "12    69.92\n",
       "13    72.19\n",
       "14    74.46\n",
       "Name: mass, dtype: float64"
      ]
     },
     "execution_count": 20,
     "metadata": {},
     "output_type": "execute_result"
    }
   ],
   "source": [
    "# 종속변수\n",
    "Y = df['mass']\n",
    "Y"
   ]
  },
  {
   "cell_type": "code",
   "execution_count": 21,
   "metadata": {},
   "outputs": [
    {
     "data": {
      "image/png": "[encoded data removed]",
      "text/plain": [
       "<Figure size 432x288 with 1 Axes>"
      ]
     },
     "metadata": {
      "needs_background": "light"
     },
     "output_type": "display_data"
    }
   ],
   "source": [
    "plt.figure()\n",
    "\n",
    "plt.plot(X, Y, 'o')\n",
    "\n",
    "plt.show()\n",
    "plt.close()"
   ]
  },
  {
   "cell_type": "code",
   "execution_count": 22,
   "metadata": {},
   "outputs": [
    {
     "data": {
      "text/plain": [
       "LinearRegression()"
      ]
     },
     "execution_count": 22,
     "metadata": {},
     "output_type": "execute_result"
    }
   ],
   "source": [
    "test_model = LinearRegression()\n",
    "test_model.fit (X, Y)"
   ]
  },
  {
   "cell_type": "code",
   "execution_count": 26,
   "metadata": {},
   "outputs": [
    {
     "data": {
      "text/plain": [
       "array([69.38981426])"
      ]
     },
     "execution_count": 26,
     "metadata": {},
     "output_type": "execute_result"
    }
   ],
   "source": [
    "# 예측 키 넣어서\n",
    "test_model.predict([[1.77]])"
   ]
  },
  {
   "cell_type": "code",
   "execution_count": 30,
   "metadata": {},
   "outputs": [
    {
     "name": "stdout",
     "output_type": "stream",
     "text": [
      "coefficient = [61.27218654]\n",
      "intercept = -39.061955918843935\n"
     ]
    }
   ],
   "source": [
    "# 기울기\n",
    "print ('coefficient =', test_model.coef_)\n",
    "\n",
    "# 절편\n",
    "print ('intercept =' , test_model.intercept_)"
   ]
  },
  {
   "cell_type": "code",
   "execution_count": 31,
   "metadata": {},
   "outputs": [
    {
     "data": {
      "text/plain": [
       "69.38981425695607"
      ]
     },
     "execution_count": 31,
     "metadata": {},
     "output_type": "execute_result"
    }
   ],
   "source": [
    "( 61.27218654 * 1.77) -39.061955918843935"
   ]
  },
  {
   "cell_type": "code",
   "execution_count": 32,
   "metadata": {},
   "outputs": [
    {
     "name": "stdout",
     "output_type": "stream",
     "text": [
      "R =  0.9891969224457968\n"
     ]
    }
   ],
   "source": [
    "# 결정계수 R\n",
    "print('R = ', test_model.score(X,Y))"
   ]
  },
  {
   "cell_type": "code",
   "execution_count": 34,
   "metadata": {},
   "outputs": [
    {
     "data": {
      "image/png": "[encoded data removed]",
      "text/plain": [
       "<Figure size 432x288 with 1 Axes>"
      ]
     },
     "metadata": {
      "needs_background": "light"
     },
     "output_type": "display_data"
    }
   ],
   "source": [
    "plt.figure()\n",
    "\n",
    "plt.plot(X, Y, 'o')\n",
    "plt.plot(X, test_model.predict(X))\n",
    "\n",
    "plt.show()\n",
    "plt.close()"
   ]
  },
  {
   "cell_type": "code",
   "execution_count": 42,
   "metadata": {},
   "outputs": [
    {
     "data": {
      "text/html": [
       "<div>\n",
       "<style scoped>\n",
       "    .dataframe tbody tr th:only-of-type {\n",
       "        vertical-align: middle;\n",
       "    }\n",
       "\n",
       "    .dataframe tbody tr th {\n",
       "        vertical-align: top;\n",
       "    }\n",
       "\n",
       "    .dataframe thead th {\n",
       "        text-align: right;\n",
       "    }\n",
       "</style>\n",
       "<table border=\"1\" class=\"dataframe\">\n",
       "  <thead>\n",
       "    <tr style=\"text-align: right;\">\n",
       "      <th></th>\n",
       "      <th>date</th>\n",
       "      <th>weekday</th>\n",
       "      <th>high_temperature</th>\n",
       "      <th>order</th>\n",
       "    </tr>\n",
       "  </thead>\n",
       "  <tbody>\n",
       "    <tr>\n",
       "      <th>0</th>\n",
       "      <td>2002-07-22</td>\n",
       "      <td>Mon</td>\n",
       "      <td>29</td>\n",
       "      <td>77</td>\n",
       "    </tr>\n",
       "    <tr>\n",
       "      <th>1</th>\n",
       "      <td>2002-07-23</td>\n",
       "      <td>Tue</td>\n",
       "      <td>28</td>\n",
       "      <td>62</td>\n",
       "    </tr>\n",
       "    <tr>\n",
       "      <th>2</th>\n",
       "      <td>2002-07-24</td>\n",
       "      <td>Wed</td>\n",
       "      <td>34</td>\n",
       "      <td>93</td>\n",
       "    </tr>\n",
       "    <tr>\n",
       "      <th>3</th>\n",
       "      <td>2002-07-25</td>\n",
       "      <td>Thr</td>\n",
       "      <td>31</td>\n",
       "      <td>84</td>\n",
       "    </tr>\n",
       "    <tr>\n",
       "      <th>4</th>\n",
       "      <td>2002-07-26</td>\n",
       "      <td>Fri</td>\n",
       "      <td>25</td>\n",
       "      <td>59</td>\n",
       "    </tr>\n",
       "    <tr>\n",
       "      <th>5</th>\n",
       "      <td>2002-07-27</td>\n",
       "      <td>Sat</td>\n",
       "      <td>29</td>\n",
       "      <td>64</td>\n",
       "    </tr>\n",
       "    <tr>\n",
       "      <th>6</th>\n",
       "      <td>2002-07-28</td>\n",
       "      <td>Sun</td>\n",
       "      <td>32</td>\n",
       "      <td>80</td>\n",
       "    </tr>\n",
       "    <tr>\n",
       "      <th>7</th>\n",
       "      <td>2002-07-29</td>\n",
       "      <td>Mon</td>\n",
       "      <td>31</td>\n",
       "      <td>75</td>\n",
       "    </tr>\n",
       "    <tr>\n",
       "      <th>8</th>\n",
       "      <td>2002-07-30</td>\n",
       "      <td>Tue</td>\n",
       "      <td>24</td>\n",
       "      <td>58</td>\n",
       "    </tr>\n",
       "    <tr>\n",
       "      <th>9</th>\n",
       "      <td>2002-07-31</td>\n",
       "      <td>Wed</td>\n",
       "      <td>33</td>\n",
       "      <td>91</td>\n",
       "    </tr>\n",
       "    <tr>\n",
       "      <th>10</th>\n",
       "      <td>2002-08-01</td>\n",
       "      <td>Thr</td>\n",
       "      <td>25</td>\n",
       "      <td>51</td>\n",
       "    </tr>\n",
       "    <tr>\n",
       "      <th>11</th>\n",
       "      <td>2002-08-02</td>\n",
       "      <td>Fri</td>\n",
       "      <td>31</td>\n",
       "      <td>73</td>\n",
       "    </tr>\n",
       "    <tr>\n",
       "      <th>12</th>\n",
       "      <td>2002-08-03</td>\n",
       "      <td>Sat</td>\n",
       "      <td>26</td>\n",
       "      <td>65</td>\n",
       "    </tr>\n",
       "    <tr>\n",
       "      <th>13</th>\n",
       "      <td>2002-08-04</td>\n",
       "      <td>Sun</td>\n",
       "      <td>30</td>\n",
       "      <td>84</td>\n",
       "    </tr>\n",
       "  </tbody>\n",
       "</table>\n",
       "</div>"
      ],
      "text/plain": [
       "          date weekday  high_temperature  order\n",
       "0   2002-07-22     Mon                29     77\n",
       "1   2002-07-23     Tue                28     62\n",
       "2   2002-07-24     Wed                34     93\n",
       "3   2002-07-25     Thr                31     84\n",
       "4   2002-07-26     Fri                25     59\n",
       "5   2002-07-27     Sat                29     64\n",
       "6   2002-07-28     Sun                32     80\n",
       "7   2002-07-29     Mon                31     75\n",
       "8   2002-07-30     Tue                24     58\n",
       "9   2002-07-31     Wed                33     91\n",
       "10  2002-08-01     Thr                25     51\n",
       "11  2002-08-02     Fri                31     73\n",
       "12  2002-08-03     Sat                26     65\n",
       "13  2002-08-04     Sun                30     84"
      ]
     },
     "execution_count": 42,
     "metadata": {},
     "output_type": "execute_result"
    }
   ],
   "source": [
    "tempDF = pd.read_csv('https://raw.githubusercontent.com/jmnote/z-dataset/master/simple-regression/iced-tea-orders.csv')\n",
    "tempDF"
   ]
  },
  {
   "cell_type": "code",
   "execution_count": 39,
   "metadata": {
    "collapsed": true
   },
   "outputs": [
    {
     "data": {
      "text/html": [
       "<div>\n",
       "<style scoped>\n",
       "    .dataframe tbody tr th:only-of-type {\n",
       "        vertical-align: middle;\n",
       "    }\n",
       "\n",
       "    .dataframe tbody tr th {\n",
       "        vertical-align: top;\n",
       "    }\n",
       "\n",
       "    .dataframe thead th {\n",
       "        text-align: right;\n",
       "    }\n",
       "</style>\n",
       "<table border=\"1\" class=\"dataframe\">\n",
       "  <thead>\n",
       "    <tr style=\"text-align: right;\">\n",
       "      <th></th>\n",
       "      <th>high_temperature</th>\n",
       "    </tr>\n",
       "  </thead>\n",
       "  <tbody>\n",
       "    <tr>\n",
       "      <th>0</th>\n",
       "      <td>29</td>\n",
       "    </tr>\n",
       "    <tr>\n",
       "      <th>1</th>\n",
       "      <td>28</td>\n",
       "    </tr>\n",
       "    <tr>\n",
       "      <th>2</th>\n",
       "      <td>34</td>\n",
       "    </tr>\n",
       "    <tr>\n",
       "      <th>3</th>\n",
       "      <td>31</td>\n",
       "    </tr>\n",
       "    <tr>\n",
       "      <th>4</th>\n",
       "      <td>25</td>\n",
       "    </tr>\n",
       "    <tr>\n",
       "      <th>5</th>\n",
       "      <td>29</td>\n",
       "    </tr>\n",
       "    <tr>\n",
       "      <th>6</th>\n",
       "      <td>32</td>\n",
       "    </tr>\n",
       "    <tr>\n",
       "      <th>7</th>\n",
       "      <td>31</td>\n",
       "    </tr>\n",
       "    <tr>\n",
       "      <th>8</th>\n",
       "      <td>24</td>\n",
       "    </tr>\n",
       "    <tr>\n",
       "      <th>9</th>\n",
       "      <td>33</td>\n",
       "    </tr>\n",
       "    <tr>\n",
       "      <th>10</th>\n",
       "      <td>25</td>\n",
       "    </tr>\n",
       "    <tr>\n",
       "      <th>11</th>\n",
       "      <td>31</td>\n",
       "    </tr>\n",
       "    <tr>\n",
       "      <th>12</th>\n",
       "      <td>26</td>\n",
       "    </tr>\n",
       "    <tr>\n",
       "      <th>13</th>\n",
       "      <td>30</td>\n",
       "    </tr>\n",
       "  </tbody>\n",
       "</table>\n",
       "</div>"
      ],
      "text/plain": [
       "    high_temperature\n",
       "0                 29\n",
       "1                 28\n",
       "2                 34\n",
       "3                 31\n",
       "4                 25\n",
       "5                 29\n",
       "6                 32\n",
       "7                 31\n",
       "8                 24\n",
       "9                 33\n",
       "10                25\n",
       "11                31\n",
       "12                26\n",
       "13                30"
      ]
     },
     "execution_count": 39,
     "metadata": {},
     "output_type": "execute_result"
    }
   ],
   "source": [
    "# 독립변수\n",
    "X = tempDF[['high_temperature']]\n",
    "X"
   ]
  },
  {
   "cell_type": "code",
   "execution_count": 43,
   "metadata": {
    "collapsed": true
   },
   "outputs": [
    {
     "data": {
      "text/plain": [
       "0     77\n",
       "1     62\n",
       "2     93\n",
       "3     84\n",
       "4     59\n",
       "5     64\n",
       "6     80\n",
       "7     75\n",
       "8     58\n",
       "9     91\n",
       "10    51\n",
       "11    73\n",
       "12    65\n",
       "13    84\n",
       "Name: order, dtype: int64"
      ]
     },
     "execution_count": 43,
     "metadata": {},
     "output_type": "execute_result"
    }
   ],
   "source": [
    "# 종속변수\n",
    "Y = tempDF['order']\n",
    "Y"
   ]
  },
  {
   "cell_type": "code",
   "execution_count": 44,
   "metadata": {},
   "outputs": [
    {
     "data": {
      "image/png": "[encoded data removed]",
      "text/plain": [
       "<Figure size 432x288 with 1 Axes>"
      ]
     },
     "metadata": {
      "needs_background": "light"
     },
     "output_type": "display_data"
    }
   ],
   "source": [
    "plt.figure()\n",
    "\n",
    "plt.plot(X, Y, 'o')\n",
    "\n",
    "plt.show()\n",
    "plt.close()"
   ]
  },
  {
   "cell_type": "code",
   "execution_count": 47,
   "metadata": {},
   "outputs": [
    {
     "data": {
      "text/plain": [
       "LinearRegression()"
      ]
     },
     "execution_count": 47,
     "metadata": {},
     "output_type": "execute_result"
    }
   ],
   "source": [
    "test_model = LinearRegression()\n",
    "test_model.fit (X, Y)"
   ]
  },
  {
   "cell_type": "code",
   "execution_count": 48,
   "metadata": {},
   "outputs": [
    {
     "data": {
      "text/plain": [
       "array([75.7753304])"
      ]
     },
     "execution_count": 48,
     "metadata": {},
     "output_type": "execute_result"
    }
   ],
   "source": [
    "# 예측 온도 넣어서\n",
    "test_model.predict([[30]])"
   ]
  },
  {
   "cell_type": "code",
   "execution_count": 49,
   "metadata": {},
   "outputs": [
    {
     "name": "stdout",
     "output_type": "stream",
     "text": [
      "coefficient = [3.73788546]\n",
      "intercept = -36.36123348017618\n"
     ]
    }
   ],
   "source": [
    "# 기울기\n",
    "print ('coefficient =', test_model.coef_)\n",
    "\n",
    "# 절편\n",
    "print ('intercept =' , test_model.intercept_)"
   ]
  },
  {
   "cell_type": "code",
   "execution_count": 50,
   "metadata": {},
   "outputs": [
    {
     "name": "stdout",
     "output_type": "stream",
     "text": [
      "R =  0.8225092881166945\n"
     ]
    }
   ],
   "source": [
    "# 결정계수 R\n",
    "print('R = ', test_model.score(X,Y))"
   ]
  },
  {
   "cell_type": "code",
   "execution_count": 51,
   "metadata": {},
   "outputs": [
    {
     "data": {
      "image/png": "[encoded data removed]",
      "text/plain": [
       "<Figure size 432x288 with 1 Axes>"
      ]
     },
     "metadata": {
      "needs_background": "light"
     },
     "output_type": "display_data"
    }
   ],
   "source": [
    "plt.figure()\n",
    "\n",
    "plt.plot(X, Y, 'o')\n",
    "plt.plot(X, test_model.predict(X))\n",
    "\n",
    "plt.show()\n",
    "plt.close()"
   ]
  },
  {
   "cell_type": "code",
   "execution_count": null,
   "metadata": {},
   "outputs": [],
   "source": []
  },
  {
   "cell_type": "code",
   "execution_count": null,
   "metadata": {},
   "outputs": [],
   "source": []
  },
  {
   "cell_type": "markdown",
   "metadata": {},
   "source": [
    "#### 주택 임대료 예측 모델\n",
    "\n",
    "- manhattan.csv"
   ]
  },
  {
   "cell_type": "code",
   "execution_count": 55,
   "metadata": {},
   "outputs": [
    {
     "data": {
      "text/html": [
       "<div>\n",
       "<style scoped>\n",
       "    .dataframe tbody tr th:only-of-type {\n",
       "        vertical-align: middle;\n",
       "    }\n",
       "\n",
       "    .dataframe tbody tr th {\n",
       "        vertical-align: top;\n",
       "    }\n",
       "\n",
       "    .dataframe thead th {\n",
       "        text-align: right;\n",
       "    }\n",
       "</style>\n",
       "<table border=\"1\" class=\"dataframe\">\n",
       "  <thead>\n",
       "    <tr style=\"text-align: right;\">\n",
       "      <th></th>\n",
       "      <th>rental_id</th>\n",
       "      <th>rent</th>\n",
       "      <th>bedrooms</th>\n",
       "      <th>bathrooms</th>\n",
       "      <th>size_sqft</th>\n",
       "      <th>min_to_subway</th>\n",
       "      <th>floor</th>\n",
       "      <th>building_age_yrs</th>\n",
       "      <th>no_fee</th>\n",
       "      <th>has_roofdeck</th>\n",
       "      <th>has_washer_dryer</th>\n",
       "      <th>has_doorman</th>\n",
       "      <th>has_elevator</th>\n",
       "      <th>has_dishwasher</th>\n",
       "      <th>has_patio</th>\n",
       "      <th>has_gym</th>\n",
       "      <th>neighborhood</th>\n",
       "      <th>borough</th>\n",
       "    </tr>\n",
       "  </thead>\n",
       "  <tbody>\n",
       "    <tr>\n",
       "      <th>0</th>\n",
       "      <td>1545</td>\n",
       "      <td>2550</td>\n",
       "      <td>0.0</td>\n",
       "      <td>1</td>\n",
       "      <td>480</td>\n",
       "      <td>9</td>\n",
       "      <td>2.0</td>\n",
       "      <td>17</td>\n",
       "      <td>1</td>\n",
       "      <td>1</td>\n",
       "      <td>0</td>\n",
       "      <td>0</td>\n",
       "      <td>1</td>\n",
       "      <td>1</td>\n",
       "      <td>0</td>\n",
       "      <td>1</td>\n",
       "      <td>Upper East Side</td>\n",
       "      <td>Manhattan</td>\n",
       "    </tr>\n",
       "    <tr>\n",
       "      <th>1</th>\n",
       "      <td>2472</td>\n",
       "      <td>11500</td>\n",
       "      <td>2.0</td>\n",
       "      <td>2</td>\n",
       "      <td>2000</td>\n",
       "      <td>4</td>\n",
       "      <td>1.0</td>\n",
       "      <td>96</td>\n",
       "      <td>0</td>\n",
       "      <td>0</td>\n",
       "      <td>0</td>\n",
       "      <td>0</td>\n",
       "      <td>0</td>\n",
       "      <td>0</td>\n",
       "      <td>0</td>\n",
       "      <td>0</td>\n",
       "      <td>Greenwich Village</td>\n",
       "      <td>Manhattan</td>\n",
       "    </tr>\n",
       "    <tr>\n",
       "      <th>2</th>\n",
       "      <td>2919</td>\n",
       "      <td>4500</td>\n",
       "      <td>1.0</td>\n",
       "      <td>1</td>\n",
       "      <td>916</td>\n",
       "      <td>2</td>\n",
       "      <td>51.0</td>\n",
       "      <td>29</td>\n",
       "      <td>0</td>\n",
       "      <td>1</td>\n",
       "      <td>0</td>\n",
       "      <td>1</td>\n",
       "      <td>1</td>\n",
       "      <td>1</td>\n",
       "      <td>0</td>\n",
       "      <td>0</td>\n",
       "      <td>Midtown</td>\n",
       "      <td>Manhattan</td>\n",
       "    </tr>\n",
       "    <tr>\n",
       "      <th>3</th>\n",
       "      <td>2790</td>\n",
       "      <td>4795</td>\n",
       "      <td>1.0</td>\n",
       "      <td>1</td>\n",
       "      <td>975</td>\n",
       "      <td>3</td>\n",
       "      <td>8.0</td>\n",
       "      <td>31</td>\n",
       "      <td>0</td>\n",
       "      <td>0</td>\n",
       "      <td>0</td>\n",
       "      <td>1</td>\n",
       "      <td>1</td>\n",
       "      <td>1</td>\n",
       "      <td>0</td>\n",
       "      <td>1</td>\n",
       "      <td>Greenwich Village</td>\n",
       "      <td>Manhattan</td>\n",
       "    </tr>\n",
       "    <tr>\n",
       "      <th>4</th>\n",
       "      <td>3946</td>\n",
       "      <td>17500</td>\n",
       "      <td>2.0</td>\n",
       "      <td>2</td>\n",
       "      <td>4800</td>\n",
       "      <td>3</td>\n",
       "      <td>4.0</td>\n",
       "      <td>136</td>\n",
       "      <td>0</td>\n",
       "      <td>0</td>\n",
       "      <td>0</td>\n",
       "      <td>1</td>\n",
       "      <td>1</td>\n",
       "      <td>1</td>\n",
       "      <td>0</td>\n",
       "      <td>1</td>\n",
       "      <td>Soho</td>\n",
       "      <td>Manhattan</td>\n",
       "    </tr>\n",
       "  </tbody>\n",
       "</table>\n",
       "</div>"
      ],
      "text/plain": [
       "   rental_id   rent  bedrooms  bathrooms  size_sqft  min_to_subway  floor  \\\n",
       "0       1545   2550       0.0          1        480              9    2.0   \n",
       "1       2472  11500       2.0          2       2000              4    1.0   \n",
       "2       2919   4500       1.0          1        916              2   51.0   \n",
       "3       2790   4795       1.0          1        975              3    8.0   \n",
       "4       3946  17500       2.0          2       4800              3    4.0   \n",
       "\n",
       "   building_age_yrs  no_fee  has_roofdeck  has_washer_dryer  has_doorman  \\\n",
       "0                17       1             1                 0            0   \n",
       "1                96       0             0                 0            0   \n",
       "2                29       0             1                 0            1   \n",
       "3                31       0             0                 0            1   \n",
       "4               136       0             0                 0            1   \n",
       "\n",
       "   has_elevator  has_dishwasher  has_patio  has_gym       neighborhood  \\\n",
       "0             1               1          0        1    Upper East Side   \n",
       "1             0               0          0        0  Greenwich Village   \n",
       "2             1               1          0        0            Midtown   \n",
       "3             1               1          0        1  Greenwich Village   \n",
       "4             1               1          0        1               Soho   \n",
       "\n",
       "     borough  \n",
       "0  Manhattan  \n",
       "1  Manhattan  \n",
       "2  Manhattan  \n",
       "3  Manhattan  \n",
       "4  Manhattan  "
      ]
     },
     "execution_count": 55,
     "metadata": {},
     "output_type": "execute_result"
    }
   ],
   "source": [
    "houseDF = pd.read_csv('./data/manhattan.csv')\n",
    "houseDF.head()"
   ]
  },
  {
   "cell_type": "code",
   "execution_count": 56,
   "metadata": {},
   "outputs": [],
   "source": [
    "X = houseDF [['bedrooms', 'bathrooms', 'size_sqft', 'min_to_subway', 'floor', 'building_age_yrs', 'no_fee', 'has_roofdeck']]"
   ]
  },
  {
   "cell_type": "code",
   "execution_count": 57,
   "metadata": {},
   "outputs": [],
   "source": [
    "Y = houseDF['rent']"
   ]
  },
  {
   "cell_type": "code",
   "execution_count": 59,
   "metadata": {},
   "outputs": [
    {
     "data": {
      "image/png": "[encoded data removed]",
      "text/plain": [
       "<Figure size 1152x576 with 8 Axes>"
      ]
     },
     "metadata": {
      "needs_background": "light"
     },
     "output_type": "display_data"
    }
   ],
   "source": [
    "fig, axs = plt.subplots(figsize =(16,8),\n",
    "                       ncols = 4,\n",
    "                       nrows = 2)\n",
    "for i, feature in enumerate(X):\n",
    "    row = int(i/4)\n",
    "    col = i%4\n",
    "    sns.regplot(x = feature, y='rent', data = houseDF , ax = axs[row][col] )"
   ]
  },
  {
   "cell_type": "code",
   "execution_count": 60,
   "metadata": {},
   "outputs": [],
   "source": [
    "X_train, X_test, y_train, y_test = train_test_split(X, Y , test_size=.2,\n",
    "                                                   random_state = 100)"
   ]
  },
  {
   "cell_type": "code",
   "execution_count": 63,
   "metadata": {},
   "outputs": [
    {
     "data": {
      "text/plain": [
       "LinearRegression()"
      ]
     },
     "execution_count": 63,
     "metadata": {},
     "output_type": "execute_result"
    }
   ],
   "source": [
    "price_model = LinearRegression()\n",
    "price_model.fit (X_train, y_train)"
   ]
  },
  {
   "cell_type": "code",
   "execution_count": 66,
   "metadata": {},
   "outputs": [],
   "source": [
    "# ['bedrooms', 'bathrooms', 'size_sqft', 'min_to_subway', 'floor', 'building_age_yrs', 'no_fee', 'has_roofdeck']\n",
    "my_apt= [2,          1,          620,            10,         11,          5,               0,           0 ]"
   ]
  },
  {
   "cell_type": "code",
   "execution_count": 69,
   "metadata": {},
   "outputs": [
    {
     "data": {
      "text/plain": [
       "array([3243.81895511])"
      ]
     },
     "execution_count": 69,
     "metadata": {},
     "output_type": "execute_result"
    }
   ],
   "source": [
    "y_pred = price_model.predict([my_apt])\n",
    "y_pred"
   ]
  },
  {
   "cell_type": "code",
   "execution_count": 70,
   "metadata": {
    "collapsed": true
   },
   "outputs": [
    {
     "data": {
      "text/plain": [
       "array([ 3840.64309488,  3360.24914009,  4323.02145803,  2061.95605844,\n",
       "        3756.18526504,  2632.04506095, 13224.56329548,  2555.12699916,\n",
       "        5953.4257522 ,  4059.95244586,  4115.47339142,  7660.00928729,\n",
       "        6059.04875514,  2573.80323417, 11397.0245667 ,  5822.40521776,\n",
       "        1727.38071303,  3349.33670525,  3504.23594981,  2687.77343033,\n",
       "        9529.88637798,  3520.8536494 ,  2018.54028461,  5066.47785641,\n",
       "        8084.44215755,  4096.70936032,  3706.35740495,  3795.98037355,\n",
       "        2382.75733216,  7530.71590682,  5053.1661762 ,  6880.73452448,\n",
       "        3829.61760117,  7013.7111041 ,  6165.08522042,  7894.52115911,\n",
       "        3951.56904647,  1880.95128518,  2935.01856899,  6400.71493297,\n",
       "        8359.60527956,  4011.05552304,  2636.03055238,  5025.50377856,\n",
       "        5846.79380424,  3730.08636179,  2297.39863446,  8426.57413273,\n",
       "        4891.18837622, 11581.03933096,  3654.96382471,  3495.93355771,\n",
       "        3795.98037355,  3813.41588245,  4261.30818193,  6189.14882042,\n",
       "        8106.7800889 ,  2757.89105762,  3534.81382689,  6277.08292466,\n",
       "        5751.31211494, 11227.53854942,  3423.6076064 ,  3349.14741769,\n",
       "        5000.43302527,  3738.97905226,  8487.00311149,  2655.02227397,\n",
       "        6862.07435665,  7221.59021881,  3312.35182135,  6156.7054079 ,\n",
       "        3827.09846605,  3426.04307666,  1295.60261485,  4917.8245276 ,\n",
       "        3521.22659575,  2700.86927535,  2128.26548253,  3932.58754427,\n",
       "        6239.56913906,  3106.24075514,  3743.88350931,  3715.08317028,\n",
       "        6627.96643275,  3202.83630937, 10802.53641871,  8924.70543051,\n",
       "        9882.33099771,  1437.38425173,  3653.0646584 ,  5472.43901962,\n",
       "        2197.55233019,  8264.17832595,  3104.99377934,  2058.62062127,\n",
       "        2175.2315372 ,  8112.28437733,  7341.07657742,  2457.77781859,\n",
       "        6473.99645884,  1645.1435717 ,  7254.95126213,  7367.07136587,\n",
       "        3203.76921359,  2775.48144328,  3644.63408828,  2909.3425924 ,\n",
       "        2041.40705677,  2512.94809136, 14903.6252262 ,  4545.63147828,\n",
       "       11622.43471931,  3692.72300278,  1921.77796184,  5732.45975393,\n",
       "        8968.52366926,  3681.96332135,  4054.91855909,  4249.68624482,\n",
       "        3258.6033541 ,  4476.74437742,  6160.87835814,  6008.4696176 ,\n",
       "        3108.741069  ,  4066.23164465,  2871.48174989, 13524.57161758,\n",
       "        3909.90210106,  3665.22296542,  3042.83207725,  9842.00263478,\n",
       "        2621.87186851,  3352.87111966,  4187.70954665,  2487.86353937,\n",
       "        3544.57539708,  3901.9686064 ,  4770.58115743, 12024.0227513 ,\n",
       "        4474.39298976,  8261.85876454,  5218.12942613,  4478.71917521,\n",
       "        7172.0526057 ,  2011.51705611,  4057.86240846,  3708.79214846,\n",
       "        3988.24587539,  2392.34304538,  2909.90988371,  6916.83352773,\n",
       "        2311.93317161,  2721.913183  ,  3433.3703323 ,  3354.35792446,\n",
       "        5822.47214319, 10028.34862967,  6744.59846513,  5629.11236109,\n",
       "        6806.3719185 ,  3304.63145181,  2920.75738236,  4209.93782337,\n",
       "        4991.92449339,  3203.14164476,  3245.1789415 ,  2738.64957843,\n",
       "       10606.78272195,  3597.48221132,  5368.76149803,  3952.78536951,\n",
       "        6082.24491139,  8824.43642031,  6456.53846299,  2800.12670496,\n",
       "        9780.63601868,  6403.44545262,  2540.29014415,  3719.6647142 ,\n",
       "        2783.29562965,  4822.17272494,  4986.16775067,  7724.41069024,\n",
       "        2092.79987349,  7436.47060801,  4387.62926154,  2138.60369381,\n",
       "        8896.87483293,  7274.94340388,  3605.24892952,  5019.2553235 ,\n",
       "        6914.48409794,  9156.58181647,  7568.71154287,  4387.62926154,\n",
       "        3371.44569089,  5977.22100175,  2564.79705962,  2362.47793229,\n",
       "        3058.280503  ,  3736.08380133,  8216.6351894 ,  3451.27409346,\n",
       "        6451.70890328,  3219.21349481,  4232.81625078,  7391.29345937,\n",
       "        5586.76283487,  1725.30581919,  3915.48290354, 10943.40561674,\n",
       "        8838.94798869,  7636.87872367,  3247.9223162 ,  3807.68212048,\n",
       "       13141.57706572,  2289.39997796,  9001.99976189,  2358.14104622,\n",
       "        8282.5432795 ,  2859.81392281,  8780.73208355,  4205.29588802,\n",
       "        4487.37068171,  5483.48023336,  3502.45117632,  3296.85108099,\n",
       "        3395.55380257,  9803.152947  ,  4238.93743106,  3907.95785719,\n",
       "       12321.76332133,  1797.40866183,  3540.23090454,  3528.93586791,\n",
       "        4350.38220165,  3842.7731879 ,  7361.87916424,  4746.07120531,\n",
       "        3665.03701549,  3198.30054488,  1809.01019688,  4344.10397662,\n",
       "        2750.89747196,  6620.33704511,  3718.91860999,  6058.23348923,\n",
       "        3331.52836997,  4142.46229156,  5120.54771191,  5596.46946518,\n",
       "        3992.48855825,  6225.96813534, 11246.58298839,  5984.62920991,\n",
       "        8197.2129873 ,  3726.70216917,  3203.18902734,  7277.89951847,\n",
       "       10714.89284868,  3564.34856771,  4970.63538892,  4537.36375633,\n",
       "        7473.22937232,  3161.40912419,  3176.9744254 ,  5395.94675874,\n",
       "        3025.94367925,  4529.0679159 ,  4117.92509717,  9166.93677578,\n",
       "        3462.49929001,  3202.74297329,  9418.1522491 ,  7228.24103661,\n",
       "        5026.91524541,  5397.30264194,  3156.42366689,  4256.91503252,\n",
       "        1866.04166947,  4306.56109999,  2077.99912073,  3673.30237736,\n",
       "        5156.38582332,  2915.09210174,  4226.65686567,  4597.87951692,\n",
       "        3831.5195244 ,  4835.74589538,  2701.45445089,  3794.5129295 ,\n",
       "        9325.07973865, 10151.07372616,  3686.07255881,  2936.32793339,\n",
       "        1660.01909402,  4006.465385  ,  4165.96325469,  3540.08551092,\n",
       "        3649.48674802,  4948.34052949,  4019.84640577,  7083.77848971,\n",
       "        3470.78779309, 11159.32239241,  3518.53408202,  3649.26855593,\n",
       "        7978.28899503,  6296.41721734,  5524.56869441,  2710.21728174,\n",
       "        2218.01291541,  2685.82101872,  5185.21388336,  3142.3582056 ,\n",
       "        7070.6458084 ,  4403.20225698,  2862.12701842, 12885.70310086,\n",
       "        4072.84087806,  2855.29889433,  1890.41206183,  5380.13670153,\n",
       "       12880.82002809,  7116.58207471,  4216.86516782,  7452.40376747,\n",
       "        1984.79009758,  3322.40413146,  7175.80402329,  3077.63684796,\n",
       "        2855.40107734,  3971.94396106,  3170.00910045,  3975.63748958,\n",
       "        8440.4679536 ,  3966.68993862,  9779.64080888,  2934.83855041,\n",
       "        3926.42407955,  1835.84638377,  3968.6548196 ,  3060.95475866,\n",
       "        7052.42989909,  7687.68718545,  3793.56759061,  3816.19678357,\n",
       "        7615.17214163,  7280.52308808,  8246.88458938,  3269.28883376,\n",
       "        8007.00664415,  4469.96774505,  3309.87130177,  3512.029323  ,\n",
       "        3137.55423099,  3865.89977933,  4965.53216167,  3432.48461082,\n",
       "        5077.17733907, 11995.48603614,  2949.31712485,  2233.32511278,\n",
       "        3227.9399654 ,  4002.86985176,  7055.96139547,  3798.69838655,\n",
       "        3593.41479942,  4379.36554521,  4189.80128147,  4037.54018699,\n",
       "        6300.17955456,  3348.5877479 ,  2452.43045082,  1662.72868521,\n",
       "        7970.26133662,  4646.89378342,  2190.95611887,  5582.93522579,\n",
       "        3173.41831776,  9495.17838125,  7907.64382478,  4042.76362225,\n",
       "        3706.60333446,  2787.06122589,  4552.71427907,  4462.38705346,\n",
       "       13281.21774067,  4809.24622665,  3577.1501667 ,  2773.6989853 ,\n",
       "        2909.66684794,  6843.97132448,  7493.81247326,  3424.55135667,\n",
       "        2292.76703633,  6316.96832167,  4679.64117851,  2959.14913235,\n",
       "        8436.6012035 ,  4993.79156233,  4616.82757545,  3449.69382596,\n",
       "        8119.47227317, 10163.11904812,  3606.22125016,  3798.90320889,\n",
       "        2772.36685763,  3581.7007922 ,  2585.43953485,  7761.68791234,\n",
       "        3210.16796091,  9479.17319333,  8408.9131586 ,  3400.25223433,\n",
       "        3975.36315609, 11055.30736081,  9710.33563639,  6357.07713383,\n",
       "        2259.53475151,  6152.36891351,  4151.27573057,  3342.43098088,\n",
       "       11095.82689088,  3752.44233513,  3706.78494433,  2874.91366638,\n",
       "        3861.95742158,  2552.4465391 ,  8121.84137997,  4867.47407909,\n",
       "        4183.79429923,  4457.74398121,  4961.71450142,  3626.88309424,\n",
       "        2986.11280031,  2899.83534857,  7931.98816011,  3031.63084367,\n",
       "        6583.00128092,  5580.6058084 ,  3867.51036141,  3526.16854259,\n",
       "        3187.63355119,  3858.16805797,  4364.69350332,  2337.35765191,\n",
       "        3643.34179612,  3823.03855241,  4207.17367795,  3375.9047474 ,\n",
       "        4041.06970576,  3640.3211915 , 14605.20809926,  4119.38430072,\n",
       "       12873.3019506 ,  7064.38260642,  8910.6834491 ,  1701.7159313 ,\n",
       "        3579.46336309,  4433.8810885 , 11875.27991899,  7101.82911041,\n",
       "        4202.23929698,  3165.58787502,  3502.5202148 ,  2847.4114458 ,\n",
       "        3658.19896672,  3579.91442667,  2707.53556176,  4494.60617997,\n",
       "       11538.4069615 ,  9252.97215624,  4760.50188727,  3105.9788882 ,\n",
       "        3362.48188942, 10159.20674368,  4513.21655823,  2154.19601335,\n",
       "        3676.49089316,  4552.41901375,  3578.95433567, 11470.66585148,\n",
       "        8530.33813696,  3565.70517046,  5760.15730109,  9655.79551856,\n",
       "        2523.06662149,  5810.77203663,  8255.2297579 , 11178.34240079,\n",
       "        7304.00611542, 10580.90200112,  1830.14214113,  2019.18432253,\n",
       "        2991.25915761,  7481.04412786,  8381.70001251,  5982.94812103,\n",
       "        5225.67524966,  3877.24886649,  3263.33840944,  7756.4443338 ,\n",
       "       11168.26689914,  5163.85568541,  9302.89325351,  7989.96518575,\n",
       "        4221.96172054, 11290.34757195,  8221.07857186,  1861.81753342,\n",
       "       11024.52979459,  6123.72336873,  7759.00014244,  5402.06891329,\n",
       "        6445.19719592,  6227.66697488,  6651.44946008,  6635.78441654,\n",
       "        4961.11030168, 12496.77288936,  2804.14983649,  5095.23075336,\n",
       "        3153.11368839,  6819.95807968,  9763.41674461,  6481.1507748 ,\n",
       "        4933.7609711 ,  3713.62034815,  6428.23595393,  6925.77740857,\n",
       "        3670.59113287,  3332.38003344,  3060.73522411,  3467.76905348,\n",
       "        3115.56551562,  2265.62095696, 10296.59093172,  4433.95491983,\n",
       "        2376.61565048,  2742.74796398,  3198.06725442,  2578.18011621,\n",
       "        6022.67812664,  3560.40852678,  6759.5391029 ,  2725.91308088,\n",
       "        3754.92300925, 10050.34697111,  3747.40634287,  3090.68234011,\n",
       "        2325.66418011, 12024.0227513 ,  4092.29131285,  3429.42584129,\n",
       "        3561.46182293,  3706.31765189,  8440.28542882,  4402.48415542,\n",
       "        5512.06025795,  6326.78360527,  6066.35987176,  6847.21220589,\n",
       "        4908.46404596,  2672.31774843,  9793.19885488,  3827.11665586,\n",
       "        6769.59090941,  3288.75127239,  3445.07785168,  6380.84070852,\n",
       "        3366.48889616,  7864.59452184,  9222.1977116 ,  4122.3015495 ,\n",
       "       12081.75062355,  5659.04376757,  7285.89805779,  4412.22603149,\n",
       "        4501.72683218,  5766.57138924,  3409.46039038,  3630.54283066,\n",
       "        2810.76480203,  4918.8295742 ,  2920.82983462,  4951.00304904,\n",
       "        6753.54351991,  3776.26943786,  2098.41373063,  4083.59893093,\n",
       "        3953.22617499,  4829.71216121,  3418.93254036,  8210.64667486,\n",
       "       10291.356697  ,  9315.65874506,  3927.20395687,  3771.80126542,\n",
       "        3208.83442845,  6034.4214837 ,  2979.83301922,  6283.02347464,\n",
       "        6188.79017822,  4644.22556484,  4193.25331701,  9921.48135333,\n",
       "        5783.11536415,  3723.82375778,  2574.65629308,  6430.5662867 ,\n",
       "        2763.31433445,  9550.22887505,  3631.38599175,  4998.92008663,\n",
       "        4423.05213472,  3825.62741378,  2289.21555967,  2776.75603346,\n",
       "        3234.37781639,  5548.34965028,  3742.18687462,  6380.84070852,\n",
       "        3583.39781824,  3328.37487654,  5038.25887739,  4481.32235581,\n",
       "        5177.80417167,  7426.85613978, 11459.35212689,  2689.40121257,\n",
       "        2827.24030567, 10387.62704893,  3091.44627826,  3918.596194  ,\n",
       "        2091.84495314,  4690.78701122,  3079.35578972,  2871.52562063,\n",
       "        9944.24998793, 10078.74619853,  6222.85607008,  3147.99842067,\n",
       "        3895.69279181,  4096.14036707,  3060.12679031,  3772.19649771,\n",
       "        4403.97755767,  3385.92808097,  7793.46976828,  5148.09781869,\n",
       "        2514.86277723,  4532.62023525,  4339.34520128,  4235.20252013,\n",
       "        8200.53937832,  3543.18711722,  3672.05516248,  3513.58172123,\n",
       "        6622.52994729,  3135.11664483,  1596.29293576,  5462.02431787,\n",
       "       10329.55538024,  2373.96644944,  4412.22603149,  9669.55555641,\n",
       "        5001.99650733,  5720.67613636,  2155.11078664,  4774.68637305,\n",
       "        2610.23655518,  2938.29229178,  2457.76943864,  3684.74734675,\n",
       "        4207.32627074,  3011.32534613,  7423.99368871,  2689.13390927,\n",
       "        3169.57270323,  3345.1493715 ,  6558.49285523,  4166.74232672,\n",
       "        4519.23307759,  7108.22649114,  2666.49755756,  6697.12803416,\n",
       "        4639.51977201,  4072.47646016,  3880.86482469,  9096.25854433,\n",
       "        6739.31868457,  4251.45487787,  6538.5816078 ,  3185.52590407,\n",
       "        4392.97162903,  6197.40071243,  6780.93766279,  2761.66745284,\n",
       "        7943.88176696, 16206.97450233,  8764.75876171,  1694.2216944 ,\n",
       "        3129.46191553,  7789.80969068,  6212.27320555,  6738.14639195])"
      ]
     },
     "execution_count": 70,
     "metadata": {},
     "output_type": "execute_result"
    }
   ],
   "source": [
    "y_pred = price_model.predict(X_test)\n",
    "y_pred"
   ]
  },
  {
   "cell_type": "code",
   "execution_count": null,
   "metadata": {},
   "outputs": [],
   "source": [
    "# x 실제 임대료 : y 예측 임대료"
   ]
  }
 ],
 "metadata": {
  "kernelspec": {
   "display_name": "Python 3",
   "language": "python",
   "name": "python3"
  },
  "language_info": {
   "codemirror_mode": {
    "name": "ipython",
    "version": 3
   },
   "file_extension": ".py",
   "mimetype": "text/x-python",
   "name": "python",
   "nbconvert_exporter": "python",
   "pygments_lexer": "ipython3",
   "version": "3.8.5"
  }
 },
 "nbformat": 4,
 "nbformat_minor": 4
}

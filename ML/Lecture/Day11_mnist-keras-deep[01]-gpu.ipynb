{
 "cells": [
  {
   "cell_type": "code",
   "execution_count": 42,
   "metadata": {},
   "outputs": [
    {
     "data": {
      "text/plain": [
       "[name: \"/device:CPU:0\"\n",
       " device_type: \"CPU\"\n",
       " memory_limit: 268435456\n",
       " locality {\n",
       " }\n",
       " incarnation: 2450205248711108345,\n",
       " name: \"/device:GPU:0\"\n",
       " device_type: \"GPU\"\n",
       " memory_limit: 4971491488\n",
       " locality {\n",
       "   bus_id: 1\n",
       "   links {\n",
       "   }\n",
       " }\n",
       " incarnation: 3352311911140862131\n",
       " physical_device_desc: \"device: 0, name: GeForce GTX 1660 Ti with Max-Q Design, pci bus id: 0000:01:00.0, compute capability: 7.5\"]"
      ]
     },
     "execution_count": 42,
     "metadata": {},
     "output_type": "execute_result"
    }
   ],
   "source": [
    "from tensorflow.python.client import device_lib\n",
    "device_lib.list_local_devices()"
   ]
  },
  {
   "cell_type": "code",
   "execution_count": 43,
   "metadata": {},
   "outputs": [
    {
     "name": "stdout",
     "output_type": "stream",
     "text": [
      "2.4.1\n",
      "2.4.0\n"
     ]
    }
   ],
   "source": [
    "import tensorflow as tf\n",
    "from tensorflow import keras\n",
    "\n",
    "import numpy as np\n",
    "import pandas as pd\n",
    "\n",
    "print(tf.__version__)\n",
    "print(keras.__version__)"
   ]
  },
  {
   "cell_type": "code",
   "execution_count": 44,
   "metadata": {},
   "outputs": [],
   "source": [
    "#### 데이터 로드"
   ]
  },
  {
   "cell_type": "code",
   "execution_count": 155,
   "metadata": {},
   "outputs": [],
   "source": [
    "(x_train, y_train), (x_test, y_test) = keras.datasets.mnist.load_data()"
   ]
  },
  {
   "cell_type": "code",
   "execution_count": 156,
   "metadata": {},
   "outputs": [
    {
     "data": {
      "text/plain": [
       "((60000, 28, 28), (60000,), (10000, 28, 28), (10000,))"
      ]
     },
     "execution_count": 156,
     "metadata": {},
     "output_type": "execute_result"
    }
   ],
   "source": [
    "x_train.shape, y_train.shape, x_test.shape, y_test.shape"
   ]
  },
  {
   "cell_type": "code",
   "execution_count": 157,
   "metadata": {},
   "outputs": [
    {
     "data": {
      "text/plain": [
       "array([5, 0, 4, ..., 5, 6, 8], dtype=uint8)"
      ]
     },
     "execution_count": 157,
     "metadata": {},
     "output_type": "execute_result"
    }
   ],
   "source": [
    "y_train"
   ]
  },
  {
   "cell_type": "code",
   "execution_count": 158,
   "metadata": {},
   "outputs": [
    {
     "name": "stdout",
     "output_type": "stream",
     "text": [
      "5\n",
      "0\n",
      "4\n",
      "1\n",
      "9\n",
      "2\n",
      "1\n",
      "3\n",
      "1\n",
      "4\n"
     ]
    }
   ],
   "source": [
    "for idx in range(10) :\n",
    "    print(y_train[idx])"
   ]
  },
  {
   "cell_type": "code",
   "execution_count": 159,
   "metadata": {},
   "outputs": [],
   "source": [
    "y_train = keras.utils.to_categorical(y_train, 10)\n",
    "y_test = keras.utils.to_categorical(y_test, 10)"
   ]
  },
  {
   "cell_type": "code",
   "execution_count": 160,
   "metadata": {},
   "outputs": [
    {
     "name": "stdout",
     "output_type": "stream",
     "text": [
      "[0. 0. 0. 0. 0. 1. 0. 0. 0. 0.]\n",
      "[1. 0. 0. 0. 0. 0. 0. 0. 0. 0.]\n",
      "[0. 0. 0. 0. 1. 0. 0. 0. 0. 0.]\n",
      "[0. 1. 0. 0. 0. 0. 0. 0. 0. 0.]\n",
      "[0. 0. 0. 0. 0. 0. 0. 0. 0. 1.]\n",
      "[0. 0. 1. 0. 0. 0. 0. 0. 0. 0.]\n",
      "[0. 1. 0. 0. 0. 0. 0. 0. 0. 0.]\n",
      "[0. 0. 0. 1. 0. 0. 0. 0. 0. 0.]\n",
      "[0. 1. 0. 0. 0. 0. 0. 0. 0. 0.]\n",
      "[0. 0. 0. 0. 1. 0. 0. 0. 0. 0.]\n"
     ]
    }
   ],
   "source": [
    "for idx in range(10) :\n",
    "    print(y_train[idx])"
   ]
  },
  {
   "cell_type": "code",
   "execution_count": 161,
   "metadata": {},
   "outputs": [],
   "source": [
    "x_train = x_train.reshape(60000, 784)\n",
    "x_test  = x_test.reshape (10000, 784)"
   ]
  },
  {
   "cell_type": "code",
   "execution_count": 162,
   "metadata": {},
   "outputs": [
    {
     "data": {
      "text/plain": [
       "((60000, 784), (60000, 10), (10000, 784), (10000, 10))"
      ]
     },
     "execution_count": 162,
     "metadata": {},
     "output_type": "execute_result"
    }
   ],
   "source": [
    "x_train.shape, y_train.shape, x_test.shape, y_test.shape"
   ]
  },
  {
   "cell_type": "code",
   "execution_count": 163,
   "metadata": {},
   "outputs": [],
   "source": [
    "### 모델만들기"
   ]
  },
  {
   "cell_type": "code",
   "execution_count": 164,
   "metadata": {},
   "outputs": [],
   "source": [
    "model = keras.Sequential()\n",
    "\n",
    "model.add( keras.layers.Dense(256, activation='sigmoid',input_shape=(784, ), name='input' ) )\n",
    "\n",
    "model.add( keras.layers.Dense(128, activation='sigmoid', name='hidden1' ) )\n",
    "model.add( keras.layers.Dense(64, activation='sigmoid', name='hidden2' ) )\n",
    "model.add( keras.layers.Dense(32, activation='sigmoid', name='hidden3' ) )\n",
    "\n",
    "# 넬루 \n",
    "#\n",
    "#\n",
    "\n",
    "\n",
    "model.add( keras.layers.Dense(10, activation='softmax', name='output' ) )"
   ]
  },
  {
   "cell_type": "code",
   "execution_count": 165,
   "metadata": {},
   "outputs": [
    {
     "name": "stdout",
     "output_type": "stream",
     "text": [
      "Model: \"sequential_4\"\n",
      "_________________________________________________________________\n",
      "Layer (type)                 Output Shape              Param #   \n",
      "=================================================================\n",
      "input (Dense)                (None, 256)               200960    \n",
      "_________________________________________________________________\n",
      "hidden1 (Dense)              (None, 128)               32896     \n",
      "_________________________________________________________________\n",
      "hidden2 (Dense)              (None, 64)                8256      \n",
      "_________________________________________________________________\n",
      "hidden3 (Dense)              (None, 32)                2080      \n",
      "_________________________________________________________________\n",
      "output (Dense)               (None, 10)                330       \n",
      "=================================================================\n",
      "Total params: 244,522\n",
      "Trainable params: 244,522\n",
      "Non-trainable params: 0\n",
      "_________________________________________________________________\n"
     ]
    }
   ],
   "source": [
    "model.summary()"
   ]
  },
  {
   "cell_type": "markdown",
   "metadata": {},
   "source": [
    "#### 모델컴파인"
   ]
  },
  {
   "cell_type": "code",
   "execution_count": 166,
   "metadata": {},
   "outputs": [
    {
     "name": "stdout",
     "output_type": "stream",
     "text": [
      "Model: \"sequential_4\"\n",
      "_________________________________________________________________\n",
      "Layer (type)                 Output Shape              Param #   \n",
      "=================================================================\n",
      "input (Dense)                (None, 256)               200960    \n",
      "_________________________________________________________________\n",
      "hidden1 (Dense)              (None, 128)               32896     \n",
      "_________________________________________________________________\n",
      "hidden2 (Dense)              (None, 64)                8256      \n",
      "_________________________________________________________________\n",
      "hidden3 (Dense)              (None, 32)                2080      \n",
      "_________________________________________________________________\n",
      "output (Dense)               (None, 10)                330       \n",
      "=================================================================\n",
      "Total params: 244,522\n",
      "Trainable params: 244,522\n",
      "Non-trainable params: 0\n",
      "_________________________________________________________________\n"
     ]
    }
   ],
   "source": [
    "optimizer = keras.optimizers.SGD(learning_rate = 0.01)\n",
    "model.compile(optimizer = optimizer,\n",
    "             loss = 'categorical_crossentropy',\n",
    "             metrics = ['accuracy'])\n",
    "model.summary()"
   ]
  },
  {
   "cell_type": "markdown",
   "metadata": {},
   "source": [
    "#### 학습"
   ]
  },
  {
   "cell_type": "code",
   "execution_count": 168,
   "metadata": {},
   "outputs": [
    {
     "name": "stdout",
     "output_type": "stream",
     "text": [
      "Epoch 1/200\n",
      "469/469 [==============================] - 2s 5ms/step - loss: 2.0377 - accuracy: 0.5080 - val_loss: 1.9793 - val_accuracy: 0.5208\n",
      "Epoch 2/200\n",
      "469/469 [==============================] - 2s 4ms/step - loss: 1.9331 - accuracy: 0.5296 - val_loss: 1.8670 - val_accuracy: 0.5430\n",
      "Epoch 3/200\n",
      "469/469 [==============================] - 2s 4ms/step - loss: 1.8160 - accuracy: 0.5580 - val_loss: 1.7418 - val_accuracy: 0.5734\n",
      "Epoch 4/200\n",
      "469/469 [==============================] - 2s 4ms/step - loss: 1.6836 - accuracy: 0.5943 - val_loss: 1.6031 - val_accuracy: 0.6046\n",
      "Epoch 5/200\n",
      "469/469 [==============================] - 2s 4ms/step - loss: 1.5397 - accuracy: 0.6303 - val_loss: 1.4587 - val_accuracy: 0.6587\n",
      "Epoch 6/200\n",
      "469/469 [==============================] - 2s 4ms/step - loss: 1.3976 - accuracy: 0.6673 - val_loss: 1.3226 - val_accuracy: 0.6854\n",
      "Epoch 7/200\n",
      "469/469 [==============================] - 2s 4ms/step - loss: 1.2671 - accuracy: 0.6938 - val_loss: 1.2005 - val_accuracy: 0.7105\n",
      "Epoch 8/200\n",
      "469/469 [==============================] - 2s 4ms/step - loss: 1.1517 - accuracy: 0.7164 - val_loss: 1.0948 - val_accuracy: 0.7320\n",
      "Epoch 9/200\n",
      "469/469 [==============================] - 2s 4ms/step - loss: 1.0535 - accuracy: 0.7390 - val_loss: 1.0054 - val_accuracy: 0.7520\n",
      "Epoch 10/200\n",
      "469/469 [==============================] - 2s 4ms/step - loss: 0.9693 - accuracy: 0.7625 - val_loss: 0.9275 - val_accuracy: 0.7744\n",
      "Epoch 11/200\n",
      "469/469 [==============================] - 2s 5ms/step - loss: 0.8969 - accuracy: 0.7829 - val_loss: 0.8613 - val_accuracy: 0.7965\n",
      "Epoch 12/200\n",
      "469/469 [==============================] - 2s 5ms/step - loss: 0.8328 - accuracy: 0.8005 - val_loss: 0.8026 - val_accuracy: 0.8123\n",
      "Epoch 13/200\n",
      "469/469 [==============================] - 2s 4ms/step - loss: 0.7772 - accuracy: 0.8163 - val_loss: 0.7526 - val_accuracy: 0.8257\n",
      "Epoch 14/200\n",
      "469/469 [==============================] - 2s 4ms/step - loss: 0.7281 - accuracy: 0.8313 - val_loss: 0.7073 - val_accuracy: 0.8376\n",
      "Epoch 15/200\n",
      "469/469 [==============================] - 2s 4ms/step - loss: 0.6848 - accuracy: 0.8426 - val_loss: 0.6669 - val_accuracy: 0.8517\n",
      "Epoch 16/200\n",
      "469/469 [==============================] - 2s 4ms/step - loss: 0.6457 - accuracy: 0.8557 - val_loss: 0.6333 - val_accuracy: 0.8620\n",
      "Epoch 17/200\n",
      "469/469 [==============================] - 2s 5ms/step - loss: 0.6108 - accuracy: 0.8658 - val_loss: 0.5999 - val_accuracy: 0.8718\n",
      "Epoch 18/200\n",
      "469/469 [==============================] - 2s 4ms/step - loss: 0.5781 - accuracy: 0.8746 - val_loss: 0.5703 - val_accuracy: 0.8787\n",
      "Epoch 19/200\n",
      "469/469 [==============================] - 2s 4ms/step - loss: 0.5493 - accuracy: 0.8830 - val_loss: 0.5475 - val_accuracy: 0.8854\n",
      "Epoch 20/200\n",
      "469/469 [==============================] - 2s 5ms/step - loss: 0.5219 - accuracy: 0.8905 - val_loss: 0.5224 - val_accuracy: 0.8914\n",
      "Epoch 21/200\n",
      "469/469 [==============================] - 2s 5ms/step - loss: 0.4975 - accuracy: 0.8970 - val_loss: 0.5030 - val_accuracy: 0.8949\n",
      "Epoch 22/200\n",
      "469/469 [==============================] - 2s 4ms/step - loss: 0.4734 - accuracy: 0.9024 - val_loss: 0.4793 - val_accuracy: 0.8991\n",
      "Epoch 23/200\n",
      "469/469 [==============================] - 2s 4ms/step - loss: 0.4524 - accuracy: 0.9081 - val_loss: 0.4627 - val_accuracy: 0.9027\n",
      "Epoch 24/200\n",
      "469/469 [==============================] - 2s 4ms/step - loss: 0.4329 - accuracy: 0.9121 - val_loss: 0.4455 - val_accuracy: 0.9064\n",
      "Epoch 25/200\n",
      "469/469 [==============================] - 2s 4ms/step - loss: 0.4140 - accuracy: 0.9157 - val_loss: 0.4269 - val_accuracy: 0.9096\n",
      "Epoch 26/200\n",
      "469/469 [==============================] - 2s 4ms/step - loss: 0.3972 - accuracy: 0.9190 - val_loss: 0.4131 - val_accuracy: 0.9116\n",
      "Epoch 27/200\n",
      "469/469 [==============================] - 2s 4ms/step - loss: 0.3802 - accuracy: 0.9222 - val_loss: 0.3997 - val_accuracy: 0.9147\n",
      "Epoch 28/200\n",
      "469/469 [==============================] - 2s 4ms/step - loss: 0.3637 - accuracy: 0.9268 - val_loss: 0.3831 - val_accuracy: 0.9191\n",
      "Epoch 29/200\n",
      "469/469 [==============================] - 2s 4ms/step - loss: 0.3494 - accuracy: 0.9292 - val_loss: 0.3697 - val_accuracy: 0.9192\n",
      "Epoch 30/200\n",
      "469/469 [==============================] - 2s 4ms/step - loss: 0.3369 - accuracy: 0.9315 - val_loss: 0.3616 - val_accuracy: 0.9244\n",
      "Epoch 31/200\n",
      "469/469 [==============================] - 2s 4ms/step - loss: 0.3220 - accuracy: 0.9347 - val_loss: 0.3480 - val_accuracy: 0.9254\n",
      "Epoch 32/200\n",
      "469/469 [==============================] - 2s 4ms/step - loss: 0.3093 - accuracy: 0.9369 - val_loss: 0.3398 - val_accuracy: 0.9231\n",
      "Epoch 33/200\n",
      "469/469 [==============================] - 2s 4ms/step - loss: 0.2993 - accuracy: 0.9390 - val_loss: 0.3309 - val_accuracy: 0.9271\n",
      "Epoch 34/200\n",
      "469/469 [==============================] - 2s 4ms/step - loss: 0.2892 - accuracy: 0.9401 - val_loss: 0.3195 - val_accuracy: 0.9276\n",
      "Epoch 35/200\n",
      "469/469 [==============================] - 2s 4ms/step - loss: 0.2771 - accuracy: 0.9428 - val_loss: 0.3113 - val_accuracy: 0.9281\n",
      "Epoch 36/200\n",
      "469/469 [==============================] - 2s 4ms/step - loss: 0.2691 - accuracy: 0.9446 - val_loss: 0.3060 - val_accuracy: 0.9329\n",
      "Epoch 37/200\n",
      "469/469 [==============================] - 2s 4ms/step - loss: 0.2586 - accuracy: 0.9463 - val_loss: 0.2981 - val_accuracy: 0.9285\n",
      "Epoch 38/200\n",
      "469/469 [==============================] - 2s 4ms/step - loss: 0.2512 - accuracy: 0.9474 - val_loss: 0.2908 - val_accuracy: 0.9337\n",
      "Epoch 39/200\n",
      "469/469 [==============================] - 2s 4ms/step - loss: 0.2424 - accuracy: 0.9492 - val_loss: 0.2827 - val_accuracy: 0.9355\n",
      "Epoch 40/200\n",
      "469/469 [==============================] - 2s 5ms/step - loss: 0.2355 - accuracy: 0.9500 - val_loss: 0.2775 - val_accuracy: 0.9364\n",
      "Epoch 41/200\n",
      "469/469 [==============================] - 2s 4ms/step - loss: 0.2273 - accuracy: 0.9518 - val_loss: 0.2720 - val_accuracy: 0.9366\n",
      "Epoch 42/200\n",
      "469/469 [==============================] - 2s 4ms/step - loss: 0.2226 - accuracy: 0.9527 - val_loss: 0.2701 - val_accuracy: 0.9363\n",
      "Epoch 43/200\n",
      "469/469 [==============================] - 2s 4ms/step - loss: 0.2151 - accuracy: 0.9542 - val_loss: 0.2624 - val_accuracy: 0.9376\n",
      "Epoch 44/200\n",
      "469/469 [==============================] - 2s 4ms/step - loss: 0.2111 - accuracy: 0.9548 - val_loss: 0.2568 - val_accuracy: 0.9371\n",
      "Epoch 45/200\n",
      "469/469 [==============================] - 2s 4ms/step - loss: 0.2047 - accuracy: 0.9561 - val_loss: 0.2487 - val_accuracy: 0.9405\n",
      "Epoch 46/200\n",
      "469/469 [==============================] - 2s 4ms/step - loss: 0.1991 - accuracy: 0.9567 - val_loss: 0.2543 - val_accuracy: 0.9391\n",
      "Epoch 47/200\n",
      "469/469 [==============================] - 2s 4ms/step - loss: 0.1949 - accuracy: 0.9575 - val_loss: 0.2492 - val_accuracy: 0.9406\n",
      "Epoch 48/200\n",
      "469/469 [==============================] - 2s 4ms/step - loss: 0.1883 - accuracy: 0.9596 - val_loss: 0.2397 - val_accuracy: 0.9407\n",
      "Epoch 49/200\n",
      "469/469 [==============================] - 2s 4ms/step - loss: 0.1834 - accuracy: 0.9603 - val_loss: 0.2313 - val_accuracy: 0.9440\n",
      "Epoch 50/200\n",
      "469/469 [==============================] - 2s 4ms/step - loss: 0.1772 - accuracy: 0.9610 - val_loss: 0.2280 - val_accuracy: 0.9435\n",
      "Epoch 51/200\n",
      "469/469 [==============================] - 2s 4ms/step - loss: 0.1737 - accuracy: 0.9620 - val_loss: 0.2241 - val_accuracy: 0.9451\n",
      "Epoch 52/200\n",
      "469/469 [==============================] - 2s 4ms/step - loss: 0.1696 - accuracy: 0.9628 - val_loss: 0.2261 - val_accuracy: 0.9438\n",
      "Epoch 53/200\n",
      "469/469 [==============================] - 2s 4ms/step - loss: 0.1675 - accuracy: 0.9632 - val_loss: 0.2291 - val_accuracy: 0.9443\n",
      "Epoch 54/200\n",
      "469/469 [==============================] - 2s 4ms/step - loss: 0.1654 - accuracy: 0.9626 - val_loss: 0.2238 - val_accuracy: 0.9437\n",
      "Epoch 55/200\n",
      "469/469 [==============================] - 2s 4ms/step - loss: 0.1608 - accuracy: 0.9644 - val_loss: 0.2163 - val_accuracy: 0.9453\n",
      "Epoch 56/200\n",
      "469/469 [==============================] - 2s 4ms/step - loss: 0.1587 - accuracy: 0.9642 - val_loss: 0.2176 - val_accuracy: 0.9460\n",
      "Epoch 57/200\n",
      "469/469 [==============================] - 2s 4ms/step - loss: 0.1564 - accuracy: 0.9656 - val_loss: 0.2141 - val_accuracy: 0.9475\n"
     ]
    },
    {
     "name": "stdout",
     "output_type": "stream",
     "text": [
      "Epoch 58/200\n",
      "469/469 [==============================] - 2s 4ms/step - loss: 0.1522 - accuracy: 0.9660 - val_loss: 0.2093 - val_accuracy: 0.9478\n",
      "Epoch 59/200\n",
      "469/469 [==============================] - 2s 4ms/step - loss: 0.1488 - accuracy: 0.9669 - val_loss: 0.2093 - val_accuracy: 0.9490\n",
      "Epoch 60/200\n",
      "469/469 [==============================] - 2s 4ms/step - loss: 0.1471 - accuracy: 0.9672 - val_loss: 0.2065 - val_accuracy: 0.9470\n",
      "Epoch 61/200\n",
      "469/469 [==============================] - 2s 4ms/step - loss: 0.1436 - accuracy: 0.9678 - val_loss: 0.2070 - val_accuracy: 0.9486\n",
      "Epoch 62/200\n",
      "469/469 [==============================] - 2s 4ms/step - loss: 0.1384 - accuracy: 0.9686 - val_loss: 0.2058 - val_accuracy: 0.9476\n",
      "Epoch 63/200\n",
      "469/469 [==============================] - 2s 4ms/step - loss: 0.1364 - accuracy: 0.9698 - val_loss: 0.1986 - val_accuracy: 0.9511\n",
      "Epoch 64/200\n",
      "469/469 [==============================] - 2s 4ms/step - loss: 0.1331 - accuracy: 0.9700 - val_loss: 0.1979 - val_accuracy: 0.9470\n",
      "Epoch 65/200\n",
      "469/469 [==============================] - 2s 4ms/step - loss: 0.1305 - accuracy: 0.9710 - val_loss: 0.1987 - val_accuracy: 0.9505\n",
      "Epoch 66/200\n",
      "469/469 [==============================] - 2s 4ms/step - loss: 0.1301 - accuracy: 0.9707 - val_loss: 0.1966 - val_accuracy: 0.9471\n",
      "Epoch 67/200\n",
      "469/469 [==============================] - 2s 4ms/step - loss: 0.1289 - accuracy: 0.9706 - val_loss: 0.1930 - val_accuracy: 0.9502\n",
      "Epoch 68/200\n",
      "469/469 [==============================] - 2s 4ms/step - loss: 0.1253 - accuracy: 0.9715 - val_loss: 0.1931 - val_accuracy: 0.9506\n",
      "Epoch 69/200\n",
      "469/469 [==============================] - 2s 4ms/step - loss: 0.1232 - accuracy: 0.9718 - val_loss: 0.1965 - val_accuracy: 0.9489\n",
      "Epoch 70/200\n",
      "469/469 [==============================] - 2s 4ms/step - loss: 0.1190 - accuracy: 0.9724 - val_loss: 0.1908 - val_accuracy: 0.9504\n",
      "Epoch 71/200\n",
      "469/469 [==============================] - 2s 4ms/step - loss: 0.1163 - accuracy: 0.9742 - val_loss: 0.1909 - val_accuracy: 0.9498\n",
      "Epoch 72/200\n",
      "469/469 [==============================] - 2s 4ms/step - loss: 0.1150 - accuracy: 0.9743 - val_loss: 0.1885 - val_accuracy: 0.9506\n",
      "Epoch 73/200\n",
      "469/469 [==============================] - 2s 4ms/step - loss: 0.1113 - accuracy: 0.9753 - val_loss: 0.1837 - val_accuracy: 0.9511\n",
      "Epoch 74/200\n",
      "469/469 [==============================] - 2s 4ms/step - loss: 0.1109 - accuracy: 0.9747 - val_loss: 0.1853 - val_accuracy: 0.9528\n",
      "Epoch 75/200\n",
      "469/469 [==============================] - 2s 4ms/step - loss: 0.1124 - accuracy: 0.9738 - val_loss: 0.1849 - val_accuracy: 0.9514\n",
      "Epoch 76/200\n",
      "469/469 [==============================] - 2s 4ms/step - loss: 0.1096 - accuracy: 0.9753 - val_loss: 0.1816 - val_accuracy: 0.9534\n",
      "Epoch 77/200\n",
      "469/469 [==============================] - 2s 5ms/step - loss: 0.1096 - accuracy: 0.9749 - val_loss: 0.1873 - val_accuracy: 0.9513\n",
      "Epoch 78/200\n",
      "469/469 [==============================] - 2s 4ms/step - loss: 0.1082 - accuracy: 0.9751 - val_loss: 0.1834 - val_accuracy: 0.9534\n",
      "Epoch 79/200\n",
      "469/469 [==============================] - 2s 4ms/step - loss: 0.1051 - accuracy: 0.9759 - val_loss: 0.1833 - val_accuracy: 0.9504\n",
      "Epoch 80/200\n",
      "469/469 [==============================] - 2s 4ms/step - loss: 0.1041 - accuracy: 0.9761 - val_loss: 0.1800 - val_accuracy: 0.9525\n",
      "Epoch 81/200\n",
      "469/469 [==============================] - 2s 5ms/step - loss: 0.1018 - accuracy: 0.9768 - val_loss: 0.1768 - val_accuracy: 0.9538\n",
      "Epoch 82/200\n",
      "469/469 [==============================] - 2s 5ms/step - loss: 0.1005 - accuracy: 0.9766 - val_loss: 0.1800 - val_accuracy: 0.9505\n",
      "Epoch 83/200\n",
      "469/469 [==============================] - 2s 4ms/step - loss: 0.0998 - accuracy: 0.9773 - val_loss: 0.1780 - val_accuracy: 0.9537\n",
      "Epoch 84/200\n",
      "469/469 [==============================] - 2s 4ms/step - loss: 0.0957 - accuracy: 0.9779 - val_loss: 0.1728 - val_accuracy: 0.9533\n",
      "Epoch 85/200\n",
      "469/469 [==============================] - 2s 4ms/step - loss: 0.0933 - accuracy: 0.9795 - val_loss: 0.1692 - val_accuracy: 0.9567\n",
      "Epoch 86/200\n",
      "469/469 [==============================] - 2s 4ms/step - loss: 0.0920 - accuracy: 0.9793 - val_loss: 0.1738 - val_accuracy: 0.9536\n",
      "Epoch 87/200\n",
      "469/469 [==============================] - 2s 4ms/step - loss: 0.0912 - accuracy: 0.9793 - val_loss: 0.1689 - val_accuracy: 0.9557\n",
      "Epoch 88/200\n",
      "469/469 [==============================] - 2s 4ms/step - loss: 0.0900 - accuracy: 0.9799 - val_loss: 0.1747 - val_accuracy: 0.9546\n",
      "Epoch 89/200\n",
      "469/469 [==============================] - 2s 4ms/step - loss: 0.0886 - accuracy: 0.9808 - val_loss: 0.1743 - val_accuracy: 0.9554\n",
      "Epoch 90/200\n",
      "469/469 [==============================] - 2s 4ms/step - loss: 0.0874 - accuracy: 0.9794 - val_loss: 0.1697 - val_accuracy: 0.9566\n",
      "Epoch 91/200\n",
      "469/469 [==============================] - 2s 4ms/step - loss: 0.0880 - accuracy: 0.9799 - val_loss: 0.1687 - val_accuracy: 0.9557\n",
      "Epoch 92/200\n",
      "469/469 [==============================] - 2s 4ms/step - loss: 0.0851 - accuracy: 0.9808 - val_loss: 0.1722 - val_accuracy: 0.9551\n",
      "Epoch 93/200\n",
      "469/469 [==============================] - 2s 4ms/step - loss: 0.0832 - accuracy: 0.9818 - val_loss: 0.1723 - val_accuracy: 0.9538\n",
      "Epoch 94/200\n",
      "469/469 [==============================] - 2s 4ms/step - loss: 0.0833 - accuracy: 0.9809 - val_loss: 0.1702 - val_accuracy: 0.9539\n",
      "Epoch 95/200\n",
      "469/469 [==============================] - 2s 4ms/step - loss: 0.0796 - accuracy: 0.9824 - val_loss: 0.1696 - val_accuracy: 0.9553\n",
      "Epoch 96/200\n",
      "469/469 [==============================] - 2s 4ms/step - loss: 0.0796 - accuracy: 0.9824 - val_loss: 0.1726 - val_accuracy: 0.9551\n",
      "Epoch 97/200\n",
      "469/469 [==============================] - 2s 4ms/step - loss: 0.0793 - accuracy: 0.9820 - val_loss: 0.1726 - val_accuracy: 0.9538\n",
      "Epoch 98/200\n",
      "469/469 [==============================] - 2s 4ms/step - loss: 0.0780 - accuracy: 0.9826 - val_loss: 0.1696 - val_accuracy: 0.9564\n",
      "Epoch 99/200\n",
      "469/469 [==============================] - 2s 4ms/step - loss: 0.0737 - accuracy: 0.9840 - val_loss: 0.1629 - val_accuracy: 0.9558\n",
      "Epoch 100/200\n",
      "469/469 [==============================] - 2s 4ms/step - loss: 0.0742 - accuracy: 0.9836 - val_loss: 0.1688 - val_accuracy: 0.9555\n",
      "Epoch 101/200\n",
      "469/469 [==============================] - 2s 4ms/step - loss: 0.0744 - accuracy: 0.9833 - val_loss: 0.1727 - val_accuracy: 0.9553\n",
      "Epoch 102/200\n",
      "469/469 [==============================] - 2s 4ms/step - loss: 0.0731 - accuracy: 0.9834 - val_loss: 0.1708 - val_accuracy: 0.9532\n",
      "Epoch 103/200\n",
      "469/469 [==============================] - 2s 4ms/step - loss: 0.0745 - accuracy: 0.9836 - val_loss: 0.1700 - val_accuracy: 0.9558\n",
      "Epoch 104/200\n",
      "469/469 [==============================] - 2s 4ms/step - loss: 0.0707 - accuracy: 0.9842 - val_loss: 0.1655 - val_accuracy: 0.9556\n",
      "Epoch 105/200\n",
      "469/469 [==============================] - 2s 4ms/step - loss: 0.0677 - accuracy: 0.9852 - val_loss: 0.1653 - val_accuracy: 0.9545\n",
      "Epoch 106/200\n",
      "469/469 [==============================] - 2s 4ms/step - loss: 0.0655 - accuracy: 0.9856 - val_loss: 0.1632 - val_accuracy: 0.9554\n",
      "Epoch 107/200\n",
      "469/469 [==============================] - 2s 4ms/step - loss: 0.0645 - accuracy: 0.9862 - val_loss: 0.1645 - val_accuracy: 0.9563\n",
      "Epoch 108/200\n",
      "469/469 [==============================] - 2s 4ms/step - loss: 0.0652 - accuracy: 0.9859 - val_loss: 0.1633 - val_accuracy: 0.9554\n",
      "Epoch 109/200\n",
      "469/469 [==============================] - 2s 4ms/step - loss: 0.0653 - accuracy: 0.9858 - val_loss: 0.1606 - val_accuracy: 0.9559\n",
      "Epoch 110/200\n",
      "469/469 [==============================] - 2s 4ms/step - loss: 0.0647 - accuracy: 0.9855 - val_loss: 0.1604 - val_accuracy: 0.9574\n",
      "Epoch 111/200\n",
      "469/469 [==============================] - 2s 4ms/step - loss: 0.0633 - accuracy: 0.9867 - val_loss: 0.1641 - val_accuracy: 0.9580\n",
      "Epoch 112/200\n",
      "469/469 [==============================] - 2s 4ms/step - loss: 0.0649 - accuracy: 0.9855 - val_loss: 0.1624 - val_accuracy: 0.9572\n",
      "Epoch 113/200\n",
      "469/469 [==============================] - 2s 4ms/step - loss: 0.0623 - accuracy: 0.9861 - val_loss: 0.1658 - val_accuracy: 0.9556\n",
      "Epoch 114/200\n",
      "469/469 [==============================] - 2s 4ms/step - loss: 0.0642 - accuracy: 0.9850 - val_loss: 0.1623 - val_accuracy: 0.9586\n"
     ]
    },
    {
     "name": "stdout",
     "output_type": "stream",
     "text": [
      "Epoch 115/200\n",
      "469/469 [==============================] - 2s 4ms/step - loss: 0.0589 - accuracy: 0.9876 - val_loss: 0.1648 - val_accuracy: 0.9551\n",
      "Epoch 116/200\n",
      "469/469 [==============================] - 2s 4ms/step - loss: 0.0599 - accuracy: 0.9871 - val_loss: 0.1616 - val_accuracy: 0.9576\n",
      "Epoch 117/200\n",
      "469/469 [==============================] - 2s 4ms/step - loss: 0.0599 - accuracy: 0.9868 - val_loss: 0.1609 - val_accuracy: 0.9556\n",
      "Epoch 118/200\n",
      "469/469 [==============================] - 2s 4ms/step - loss: 0.0587 - accuracy: 0.9873 - val_loss: 0.1644 - val_accuracy: 0.9570\n",
      "Epoch 119/200\n",
      "469/469 [==============================] - 2s 4ms/step - loss: 0.0586 - accuracy: 0.9873 - val_loss: 0.1646 - val_accuracy: 0.9561\n",
      "Epoch 120/200\n",
      "469/469 [==============================] - 2s 4ms/step - loss: 0.0568 - accuracy: 0.9879 - val_loss: 0.1585 - val_accuracy: 0.9572\n",
      "Epoch 121/200\n",
      "469/469 [==============================] - 2s 4ms/step - loss: 0.0540 - accuracy: 0.9890 - val_loss: 0.1616 - val_accuracy: 0.9556\n",
      "Epoch 122/200\n",
      "469/469 [==============================] - 2s 4ms/step - loss: 0.0556 - accuracy: 0.9880 - val_loss: 0.1605 - val_accuracy: 0.9565\n",
      "Epoch 123/200\n",
      "469/469 [==============================] - 2s 4ms/step - loss: 0.0555 - accuracy: 0.9884 - val_loss: 0.1635 - val_accuracy: 0.9565\n",
      "Epoch 124/200\n",
      "469/469 [==============================] - 2s 4ms/step - loss: 0.0552 - accuracy: 0.9875 - val_loss: 0.1621 - val_accuracy: 0.9558\n",
      "Epoch 125/200\n",
      "469/469 [==============================] - 2s 4ms/step - loss: 0.0558 - accuracy: 0.9872 - val_loss: 0.1561 - val_accuracy: 0.9587\n",
      "Epoch 126/200\n",
      "469/469 [==============================] - 2s 4ms/step - loss: 0.0533 - accuracy: 0.9885 - val_loss: 0.1587 - val_accuracy: 0.9562\n",
      "Epoch 127/200\n",
      "469/469 [==============================] - 2s 4ms/step - loss: 0.0511 - accuracy: 0.9894 - val_loss: 0.1595 - val_accuracy: 0.9581\n",
      "Epoch 128/200\n",
      "469/469 [==============================] - 2s 4ms/step - loss: 0.0516 - accuracy: 0.9895 - val_loss: 0.1549 - val_accuracy: 0.9581\n",
      "Epoch 129/200\n",
      "469/469 [==============================] - 2s 4ms/step - loss: 0.0526 - accuracy: 0.9883 - val_loss: 0.1539 - val_accuracy: 0.9583\n",
      "Epoch 130/200\n",
      "469/469 [==============================] - 2s 4ms/step - loss: 0.0497 - accuracy: 0.9893 - val_loss: 0.1602 - val_accuracy: 0.9571\n",
      "Epoch 131/200\n",
      "469/469 [==============================] - 2s 4ms/step - loss: 0.0498 - accuracy: 0.9891 - val_loss: 0.1596 - val_accuracy: 0.9573\n",
      "Epoch 132/200\n",
      "469/469 [==============================] - 2s 4ms/step - loss: 0.0537 - accuracy: 0.9873 - val_loss: 0.1591 - val_accuracy: 0.9583\n",
      "Epoch 133/200\n",
      "469/469 [==============================] - 2s 4ms/step - loss: 0.0513 - accuracy: 0.9883 - val_loss: 0.1559 - val_accuracy: 0.9586\n",
      "Epoch 134/200\n",
      "469/469 [==============================] - 2s 4ms/step - loss: 0.0489 - accuracy: 0.9897 - val_loss: 0.1602 - val_accuracy: 0.9585\n",
      "Epoch 135/200\n",
      "469/469 [==============================] - 2s 4ms/step - loss: 0.0455 - accuracy: 0.9907 - val_loss: 0.1559 - val_accuracy: 0.9584\n",
      "Epoch 136/200\n",
      "469/469 [==============================] - 2s 4ms/step - loss: 0.0426 - accuracy: 0.9915 - val_loss: 0.1539 - val_accuracy: 0.9593\n",
      "Epoch 137/200\n",
      "469/469 [==============================] - 2s 4ms/step - loss: 0.0412 - accuracy: 0.9923 - val_loss: 0.1562 - val_accuracy: 0.9581\n",
      "Epoch 138/200\n",
      "469/469 [==============================] - 2s 4ms/step - loss: 0.0402 - accuracy: 0.9925 - val_loss: 0.1536 - val_accuracy: 0.9594\n",
      "Epoch 139/200\n",
      "469/469 [==============================] - 2s 4ms/step - loss: 0.0388 - accuracy: 0.9930 - val_loss: 0.1548 - val_accuracy: 0.9576\n",
      "Epoch 140/200\n",
      "469/469 [==============================] - 2s 4ms/step - loss: 0.0396 - accuracy: 0.9923 - val_loss: 0.1565 - val_accuracy: 0.9581\n",
      "Epoch 141/200\n",
      "469/469 [==============================] - 2s 4ms/step - loss: 0.0367 - accuracy: 0.9939 - val_loss: 0.1544 - val_accuracy: 0.9577\n",
      "Epoch 142/200\n",
      "469/469 [==============================] - 2s 4ms/step - loss: 0.0354 - accuracy: 0.9941 - val_loss: 0.1562 - val_accuracy: 0.9587\n",
      "Epoch 143/200\n",
      "469/469 [==============================] - 2s 4ms/step - loss: 0.0364 - accuracy: 0.9935 - val_loss: 0.1551 - val_accuracy: 0.9587\n",
      "Epoch 144/200\n",
      "469/469 [==============================] - 2s 4ms/step - loss: 0.0370 - accuracy: 0.9934 - val_loss: 0.1548 - val_accuracy: 0.9593\n",
      "Epoch 145/200\n",
      "469/469 [==============================] - 2s 5ms/step - loss: 0.0356 - accuracy: 0.9939 - val_loss: 0.1544 - val_accuracy: 0.9604\n",
      "Epoch 146/200\n",
      "469/469 [==============================] - 2s 5ms/step - loss: 0.0341 - accuracy: 0.9942 - val_loss: 0.1567 - val_accuracy: 0.9591\n",
      "Epoch 147/200\n",
      "469/469 [==============================] - 2s 4ms/step - loss: 0.0321 - accuracy: 0.9948 - val_loss: 0.1536 - val_accuracy: 0.9595\n",
      "Epoch 148/200\n",
      "469/469 [==============================] - 2s 4ms/step - loss: 0.0329 - accuracy: 0.9947 - val_loss: 0.1550 - val_accuracy: 0.9596\n",
      "Epoch 149/200\n",
      "469/469 [==============================] - 2s 4ms/step - loss: 0.0306 - accuracy: 0.9955 - val_loss: 0.1496 - val_accuracy: 0.9615\n",
      "Epoch 150/200\n",
      "469/469 [==============================] - 2s 4ms/step - loss: 0.0291 - accuracy: 0.9959 - val_loss: 0.1559 - val_accuracy: 0.9586\n",
      "Epoch 151/200\n",
      "469/469 [==============================] - 2s 4ms/step - loss: 0.0288 - accuracy: 0.9959 - val_loss: 0.1574 - val_accuracy: 0.9584\n",
      "Epoch 152/200\n",
      "469/469 [==============================] - 2s 4ms/step - loss: 0.0276 - accuracy: 0.9963 - val_loss: 0.1516 - val_accuracy: 0.9596\n",
      "Epoch 153/200\n",
      "469/469 [==============================] - 2s 4ms/step - loss: 0.0259 - accuracy: 0.9965 - val_loss: 0.1529 - val_accuracy: 0.9600\n",
      "Epoch 154/200\n",
      "469/469 [==============================] - 2s 4ms/step - loss: 0.0243 - accuracy: 0.9972 - val_loss: 0.1530 - val_accuracy: 0.9599\n",
      "Epoch 155/200\n",
      "469/469 [==============================] - 2s 4ms/step - loss: 0.0231 - accuracy: 0.9974 - val_loss: 0.1506 - val_accuracy: 0.9607\n",
      "Epoch 156/200\n",
      "469/469 [==============================] - 2s 4ms/step - loss: 0.0219 - accuracy: 0.9974 - val_loss: 0.1542 - val_accuracy: 0.9597\n",
      "Epoch 157/200\n",
      "469/469 [==============================] - 2s 4ms/step - loss: 0.0211 - accuracy: 0.9979 - val_loss: 0.1528 - val_accuracy: 0.9595\n",
      "Epoch 158/200\n",
      "469/469 [==============================] - 2s 4ms/step - loss: 0.0210 - accuracy: 0.9980 - val_loss: 0.1528 - val_accuracy: 0.9586\n",
      "Epoch 159/200\n",
      "469/469 [==============================] - 2s 4ms/step - loss: 0.0196 - accuracy: 0.9981 - val_loss: 0.1529 - val_accuracy: 0.9602\n",
      "Epoch 160/200\n",
      "469/469 [==============================] - 2s 4ms/step - loss: 0.0185 - accuracy: 0.9983 - val_loss: 0.1532 - val_accuracy: 0.9589\n",
      "Epoch 161/200\n",
      "469/469 [==============================] - 2s 4ms/step - loss: 0.0180 - accuracy: 0.9984 - val_loss: 0.1570 - val_accuracy: 0.9602\n",
      "Epoch 162/200\n",
      "469/469 [==============================] - 2s 4ms/step - loss: 0.0172 - accuracy: 0.9987 - val_loss: 0.1556 - val_accuracy: 0.9612\n",
      "Epoch 163/200\n",
      "469/469 [==============================] - 2s 4ms/step - loss: 0.0164 - accuracy: 0.9987 - val_loss: 0.1549 - val_accuracy: 0.9611\n",
      "Epoch 164/200\n",
      "469/469 [==============================] - 2s 4ms/step - loss: 0.0157 - accuracy: 0.9987 - val_loss: 0.1548 - val_accuracy: 0.9604\n",
      "Epoch 165/200\n",
      "469/469 [==============================] - 2s 4ms/step - loss: 0.0149 - accuracy: 0.9988 - val_loss: 0.1528 - val_accuracy: 0.9612\n",
      "Epoch 166/200\n",
      "469/469 [==============================] - 2s 4ms/step - loss: 0.0142 - accuracy: 0.9990 - val_loss: 0.1523 - val_accuracy: 0.9619\n",
      "Epoch 167/200\n",
      "469/469 [==============================] - 2s 4ms/step - loss: 0.0137 - accuracy: 0.9989 - val_loss: 0.1542 - val_accuracy: 0.9611\n",
      "Epoch 168/200\n",
      "469/469 [==============================] - 2s 4ms/step - loss: 0.0133 - accuracy: 0.9990 - val_loss: 0.1551 - val_accuracy: 0.9598\n",
      "Epoch 169/200\n",
      "469/469 [==============================] - 2s 4ms/step - loss: 0.0129 - accuracy: 0.9990 - val_loss: 0.1551 - val_accuracy: 0.9596\n",
      "Epoch 170/200\n",
      "469/469 [==============================] - 2s 4ms/step - loss: 0.0126 - accuracy: 0.9990 - val_loss: 0.1553 - val_accuracy: 0.9598\n",
      "Epoch 171/200\n"
     ]
    },
    {
     "name": "stdout",
     "output_type": "stream",
     "text": [
      "469/469 [==============================] - 2s 4ms/step - loss: 0.0124 - accuracy: 0.9990 - val_loss: 0.1550 - val_accuracy: 0.9604\n",
      "Epoch 172/200\n",
      "469/469 [==============================] - 2s 4ms/step - loss: 0.0121 - accuracy: 0.9991 - val_loss: 0.1553 - val_accuracy: 0.9592\n",
      "Epoch 173/200\n",
      "469/469 [==============================] - 2s 4ms/step - loss: 0.0119 - accuracy: 0.9990 - val_loss: 0.1560 - val_accuracy: 0.9595\n",
      "Epoch 174/200\n",
      "469/469 [==============================] - 2s 4ms/step - loss: 0.0117 - accuracy: 0.9991 - val_loss: 0.1559 - val_accuracy: 0.9588\n",
      "Epoch 175/200\n",
      "469/469 [==============================] - 2s 4ms/step - loss: 0.0116 - accuracy: 0.9990 - val_loss: 0.1563 - val_accuracy: 0.9591\n",
      "Epoch 176/200\n",
      "469/469 [==============================] - 2s 4ms/step - loss: 0.0113 - accuracy: 0.9991 - val_loss: 0.1563 - val_accuracy: 0.9594\n",
      "Epoch 177/200\n",
      "469/469 [==============================] - 2s 4ms/step - loss: 0.0113 - accuracy: 0.9990 - val_loss: 0.1561 - val_accuracy: 0.9594\n",
      "Epoch 178/200\n",
      "469/469 [==============================] - 2s 4ms/step - loss: 0.0112 - accuracy: 0.9990 - val_loss: 0.1563 - val_accuracy: 0.9593\n",
      "Epoch 179/200\n",
      "469/469 [==============================] - 2s 4ms/step - loss: 0.0110 - accuracy: 0.9991 - val_loss: 0.1562 - val_accuracy: 0.9593\n",
      "Epoch 180/200\n",
      "469/469 [==============================] - 2s 4ms/step - loss: 0.0109 - accuracy: 0.9991 - val_loss: 0.1566 - val_accuracy: 0.9599\n",
      "Epoch 181/200\n",
      "469/469 [==============================] - 2s 4ms/step - loss: 0.0107 - accuracy: 0.9991 - val_loss: 0.1571 - val_accuracy: 0.9587\n",
      "Epoch 182/200\n",
      "469/469 [==============================] - 2s 4ms/step - loss: 0.0106 - accuracy: 0.9991 - val_loss: 0.1572 - val_accuracy: 0.9590\n",
      "Epoch 183/200\n",
      "469/469 [==============================] - 2s 5ms/step - loss: 0.0105 - accuracy: 0.9991 - val_loss: 0.1573 - val_accuracy: 0.9597\n",
      "Epoch 184/200\n",
      "469/469 [==============================] - 2s 4ms/step - loss: 0.0104 - accuracy: 0.9991 - val_loss: 0.1579 - val_accuracy: 0.9593\n",
      "Epoch 185/200\n",
      "469/469 [==============================] - 2s 4ms/step - loss: 0.0103 - accuracy: 0.9991 - val_loss: 0.1580 - val_accuracy: 0.9592\n",
      "Epoch 186/200\n",
      "469/469 [==============================] - 2s 4ms/step - loss: 0.0102 - accuracy: 0.9991 - val_loss: 0.1580 - val_accuracy: 0.9592\n",
      "Epoch 187/200\n",
      "469/469 [==============================] - 2s 4ms/step - loss: 0.0101 - accuracy: 0.9991 - val_loss: 0.1584 - val_accuracy: 0.9589\n",
      "Epoch 188/200\n",
      "469/469 [==============================] - 2s 3ms/step - loss: 0.0100 - accuracy: 0.9991 - val_loss: 0.1581 - val_accuracy: 0.9590\n",
      "Epoch 189/200\n",
      "469/469 [==============================] - 2s 3ms/step - loss: 0.0100 - accuracy: 0.9991 - val_loss: 0.1587 - val_accuracy: 0.9592\n",
      "Epoch 190/200\n",
      "469/469 [==============================] - 2s 4ms/step - loss: 0.0099 - accuracy: 0.9991 - val_loss: 0.1588 - val_accuracy: 0.9588\n",
      "Epoch 191/200\n",
      "469/469 [==============================] - 2s 4ms/step - loss: 0.0098 - accuracy: 0.9991 - val_loss: 0.1589 - val_accuracy: 0.9589\n",
      "Epoch 192/200\n",
      "469/469 [==============================] - 2s 4ms/step - loss: 0.0097 - accuracy: 0.9991 - val_loss: 0.1586 - val_accuracy: 0.9590\n",
      "Epoch 193/200\n",
      "469/469 [==============================] - 2s 4ms/step - loss: 0.0096 - accuracy: 0.9991 - val_loss: 0.1589 - val_accuracy: 0.9590\n",
      "Epoch 194/200\n",
      "469/469 [==============================] - 2s 4ms/step - loss: 0.0096 - accuracy: 0.9991 - val_loss: 0.1591 - val_accuracy: 0.9589\n",
      "Epoch 195/200\n",
      "469/469 [==============================] - 2s 4ms/step - loss: 0.0095 - accuracy: 0.9992 - val_loss: 0.1591 - val_accuracy: 0.9589\n",
      "Epoch 196/200\n",
      "469/469 [==============================] - 2s 4ms/step - loss: 0.0094 - accuracy: 0.9992 - val_loss: 0.1595 - val_accuracy: 0.9587\n",
      "Epoch 197/200\n",
      "469/469 [==============================] - 2s 4ms/step - loss: 0.0093 - accuracy: 0.9992 - val_loss: 0.1593 - val_accuracy: 0.9590\n",
      "Epoch 198/200\n",
      "469/469 [==============================] - 2s 4ms/step - loss: 0.0093 - accuracy: 0.9991 - val_loss: 0.1595 - val_accuracy: 0.9587\n",
      "Epoch 199/200\n",
      "469/469 [==============================] - 2s 4ms/step - loss: 0.0092 - accuracy: 0.9992 - val_loss: 0.1595 - val_accuracy: 0.9589\n",
      "Epoch 200/200\n",
      "469/469 [==============================] - 2s 4ms/step - loss: 0.0091 - accuracy: 0.9991 - val_loss: 0.1596 - val_accuracy: 0.9588\n"
     ]
    }
   ],
   "source": [
    "history = model.fit(x_train, y_train, batch_size = 128, epochs = 200, validation_data = (x_test, y_test) )"
   ]
  },
  {
   "cell_type": "markdown",
   "metadata": {},
   "source": [
    "#### 평가"
   ]
  },
  {
   "cell_type": "code",
   "execution_count": 141,
   "metadata": {},
   "outputs": [
    {
     "data": {
      "text/plain": [
       "dict_keys(['loss', 'accuracy', 'val_loss', 'val_accuracy'])"
      ]
     },
     "execution_count": 141,
     "metadata": {},
     "output_type": "execute_result"
    }
   ],
   "source": [
    "history.history.keys()"
   ]
  },
  {
   "cell_type": "code",
   "execution_count": 142,
   "metadata": {},
   "outputs": [
    {
     "name": "stdout",
     "output_type": "stream",
     "text": [
      "313/313 [==============================] - 1s 2ms/step - loss: 0.3024 - accuracy: 0.9263\n"
     ]
    },
    {
     "data": {
      "text/plain": [
       "[0.3024339973926544, 0.9262999892234802]"
      ]
     },
     "execution_count": 142,
     "metadata": {},
     "output_type": "execute_result"
    }
   ],
   "source": [
    "model.evaluate(x_test, y_test)"
   ]
  },
  {
   "cell_type": "code",
   "execution_count": 143,
   "metadata": {},
   "outputs": [
    {
     "ename": "ValueError",
     "evalue": "cannot reshape array of size 32928000 into shape (60000,28,28)",
     "output_type": "error",
     "traceback": [
      "\u001b[1;31m---------------------------------------------------------------------------\u001b[0m",
      "\u001b[1;31mValueError\u001b[0m                                Traceback (most recent call last)",
      "\u001b[1;32m<ipython-input-143-c49afe1f06cd>\u001b[0m in \u001b[0;36m<module>\u001b[1;34m\u001b[0m\n\u001b[0;32m      1\u001b[0m \u001b[1;32mimport\u001b[0m \u001b[0mmatplotlib\u001b[0m\u001b[1;33m.\u001b[0m\u001b[0mpyplot\u001b[0m \u001b[1;32mas\u001b[0m \u001b[0mplt\u001b[0m\u001b[1;33m\u001b[0m\u001b[1;33m\u001b[0m\u001b[0m\n\u001b[0;32m      2\u001b[0m \u001b[1;33m\u001b[0m\u001b[0m\n\u001b[1;32m----> 3\u001b[1;33m \u001b[0mx_train\u001b[0m \u001b[1;33m=\u001b[0m \u001b[0mx_train\u001b[0m\u001b[1;33m.\u001b[0m\u001b[0mreshape\u001b[0m\u001b[1;33m(\u001b[0m\u001b[1;36m60000\u001b[0m\u001b[1;33m,\u001b[0m \u001b[1;36m28\u001b[0m\u001b[1;33m,\u001b[0m \u001b[1;36m28\u001b[0m\u001b[1;33m)\u001b[0m\u001b[1;33m\u001b[0m\u001b[1;33m\u001b[0m\u001b[0m\n\u001b[0m\u001b[0;32m      4\u001b[0m \u001b[1;33m\u001b[0m\u001b[0m\n\u001b[0;32m      5\u001b[0m \u001b[0mplt\u001b[0m\u001b[1;33m.\u001b[0m\u001b[0mfigure\u001b[0m\u001b[1;33m(\u001b[0m\u001b[1;33m)\u001b[0m\u001b[1;33m\u001b[0m\u001b[1;33m\u001b[0m\u001b[0m\n",
      "\u001b[1;31mValueError\u001b[0m: cannot reshape array of size 32928000 into shape (60000,28,28)"
     ]
    }
   ],
   "source": [
    "import matplotlib.pyplot as plt\n",
    "\n",
    "x_train = x_train.reshape(60000, 28, 28)\n",
    "\n",
    "plt.figure()\n",
    "plt.imshow(x_train[0], cmap=plt.cm.binary)\n",
    "plt.colorbar()\n",
    "plt.grid(False)\n",
    "plt.axis('off')\n",
    "plt.show()"
   ]
  },
  {
   "cell_type": "code",
   "execution_count": null,
   "metadata": {},
   "outputs": [],
   "source": []
  },
  {
   "cell_type": "code",
   "execution_count": 80,
   "metadata": {},
   "outputs": [],
   "source": [
    "# 데이터 로드부터 다시한번 "
   ]
  },
  {
   "cell_type": "code",
   "execution_count": 144,
   "metadata": {},
   "outputs": [
    {
     "data": {
      "text/plain": [
       "((60000, 28, 28), (60000,), (10000, 28, 28), (10000,))"
      ]
     },
     "execution_count": 144,
     "metadata": {},
     "output_type": "execute_result"
    }
   ],
   "source": [
    "(x_train, y_train), (x_test, y_test) = keras.datasets.mnist.load_data()\n",
    "x_train.shape, y_train.shape, x_test.shape, y_test.shape"
   ]
  },
  {
   "cell_type": "code",
   "execution_count": 145,
   "metadata": {},
   "outputs": [],
   "source": [
    "y_train = keras.utils.to_categorical(y_train, 10)\n",
    "y_test = keras.utils.to_categorical(y_test, 10)"
   ]
  },
  {
   "cell_type": "code",
   "execution_count": 146,
   "metadata": {},
   "outputs": [],
   "source": [
    "x_train = x_train.reshape(60000, 784)\n",
    "x_test  = x_test.reshape (10000, 784)"
   ]
  },
  {
   "cell_type": "code",
   "execution_count": 147,
   "metadata": {},
   "outputs": [
    {
     "data": {
      "text/plain": [
       "((60000, 784), (60000, 10), (10000, 784), (10000, 10))"
      ]
     },
     "execution_count": 147,
     "metadata": {},
     "output_type": "execute_result"
    }
   ],
   "source": [
    "x_train.shape, y_train.shape, x_test.shape, y_test.shape"
   ]
  },
  {
   "cell_type": "code",
   "execution_count": 148,
   "metadata": {},
   "outputs": [],
   "source": [
    "from sklearn.model_selection import train_test_split\n",
    "\n",
    "from tensorflow.keras.layers    import Dropout\n",
    "from tensorflow.keras.callbacks import EarlyStopping , ModelCheckpoint\n",
    "\n",
    "x_train, x_val, y_train, y_val = train_test_split(x_train, y_train,\n",
    "                                                 test_size = 0.3,\n",
    "                                                 random_state = 100)"
   ]
  },
  {
   "cell_type": "code",
   "execution_count": 149,
   "metadata": {},
   "outputs": [
    {
     "data": {
      "text/plain": [
       "((42000, 784), (18000, 784), (42000, 10), (18000, 10))"
      ]
     },
     "execution_count": 149,
     "metadata": {},
     "output_type": "execute_result"
    }
   ],
   "source": [
    "x_train.shape, x_val.shape, y_train.shape, y_val.shape"
   ]
  },
  {
   "cell_type": "markdown",
   "metadata": {},
   "source": [
    "#### 모델을 구성하는 두번째 방법\n",
    "- 함수형 API"
   ]
  },
  {
   "cell_type": "code",
   "execution_count": 150,
   "metadata": {},
   "outputs": [],
   "source": [
    "from tensorflow.keras.layers import Input, Dense\n",
    "from tensorflow.keras.models import Sequential, Model\n",
    "\n",
    "input = Input(shape=(784,), name='input')\n",
    "\n",
    "hidden1 = Dense(256, activation='sigmoid', name='hidden1' )(input)\n",
    "hidden2 = Dense(128, activation='sigmoid', name='hidden2' )(hidden1)\n",
    "hidden3 = Dense(64, activation='sigmoid', name='hidden3' )(hidden2)\n",
    "hidden4 = Dense(32, activation='sigmoid', name='hidden4' )(hidden3)\n",
    "\n",
    "output = Dense(10, activation='softmax', name='output' )(hidden4)\n",
    "\n",
    "model = Model(inputs=[input], outputs = [output])"
   ]
  },
  {
   "cell_type": "code",
   "execution_count": 151,
   "metadata": {},
   "outputs": [
    {
     "name": "stdout",
     "output_type": "stream",
     "text": [
      "Model: \"model_2\"\n",
      "_________________________________________________________________\n",
      "Layer (type)                 Output Shape              Param #   \n",
      "=================================================================\n",
      "input (InputLayer)           [(None, 784)]             0         \n",
      "_________________________________________________________________\n",
      "hidden1 (Dense)              (None, 256)               200960    \n",
      "_________________________________________________________________\n",
      "hidden2 (Dense)              (None, 128)               32896     \n",
      "_________________________________________________________________\n",
      "hidden3 (Dense)              (None, 64)                8256      \n",
      "_________________________________________________________________\n",
      "hidden4 (Dense)              (None, 32)                2080      \n",
      "_________________________________________________________________\n",
      "output (Dense)               (None, 10)                330       \n",
      "=================================================================\n",
      "Total params: 244,522\n",
      "Trainable params: 244,522\n",
      "Non-trainable params: 0\n",
      "_________________________________________________________________\n"
     ]
    }
   ],
   "source": [
    "model.summary()"
   ]
  },
  {
   "cell_type": "code",
   "execution_count": 152,
   "metadata": {},
   "outputs": [],
   "source": [
    "from tensorflow.keras.optimizers import SGD\n",
    "\n",
    "optimizer = SGD(learning_rate = 0.01)\n",
    "model.compile(optimizer = optimizer,\n",
    "             loss = 'categorical_crossentropy',\n",
    "             metrics = ['accuracy'])"
   ]
  },
  {
   "cell_type": "code",
   "execution_count": 154,
   "metadata": {},
   "outputs": [
    {
     "name": "stdout",
     "output_type": "stream",
     "text": [
      "Epoch 1/100\n",
      "329/329 [==============================] - 1s 4ms/step - loss: 2.1747 - accuracy: 0.3416 - val_loss: 2.1529 - val_accuracy: 0.3434\n",
      "Epoch 2/100\n",
      "329/329 [==============================] - 1s 4ms/step - loss: 2.1275 - accuracy: 0.3552 - val_loss: 2.0972 - val_accuracy: 0.3815\n",
      "Epoch 3/100\n",
      "329/329 [==============================] - 1s 4ms/step - loss: 2.0640 - accuracy: 0.3677 - val_loss: 2.0256 - val_accuracy: 0.3969\n",
      "Epoch 4/100\n",
      "329/329 [==============================] - 1s 4ms/step - loss: 1.9865 - accuracy: 0.3912 - val_loss: 1.9439 - val_accuracy: 0.3876\n",
      "Epoch 5/100\n",
      "329/329 [==============================] - 1s 4ms/step - loss: 1.9034 - accuracy: 0.4081 - val_loss: 1.8609 - val_accuracy: 0.4388\n",
      "Epoch 6/100\n",
      "329/329 [==============================] - 1s 4ms/step - loss: 1.8214 - accuracy: 0.4458 - val_loss: 1.7805 - val_accuracy: 0.4809\n",
      "Epoch 7/100\n",
      "329/329 [==============================] - 1s 4ms/step - loss: 1.7418 - accuracy: 0.4924 - val_loss: 1.7023 - val_accuracy: 0.5309\n",
      "Epoch 8/100\n",
      "329/329 [==============================] - 1s 4ms/step - loss: 1.6623 - accuracy: 0.5391 - val_loss: 1.6224 - val_accuracy: 0.5701\n",
      "Epoch 9/100\n",
      "329/329 [==============================] - 1s 4ms/step - loss: 1.5796 - accuracy: 0.5794 - val_loss: 1.5385 - val_accuracy: 0.5969\n",
      "Epoch 10/100\n",
      "329/329 [==============================] - 1s 4ms/step - loss: 1.4932 - accuracy: 0.6069 - val_loss: 1.4521 - val_accuracy: 0.6183\n",
      "Epoch 11/100\n",
      "329/329 [==============================] - 1s 4ms/step - loss: 1.4061 - accuracy: 0.6271 - val_loss: 1.3678 - val_accuracy: 0.6444\n",
      "Epoch 12/100\n",
      "329/329 [==============================] - 1s 4ms/step - loss: 1.3226 - accuracy: 0.6510 - val_loss: 1.2905 - val_accuracy: 0.6559\n",
      "Epoch 13/100\n",
      "329/329 [==============================] - 1s 4ms/step - loss: 1.2470 - accuracy: 0.6684 - val_loss: 1.2200 - val_accuracy: 0.6769\n",
      "Epoch 14/100\n",
      "329/329 [==============================] - 1s 4ms/step - loss: 1.1796 - accuracy: 0.6905 - val_loss: 1.1569 - val_accuracy: 0.6943\n",
      "Epoch 15/100\n",
      "329/329 [==============================] - 1s 4ms/step - loss: 1.1198 - accuracy: 0.7078 - val_loss: 1.1028 - val_accuracy: 0.7210\n",
      "Epoch 16/100\n",
      "329/329 [==============================] - 1s 4ms/step - loss: 1.0663 - accuracy: 0.7309 - val_loss: 1.0513 - val_accuracy: 0.7377\n",
      "Epoch 17/100\n",
      "329/329 [==============================] - 2s 5ms/step - loss: 1.0170 - accuracy: 0.7507 - val_loss: 1.0070 - val_accuracy: 0.7514\n",
      "Epoch 18/100\n",
      "329/329 [==============================] - 1s 4ms/step - loss: 0.9722 - accuracy: 0.7651 - val_loss: 0.9636 - val_accuracy: 0.7718\n",
      "Epoch 19/100\n",
      "329/329 [==============================] - 2s 5ms/step - loss: 0.9303 - accuracy: 0.7838 - val_loss: 0.9257 - val_accuracy: 0.7863\n",
      "Epoch 20/100\n",
      "329/329 [==============================] - 1s 4ms/step - loss: 0.8919 - accuracy: 0.7970 - val_loss: 0.8898 - val_accuracy: 0.7997\n",
      "Epoch 21/100\n",
      "329/329 [==============================] - 1s 4ms/step - loss: 0.8546 - accuracy: 0.8095 - val_loss: 0.8557 - val_accuracy: 0.8070\n",
      "Epoch 22/100\n",
      "329/329 [==============================] - 1s 4ms/step - loss: 0.8202 - accuracy: 0.8205 - val_loss: 0.8239 - val_accuracy: 0.8155\n",
      "Epoch 23/100\n",
      "329/329 [==============================] - 1s 4ms/step - loss: 0.7880 - accuracy: 0.8280 - val_loss: 0.7907 - val_accuracy: 0.8256\n",
      "Epoch 24/100\n",
      "329/329 [==============================] - 1s 4ms/step - loss: 0.7563 - accuracy: 0.8400 - val_loss: 0.7663 - val_accuracy: 0.8288\n",
      "Epoch 25/100\n",
      "329/329 [==============================] - 1s 4ms/step - loss: 0.7274 - accuracy: 0.8446 - val_loss: 0.7373 - val_accuracy: 0.8398\n",
      "Epoch 26/100\n",
      "329/329 [==============================] - 1s 4ms/step - loss: 0.6992 - accuracy: 0.8545 - val_loss: 0.7124 - val_accuracy: 0.8451\n",
      "Epoch 27/100\n",
      "329/329 [==============================] - 1s 4ms/step - loss: 0.6730 - accuracy: 0.8615 - val_loss: 0.6867 - val_accuracy: 0.8502\n",
      "Epoch 28/100\n",
      "329/329 [==============================] - 1s 4ms/step - loss: 0.6481 - accuracy: 0.8663 - val_loss: 0.6680 - val_accuracy: 0.8518\n",
      "Epoch 29/100\n",
      "329/329 [==============================] - 1s 4ms/step - loss: 0.6244 - accuracy: 0.8720 - val_loss: 0.6426 - val_accuracy: 0.8596\n",
      "Epoch 30/100\n",
      "329/329 [==============================] - 1s 4ms/step - loss: 0.6017 - accuracy: 0.8770 - val_loss: 0.6224 - val_accuracy: 0.8633\n",
      "Epoch 31/100\n",
      "329/329 [==============================] - 1s 4ms/step - loss: 0.5812 - accuracy: 0.8807 - val_loss: 0.6044 - val_accuracy: 0.8653\n",
      "Epoch 32/100\n",
      "329/329 [==============================] - 1s 4ms/step - loss: 0.5608 - accuracy: 0.8853 - val_loss: 0.5852 - val_accuracy: 0.8712\n",
      "Epoch 33/100\n",
      "329/329 [==============================] - 1s 4ms/step - loss: 0.5417 - accuracy: 0.8896 - val_loss: 0.5714 - val_accuracy: 0.8726\n",
      "Epoch 34/100\n",
      "329/329 [==============================] - 1s 4ms/step - loss: 0.5251 - accuracy: 0.8921 - val_loss: 0.5520 - val_accuracy: 0.8776\n",
      "Epoch 35/100\n",
      "329/329 [==============================] - 1s 4ms/step - loss: 0.5063 - accuracy: 0.8960 - val_loss: 0.5385 - val_accuracy: 0.8808\n",
      "Epoch 36/100\n",
      "329/329 [==============================] - 1s 4ms/step - loss: 0.4910 - accuracy: 0.8990 - val_loss: 0.5218 - val_accuracy: 0.8836\n",
      "Epoch 37/100\n",
      "329/329 [==============================] - 1s 4ms/step - loss: 0.4753 - accuracy: 0.9026 - val_loss: 0.5121 - val_accuracy: 0.8838\n",
      "Epoch 38/100\n",
      "329/329 [==============================] - 1s 4ms/step - loss: 0.4620 - accuracy: 0.9052 - val_loss: 0.5013 - val_accuracy: 0.8860\n",
      "Epoch 39/100\n",
      "329/329 [==============================] - 1s 4ms/step - loss: 0.4471 - accuracy: 0.9087 - val_loss: 0.4863 - val_accuracy: 0.8893\n",
      "Epoch 40/100\n",
      "329/329 [==============================] - 1s 4ms/step - loss: 0.4323 - accuracy: 0.9105 - val_loss: 0.4790 - val_accuracy: 0.8913\n",
      "Epoch 41/100\n",
      "329/329 [==============================] - 1s 4ms/step - loss: 0.4241 - accuracy: 0.9112 - val_loss: 0.4699 - val_accuracy: 0.8942\n",
      "Epoch 42/100\n",
      "329/329 [==============================] - 1s 4ms/step - loss: 0.4115 - accuracy: 0.9145 - val_loss: 0.4577 - val_accuracy: 0.8964\n",
      "Epoch 43/100\n",
      "329/329 [==============================] - 1s 4ms/step - loss: 0.4017 - accuracy: 0.9163 - val_loss: 0.4477 - val_accuracy: 0.8970\n",
      "Epoch 44/100\n",
      "329/329 [==============================] - 1s 4ms/step - loss: 0.3900 - accuracy: 0.9188 - val_loss: 0.4393 - val_accuracy: 0.9003\n",
      "Epoch 45/100\n",
      "329/329 [==============================] - 1s 4ms/step - loss: 0.3794 - accuracy: 0.9200 - val_loss: 0.4287 - val_accuracy: 0.9011\n",
      "Epoch 46/100\n",
      "329/329 [==============================] - 1s 4ms/step - loss: 0.3696 - accuracy: 0.9224 - val_loss: 0.4185 - val_accuracy: 0.9026\n",
      "Epoch 47/100\n",
      "329/329 [==============================] - 1s 4ms/step - loss: 0.3605 - accuracy: 0.9237 - val_loss: 0.4140 - val_accuracy: 0.9041\n",
      "Epoch 48/100\n",
      "329/329 [==============================] - 1s 4ms/step - loss: 0.3505 - accuracy: 0.9262 - val_loss: 0.4039 - val_accuracy: 0.9067\n",
      "Epoch 49/100\n",
      "329/329 [==============================] - 1s 4ms/step - loss: 0.3423 - accuracy: 0.9277 - val_loss: 0.3976 - val_accuracy: 0.9092\n",
      "Epoch 50/100\n",
      "329/329 [==============================] - 1s 4ms/step - loss: 0.3331 - accuracy: 0.9296 - val_loss: 0.3921 - val_accuracy: 0.9084\n",
      "Epoch 51/100\n",
      "329/329 [==============================] - 1s 4ms/step - loss: 0.3300 - accuracy: 0.9302 - val_loss: 0.3847 - val_accuracy: 0.9093\n",
      "Epoch 52/100\n",
      "329/329 [==============================] - 1s 4ms/step - loss: 0.3206 - accuracy: 0.9323 - val_loss: 0.3809 - val_accuracy: 0.9122\n",
      "Epoch 53/100\n",
      "329/329 [==============================] - 1s 4ms/step - loss: 0.3108 - accuracy: 0.9348 - val_loss: 0.3718 - val_accuracy: 0.9137\n",
      "Epoch 54/100\n",
      "329/329 [==============================] - 1s 4ms/step - loss: 0.3031 - accuracy: 0.9359 - val_loss: 0.3688 - val_accuracy: 0.9128\n",
      "Epoch 55/100\n",
      "329/329 [==============================] - 1s 4ms/step - loss: 0.2962 - accuracy: 0.9383 - val_loss: 0.3611 - val_accuracy: 0.9140\n",
      "Epoch 56/100\n",
      "329/329 [==============================] - 1s 4ms/step - loss: 0.2902 - accuracy: 0.9390 - val_loss: 0.3572 - val_accuracy: 0.9152\n",
      "Epoch 57/100\n",
      "329/329 [==============================] - 1s 4ms/step - loss: 0.2862 - accuracy: 0.9399 - val_loss: 0.3550 - val_accuracy: 0.9159\n"
     ]
    },
    {
     "name": "stdout",
     "output_type": "stream",
     "text": [
      "Epoch 58/100\n",
      "329/329 [==============================] - 1s 4ms/step - loss: 0.2798 - accuracy: 0.9414 - val_loss: 0.3554 - val_accuracy: 0.9142\n",
      "Epoch 59/100\n",
      "329/329 [==============================] - 1s 4ms/step - loss: 0.2745 - accuracy: 0.9409 - val_loss: 0.3434 - val_accuracy: 0.9173\n",
      "Epoch 60/100\n",
      "329/329 [==============================] - 1s 4ms/step - loss: 0.2660 - accuracy: 0.9442 - val_loss: 0.3390 - val_accuracy: 0.9197\n",
      "Epoch 61/100\n",
      "329/329 [==============================] - 1s 4ms/step - loss: 0.2590 - accuracy: 0.9452 - val_loss: 0.3336 - val_accuracy: 0.9177\n",
      "Epoch 62/100\n",
      "329/329 [==============================] - 1s 4ms/step - loss: 0.2584 - accuracy: 0.9453 - val_loss: 0.3288 - val_accuracy: 0.9199\n",
      "Epoch 63/100\n",
      "329/329 [==============================] - 1s 4ms/step - loss: 0.2529 - accuracy: 0.9460 - val_loss: 0.3277 - val_accuracy: 0.9219\n",
      "Epoch 64/100\n",
      "329/329 [==============================] - 1s 4ms/step - loss: 0.2448 - accuracy: 0.9477 - val_loss: 0.3208 - val_accuracy: 0.9224\n",
      "Epoch 65/100\n",
      "329/329 [==============================] - 1s 4ms/step - loss: 0.2403 - accuracy: 0.9490 - val_loss: 0.3202 - val_accuracy: 0.9231\n",
      "Epoch 66/100\n",
      "329/329 [==============================] - 1s 4ms/step - loss: 0.2373 - accuracy: 0.9501 - val_loss: 0.3202 - val_accuracy: 0.9221\n",
      "Epoch 67/100\n",
      "329/329 [==============================] - 1s 4ms/step - loss: 0.2312 - accuracy: 0.9514 - val_loss: 0.3109 - val_accuracy: 0.9247\n",
      "Epoch 68/100\n",
      "329/329 [==============================] - 1s 4ms/step - loss: 0.2273 - accuracy: 0.9520 - val_loss: 0.3073 - val_accuracy: 0.9253\n",
      "Epoch 69/100\n",
      "329/329 [==============================] - 1s 4ms/step - loss: 0.2214 - accuracy: 0.9537 - val_loss: 0.3039 - val_accuracy: 0.9254\n",
      "Epoch 70/100\n",
      "329/329 [==============================] - 1s 4ms/step - loss: 0.2166 - accuracy: 0.9546 - val_loss: 0.3006 - val_accuracy: 0.9262\n",
      "Epoch 71/100\n",
      "329/329 [==============================] - 1s 3ms/step - loss: 0.2147 - accuracy: 0.9558 - val_loss: 0.3104 - val_accuracy: 0.9235\n",
      "Epoch 72/100\n",
      "329/329 [==============================] - 1s 3ms/step - loss: 0.2105 - accuracy: 0.9558 - val_loss: 0.2974 - val_accuracy: 0.9259\n",
      "Epoch 73/100\n",
      "329/329 [==============================] - 1s 4ms/step - loss: 0.2047 - accuracy: 0.9571 - val_loss: 0.2955 - val_accuracy: 0.9276\n",
      "Epoch 74/100\n",
      "329/329 [==============================] - 1s 4ms/step - loss: 0.2028 - accuracy: 0.9568 - val_loss: 0.2956 - val_accuracy: 0.9253\n",
      "Epoch 75/100\n",
      "329/329 [==============================] - 1s 4ms/step - loss: 0.1968 - accuracy: 0.9587 - val_loss: 0.2915 - val_accuracy: 0.9281\n",
      "Epoch 76/100\n",
      "329/329 [==============================] - 1s 4ms/step - loss: 0.1916 - accuracy: 0.9602 - val_loss: 0.2862 - val_accuracy: 0.9283\n",
      "Epoch 77/100\n",
      "329/329 [==============================] - 1s 4ms/step - loss: 0.1891 - accuracy: 0.9608 - val_loss: 0.2838 - val_accuracy: 0.9294\n",
      "Epoch 78/100\n",
      "329/329 [==============================] - 1s 4ms/step - loss: 0.1849 - accuracy: 0.9620 - val_loss: 0.2837 - val_accuracy: 0.9299\n",
      "Epoch 79/100\n",
      "329/329 [==============================] - 1s 4ms/step - loss: 0.1784 - accuracy: 0.9641 - val_loss: 0.2771 - val_accuracy: 0.9301\n",
      "Epoch 80/100\n",
      "329/329 [==============================] - 1s 4ms/step - loss: 0.1778 - accuracy: 0.9640 - val_loss: 0.2782 - val_accuracy: 0.9302\n",
      "Epoch 81/100\n",
      "329/329 [==============================] - 1s 4ms/step - loss: 0.1750 - accuracy: 0.9641 - val_loss: 0.2700 - val_accuracy: 0.9323\n",
      "Epoch 82/100\n",
      "329/329 [==============================] - 1s 4ms/step - loss: 0.1745 - accuracy: 0.9635 - val_loss: 0.2717 - val_accuracy: 0.9328\n",
      "Epoch 83/100\n",
      "329/329 [==============================] - 1s 4ms/step - loss: 0.1708 - accuracy: 0.9644 - val_loss: 0.2692 - val_accuracy: 0.9320\n",
      "Epoch 84/100\n",
      "329/329 [==============================] - 1s 4ms/step - loss: 0.1667 - accuracy: 0.9664 - val_loss: 0.2698 - val_accuracy: 0.9319\n",
      "Epoch 85/100\n",
      "329/329 [==============================] - 1s 4ms/step - loss: 0.1646 - accuracy: 0.9661 - val_loss: 0.2688 - val_accuracy: 0.9331\n",
      "Epoch 86/100\n",
      "329/329 [==============================] - 1s 4ms/step - loss: 0.1623 - accuracy: 0.9660 - val_loss: 0.2694 - val_accuracy: 0.9306\n",
      "Epoch 87/100\n",
      "329/329 [==============================] - 1s 4ms/step - loss: 0.1611 - accuracy: 0.9663 - val_loss: 0.2622 - val_accuracy: 0.9347\n",
      "Epoch 88/100\n",
      "329/329 [==============================] - 1s 4ms/step - loss: 0.1563 - accuracy: 0.9672 - val_loss: 0.2677 - val_accuracy: 0.9331\n",
      "Epoch 89/100\n",
      "329/329 [==============================] - 1s 3ms/step - loss: 0.1577 - accuracy: 0.9669 - val_loss: 0.2624 - val_accuracy: 0.9331\n",
      "Epoch 90/100\n",
      "329/329 [==============================] - 1s 4ms/step - loss: 0.1501 - accuracy: 0.9694 - val_loss: 0.2540 - val_accuracy: 0.9359\n",
      "Epoch 91/100\n",
      "329/329 [==============================] - 1s 4ms/step - loss: 0.1466 - accuracy: 0.9703 - val_loss: 0.2596 - val_accuracy: 0.9352\n",
      "Epoch 92/100\n",
      "329/329 [==============================] - 1s 4ms/step - loss: 0.1443 - accuracy: 0.9705 - val_loss: 0.2543 - val_accuracy: 0.9359\n",
      "Epoch 93/100\n",
      "329/329 [==============================] - 1s 4ms/step - loss: 0.1390 - accuracy: 0.9717 - val_loss: 0.2536 - val_accuracy: 0.9351\n",
      "Epoch 94/100\n",
      "329/329 [==============================] - 1s 4ms/step - loss: 0.1406 - accuracy: 0.9709 - val_loss: 0.2519 - val_accuracy: 0.9362\n",
      "Epoch 95/100\n",
      "329/329 [==============================] - 1s 4ms/step - loss: 0.1360 - accuracy: 0.9732 - val_loss: 0.2485 - val_accuracy: 0.9358\n",
      "Epoch 96/100\n",
      "329/329 [==============================] - 1s 3ms/step - loss: 0.1299 - accuracy: 0.9751 - val_loss: 0.2473 - val_accuracy: 0.9354\n",
      "Epoch 97/100\n",
      "329/329 [==============================] - 1s 3ms/step - loss: 0.1298 - accuracy: 0.9743 - val_loss: 0.2481 - val_accuracy: 0.9348\n",
      "Epoch 98/100\n",
      "329/329 [==============================] - 1s 4ms/step - loss: 0.1307 - accuracy: 0.9734 - val_loss: 0.2483 - val_accuracy: 0.9352\n",
      "Epoch 99/100\n",
      "329/329 [==============================] - 1s 4ms/step - loss: 0.1286 - accuracy: 0.9743 - val_loss: 0.2506 - val_accuracy: 0.9354\n",
      "Epoch 100/100\n",
      "329/329 [==============================] - 1s 4ms/step - loss: 0.1267 - accuracy: 0.9749 - val_loss: 0.2447 - val_accuracy: 0.9357\n"
     ]
    }
   ],
   "source": [
    "history = model.fit(x_train, y_train, batch_size = 128, epochs = 100, validation_data = (x_val, y_val) )"
   ]
  },
  {
   "cell_type": "code",
   "execution_count": 134,
   "metadata": {},
   "outputs": [
    {
     "data": {
      "text/plain": [
       "dict_keys(['loss', 'accuracy', 'val_loss', 'val_accuracy'])"
      ]
     },
     "execution_count": 134,
     "metadata": {},
     "output_type": "execute_result"
    }
   ],
   "source": [
    "history.history.keys()"
   ]
  },
  {
   "cell_type": "code",
   "execution_count": 135,
   "metadata": {},
   "outputs": [],
   "source": [
    "history_dict = history.history\n",
    "\n",
    "loss     = history_dict['loss']\n",
    "val_loss = history_dict['val_loss']"
   ]
  },
  {
   "cell_type": "code",
   "execution_count": 136,
   "metadata": {},
   "outputs": [
    {
     "data": {
      "text/plain": [
       "<matplotlib.legend.Legend at 0x15593426dc0>"
      ]
     },
     "execution_count": 136,
     "metadata": {},
     "output_type": "execute_result"
    },
    {
     "data": {
      "image/png": "[encoded data removed]",
      "text/plain": [
       "<Figure size 432x288 with 2 Axes>"
      ]
     },
     "metadata": {
      "needs_background": "light"
     },
     "output_type": "display_data"
    }
   ],
   "source": [
    "fig = plt.figure()\n",
    "ax01 = fig.add_subplot(1,2,1)\n",
    "\n",
    "epochs = range(1, len(loss)+1)\n",
    "\n",
    "ax01.plot(epochs, loss     , color='blue', label='train loss')\n",
    "ax01.plot(epochs, val_loss , color='red',  label='val loss')\n",
    "ax01.set_xlabel('Epoch')\n",
    "ax01.set_ylabel('Loss')\n",
    "ax01.grid()\n",
    "ax01.legend()\n",
    "\n",
    "\n",
    "acc     = history_dict['accuracy']\n",
    "val_acc = history_dict['val_accuracy']\n",
    "\n",
    "ax02 = fig.add_subplot(1,2,2)\n",
    "ax02.plot(epochs, acc     , color='blue', label='train acc')\n",
    "ax02.plot(epochs, val_acc , color='red',  label='val acc')\n",
    "ax02.set_xlabel('Epoch')\n",
    "ax02.set_ylabel('Acc')\n",
    "ax02.grid()\n",
    "ax02.legend()\n"
   ]
  },
  {
   "cell_type": "code",
   "execution_count": 137,
   "metadata": {},
   "outputs": [
    {
     "name": "stdout",
     "output_type": "stream",
     "text": [
      "313/313 [==============================] - 1s 2ms/step - loss: 0.7699 - accuracy: 0.8401\n"
     ]
    },
    {
     "data": {
      "text/plain": [
       "[0.7699249982833862, 0.8400999903678894]"
      ]
     },
     "execution_count": 137,
     "metadata": {},
     "output_type": "execute_result"
    }
   ],
   "source": [
    "model.evaluate(x_test, y_test)"
   ]
  },
  {
   "cell_type": "code",
   "execution_count": null,
   "metadata": {},
   "outputs": [],
   "source": []
  }
 ],
 "metadata": {
  "kernelspec": {
   "display_name": "Python 3",
   "language": "python",
   "name": "python3"
  },
  "language_info": {
   "codemirror_mode": {
    "name": "ipython",
    "version": 3
   },
   "file_extension": ".py",
   "mimetype": "text/x-python",
   "name": "python",
   "nbconvert_exporter": "python",
   "pygments_lexer": "ipython3",
   "version": "3.8.5"
  }
 },
 "nbformat": 4,
 "nbformat_minor": 4
}

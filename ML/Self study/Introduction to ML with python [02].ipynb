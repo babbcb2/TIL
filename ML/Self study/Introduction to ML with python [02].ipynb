{
 "cells": [
  {
   "cell_type": "code",
   "execution_count": 1,
   "metadata": {},
   "outputs": [],
   "source": [
    "import numpy as np\n",
    "import pandas as pd\n",
    "import matplotlib.pyplot as plt\n",
    "import mglearn\n",
    "from IPython.display import display "
   ]
  },
  {
   "cell_type": "markdown",
   "metadata": {},
   "source": [
    "## 지도 학습\n",
    "### 분류 (Classfication)\n",
    "\n",
    "- 이진분류 (Binary classfication) : 질문의 답이 예/아니오 만 나올 수 있또록 하는 것\n",
    "\n",
    "- 다중분류 (Multiclass classfication) : 예를들어 웹사이트의 글로부터 어떤 언어의 웹사인지를 예측하는 것이 있습니다. 여기서 클래스는 미리 만들어놓은 언어 목록이 됩니다.\n",
    "\n",
    "### 회귀 (Regression)\n",
    "\n",
    "- 회귀 : 연속적인 숫자, 또는 프로그래밍 용어로 말하면 부동소수점수(실수)를 예측하는 것"
   ]
  },
  {
   "cell_type": "code",
   "execution_count": null,
   "metadata": {},
   "outputs": [],
   "source": []
  }
 ],
 "metadata": {
  "kernelspec": {
   "display_name": "Python 3",
   "language": "python",
   "name": "python3"
  },
  "language_info": {
   "codemirror_mode": {
    "name": "ipython",
    "version": 3
   },
   "file_extension": ".py",
   "mimetype": "text/x-python",
   "name": "python",
   "nbconvert_exporter": "python",
   "pygments_lexer": "ipython3",
   "version": "3.8.5"
  }
 },
 "nbformat": 4,
 "nbformat_minor": 4
}

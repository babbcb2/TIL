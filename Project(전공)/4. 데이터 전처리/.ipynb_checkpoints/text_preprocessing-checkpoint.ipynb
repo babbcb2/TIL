{
 "cells": [
  {
   "cell_type": "code",
   "execution_count": 8,
   "metadata": {},
   "outputs": [],
   "source": [
    "import re\n",
    "import pandas as pd\n",
    "import numpy as np\n",
    "\n",
    "myfile = open(\"text/pbro.txt\",mode='r')\n",
    "pb = myfile.read()\n",
    "\n",
    "\n",
    "t_pb = re.sub(\"“\",\"\\\"*\",pb)\n",
    "t_pb = re.sub(\".”\",\"*\\\"\",t_pb)\n",
    "t_pb = re.sub(\"”\",\"*\\\"\",t_pb)\n",
    "\n",
    "regex_gualho = '\\([^)]*\\)'\n",
    "t_pb= re.sub(regex_gualho, '', t_pb)\n",
    "t_pb= re.sub(\"\\n\",\"\",t_pb)\n",
    "s_pb = re.split('[\".]',t_pb)\n",
    "\n",
    "def del_useless(text_list, del_list):\n",
    "    for i in del_list:\n",
    "        while True:\n",
    "            try :\n",
    "                text_list.remove(i)\n",
    "            except :\n",
    "                break\n",
    "    return text_list\n",
    "final_list = del_useless(s_pb, ['',' ','  ' '.', \"“\",\"”\"])\n",
    "\n",
    "\n",
    "final_pd = pd.DataFrame({\"Text\":final_list,\n",
    "             \"Feeling\":None,\n",
    "             \"Talking\":None,\n",
    "             \"book_id\":None,\n",
    "             \"sentence_id\":None})\n",
    "\n",
    "\n",
    "\n",
    "df=pd.DataFrame(s_pb)\n",
    "# df.replace(' ', np.nan, inplace=True)\n",
    "# df.replace('', np.nan, inplace=True)\n",
    "# df.dropna(how=\"all\",inplace=True)\n",
    "\n",
    "final_pd.to_csv('./testttt.csv',index=False, sep = ',', encoding = 'euc-kr')"
   ]
  },
  {
   "cell_type": "code",
   "execution_count": null,
   "metadata": {},
   "outputs": [],
   "source": []
  }
 ],
 "metadata": {
  "kernelspec": {
   "display_name": "Python 3",
   "language": "python",
   "name": "python3"
  },
  "language_info": {
   "codemirror_mode": {
    "name": "ipython",
    "version": 3
   },
   "file_extension": ".py",
   "mimetype": "text/x-python",
   "name": "python",
   "nbconvert_exporter": "python",
   "pygments_lexer": "ipython3",
   "version": "3.8.5"
  }
 },
 "nbformat": 4,
 "nbformat_minor": 2
}

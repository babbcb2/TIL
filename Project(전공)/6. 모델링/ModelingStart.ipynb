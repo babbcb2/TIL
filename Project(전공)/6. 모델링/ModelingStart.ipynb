{
 "cells": [
  {
   "cell_type": "code",
   "execution_count": 1,
   "metadata": {},
   "outputs": [
    {
     "data": {
      "text/plain": [
       "'C:\\\\Users\\\\Changho_Notebook\\\\anaconda3\\\\python.exe'"
      ]
     },
     "execution_count": 1,
     "metadata": {},
     "output_type": "execute_result"
    }
   ],
   "source": [
    "import sys \n",
    "sys.executable"
   ]
  },
  {
   "cell_type": "code",
   "execution_count": 64,
   "metadata": {},
   "outputs": [],
   "source": [
    "import pandas as pd \n",
    "import numpy as np \n",
    "%matplotlib inline\n",
    "import matplotlib.pyplot as plt\n",
    "import re \n",
    "import urllib.request\n",
    "from konlpy.tag import Okt\n",
    "from tensorflow.keras.preprocessing.text import Tokenizer\n",
    "from tensorflow.keras.preprocessing.sequence import pad_sequences\n",
    "\n",
    "from sklearn.model_selection import train_test_split\n",
    "from sklearn.preprocessing import LabelEncoder\n",
    "\n",
    "# XGBoost\n",
    "import xgboost as xgb\n",
    "from xgboost import plot_importance\n",
    "from xgboost import XGBClassifier"
   ]
  },
  {
   "cell_type": "code",
   "execution_count": 5,
   "metadata": {},
   "outputs": [],
   "source": [
    "data = pd.read_csv('./data/test_data0415.csv', encoding = 'euc-kr')"
   ]
  },
  {
   "cell_type": "code",
   "execution_count": 6,
   "metadata": {},
   "outputs": [
    {
     "data": {
      "text/html": [
       "<div>\n",
       "<style scoped>\n",
       "    .dataframe tbody tr th:only-of-type {\n",
       "        vertical-align: middle;\n",
       "    }\n",
       "\n",
       "    .dataframe tbody tr th {\n",
       "        vertical-align: top;\n",
       "    }\n",
       "\n",
       "    .dataframe thead th {\n",
       "        text-align: right;\n",
       "    }\n",
       "</style>\n",
       "<table border=\"1\" class=\"dataframe\">\n",
       "  <thead>\n",
       "    <tr style=\"text-align: right;\">\n",
       "      <th></th>\n",
       "      <th>Text</th>\n",
       "      <th>Feeling</th>\n",
       "      <th>Talking</th>\n",
       "      <th>book_id</th>\n",
       "      <th>sentence_id</th>\n",
       "      <th>Feeling_Saltlux</th>\n",
       "    </tr>\n",
       "  </thead>\n",
       "  <tbody>\n",
       "    <tr>\n",
       "      <th>0</th>\n",
       "      <td>‘인도’가 적에게 포위를 당했는데, 적들이 은화 6백 개를 내놓을 때까지 물러나지 ...</td>\n",
       "      <td>2.0</td>\n",
       "      <td>0</td>\n",
       "      <td>5001</td>\n",
       "      <td>1</td>\n",
       "      <td>분노</td>\n",
       "    </tr>\n",
       "    <tr>\n",
       "      <th>1</th>\n",
       "      <td>그래서 주민들이 북을 치며 선포하길,</td>\n",
       "      <td>2.0</td>\n",
       "      <td>0</td>\n",
       "      <td>5001</td>\n",
       "      <td>2</td>\n",
       "      <td>공포</td>\n",
       "    </tr>\n",
       "    <tr>\n",
       "      <th>2</th>\n",
       "      <td>*누구든 그 돈을 마련하는 사람을 시장으로 삼겠다*</td>\n",
       "      <td>2.0</td>\n",
       "      <td>1</td>\n",
       "      <td>5001</td>\n",
       "      <td>3</td>\n",
       "      <td>기대</td>\n",
       "    </tr>\n",
       "    <tr>\n",
       "      <th>3</th>\n",
       "      <td>라고 했답니다</td>\n",
       "      <td>0.0</td>\n",
       "      <td>0</td>\n",
       "      <td>5001</td>\n",
       "      <td>4</td>\n",
       "      <td>신뢰</td>\n",
       "    </tr>\n",
       "    <tr>\n",
       "      <th>4</th>\n",
       "      <td>때마침 가난한 어부가 자신의 아들과 호수에서 물고기를 잡아 생활하다, 그 적들이 들...</td>\n",
       "      <td>5.0</td>\n",
       "      <td>0</td>\n",
       "      <td>5001</td>\n",
       "      <td>5</td>\n",
       "      <td>혐오</td>\n",
       "    </tr>\n",
       "    <tr>\n",
       "      <th>...</th>\n",
       "      <td>...</td>\n",
       "      <td>...</td>\n",
       "      <td>...</td>\n",
       "      <td>...</td>\n",
       "      <td>...</td>\n",
       "      <td>...</td>\n",
       "    </tr>\n",
       "    <tr>\n",
       "      <th>12372</th>\n",
       "      <td>그런데 그 호랑이는 바로 옛날에 나무꾼이 도와주었던 호랑이였습니다</td>\n",
       "      <td>4.0</td>\n",
       "      <td>0</td>\n",
       "      <td>7009</td>\n",
       "      <td>30</td>\n",
       "      <td>신뢰</td>\n",
       "    </tr>\n",
       "    <tr>\n",
       "      <th>12373</th>\n",
       "      <td>*저는 나이가 들어 어차피 죽을 목숨이니 저를 임금에게 제물로 바치십시오*</td>\n",
       "      <td>4.0</td>\n",
       "      <td>1</td>\n",
       "      <td>7009</td>\n",
       "      <td>31</td>\n",
       "      <td>분노</td>\n",
       "    </tr>\n",
       "    <tr>\n",
       "      <th>12374</th>\n",
       "      <td>그러곤 호랑이는 숨을 거두었습니다</td>\n",
       "      <td>4.0</td>\n",
       "      <td>0</td>\n",
       "      <td>7009</td>\n",
       "      <td>32</td>\n",
       "      <td>신뢰</td>\n",
       "    </tr>\n",
       "    <tr>\n",
       "      <th>12375</th>\n",
       "      <td>나무꾼은 숨을 거둔 호랑이를 차마 제물로 바치지 못하고 양지바른 땅에 묻어주었습니다</td>\n",
       "      <td>4.0</td>\n",
       "      <td>0</td>\n",
       "      <td>7009</td>\n",
       "      <td>33</td>\n",
       "      <td>혐오</td>\n",
       "    </tr>\n",
       "    <tr>\n",
       "      <th>12376</th>\n",
       "      <td>목에 걸린 뼈를 나무꾼이 빼준 이후로 죽을 때까지 나무꾼에게 은혜를 갚는 호랑이의 ...</td>\n",
       "      <td>4.0</td>\n",
       "      <td>0</td>\n",
       "      <td>7009</td>\n",
       "      <td>34</td>\n",
       "      <td>신뢰</td>\n",
       "    </tr>\n",
       "  </tbody>\n",
       "</table>\n",
       "<p>12377 rows × 6 columns</p>\n",
       "</div>"
      ],
      "text/plain": [
       "                                                    Text  Feeling  Talking  \\\n",
       "0      ‘인도’가 적에게 포위를 당했는데, 적들이 은화 6백 개를 내놓을 때까지 물러나지 ...      2.0        0   \n",
       "1                                  그래서 주민들이 북을 치며 선포하길,       2.0        0   \n",
       "2                           *누구든 그 돈을 마련하는 사람을 시장으로 삼겠다*      2.0        1   \n",
       "3                                                라고 했답니다      0.0        0   \n",
       "4      때마침 가난한 어부가 자신의 아들과 호수에서 물고기를 잡아 생활하다, 그 적들이 들...      5.0        0   \n",
       "...                                                  ...      ...      ...   \n",
       "12372               그런데 그 호랑이는 바로 옛날에 나무꾼이 도와주었던 호랑이였습니다      4.0        0   \n",
       "12373          *저는 나이가 들어 어차피 죽을 목숨이니 저를 임금에게 제물로 바치십시오*      4.0        1   \n",
       "12374                                 그러곤 호랑이는 숨을 거두었습니다      4.0        0   \n",
       "12375     나무꾼은 숨을 거둔 호랑이를 차마 제물로 바치지 못하고 양지바른 땅에 묻어주었습니다      4.0        0   \n",
       "12376  목에 걸린 뼈를 나무꾼이 빼준 이후로 죽을 때까지 나무꾼에게 은혜를 갚는 호랑이의 ...      4.0        0   \n",
       "\n",
       "       book_id  sentence_id Feeling_Saltlux  \n",
       "0         5001            1              분노  \n",
       "1         5001            2              공포  \n",
       "2         5001            3              기대  \n",
       "3         5001            4              신뢰  \n",
       "4         5001            5              혐오  \n",
       "...        ...          ...             ...  \n",
       "12372     7009           30              신뢰  \n",
       "12373     7009           31              분노  \n",
       "12374     7009           32              신뢰  \n",
       "12375     7009           33              혐오  \n",
       "12376     7009           34              신뢰  \n",
       "\n",
       "[12377 rows x 6 columns]"
      ]
     },
     "execution_count": 6,
     "metadata": {},
     "output_type": "execute_result"
    }
   ],
   "source": [
    "data"
   ]
  },
  {
   "cell_type": "code",
   "execution_count": 7,
   "metadata": {},
   "outputs": [
    {
     "name": "stdout",
     "output_type": "stream",
     "text": [
      "12377\n"
     ]
    }
   ],
   "source": [
    "print(len(data))"
   ]
  },
  {
   "cell_type": "code",
   "execution_count": 8,
   "metadata": {},
   "outputs": [],
   "source": [
    "data = data.iloc[:,:2]"
   ]
  },
  {
   "cell_type": "code",
   "execution_count": 9,
   "metadata": {},
   "outputs": [
    {
     "data": {
      "text/html": [
       "<div>\n",
       "<style scoped>\n",
       "    .dataframe tbody tr th:only-of-type {\n",
       "        vertical-align: middle;\n",
       "    }\n",
       "\n",
       "    .dataframe tbody tr th {\n",
       "        vertical-align: top;\n",
       "    }\n",
       "\n",
       "    .dataframe thead th {\n",
       "        text-align: right;\n",
       "    }\n",
       "</style>\n",
       "<table border=\"1\" class=\"dataframe\">\n",
       "  <thead>\n",
       "    <tr style=\"text-align: right;\">\n",
       "      <th></th>\n",
       "      <th>Text</th>\n",
       "      <th>Feeling</th>\n",
       "    </tr>\n",
       "  </thead>\n",
       "  <tbody>\n",
       "    <tr>\n",
       "      <th>0</th>\n",
       "      <td>‘인도’가 적에게 포위를 당했는데, 적들이 은화 6백 개를 내놓을 때까지 물러나지 ...</td>\n",
       "      <td>2.0</td>\n",
       "    </tr>\n",
       "    <tr>\n",
       "      <th>1</th>\n",
       "      <td>그래서 주민들이 북을 치며 선포하길,</td>\n",
       "      <td>2.0</td>\n",
       "    </tr>\n",
       "    <tr>\n",
       "      <th>2</th>\n",
       "      <td>*누구든 그 돈을 마련하는 사람을 시장으로 삼겠다*</td>\n",
       "      <td>2.0</td>\n",
       "    </tr>\n",
       "    <tr>\n",
       "      <th>3</th>\n",
       "      <td>라고 했답니다</td>\n",
       "      <td>0.0</td>\n",
       "    </tr>\n",
       "    <tr>\n",
       "      <th>4</th>\n",
       "      <td>때마침 가난한 어부가 자신의 아들과 호수에서 물고기를 잡아 생활하다, 그 적들이 들...</td>\n",
       "      <td>5.0</td>\n",
       "    </tr>\n",
       "    <tr>\n",
       "      <th>...</th>\n",
       "      <td>...</td>\n",
       "      <td>...</td>\n",
       "    </tr>\n",
       "    <tr>\n",
       "      <th>12372</th>\n",
       "      <td>그런데 그 호랑이는 바로 옛날에 나무꾼이 도와주었던 호랑이였습니다</td>\n",
       "      <td>4.0</td>\n",
       "    </tr>\n",
       "    <tr>\n",
       "      <th>12373</th>\n",
       "      <td>*저는 나이가 들어 어차피 죽을 목숨이니 저를 임금에게 제물로 바치십시오*</td>\n",
       "      <td>4.0</td>\n",
       "    </tr>\n",
       "    <tr>\n",
       "      <th>12374</th>\n",
       "      <td>그러곤 호랑이는 숨을 거두었습니다</td>\n",
       "      <td>4.0</td>\n",
       "    </tr>\n",
       "    <tr>\n",
       "      <th>12375</th>\n",
       "      <td>나무꾼은 숨을 거둔 호랑이를 차마 제물로 바치지 못하고 양지바른 땅에 묻어주었습니다</td>\n",
       "      <td>4.0</td>\n",
       "    </tr>\n",
       "    <tr>\n",
       "      <th>12376</th>\n",
       "      <td>목에 걸린 뼈를 나무꾼이 빼준 이후로 죽을 때까지 나무꾼에게 은혜를 갚는 호랑이의 ...</td>\n",
       "      <td>4.0</td>\n",
       "    </tr>\n",
       "  </tbody>\n",
       "</table>\n",
       "<p>12377 rows × 2 columns</p>\n",
       "</div>"
      ],
      "text/plain": [
       "                                                    Text  Feeling\n",
       "0      ‘인도’가 적에게 포위를 당했는데, 적들이 은화 6백 개를 내놓을 때까지 물러나지 ...      2.0\n",
       "1                                  그래서 주민들이 북을 치며 선포하길,       2.0\n",
       "2                           *누구든 그 돈을 마련하는 사람을 시장으로 삼겠다*      2.0\n",
       "3                                                라고 했답니다      0.0\n",
       "4      때마침 가난한 어부가 자신의 아들과 호수에서 물고기를 잡아 생활하다, 그 적들이 들...      5.0\n",
       "...                                                  ...      ...\n",
       "12372               그런데 그 호랑이는 바로 옛날에 나무꾼이 도와주었던 호랑이였습니다      4.0\n",
       "12373          *저는 나이가 들어 어차피 죽을 목숨이니 저를 임금에게 제물로 바치십시오*      4.0\n",
       "12374                                 그러곤 호랑이는 숨을 거두었습니다      4.0\n",
       "12375     나무꾼은 숨을 거둔 호랑이를 차마 제물로 바치지 못하고 양지바른 땅에 묻어주었습니다      4.0\n",
       "12376  목에 걸린 뼈를 나무꾼이 빼준 이후로 죽을 때까지 나무꾼에게 은혜를 갚는 호랑이의 ...      4.0\n",
       "\n",
       "[12377 rows x 2 columns]"
      ]
     },
     "execution_count": 9,
     "metadata": {},
     "output_type": "execute_result"
    }
   ],
   "source": [
    "data"
   ]
  },
  {
   "cell_type": "code",
   "execution_count": 11,
   "metadata": {},
   "outputs": [
    {
     "data": {
      "text/plain": [
       "(11739, 6)"
      ]
     },
     "execution_count": 11,
     "metadata": {},
     "output_type": "execute_result"
    }
   ],
   "source": [
    "data['Text'].nunique(), data['Feeling'].nunique()"
   ]
  },
  {
   "cell_type": "code",
   "execution_count": 12,
   "metadata": {},
   "outputs": [
    {
     "data": {
      "text/html": [
       "<div>\n",
       "<style scoped>\n",
       "    .dataframe tbody tr th:only-of-type {\n",
       "        vertical-align: middle;\n",
       "    }\n",
       "\n",
       "    .dataframe tbody tr th {\n",
       "        vertical-align: top;\n",
       "    }\n",
       "\n",
       "    .dataframe thead th {\n",
       "        text-align: right;\n",
       "    }\n",
       "</style>\n",
       "<table border=\"1\" class=\"dataframe\">\n",
       "  <thead>\n",
       "    <tr style=\"text-align: right;\">\n",
       "      <th></th>\n",
       "      <th>Text</th>\n",
       "      <th>Feeling</th>\n",
       "    </tr>\n",
       "  </thead>\n",
       "  <tbody>\n",
       "    <tr>\n",
       "      <th>54</th>\n",
       "      <td>라고 말했어요</td>\n",
       "      <td>0.0</td>\n",
       "    </tr>\n",
       "    <tr>\n",
       "      <th>172</th>\n",
       "      <td>*젬지 산아, 젬지 산아, 열리거라*</td>\n",
       "      <td>2.0</td>\n",
       "    </tr>\n",
       "    <tr>\n",
       "      <th>215</th>\n",
       "      <td>라고 그가 말했어요</td>\n",
       "      <td>0.0</td>\n",
       "    </tr>\n",
       "    <tr>\n",
       "      <th>316</th>\n",
       "      <td>라며 당나귀가 말했어요</td>\n",
       "      <td>0.0</td>\n",
       "    </tr>\n",
       "    <tr>\n",
       "      <th>325</th>\n",
       "      <td>라며 그가 말했어요</td>\n",
       "      <td>0.0</td>\n",
       "    </tr>\n",
       "    <tr>\n",
       "      <th>...</th>\n",
       "      <td>...</td>\n",
       "      <td>...</td>\n",
       "    </tr>\n",
       "    <tr>\n",
       "      <th>11941</th>\n",
       "      <td>라며 여왕폐하가 말했어요</td>\n",
       "      <td>0.0</td>\n",
       "    </tr>\n",
       "    <tr>\n",
       "      <th>11949</th>\n",
       "      <td>라며 앨리스가 말했지요</td>\n",
       "      <td>0.0</td>\n",
       "    </tr>\n",
       "    <tr>\n",
       "      <th>11950</th>\n",
       "      <td>*저 애의 목을 쳐라*</td>\n",
       "      <td>3.0</td>\n",
       "    </tr>\n",
       "    <tr>\n",
       "      <th>11953</th>\n",
       "      <td>라며 앨리스가 말했어요</td>\n",
       "      <td>0.0</td>\n",
       "    </tr>\n",
       "    <tr>\n",
       "      <th>11964</th>\n",
       "      <td>라며 앨리스가 말했어요</td>\n",
       "      <td>0.0</td>\n",
       "    </tr>\n",
       "  </tbody>\n",
       "</table>\n",
       "<p>544 rows × 2 columns</p>\n",
       "</div>"
      ],
      "text/plain": [
       "                       Text  Feeling\n",
       "54                  라고 말했어요      0.0\n",
       "172    *젬지 산아, 젬지 산아, 열리거라*      2.0\n",
       "215              라고 그가 말했어요      0.0\n",
       "316            라며 당나귀가 말했어요      0.0\n",
       "325              라며 그가 말했어요      0.0\n",
       "...                     ...      ...\n",
       "11941         라며 여왕폐하가 말했어요      0.0\n",
       "11949          라며 앨리스가 말했지요      0.0\n",
       "11950          *저 애의 목을 쳐라*      3.0\n",
       "11953          라며 앨리스가 말했어요      0.0\n",
       "11964          라며 앨리스가 말했어요      0.0\n",
       "\n",
       "[544 rows x 2 columns]"
      ]
     },
     "metadata": {},
     "output_type": "display_data"
    }
   ],
   "source": [
    "display(data[data.duplicated()])"
   ]
  },
  {
   "cell_type": "code",
   "execution_count": 14,
   "metadata": {},
   "outputs": [
    {
     "data": {
      "text/plain": [
       "5.0    4836\n",
       "2.0    3255\n",
       "0.0    2362\n",
       "1.0     896\n",
       "3.0     524\n",
       "4.0     499\n",
       "Name: Feeling, dtype: int64"
      ]
     },
     "execution_count": 14,
     "metadata": {},
     "output_type": "execute_result"
    }
   ],
   "source": [
    "data['Feeling'].value_counts()"
   ]
  },
  {
   "cell_type": "code",
   "execution_count": 15,
   "metadata": {},
   "outputs": [],
   "source": [
    "data = data[data[\"Feeling\"] != 22.0]"
   ]
  },
  {
   "cell_type": "code",
   "execution_count": 16,
   "metadata": {},
   "outputs": [
    {
     "data": {
      "text/plain": [
       "5.0    4836\n",
       "2.0    3255\n",
       "0.0    2362\n",
       "1.0     896\n",
       "3.0     524\n",
       "4.0     499\n",
       "Name: Feeling, dtype: int64"
      ]
     },
     "execution_count": 16,
     "metadata": {},
     "output_type": "execute_result"
    }
   ],
   "source": [
    "data['Feeling'].value_counts()"
   ]
  },
  {
   "cell_type": "code",
   "execution_count": 17,
   "metadata": {},
   "outputs": [
    {
     "data": {
      "text/plain": [
       "<AxesSubplot:>"
      ]
     },
     "execution_count": 17,
     "metadata": {},
     "output_type": "execute_result"
    },
    {
     "data": {
      "image/png": "[encoded data removed]",
      "text/plain": [
       "<Figure size 432x288 with 1 Axes>"
      ]
     },
     "metadata": {
      "needs_background": "light"
     },
     "output_type": "display_data"
    }
   ],
   "source": [
    "data['Feeling'].value_counts().plot(kind='bar')"
   ]
  },
  {
   "cell_type": "code",
   "execution_count": 18,
   "metadata": {},
   "outputs": [],
   "source": [
    "#  결측치 제거"
   ]
  },
  {
   "cell_type": "code",
   "execution_count": 19,
   "metadata": {},
   "outputs": [
    {
     "data": {
      "text/plain": [
       "Text       0\n",
       "Feeling    5\n",
       "dtype: int64"
      ]
     },
     "execution_count": 19,
     "metadata": {},
     "output_type": "execute_result"
    }
   ],
   "source": [
    "data.isnull().sum()"
   ]
  },
  {
   "cell_type": "code",
   "execution_count": 20,
   "metadata": {},
   "outputs": [
    {
     "name": "stdout",
     "output_type": "stream",
     "text": [
      "False\n"
     ]
    }
   ],
   "source": [
    "data = data.dropna(how = 'any')\n",
    "print(data.isnull().values.any())"
   ]
  },
  {
   "cell_type": "code",
   "execution_count": 21,
   "metadata": {},
   "outputs": [
    {
     "data": {
      "text/plain": [
       "0        2\n",
       "1        2\n",
       "2        2\n",
       "3        0\n",
       "4        5\n",
       "        ..\n",
       "12372    4\n",
       "12373    4\n",
       "12374    4\n",
       "12375    4\n",
       "12376    4\n",
       "Name: Feeling, Length: 12372, dtype: int64"
      ]
     },
     "execution_count": 21,
     "metadata": {},
     "output_type": "execute_result"
    }
   ],
   "source": [
    "data = data.astype({\"Feeling\" : 'int64'})\n",
    "data['Feeling']"
   ]
  },
  {
   "cell_type": "code",
   "execution_count": 22,
   "metadata": {},
   "outputs": [
    {
     "data": {
      "text/html": [
       "<div>\n",
       "<style scoped>\n",
       "    .dataframe tbody tr th:only-of-type {\n",
       "        vertical-align: middle;\n",
       "    }\n",
       "\n",
       "    .dataframe tbody tr th {\n",
       "        vertical-align: top;\n",
       "    }\n",
       "\n",
       "    .dataframe thead th {\n",
       "        text-align: right;\n",
       "    }\n",
       "</style>\n",
       "<table border=\"1\" class=\"dataframe\">\n",
       "  <thead>\n",
       "    <tr style=\"text-align: right;\">\n",
       "      <th></th>\n",
       "      <th>Text</th>\n",
       "      <th>Feeling</th>\n",
       "    </tr>\n",
       "  </thead>\n",
       "  <tbody>\n",
       "    <tr>\n",
       "      <th>0</th>\n",
       "      <td>인도가 적에게 포위를 당했는데 적들이 은화 백 개를 내놓을 때까지 물러나지 않겠다고...</td>\n",
       "      <td>2</td>\n",
       "    </tr>\n",
       "    <tr>\n",
       "      <th>1</th>\n",
       "      <td>그래서 주민들이 북을 치며 선포하길</td>\n",
       "      <td>2</td>\n",
       "    </tr>\n",
       "    <tr>\n",
       "      <th>2</th>\n",
       "      <td>누구든 그 돈을 마련하는 사람을 시장으로 삼겠다</td>\n",
       "      <td>2</td>\n",
       "    </tr>\n",
       "    <tr>\n",
       "      <th>3</th>\n",
       "      <td>라고 했답니다</td>\n",
       "      <td>0</td>\n",
       "    </tr>\n",
       "    <tr>\n",
       "      <th>4</th>\n",
       "      <td>때마침 가난한 어부가 자신의 아들과 호수에서 물고기를 잡아 생활하다 그 적들이 들이...</td>\n",
       "      <td>5</td>\n",
       "    </tr>\n",
       "    <tr>\n",
       "      <th>...</th>\n",
       "      <td>...</td>\n",
       "      <td>...</td>\n",
       "    </tr>\n",
       "    <tr>\n",
       "      <th>12372</th>\n",
       "      <td>그런데 그 호랑이는 바로 옛날에 나무꾼이 도와주었던 호랑이였습니다</td>\n",
       "      <td>4</td>\n",
       "    </tr>\n",
       "    <tr>\n",
       "      <th>12373</th>\n",
       "      <td>저는 나이가 들어 어차피 죽을 목숨이니 저를 임금에게 제물로 바치십시오</td>\n",
       "      <td>4</td>\n",
       "    </tr>\n",
       "    <tr>\n",
       "      <th>12374</th>\n",
       "      <td>그러곤 호랑이는 숨을 거두었습니다</td>\n",
       "      <td>4</td>\n",
       "    </tr>\n",
       "    <tr>\n",
       "      <th>12375</th>\n",
       "      <td>나무꾼은 숨을 거둔 호랑이를 차마 제물로 바치지 못하고 양지바른 땅에 묻어주었습니다</td>\n",
       "      <td>4</td>\n",
       "    </tr>\n",
       "    <tr>\n",
       "      <th>12376</th>\n",
       "      <td>목에 걸린 뼈를 나무꾼이 빼준 이후로 죽을 때까지 나무꾼에게 은혜를 갚는 호랑이의 ...</td>\n",
       "      <td>4</td>\n",
       "    </tr>\n",
       "  </tbody>\n",
       "</table>\n",
       "<p>12372 rows × 2 columns</p>\n",
       "</div>"
      ],
      "text/plain": [
       "                                                    Text  Feeling\n",
       "0      인도가 적에게 포위를 당했는데 적들이 은화 백 개를 내놓을 때까지 물러나지 않겠다고...        2\n",
       "1                                   그래서 주민들이 북을 치며 선포하길         2\n",
       "2                             누구든 그 돈을 마련하는 사람을 시장으로 삼겠다        2\n",
       "3                                                라고 했답니다        0\n",
       "4      때마침 가난한 어부가 자신의 아들과 호수에서 물고기를 잡아 생활하다 그 적들이 들이...        5\n",
       "...                                                  ...      ...\n",
       "12372               그런데 그 호랑이는 바로 옛날에 나무꾼이 도와주었던 호랑이였습니다        4\n",
       "12373            저는 나이가 들어 어차피 죽을 목숨이니 저를 임금에게 제물로 바치십시오        4\n",
       "12374                                 그러곤 호랑이는 숨을 거두었습니다        4\n",
       "12375     나무꾼은 숨을 거둔 호랑이를 차마 제물로 바치지 못하고 양지바른 땅에 묻어주었습니다        4\n",
       "12376  목에 걸린 뼈를 나무꾼이 빼준 이후로 죽을 때까지 나무꾼에게 은혜를 갚는 호랑이의 ...        4\n",
       "\n",
       "[12372 rows x 2 columns]"
      ]
     },
     "execution_count": 22,
     "metadata": {},
     "output_type": "execute_result"
    }
   ],
   "source": [
    "# 한글만 남기기 \n",
    "\n",
    "data['Text'] = data['Text'].str.replace(\"[^ㄱ-ㅎㅏ-ㅣ가-힣 ]\",\"\")\n",
    "data"
   ]
  },
  {
   "cell_type": "code",
   "execution_count": 1,
   "metadata": {},
   "outputs": [
    {
     "ename": "NameError",
     "evalue": "name 'train_test_split' is not defined",
     "output_type": "error",
     "traceback": [
      "\u001b[1;31m---------------------------------------------------------------------------\u001b[0m",
      "\u001b[1;31mNameError\u001b[0m                                 Traceback (most recent call last)",
      "\u001b[1;32m<ipython-input-1-d32e87b7baf4>\u001b[0m in \u001b[0;36m<module>\u001b[1;34m\u001b[0m\n\u001b[1;32m----> 1\u001b[1;33m X_train, y_train = train_test_split(data['Text'], \n\u001b[0m\u001b[0;32m      2\u001b[0m                                                                                                         \u001b[0mtest_size\u001b[0m\u001b[1;33m=\u001b[0m\u001b[1;36m0.25\u001b[0m\u001b[1;33m,\u001b[0m\u001b[1;33m\u001b[0m\u001b[1;33m\u001b[0m\u001b[0m\n\u001b[0;32m      3\u001b[0m                                                     random_state=1004)\n",
      "\u001b[1;31mNameError\u001b[0m: name 'train_test_split' is not defined"
     ]
    }
   ],
   "source": [
    "X_train, y_train = train_test_split(data['Text'], \n",
    "                                                                                                        test_size=0.25, \n",
    "                                                    random_state=1004)"
   ]
  },
  {
   "cell_type": "code",
   "execution_count": 26,
   "metadata": {},
   "outputs": [
    {
     "name": "stdout",
     "output_type": "stream",
     "text": [
      "1198         그러다 하인이 탄 말의 다리가 부러지는 바람에 그는 더는 저를 쫓아올 수 없었지요\n",
      "2906      하지만 늑대는 그들 모두를 찾아내선 다짜고짜 한 명씩 차례로 꿀꺽 꿀꺽 집어 삼켜버렸다\n",
      "6684     소 주인인 농부는 그 말 새끼가 자신의 소들 중 한 마리가 낳은 거니 자기가 데려가...\n",
      "3476                                         자자 어서 마차를 끌어봐\n",
      "4222                                          당신은 죽어야하오 부인\n",
      "                               ...                        \n",
      "8211              그녀는 점점 더 날쌔지는데 반해 젊은이의 짐은 점점 더 무거워져만 갔지요\n",
      "8396     저기 그녀가 오는데 이제 마녀들 중 한 명을 찾았으니 다른 마녀도 금방 찾을 수 있겠는걸\n",
      "9460          왜냐면 그녀의 머리카락은 아주 긴 곱슬머리지만 지금의 난 전혀 곱슬머리가 아닌걸\n",
      "4129      왕자님은 그녀가 기절할 정도로 예쁜 것을 보고 왜 거기 혼자 숨어서 울고 있는지를...\n",
      "10768    참 별나다란 생각이 들어 앨리스가 자세히 보려고 다가가 보았더니 그들 중 한 명이 ...\n",
      "Name: Text, Length: 9279, dtype: object\n",
      "5721              너무도 목이 말랐기에 공주가 말에서 내려 시내물 위로 몸을 숙여 마셨어요\n",
      "3508      아침 일찍 날이 밝아올 무렵 그러니까 모두가 아직 잠들어 있을 때 수탉이 암탉을 ...\n",
      "4402                의심할 여지도 없이 왕자는 이 희한한 모험을 자신이 종결시키고 싶었다\n",
      "7917                                     네 수명을 년으로 하기로 했단다\n",
      "10638                                   전 아는 얘기거리가 하나도 없어요\n",
      "                               ...                        \n",
      "9554          눈이 작고 맑은 테리어개인데 너도 알다시피 길고 곱슬진 갈색 털들이 일품이란다 \n",
      "2128                                               기다려 기다려\n",
      "7286                                            목소리가 대답했어요\n",
      "8547                                    라며 물의 요정 닉세가 대답했어요\n",
      "9931                    그녀가 생각해도 깔끔하고 손쉬우면서도 확실한 좋은 계획이었어요\n",
      "Name: Text, Length: 3093, dtype: object\n",
      "1198     2\n",
      "2906     3\n",
      "6684     0\n",
      "3476     1\n",
      "4222     3\n",
      "        ..\n",
      "8211     2\n",
      "8396     5\n",
      "9460     2\n",
      "4129     5\n",
      "10768    2\n",
      "Name: Feeling, Length: 9279, dtype: int64\n",
      "5721     2\n",
      "3508     5\n",
      "4402     5\n",
      "7917     5\n",
      "10638    2\n",
      "        ..\n",
      "9554     2\n",
      "2128     2\n",
      "7286     0\n",
      "8547     0\n",
      "9931     5\n",
      "Name: Feeling, Length: 3093, dtype: int64\n"
     ]
    }
   ],
   "source": [
    "print(X_train)\n",
    "print(X_test)\n",
    "print(y_train)\n",
    "print(y_test)"
   ]
  },
  {
   "cell_type": "code",
   "execution_count": 27,
   "metadata": {},
   "outputs": [],
   "source": [
    "# 토큰화"
   ]
  },
  {
   "cell_type": "code",
   "execution_count": 28,
   "metadata": {},
   "outputs": [],
   "source": [
    "# 추후 늘리기\n",
    "stopwords = ['의','가','이','은','들','는','좀','잘','걍','과','도','를','으로','자','에','와','한','하다']"
   ]
  },
  {
   "cell_type": "code",
   "execution_count": 29,
   "metadata": {},
   "outputs": [],
   "source": [
    "okt = Okt()\n",
    "X_trains = []\n",
    "for sentence in X_train:\n",
    "    temp_X = okt.morphs(sentence, stem = True) # 토큰화 \n",
    "    temp_X = [word for word in temp_X if not word in stopwords]\n",
    "    X_trains.append(temp_X)"
   ]
  },
  {
   "cell_type": "code",
   "execution_count": 30,
   "metadata": {},
   "outputs": [],
   "source": [
    "# word_list = []\n",
    "# for word in temp_X :\n",
    "#    if not word in stopwords:\n",
    "#        word_list.append(word)"
   ]
  },
  {
   "cell_type": "code",
   "execution_count": 31,
   "metadata": {},
   "outputs": [],
   "source": [
    "okt = Okt()\n",
    "X_tests = []\n",
    "for sentence in X_test:\n",
    "    temp_X = okt.morphs(sentence, stem = True) # 토큰화 \n",
    "    temp_X = [word for word in temp_X if not word in stopwords]\n",
    "    X_tests.append(temp_X)"
   ]
  },
  {
   "cell_type": "code",
   "execution_count": 32,
   "metadata": {},
   "outputs": [],
   "source": [
    "X_train = X_trains\n",
    "X_test = X_tests"
   ]
  },
  {
   "cell_type": "code",
   "execution_count": 33,
   "metadata": {},
   "outputs": [
    {
     "name": "stdout",
     "output_type": "stream",
     "text": [
      "[['그렇다', '하인', '타다', '말', '다리', '부러지다', '바람', '그', '더', '저', '쫓아오다', '수', '없다'], ['하지만', '늑대', '그', '모두', '찾아내다', '선', '다짜고짜', '명', '씩', '차례', '로', '꿀꺽', '꿀꺽', '집다', '삼키다', '버리다'], ['소', '주인', '인', '농부', '그', '말', '새끼', '자신', '소', '중', '마리', '낳다', '거니', '자기', '데려가다', '우기다', '상대방', '말', '낳다', '새끼', '라며', '그건', '자기', '거', '라고', '우기다']]\n",
      "[['너무도', '목', '마르다', '공주', '말', '에서', '내다', '시내', '물', '위로', '몸', '을', '숙이다', '마시다'], ['아침', '일찍', '날', '밝다', '오다', '무렵', '그러니까', '모두', '아직', '잠들다', '있다', '때', '수탉', '암탉', '을', '깨우다', '어제', '그', '계란', '을', '가져오다', '부리', '로', '쪼', '아', '깨다', '다음', '함께', '나누다', '먹고다', '계란', '껍질', '을', '난로', '위', '던지다'], ['의심', '여지', '없이', '왕자', '희한하다', '모험', '을', '자신', '종결', '시키다', '싶다']]\n"
     ]
    }
   ],
   "source": [
    "print(X_train[:3])\n",
    "print(X_test[:3])"
   ]
  },
  {
   "cell_type": "code",
   "execution_count": 34,
   "metadata": {},
   "outputs": [],
   "source": [
    "# 정수 인코딩\n",
    "tokenizer = Tokenizer() \n",
    "tokenizer.fit_on_texts(X_train)"
   ]
  },
  {
   "cell_type": "code",
   "execution_count": 35,
   "metadata": {},
   "outputs": [
    {
     "name": "stdout",
     "output_type": "stream",
     "text": [
      "{'을': 1, '그': 2, '말': 3, '있다': 4, '그녀': 5, '라며': 6, '그렇다': 7, '로': 8, '보다': 9, '않다': 10, '에게': 11, '없다': 12, '자신': 13, '이다': 14, '에서': 15, '가다': 16, '거': 17, '내': 18, '게': 19, '왕': 20, '수': 21, '되다': 22, '하지만': 23, '들다': 24, '것': 25, '고': 26, '다': 27, '앨리스': 28, '더': 29, '네': 30, '요': 31, '두': 32, '저': 33, '그래서': 34, '다음': 35, '다시': 36, '때': 37, '말다': 38, '안': 39, '하나': 40, '오다': 41, '되어다': 42, '못': 43, '생각': 44, '사람': 45, '아니다': 46, '님': 47, '제': 48, '걸': 49, '만': 50, '집': 51, '라고': 52, '예요': 53, '먹다': 54, '공주': 55, '왕자': 56, '뭐': 57, '아이': 58, '크다': 59, '소리': 60, '당신': 61, '까지': 62, '날': 63, '엔': 64, '해주다': 65, '시작': 66, '아내': 67, '하고': 68, '눈': 69, '아': 70, '같다': 71, '나': 72, '아빠': 73, '모두': 74, '속': 75, '자다': 76, '버리다': 77, '왕비': 78, '이제': 79, '지': 80, '정말': 81, '앉다': 82, '좋다': 83, '번': 84, '엄마': 85, '주다': 86, '그리고': 87, '세': 88, '일': 89, '손': 90, '어떻다': 91, '받다': 92, '알다': 93, '들어가다': 94, '야': 95, '대답': 96, '위': 97, '모든': 98, '나무': 99, '우리': 100, '난': 101, '전': 102, '나오다': 103, '숲': 104, '또': 105, '아들': 106, '작다': 107, '그러자': 108, '다른': 109, '나다': 110, '인': 111, '죠': 112, '라': 113, '보고': 114, '고양이': 115, '마리': 116, '때문': 117, '문': 118, '소녀': 119, '거기': 120, '며': 121, '머리': 122, '함께': 123, '이렇게': 124, '적': 125, '모르다': 126, '지금': 127, '보이다': 128, '싶다': 129, '여기': 130, '너': 131, '물': 132, '새': 133, '난쟁이': 134, '그때': 135, '돌아오다': 136, '어리다': 137, '딸': 138, '물다': 139, '앞': 140, '서다': 141, '자기': 142, '이지': 143, '서': 144, '토끼': 145, '한스': 146, '청년': 147, '내다': 148, '아주': 149, '후': 150, '너무': 151, '명': 152, '죽다': 153, '바람': 154, '가지': 155, '어느': 156, '번째': 157, '곧': 158, '아름답다': 159, '도착': 160, '개': 161, '너무도': 162, '남편': 163, '건': 164, '몸': 165, '사랑': 166, '그렇게': 167, '길': 168, '소리치다': 169, '해보다': 170, '선': 171, '뒤': 172, '아무': 173, '형': 174, '아래': 175, '그건': 176, '차다': 177, '알': 178, '이야': 179, '만들다': 180, '방': 181, '줄': 182, '처럼': 183, '아가씨': 184, '밤': 185, '계속': 186, '옆': 187, '해': 188, '그리다': 189, '주인': 190, '누구': 191, '세상': 192, '나가다': 193, '찾다': 194, '오': 195, '즉시': 196, '새끼': 197, '년': 198, '소년': 199, '하인': 200, '많다': 201, '입': 202, '침대': 203, '이렇다': 204, '분': 205, '목': 206, '살다': 207, '든': 208, '넌': 209, '그게': 210, '테': 211, '일이': 212, '어디': 213, '사이': 214, '잡다': 215, '시간': 216, '보내다': 217, '곳': 218, '성': 219, '쪽': 220, '생쥐': 221, '두다': 222, '얘기': 223, '대로': 224, '께서': 225, '그냥': 226, '이나': 227, '마음': 228, '정도': 229, '중': 230, '옷': 231, '거야': 232, '일어나다': 233, '얼굴': 234, '듯': 235, '아침': 236, '니': 237, '늑대': 238, '같이': 239, '왜': 240, '께': 241, '젊은이': 242, '온': 243, '요정': 244, '그리하여': 245, '입다': 246, '아프다': 247, '동안': 248, '살': 249, '시': 250, '이번': 251, '여왕': 252, '괴물': 253, '치다': 254, '눕다': 255, '나르다': 256, '자리': 257, '채': 258, '떨어지다': 259, '마침내': 260, '막': 261, '기다': 262, '듣다': 263, '가장': 264, '황금': 265, '폐하': 266, '걸다': 267, '불': 268, '언니': 269, '기쁘다': 270, '에도': 271, '그리핀': 272, '불쌍하다': 273, '모자': 274, '면': 275, '갈다': 276, '남자': 277, '결국': 278, '왜냐면': 279, '호랑이': 280, '열다': 281, '구': 282, '부르다': 283, '쥐': 284, '놀라다': 285, '잠': 286, '다리': 287, '씩': 288, '부터': 289, '친구': 290, '들이다': 291, '저녁': 292, '그걸': 293, '모습': 294, '달라': 295, '누가': 296, '돈': 297, '거인': 298, '돼다': 299, '땅': 300, '애': 301, '목소리': 302, '염소': 303, '들어오다': 304, '발': 305, '돌아가다': 306, '없이': 307, '말씀': 308, '장수': 309, '여자': 310, '하느님': 311, '거리': 312, '마치': 313, '결혼': 314, '바로': 315, '하': 316, '꺼내다': 317, '또한': 318, '뜨다': 319, '당나귀': 320, '시키다': 321, '나이': 322, '야하다': 323, '무슨': 324, '놓다': 325, '오빠': 326, '어찌': 327, '신데렐라': 328, '왕국': 329, '둘': 330, '노파': 331, '수가': 332, '떠나다': 333, '집다': 334, '마차': 335, '드리다': 336, '젊다': 337, '나무꾼': 338, '막내': 339, '기다리다': 340, '동물': 341, '빵': 342, '지르다': 343, '이며': 344, '마다': 345, '지나가다': 346, '약속': 347, '거북이': 348, '농부': 349, '아기': 350, '무척': 351, '이름': 352, '타고': 353, '고개': 354, '어': 355, '만약': 356, '사라지다': 357, '지다': 358, '가짜': 359, '거지': 360, '올리다': 361, '얘': 362, '뭔': 363, '올라가다': 364, '서로': 365, '가득': 366, '불다': 367, '넣다': 368, '그만': 369, '양': 370, '여': 371, '게다가': 372, '끝': 373, '밖': 374, '위로': 375, '잠시': 376, '예쁘다': 377, '그런데': 378, '궁전': 379, '전혀': 380, '따르다': 381, '깊다': 382, '배우다': 383, '희다': 384, '생기다': 385, '너희': 386, '연주가': 387, '나서다': 388, '그래도': 389, '배': 390, '남다': 391, '노루': 392, '돌': 393, '에는': 394, '추다': 395, '요하네스': 396, '베다': 397, '그것': 398, '서두르다': 399, '계시다': 400, '나누다': 401, '지나다': 402, '새엄마': 403, '데리': 404, '옛날': 405, '절대': 406, '위해': 407, '때리다': 408, '이르다': 409, '누': 410, '던지다': 411, '공작부인': 412, '맞다': 413, '변하다': 414, '걸리다': 415, '니까': 416, '수염': 417, '쯤': 418, '처음': 419, '매일': 420, '사실': 421, '관': 422, '병': 423, '자네': 424, '혼자': 425, '하루': 426, '노래': 427, '빠지다': 428, '노인': 429, '키': 430, '많이': 431, '살짝': 432, '검다': 433, '사방': 434, '가죽': 435, '유리': 436, '고슴도치': 437, '쥐다': 438, '뛰다': 439, '여인': 440, '열리다': 441, '대다': 442, '바닥': 443, '결혼식': 444, '울다': 445, '죄다': 446, '놈': 447, '때마침': 448, '팔': 449, '가져오다': 450, '들리다': 451, '겨울잠': 452, '나머지': 453, '딱': 454, '열쇠': 455, '마법': 456, '산': 457, '엄지': 458, '가난하다': 459, '재봉사': 460, '만큼': 461, '순간': 462, '나타나다': 463, '마을': 464, '끄다': 465, '눈물': 466, '뭔가': 467, '음식': 468, '향': 469, '발견': 470, '풀다': 471, '당장': 472, '바구니': 473, '내미다': 474, '동생': 475, '푸른': 476, '내리다': 477, '사냥꾼': 478, '착하다': 479, '소': 480, '힘': 481, '데': 482, '여행': 483, '할머니': 484, '거위': 485, '배심원': 486, '나아가다': 487, '믿다': 488, '슬프다': 489, '놓이다': 490, '외치다': 491, '어서': 492, '이건': 493, '어찌나': 494, '잃다': 495, '대꾸': 496, '공': 497, '가운데': 498, '머물다': 499, '마디': 500, '쓰다': 501, '내려오다': 502, '금': 503, '반지': 504, '밖에': 505, '행복하다': 506, '간': 507, '월': 508, '죽': 509, '냐': 510, '볼': 511, '접시': 512, '상태': 513, '담다': 514, '기': 515, '돌리다': 516, '실': 517, '끌': 518, '장화': 519, '하늘': 520, '꼭': 521, '선물': 522, '끼다': 523, '오늘': 524, '마냥': 525, '가보다': 526, '만나다': 527, '쉬다': 528, '인지': 529, '자르다': 530, '뭘': 531, '급하다': 532, '엄청': 533, '뭐라다': 534, '등': 535, '이고': 536, '열': 537, '물이': 538, '가지다': 539, '부자': 540, '죽이다': 541, '밑': 542, '라는': 543, '기분': 544, '돼지': 545, '이라': 546, '에겐': 547, '밭': 548, '멀리': 549, '녀': 550, '드레스': 551, '아버지': 552, '개구리': 553, '첫': 554, '반': 555, '이라도': 556, '구두': 557, '동자': 558, '화': 559, '바보': 560, '내려가다': 561, '깜짝': 562, '쳐다보다': 563, '몇': 564, '이에요': 565, '귀엽다': 566, '손가락': 567, '늙다': 568, '난로': 569, '웃다': 570, '흐르다': 571, '쓸다': 572, '자루': 573, '충신': 574, '장': 575, '빨갛다': 576, '관리인': 577, '얻다': 578, '명의': 579, '째': 580, '필요': 581, '수탉': 582, '장미': 583, '강아지': 584, '다가오다': 585, '물고기': 586, '이미': 587, '말고': 588, '멀다': 589, '대화': 590, '돌보다': 591, '아직': 592, '방앗간': 593, '살리다': 594, '교회': 595, '사냥': 596, '곰': 597, '커다랗다': 598, '맛': 599, '멈추다': 600, '에게로': 601, '말투': 602, '예전': 603, '지키다': 604, '말씀드리다': 605, '인데': 606, '따다': 607, '아아': 608, '이후': 609, '크게': 610, '걱정': 611, '달아나다': 612, '계단': 613, '우선': 614, '겁': 615, '커지다': 616, '보석': 617, '마법사': 618, '흔들다': 619, '숨': 620, '방문': 621, '농부가': 622, '문제': 623, '준비': 624, '물어보다': 625, '들어서다': 626, '물론': 627, '신다': 628, '연못': 629, '번은': 630, '대모': 631, '거니': 632, '상황': 633, '사랑스럽다': 634, '이란': 635, '숨다': 636, '정원': 637, '여기다': 638, '기쁨': 639, '도와주다': 640, '신부': 641, '빌다': 642, '출발': 643, '질문': 644, '들판': 645, '방법': 646, '빛': 647, '무겁다': 648, '밥': 649, '왜냐하면': 650, '이리': 651, '이유': 652, '떡': 653, '어디서': 654, '다니다': 655, '라도': 656, '은화': 657, '몰다': 658, '훨씬': 659, '동시': 660, '에요': 661, '대신': 662, '식': 663, '진짜': 664, '정신': 665, '게다': 666, '젠': 667, '라푼첼': 668, '고기': 669, '비단': 670, '마찬가지': 671, '끈': 672, '보여주다': 673, '시골': 674, '여전하다': 675, '애벌레': 676, '달리다': 677, '보이지': 678, '맛있다': 679, '귀': 680, '달다': 681, '오르다': 682, '만족하다': 683, '까마귀': 684, '책': 685, '슬픔': 686, '식탁': 687, '쫓다': 688, '춤': 689, '재치': 690, '씨': 691, '들여다보다': 692, '건데': 693, '원': 694, '덮다': 695, '잊다': 696, '다만': 697, '도로': 698, '낳다': 699, '달구지': 700, '여동생': 701, '둘째': 702, '치': 703, '산토끼': 704, '바라보다': 705, '금방': 706, '어쩔': 707, '성문': 708, '거란': 709, '양반': 710, '누군가': 711, '잡아먹다': 712, '가득하다': 713, '가까이': 714, '기도': 715, '의자': 716, '우물': 717, '조금': 718, '죽음': 719, '머리카락': 720, '구멍': 721, '한참': 722, '준': 723, '직접': 724, '화가': 725, '처녀': 726, '벌어지다': 727, '쉬': 728, '마시다': 729, '뜰': 730, '사자': 731, '들려오다': 732, '시계': 733, '원하다': 734, '가버리다': 735, '항상': 736, '기꺼이': 737, '널': 738, '차라리': 739, '뿐이다': 740, '두꺼비': 741, '해도': 742, '옮기다': 743, '끝나다': 744, '요리사': 745, '상인': 746, '잡고': 747, '좋아하다': 748, '비명': 749, '벌써': 750, '날아가다': 751, '혼잣말': 752, '에게는': 753, '저기': 754, '코': 755, '아마': 756, '잔': 757, '타다': 758, '짐': 759, '어깨': 760, '암탉': 761, '바르다': 762, '결심': 763, '목사': 764, '이든': 765, '바라다': 766, '밟다': 767, '주변': 768, '자고': 769, '부탁': 770, '에게도': 771, '전하': 772, '자라다': 773, '여우': 774, '닿다': 775, '무엇': 776, '로부터': 777, '달려가다': 778, '오두막': 779, '정말로': 780, '설명': 781, '드러눕다': 782, '대비': 783, '찾아오다': 784, '데려가다': 785, '바다': 786, '에선': 787, '붙다': 788, '방금': 789, '동의': 790, '그저': 791, '돌다': 792, '편지': 793, '마지막': 794, '흘리다': 795, '묻다': 796, '나쁘다': 797, '라면': 798, '사과': 799, '부부': 800, '완전하다': 801, '처': 802, '얼마나': 803, '랑': 804, '먼저': 805, '형제': 806, '마리아': 807, '백작': 808, '뿌리다': 809, '박': 810, '연주': 811, '엄청나다': 812, '살펴보다': 813, '다물다': 814, '울': 815, '그동안': 816, '수도': 817, '리': 818, '대해': 819, '마르다': 820, '그대로': 821, '건네다': 822, '사악하다': 823, '삼키다': 824, '아무래도': 825, '주님': 826, '넘다': 827, '광경': 828, '높이': 829, '깨어나다': 830, '남': 831, '앤': 832, '입장': 833, '한쪽': 834, '꽃': 835, '씻다': 836, '그제야': 837, '여보': 838, '달': 839, '구르다': 840, '비록': 841, '비': 842, '리케': 843, '적다': 844, '통해': 845, '확실하다': 846, '무릎': 847, '무섭다': 848, '사용': 849, '뽑다': 850, '묶다': 851, '이니': 852, '이내': 853, '조각': 854, '주방': 855, '온통': 856, '하자': 857, '벗다': 858, '별': 859, '생명': 860, '대한': 861, '부엌': 862, '얼른': 863, '점점': 864, '한번': 865, '고함': 866, '치고': 867, '세다': 868, '주': 869, '감히': 870, '노크': 871, '목숨': 872, '닫히다': 873, '채우다': 874, '말로': 875, '상': 876, '무렵': 877, '마': 878, '점': 879, '속이다': 880, '모이다': 881, '진심': 882, '늘다': 883, '애가': 884, '역시': 885, '이라고': 886, '냉큼': 887, '한테': 888, '아뇨': 889, '상상': 890, '도둑': 891, '동': 892, '맡다': 893, '짐승': 894, '인사': 895, '꿀': 896, '근데': 897, '대체': 898, '꼬리': 899, '울리다': 900, '통': 901, '도끼': 902, '대': 903, '하늘나라': 904, '용': 905, '에게서': 906, '곤': 907, '재판': 908, '읽다': 909, '쭉': 910, '내일': 911, '에다': 912, '기어': 913, '일찍': 914, '화려하다': 915, '뻗다': 916, '다르다': 917, '참새': 918, '포도주': 919, '다시다': 920, '모양': 921, '빨리': 922, '느끼다': 923, '홀': 924, '바위': 925, '어부': 926, '그릇': 927, '싫다': 928, '삼': 929, '지치다': 930, '만큼이나': 931, '거의': 932, '떨어뜨리다': 933, '나라': 934, '청': 935, '케이크': 936, '가슴': 937, '상처': 938, '이상': 939, '뛰어가다': 940, '꼭대기': 941, '앞발': 942, '데려오다': 943, '소식': 944, '깨다': 945, '사': 946, '중요하다': 947, '바닷가재': 948, '신': 949, '테이블': 950, '놀부': 951, '올라오다': 952, '미치다': 953, '뱀': 954, '폴짝': 955, '백': 956, '요리': 957, '검': 958, '밀다': 959, '병사': 960, '의상': 961, '땐': 962, '이해': 963, '바': 964, '버터': 965, '안다': 966, '우린': 967, '다해': 968, '잖다': 969, '원래': 970, '리도': 971, '맞이': 972, '명령': 973, '차리다': 974, '놀다': 975, '해오다': 976, '달려들다': 977, '참다': 978, '움직이다': 979, '고수머리': 980, '법': 981, '깃털': 982, '손님': 983, '새롭다': 984, '비추다': 985, '보트': 986, '단': 987, '거치다': 988, '호주머니': 989, '주위': 990, '감': 991, '헤엄': 992, '따라오다': 993, '이야기': 994, '후작': 995, '찍다': 996, '우두머리': 997, '짓다': 998, '모으다': 999, '꿀꺽': 1000, '시도': 1001, '구석': 1002, '거고': 1003, '스스로': 1004, '까진': 1005, '오래': 1006, '주막': 1007, '벽': 1008, '떼다': 1009, '분명하다': 1010, '필요하다': 1011, '떼': 1012, '담': 1013, '흥': 1014, '빼다': 1015, '굳이': 1016, '먹이다': 1017, '출산': 1018, '까닭': 1019, '답': 1020, '걷다': 1021, '오랫동안': 1022, '홀로': 1023, '남기다': 1024, '곡식': 1025, '등골': 1026, '요구': 1027, '척': 1028, '태어나다': 1029, '머릿결': 1030, '키스': 1031, '급기야': 1032, '수많다': 1033, '순': 1034, '가게': 1035, '강': 1036, '지니다': 1037, '몇몇': 1038, '킬로미터': 1039, '잘생기다': 1040, '그날': 1041, '떨다': 1042, '분명': 1043, '저희': 1044, '장님': 1045, '줄기': 1046, '도중': 1047, '돌아보다': 1048, '장소': 1049, '둘러보다': 1050, '왕도': 1051, '뿌리': 1052, '제발': 1053, '항아리': 1054, '뒤지다': 1055, '불행': 1056, '욕심': 1057, '주지': 1058, '길이': 1059, '갑자기': 1060, '신사': 1061, '끔찍하다': 1062, '울창': 1063, '충분하다': 1064, '혹시': 1065, '조심하다': 1066, '꿈': 1067, '란': 1068, '어제': 1069, '드러내다': 1070, '황': 1071, '첫째': 1072, '에서도': 1073, '저리': 1074, '차례': 1075, '걸어가다': 1076, '잔뜩': 1077, '운': 1078, '빠져나가다': 1079, '보단': 1080, '외': 1081, '강하다': 1082, '언덕': 1083, '듯이': 1084, '아가': 1085, '걸치다': 1086, '놀란': 1087, '가야': 1088, '건지다': 1089, '닫다': 1090, '글쎄': 1091, '응': 1092, '건너다': 1093, '닮다': 1094, '길다': 1095, '소시지': 1096, '베': 1097, '일곱': 1098, '생전': 1099, '그루': 1100, '도망치다': 1101, '사형': 1102, '약간': 1103, '제대로': 1104, '줍다': 1105, '박사': 1106, '오싹하다': 1107, '아무리': 1108, '부다': 1109, '성대': 1110, '모금': 1111, '금화': 1112, '막히다': 1113, '양치기': 1114, '비둘기': 1115, '거두다': 1116, '단지': 1117, '흥겹다': 1118, '호기심': 1119, '건가': 1120, '해내다': 1121, '에라도': 1122, '지내다': 1123, '넘어지다': 1124, '알아보다': 1125, '용서': 1126, '보물': 1127, '신기하다': 1128, '훌륭하다': 1129, '흰눈': 1130, '보기': 1131, '태우다': 1132, '날다': 1133, '헛간': 1134, '천국': 1135, '방향': 1136, '둥글다': 1137, '탑': 1138, '시냇물': 1139, '몹시': 1140, '창문': 1141, '히': 1142, '그림': 1143, '떡갈나무': 1144, '결과': 1145, '놀이': 1146, '도도새': 1147, '소원': 1148, '치우다': 1149, '덥다': 1150, '풀밭': 1151, '마치다': 1152, '새다': 1153, '덧붙이다': 1154, '무도회': 1155, '수명': 1156, '샘': 1157, '천사': 1158, '머': 1159, '내려놓다': 1160, '뻔하다': 1161, '다섯': 1162, '마녀': 1163, '심하다': 1164, '달빛': 1165, '경우': 1166, '다행하다': 1167, '음': 1168, '텐데': 1169, '산이': 1170, '한편': 1171, '붉다': 1172, '만은': 1173, '그렇지만': 1174, '도대체': 1175, '용기': 1176, '망토': 1177, '굶다': 1178, '굴뚝': 1179, '당하다': 1180, '콘래드': 1181, '끌어당기다': 1182, '집어넣다': 1183, '소용': 1184, '래': 1185, '종류': 1186, '앞뒤': 1187, '소문': 1188, '그이': 1189, '열매': 1190, '품': 1191, '대고': 1192, '대장장이': 1193, '하얗다': 1194, '근처': 1195, '암소': 1196, '심지어': 1197, '내내': 1198, '끼': 1199, '높다': 1200, '일단': 1201, '수풀': 1202, '빠르다': 1203, '자식': 1204, '감추다': 1205, '화들짝': 1206, '이상하다': 1207, '나뭇가지': 1208, '풀': 1209, '기겁': 1210, '움': 1211, '곁': 1212, '맞추다': 1213, '탁자': 1214, '오리': 1215, '감싸다': 1216, '딸애': 1217, '유산': 1218, '뿐': 1219, '가져다주다': 1220, '가련하다': 1221, '단번': 1222, '지켜보다': 1223, '튀어나오다': 1224, '바꾸다': 1225, '상냥하다': 1226, '장군': 1227, '갇히다': 1228, '다소': 1229, '펴다': 1230, '비계': 1231, '도깨비': 1232, '늦다': 1233, '그렇다고': 1234, '기운': 1235, '물통': 1236, '의하다': 1237, '지시': 1238, '고통': 1239, '맹세': 1240, '거대하다': 1241, '얼마': 1242, '꼴': 1243, '제비': 1244, '두드리다': 1245, '피리': 1246, '부분': 1247, '떨리다': 1248, '감사': 1249, '벤야민': 1250, '그러니까': 1251, '의심': 1252, '마당': 1253, '진주': 1254, '일도': 1255, '통과': 1256, '침실': 1257, '불구': 1258, '여섯': 1259, '짜다': 1260, '그물': 1261, '쓰러지다': 1262, '끌다': 1263, '뜻': 1264, '마부': 1265, '왕관': 1266, '터': 1267, '어머니': 1268, '그거': 1269, '행운': 1270, '괴롭히다': 1271, '자녀': 1272, '만이': 1273, '마음씨': 1274, '대가': 1275, '겁니다': 1276, '인가': 1277, '남아': 1278, '깨우다': 1279, '곧장': 1280, '탓': 1281, '구해': 1282, '달려오다': 1283, '한다는': 1284, '홍학': 1285, '틈': 1286, '단단하다': 1287, '추하다': 1288, '찾아가다': 1289, '군': 1290, '금세': 1291, '제안': 1292, '막대기': 1293, '찰나': 1294, '너머': 1295, '물리다': 1296, '라다': 1297, '솟다': 1298, '신하': 1299, '허락': 1300, '인간': 1301, '법정': 1302, '기르다': 1303, 'ㅡ': 1304, '써다': 1305, '악마': 1306, '지붕': 1307, '사납다': 1308, '오지': 1309, '어쨌든': 1310, '훔치다': 1311, '피': 1312, '도무지': 1313, '감다': 1314, '매달리다': 1315, '상자': 1316, '연기': 1317, '서서': 1318, '담기다': 1319, '벌떡': 1320, '쏘다': 1321, '가도': 1322, '바이올린': 1323, '내지': 1324, '사다': 1325, '도움': 1326, '일로': 1327, '식사': 1328, '영리하다': 1329, '피우다': 1330, '덩어리': 1331, '마저': 1332, '봉': 1333, '생활': 1334, '사슴': 1335, '꼬': 1336, '발끈': 1337, '종일': 1338, '장갑': 1339, '꺼지다': 1340, '온갖': 1341, '부러지다': 1342, '메다': 1343, '쇠': 1344, '입도': 1345, '술': 1346, '여러분': 1347, '조용하다': 1348, '지만': 1349, '업다': 1350, '얹다': 1351, '챙기다': 1352, '차': 1353, '빠져나오다': 1354, '받아들이다': 1355, '닦다': 1356, '에서부터': 1357, '뺨': 1358, '울타리': 1359, '아끼다': 1360, '리하': 1361, '하니': 1362, '불빛': 1363, '땅속': 1364, '보고서': 1365, '상추': 1366, '잡': 1367, '불행하다': 1368, '턱': 1369, '뛰어다니다': 1370, '떠오르다': 1371, '마구': 1372, '위험': 1373, '이오': 1374, '크기': 1375, '가만': 1376, '해드리다': 1377, '잎사귀': 1378, '즐겁다': 1379, '성모': 1380, '능력': 1381, '찾아보다': 1382, '벌': 1383, '소용없다': 1384, '잠기다': 1385, '원님': 1386, '돌아다니다': 1387, '똑같다': 1388, '맛보다': 1389, '숨기다': 1390, '태양': 1391, '금지': 1392, '인정': 1393, '눈치': 1394, '금은': 1395, '부드럽다': 1396, '초대': 1397, '내버리다': 1398, '아리땁다': 1399, '시장': 1400, '야생': 1401, '빛나다': 1402, '하라': 1403, '걸음': 1404, '버섯': 1405, '고맙다': 1406, '곧바로': 1407, '싹': 1408, '갖다': 1409, '땔감': 1410, '날아오르다': 1411, '토끼다': 1412, '앉은뱅이': 1413, '불어': 1414, '낮다': 1415, '피곤하다': 1416, '잠깐': 1417, '물레': 1418, '대구': 1419, '옛적': 1420, '젬': 1421, '산아': 1422, '자그마하다': 1423, '견디다': 1424, '잠들다': 1425, '순무': 1426, '소망': 1427, '따뜻하다': 1428, '매우': 1429, '토록': 1430, '동굴': 1431, '증인': 1432, '빌리다': 1433, '예의': 1434, '묶음': 1435, '전나무': 1436, '신경': 1437, '소유': 1438, '할아버지': 1439, '무너지다': 1440, '확': 1441, '요술': 1442, '주제': 1443, '강물': 1444, '어딨다': 1445, '확신': 1446, '종': 1447, '박히다': 1448, '스럽다': 1449, '또다시': 1450, '가만있다': 1451, '가져가다': 1452, '뻐꾸기': 1453, '끊다': 1454, '베드로': 1455, '현명하다': 1456, '기껏': 1457, '심장': 1458, '변화': 1459, '신랑': 1460, '어리석다': 1461, '송아지': 1462, '심다': 1463, '흩다': 1464, '나중': 1465, '달래다': 1466, '운명': 1467, '거들다': 1468, '이리저리': 1469, '특히': 1470, '아주머니': 1471, '며칠': 1472, '드릴': 1473, '어렵다': 1474, '거나': 1475, '석판': 1476, '전체': 1477, '겨': 1478, '초': 1479, '저렇게': 1480, '싸우다': 1481, '라곤': 1482, '파리': 1483, '시오': 1484, '밝다': 1485, '둥지': 1486, '데리다': 1487, '감옥': 1488, '미인': 1489, '유령': 1490, '보이': 1491, '행복': 1492, '방망이': 1493, '독수리': 1494, '보드랍다': 1495, '날아오다': 1496, '학자': 1497, '행렬': 1498, '만에': 1499, '밭고랑': 1500, '가르치다': 1501, '물어': 1502, '빈': 1503, '핥다': 1504, '순식간': 1505, '사뭇': 1506, '다행': 1507, '이라는': 1508, '썩': 1509, '먹이': 1510, '조심': 1511, '물결': 1512, '사다리': 1513, '골짜기': 1514, '시르다': 1515, '두렵다': 1516, '천': 1517, '행동': 1518, '찬찬하다': 1519, '어둠': 1520, '호수': 1521, '뚜껑': 1522, '미끄러지다': 1523, '변신': 1524, '사정': 1525, '줄다': 1526, '털': 1527, '배고프다': 1528, '말르다': 1529, '날개': 1530, '이제야': 1531, '껍질': 1532, '내려다보다': 1533, '지하실': 1534, '다다르다': 1535, '병들다': 1536, '방울': 1537, '누군지': 1538, '스레': 1539, '웬': 1540, '호의': 1541, '학생': 1542, '낯선': 1543, '벌리다': 1544, '스럽게': 1545, '켜다': 1546, '시기': 1547, '게으르다': 1548, '이를': 1549, '한숨': 1550, '까짓': 1551, '오누이': 1552, '카라': 1553, '바스': 1554, '그대': 1555, '꼬마': 1556, '도마뱀': 1557, '재빨리': 1558, '든지': 1559, '표정': 1560, '평소': 1561, '작아지다': 1562, '최고': 1563, '벗어나다': 1564, '재밌다': 1565, '왼쪽': 1566, '박쥐': 1567, '부지런하다': 1568, '자마자': 1569, '힘들다': 1570, '에까지': 1571, '열심히': 1572, '인가요': 1573, '이네': 1574, '활짝': 1575, '으르렁': 1576, '수프': 1577, '멋지다': 1578, '발언': 1579, '굳다': 1580, '메뚜기': 1581, '사내': 1582, '해달라다': 1583, '뒤따르다': 1584, '하곤': 1585, '진실로': 1586, '편': 1587, '스프': 1588, '옳다': 1589, '핀': 1590, '붙잡다': 1591, '에야': 1592, '시루': 1593, '재판관': 1594, '설교': 1595, '재우다': 1596, '음악': 1597, '터뜨리다': 1598, '금고': 1599, '키우다': 1600, '머릿속': 1601, '침묵': 1602, '불쑥': 1603, '래지': 1604, '허사': 1605, '정원사': 1606, '파다': 1607, '편하다': 1608, '느껴지다': 1609, '으론': 1610, '이마': 1611, '집행': 1612, '녀석': 1613, '다가가다': 1614, '센티미터': 1615, '수만': 1616, '시원하다': 1617, '발자국': 1618, '짝': 1619, '기회': 1620, '얼룩': 1621, '한시': 1622, '흘러내리다': 1623, '부유하다': 1624, '무례하다': 1625, '가면': 1626, '내뱉다': 1627, '땅바닥': 1628, '가시': 1629, '미처': 1630, '성채': 1631, '파이': 1632, '받치다': 1633, '허겁지겁': 1634, '넘치다': 1635, '공간': 1636, '칼': 1637, '이기다': 1638, '지난': 1639, '올빼미': 1640, '가기': 1641, '생각나다': 1642, '잔디': 1643, '놓아두다': 1644, '여자애': 1645, '장식': 1646, '베풀다': 1647, '뿔': 1648, '여름': 1649, '고요': 1650, '문지르다': 1651, '죄': 1652, '날카롭다': 1653, '마구간': 1654, '하녀': 1655, '느리다': 1656, '잭': 1657, '우': 1658, '벌레': 1659, '우연히': 1660, '앵무새': 1661, '자가': 1662, '건강하다': 1663, '반하다': 1664, '냄비': 1665, '위대하다': 1666, '들르다': 1667, '거만하다': 1668, '무덤': 1669, '인걸': 1670, '넓다': 1671, '고생': 1672, '연인': 1673, '소금': 1674, '몰래': 1675, '펼치다': 1676, '당': 1677, '몽땅': 1678, '당황': 1679, '주일': 1680, '빼': 1681, '깔다': 1682, '푼': 1683, '현관문': 1684, '수북이': 1685, '솟구치다': 1686, '도망가다': 1687, '시험': 1688, '수수께끼': 1689, '들려주다': 1690, '졸리다': 1691, '따라가다': 1692, '이웃': 1693, '살아나다': 1694, '오른쪽': 1695, '웰레': 1696, '나아': 1697, '이틀': 1698, '타': 1699, '작정': 1700, '부모님': 1701, '찢어지다': 1702, '몸집': 1703, '어이': 1704, '송곳': 1705, '무얼': 1706, '부리다': 1707, '삶': 1708, '부정': 1709, '건드리다': 1710, '굴': 1711, '낫다': 1712, '이던': 1713, '축복': 1714, '철제': 1715, '평생': 1716, '황소': 1717, '월계수': 1718, '뻔': 1719, '라임': 1720, '일부': 1721, '성공하다': 1722, '가두다': 1723, '딸아이': 1724, '부채': 1725, '자라': 1726, '반짝': 1727, '보름달': 1728, '간절하다': 1729, '겨울': 1730, '이루다': 1731, '꼼짝': 1732, '거울': 1733, '짓': 1734, '심부름': 1735, '매': 1736, '셋': 1737, '상대방': 1738, '맺다': 1739, '없어지다': 1740, '원숭이': 1741, '귀가': 1742, '인도': 1743, '충실하다': 1744, '워낙': 1745, '다치다': 1746, '열두': 1747, '가루': 1748, '보수': 1749, '중얼거리다': 1750, '원체': 1751, '깊이': 1752, '순례': 1753, '하룻밤': 1754, '피다': 1755, '놀리다': 1756, '몸소': 1757, '시어': 1758, '벌이': 1759, '숨기': 1760, '낫': 1761, '빠뜨리다': 1762, '펄쩍': 1763, '뛰어들다': 1764, '관리': 1765, '가르다': 1766, '냄새': 1767, '어보': 1768, '친절하다': 1769, '낮': 1770, '언제': 1771, '종종': 1772, '숙녀': 1773, '각자': 1774, '빼기': 1775, '해치다': 1776, '움직': 1777, '햇살': 1778, '컵': 1779, '불가': 1780, '어쩜': 1781, '개다': 1782, '약': 1783, '자매': 1784, '번만': 1785, '가볍다': 1786, '절': 1787, '새벽': 1788, '이따금': 1789, '매달다': 1790, '언제나': 1791, '귀족': 1792, '에만': 1793, '깨지다': 1794, '끼어들다': 1795, '청소': 1796, '혹': 1797, '공사': 1798, '용감하다': 1799, '아시': 1800, '간신히': 1801, '달리기': 1802, '지니': 1803, '산적': 1804, '팔꿈치': 1805, '꾹': 1806, '글씨': 1807, '깜빡': 1808, '선하다': 1809, '거랍니': 1810, '기대': 1811, '강풍': 1812, '줄어들다': 1813, '잡히다': 1814, '동정녀': 1815, '로서': 1816, '재산': 1817, '만들어지다': 1818, '싸움': 1819, '붙들다': 1820, '번쩍': 1821, '매력': 1822, '몽둥이': 1823, '주어': 1824, '장이': 1825, '회색': 1826, '지상': 1827, '값': 1828, '똑똑': 1829, '정중하다': 1830, '전부': 1831, '산다': 1832, '적당하다': 1833, '정': 1834, '하리': 1835, '두운': 1836, '들뜨다': 1837, '먼지': 1838, '깨': 1839, '절망': 1840, '복종': 1841, '으로도': 1842, '젖': 1843, '전해': 1844, '아저씨': 1845, '당밀': 1846, '송이': 1847, '겠다': 1848, '지도': 1849, '나름': 1850, '고프다': 1851, '남성': 1852, '갚다': 1853, '이브': 1854, '밀짚': 1855, '크로케': 1856, '흔들리다': 1857, '황야': 1858, '지나': 1859, '거북': 1860, '사정없이': 1861, '건초': 1862, '품다': 1863, '힘껏': 1864, '도시': 1865, '계란': 1866, '로는': 1867, '가라앉다': 1868, '푹': 1869, '구름': 1870, '매다': 1871, '짧다': 1872, '마련': 1873, '라네': 1874, '입히다': 1875, '당연하다': 1876, '아이고': 1877, '그치다': 1878, '좋아지다': 1879, '지혜': 1880, '기절': 1881, '양쪽': 1882, '당기다': 1883, '질': 1884, '딸기': 1885, '거머': 1886, '예': 1887, '아부지': 1888, '진': 1889, '마주치다': 1890, '일요일': 1891, '그야': 1892, '재주': 1893, '울음소리': 1894, '그로': 1895, '비다': 1896, '핏자국': 1897, '지는': 1898, '군대': 1899, '조약돌': 1900, '안고': 1901, '따로': 1902, '휙': 1903, '이쁘다': 1904, '이빨': 1905, '슈트': 1906, '족제비': 1907, '얼다': 1908, '짖다': 1909, '이어지다': 1910, '흥부': 1911, '노력': 1912, '들어주다': 1913, '표시': 1914, '판사': 1915, '잘못': 1916, '자빠지다': 1917, '차지': 1918, '양동이': 1919, '숙이다': 1920, '지체': 1921, '물가': 1922, '지금껏': 1923, '작고': 1924, '빗': 1925, '쏟다': 1926, '이불': 1927, '괜찮다': 1928, '병아리': 1929, '선생님': 1930, '서도': 1931, '쑥': 1932, '내쉬다': 1933, '스푼': 1934, '쏙': 1935, '망': 1936, '덕분': 1937, '쌓이다': 1938, '은혜': 1939, '몫': 1940, '작업': 1941, '어째': 1942, '다짐': 1943, '허공': 1944, '찾아내다': 1945, '다짜고짜': 1946, '불길': 1947, '통째': 1948, '소릴': 1949, '장난': 1950, '벗기다': 1951, '장사': 1952, '그랬더니': 1953, '쟁기': 1954, '가엾다': 1955, '이의': 1956, '후춧가루': 1957, '조언': 1958, '오리가': 1959, '반대': 1960, '불리다': 1961, '포도': 1962, '동산': 1963, '문득': 1964, '자초지종': 1965, '학교': 1966, '적히다': 1967, '조롱': 1968, '착각': 1969, '그토록': 1970, '핫케이크': 1971, '두려움': 1972, '터지다': 1973, '무리': 1974, '엎드리다': 1975, '두둑': 1976, '구렁이': 1977, '제일': 1978, '작': 1979, '올라타다': 1980, '기억': 1981, '살아가다': 1982, '퍼지다': 1983, '우유': 1984, '미터': 1985, '모루': 1986, '농장': 1987, '포기': 1988, '투성이': 1989, '잠자리': 1990, '마침': 1991, '그나마': 1992, '보아': 1993, '미모': 1994, '벌컥': 1995, '각종': 1996, '칠': 1997, '재채기': 1998, '거행': 1999, '미소': 2000, '최고급': 2001, '가구': 2002, '데우다': 2003, '시신': 2004, '뜯다': 2005, '인상': 2006, '안전하다': 2007, '보다도': 2008, '시합': 2009, '과일': 2010, '창': 2011, '뚝': 2012, '규칙': 2013, '저절로': 2014, '엿보다': 2015, '끌리다': 2016, '햇볕': 2017, '꿇다': 2018, '아깝다': 2019, '주의': 2020, '알리다': 2021, '성격': 2022, '금빛': 2023, '왕족': 2024, '모': 2025, '돌려주다': 2026, '쇠사슬': 2027, '바다로': 2028, '채다': 2029, '공중': 2030, '형상': 2031, '조': 2032, '째다': 2033, '찌르다': 2034, '달콤하다': 2035, '속도': 2036, '랍': 2037, '씩씩하다': 2038, '방이': 2039, '복도': 2040, '의미': 2041, '휴식': 2042, '저런': 2043, '이끌다': 2044, '오시': 2045, '복수': 2046, '막내딸': 2047, '팔다리': 2048, '층': 2049, '깨끗하다': 2050, '밝히다': 2051, '기름': 2052, '고치다': 2053, '올려다보다': 2054, '총': 2055, '대략': 2056, '학': 2057, '마자': 2058, '마마': 2059, '보라': 2060, '서둘다': 2061, '부여잡다': 2062, '가위': 2063, '날씨': 2064, '저녁식사': 2065, '붙이다': 2066, '팔팔하다': 2067, '커튼': 2068, '밤새': 2069, '가을': 2070, '기니피그': 2071, '제지': 2072, '영혼': 2073, '외투': 2074, '조건': 2075, '모험': 2076, '치면': 2077, '발톱': 2078, '확인': 2079, '휘': 2080, '도망': 2081, '낚아채다': 2082, '내기': 2083, '등등': 2084, '초상화': 2085, '하나로': 2086, '기대다': 2087, '거듭': 2088, '속삭이다': 2089, '똑똑하다': 2090, '지기': 2091, '소중하다': 2092, '모래': 2093, '아우성': 2094, '오랜': 2095, '눈빛': 2096, '여하튼': 2097, '꾸다': 2098, '곯다': 2099, '이보': 2100, '잠잠하다': 2101, '저쪽': 2102, '자의': 2103, '불편하다': 2104, '성은': 2105, '뛰어오르다': 2106, '궁궐': 2107, '다이아몬드': 2108, '이루': 2109, '망부석': 2110, '정확하다': 2111, '톡': 2112, '어머': 2113, '인생': 2114, '주마': 2115, '어쩐': 2116, '트리': 2117, '궁금하다': 2118, '정심': 2119, '게임': 2120, '물러나다': 2121, '똑': 2122, '롬': 2123, '베르크': 2124, '렀': 2125, '종이': 2126, '춥다': 2127, '칭찬': 2128, '얼씨구': 2129, '불가능하다': 2130, '비참하다': 2131, '건네주다': 2132, '제외': 2133, '전쟁': 2134, '표현': 2135, '진지하다': 2136, '걷어차다': 2137, '나리': 2138, '포옹': 2139, '헷갈리다': 2140, '골대': 2141, '쬐다': 2142, '젖다': 2143, '맨': 2144, '힘드다': 2145, '무럭무럭': 2146, '잃어버리다': 2147, '막내아들': 2148, '털다': 2149, '매번': 2150, '윌리엄': 2151, '늘': 2152, '더미': 2153, '집안': 2154, '오기': 2155, '두르다': 2156, '거렸': 2157, '땀': 2158, '도살업': 2159, '완벽하다': 2160, '여편네': 2161, '산산조각': 2162, '내겐': 2163, '아마도': 2164, '팔자': 2165, '웃음': 2166, '젖히다': 2167, '셋째': 2168, '교훈': 2169, '상심': 2170, '꿈쩍': 2171, '넘어가다': 2172, '물의': 2173, '연': 2174, '점심': 2175, '해선': 2176, '바늘': 2177, '와우': 2178, '우기다': 2179, '외치': 2180, '탐욕': 2181, '바뀌다': 2182, '동이': 2183, '꾸미다': 2184, '단어': 2185, '박다': 2186, '까먹다': 2187, '아바마마': 2188, '다스리다': 2189, '시끄럽다': 2190, '앓다': 2191, '옥수수': 2192, '오른': 2193, '가리키다': 2194, '악당': 2195, '경멸': 2196, '반대쪽': 2197, '케이스': 2198, '무사하다': 2199, '진행': 2200, '먹기': 2201, '국왕': 2202, '이탈리아': 2203, '로운': 2204, '수업': 2205, '빨래': 2206, '완전': 2207, '팔짱': 2208, '계시': 2209, '비치다': 2210, '마중': 2211, '납작': 2212, '여기저기': 2213, '양식': 2214, '틀리다': 2215, '바쁘다': 2216, '방안': 2217, '께서는': 2218, '매년': 2219, '비슷하다': 2220, '앞서': 2221, '비우다': 2222, '맑은': 2223, '샘물': 2224, '조차': 2225, '돌아서다': 2226, '산들바람': 2227, '건너편': 2228, '반면': 2229, '바가지': 2230, '찬란하다': 2231, '복': 2232, '합창': 2233, '한탄': 2234, '하트': 2235, '닦이다': 2236, '제물': 2237, '화염': 2238, '안마당': 2239, '방도': 2240, '주신': 2241, '비싸다': 2242, '하품': 2243, '맷돌': 2244, '실수': 2245, '두껍다': 2246, '두목': 2247, '판': 2248, '달리': 2249, '벙어리': 2250, '이랑': 2251, '여성': 2252, '과는': 2253, '거절': 2254, '물건': 2255, '낯설다': 2256, '기술': 2257, '여러': 2258, '가지런하다': 2259, '찢다': 2260, '카드': 2261, '분간': 2262, '존': 2263, '권': 2264, '해결': 2265, '파': 2266, '애정': 2267, '보관': 2268, '소린': 2269, '덮개': 2270, '편안하다': 2271, '둥이': 2272, '막대': 2273, '가운': 2274, '아드님': 2275, '높이다': 2276, '지나치다': 2277, '선반': 2278, '헤매다': 2279, '취하': 2280, '깊숙이': 2281, '적어도': 2282, '와도': 2283, '시가': 2284, '풍수': 2285, '린': 2286, '배부르다': 2287, '건물': 2288, '멀쩡하다': 2289, '환하다': 2290, '모자라': 2291, '올려놓다': 2292, '까지만': 2293, '싸다': 2294, '부축': 2295, '이슬': 2296, '배다': 2297, '게요': 2298, '교수형': 2299, '눈길': 2300, '알아차리다': 2301, '구나': 2302, '멍청하다': 2303, '가족': 2304, '독사': 2305, '시절': 2306, '머무르다': 2307, '이따': 2308, '참말': 2309, '즐거움': 2310, '일랑은': 2311, '황새': 2312, '저건': 2313, '죄송하다': 2314, '사연': 2315, '휘파람': 2316, '발걸음': 2317, '더럽다': 2318, '바퀴': 2319, '지옥': 2320, '지팡이': 2321, '세차': 2322, '움큼': 2323, '개수': 2324, '도울': 2325, '하인츠': 2326, '성의': 2327, '임금님': 2328, '철': 2329, '소유자': 2330, '신의': 2331, '자비': 2332, '발설': 2333, '어둡다': 2334, '생': 2335, '가요': 2336, '수영': 2337, '숯': 2338, '구한': 2339, '식량': 2340, '물속': 2341, '섞이다': 2342, '이자': 2343, '경기': 2344, '희한하다': 2345, '속임수': 2346, '얻어맞다': 2347, '라일락': 2348, '내놓다': 2349, '주둥이': 2350, '건강': 2351, '천정': 2352, '무시무시하다': 2353, '자꾸': 2354, '프랑스': 2355, '부스러기': 2356, '지워지다': 2357, '빛깔': 2358, '떠올리다': 2359, '밀려오다': 2360, '도저히': 2361, '내다보다': 2362, '내딛다': 2363, '일으키다': 2364, '묻히다': 2365, '십': 2366, '장모님': 2367, '모퉁이': 2368, '언': 2369, '반기': 2370, '전날': 2371, '괴롭다': 2372, '이루어지다': 2373, '낼': 2374, '귀찮다': 2375, '태도': 2376, '최대한': 2377, '기간': 2378, '돕다': 2379, '와의': 2380, '절구통': 2381, '조차도': 2382, '걷기': 2383, '오래되다': 2384, '간청': 2385, '장작': 2386, '캐': 2387, '레테': 2388, '버릇': 2389, '시종': 2390, '경기장': 2391, '보답': 2392, '특별하다': 2393, '얘길': 2394, '아뢰다': 2395, '치유': 2396, '자세': 2397, '베개': 2398, '즉': 2399, '어딜': 2400, '증명': 2401, '기울이다': 2402, '솜씨': 2403, '비탄': 2404, '때때로': 2405, '놀랍다': 2406, '스르르': 2407, '막다': 2408, '잽싸다': 2409, '류트': 2410, '해대': 2411, '달싹': 2412, '가리다': 2413, '완성': 2414, '분도': 2415, '슬쩍': 2416, '살며시': 2417, '종달새': 2418, '분수': 2419, '붙이': 2420, '리가': 2421, '줄이다': 2422, '이기': 2423, '톡톡': 2424, '새까맣다': 2425, '기슭': 2426, '휘둥그레지다': 2427, '바삐': 2428, '조금씩': 2429, '심해': 2430, '거짓말': 2431, '식칼': 2432, '시야': 2433, '듣기': 2434, '가만히': 2435, '킬로그램': 2436, '연하다': 2437, '엄숙하다': 2438, '세월': 2439, '곱다': 2440, '먹히다': 2441, '스런': 2442, '는걸': 2443, '하마터면': 2444, '덫': 2445, '잔인하다': 2446, '치르다': 2447, '뛰어내리다': 2448, '아뿔싸': 2449, '애원': 2450, '쉿': 2451, '차분하다': 2452, '마저도': 2453, '밤낮': 2454, '풀리다': 2455, '붙잡히다': 2456, '복판': 2457, '화사하다': 2458, '말리': 2459, '부딪히다': 2460, '오래전': 2461, '미리': 2462, '끼리': 2463, '의붓딸': 2464, '달팽이': 2465, '범인': 2466, '권총': 2467, '계세': 2468, '이냐': 2469, '표': 2470, '어머님': 2471, '신어': 2472, '부디': 2473, '가방': 2474, '가사': 2475, '익다': 2476, '수고': 2477, '보호': 2478, '한동안': 2479, '부러': 2480, '직전': 2481, '모여들다': 2482, '갈기갈기': 2483, '가능하다': 2484, '이면': 2485, '드러나다': 2486, '데이': 2487, '멧돼지': 2488, '석탄': 2489, '달아오르다': 2490, '신호': 2491, '부루퉁하다': 2492, '얻어먹다': 2493, '유모': 2494, '으로써': 2495, '골': 2496, '입구': 2497, '마르': 2498, '손살': 2499, '역할': 2500, '큼직하다': 2501, '친': 2502, '수건': 2503, '일지': 2504, '산책': 2505, '목동': 2506, '황무지': 2507, '산꼭대기': 2508, '백성': 2509, '마누라': 2510, '아이든': 2511, '프랑스어': 2512, '떡하니': 2513, '주민': 2514, '그림자': 2515, '정리': 2516, '코지': 2517, '해봤다': 2518, '책상': 2519, '보상': 2520, '이겠다': 2521, '사고': 2522, '어마': 2523, '무시': 2524, '누군데': 2525, '주렁주렁': 2526, '위층': 2527, '글자': 2528, '풍': 2529, '회초리': 2530, '쥐덫': 2531, '반갑다': 2532, '은빛': 2533, '실행': 2534, '안기다': 2535, '퍼': 2536, '어머나': 2537, '깨부수다': 2538, '가끔': 2539, '돌멩이': 2540, '동행': 2541, '숫자': 2542, '짜증나다': 2543, '웅장': 2544, '채운': 2545, '반창고': 2546, '살이': 2547, '후다닥': 2548, '차갑다': 2549, '움켜잡다': 2550, '가세': 2551, '에서는': 2552, '흔적': 2553, '창백하다': 2554, '여름철': 2555, '호': 2556, '쫓아내다': 2557, '주저앉다': 2558, '죽지': 2559, '좁다': 2560, '추격': 2561, '여덟': 2562, '묵고': 2563, '주고받다': 2564, '더하다': 2565, '혀': 2566, '새기다': 2567, '손수건': 2568, '렸': 2569, '멍': 2570, '솔직하다': 2571, '멀어지다': 2572, '고백': 2573, '말리다': 2574, '상하': 2575, '구걸': 2576, '그땐': 2577, '여겨지다': 2578, '마음속': 2579, '감사하다': 2580, '영주': 2581, '예정': 2582, '출몰': 2583, '쪼개지다': 2584, '하든': 2585, '반짝이다': 2586, '라니': 2587, '꽃들이': 2588, '자라나다': 2589, '만세': 2590, '꼬집다': 2591, '합당': 2592, '익숙해지다': 2593, '연회': 2594, '합의': 2595, '갈색': 2596, '숭숭': 2597, '심': 2598, '일꾼': 2599, '방만': 2600, '오거': 2601, '깔리다': 2602, '지도자': 2603, '재물': 2604, '잔득': 2605, '에서야': 2606, '발생': 2607, '외출': 2608, '밤늦다': 2609, '랍니': 2610, '쪼': 2611, '주눅': 2612, '거닐다': 2613, '친절': 2614, '토론': 2615, '물병': 2616, '이전': 2617, '반드시': 2618, '열기': 2619, '궁': 2620, '어른': 2621, '고향': 2622, '칠하다': 2623, '선포': 2624, '창조': 2625, '와중': 2626, '되돌아오다': 2627, '돌고래': 2628, '재': 2629, '숙고': 2630, '나이프': 2631, '오로라': 2632, '얼마만큼': 2633, '살피다': 2634, '주먹': 2635, '애쓰다': 2636, '도우': 2637, '러': 2638, '당당하다': 2639, '소심하다': 2640, '그나저나': 2641, '눈꺼풀': 2642, '등짝': 2643, '우아하다': 2644, '다과회': 2645, '실력': 2646, '위엔': 2647, '앉히다': 2648, '환호성': 2649, '신선하다': 2650, '짚': 2651, '부풀다': 2652, '탄식': 2653, '늪': 2654, '만이라도': 2655, '조마조마하다': 2656, '세우다': 2657, '사탕': 2658, '말문': 2659, '굽다': 2660, '논쟁': 2661, '계획': 2662, '충격': 2663, '기선': 2664, '반대편': 2665, '내쫓다': 2666, '목수': 2667, '치즈': 2668, '눈앞': 2669, '삼다': 2670, '전속력': 2671, '찾기': 2672, '저물다': 2673, '닢': 2674, '쇼': 2675, '총명하다': 2676, '반짝반짝': 2677, '선고': 2678, '빨': 2679, '약하다': 2680, '합치다': 2681, '곧이어': 2682, '한두': 2683, '브랜디': 2684, '미안하다': 2685, '감정': 2686, '찰': 2687, '신기다': 2688, '의사': 2689, '상당하다': 2690, '예리하다': 2691, '아담': 2692, '농가': 2693, '둘러싸이다': 2694, '분과': 2695, '지고': 2696, '맘': 2697, '성안': 2698, '해안가': 2699, '끓이다': 2700, '꽁꽁': 2701, '깜깜': 2702, '먹여주다': 2703, '어느새다': 2704, '부엉이': 2705, '벗겨지다': 2706, '서서히': 2707, '구둣방': 2708, '농작물': 2709, '창피하다': 2710, '연신': 2711, '띄다': 2712, '질병': 2713, '내주다': 2714, '개구쟁이': 2715, '공격': 2716, '경탄': 2717, '해마': 2718, '열거': 2719, '돌이': 2720, '의식': 2721, '셔츠': 2722, '틀림없다': 2723, '분통': 2724, '고르다': 2725, '설득': 2726, '분노': 2727, '땋': 2728, '세례': 2729, '공손하다': 2730, '머뭇거리다': 2731, '모자라다': 2732, '부리': 2733, '감고': 2734, '간다': 2735, '인하다': 2736, '자국': 2737, '어쩌자': 2738, '이웃집': 2739, '아무렇다': 2740, '경악': 2741, '덮이다': 2742, '제우스': 2743, '인즉슨': 2744, '무수': 2745, '평화': 2746, '곱슬머리': 2747, '깨끗이': 2748, '값지다': 2749, '구원': 2750, '암': 2751, '바치다': 2752, '보리': 2753, '한마디': 2754, '찬장': 2755, '차마': 2756, '풍덩': 2757, '일자리': 2758, '천천히': 2759, '누르다': 2760, '불쾌하다': 2761, '또는': 2762, '구경': 2763, '수행원': 2764, '간단하다': 2765, '환상': 2766, '손수레': 2767, '석': 2768, '로만': 2769, '임': 2770, '느낌': 2771, '빗질': 2772, '겪다': 2773, '인식': 2774, '올려주다': 2775, '려고': 2776, '돋다': 2777, '패': 2778, '결론': 2779, '과연': 2780, '휘두르다': 2781, '사형수': 2782, '썩다': 2783, '도리': 2784, '장애물': 2785, '냅다': 2786, '젖소': 2787, '설치': 2788, '차례대로': 2789, '중이': 2790, '전보': 2791, '포대자루': 2792, '잔소리': 2793, '어쩌려': 2794, '워': 2795, '찔리다': 2796, '맡기다': 2797, '결정': 2798, '애기': 2799, '느릿느릿': 2800, '가까워지다': 2801, '발라': 2802, '어쩌': 2803, '긴요': 2804, '임금': 2805, '우물가': 2806, '허리': 2807, '색': 2808, '본래': 2809, '에메랄드': 2810, '무식하다': 2811, '똥': 2812, '주머니': 2813, '봄': 2814, '민둥산': 2815, '낮선': 2816, '꿀꿀': 2817, '구부리다': 2818, '진기하다': 2819, '인양': 2820, '평결': 2821, '증거': 2822, '경고': 2823, '부족하다': 2824, '통로': 2825, '벌이다': 2826, '즐기다': 2827, '거부': 2828, '노': 2829, '과목': 2830, '누리다': 2831, '가축': 2832, '슬슬': 2833, '자유롭다': 2834, '찻잔': 2835, '나날이': 2836, '아쉽다': 2837, '신중': 2838, '누리': 2839, '재미': 2840, '딱하다': 2841, '복장': 2842, '한데': 2843, '사또': 2844, '용이': 2845, '어울리다': 2846, '세공품': 2847, '와장창': 2848, '물웅덩이': 2849, '비비': 2850, '설상가상': 2851, '촛불': 2852, '안녕하다': 2853, '잡아먹히다': 2854, '자넨': 2855, '듬뿍': 2856, '낡다': 2857, '속옷': 2858, '갈라지다': 2859, '가시나무': 2860, '외딴': 2861, '공기': 2862, '뼈': 2863, '메': 2864, '찬': 2865, '카드리유': 2866, '쏟아지다': 2867, '살기': 2868, '께선': 2869, '호박': 2870, '대지': 2871, '이구나': 2872, '상한': 2873, '헤아리다': 2874, '깽': 2875, '닉세': 2876, '친애하다': 2877, '갈고': 2878, '안뜰': 2879, '밖엔': 2880, '누더기': 2881, '골똘히': 2882, '성주': 2883, '아홉': 2884, '시늉': 2885, '걸세': 2886, '사람과': 2887, '희망': 2888, '표범': 2889, '용의': 2890, '만원': 2891, '위험하다': 2892, '무거워': 2893, '신고': 2894, '년도': 2895, '순금': 2896, '비난': 2897, '전달': 2898, '특정하다': 2899, '절반': 2900, '일보': 2901, '지푸라기': 2902, '고귀하다': 2903, '지지': 2904, '가까스로': 2905, '에나': 2906, '첨벙': 2907, '쫓아오다': 2908, '부인': 2909, '거짓': 2910, '헤치다': 2911, '상대로': 2912, '꽂다': 2913, '따지다': 2914, '주장': 2915, '벙긋': 2916, '예배당': 2917, '꿀잠': 2918, '감동': 2919, '나란하다': 2920, '써주다': 2921, '론': 2922, '쿵': 2923, '동전': 2924, '의도': 2925, '맞은편': 2926, '집의': 2927, '바램': 2928, '행랑': 2929, '세수': 2930, '유일하다': 2931, '여념': 2932, '소스': 2933, '실없다': 2934, '도통': 2935, '어나': 2936, '부탁드리다': 2937, '뚝뚝': 2938, '제기': 2939, '기지개': 2940, '천둥': 2941, '일시': 2942, '차고': 2943, '산지': 2944, '족속': 2945, '깃점': 2946, '캐다': 2947, '부위': 2948, '미녀': 2949, '꿍꿍': 2950, '구불구불': 2951, '허리띠': 2952, '부담': 2953, '허무맹랑': 2954, '벌다': 2955, '재능': 2956, '별반': 2957, '아래층': 2958, '멍하니': 2959, '쫓기다': 2960, '성하다': 2961, '목초지': 2962, '척척': 2963, '절굿': 2964, '공이': 2965, '통닭': 2966, '보시': 2967, '인들': 2968, '리자': 2969, '포': 2970, '치의': 2971, '따라잡다': 2972, '창밖': 2973, '애걸': 2974, '복걸': 2975, '겨자': 2976, '영원': 2977, '나가야': 2978, '두건': 2979, '거역': 2980, '최상급': 2981, '눈송이': 2982, '시장님': 2983, '조치': 2984, '무': 2985, '으로만': 2986, '추세': 2987, '달라붙다': 2988, '만난': 2989, '헛수고': 2990, '시어머니': 2991, '다루다': 2992, '여간': 2993, '경주': 2994, '있었더랬': 2995, '싱긋': 2996, '어마어마하다': 2997, '부와': 2998, '부의': 2999, '환호': 3000, '명성': 3001, '떨치다': 3002, '지식': 3003, '뽐내다': 3004, '몰골': 3005, '방랑': 3006, '고을': 3007, '하소연': 3008, '이글거리다': 3009, '묵': 3010, '깡충깡충': 3011, '마주': 3012, '벽난로': 3013, '쟁반': 3014, '묶이다': 3015, '타오르다': 3016, '전의': 3017, '벌벌': 3018, '강렬하다': 3019, '난처하다': 3020, '어차피': 3021, '그러하다': 3022, '성큼': 3023, '쓰이다': 3024, '가로지르다': 3025, '목덜미': 3026, '쿠션': 3027, '맏': 3028, '대리석': 3029, '적도': 3030, '한사코': 3031, '날아다니다': 3032, '깡패': 3033, '흩어지다': 3034, '청아': 3035, '심쿵하다': 3036, '작대기': 3037, '싣다': 3038, '남아나다': 3039, '기사': 3040, '만찬': 3041, '알아채다': 3042, '경솔하다': 3043, '나은': 3044, '얼싸안다': 3045, '하나같이': 3046, '분만': 3047, '정리정돈': 3048, '넘기다': 3049, '물르다': 3050, '이끼': 3051, '보지': 3052, '무기': 3053, '나아지다': 3054, '행사': 3055, '지속': 3056, '구실': 3057, '옥신각신': 3058, '불어오다': 3059, '쌀': 3060, '예견': 3061, '여서': 3062, '소동': 3063, '질투': 3064, '나기': 3065, '한지': 3066, '넘어서다': 3067, '합류': 3068, '틈새': 3069, '민첩하다': 3070, '활동': 3071, '내시': 3072, '식이': 3073, '파멸': 3074, '육지': 3075, '소상하다': 3076, '탈출': 3077, '왼손': 3078, '뱃속': 3079, '어기다': 3080, '푸우': 3081, '따님': 3082, '하고도': 3083, '이어서': 3084, '샛길': 3085, '자락': 3086, '거미': 3087, '근심': 3088, '다가서다': 3089, '입술': 3090, '침대시트': 3091, '살인자': 3092, '안식처': 3093, '권하다': 3094, '심술궂': 3095, '천만': 3096, '동강': 3097, '입지': 3098, '다급하다': 3099, '수백': 3100, '함': 3101, '기묘하다': 3102, '고상하다': 3103, '굴러가다': 3104, '페인트': 3105, '알리': 3106, '악기': 3107, '떠내려가다': 3108, '누운': 3109, '피해': 3110, '피터': 3111, '물살': 3112, '틀': 3113, '힘없다': 3114, '박살': 3115, '만날': 3116, '절뚝': 3117, '괜히': 3118, '진창': 3119, '후려': 3120, '살금살금': 3121, '이군': 3122, '즉각': 3123, '행여': 3124, '농담': 3125, '지불': 3126, '건너': 3127, '비애': 3128, '베짱이': 3129, '고작': 3130, '일어나며': 3131, '교육': 3132, '피어': 3133, '메아리': 3134, '윗': 3135, '큰일': 3136, '둑스': 3137, '요란하다': 3138, '도랑': 3139, '동요': 3140, '열병': 3141, '추위': 3142, '숲속': 3143, '휴일': 3144, '법칙': 3145, '꽉': 3146, '드리우다': 3147, '보더': 3148, '출신': 3149, '초조하다': 3150, '낚시': 3151, '교활하다': 3152, '그깟': 3153, '위쪽': 3154, '보초': 3155, '주리': 3156, '점지': 3157, '거뜬하다': 3158, '펄럭': 3159, '잎': 3160, '회복하다': 3161, '댕강': 3162, '상금': 3163, '회복': 3164, '살림': 3165, '껌껌하다': 3166, '잡아당기다': 3167, '뱉다': 3168, '이러하다': 3169, '집사': 3170, '빙빙': 3171, '더구나': 3172, '밉다': 3173, '체': 3174, '루비': 3175, '틀림없이': 3176, '정직하다': 3177, '은밀': 3178, '안내': 3179, '고민': 3180, '알아맞히다': 3181, '담그다': 3182, '꿀맛': 3183, '낭비하다': 3184, '에구머니': 3185, '펼쳐지다': 3186, '더랬': 3187, '색시': 3188, '아래쪽': 3189, '매달': 3190, '유지': 3191, '덜컥': 3192, '욕': 3193, '무게': 3194, '만지다': 3195, '자넬': 3196, '드디어': 3197, '은총': 3198, '펑펑': 3199, '해나': 3200, '끌어안다': 3201, '솟아오르다': 3202, '과부': 3203, '유감': 3204, '패트': 3205, '물리': 3206, '이세': 3207, '상관': 3208, '요람': 3209, '정체': 3210, '모닥불': 3211, '풀잎': 3212, '곧다': 3213, '딸아': 3214, '검정': 3215, '왕좌': 3216, '가깝다': 3217, '탁': 3218, '되게': 3219, '휘저': 3220, '부하': 3221, '노릇': 3222, '만치': 3223, '누누이': 3224, '못내': 3225, '메리': 3226, '불면': 3227, '잠자코': 3228, '알려지다': 3229, '근사하다': 3230, '양념': 3231, '드넓다': 3232, '대팻밥': 3233, '강력하다': 3234, '백합꽃': 3235, '염려': 3236, '빨다': 3237, '잉크': 3238, '판결': 3239, '추측': 3240, '헨리': 3241, '오렌지': 3242, '턱수염': 3243, '번갈아': 3244, '면서': 3245, '뒤편': 3246, '온화하다': 3247, '감명': 3248, '스피드': 3249, '운반': 3250, '김': 3251, '모락모락': 3252, '잠그다': 3253, '버드나무': 3254, '허기': 3255, '부서지다': 3256, '존경': 3257, '소환': 3258, '피로': 3259, '비웃다': 3260, '한밤중': 3261, '두서너': 3262, '자체': 3263, '스러운': 3264, '구덩이': 3265, '뚱뚱하다': 3266, '돌기': 3267, '지빠귀': 3268, '공포': 3269, '사신': 3270, '독극물': 3271, '골무': 3272, '만큼의': 3273, '싫어하다': 3274, '날짜': 3275, '해변': 3276, '분위기': 3277, '수습': 3278, '북': 3279, '할렐루야': 3280, '집밖': 3281, '당시': 3282, '그딴': 3283, '갈망': 3284, '최악': 3285, '누나': 3286, '바닷물': 3287, '소란': 3288, '꼬박': 3289, '질리다': 3290, '바깥': 3291, '엄': 3292, '키도': 3293, '설마': 3294, '개월': 3295, '제사': 3296, '흰색': 3297, '부채질': 3298, '녹이다': 3299, '감금': 3300, '내뿜': 3301, '정복': 3302, '소도': 3303, '놓치다': 3304, '쭉쭉': 3305, '참고': 3306, '구부러지다': 3307, '아버님': 3308, '곱하기': 3309, '엄지발가락': 3310, '마무리': 3311, '흠뻑': 3312, '되돌아가다': 3313, '까맣다': 3314, '엿': 3315, '문지방': 3316, '인지도': 3317, '기만': 3318, '위치': 3319, '닉': 3320, '만족스럽다': 3321, '성찬': 3322, '대단하다': 3323, '네겐': 3324, '말끔히': 3325, '신발': 3326, '까딱': 3327, '뒷마당': 3328, '몰려오다': 3329, '고리': 3330, '실컷': 3331, '전령': 3332, '처신': 3333, '포크': 3334, '까지도': 3335, '설레다': 3336, '좌': 3337, '와들와들': 3338, '올바르다': 3339, '성공': 3340, '저승사자': 3341, '대령': 3342, '경': 3343, '유명하다': 3344, '각각': 3345, '비밀': 3346, '체셔': 3347, '테로': 3348, '개암나무': 3349, '재촉': 3350, '망설이다': 3351, '가락': 3352, '불평': 3353, '살갗': 3354, '완두콩': 3355, '연필': 3356, '사건': 3357, '크나크다': 3358, '완강': 3359, '굉장하다': 3360, '건달': 3361, '고소하다': 3362, '꾀': 3363, '두더지': 3364, '목적': 3365, '식기': 3366, '다락방': 3367, '세례식': 3368, '대들보': 3369, '가로': 3370, '의견': 3371, '반복': 3372, '폭발': 3373, '배치': 3374, '도리어': 3375, '저주': 3376, '빠져들다': 3377, '귓방망': 3378, '람': 3379, '풀칠': 3380, '젓다': 3381, '양심': 3382, '충심': 3383, '뚫리다': 3384, '햇빛': 3385, '똑같이': 3386, '매가': 3387, '보살피다': 3388, '장식품': 3389, '드르렁': 3390, '그만하다': 3391, '며느리': 3392, '의원': 3393, '과도': 3394, '오히려': 3395, '독': 3396, '지경': 3397, '꽥꽥': 3398, '구두쇠': 3399, '온몸': 3400, '쑤시다': 3401, '가든': 3402, '충성': 3403, '려무나': 3404, '주무시다': 3405, '놀': 3406, '난데없이': 3407, '남지': 3408, '피부': 3409, '되찾다': 3410, '돌부리': 3411, '버티다': 3412, '새하얘지다': 3413, '비통하다': 3414, '활': 3415, '사단': 3416, '성질': 3417, '결승': 3418, '졸다': 3419, '전설': 3420, '부턴': 3421, '만의': 3422, '밀': 3423, '귀하다': 3424, '강인하다': 3425, '망원경': 3426, '간장': 3427, '분개하다': 3428, '짊어지': 3429, '타당': 3430, '포근하다': 3431, '비늘': 3432, '보따리': 3433, '솥': 3434, '깡충': 3435, '접다': 3436, '최선': 3437, '아둔하다': 3438, '큰소리': 3439, '틀다': 3440, '수천': 3441, '봄날': 3442, '재혼': 3443, '장남': 3444, '끝내': 3445, '안심': 3446, '오신': 3447, '단검': 3448, '가다듬다': 3449, '아낙': 3450, '형님': 3451, '작별': 3452, '실패하다': 3453, '문장': 3454, '상대': 3455, '가소롭다': 3456, '초록색': 3457, '별로': 3458, '궤짝': 3459, '분별이': 3460, '앞치마': 3461, '노동자': 3462, '요청': 3463, '뜸': 3464, '스치다': 3465, '꼬투리': 3466, '아하': 3467, '외진': 3468, '별난': 3469, '떼굴떼굴': 3470, '내보내다': 3471, '연결': 3472, '딸도': 3473, '노랫소리': 3474, '공책': 3475, '대머리': 3476, '숫': 3477, '군주': 3478, '처지': 3479, '밝혀지다': 3480, '가난': 3481, '아낙네': 3482, '박씨': 3483, '꽤': 3484, '전갈': 3485, '파트너': 3486, '비틀': 3487, '조각상': 3488, '물담뱃대': 3489, '오발탄': 3490, '호통': 3491, '윙윙': 3492, '쾅': 3493, '조그만': 3494, '이거지': 3495, '찍': 3496, '악의': 3497, '옥': 3498, '싸인': 3499, '옷장': 3500, '땅거북': 3501, '꾸준하다': 3502, '묵다': 3503, '우울하다': 3504, '차츰': 3505, '툭': 3506, '야채': 3507, '가정': 3508, '저항': 3509, '빗장': 3510, '처리': 3511, '야옹': 3512, '임무': 3513, '쫓아가다': 3514, '지구': 3515, '자구': 3516, '아라하': 3517, '수면': 3518, '빗다': 3519, '이서': 3520, '큰딸': 3521, '증오': 3522, '사위': 3523, '창가': 3524, '만큼은': 3525, '다정하다': 3526, '또래': 3527, '사이좋다': 3528, '시궁창': 3529, '본성': 3530, '웅덩이': 3531, '뒤죽박죽': 3532, '성큼성큼': 3533, '펜싱': 3534, '가마': 3535, '통사정': 3536, '발음': 3537, '개인': 3538, '분부': 3539, '신지': 3540, '대보다': 3541, '사례': 3542, '무니': 3543, '상관없다': 3544, '천하': 3545, '번쩍번쩍': 3546, '의심스럽다': 3547, '안장': 3548, '맞장구': 3549, '묶인': 3550, '차오르다': 3551, '따분하다': 3552, '주군': 3553, '데요': 3554, '옷감': 3555, '꿰매다': 3556, '방과': 3557, '장점': 3558, '리세': 3559, '폭풍우': 3560, '오만': 3561, '빵가루': 3562, '씻기다': 3563, '개울': 3564, '고용': 3565, '꿈틀꿈틀': 3566, '헹구': 3567, '빌어먹을': 3568, '꼴값': 3569, '지배자': 3570, '후려치다': 3571, '사치': 3572, '황홀하다': 3573, '따오다': 3574, '나가떨어지다': 3575, '메이': 3576, '웃기': 3577, '땀방울': 3578, '어릿광대': 3579, '자도': 3580, '나비': 3581, '팔다': 3582, '실내': 3583, '렴': 3584, '깔깔': 3585, '가냘프다': 3586, '쉰': 3587, '친숙하다': 3588, '볼품': 3589, '결코': 3590, '사도': 3591, '기이하다': 3592, '기독교인': 3593, '울적하다': 3594, '오라비': 3595, '그리로': 3596, '손짓': 3597, '술값': 3598, '되돌리다': 3599, '세인트': 3600, '승낙': 3601, '내색': 3602, '애도': 3603, '평지': 3604, '발아': 3605, '절세': 3606, '성향': 3607, '발버둥': 3608, '하늘만': 3609, '성용': 3610, '충동': 3611, '임시': 3612, '맑다': 3613, '상쾌하다': 3614, '오늘이': 3615, '익히다': 3616, '비누': 3617, '효과': 3618, '대개': 3619, '긁다': 3620, '어려움': 3621, '덤불': 3622, '삭': 3623, '휘황': 3624, '모시': 3625, '동작': 3626, '죄수': 3627, '급격하다': 3628, '단체': 3629, '플루트': 3630, '절호': 3631, '직공': 3632, '출입구': 3633, '휘감다': 3634, '사로자다': 3635, '구레나룻': 3636, '이도': 3637, '웃기다': 3638, '비비다': 3639, '취해': 3640, '탱': 3641, '차곡차곡': 3642, '실례': 3643, '겨를': 3644, '구별': 3645, '입맛': 3646, '더위': 3647, '약해지다': 3648, '바스락': 3649, '로선': 3650, '한가운데': 3651, '내용': 3652, '절름발이': 3653, '입맞춤': 3654, '쯧쯧': 3655, '용하다': 3656, '근엄하다': 3657, '뿔뿔이': 3658, '빼어나다': 3659, '거대': 3660, '실제': 3661, '고도': 3662, '쵸': 3663, '포플러': 3664, '차차': 3665, '봉사': 3666, '오오': 3667, '시체': 3668, '두개골': 3669, '분별': 3670, '글썽': 3671, '나팔': 3672, '소름': 3673, '끼치다': 3674, '라고요': 3675, '화환': 3676, '이신': 3677, '세릴': 3678, '백년': 3679, '흙': 3680, '빙': 3681, '치우치다': 3682, '에서나': 3683, '권리': 3684, '멀거니': 3685, '우두커니': 3686, '장관': 3687, '뜻대로': 3688, '날쌔': 3689, '구경꾼': 3690, '중심': 3691, '두리번거리다': 3692, '취한': 3693, '복되다': 3694, '미래': 3695, '풍향계': 3696, '역정': 3697, '작업복': 3698, '순박하다': 3699, '부족함': 3700, '미련': 3701, '차하': 3702, '꾸짖다': 3703, '다가': 3704, '천원': 3705, '푸다': 3706, '녀역': 3707, '겸손하다': 3708, '유유': 3709, '고단': 3710, '열띤': 3711, '황금별': 3712, '언급': 3713, '재차': 3714, '개구': 3715, '시뻘겋다': 3716, '팔방': 3717, '말똥말똥': 3718, '이래도': 3719, '뜨겁다': 3720, '천하다': 3721, '옷가지': 3722, '친자': 3723, '순수하다': 3724, '간직': 3725, '화창하다': 3726, '세리': 3727, '굴리': 3728, '내의': 3729, '공인': 3730, '왕위': 3731, '하마': 3732, '고무줄': 3733, '새총': 3734, '재다': 3735, '비열하다': 3736, 'ㅁ': 3737, '도록': 3738, '끊어지다': 3739, '뎁쇼': 3740, '기억나다': 3741, '지역': 3742, '뭉치': 3743, '떠밀다': 3744, '동무': 3745, '이동': 3746, '마감': 3747, '반사': 3748, '추': 3749, '스르': 3750, '자질': 3751, '초대장': 3752, '나룻배': 3753, '떠지다': 3754, '한결': 3755, '버티고': 3756, '오른손': 3757, '위풍': 3758, '까치': 3759, '바짝': 3760, '일쑤': 3761, '늘어나다': 3762, '일어나고': 3763, '가나': 3764, '몰아치다': 3765, '뽑기': 3766, '대롱대롱': 3767, '고문': 3768, '만일': 3769, '벌집': 3770, '향기': 3771, '치러지다': 3772, '여쭈다': 3773, '대야': 3774, '까옥': 3775, '시종일관': 3776, '칠흑': 3777, '굶주림': 3778, '뜻밖': 3779, '아우': 3780, '처참하다': 3781, '누구세요': 3782, '휙휙': 3783, '서자': 3784, '일과': 3785, '잿더미': 3786, '덩이': 3787, '힐': 3788, '약초': 3789, '주문': 3790, '귀리': 3791, '할머님': 3792, '통곡': 3793, '흐리다': 3794, '룩': 3795, '밤새다': 3796, '신음': 3797, '되돌아보다': 3798, '웃옷': 3799, '기타': 3800, '서요': 3801, '졸도': 3802, '상속': 3803, '가호': 3804, '어떻': 3805, '물구나무': 3806, '본능': 3807, '발동': 3808, '치명': 3809, '나날': 3810, '물줄기': 3811, '나그네': 3812, '당해': 3813, '발끝': 3814, '안정': 3815, '댁': 3816, '라인': 3817, '마루': 3818, '눕힌': 3819, '확답': 3820, '어리둥절하다': 3821, '독약': 3822, '걷히다': 3823, '싹싹': 3824, '와인': 3825, '잔디밭': 3826, '자존심': 3827, '물밀': 3828, '밀리다': 3829, '경험': 3830, '자그마치': 3831, '연속': 3832, '자갈': 3833, '울퉁불퉁하다': 3834, '잠도': 3835, '맹세코': 3836, '참석': 3837, '피곤': 3838, '벼르': 3839, '균형': 3840, '몸매': 3841, '경이': 3842, '로움': 3843, '야만스럽다': 3844, '육': 3845, '짙다': 3846, '우시': 3847, '책임': 3848, '급': 3849, '앗': 3850, '연민': 3851, '딸리다': 3852, '백합': 3853, '골치': 3854, '근위병': 3855, '얼음': 3856, '오라': 3857, '정답': 3858, '황금산': 3859, '총각': 3860, '창코': 3861, '젠장': 3862, '겨드랑이': 3863, '주름': 3864, '트이다': 3865, '시민': 3866, '개도': 3867, '굽': 3868, '번의': 3869, '갖가지': 3870, '떠들다': 3871, '돌진': 3872, '덜커덩': 3873, '날리다': 3874, '주제가': 3875, '청혼': 3876, '괴한': 3877, '정문': 3878, '험상궂다': 3879, '생물체': 3880, '메밀': 3881, '필': 3882, '누르기': 3883, '충직': 3884, '답례': 3885, '문지기': 3886, '초롱초롱': 3887, '손질': 3888, '심성': 3889, '유감스럽게': 3890, '널찍하다': 3891, '지느러미': 3892, '왕궁': 3893, '제복': 3894, '지하': 3895, '필욘': 3896, '또닥또닥': 3897, '반박': 3898, '실망하다': 3899, '허풍': 3900, '외국': 3901, '부터는': 3902, '힐데브란트': 3903, '산딸기': 3904, '뚱땡이': 3905, '사리': 3906, '격노하다': 3907, '뜨끔하다': 3908, '난장': 3909, '시선': 3910, '전념': 3911, '판자': 3912, '대담하다': 3913, '안내받다': 3914, '아야': 3915, '접근': 3916, '후예': 3917, '푸르다': 3918, '대기': 3919, '산골': 3920, '비교': 3921, '모시다': 3922, '어딘': 3923, '여한': 3924, '연로': 3925, '직원': 3926, '엄지손가락': 3927, '장미꽃': 3928, '싱싱하다': 3929, '방식': 3930, '정숙': 3931, '더없이': 3932, '거도': 3933, '강도': 3934, '양초': 3935, '만물': 3936, '과의': 3937, '전환': 3938, '차원': 3939, '입어보다': 3940, '뒤뜰': 3941, '감겨': 3942, '건너가다': 3943, '일원': 3944, '왠지': 3945, '까지의': 3946, '텅': 3947, '꾸러미': 3948, '존재': 3949, '하등': 3950, '이르렀다': 3951, '어도': 3952, '안타깝다': 3953, '레몬': 3954, '고삐': 3955, '꺼리다': 3956, '지독하다': 3957, '흐': 3958, '토지': 3959, '형벌': 3960, '롭고': 3961, '주목': 3962, '예배': 3963, '게로': 3964, '어쨌건': 3965, '눈망울': 3966, '꽥': 3967, '보화': 3968, '로라': 3969, '배려': 3970, '길가': 3971, '자물쇠': 3972, '굶주리다': 3973, '꼬치꼬치': 3974, '적용': 3975, '안건': 3976, '큰아들': 3977, '방황': 3978, '사촌동생': 3979, '훌쩍': 3980, '친하다': 3981, '다투다': 3982, '오물': 3983, '하여금': 3984, '하나요': 3985, '공짜': 3986, '물방아': 3987, '홀쭉하다': 3988, '알맞다': 3989, '그까짓': 3990, '어긋나다': 3991, '감당': 3992, '찾아다니다': 3993, '굽히다': 3994, '포위': 3995, '납치': 3996, '마술': 3997, '재단': 3998, '주전자': 3999, '뵙다': 4000, '방어': 4001, '기장': 4002, '까무러치': 4003, '늘어서다': 4004, '캬': 4005, '선뜻': 4006, '화형': 4007, '이래저래': 4008, '감각': 4009, '웬걸': 4010, '수확': 4011, '다지다': 4012, '썰다': 4013, '지세': 4014, '개골개골': 4015, '선언': 4016, '살아오다': 4017, '자주': 4018, '천둥소리': 4019, '번개': 4020, '원통': 4021, '쯧': 4022, '누우': 4023, '더냐': 4024, '껄껄': 4025, '상어': 4026, '왕창': 4027, '엉덩이': 4028, '정장': 4029, '고얀': 4030, '절레절레': 4031, '렌즈콩': 4032, '굉음': 4033, '수년': 4034, '빨르다': 4035, '주먹질': 4036, '쓰리다': 4037, '리기': 4038, '염병할': 4039, '불타다': 4040, '화살': 4041, '불리': 4042, '깔끔하다': 4043, '킁킁거리다': 4044, '발짝': 4045, '물똥': 4046, '부로': 4047, '여럿': 4048, '불씨': 4049, '외모': 4050, '나니': 4051, '비운': 4052, '사후': 4053, '실직': 4054, '넘어오다': 4055, '도마': 4056, '고안': 4057, '달도': 4058, '온당': 4059, '일어나지': 4060, '만족': 4061, '잠자다': 4062, '가문': 4063, '하진': 4064, '저녁때': 4065, '네까짓': 4066, '습': 4067, '정돈': 4068, '벨벳': 4069, '월급': 4070, '궁리': 4071, '느닷없다': 4072, '페이지': 4073, '평안하다': 4074, '주술': 4075, '양으로': 4076, '긍정': 4077, '거길': 4078, '영문': 4079, '퉁': 4080, '암벽': 4081, '현관': 4082, '서로서로': 4083, '만큼만': 4084, '열한': 4085, '후투티': 4086, '엄명': 4087, '내려지다': 4088, '적절하다': 4089, '이제껏': 4090, '구부리': 4091, '결연하다': 4092, '벌러덩': 4093, '사촌': 4094, '외마디': 4095, '군복': 4096, '주체': 4097, '하하': 4098, '가공품': 4099, '한텐': 4100, '곤장': 4101, '쭈그리다': 4102, '사시나무': 4103, '핏방울': 4104, '화답': 4105, '쥐구멍': 4106, '유충': 4107, '엄중하다': 4108, '바른대로': 4109, '왁스': 4110, '들어맞다': 4111, '모이': 4112, '땡기다': 4113, '추가': 4114, '누울': 4115, '사형선고': 4116, '감방': 4117, '사오다': 4118, '으': 4119, '마음껏': 4120, '조로': 4121, '더욱': 4122, '다시피': 4123, '고서': 4124, '갖추다': 4125, '개간': 4126, '무덥다': 4127, '숙소': 4128, '싹둑싹둑': 4129, '크로켓': 4130, '쓸쓸하다': 4131, '기어이': 4132, '다락': 4133, '냠냠': 4134, '뭣': 4135, '안경': 4136, '네네': 4137, '불기운': 4138, '엎': 4139, '차라': 4140, '누이동생': 4141, '이무기': 4142, '위엄': 4143, '품위': 4144, '쌓다': 4145, '저주받다': 4146, '시궁쥐': 4147, '요렇게': 4148, '눈부시다': 4149, '하였더랬': 4150, '기존': 4151, '관념': 4152, '산더미': 4153, '행세': 4154, '자칭': 4155, '부모': 4156, '빌어': 4157, '수의': 4158, '통나무': 4159, '조수': 4160, '노여움': 4161, '기미': 4162, '가라앉히다': 4163, '부끄럽다': 4164, '깃': 4165, '앙갚음': 4166, '정치': 4167, '발길질': 4168, '도독': 4169, '초승달': 4170, '탈': 4171, '곡': 4172, '망하다': 4173, '나무딸기': 4174, '반점': 4175, '창고': 4176, '여우야': 4177, '살랑살랑': 4178, '낙엽': 4179, '씨앗': 4180, '트': 4181, '혼돈': 4182, '꼬이다': 4183, '전해지다': 4184, '사과나무': 4185, '거실': 4186, '욕망': 4187, '갉아먹다': 4188, '열정': 4189, '개미': 4190, '당근': 4191, '위협': 4192, '많아지다': 4193, '확고하다': 4194, '정오': 4195, '막상': 4196, '이익': 4197, '가발': 4198, '안달': 4199, '남녀': 4200, '랬': 4201, '스탠드': 4202, '동정': 4203, '방해': 4204, '닳다': 4205, '껏': 4206, '야생동물': 4207, '동료': 4208, '마땅하다': 4209, '응보': 4210, '으로나': 4211, '경주로': 4212, '서든': 4213, '어린이': 4214, '인척': 4215, '가혹하다': 4216, '법도': 4217, '강둑': 4218, '자격': 4219, '멍청이': 4220, '누렁이': 4221, '선박': 4222, '파란': 4223, '한껏': 4224, '울며불며': 4225, '울컥': 4226, '대장간': 4227, '푸드덕': 4228, '학업': 4229, '명도': 4230, '퐁당': 4231, '악어': 4232, '꾼': 4233, '지우다': 4234, '바치': 4235, '축제': 4236, '뚫다': 4237, '징표': 4238, '덩': 4239, '추궁': 4240, '중간지점': 4241, '토': 4242, '머시아': 4243, '노섬브리아': 4244, '에드윈': 4245, '카': 4246, '엉터리': 4247, '물들다': 4248, '해진': 4249, '피하': 4250, '해치': 4251, '우릴': 4252, '충고': 4253, '일만': 4254, '동화책': 4255, '파묻다': 4256, '볼링': 4257, '되풀이': 4258, '물정': 4259, '노곤': 4260, '쪼개다': 4261, '부시다': 4262, '트럼펫': 4263, '울면': 4264, '찌다': 4265, '조이다': 4266, '오늘밤': 4267, '나무라다': 4268, '멈칫': 4269, '누우렴': 4270, '반기다': 4271, '여행자': 4272, '깃촉': 4273, '친오빠': 4274, '깝쇼': 4275, '덜': 4276, '어따': 4277, '말괄량이': 4278, '열망': 4279, '다양하다': 4280, '일해': 4281, '외곽': 4282, '탐색': 4283, '목욕': 4284, '력': 4285, '쿵쾅': 4286, '불안하다': 4287, '애초': 4288, '수레': 4289, '뵈다': 4290, '리제': 4291, '사고방식': 4292, '장담': 4293, '결실': 4294, '거래': 4295, '망연자실하다': 4296, '장엄하다': 4297, '영감': 4298, '나뭇잎': 4299, '권세': 4300, '불유쾌': 4301, '뒷문': 4302, '춤추다': 4303, '수레바퀴': 4304, '울음': 4305, '인가가': 4306, '연약하다': 4307, '어머님께': 4308, '맺힌': 4309, '야위다': 4310, '로마': 4311, '강제': 4312, '마란': 4313, '들보': 4314, '덥석': 4315, '해방': 4316, '자로': 4317, '지사': 4318, '전차': 4319, '귀부인': 4320, '려': 4321, '으악': 4322, '움키다': 4323, '치켜들다': 4324, '되살리다': 4325, '순순하다': 4326, '드리워지다': 4327, '튀다': 4328, '살살': 4329, '기교': 4330, '반감': 4331, '선사': 4332, '둘러싸다': 4333, '섭': 4334, '낮잠': 4335, '옛': 4336, '축': 4337, '으로선': 4338, '말대꾸': 4339, '예의범절': 4340, '약혼': 4341, '헐떡이다': 4342, '엘': 4343, '코로': 4344, '아수라': 4345, '고정': 4346, '꾸욱': 4347, '오후': 4348, '마굿': 4349, '써레': 4350, '각': 4351, '심려': 4352, '수줍다': 4353, '잠결': 4354, '어마나': 4355, '희미하다': 4356, '어여': 4357, '꼬락서니': 4358, '달이': 4359, '싸': 4360, '소리내다': 4361, '탄원': 4362, '싫증': 4363, '붓다': 4364, '부어': 4365, '개보': 4366, '에이': 4367, '관련': 4368, '자세하다': 4369, '칭칭': 4370, '제거': 4371, '직업': 4372, '신성하다': 4373, '이스트': 4374, '화나다': 4375, '킥킥': 4376, '엉': 4377, '삶다': 4378, '장대': 4379, '가선': 4380, '비범하다': 4381, '누굴': 4382, '일거리': 4383, '헤어지다': 4384, '이러니': 4385, '완': 4386, '식히다': 4387, '아담하다': 4388, '얼': 4389, '어쩌라고': 4390, '언젠가': 4391, '우정': 4392, '고는': 4393, '그만큼': 4394, '심각하다': 4395, '별안간': 4396, '바르게': 4397, '밀가루': 4398, '선택': 4399, '정해': 4400, '쐐기': 4401, '살았더랬': 4402, '온종일': 4403, '평화롭다': 4404, '만을': 4405, '주둥아리': 4406, '깨닫다': 4407, '악수': 4408, '담들다': 4409, '살피': 4410, '으름장': 4411, '마개': 4412, '우려': 4413, '난폭하다': 4414, '사주다': 4415, '놀림': 4416, '라고만': 4417, '오라버니': 4418, '테두리': 4419, '금박': 4420, '의붓': 4421, '회전': 4422, '이쁜이': 4423, '세례명': 4424, '허참': 4425, '술병': 4426, '아이디어': 4427, '잔치': 4428, '어데': 4429, '연결하다': 4430, '기웃': 4431, '노고': 4432, '발작': 4433, '올': 4434, '리지': 4435, '니요': 4436, '위기': 4437, '그간': 4438, '조르다': 4439, '끼리끼리': 4440, '요즘': 4441, '심해지다': 4442, '부츠': 4443, '늘어지다': 4444, '근거': 4445, '파악': 4446, '았': 4447, '치기': 4448, '프라이팬': 4449, '해롭다': 4450, '측면': 4451, '까마득하다': 4452, '장장': 4453, '움켜쥐다': 4454, '렌츠': 4455, '단추': 4456, '뛰어나오다': 4457, '쿨쿨': 4458, '노동': 4459, '미지': 4460, '변': 4461, '등불': 4462, '한가득': 4463, '갈기': 4464, '포로': 4465, '더니': 4466, '장가': 4467, '버려진': 4468, '의지': 4469, '무더기': 4470, '여관': 4471, '나래': 4472, '밀고': 4473, '주시': 4474, '소나기': 4475, '파이프': 4476, '만큼이라도': 4477, '까지는': 4478, '상해': 4479, '갖은': 4480, '익사': 4481, '주먹다짐': 4482, '제공': 4483, '이만': 4484, '물자': 4485, '톤': 4486, '날짐승': 4487, '영차': 4488, '세운': 4489, '요컨대': 4490, '반도': 4491, '진실': 4492, '시중': 4493, '빤짝': 4494, '차별': 4495, '근': 4496, '친엄마': 4497, '똑바로': 4498, '식인종': 4499, '후회': 4500, '수줍어하': 4501, '이로써': 4502, '짜증': 4503, '그리움': 4504, '멍텅구리': 4505, '양보': 4506, '부지': 4507, '앞쪽': 4508, '자연': 4509, '손도장': 4510, '로써': 4511, '생난리': 4512, '튀어': 4513, '얇다': 4514, '지위': 4515, '난리': 4516, '글': 4517, '새어머니': 4518, '당한': 4519, '드럼': 4520, '도금': 4521, '레이스': 4522, '리본': 4523, '광부': 4524, '투덜거리다': 4525, '빼앗다': 4526, '에다가': 4527, '맙소사': 4528, '홀아비': 4529, '게걸': 4530, '금붕어': 4531, '어항': 4532, '원인': 4533, '그러므로': 4534, '오자': 4535, '불로': 4536, '장도': 4537, '성직자': 4538, '닭장': 4539, '홰': 4540, '비웃음': 4541, '숨쉬다': 4542, '이상은': 4543, '사장': 4544, '지요': 4545, '충만': 4546, '끽끽': 4547, '이딴': 4548, '신앙심': 4549, '빗어주다': 4550, '어조': 4551, '부여': 4552, '끔벅': 4553, '심정': 4554, '마다의': 4555, '가령': 4556, '홀랑': 4557, '헤라클레스': 4558, '손녀': 4559, '수호': 4560, '노랗다': 4561, '여명': 4562, '밖에는': 4563, '점점이': 4564, '고해': 4565, '갈가리': 4566, '게으름': 4567, '가가': 4568, '오막살이': 4569, '밝아지다': 4570, '차려입다': 4571, '회개': 4572, '뒷발': 4573, '구해오': 4574, '지롱': 4575, '고급': 4576, '시로': 4577, '다녀오다': 4578, '게으름뱅이': 4579, '나선': 4580, '추악하다': 4581, '예수님': 4582, '제겐': 4583, '하란': 4584, '물방울': 4585, '흠잡다': 4586, '흐느껴': 4587, '그레이하운드': 4588, '빚': 4589, '살해': 4590, '나로': 4591, '관통': 4592, '이행': 4593, '골풀': 4594, '싹둑': 4595, '덜커덕': 4596, '래야': 4597, '발각': 4598, '햐': 4599, '그늘': 4600, '교수대': 4601, '이쯤': 4602, '웅대': 4603, '손해': 4604, '흑': 4605, '걱정거리': 4606, '트자': 4607, '똥찬': 4608, '연습': 4609, '짊어': 4610, '꼬챙이': 4611, '불꽃': 4612, '튀기다': 4613, '일간': 4614, '물기': 4615, '곱': 4616, '소임': 4617, '안이': 4618, '배회': 4619, '사항': 4620, '듭니': 4621, '뚱딴지': 4622, '저걸': 4623, '효성': 4624, '산소': 4625, '묘': 4626, '채비': 4627, '바윗돌': 4628, '승마': 4629, '마스터': 4630, '감자': 4631, '촌뜨기': 4632, '죄악': 4633, '꽂히다': 4634, '긋다': 4635, '부각시키다': 4636, '보인느': 4637, '우러러보': 4638, '장상': 4639, '밑천': 4640, '범벅': 4641, '다람쥐': 4642, '득': 4643, '오는': 4644, '백발': 4645, '청구': 4646, '폭력': 4647, '고충': 4648, '수반': 4649, '찌푸리다': 4650, '대박': 4651, '근면하다': 4652, '닷': 4653, '어둑어둑하다': 4654, '게유': 4655, '약조': 4656, '점령': 4657, '부부싸움': 4658, '여부': 4659, '쿵쾅거리다': 4660, '경계': 4661, '웃음보': 4662, '띠': 4663, '기우': 4664, '뚱하다': 4665, '아가리': 4666, '어쩌다': 4667, '나신': 4668, '일반': 4669, '주거': 4670, '명예': 4671, '엊그제': 4672, '서너': 4673, '모욕': 4674, '완쾌': 4675, '쫘': 4676, '꽃다발': 4677, '택해': 4678, '리만': 4679, '간지럽다': 4680, '리치': 4681, '슬리퍼': 4682, '내려앉다': 4683, '집도': 4684, '고독': 4685, '근접하다': 4686, '반달': 4687, '머리핀': 4688, '성스럽다': 4689, '이롭다': 4690, '현실': 4691, '추슬러보기': 4692, '손바닥': 4693, '뼘': 4694, '광산': 4695, '매혹': 4696, '명량': 4697, '일찍이': 4698, '실패': 4699, '타나': 4700, '칭얼거리다': 4701, '초이': 4702, '마디나': 4703, '성복': 4704, '손보': 4705, '마음상태': 4706, '유쾌하다': 4707, '식겁하다': 4708, '비치': 4709, '즐거이': 4710, '복무': 4711, '얼핏': 4712, '평가': 4713, '후추': 4714, '끈질기다': 4715, '팽': 4716, '중상': 4717, '모략': 4718, '신실하다': 4719, '이십': 4720, '주된': 4721, '퓨리': 4722, '래요': 4723, '병약하다': 4724, '의복': 4725, '류': 4726, '천연두': 4727, '얕다': 4728, '체험': 4729, '깜빡이다': 4730, '치고는': 4731, '낚싯줄': 4732, '예언': 4733, '기력': 4734, '환영': 4735, '맵시': 4736, '계집아이': 4737, '정해진': 4738, '닞': 4739, '판관': 4740, '이름나다': 4741, '박박': 4742, '자애롭다': 4743, '긴장감': 4744, '차도': 4745, '재판정': 4746, '마지못하다': 4747, '활활': 4748, '구제': 4749, '꽃송이': 4750, '곱사등이': 4751, '헤': 4752, '까닥': 4753, '이지만': 4754, '예사롭다': 4755, '부엉부엉': 4756, '벅차다': 4757, '유리상자': 4758, '애로': 4759, '노름': 4760, '읊어줘': 4761, '움켜잡아': 4762, '배우자': 4763, '어허': 4764, '온천': 4765, '갓': 4766, '휩쓸다': 4767, '센스': 4768, '급속도': 4769, '혈육': 4770, '아두': 4771, '코커스': 4772, '한층': 4773, '모서리': 4774, '쑤다': 4775, '예외': 4776, '투자': 4777, '저러다': 4778, '문밖': 4779, '괴상하다': 4780, '나열': 4781, '여자도': 4782, '번데기': 4783, '성장하다': 4784, '수작': 4785, '출구': 4786, '외침': 4787, '교환': 4788, '패가': 4789, '대뇌': 4790, '귓': 4791, '얼얼하다': 4792, '응당': 4793, '보였더랬': 4794, '위오': 4795, '다름없다': 4796, '곰곰': 4797, '패턴': 4798, '주도': 4799, '일어': 4800, '푹신하다': 4801, '갑옷': 4802, '호화롭다': 4803, '강철': 4804, '숭고하다': 4805, '악행': 4806, '그럴듯하다': 4807, '공정하다': 4808, '곳곳': 4809, '조급하다': 4810, '둘러쌓다': 4811, '부재': 4812, '상달': 4813, '회부': 4814, '의거': 4815, '광대하다': 4816, '넓이': 4817, '달린다': 4818, '낄낄': 4819, '무죄': 4820, '는가': 4821, '예물': 4822, '사발': 4823, '갈퀴': 4824, '펄럭이다': 4825, '황금머릿결': 4826, '진자': 4827, '의문': 4828, '음료수': 4829, '장땡': 4830, '순서': 4831, '구가': 4832, '흠칫': 4833, '누그러뜨릴': 4834, '왜요': 4835, '덜썩': 4836, '생선': 4837, '야마': 4838, '우마': 4839, '미적': 4840, '챙': 4841, '쿨하다': 4842, '미나리아재비': 4843, '볼모': 4844, '기록': 4845, '삭제': 4846, '흩날리다': 4847, '측근': 4848, '배푼': 4849, '고려': 4850, '매복': 4851, '가상하다': 4852, '폭풍': 4853, '패철': 4854, '보이시': 4855, '해고': 4856, '혓바닥': 4857, '기한': 4858, '만료': 4859, '손재주': 4860, '중국': 4861, '도자기': 4862, '땡그': 4863, '주저': 4864, '툴툴거렸어': 4865, '양파': 4866, '튤립': 4867, '실물': 4868, '동치': 4869, '타지': 4870, '이맘때': 4871, '남김없이': 4872, '장대비': 4873, '화형식': 4874, '끗다': 4875, '속에댜': 4876, '위도': 4877, '유용하다': 4878, '어떡하다': 4879, '공개': 4880, '불시': 4881, '야비하다': 4882, '하필': 4883, '실쭉': 4884, '보람': 4885, '누었': 4886, '쭈르르': 4887, '수도원': 4888, '호명': 4889, '본인': 4890, '달이다': 4891, '엉겅퀴': 4892, '충돌': 4893, '흥분하다': 4894, '기필코': 4895, '배은망덕하다': 4896, '이례': 4897, '절대로': 4898, '예민하다': 4899, '나이라': 4900, '사려': 4901, '내면': 4902, '천명': 4903, '화목': 4904, '부주의하다': 4905, '발송': 4906, '잤더랬': 4907, '제자리': 4908, '마님': 4909, '헝가리': 4910, '감흥': 4911, '재고': 4912, '앞장서다': 4913, '누런': 4914, '무진': 4915, '거꾸러지다': 4916, '훤히': 4917, '미끄럽다': 4918, '쇠약하다': 4919, '피클': 4920, '치료': 4921, '수석': 4922, '겨울철': 4923, '분필': 4924, '의논': 4925, '힐끗': 4926, '윙크': 4927, '들락거리': 4928, '꿀벌': 4929, '상석': 4930, '부서뜨리다': 4931, '치렁치렁': 4932, '복잡하다': 4933, '명쾌하다': 4934, '싸잡다': 4935, '대금': 4936, '분하다': 4937, '마지않다': 4938, '짐짓': 4939, '지갑': 4940, '무례': 4941, '범': 4942, '찜질': 4943, '졸리': 4944, '웠': 4945, '땡전': 4946, '곧잘': 4947, '작자': 4948, '게오': 4949, '퍼덕이다': 4950, '퍼덕': 4951, '먹구름': 4952, '어연': 4953, '헛된': 4954, '이동수': 4955, '할망구': 4956, '경직': 4957, '흔하다': 4958, '싸하다': 4959, '노르만': 4960, '방자하다': 4961, '뼛속': 4962, '각하': 4963, '자지': 4964, '관해': 4965, '횃대': 4966, '대요': 4967, '밥풀': 4968, '주걱': 4969, '까지와': 4970, '천년': 4971, '찬양': 4972, '골칫덩': 4973, '산비탈': 4974, '거슬러': 4975, '극심하다': 4976, '어감': 4977, '벽장': 4978, '요술쟁이': 4979, '시범': 4980, '보': 4981, '이음': 4982, '가물다': 4983, '단념하다': 4984, '진실하다': 4985, '방울방울': 4986, '사기': 4987, '으로가': 4988, '색조': 4989, '작별인사': 4990, '어젯밤': 4991, '상연': 4992, '시간표': 4993, '서고': 4994, '온기': 4995, '은인': 4996, '남구': 4997, '브라': 4998, '켈': 4999, '힌': 5000, '르그': 5001, '강의': 5002, '끄트머리': 5003, '이승': 5004, '신령': 5005, '매도': 5006, '젖먹이': 5007, '클로버': 5008, '사각형': 5009, '는커녕': 5010, '영양가': 5011, '듬뿍하다': 5012, '샘솟다': 5013, '몸뚱이': 5014, '가라': 5015, '소지품': 5016, '이래': 5017, '넋': 5018, '얻지': 5019, '드니': 5020, '금도': 5021, '건만': 5022, '철저하다': 5023, '땅땅': 5024, '차례차례': 5025, '산속': 5026, '가마솥': 5027, '난감하다': 5028, '안색': 5029, '핑크색': 5030, '산호': 5031, '북받치다': 5032, '구봉': 5033, '나위': 5034, '이미지': 5035, '임명': 5036, '공작': 5037, '자진': 5038, '빈털터리': 5039, '날씬하다': 5040, '항적': 5041, '거슬리다': 5042, '사례금': 5043, '유명': 5044, '먹고다': 5045, '꼴사납다': 5046, '친아빠': 5047, '속셈': 5048, '있었쬬': 5049, '이글': 5050, '노려보다': 5051, '구조': 5052, '부속': 5053, '온전': 5054, '어찌어찌': 5055, '싫증나다': 5056, '너도밤나무': 5057, '목재': 5058, '회양': 5059, '성수': 5060, '곤봉': 5061, '받았더랬': 5062, '끼울다': 5063, '짓누르다': 5064, '난장판': 5065, '저장': 5066, '뾰루': 5067, '찬물': 5068, '지대': 5069, '특징': 5070, '분풀이': 5071, '쭈글쭈글': 5072, '공부': 5073, '벼슬': 5074, '별별': 5075, '별의별': 5076, '메추라기': 5077, '꿩': 5078, '날름': 5079, '왈칵': 5080, '식당': 5081, '작업장': 5082, '오직': 5083, '하듯': 5084, '세도': 5085, '튼튼하다': 5086, '신지도': 5087, '회오리바람': 5088, '건조': 5089, '생계': 5090, '꿈일': 5091, '우기': 5092, '부시': 5093, '댕': 5094, '흘낏': 5095, '따사롭': 5096, '동풍': 5097, '그루터기': 5098, '훈풍': 5099, '낭비': 5100, '면목': 5101, '긴장': 5102, '어지간하다': 5103, '물러서다': 5104, '연달': 5105, '차이다': 5106, '망극': 5107, '흠집': 5108, '수치': 5109, '부치다': 5110, '해갈': 5111, '아작': 5112, '팔짝': 5113, '기색': 5114, '끝내다': 5115, '현인': 5116, '갑작스럽다': 5117, '사령': 5118, '사팔뜨기': 5119, '광채': 5120, '필수': 5121, '사모': 5122, '조지': 5123, '츠': 5124, '연거푸': 5125, '왔더랬': 5126, '물기둥': 5127, '포함': 5128, '꼬끼오': 5129, '꼬꼬': 5130, '아니꼽다': 5131, '지침': 5132, '망치다': 5133, '태양빛': 5134, '촬': 5135, '감감': 5136, '무소식': 5137, '다실': 5138, '식용': 5139, '번득': 5140, '아차': 5141, '기다랗': 5142, '자아내다': 5143, '무한': 5144, '황량': 5145, '아침식사': 5146, '성냄': 5147, '붓감': 5148, '산뜻하다': 5149, '사안': 5150, '완만': 5151, '경사지다': 5152, '잿빛': 5153, '구릿빛': 5154, '박차다': 5155, '요왕': 5156, '경황': 5157, '어디가': 5158, '오냐': 5159, '적기': 5160, '나오니': 5161, '안식': 5162, '논의': 5163, '심보': 5164, '여리다': 5165, '꿋꿋': 5166, '요량': 5167, '자연스럽다': 5168, '술술': 5169, '악': 5170, '연설': 5171, '박수': 5172, '도개교': 5173, '건너오다': 5174, '엄동설한': 5175, '생명체': 5176, '변장': 5177, '보필': 5178, '하렴': 5179, '폭소': 5180, '말동무': 5181, '터널': 5182, '재잘거리다': 5183, '부러워하다': 5184, '사각사각': 5185, '긇히': 5186, '신용': 5187, '도처': 5188, '다툼': 5189, '뱅뱅': 5190, '놔두다': 5191, '부엉': 5192, '행적': 5193, '우승자': 5194, '다수': 5195, '팔만': 5196, '안함': 5197, '검정색': 5198, '이용': 5199, '줄다리기': 5200, '방지': 5201, '둘러매다': 5202, '푸르른': 5203, '상당수': 5204, '이발사': 5205, '면도': 5206, '우애': 5207, '대수롭다': 5208, '고요하다': 5209, '군림': 5210, '광': 5211, '만연하다': 5212, '펜': 5213, '성함': 5214, '완료': 5215, '신뢰': 5216, '설': 5217, '총신': 5218, '측은하다': 5219, '발해': 5220, '태': 5221, '대목': 5222, '팔짝팔짝': 5223, '아비': 5224, '슝': 5225, '이대': 5226, '글렸': 5227, '유복하다': 5228, '같은뎁쇼': 5229, '조끼': 5230, '반나절': 5231, '병인': 5232, '나뒹굴다': 5233, '어질다': 5234, '달래': 5235, '습관': 5236, '재회': 5237, '해질녘': 5238, '길들다': 5239, '밧줄': 5240, '파헤치다': 5241, '소개': 5242, '재임': 5243, '회의': 5244, '소집': 5245, '아물다': 5246, '뛰어놀다': 5247, '치가': 5248, '점프': 5249, '박음': 5250, '아작이다': 5251, '똘똘했어': 5252, '뛰어나가다': 5253, '불열': 5254, '진흙': 5255, '흉하다': 5256, '유머': 5257, '매너': 5258, '출생': 5259, '불만족': 5260, '옴짝': 5261, '한심하다': 5262, '소문나다': 5263, '끼기': 5264, '구구구': 5265, '다다': 5266, '더듬다': 5267, '자만': 5268, '꿈나라': 5269, '타협': 5270, '식사량': 5271, '파고들다': 5272, '파닥이다': 5273, '몸부림': 5274, '할멈': 5275, '작업실': 5276, '의기양양하다': 5277, '롱': 5278, '어걸': 5279, '다한': 5280, '앵': 5281, '맛임': 5282, '숨소리': 5283, '효력': 5284, '긴박하다': 5285, '사의': 5286, '맥주': 5287, '바다코끼리': 5288, '하므다': 5289, '안절부절': 5290, '풀무': 5291, '일리': 5292, '멧새': 5293, '핀치': 5294, '빠귀': 5295, '방울새': 5296, '회': 5297, '후계': 5298, '밀지': 5299, '죽여주다': 5300, '맞대다': 5301, '신기': 5302, '넝마': 5303, '살점': 5304, '일련': 5305, '조합': 5306, '참여': 5307, '앙앙': 5308, '오이': 5309, '온실': 5310, '불안': 5311, '만들기': 5312, '구도': 5313, '뭉개주': 5314, '호색': 5315, '어슬렁거리다': 5316, '짙어지다': 5317, '옷차림': 5318, '쓸데없이': 5319, '샬럿': 5320, '노란색': 5321, '넷': 5322, '어쨌거': 5323, '파랗다': 5324, '돌출': 5325, '멜로디': 5326, '곡조': 5327, '알몸': 5328, '스패니얼': 5329, '암컷': 5330, '오보에': 5331, '연주자': 5332, '움찔': 5333, '빌인뎁쇼': 5334, '라니까': 5335, '말주변': 5336, '이기도': 5337, '커버': 5338, '흉보다': 5339, '산보': 5340, '안되다': 5341, '정력': 5342, '쓸데없다': 5343, '소송': 5344, '오복하다': 5345, '막말': 5346, '보구': 5347, '재판소': 5348, '스트레스': 5349, '새집': 5350, '감탄': 5351, '사공': 5352, '홍길동': 5353, '추기': 5354, '스텝': 5355, '엉뚱하다': 5356, '없었쬬': 5357, '동그랗다': 5358, '골로': 5359, '덤': 5360, '잠겼더랬': 5361, '귀머거리': 5362, '달력': 5363, '배반': 5364, '벼락': 5365, '행정': 5366, '당국': 5367, '분홍색': 5368, '영광': 5369, '산신': 5370, '라벨': 5371, '글씨체': 5372, '사교계': 5373, '돌다리': 5374, '흐르르': 5375, '르': 5376, '옆구리': 5377, '쿡쿡': 5378, '적령': 5379, '가려지다': 5380, '현대': 5381, '붕장어': 5382, '코일': 5383, '불가사리': 5384, '노예': 5385, '곱셈': 5386, '지리': 5387, '스럽지': 5388, '주기도': 5389, '지하감옥': 5390, '반죽': 5391, '어두워지다': 5392, '갈수': 5393, '대만': 5394, '무게중심': 5395, '우르르': 5396, '쏠리다': 5397, '화장': 5398, '도구': 5399, '사라': 5400, '못마땅하다': 5401, '잊어버리다': 5402, '푹푹': 5403, '주치': 5404, '들들': 5405, '볶다': 5406, '얽히다': 5407, '뒤집어지다': 5408, '뭉갰어': 5409, '식초': 5410, '쓰라리다': 5411, '쌩': 5412, '독일어': 5413, '거덜': 5414, '흉년': 5415, '쫄쫄': 5416, '유리잔': 5417, '불명': 5418, '가나다': 5419, '어느덧다': 5420, '새우다': 5421, '글러': 5422, '구의': 5423, '커플': 5424, '우지끈': 5425, '과정': 5426, '넋두리': 5427, '빈곤하다': 5428, '찰랑이다': 5429, '이물': 5430, '봉투': 5431, '건줄': 5432, '형성': 5433, '간파': 5434, '마렴': 5435, '낭떠러지': 5436, '애란': 5437, '방해꾼': 5438, '해파리': 5439, '술래잡기': 5440, '가치': 5441, '공터': 5442, '벅': 5443, '목뼈': 5444, '뿌러질': 5445, '수군거리다': 5446, '우수수': 5447, '반질반질': 5448, '딸내미': 5449, '재미나': 5450, '엄습해': 5451, '문의': 5452, '점검': 5453, '혼나다': 5454, '금발머리': 5455, '에멜랄드': 5456, '깍': 5457, '아만': 5458, '죄명': 5459, '불끈': 5460, '잠복': 5461, '로군': 5462, '다닥다닥': 5463, '쓱쓱': 5464, '주재': 5465, '한때': 5466, '살림살이': 5467, '일군': 5468, '진열': 5469, '작심': 5470, '꽈': 5471, '샤샤': 5472, '샤': 5473, '쟁이': 5474, '물주': 5475, '전자': 5476, '포악하다': 5477, '몽롱': 5478, '꼬꼬댁': 5479, '정치권': 5480, '거물': 5481, '맨발': 5482, '우월하다': 5483, '대동': 5484, '꼬부': 5485, '택배': 5486, '아줌마': 5487, '장래': 5488, '투입': 5489, '기자': 5490, '삼백': 5491, '후후': 5492, '려던': 5493, '엘시': 5494, '레이': 5495, '틸리였어': 5496, '뛰어나다': 5497, '발판': 5498, '떨기': 5499, '실신': 5500, '엿듣': 5501, '덧옷': 5502, '가정부': 5503, '사열식': 5504, '팔고': 5505, '타래': 5506, '리해': 5507, '토실하다': 5508, '불청객': 5509, '만반': 5510, '태세': 5511, '성품': 5512, '짓눌리다': 5513, '반대신문': 5514, '건방지다': 5515, '토라': 5516, '안락': 5517, '식구': 5518, '보쇼': 5519, '재빠르다': 5520, '오매불망': 5521, '보상금': 5522, '십사': 5523, '거구': 5524, '에서보다': 5525, '일랑': 5526, '별일': 5527, '한나절': 5528, '등치': 5529, '묽다': 5530, '선율': 5531, '주량': 5532, '숯댕': 5533, '얼추': 5534, '분주하다': 5535, '종사': 5536, '몸속': 5537, '모함': 5538, '푸드득': 5539, '고등학교': 5540, '잘살다': 5541, '고결하다': 5542, '씌': 5543, '저렇다': 5544, '버둥대다': 5545, '깨물다': 5546, '흉악하다': 5547, '곡간': 5548, '가마니': 5549, '대청': 5550, '뽀롱이': 5551, '주름살': 5552, '일가견': 5553, '때려눕혔다': 5554, '야기': 5555, '보통': 5556, '죄목': 5557, '착석': 5558, '포박': 5559, '포자': 5560, '무자비하다': 5561, '안락하다': 5562, '미천하다': 5563, '점칠': 5564, '단장': 5565, '옆방': 5566, '덜다': 5567, '훈계': 5568, '폭압적': 5569, '발뒤꿈치': 5570, '앨': 5571, '함녀': 5572, '주석': 5573, '레드와인': 5574, '진정하다': 5575, '뭉개지': 5576, '좌우': 5577, '신통하다': 5578, '문외한': 5579, '아직도': 5580, '의향': 5581, '버럭': 5582, '덩치': 5583, '먹음': 5584, '직': 5585, '꿈침': 5586, '무정하다': 5587, '기해': 5588, '찬성': 5589, '오색': 5590, '옻칠': 5591, '광택': 5592, '코끝': 5593, '옷자락': 5594, '가시다': 5595, '불효자': 5596, '효심': 5597, '지극': 5598, '저녁놀': 5599, '더군다나': 5600, '나이팅게일': 5601, '소비': 5602, '은덕': 5603, '봉지': 5604, '인거': 5605, '앨래스': 5606, '자비롭다': 5607, '빵칼': 5608, '다나': 5609, '흘러가다': 5610, '소산': 5611, '다분하다': 5612, '경향': 5613, '띤': 5614, '수증기': 5615, '투명하다': 5616, '뒷': 5617, '종인': 5618, '독감': 5619, '걱정스럽다': 5620, '설거지': 5621, '식탁보': 5622, '놈팡이': 5623, '어기적어기적': 5624, '덜걱덜걱': 5625, '인적': 5626, '드물다': 5627, '틀어박히다': 5628, '도모': 5629, '소매': 5630, '호소': 5631, '큼지막하다': 5632, '껑충': 5633, '부리부리하다': 5634, '눈매': 5635, '증표': 5636, '발가락': 5637, '우두둑': 5638, '뭇': 5639, '수북하다': 5640, '바이': 5641, '성하': 5642, '유독': 5643, '원기': 5644, '왕성': 5645, '치장': 5646, '항시': 5647, '단정하다': 5648, '비용': 5649, '목도': 5650, '고통스럽다': 5651, '불운': 5652, '그윽': 5653, '동심': 5654, '착착': 5655, '자신만만하다': 5656, '어미': 5657, '어르다': 5658, '휘둘렸지': 5659, '용무': 5660, '양배추': 5661, '머금': 5662, '분열': 5663, '자포자기': 5664, '엄하': 5665, '축하': 5666, '부당하다': 5667, '거르면서': 5668, '대면': 5669, '인과': 5670, '페하': 5671, '격': 5672, '보듬다': 5673, '박람회': 5674, '잡혀가다': 5675, '힘내다': 5676, '끼니': 5677, '때우다': 5678, '애호가': 5679, '특권': 5680, '캥캥': 5681, '칙칙하다': 5682, '속인': 5683, '간만': 5684, '노소': 5685, '꾀죄죄하다': 5686, '무스': 5687, '름': 5688, '이간': 5689, '물개': 5690, '연어': 5691, '아이야': 5692, '자긍심': 5693, '태피스트리': 5694, '캐비닛': 5695, '보복': 5696, '달랑': 5697, '초가': 5698, '책장': 5699, '응접실': 5700, '말끔': 5701, '토로': 5702, '박아': 5703, '체포하라': 5704, '망나니': 5705, '대번에': 5706, '어기': 5707, '은잔': 5708, '자유': 5709, '출렁이다': 5710, '로란': 5711, '졸졸': 5712, '대하': 5713, '도운': 5714, '멍충': 5715, '향수병': 5716, '연고로': 5717, '때론': 5718, '흥건': 5719, '자각': 5720, '떠나오다': 5721, '자시다': 5722, '보체': 5723, '던': 5724, '잘리다': 5725, '동일하다': 5726, '쉽다': 5727, '검댕': 5728, '실리다': 5729, '수일': 5730, '전시': 5731, '쉬이': 5732, '서양': 5733, '흐느낌': 5734, '곧이': 5735, '메르쿠리우스': 5736, '갈겨': 5737, '자게': 5738, '출세': 5739, '로베르': 5740, '여름날': 5741, '회상': 5742, '꾸밈': 5743, '용납': 5744, '호감': 5745, '자칫': 5746, '갈래': 5747, '야외': 5748, '힘쓰다': 5749, '경비': 5750, '행진': 5751, '익숙': 5752, '가정교사': 5753, '들러리': 5754, '경비원': 5755, '서기': 5756, '혈색': 5757, '파래': 5758, '성령': 5759, '강림절': 5760, '버려지다': 5761, '외로이': 5762, '어지럽다': 5763, '울화통': 5764, '런가': 5765, '주무': 5766, '힐금힐금': 5767, '리신': 5768, '왕년': 5769, '국가': 5770, '펑퍼짐하다': 5771, '안쪽': 5772, '바른': 5773, '낙농업': 5774, '사색': 5775, '대도': 5776, '강요': 5777, '다야': 5778, '머프': 5779, '속담': 5780, '무색': 5781, '지라': 5782, '사원': 5783, '여신': 5784, '호락호락하다': 5785, '요긴': 5786, '평상시': 5787, '격발': 5788, '바스락바스락': 5789, '그릇되다': 5790, '깨나': 5791, '텁수룩': 5792, '신세': 5793, '의아': 5794, '뜨내기': 5795, '엮이긴': 5796, '진압해': 5797, '밥줄': 5798, '진정': 5799, '발밑': 5800, '방장': 5801, '치마': 5802, '땋았던': 5803, '영롱하다': 5804, '꾸벅꾸벅': 5805, '넘겨보다': 5806, '짓궂다': 5807, '상륙': 5808, '비키다': 5809, '지피다': 5810, '플리': 5811, '거무스름': 5812, '기합': 5813, '진동': 5814, '에네케': 5815, '베네케': 5816, '억': 5817, '적의': 5818, '몸통': 5819, '꿰뚫다': 5820, '장통': 5821, '경구': 5822, '사로잡히다': 5823, '봄철': 5824, '기뻐했더랬': 5825, '단편': 5826, '손자': 5827, '영역': 5828, '지탱': 5829, '손발': 5830, '가늠': 5831, '약재': 5832, '폭로': 5833, '명과': 5834, '양부': 5835, '에덴동산': 5836, '불모': 5837, '수렁': 5838, '검도': 5839, '섬멸': 5840, '평온': 5841, '댕기': 5842, '염': 5843, '혈통': 5844, '황폐': 5845, '밤색': 5846, '군침': 5847, '잘잘': 5848, '다리다': 5849, '탁하다': 5850, '묵직하다': 5851, '기둥': 5852, '높다랗': 5853, '간격': 5854, '배열': 5855, '지칭': 5856, '조예': 5857, '따위': 5858, '용기병': 5859, '머스킷총': 5860, '긴장도': 5861, '경청': 5862, '유의': 5863, '마음대로': 5864, '대동단결': 5865, '럴': 5866, '석류나무': 5867, '강가': 5868, '껍데기': 5869, '감수': 5870, '홀린': 5871, '산모': 5872, '친지': 5873, '아우르다': 5874, '남아도': 5875, '공증인': 5876, '변호사': 5877, '연다': 5878, '담하다': 5879, '판이하다': 5880, '건대': 5881, '허약하다': 5882, '목욕탕': 5883, '욕조': 5884, '어리둥절해지다': 5885, '곤거렸답': 5886, '해조': 5887, '깍지': 5888, '떨구다': 5889, '사물': 5890, '빗대다': 5891, '남겨지다': 5892, '썩을': 5893, '우뚝': 5894, '흙투성이': 5895, '희희낙락': 5896, '고독감': 5897, '자욱하다': 5898, '메모': 5899, '납': 5900, '신중하다': 5901, '마여': 5902, '아침햇살': 5903, '텄': 5904, '흥부가': 5905, '비결': 5906, '정각': 5907, '글쎄요': 5908, '면박': 5909, '몸무게': 5910, '타이밍': 5911, '런던': 5912, '괜': 5913, '야단': 5914, '법석': 5915, '괴성': 5916, '정적': 5917, '여물': 5918, '나일': 5919, '말쑥하다': 5920, '군중': 5921, '밝기': 5922, '멀뚱멀뚱': 5923, '다복': 5924, '디': 5925, '구리': 5926, '엑스': 5927, '치었더랬': 5928, '가파른': 5929, '뛰어넘다': 5930, '해주': 5931, '재잘재잘': 5932, '녹슨': 5933, '불쏘시개': 5934, '유성': 5935, '만지작거리다': 5936, '방실': 5937, '관도': 5938, '언월도': 5939, '갠': 5940, '낟알': 5941, '노을': 5942, '단계': 5943, '백해무익하다': 5944, '자슥': 5945, '미풍': 5946, '나물': 5947, '꿀풀': 5948, '개울물': 5949, '옵': 5950, '헛디디다': 5951, '여야': 5952, '뭣땜시': 5953, '날갯짓들': 5954, '몹쓸': 5955, '삐': 5956, '기우뚱': 5957, '인근': 5958, '맞닿다': 5959, '거진': 5960, '요란': 5961, '말뚱말뚱': 5962, '지겹다': 5963, '쩔뚝': 5964, '교수': 5965, '땔나무': 5966, '초면': 5967, '고래고래': 5968, '배우': 5969, '간단': 5970, '오라기': 5971, '잘려지다': 5972, '또르르': 5973, '가다가': 5974, '초상': 5975, '묏': 5976, '얜': 5977, '횡재': 5978, '경의': 5979, '단다': 5980, '족족': 5981, '소로': 5982, '역겹다': 5983, '가격': 5984, '격렬하다': 5985, '불규칙': 5986, '훑다': 5987, '영웅': 5988, '의치': 5989, '형틀': 5990, '궁둥이': 5991, '까발리다': 5992, '철썩': 5993, '다고': 5994, '살인': 5995, '깡그리': 5996, '요망': 5997, '어어': 5998, '이산': 5999, '논바닥': 6000, '쩌억': 6001, '나무껍질': 6002, '홀라당': 6003, '탈곡': 6004, '제격': 6005, '타일러': 6006, '다듬다': 6007, '탄복': 6008, '지킴': 6009, '마가': 6010, '기독교도': 6011, '대시': 6012, '똥찰': 6013, '안나': 6014, '평범하다': 6015, '오싹': 6016, '지참금': 6017, '란다': 6018, '거고요': 6019, '알현': 6020, '승패': 6021, '숙년': 6022, '박음질': 6023, '불량': 6024, '법원': 6025, '고위': 6026, '관료': 6027, '훼방': 6028, '작품': 6029, '죄인': 6030, '질색': 6031, '그립다': 6032, '항해': 6033, '솔': 6034, '부유': 6035, '애용': 6036, '구입': 6037, '뭉개기': 6038, '긴지': 6039, '태초': 6040, '감시': 6041, '뾰족': 6042, '굽기': 6043, '청해': 6044, '주로': 6045, '합치': 6046, '아들웨렐': 6047, '이스트라': 6048, '가능': 6049, '대놓고': 6050, '정규': 6051, '타킨': 6052, '잡아매다': 6053, '일말': 6054, '데기': 6055, '앞마당': 6056, '갈팡질팡': 6057, '시내': 6058, '내부': 6059, '비유': 6060, '발린': 6061, '기대하다': 6062, '택하': 6063, '행방': 6064, '사교': 6065, '헌신': 6066, '농': 6067, '잠입': 6068, '그닥': 6069, '뿜어져': 6070, '자욱이': 6071, '발검': 6072, '약용': 6073, '선왕': 6074, '토기': 6075, '매료': 6076, '하모니': 6077, '떠다니다': 6078, '양은': 6079, '가르랑거리다': 6080, '애완동물': 6081, '답변': 6082, '러마': 6083, '조그마하다': 6084, '세심': 6085, '조밀하다': 6086, '꼼꼼하다': 6087, '기민하다': 6088, '성과': 6089, '축소': 6090, '팔팔': 6091, '날궂': 6092, '극단': 6093, '택': 6094, '그나': 6095, '술자리': 6096, '심술': 6097, '딴': 6098, '타월': 6099, '갈리다': 6100, '어설프다': 6101, '작년': 6102, '너비': 6103, '시뻘': 6104, '에서까지': 6105, '거꾸로': 6106, '제자': 6107, '도장': 6108, '겉옷': 6109, '더듬더듬': 6110, '토닥토닥': 6111, '장차': 6112, '검은색': 6113, '구석구석': 6114, '부족': 6115, '비병': 6116, '일체': 6117, '삭둑': 6118, '워질': 6119, '독일인': 6120, '표준어': 6121, '나긋하다': 6122, '말미암아': 6123, '어가': 6124, '간담': 6125, '오므라들다': 6126, '골다': 6127, '대뜸': 6128, '녹다': 6129, '마무': 6130, '약자': 6131, '웬만큼': 6132, '쌔야': 6133, '통치': 6134, '신신당부': 6135, '자장가': 6136, '떠돌다': 6137, '할퀴다': 6138, '빨강': 6139, '장막': 6140, '팔인': 6141, '소생': 6142, '호박벌': 6143, '가수': 6144, '목록': 6145, '유심': 6146, '기병': 6147, '임마': 6148, '자리야': 6149, '절차': 6150, '나이까': 6151, '기와': 6152, '어떠하다': 6153, '파멸하다': 6154, '애석하다': 6155, '날자': 6156, '깊숙하다': 6157, '소용돌이': 6158, '더하기': 6159, '세려': 6160, '같이만': 6161, '정녕': 6162, '위험천만': 6163, '술집': 6164, '벌컥벌컥': 6165, '말다툼': 6166, '싸움질': 6167, '모피': 6168, '방편': 6169, '끝장': 6170, '셔': 6171, '끝점': 6172, '막무가내': 6173, '훨훨': 6174, '은신': 6175, '쑥대밭': 6176, '무두': 6177, '종소리': 6178, '전신': 6179, '최상': 6180, '쇠스랑': 6181, '무장': 6182, '팔로': 6183, '갈아': 6184, '꼬부라지다': 6185, '소음': 6186, '너셕': 6187, '험하다': 6188, '산길': 6189, '명백하다': 6190, '새매': 6191, '솔개': 6192, '탕': 6193, '왕인': 6194, '벌판': 6195, '갈수록': 6196, '신앙': 6197, '끄덕이다': 6198, '기세': 6199, '독기': 6200, '양하다': 6201, '번지르르하다': 6202, '요런': 6203, '얄밉다': 6204, '사무': 6205, '지인': 6206, '조가': 6207, '의술': 6208, '창조자': 6209, '자시': 6210, '상체': 6211, '승리감': 6212, '사냥터': 6213, '형국': 6214, '정처': 6215, '국': 6216, '동맹국': 6217, '시인': 6218, '바깥쪽': 6219, '얼어붙다': 6220, '식다': 6221, '깃발': 6222, '개선': 6223, '쪼무라기': 6224, '기별': 6225, '치하': 6226, '하사': 6227, '쪼그라들다': 6228, '덩달아': 6229, '상이': 6230, '게단': 6231, '뭐땜시': 6232, '땅거미': 6233, '일행': 6234, '정교하다': 6235, '피치': 6236, '골수': 6237, '모면': 6238, '고초': 6239, '뛰어오다': 6240, '캔디': 6241, '하오': 6242, '미남': 6243, '덧붙이기': 6244, '꼬기': 6245, '방긋': 6246, '빗자루': 6247, '불경기': 6248, '빠듯하': 6249, '경찰관': 6250, '셨': 6251, '시름시름': 6252, '핼쑥': 6253, '나누기': 6254, '시퍼레지다': 6255, '디디다': 6256, '국물': 6257, '어요': 6258, '원도': 6259, '청중': 6260, '어쩌겠다': 6261, '텐': 6262, '적지': 6263, '다리미질': 6264, '위아래': 6265, '금기': 6266, '악화': 6267, '천벌': 6268, '보충': 6269, '심지': 6270, '목마름': 6271, '산발': 6272, '짊': 6273, '부럽다': 6274, '빼앗기다': 6275, '내심': 6276, '쾌차': 6277, '일어서다': 6278, '공통': 6279, '심심하다': 6280, '심각': 6281, '심문': 6282, '쇠똥': 6283, '현세': 6284, '돛': 6285, '나부끼다': 6286, '망망대해': 6287, '쓰다듬다': 6288, '딱이다': 6289, '화난': 6290, '눈초리': 6291, '뒤꿈치': 6292, '키다리': 6293, '잡아타다': 6294, '꺼': 6295, '탁탁': 6296, '아마로': 6297, '철로': 6298, '까지만이라도': 6299, '간수': 6300, '오도': 6301, '다발': 6302, '도가머리': 6303, '대위': 6304, '계급': 6305, '몰리다': 6306, '늦가을': 6307, '점심때': 6308, '도시락': 6309, '도둑질': 6310, '소파': 6311, '수월하다': 6312, '상념': 6313, '보슈': 6314, '변치': 6315, '판단': 6316, '참내': 6317, '다급해지다': 6318, '이발': 6319, '똘망똘망': 6320, '비스킷': 6321, '사먹다': 6322, '목말': 6323, '사업': 6324, '연장': 6325, '구분': 6326, '귀로': 6327, '칸탈': 6328, '부트': 6329, '제국': 6330, '장하': 6331, '칭호': 6332, '홍수': 6333, '먹어주다': 6334, '부딪치다': 6335, '구두약': 6336, '세워지다': 6337, '손길': 6338, '가해진': 6339, '어쩌게': 6340, '수다': 6341, '보유': 6342, '고갈': 6343, '다림질': 6344, '툇마루': 6345, '계략': 6346, '생활비': 6347, '절약': 6348, '그야말로': 6349, '붐비다': 6350, '빈둥빈둥': 6351, '잡아가다': 6352, '잡기': 6353, '역장': 6354, '어리석음': 6355, '문틈': 6356, '실으': 6357, '허리춤': 6358, '떠들썩하다': 6359, '반쯥': 6360, '감기': 6361, '꼬박꼬박': 6362, '짐작': 6363, '폐허': 6364, '지방': 6365, '짹짹': 6366, '찍찍거리다': 6367, '역사': 6368, '해명': 6369, '역경': 6370, '창안': 6371, '정의': 6372, '부터라도': 6373, '내보이다': 6374, '하소': 6375, '구렁': 6376, '상승': 6377, '밥그릇': 6378, '밭일': 6379, '데이지': 6380, '만도': 6381, '초라하다': 6382, '일부러': 6383, '싸가지': 6384, '다빈': 6385, '조만간': 6386, '약샥': 6387, '살찌다': 6388, '내려놓음': 6389, '예고': 6390, '등장': 6391, '체리': 6392, '타트': 6393, '커스터드': 6394, '파인애플': 6395, '칠면조': 6396, '태피': 6397, '토스트': 6398, '어림': 6399, '어치': 6400, '두뇌': 6401, '부슬부슬': 6402, '읊어보': 6403, '공도': 6404, '티끌': 6405, '꼴다': 6406, '림': 6407, 'ㅜㅜ': 6408, '누군': 6409, '전력': 6410, '간식': 6411, '제품': 6412, '휑하': 6413, '저만': 6414, '와르르': 6415, '당혹스럽다': 6416, '우리나라': 6417, '세간': 6418, '이색': 6419, '코끼리': 6420, '듬직하다': 6421, '떠나가다': 6422, '기획': 6423, '땅딸막': 6424, '생기발랄하다': 6425, '예사': 6426, '읊': 6427, '꽝': 6428, '특이하다': 6429, '맴돌다': 6430, '이라니': 6431, '고라': 6432, '상기': 6433, '청개구리': 6434, '나른하다': 6435, '제기랄': 6436, '나머진': 6437, '읍내': 6438, '아버': 6439, '합': 6440, '디다': 6441, '푸른색': 6442, '지극히': 6443, '부실': 6444, '허다': 6445, '학년': 6446, '시점': 6447, '극명하다': 6448, '빈틈': 6449, '연한': 6450, '툴툴': 6451, '기척': 6452, '모기': 6453, '건설': 6454, '한없다': 6455, '고마움': 6456, '닿는뎁쇼': 6457, '벌꿀': 6458, '한없이': 6459, '흉내': 6460, '질린다': 6461, '밝혀내다': 6462, '헝클어지다': 6463, '지배': 6464, '슬기': 6465, '지난번': 6466, '물품': 6467, '이실': 6468, '탱탱하다': 6469, '안하무인': 6470, '전과': 6471, '수감': 6472, '라운드': 6473, '꾼걸': 6474, '사나': 6475, '날쌔게': 6476, '출입': 6477, '요원': 6478, '젊음': 6479, '가자미': 6480, '뱀장어': 6481, '영악': 6482, '바다표범': 6483, '소의': 6484, '항문': 6485, '엄습할': 6486, '빈둥거리': 6487, '오만하다': 6488, '그러나': 6489, '뽑히다': 6490, '자만하다': 6491, '서약': 6492, '창창하다': 6493, '하스': 6494, '굵다': 6495, '혹은': 6496, '가락지': 6497, '마안': 6498, '노랫가락': 6499, '뚜렷하다': 6500, '맨손': 6501, '기어오르다': 6502, '승복': 6503, '독뱀': 6504, '우리말': 6505, '새색시': 6506, '코찌질': 6507, '봉변': 6508, '불게': 6509, '야만': 6510, '화상': 6511, '칼날': 6512, '착오': 6513, '활용': 6514, '팔지': 6515, '논박': 6516, '리야': 6517, '섭하다': 6518, '끝없다': 6519, '이성': 6520, '정상': 6521, '편찮다': 6522, '도출': 6523, '직빵': 6524, '독버섯': 6525, '다음해': 6526, '수수료': 6527, '단연': 6528, '천대': 6529, '부옇다': 6530, '지성': 6531, '섬기다': 6532, '곡물': 6533, '공지': 6534, '모이라': 6535, '부수': 6536, '쑹': 6537, '타고나다': 6538, '청취': 6539, '누구신지': 6540, '위고': 6541, '논': 6542, '셰익스피어': 6543, '잠수': 6544, '뻐기다': 6545, '삐었군': 6546, '콩': 6547, '끙끙': 6548, '구출': 6549, '매끄럽다': 6550, '막연하다': 6551, '푸른빛': 6552, '화단': 6553, '돋보이다': 6554, '향기롭다': 6555, '야망': 6556, '종교': 6557, '현란하다': 6558, '부추기다': 6559, '자문': 6560, '만류': 6561, '샐러드': 6562, '뭍': 6563, '새싹': 6564, '돋아나다': 6565, '너무하다': 6566, '한결같이': 6567, '도덕': 6568, '불순': 6569, '꼴통': 6570, '끝내주다': 6571, '도취': 6572, '박자': 6573, '딜레마': 6574, '주기': 6575, '찻주전자': 6576, '고령': 6577, '잣': 6578, '가바': 6579, '그러면': 6580, '말발굽': 6581, '교황': 6582, '영국': 6583, '굴복': 6584, '획득': 6585, '저딴': 6586, '하체': 6587, '의회': 6588, '한낱': 6589, '아양': 6590, '치부': 6591, '덕이': 6592, '상도': 6593, '차려': 6594, '라기': 6595, '와는': 6596, '흡족하다': 6597, '마오': 6598, '한단': 6599, '직시': 6600, '오들오들': 6601, '무모하다': 6602, '렸습': 6603, '반동': 6604, '지은': 6605, '다리미': 6606, '관계': 6607, '튕겨': 6608, '성경': 6609, '엉망': 6610, '빗나가다': 6611, '위기일발': 6612, '딱지': 6613, '쓸모': 6614, '문구': 6615, '세계': 6616, '모르타르': 6617, '번영': 6618, '무뚝뚝하다': 6619, '시라': 6620, '치자': 6621, '재깍재깍': 6622, '매질': 6623, '스멀스멀': 6624, '에드': 6625, '뿜': 6626, '반딧불': 6627, '벽돌': 6628, '차신': 6629, '절룩거렸': 6630, '수근': 6631, '땡': 6632, '아예': 6633, '의원님': 6634, '곤충': 6635, '해충': 6636, '고요한': 6637, '창자': 6638, '마분지': 6639, '덕': 6640, '마차도': 6641, '남자에게': 6642, '헤르메스': 6643, '심각해지다': 6644, '갔더랬': 6645, '세찬': 6646, '여행객': 6647, '정이': 6648, '말함': 6649, '유리하다': 6650, '키로': 6651, '엘프': 6652, '줄줄': 6653, '귀의': 6654, '천이': 6655, '난간': 6656, '도지': 6657, '마술사': 6658, '나가시': 6659, '떠돌아다니다': 6660, '쫓겨나다': 6661, '잡지': 6662, '유리창': 6663, '낯': 6664, '말고도': 6665, '여타': 6666, '다량': 6667, '수거': 6668, '온순하다': 6669, '애릴스': 6670, '말고는': 6671, '상당': 6672, '미덕': 6673, '겸비': 6674, '개운하다': 6675, '접수': 6676, '고퐁': 6677, '가감': 6678, '존엄': 6679, '압쇼': 6680, '어께': 6681, '메더': 6682, '예술': 6683, '황급': 6684, '말론': 6685, '독보': 6686, '붉으락': 6687, '푸르락': 6688, '뉴질랜드': 6689, '오스트레일리아': 6690, '요하': 6691, '납작하다': 6692, '부젓가락': 6693, '삽': 6694, '비호감': 6695, '웩': 6696, '총애': 6697, '궁정': 6698, '콘서트': 6699, '구절': 6700, '낭자': 6701, '기울다': 6702, '힘차다': 6703, '저음': 6704, '죽도': 6705, '숟가락': 6706, '연고': 6707, '유연하다': 6708, '뭐니': 6709, '사두': 6710, '머릿결들': 6711, '그만두다': 6712, '올림포스': 6713, '중간': 6714, '괴팍하다': 6715, '변덕': 6716, '나빠지다': 6717, '왕겨': 6718, '방가지똥': 6719, '대자': 6720, '정신과': 6721, '무뎌': 6722, '탄성': 6723, '시력': 6724, '자연스레': 6725, '주어지다': 6726, '함박': 6727, '그럭저럭': 6728, '축축': 6729, '등신': 6730, '뉴': 6731, '끊임없다': 6732, '쨍그랑': 6733, '일어난다': 6734, '신형': 6735, '사태': 6736, '지하방': 6737, '진시': 6738, '롤': 6739, '편자': 6740, '물떼새': 6741, '개지': 6742, '잇다': 6743, '중얼중얼': 6744, '콧노래': 6745, '전남편': 6746, '발악': 6747, '상당량': 6748, '수리부엉이': 6749, '임자': 6750, '기능': 6751, '흥얼거리다': 6752, '했더랬다': 6753, '어두컴컴하다': 6754, '광란': 6755, '흘러나오다': 6756, '대낮': 6757, '검토': 6758, '씌우개': 6759, '친목': 6760, '정육점': 6761, '잠옷': 6762, '까무러치듯': 6763, '아슬아슬하다': 6764, '본때': 6765, '만장일치': 6766, '절명': 6767, '하인츠하인츠': 6768, '벨': 6769, '허튼': 6770, '남고': 6771, '흐느끼': 6772, '라선': 6773, '섬세하다': 6774, '장밋빛': 6775, '에서가': 6776, '걸음걸이': 6777, '헤어': 6778, '손수': 6779, '한바탕': 6780, '혼령': 6781, '떤다': 6782, '불도': 6783, '응수': 6784, '재수': 6785, '옴': 6786, '왕가': 6787, '내게로': 6788, '구우러': 6789, '마리나': 6790, '대접': 6791, '메르': 6792, '다예': 6793, '밀치다': 6794, '바라슈': 6795, '과만': 6796, '아리송하다': 6797, '아닌뎁쇼': 6798, '발자취': 6799, '든든하다': 6800, '리다': 6801, '고국': 6802, '동떨어지다': 6803, '새장': 6804, '초록': 6805, '셋방': 6806, '암호': 6807, '오호': 6808, '놋쇠': 6809, '명패': 6810, '삿대질': 6811, '신랄하다': 6812, '금발': 6813, '임신': 6814, '아저씬': 6815, '이르렀': 6816, '헛': 6817, '평': 6818, '졸라': 6819, '어렴풋하다': 6820, '변수': 6821, '믿음': 6822, '다래': 6823, '휩싸이다': 6824, '저지르다': 6825, '만행': 6826, '피고': 6827, '야간': 6828, '왕깨': 6829, '게는': 6830, '관목': 6831, '침침하다': 6832, '슬그머니': 6833, '료약': 6834, '살그머니': 6835, '여니': 6836, '이파리': 6837, '자상하다': 6838, '고가': 6839, '친밀하다': 6840, '공로': 6841, '마르지': 6842, '적색': 6843, '사암': 6844, '손시늉': 6845, '헌병': 6846, '머스켓총': 6847, '백방': 6848, '추적자': 6849, '네야': 6850, '정성': 6851, '없애다': 6852, '처벌': 6853, '출항': 6854, '수포': 6855, '증언': 6856, '구혼': 6857, '격려': 6858, '다오': 6859, '모드': 6860, '입속': 6861, '아슬아슬': 6862, '아찔하다': 6863, '애달프다': 6864, '신문': 6865, '말미': 6866, '광선': 6867, '윤년': 6868, '색칠': 6869, '유치': 6870, '찢기다': 6871, '어엿하다': 6872, '정신없이': 6873, '울부짖다': 6874, '리더': 6875, '어쩌지': 6876, '기기': 6877, '골프채': 6878, '거렸어': 6879, '킹킹': 6880, '제각기': 6881, '사서': 6882, '건장하다': 6883, '장정': 6884, '베드': 6885, '반란': 6886, '쌍둥이': 6887, '남매': 6888, '질질': 6889, '다애': 6890, '훈시': 6891, '수나': 6892, '되새': 6893, '작일': 6894, '쓰기': 6895, '뭉근': 6896, '재료': 6897, '용의주도하다': 6898, '가증': 6899, '버클': 6900, '에까지도': 6901, '넉넉하다': 6902, '뒷돈': 6903, '들먹이다': 6904, '쩍': 6905, '딴다': 6906, '추워지다': 6907, '애별레': 6908, '황홀': 6909, '케': 6910, '띄우다': 6911, '별도': 6912, '궁도': 6913, '부라리다': 6914, '남아돌다': 6915, '정보': 6916, '관심': 6917, '마나': 6918, '공동묘지': 6919, '고전': 6920, '상류': 6921, '사회': 6922, '츠은': 6923, '찰싹': 6924, '단독': 6925, '활기차다': 6926, '영위': 6927, '육장': 6928, '자수': 6929, '눕혔어': 6930, '쐬다': 6931, '닥치다': 6932, '급선무': 6933, '달구': 6934, '호출': 6935, '하옵다': 6936, '손대다': 6937, '미워하다': 6938, '오늘날': 6939, '몽땅하다': 6940, '역청': 6941, '거룩하다': 6942, '허둥대다': 6943, '하염없이': 6944, '아니렸다': 6945, '왔': 6946, '언어': 6947, '다시금': 6948, '상아': 6949, '구렴': 6950, '정지': 6951, '창피': 6952, '멸망': 6953, '보다는': 6954, '축축하다': 6955, '움직임': 6956, '사면': 6957, '압도': 6958, '바지': 6959, '멜빵': 6960, '엮었어': 6961, '명랑하다': 6962, '라야': 6963, '맹목': 6964, '발사': 6965, '총알': 6966, '튕겨져': 6967, '멍석': 6968, '초도': 6969, '덕지덕지': 6970, '협박': 6971, '먹보': 6972, '불한당': 6973, '도예': 6974, '차림': 6975, '꼬불꼬불': 6976, '불러일으키다': 6977, '간섭': 6978, '예상': 6979, '속절없다': 6980, '널리': 6981, '대길': 6982, '신들': 6983, '짓거리': 6984, '한순간': 6985, '소금물': 6986, '용한': 6987, '노획': 6988, '분들': 6989, '말햇': 6990, '해머': 6991, '진귀하다': 6992, '알기': 6993, '함정': 6994, '이하': 6995, '침울하다': 6996, '손색': 6997, '라오': 6998, '타일': 6999, '적합하다': 7000, '다녀가다': 7001, '구슬리다': 7002, '대궐': 7003, '소름끼치다': 7004, '해님': 7005, '쪼아댈': 7006, '밀밭': 7007, '어째서': 7008, '만요': 7009, '처자': 7010, '배속': 7011, '아등바등': 7012, '까닥까닥': 7013, '소자': 7014, '불찰': 7015, '보채다': 7016, '누리로': 7017, '여유': 7018, '맞닥뜨리': 7019, '신조': 7020, '셨답': 7021, '쌍': 7022, '군요': 7023, '흔쾌하다': 7024, '녹': 7025, '이해도': 7026, '숲길': 7027, '포악': 7028, '환대': 7029, '허허': 7030, '펄': 7031, '엉금엉금': 7032, '상사병': 7033, '일종': 7034, '수심': 7035, '따끔하다': 7036, '텐데도': 7037, '모질다': 7038, '요령': 7039, '우와': 7040, '포개다': 7041, '추천': 7042, '둑': 7043, '벼루': 7044, '폭': 7045, '만큼도': 7046, '농민': 7047, '편안': 7048, '포픈': 7049, '뭡': 7050, '기품': 7051, '배기': 7052, '잠기': 7053, '대수': 7054, '스승': 7055, '태운': 7056, '배심': 7057, '신체': 7058, '결함': 7059, '벌겋다': 7060, '에전': 7061, '말뜻': 7062, '템포': 7063, '전역': 7064, '당일': 7065, '몰려들다': 7066, '직고': 7067, '마멀레이드': 7068, '넷째': 7069, '천사분': 7070, '영': 7071, '안녕': 7072, '소가': 7073, '갈증': 7074, '고자': 7075, '들이키다': 7076, '기적': 7077, '과실': 7078, '대부분': 7079, '감미롭다': 7080, '바라다보다': 7081, '약혼녀': 7082, '끼우다': 7083, '달구다': 7084, '부아': 7085, '치밀다': 7086, '사리다': 7087, '패자': 7088, '샅샅이': 7089, '옹': 7090, '캔터베리': 7091, '대주교': 7092, '스티갠드': 7093, '널다': 7094, '단도': 7095, '쌔': 7096, '겨루다': 7097, '모임': 7098, '수소': 7099, '버둥버둥': 7100, '거렸다': 7101, '이해력': 7102, '이야말로': 7103, '산위': 7104, '당사자': 7105, '것일': 7106, '이속': 7107, '선원': 7108, '비눗물': 7109, '삐지다': 7110, '한발': 7111, '발의': 7112, '주요한': 7113, '자꾸나': 7114, '미움': 7115, '끓다': 7116, '톱': 7117, '허둥지둥': 7118, '얌전하다': 7119, '군데': 7120, '덜컹': 7121, '일전': 7122, '귀하': 7123, '공경': 7124, '스타일': 7125, '유행': 7126, '나랏님': 7127, '교제': 7128, '모방': 7129, '땋았': 7130, '이분': 7131, '살짝궁': 7132, '상실하다': 7133, '갈고리': 7134, '띄엄띄엄': 7135, '찻쟁반': 7136, '일품': 7137, '승리': 7138, '꼬장': 7139, '자초': 7140, '고이': 7141, '주부': 7142, '오두막집': 7143, '초래': 7144, '악귀': 7145, '뽀뽀': 7146, '산도': 7147, '핏': 7148, '파편': 7149, '울림': 7150, '열중': 7151, '어쩌나': 7152, '약탈': 7153, '동강이': 7154, '사들이다': 7155, '계절': 7156, '위급하다': 7157, '우회': 7158, '쉬쉬': 7159, '켤레': 7160, '받침': 7161, '바로잡다': 7162, '누비': 7163, '다방면': 7164, '가보': 7165, '노심초사': 7166, '팬': 7167, '똥똥하다': 7168, '매무새': 7169, '오래도록': 7170, '갑쇼': 7171, '체력': 7172, '꼭지': 7173, '욕설': 7174, '획': 7175, '물통이': 7176, '나야': 7177, '나지막하다': 7178, '처량하다': 7179, '뻣뻣하다': 7180, '들통': 7181, '어인': 7182, '왓따': 7183, '생기지': 7184, '상념이더': 7185, '내외': 7186, '엷다': 7187, '청색': 7188, '이니까': 7189, '깔개': 7190, '오른발': 7191, '님께참': 7192, '싱크대': 7193, '추구': 7194, '여생': 7195, '차림새': 7196, '구려': 7197, '승인': 7198, '뜨릴': 7199, '주소': 7200, '현혹': 7201, '팔이': 7202, '갈대': 7203, '엮': 7204, '한창': 7205, '진행중': 7206, '가물가물': 7207, '헛수고였': 7208, '고기잡이': 7209, '변두리': 7210, '도배': 7211, '앞장': 7212, '위선': 7213, '자네도': 7214, '거머쥐': 7215, '무궁무진': 7216, '진홍': 7217, '잉꼬': 7218, '수리': 7219, '설탕': 7220, '서식지': 7221, '철봉': 7222, '재목': 7223, '어쩌겠어': 7224, '어색하다': 7225}\n"
     ]
    }
   ],
   "source": [
    "print(tokenizer.word_index)"
   ]
  },
  {
   "cell_type": "code",
   "execution_count": 36,
   "metadata": {},
   "outputs": [
    {
     "name": "stdout",
     "output_type": "stream",
     "text": [
      "단어 집합(vocabulary)의 크기 : 7225\n",
      "등장 빈도가 3번 이하인 희귀 단어의 수: 4318\n",
      "단어 집합에서 희귀 단어의 비율: 59.76470588235294\n",
      "전체 등장 빈도에서 희귀 단어 등장 빈도 비율: 7.160653615919754\n"
     ]
    }
   ],
   "source": [
    "threshold = 4\n",
    "total_cnt = len(tokenizer.word_index) # 단어의 수\n",
    "rare_cnt = 0   # 등장 빈도수가 threshold보다 작은 단어의 개수를 카운트\n",
    "total_freq = 0 # 훈련 데이터의 전체 단어 빈도수 총 합\n",
    "rare_freq = 0  # 등장 빈도수가 threshold보다 작은 단어의 등장 빈도수의 총 합\n",
    "\n",
    "# 단어와 빈도수의 쌍(pair)을 key와 value로 받는다.\n",
    "for key, value in tokenizer.word_counts.items():\n",
    "    total_freq = total_freq + value\n",
    "\n",
    "    # 단어의 등장 빈도수가 threshold보다 작으면\n",
    "    if(value < threshold):\n",
    "        rare_cnt = rare_cnt + 1\n",
    "        rare_freq = rare_freq + value\n",
    "\n",
    "print('단어 집합(vocabulary)의 크기 :',total_cnt)\n",
    "print('등장 빈도가 %s번 이하인 희귀 단어의 수: %s'%(threshold - 1, rare_cnt))\n",
    "print(\"단어 집합에서 희귀 단어의 비율:\", (rare_cnt / total_cnt)*100)\n",
    "print(\"전체 등장 빈도에서 희귀 단어 등장 빈도 비율:\", (rare_freq / total_freq)*100)"
   ]
  },
  {
   "cell_type": "code",
   "execution_count": 37,
   "metadata": {},
   "outputs": [
    {
     "name": "stdout",
     "output_type": "stream",
     "text": [
      "단어 집합의 크기 : 2908\n"
     ]
    }
   ],
   "source": [
    "# 전체 단어 개수 중 빈도수 2이하인 단어는 제거.\n",
    "# 0번 패딩 토큰을 고려하여 + 1\n",
    "vocab_size = total_cnt - rare_cnt + 1\n",
    "print('단어 집합의 크기 :',vocab_size)"
   ]
  },
  {
   "cell_type": "code",
   "execution_count": 38,
   "metadata": {},
   "outputs": [],
   "source": [
    "tokenizer = Tokenizer(vocab_size) \n",
    "tokenizer.fit_on_texts(X_train)\n",
    "X_train = tokenizer.texts_to_sequences(X_train)\n",
    "X_test = tokenizer.texts_to_sequences(X_test)"
   ]
  },
  {
   "cell_type": "code",
   "execution_count": 39,
   "metadata": {},
   "outputs": [
    {
     "name": "stdout",
     "output_type": "stream",
     "text": [
      "[[7, 200, 758, 3, 287, 1342, 154, 2, 29, 33, 21, 12], [23, 238, 2, 74, 1945, 171, 1946, 152, 288, 1075, 8, 1000, 1000, 334, 824, 77], [480, 190, 111, 349, 2, 3, 197, 13, 480, 230, 116, 699, 632, 142, 785, 2179, 1738, 3, 699, 197, 6, 176, 142, 17, 52, 2179]]\n"
     ]
    }
   ],
   "source": [
    "print(X_train[:3])"
   ]
  },
  {
   "cell_type": "code",
   "execution_count": 40,
   "metadata": {},
   "outputs": [],
   "source": [
    "# 빈 샘플 제거 \n",
    "drop_train = [index for index, sentence in enumerate(X_train) if len(sentence) < 1]\n",
    "drop_train2 = [index for index, sentence in enumerate(X_test) if len(sentence) < 1]"
   ]
  },
  {
   "cell_type": "code",
   "execution_count": 41,
   "metadata": {},
   "outputs": [
    {
     "name": "stdout",
     "output_type": "stream",
     "text": [
      "9279\n",
      "9242\n",
      "9242\n"
     ]
    },
    {
     "name": "stderr",
     "output_type": "stream",
     "text": [
      "C:\\Users\\Changho_Notebook\\anaconda3\\lib\\site-packages\\numpy\\core\\_asarray.py:83: VisibleDeprecationWarning: Creating an ndarray from ragged nested sequences (which is a list-or-tuple of lists-or-tuples-or ndarrays with different lengths or shapes) is deprecated. If you meant to do this, you must specify 'dtype=object' when creating the ndarray\n",
      "  return array(a, dtype, copy=False, order=order)\n"
     ]
    }
   ],
   "source": [
    "print(len(X_train))\n",
    "y_train = list(y_train)\n",
    "X_train = np.delete(X_train, drop_train, axis=0)\n",
    "y_train = np.delete(y_train, drop_train, axis=0)\n",
    "print(len(X_train))\n",
    "print(len(y_train))"
   ]
  },
  {
   "cell_type": "code",
   "execution_count": 42,
   "metadata": {},
   "outputs": [
    {
     "name": "stdout",
     "output_type": "stream",
     "text": [
      "3070\n",
      "3070\n"
     ]
    }
   ],
   "source": [
    "y_test = list(y_test)\n",
    "X_test = np.delete(X_test, drop_train2, axis=0)\n",
    "y_test = np.delete(y_test, drop_train2, axis=0)\n",
    "print(len(X_test))\n",
    "print(len(y_test))"
   ]
  },
  {
   "cell_type": "code",
   "execution_count": 43,
   "metadata": {},
   "outputs": [
    {
     "name": "stdout",
     "output_type": "stream",
     "text": [
      "리뷰의 최대 길이 : 66\n",
      "리뷰의 평균 길이 : 9.31356849166847\n"
     ]
    },
    {
     "data": {
      "image/png": "[encoded data removed]",
      "text/plain": [
       "<Figure size 432x288 with 1 Axes>"
      ]
     },
     "metadata": {
      "needs_background": "light"
     },
     "output_type": "display_data"
    }
   ],
   "source": [
    "# 패딩\n",
    "print('리뷰의 최대 길이 :',max(len(l) for l in X_train))\n",
    "print('리뷰의 평균 길이 :',sum(map(len, X_train))/len(X_train))\n",
    "plt.hist([len(s) for s in X_train], bins=50)\n",
    "plt.xlabel('length of samples')\n",
    "plt.ylabel('number of samples')\n",
    "plt.show()"
   ]
  },
  {
   "cell_type": "code",
   "execution_count": 44,
   "metadata": {},
   "outputs": [],
   "source": [
    "def below_threshold_len(max_len, nested_list):\n",
    "  cnt = 0\n",
    "  for s in nested_list:\n",
    "    if(len(s) <= max_len):\n",
    "        cnt = cnt + 1\n",
    "  print('전체 샘플 중 길이가 %s 이하인 샘플의 비율: %s'%(max_len, (cnt / len(nested_list))*100))"
   ]
  },
  {
   "cell_type": "code",
   "execution_count": 45,
   "metadata": {},
   "outputs": [
    {
     "name": "stdout",
     "output_type": "stream",
     "text": [
      "전체 샘플 중 길이가 30 이하인 샘플의 비율: 98.88552261415278\n"
     ]
    }
   ],
   "source": [
    "max_len = 30\n",
    "below_threshold_len(max_len, X_train)"
   ]
  },
  {
   "cell_type": "code",
   "execution_count": 46,
   "metadata": {},
   "outputs": [],
   "source": [
    "X_train = pad_sequences(X_train, maxlen = max_len)\n",
    "X_test = pad_sequences(X_test, maxlen = max_len)"
   ]
  },
  {
   "cell_type": "code",
   "execution_count": 47,
   "metadata": {},
   "outputs": [],
   "source": [
    "# y(결과값) 라벨링\n",
    "from tensorflow.keras.utils import to_categorical\n",
    "y_train = to_categorical(y_train)\n",
    "y_test = to_categorical(y_test)"
   ]
  },
  {
   "cell_type": "code",
   "execution_count": 48,
   "metadata": {},
   "outputs": [],
   "source": [
    "# 모델 시작 (LSTM)"
   ]
  },
  {
   "cell_type": "code",
   "execution_count": 49,
   "metadata": {},
   "outputs": [],
   "source": [
    "from tensorflow.keras.layers import Embedding, Dense, LSTM, GRU, Bidirectional\n",
    "from tensorflow.keras.models import Sequential\n",
    "from tensorflow.keras.models import load_model\n",
    "from tensorflow.keras.callbacks import EarlyStopping, ModelCheckpoint"
   ]
  },
  {
   "cell_type": "code",
   "execution_count": 52,
   "metadata": {},
   "outputs": [],
   "source": [
    "model = Sequential()\n",
    "model.add(Embedding(vocab_size, 100))\n",
    "model.add(Bidirectional(LSTM(256)))\n",
    "# model.add(Dense(256, activation = 'relu'))\n",
    "model.add(Dense(6,activation = 'softmax'))"
   ]
  },
  {
   "cell_type": "code",
   "execution_count": 53,
   "metadata": {},
   "outputs": [],
   "source": [
    "es = EarlyStopping(monitor = 'val_loss', mode = 'min', verbose = 1, patience = 4)\n",
    "mc = ModelCheckpoint('best_model.h5', monitor = 'val_acc', mode = 'max', verbose = 1, save_best_only = True)"
   ]
  },
  {
   "cell_type": "code",
   "execution_count": 56,
   "metadata": {
    "scrolled": true
   },
   "outputs": [
    {
     "name": "stdout",
     "output_type": "stream",
     "text": [
      "Epoch 1/15\n",
      "124/124 [==============================] - 8s 23ms/step - loss: 0.5549 - acc: 0.7987 - val_loss: 1.6724 - val_acc: 0.4819\n",
      "\n",
      "Epoch 00001: val_acc did not improve from 0.50135\n",
      "Epoch 2/15\n",
      "124/124 [==============================] - 2s 15ms/step - loss: 0.4907 - acc: 0.8281 - val_loss: 1.9216 - val_acc: 0.4651\n",
      "\n",
      "Epoch 00002: val_acc did not improve from 0.50135\n",
      "Epoch 3/15\n",
      "124/124 [==============================] - 2s 12ms/step - loss: 0.4283 - acc: 0.8508 - val_loss: 2.1106 - val_acc: 0.4586\n",
      "\n",
      "Epoch 00003: val_acc did not improve from 0.50135\n",
      "Epoch 4/15\n",
      "124/124 [==============================] - 2s 13ms/step - loss: 0.3561 - acc: 0.8756 - val_loss: 2.3055 - val_acc: 0.4570\n",
      "\n",
      "Epoch 00004: val_acc did not improve from 0.50135\n",
      "Epoch 5/15\n",
      "124/124 [==============================] - 2s 13ms/step - loss: 0.3027 - acc: 0.8968 - val_loss: 2.4295 - val_acc: 0.4581\n",
      "\n",
      "Epoch 00005: val_acc did not improve from 0.50135\n",
      "Epoch 00005: early stopping\n"
     ]
    }
   ],
   "source": [
    "model.compile(optimizer='adam', loss='categorical_crossentropy', metrics=['acc'])\n",
    "history = model.fit(X_train, y_train, epochs=15, callbacks=[es, mc], batch_size=60, validation_split=0.2)\n",
    "# history = model.fit(X_train, y_train, epochs=15, callbacks=[mc], batch_size=60, validation_split=0.2)"
   ]
  },
  {
   "cell_type": "markdown",
   "metadata": {},
   "source": [
    "- LSTM 256\n",
    "    - adam -> 0.4939\n",
    "    - rmsprop -> 0.4311\n",
    "- LSTM 512 \n",
    "    - adam -> 0.4500 큰차이 없음 \n",
    "- GRU 256 \n",
    "    - adam -> 0.49215\n",
    "    - rmsprop -> 0.4180\n",
    "- GRU 512 \n",
    "    - adam -> 0.49825\n",
    "- BiLSTM\n",
    "    - adam -> 0.49651"
   ]
  },
  {
   "cell_type": "code",
   "execution_count": 57,
   "metadata": {},
   "outputs": [
    {
     "name": "stdout",
     "output_type": "stream",
     "text": [
      "96/96 [==============================] - 1s 5ms/step - loss: 1.3416 - acc: 0.4967\n",
      "\n",
      " 테스트 정확도: 0.4967\n"
     ]
    }
   ],
   "source": [
    "loaded_model = load_model('best_model.h5')\n",
    "print(\"\\n 테스트 정확도: %.4f\" % (loaded_model.evaluate(X_test, y_test)[1]))"
   ]
  },
  {
   "cell_type": "code",
   "execution_count": 58,
   "metadata": {},
   "outputs": [],
   "source": [
    "def sentiment_predict(new_sentence):\n",
    "  new_sentence = okt.morphs(new_sentence, stem=True) # 토큰화\n",
    "  new_sentence = [word for word in new_sentence if not word in stopwords] # 불용어 제거\n",
    "  encoded = tokenizer.texts_to_sequences([new_sentence]) # 정수 인코딩\n",
    "  pad_new = pad_sequences(encoded, maxlen = max_len) # 패딩\n",
    "  score = float(loaded_model.predict(pad_new)) # 예측\n",
    "  if(score > 0.5):\n",
    "    print(\"{:.2f}% 확률로 긍정 리뷰입니다.\\n\".format(score))\n",
    "  else:\n",
    "    print(\"{:.2f}% 확률로 부정 리뷰입니다.\\n\".format(score))"
   ]
  },
  {
   "cell_type": "code",
   "execution_count": null,
   "metadata": {},
   "outputs": [],
   "source": []
  },
  {
   "cell_type": "code",
   "execution_count": 60,
   "metadata": {},
   "outputs": [],
   "source": [
    "# AUC 성능평가 확인\n",
    "\n",
    "def metrics_evaluation(y_test, y_pred=None , y_pred_proba=None) :\n",
    "    print(\"정확도 : {} , 정밀도 : {} , 재현율 : {} , 조화평균(F1) : {} , AUC : {} \"\n",
    "          .format(accuracy_score(y_test, y_pred) , \n",
    "                  precision_score(y_test, y_pred) , \n",
    "                  recall_score(y_test, y_pred) , \n",
    "                  f1_score(y_test, y_pred) , \n",
    "                  roc_auc_score(y_test, y_pred_proba) ) )"
   ]
  },
  {
   "cell_type": "code",
   "execution_count": 79,
   "metadata": {},
   "outputs": [],
   "source": [
    "from sklearn.tree         import DecisionTreeClassifier\n",
    "from sklearn.linear_model import LogisticRegression\n",
    "from sklearn.ensemble     import RandomForestClassifier"
   ]
  },
  {
   "cell_type": "code",
   "execution_count": 80,
   "metadata": {},
   "outputs": [
    {
     "ename": "ValueError",
     "evalue": "y should be a 1d array, got an array of shape (9242, 6) instead.",
     "output_type": "error",
     "traceback": [
      "\u001b[1;31m---------------------------------------------------------------------------\u001b[0m",
      "\u001b[1;31mValueError\u001b[0m                                Traceback (most recent call last)",
      "\u001b[1;32m<ipython-input-80-31b046332ae9>\u001b[0m in \u001b[0;36m<module>\u001b[1;34m\u001b[0m\n\u001b[0;32m      1\u001b[0m \u001b[1;31m# 로지스틱 회귀로 학습,예측 및 평가 수행.\u001b[0m\u001b[1;33m\u001b[0m\u001b[1;33m\u001b[0m\u001b[1;33m\u001b[0m\u001b[0m\n\u001b[0;32m      2\u001b[0m \u001b[0mlr_clf\u001b[0m \u001b[1;33m=\u001b[0m \u001b[0mLogisticRegression\u001b[0m\u001b[1;33m(\u001b[0m\u001b[1;33m)\u001b[0m\u001b[1;33m\u001b[0m\u001b[1;33m\u001b[0m\u001b[0m\n\u001b[1;32m----> 3\u001b[1;33m \u001b[0mlr_clf\u001b[0m\u001b[1;33m.\u001b[0m\u001b[0mfit\u001b[0m\u001b[1;33m(\u001b[0m\u001b[0mX_train\u001b[0m \u001b[1;33m,\u001b[0m \u001b[0my_train\u001b[0m\u001b[1;33m)\u001b[0m\u001b[1;33m\u001b[0m\u001b[1;33m\u001b[0m\u001b[0m\n\u001b[0m\u001b[0;32m      4\u001b[0m \u001b[0mlr_y_pred\u001b[0m \u001b[1;33m=\u001b[0m \u001b[0mlr_clf\u001b[0m\u001b[1;33m.\u001b[0m\u001b[0mpredict\u001b[0m\u001b[1;33m(\u001b[0m\u001b[0mX_test\u001b[0m\u001b[1;33m)\u001b[0m\u001b[1;33m\u001b[0m\u001b[1;33m\u001b[0m\u001b[0m\n\u001b[0;32m      5\u001b[0m \u001b[1;33m\u001b[0m\u001b[0m\n",
      "\u001b[1;32m~\\anaconda3\\lib\\site-packages\\sklearn\\linear_model\\_logistic.py\u001b[0m in \u001b[0;36mfit\u001b[1;34m(self, X, y, sample_weight)\u001b[0m\n\u001b[0;32m   1340\u001b[0m             \u001b[0m_dtype\u001b[0m \u001b[1;33m=\u001b[0m \u001b[1;33m[\u001b[0m\u001b[0mnp\u001b[0m\u001b[1;33m.\u001b[0m\u001b[0mfloat64\u001b[0m\u001b[1;33m,\u001b[0m \u001b[0mnp\u001b[0m\u001b[1;33m.\u001b[0m\u001b[0mfloat32\u001b[0m\u001b[1;33m]\u001b[0m\u001b[1;33m\u001b[0m\u001b[1;33m\u001b[0m\u001b[0m\n\u001b[0;32m   1341\u001b[0m \u001b[1;33m\u001b[0m\u001b[0m\n\u001b[1;32m-> 1342\u001b[1;33m         X, y = self._validate_data(X, y, accept_sparse='csr', dtype=_dtype,\n\u001b[0m\u001b[0;32m   1343\u001b[0m                                    \u001b[0morder\u001b[0m\u001b[1;33m=\u001b[0m\u001b[1;34m\"C\"\u001b[0m\u001b[1;33m,\u001b[0m\u001b[1;33m\u001b[0m\u001b[1;33m\u001b[0m\u001b[0m\n\u001b[0;32m   1344\u001b[0m                                    accept_large_sparse=solver != 'liblinear')\n",
      "\u001b[1;32m~\\anaconda3\\lib\\site-packages\\sklearn\\base.py\u001b[0m in \u001b[0;36m_validate_data\u001b[1;34m(self, X, y, reset, validate_separately, **check_params)\u001b[0m\n\u001b[0;32m    430\u001b[0m                 \u001b[0my\u001b[0m \u001b[1;33m=\u001b[0m \u001b[0mcheck_array\u001b[0m\u001b[1;33m(\u001b[0m\u001b[0my\u001b[0m\u001b[1;33m,\u001b[0m \u001b[1;33m**\u001b[0m\u001b[0mcheck_y_params\u001b[0m\u001b[1;33m)\u001b[0m\u001b[1;33m\u001b[0m\u001b[1;33m\u001b[0m\u001b[0m\n\u001b[0;32m    431\u001b[0m             \u001b[1;32melse\u001b[0m\u001b[1;33m:\u001b[0m\u001b[1;33m\u001b[0m\u001b[1;33m\u001b[0m\u001b[0m\n\u001b[1;32m--> 432\u001b[1;33m                 \u001b[0mX\u001b[0m\u001b[1;33m,\u001b[0m \u001b[0my\u001b[0m \u001b[1;33m=\u001b[0m \u001b[0mcheck_X_y\u001b[0m\u001b[1;33m(\u001b[0m\u001b[0mX\u001b[0m\u001b[1;33m,\u001b[0m \u001b[0my\u001b[0m\u001b[1;33m,\u001b[0m \u001b[1;33m**\u001b[0m\u001b[0mcheck_params\u001b[0m\u001b[1;33m)\u001b[0m\u001b[1;33m\u001b[0m\u001b[1;33m\u001b[0m\u001b[0m\n\u001b[0m\u001b[0;32m    433\u001b[0m             \u001b[0mout\u001b[0m \u001b[1;33m=\u001b[0m \u001b[0mX\u001b[0m\u001b[1;33m,\u001b[0m \u001b[0my\u001b[0m\u001b[1;33m\u001b[0m\u001b[1;33m\u001b[0m\u001b[0m\n\u001b[0;32m    434\u001b[0m \u001b[1;33m\u001b[0m\u001b[0m\n",
      "\u001b[1;32m~\\anaconda3\\lib\\site-packages\\sklearn\\utils\\validation.py\u001b[0m in \u001b[0;36minner_f\u001b[1;34m(*args, **kwargs)\u001b[0m\n\u001b[0;32m     70\u001b[0m                           FutureWarning)\n\u001b[0;32m     71\u001b[0m         \u001b[0mkwargs\u001b[0m\u001b[1;33m.\u001b[0m\u001b[0mupdate\u001b[0m\u001b[1;33m(\u001b[0m\u001b[1;33m{\u001b[0m\u001b[0mk\u001b[0m\u001b[1;33m:\u001b[0m \u001b[0marg\u001b[0m \u001b[1;32mfor\u001b[0m \u001b[0mk\u001b[0m\u001b[1;33m,\u001b[0m \u001b[0marg\u001b[0m \u001b[1;32min\u001b[0m \u001b[0mzip\u001b[0m\u001b[1;33m(\u001b[0m\u001b[0msig\u001b[0m\u001b[1;33m.\u001b[0m\u001b[0mparameters\u001b[0m\u001b[1;33m,\u001b[0m \u001b[0margs\u001b[0m\u001b[1;33m)\u001b[0m\u001b[1;33m}\u001b[0m\u001b[1;33m)\u001b[0m\u001b[1;33m\u001b[0m\u001b[1;33m\u001b[0m\u001b[0m\n\u001b[1;32m---> 72\u001b[1;33m         \u001b[1;32mreturn\u001b[0m \u001b[0mf\u001b[0m\u001b[1;33m(\u001b[0m\u001b[1;33m**\u001b[0m\u001b[0mkwargs\u001b[0m\u001b[1;33m)\u001b[0m\u001b[1;33m\u001b[0m\u001b[1;33m\u001b[0m\u001b[0m\n\u001b[0m\u001b[0;32m     73\u001b[0m     \u001b[1;32mreturn\u001b[0m \u001b[0minner_f\u001b[0m\u001b[1;33m\u001b[0m\u001b[1;33m\u001b[0m\u001b[0m\n\u001b[0;32m     74\u001b[0m \u001b[1;33m\u001b[0m\u001b[0m\n",
      "\u001b[1;32m~\\anaconda3\\lib\\site-packages\\sklearn\\utils\\validation.py\u001b[0m in \u001b[0;36mcheck_X_y\u001b[1;34m(X, y, accept_sparse, accept_large_sparse, dtype, order, copy, force_all_finite, ensure_2d, allow_nd, multi_output, ensure_min_samples, ensure_min_features, y_numeric, estimator)\u001b[0m\n\u001b[0;32m    805\u001b[0m                         ensure_2d=False, dtype=None)\n\u001b[0;32m    806\u001b[0m     \u001b[1;32melse\u001b[0m\u001b[1;33m:\u001b[0m\u001b[1;33m\u001b[0m\u001b[1;33m\u001b[0m\u001b[0m\n\u001b[1;32m--> 807\u001b[1;33m         \u001b[0my\u001b[0m \u001b[1;33m=\u001b[0m \u001b[0mcolumn_or_1d\u001b[0m\u001b[1;33m(\u001b[0m\u001b[0my\u001b[0m\u001b[1;33m,\u001b[0m \u001b[0mwarn\u001b[0m\u001b[1;33m=\u001b[0m\u001b[1;32mTrue\u001b[0m\u001b[1;33m)\u001b[0m\u001b[1;33m\u001b[0m\u001b[1;33m\u001b[0m\u001b[0m\n\u001b[0m\u001b[0;32m    808\u001b[0m         \u001b[0m_assert_all_finite\u001b[0m\u001b[1;33m(\u001b[0m\u001b[0my\u001b[0m\u001b[1;33m)\u001b[0m\u001b[1;33m\u001b[0m\u001b[1;33m\u001b[0m\u001b[0m\n\u001b[0;32m    809\u001b[0m     \u001b[1;32mif\u001b[0m \u001b[0my_numeric\u001b[0m \u001b[1;32mand\u001b[0m \u001b[0my\u001b[0m\u001b[1;33m.\u001b[0m\u001b[0mdtype\u001b[0m\u001b[1;33m.\u001b[0m\u001b[0mkind\u001b[0m \u001b[1;33m==\u001b[0m \u001b[1;34m'O'\u001b[0m\u001b[1;33m:\u001b[0m\u001b[1;33m\u001b[0m\u001b[1;33m\u001b[0m\u001b[0m\n",
      "\u001b[1;32m~\\anaconda3\\lib\\site-packages\\sklearn\\utils\\validation.py\u001b[0m in \u001b[0;36minner_f\u001b[1;34m(*args, **kwargs)\u001b[0m\n\u001b[0;32m     70\u001b[0m                           FutureWarning)\n\u001b[0;32m     71\u001b[0m         \u001b[0mkwargs\u001b[0m\u001b[1;33m.\u001b[0m\u001b[0mupdate\u001b[0m\u001b[1;33m(\u001b[0m\u001b[1;33m{\u001b[0m\u001b[0mk\u001b[0m\u001b[1;33m:\u001b[0m \u001b[0marg\u001b[0m \u001b[1;32mfor\u001b[0m \u001b[0mk\u001b[0m\u001b[1;33m,\u001b[0m \u001b[0marg\u001b[0m \u001b[1;32min\u001b[0m \u001b[0mzip\u001b[0m\u001b[1;33m(\u001b[0m\u001b[0msig\u001b[0m\u001b[1;33m.\u001b[0m\u001b[0mparameters\u001b[0m\u001b[1;33m,\u001b[0m \u001b[0margs\u001b[0m\u001b[1;33m)\u001b[0m\u001b[1;33m}\u001b[0m\u001b[1;33m)\u001b[0m\u001b[1;33m\u001b[0m\u001b[1;33m\u001b[0m\u001b[0m\n\u001b[1;32m---> 72\u001b[1;33m         \u001b[1;32mreturn\u001b[0m \u001b[0mf\u001b[0m\u001b[1;33m(\u001b[0m\u001b[1;33m**\u001b[0m\u001b[0mkwargs\u001b[0m\u001b[1;33m)\u001b[0m\u001b[1;33m\u001b[0m\u001b[1;33m\u001b[0m\u001b[0m\n\u001b[0m\u001b[0;32m     73\u001b[0m     \u001b[1;32mreturn\u001b[0m \u001b[0minner_f\u001b[0m\u001b[1;33m\u001b[0m\u001b[1;33m\u001b[0m\u001b[0m\n\u001b[0;32m     74\u001b[0m \u001b[1;33m\u001b[0m\u001b[0m\n",
      "\u001b[1;32m~\\anaconda3\\lib\\site-packages\\sklearn\\utils\\validation.py\u001b[0m in \u001b[0;36mcolumn_or_1d\u001b[1;34m(y, warn)\u001b[0m\n\u001b[0;32m    843\u001b[0m         \u001b[1;32mreturn\u001b[0m \u001b[0mnp\u001b[0m\u001b[1;33m.\u001b[0m\u001b[0mravel\u001b[0m\u001b[1;33m(\u001b[0m\u001b[0my\u001b[0m\u001b[1;33m)\u001b[0m\u001b[1;33m\u001b[0m\u001b[1;33m\u001b[0m\u001b[0m\n\u001b[0;32m    844\u001b[0m \u001b[1;33m\u001b[0m\u001b[0m\n\u001b[1;32m--> 845\u001b[1;33m     raise ValueError(\n\u001b[0m\u001b[0;32m    846\u001b[0m         \u001b[1;34m\"y should be a 1d array, \"\u001b[0m\u001b[1;33m\u001b[0m\u001b[1;33m\u001b[0m\u001b[0m\n\u001b[0;32m    847\u001b[0m         \"got an array of shape {} instead.\".format(shape))\n",
      "\u001b[1;31mValueError\u001b[0m: y should be a 1d array, got an array of shape (9242, 6) instead."
     ]
    }
   ],
   "source": [
    "# 로지스틱 회귀로 학습,예측 및 평가 수행. \n",
    "lr_clf = LogisticRegression()\n",
    "lr_clf.fit(X_train , y_train)\n",
    "lr_y_pred = lr_clf.predict(X_test)\n",
    "\n",
    "dt_clf =  DecisionTreeClassifier()\n",
    "dt_clf.fit(X_train , y_train)\n",
    "dt_y_pred = dt_clf.predict(X_test)\n",
    "\n",
    "rf_clf =  RandomForestClassifier()\n",
    "rf_clf.fit(X_train , y_train)\n",
    "rf_y_pred = rf_clf.predict(X_test)"
   ]
  },
  {
   "cell_type": "code",
   "execution_count": null,
   "metadata": {},
   "outputs": [],
   "source": []
  },
  {
   "cell_type": "code",
   "execution_count": null,
   "metadata": {},
   "outputs": [],
   "source": []
  },
  {
   "cell_type": "code",
   "execution_count": null,
   "metadata": {},
   "outputs": [],
   "source": []
  },
  {
   "cell_type": "code",
   "execution_count": null,
   "metadata": {},
   "outputs": [],
   "source": []
  },
  {
   "cell_type": "code",
   "execution_count": null,
   "metadata": {},
   "outputs": [],
   "source": []
  },
  {
   "cell_type": "code",
   "execution_count": null,
   "metadata": {},
   "outputs": [],
   "source": []
  },
  {
   "cell_type": "code",
   "execution_count": null,
   "metadata": {},
   "outputs": [],
   "source": []
  }
 ],
 "metadata": {
  "kernelspec": {
   "display_name": "Python 3",
   "language": "python",
   "name": "python3"
  },
  "language_info": {
   "codemirror_mode": {
    "name": "ipython",
    "version": 3
   },
   "file_extension": ".py",
   "mimetype": "text/x-python",
   "name": "python",
   "nbconvert_exporter": "python",
   "pygments_lexer": "ipython3",
   "version": "3.8.5"
  }
 },
 "nbformat": 4,
 "nbformat_minor": 4
}

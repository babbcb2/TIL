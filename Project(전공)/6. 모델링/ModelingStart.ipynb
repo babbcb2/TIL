{
 "cells": [
  {
   "cell_type": "code",
   "execution_count": 1,
   "metadata": {},
   "outputs": [
    {
     "data": {
      "text/plain": [
       "'C:\\\\Users\\\\Changho_Notebook\\\\anaconda3\\\\python.exe'"
      ]
     },
     "execution_count": 1,
     "metadata": {},
     "output_type": "execute_result"
    }
   ],
   "source": [
    "import sys \n",
    "sys.executable"
   ]
  },
  {
   "cell_type": "code",
   "execution_count": 2,
   "metadata": {},
   "outputs": [
    {
     "ename": "ModuleNotFoundError",
     "evalue": "No module named 'tensorflow'",
     "output_type": "error",
     "traceback": [
      "\u001b[1;31m---------------------------------------------------------------------------\u001b[0m",
      "\u001b[1;31mModuleNotFoundError\u001b[0m                       Traceback (most recent call last)",
      "\u001b[1;32m<ipython-input-2-cb24e1a0f604>\u001b[0m in \u001b[0;36m<module>\u001b[1;34m\u001b[0m\n\u001b[0;32m      6\u001b[0m \u001b[1;32mimport\u001b[0m \u001b[0murllib\u001b[0m\u001b[1;33m.\u001b[0m\u001b[0mrequest\u001b[0m\u001b[1;33m\u001b[0m\u001b[1;33m\u001b[0m\u001b[0m\n\u001b[0;32m      7\u001b[0m \u001b[1;32mfrom\u001b[0m \u001b[0mkonlpy\u001b[0m\u001b[1;33m.\u001b[0m\u001b[0mtag\u001b[0m \u001b[1;32mimport\u001b[0m \u001b[0mOkt\u001b[0m\u001b[1;33m\u001b[0m\u001b[1;33m\u001b[0m\u001b[0m\n\u001b[1;32m----> 8\u001b[1;33m \u001b[1;32mfrom\u001b[0m \u001b[0mtensorflow\u001b[0m\u001b[1;33m.\u001b[0m\u001b[0mkeras\u001b[0m\u001b[1;33m.\u001b[0m\u001b[0mpreprocessing\u001b[0m\u001b[1;33m.\u001b[0m\u001b[0mtext\u001b[0m \u001b[1;32mimport\u001b[0m \u001b[0mTokenizer\u001b[0m\u001b[1;33m\u001b[0m\u001b[1;33m\u001b[0m\u001b[0m\n\u001b[0m\u001b[0;32m      9\u001b[0m \u001b[1;32mfrom\u001b[0m \u001b[0mtensorflow\u001b[0m\u001b[1;33m.\u001b[0m\u001b[0mkeras\u001b[0m\u001b[1;33m.\u001b[0m\u001b[0mpreprocessing\u001b[0m\u001b[1;33m.\u001b[0m\u001b[0msequence\u001b[0m \u001b[1;32mimport\u001b[0m \u001b[0mpad_sequences\u001b[0m\u001b[1;33m\u001b[0m\u001b[1;33m\u001b[0m\u001b[0m\n\u001b[0;32m     10\u001b[0m \u001b[1;33m\u001b[0m\u001b[0m\n",
      "\u001b[1;31mModuleNotFoundError\u001b[0m: No module named 'tensorflow'"
     ]
    }
   ],
   "source": [
    "import pandas as pd \n",
    "import numpy as np \n",
    "%matplotlib inline\n",
    "import matplotlib.pyplot as plt\n",
    "import re \n",
    "import urllib.request\n",
    "from konlpy.tag import Okt\n",
    "from tensorflow.keras.preprocessing.text import Tokenizer\n",
    "from tensorflow.keras.preprocessing.sequence import pad_sequences\n",
    "\n",
    "from sklearn.model_selection import train_test_split\n",
    "from sklearn.preprocessing import LabelEncoder\n"
   ]
  },
  {
   "cell_type": "code",
   "execution_count": 101,
   "metadata": {},
   "outputs": [],
   "source": [
    "data = pd.read_csv('./data/test_data0410.csv', encoding = 'euc-kr')"
   ]
  },
  {
   "cell_type": "code",
   "execution_count": 102,
   "metadata": {},
   "outputs": [
    {
     "data": {
      "text/html": [
       "<div>\n",
       "<style scoped>\n",
       "    .dataframe tbody tr th:only-of-type {\n",
       "        vertical-align: middle;\n",
       "    }\n",
       "\n",
       "    .dataframe tbody tr th {\n",
       "        vertical-align: top;\n",
       "    }\n",
       "\n",
       "    .dataframe thead th {\n",
       "        text-align: right;\n",
       "    }\n",
       "</style>\n",
       "<table border=\"1\" class=\"dataframe\">\n",
       "  <thead>\n",
       "    <tr style=\"text-align: right;\">\n",
       "      <th></th>\n",
       "      <th>Text</th>\n",
       "      <th>Feeling</th>\n",
       "      <th>Talking</th>\n",
       "      <th>book_id</th>\n",
       "      <th>sentence_id</th>\n",
       "    </tr>\n",
       "  </thead>\n",
       "  <tbody>\n",
       "    <tr>\n",
       "      <th>0</th>\n",
       "      <td>‘인도’가 적에게 포위를 당했는데, 적들이 은화 6백 개를 내놓을 때까지 물러나지 ...</td>\n",
       "      <td>2.0</td>\n",
       "      <td>NaN</td>\n",
       "      <td>5001</td>\n",
       "      <td>1.0</td>\n",
       "    </tr>\n",
       "    <tr>\n",
       "      <th>1</th>\n",
       "      <td>그래서 주민들이 북을 치며 선포하길,</td>\n",
       "      <td>2.0</td>\n",
       "      <td>NaN</td>\n",
       "      <td>5001</td>\n",
       "      <td>2.0</td>\n",
       "    </tr>\n",
       "    <tr>\n",
       "      <th>2</th>\n",
       "      <td>*누구든 그 돈을 마련하는 사람을 시장으로 삼겠다*</td>\n",
       "      <td>2.0</td>\n",
       "      <td>1.0</td>\n",
       "      <td>5001</td>\n",
       "      <td>3.0</td>\n",
       "    </tr>\n",
       "    <tr>\n",
       "      <th>3</th>\n",
       "      <td>라고 했답니다</td>\n",
       "      <td>0.0</td>\n",
       "      <td>NaN</td>\n",
       "      <td>5001</td>\n",
       "      <td>4.0</td>\n",
       "    </tr>\n",
       "    <tr>\n",
       "      <th>4</th>\n",
       "      <td>때마침 가난한 어부가 자신의 아들과 호수에서 물고기를 잡아 생활하다, 그 적들이 들...</td>\n",
       "      <td>5.0</td>\n",
       "      <td>NaN</td>\n",
       "      <td>5001</td>\n",
       "      <td>5.0</td>\n",
       "    </tr>\n",
       "    <tr>\n",
       "      <th>...</th>\n",
       "      <td>...</td>\n",
       "      <td>...</td>\n",
       "      <td>...</td>\n",
       "      <td>...</td>\n",
       "      <td>...</td>\n",
       "    </tr>\n",
       "    <tr>\n",
       "      <th>6378</th>\n",
       "      <td>어떻게 하면 될까? 뭘 먹거나 마시면 될 것도 같은데, 여기서 질문, 그럼 뭘 먹지*</td>\n",
       "      <td>5.0</td>\n",
       "      <td>0.0</td>\n",
       "      <td>2001</td>\n",
       "      <td>677.0</td>\n",
       "    </tr>\n",
       "    <tr>\n",
       "      <th>6379</th>\n",
       "      <td>그 질문이 너무도 확고했어요, 대체 뭘 먹어야하냐고요?앨리스는 주변의 꽃들과 잔디의...</td>\n",
       "      <td>5.0</td>\n",
       "      <td>0.0</td>\n",
       "      <td>2001</td>\n",
       "      <td>678.0</td>\n",
       "    </tr>\n",
       "    <tr>\n",
       "      <th>6380</th>\n",
       "      <td>그나마 다행인건 그녀 가까이에 그녀의 키만큼 커다란 버섯 한 송이가 자라고 있어, ...</td>\n",
       "      <td>5.0</td>\n",
       "      <td>0.0</td>\n",
       "      <td>2001</td>\n",
       "      <td>679.0</td>\n",
       "    </tr>\n",
       "    <tr>\n",
       "      <th>6381</th>\n",
       "      <td>그녀가 발끝을 들어 버섯 끄트머리 위쪽을 들여다보았어요</td>\n",
       "      <td>5.0</td>\n",
       "      <td>0.0</td>\n",
       "      <td>2001</td>\n",
       "      <td>680.0</td>\n",
       "    </tr>\n",
       "    <tr>\n",
       "      <th>6382</th>\n",
       "      <td>그 순간 그녀의 눈이 양 팔을 접은 채 기다란 물담뱃대를 조용히 피우며 세상 태평...</td>\n",
       "      <td>5.0</td>\n",
       "      <td>0.0</td>\n",
       "      <td>2001</td>\n",
       "      <td>681.0</td>\n",
       "    </tr>\n",
       "  </tbody>\n",
       "</table>\n",
       "<p>6383 rows × 5 columns</p>\n",
       "</div>"
      ],
      "text/plain": [
       "                                                   Text  Feeling  Talking  \\\n",
       "0     ‘인도’가 적에게 포위를 당했는데, 적들이 은화 6백 개를 내놓을 때까지 물러나지 ...      2.0      NaN   \n",
       "1                                 그래서 주민들이 북을 치며 선포하길,       2.0      NaN   \n",
       "2                          *누구든 그 돈을 마련하는 사람을 시장으로 삼겠다*      2.0      1.0   \n",
       "3                                               라고 했답니다      0.0      NaN   \n",
       "4     때마침 가난한 어부가 자신의 아들과 호수에서 물고기를 잡아 생활하다, 그 적들이 들...      5.0      NaN   \n",
       "...                                                 ...      ...      ...   \n",
       "6378    어떻게 하면 될까? 뭘 먹거나 마시면 될 것도 같은데, 여기서 질문, 그럼 뭘 먹지*      5.0      0.0   \n",
       "6379  그 질문이 너무도 확고했어요, 대체 뭘 먹어야하냐고요?앨리스는 주변의 꽃들과 잔디의...      5.0      0.0   \n",
       "6380  그나마 다행인건 그녀 가까이에 그녀의 키만큼 커다란 버섯 한 송이가 자라고 있어, ...      5.0      0.0   \n",
       "6381                     그녀가 발끝을 들어 버섯 끄트머리 위쪽을 들여다보았어요      5.0      0.0   \n",
       "6382   그 순간 그녀의 눈이 양 팔을 접은 채 기다란 물담뱃대를 조용히 피우며 세상 태평...      5.0      0.0   \n",
       "\n",
       "      book_id  sentence_id  \n",
       "0        5001          1.0  \n",
       "1        5001          2.0  \n",
       "2        5001          3.0  \n",
       "3        5001          4.0  \n",
       "4        5001          5.0  \n",
       "...       ...          ...  \n",
       "6378     2001        677.0  \n",
       "6379     2001        678.0  \n",
       "6380     2001        679.0  \n",
       "6381     2001        680.0  \n",
       "6382     2001        681.0  \n",
       "\n",
       "[6383 rows x 5 columns]"
      ]
     },
     "execution_count": 102,
     "metadata": {},
     "output_type": "execute_result"
    }
   ],
   "source": [
    "data"
   ]
  },
  {
   "cell_type": "code",
   "execution_count": 103,
   "metadata": {},
   "outputs": [
    {
     "name": "stdout",
     "output_type": "stream",
     "text": [
      "6383\n"
     ]
    }
   ],
   "source": [
    "print(len(data))"
   ]
  },
  {
   "cell_type": "code",
   "execution_count": 104,
   "metadata": {},
   "outputs": [],
   "source": [
    "data = data.iloc[:,:2]"
   ]
  },
  {
   "cell_type": "code",
   "execution_count": 105,
   "metadata": {},
   "outputs": [
    {
     "data": {
      "text/html": [
       "<div>\n",
       "<style scoped>\n",
       "    .dataframe tbody tr th:only-of-type {\n",
       "        vertical-align: middle;\n",
       "    }\n",
       "\n",
       "    .dataframe tbody tr th {\n",
       "        vertical-align: top;\n",
       "    }\n",
       "\n",
       "    .dataframe thead th {\n",
       "        text-align: right;\n",
       "    }\n",
       "</style>\n",
       "<table border=\"1\" class=\"dataframe\">\n",
       "  <thead>\n",
       "    <tr style=\"text-align: right;\">\n",
       "      <th></th>\n",
       "      <th>Text</th>\n",
       "      <th>Feeling</th>\n",
       "    </tr>\n",
       "  </thead>\n",
       "  <tbody>\n",
       "    <tr>\n",
       "      <th>0</th>\n",
       "      <td>‘인도’가 적에게 포위를 당했는데, 적들이 은화 6백 개를 내놓을 때까지 물러나지 ...</td>\n",
       "      <td>2.0</td>\n",
       "    </tr>\n",
       "    <tr>\n",
       "      <th>1</th>\n",
       "      <td>그래서 주민들이 북을 치며 선포하길,</td>\n",
       "      <td>2.0</td>\n",
       "    </tr>\n",
       "    <tr>\n",
       "      <th>2</th>\n",
       "      <td>*누구든 그 돈을 마련하는 사람을 시장으로 삼겠다*</td>\n",
       "      <td>2.0</td>\n",
       "    </tr>\n",
       "    <tr>\n",
       "      <th>3</th>\n",
       "      <td>라고 했답니다</td>\n",
       "      <td>0.0</td>\n",
       "    </tr>\n",
       "    <tr>\n",
       "      <th>4</th>\n",
       "      <td>때마침 가난한 어부가 자신의 아들과 호수에서 물고기를 잡아 생활하다, 그 적들이 들...</td>\n",
       "      <td>5.0</td>\n",
       "    </tr>\n",
       "    <tr>\n",
       "      <th>...</th>\n",
       "      <td>...</td>\n",
       "      <td>...</td>\n",
       "    </tr>\n",
       "    <tr>\n",
       "      <th>6378</th>\n",
       "      <td>어떻게 하면 될까? 뭘 먹거나 마시면 될 것도 같은데, 여기서 질문, 그럼 뭘 먹지*</td>\n",
       "      <td>5.0</td>\n",
       "    </tr>\n",
       "    <tr>\n",
       "      <th>6379</th>\n",
       "      <td>그 질문이 너무도 확고했어요, 대체 뭘 먹어야하냐고요?앨리스는 주변의 꽃들과 잔디의...</td>\n",
       "      <td>5.0</td>\n",
       "    </tr>\n",
       "    <tr>\n",
       "      <th>6380</th>\n",
       "      <td>그나마 다행인건 그녀 가까이에 그녀의 키만큼 커다란 버섯 한 송이가 자라고 있어, ...</td>\n",
       "      <td>5.0</td>\n",
       "    </tr>\n",
       "    <tr>\n",
       "      <th>6381</th>\n",
       "      <td>그녀가 발끝을 들어 버섯 끄트머리 위쪽을 들여다보았어요</td>\n",
       "      <td>5.0</td>\n",
       "    </tr>\n",
       "    <tr>\n",
       "      <th>6382</th>\n",
       "      <td>그 순간 그녀의 눈이 양 팔을 접은 채 기다란 물담뱃대를 조용히 피우며 세상 태평...</td>\n",
       "      <td>5.0</td>\n",
       "    </tr>\n",
       "  </tbody>\n",
       "</table>\n",
       "<p>6383 rows × 2 columns</p>\n",
       "</div>"
      ],
      "text/plain": [
       "                                                   Text  Feeling\n",
       "0     ‘인도’가 적에게 포위를 당했는데, 적들이 은화 6백 개를 내놓을 때까지 물러나지 ...      2.0\n",
       "1                                 그래서 주민들이 북을 치며 선포하길,       2.0\n",
       "2                          *누구든 그 돈을 마련하는 사람을 시장으로 삼겠다*      2.0\n",
       "3                                               라고 했답니다      0.0\n",
       "4     때마침 가난한 어부가 자신의 아들과 호수에서 물고기를 잡아 생활하다, 그 적들이 들...      5.0\n",
       "...                                                 ...      ...\n",
       "6378    어떻게 하면 될까? 뭘 먹거나 마시면 될 것도 같은데, 여기서 질문, 그럼 뭘 먹지*      5.0\n",
       "6379  그 질문이 너무도 확고했어요, 대체 뭘 먹어야하냐고요?앨리스는 주변의 꽃들과 잔디의...      5.0\n",
       "6380  그나마 다행인건 그녀 가까이에 그녀의 키만큼 커다란 버섯 한 송이가 자라고 있어, ...      5.0\n",
       "6381                     그녀가 발끝을 들어 버섯 끄트머리 위쪽을 들여다보았어요      5.0\n",
       "6382   그 순간 그녀의 눈이 양 팔을 접은 채 기다란 물담뱃대를 조용히 피우며 세상 태평...      5.0\n",
       "\n",
       "[6383 rows x 2 columns]"
      ]
     },
     "execution_count": 105,
     "metadata": {},
     "output_type": "execute_result"
    }
   ],
   "source": [
    "data"
   ]
  },
  {
   "cell_type": "code",
   "execution_count": 106,
   "metadata": {},
   "outputs": [
    {
     "data": {
      "text/plain": [
       "(6166, 7)"
      ]
     },
     "execution_count": 106,
     "metadata": {},
     "output_type": "execute_result"
    }
   ],
   "source": [
    "data['Text'].nunique(), data['Feeling'].nunique()"
   ]
  },
  {
   "cell_type": "code",
   "execution_count": 107,
   "metadata": {},
   "outputs": [
    {
     "data": {
      "text/html": [
       "<div>\n",
       "<style scoped>\n",
       "    .dataframe tbody tr th:only-of-type {\n",
       "        vertical-align: middle;\n",
       "    }\n",
       "\n",
       "    .dataframe tbody tr th {\n",
       "        vertical-align: top;\n",
       "    }\n",
       "\n",
       "    .dataframe thead th {\n",
       "        text-align: right;\n",
       "    }\n",
       "</style>\n",
       "<table border=\"1\" class=\"dataframe\">\n",
       "  <thead>\n",
       "    <tr style=\"text-align: right;\">\n",
       "      <th></th>\n",
       "      <th>Text</th>\n",
       "      <th>Feeling</th>\n",
       "    </tr>\n",
       "  </thead>\n",
       "  <tbody>\n",
       "    <tr>\n",
       "      <th>54</th>\n",
       "      <td>라고 말했어요</td>\n",
       "      <td>0.0</td>\n",
       "    </tr>\n",
       "    <tr>\n",
       "      <th>172</th>\n",
       "      <td>*젬지 산아, 젬지 산아, 열리거라*</td>\n",
       "      <td>2.0</td>\n",
       "    </tr>\n",
       "    <tr>\n",
       "      <th>215</th>\n",
       "      <td>라고 그가 말했어요</td>\n",
       "      <td>0.0</td>\n",
       "    </tr>\n",
       "    <tr>\n",
       "      <th>316</th>\n",
       "      <td>라며 당나귀가 말했어요</td>\n",
       "      <td>0.0</td>\n",
       "    </tr>\n",
       "    <tr>\n",
       "      <th>325</th>\n",
       "      <td>라며 그가 말했어요</td>\n",
       "      <td>0.0</td>\n",
       "    </tr>\n",
       "    <tr>\n",
       "      <th>...</th>\n",
       "      <td>...</td>\n",
       "      <td>...</td>\n",
       "    </tr>\n",
       "    <tr>\n",
       "      <th>6049</th>\n",
       "      <td>*그렇담*</td>\n",
       "      <td>5.0</td>\n",
       "    </tr>\n",
       "    <tr>\n",
       "      <th>6084</th>\n",
       "      <td>라며 생쥐가 말했어요</td>\n",
       "      <td>0.0</td>\n",
       "    </tr>\n",
       "    <tr>\n",
       "      <th>6092</th>\n",
       "      <td>라며 도도새가 말했어요</td>\n",
       "      <td>0.0</td>\n",
       "    </tr>\n",
       "    <tr>\n",
       "      <th>6107</th>\n",
       "      <td>라며 앨리스가 말했어요</td>\n",
       "      <td>0.0</td>\n",
       "    </tr>\n",
       "    <tr>\n",
       "      <th>6309</th>\n",
       "      <td>*빌이 날아간다*</td>\n",
       "      <td>5.0</td>\n",
       "    </tr>\n",
       "  </tbody>\n",
       "</table>\n",
       "<p>168 rows × 2 columns</p>\n",
       "</div>"
      ],
      "text/plain": [
       "                      Text  Feeling\n",
       "54                 라고 말했어요      0.0\n",
       "172   *젬지 산아, 젬지 산아, 열리거라*      2.0\n",
       "215             라고 그가 말했어요      0.0\n",
       "316           라며 당나귀가 말했어요      0.0\n",
       "325             라며 그가 말했어요      0.0\n",
       "...                    ...      ...\n",
       "6049                 *그렇담*      5.0\n",
       "6084           라며 생쥐가 말했어요      0.0\n",
       "6092          라며 도도새가 말했어요      0.0\n",
       "6107          라며 앨리스가 말했어요      0.0\n",
       "6309             *빌이 날아간다*      5.0\n",
       "\n",
       "[168 rows x 2 columns]"
      ]
     },
     "metadata": {},
     "output_type": "display_data"
    }
   ],
   "source": [
    "display(data[data.duplicated()])"
   ]
  },
  {
   "cell_type": "code",
   "execution_count": 108,
   "metadata": {},
   "outputs": [
    {
     "data": {
      "text/plain": [
       "5.0     2421\n",
       "2.0     1936\n",
       "0.0      786\n",
       "1.0      583\n",
       "3.0      354\n",
       "4.0      300\n",
       "22.0       1\n",
       "Name: Feeling, dtype: int64"
      ]
     },
     "execution_count": 108,
     "metadata": {},
     "output_type": "execute_result"
    }
   ],
   "source": [
    "data['Feeling'].value_counts()"
   ]
  },
  {
   "cell_type": "code",
   "execution_count": 109,
   "metadata": {},
   "outputs": [],
   "source": [
    "data = data[data[\"Feeling\"] != 22.0]"
   ]
  },
  {
   "cell_type": "code",
   "execution_count": 110,
   "metadata": {},
   "outputs": [
    {
     "data": {
      "text/plain": [
       "5.0    2421\n",
       "2.0    1936\n",
       "0.0     786\n",
       "1.0     583\n",
       "3.0     354\n",
       "4.0     300\n",
       "Name: Feeling, dtype: int64"
      ]
     },
     "execution_count": 110,
     "metadata": {},
     "output_type": "execute_result"
    }
   ],
   "source": [
    "data['Feeling'].value_counts()"
   ]
  },
  {
   "cell_type": "code",
   "execution_count": 111,
   "metadata": {},
   "outputs": [
    {
     "data": {
      "text/plain": [
       "<AxesSubplot:>"
      ]
     },
     "execution_count": 111,
     "metadata": {},
     "output_type": "execute_result"
    },
    {
     "data": {
      "image/png": "[encoded data removed]",
      "text/plain": [
       "<Figure size 432x288 with 1 Axes>"
      ]
     },
     "metadata": {
      "needs_background": "light"
     },
     "output_type": "display_data"
    }
   ],
   "source": [
    "data['Feeling'].value_counts().plot(kind='bar')"
   ]
  },
  {
   "cell_type": "code",
   "execution_count": 112,
   "metadata": {},
   "outputs": [],
   "source": [
    "#  결측치 제거"
   ]
  },
  {
   "cell_type": "code",
   "execution_count": 113,
   "metadata": {},
   "outputs": [
    {
     "data": {
      "text/plain": [
       "Text       0\n",
       "Feeling    2\n",
       "dtype: int64"
      ]
     },
     "execution_count": 113,
     "metadata": {},
     "output_type": "execute_result"
    }
   ],
   "source": [
    "data.isnull().sum()"
   ]
  },
  {
   "cell_type": "code",
   "execution_count": 114,
   "metadata": {},
   "outputs": [
    {
     "name": "stdout",
     "output_type": "stream",
     "text": [
      "False\n"
     ]
    }
   ],
   "source": [
    "data = data.dropna(how = 'any')\n",
    "print(data.isnull().values.any())"
   ]
  },
  {
   "cell_type": "code",
   "execution_count": 115,
   "metadata": {},
   "outputs": [
    {
     "data": {
      "text/plain": [
       "0       2\n",
       "1       2\n",
       "2       2\n",
       "3       0\n",
       "4       5\n",
       "       ..\n",
       "6378    5\n",
       "6379    5\n",
       "6380    5\n",
       "6381    5\n",
       "6382    5\n",
       "Name: Feeling, Length: 6380, dtype: int64"
      ]
     },
     "execution_count": 115,
     "metadata": {},
     "output_type": "execute_result"
    }
   ],
   "source": [
    "data = data.astype({\"Feeling\" : 'int64'})\n",
    "data['Feeling']"
   ]
  },
  {
   "cell_type": "code",
   "execution_count": 116,
   "metadata": {},
   "outputs": [
    {
     "data": {
      "text/html": [
       "<div>\n",
       "<style scoped>\n",
       "    .dataframe tbody tr th:only-of-type {\n",
       "        vertical-align: middle;\n",
       "    }\n",
       "\n",
       "    .dataframe tbody tr th {\n",
       "        vertical-align: top;\n",
       "    }\n",
       "\n",
       "    .dataframe thead th {\n",
       "        text-align: right;\n",
       "    }\n",
       "</style>\n",
       "<table border=\"1\" class=\"dataframe\">\n",
       "  <thead>\n",
       "    <tr style=\"text-align: right;\">\n",
       "      <th></th>\n",
       "      <th>Text</th>\n",
       "      <th>Feeling</th>\n",
       "    </tr>\n",
       "  </thead>\n",
       "  <tbody>\n",
       "    <tr>\n",
       "      <th>0</th>\n",
       "      <td>인도가 적에게 포위를 당했는데 적들이 은화 백 개를 내놓을 때까지 물러나지 않겠다고...</td>\n",
       "      <td>2</td>\n",
       "    </tr>\n",
       "    <tr>\n",
       "      <th>1</th>\n",
       "      <td>그래서 주민들이 북을 치며 선포하길</td>\n",
       "      <td>2</td>\n",
       "    </tr>\n",
       "    <tr>\n",
       "      <th>2</th>\n",
       "      <td>누구든 그 돈을 마련하는 사람을 시장으로 삼겠다</td>\n",
       "      <td>2</td>\n",
       "    </tr>\n",
       "    <tr>\n",
       "      <th>3</th>\n",
       "      <td>라고 했답니다</td>\n",
       "      <td>0</td>\n",
       "    </tr>\n",
       "    <tr>\n",
       "      <th>4</th>\n",
       "      <td>때마침 가난한 어부가 자신의 아들과 호수에서 물고기를 잡아 생활하다 그 적들이 들이...</td>\n",
       "      <td>5</td>\n",
       "    </tr>\n",
       "    <tr>\n",
       "      <th>...</th>\n",
       "      <td>...</td>\n",
       "      <td>...</td>\n",
       "    </tr>\n",
       "    <tr>\n",
       "      <th>6378</th>\n",
       "      <td>어떻게 하면 될까 뭘 먹거나 마시면 될 것도 같은데 여기서 질문 그럼 뭘 먹지</td>\n",
       "      <td>5</td>\n",
       "    </tr>\n",
       "    <tr>\n",
       "      <th>6379</th>\n",
       "      <td>그 질문이 너무도 확고했어요 대체 뭘 먹어야하냐고요앨리스는 주변의 꽃들과 잔디의 풀...</td>\n",
       "      <td>5</td>\n",
       "    </tr>\n",
       "    <tr>\n",
       "      <th>6380</th>\n",
       "      <td>그나마 다행인건 그녀 가까이에 그녀의 키만큼 커다란 버섯 한 송이가 자라고 있어 그...</td>\n",
       "      <td>5</td>\n",
       "    </tr>\n",
       "    <tr>\n",
       "      <th>6381</th>\n",
       "      <td>그녀가 발끝을 들어 버섯 끄트머리 위쪽을 들여다보았어요</td>\n",
       "      <td>5</td>\n",
       "    </tr>\n",
       "    <tr>\n",
       "      <th>6382</th>\n",
       "      <td>그 순간 그녀의 눈이 양 팔을 접은 채 기다란 물담뱃대를 조용히 피우며 세상 태평...</td>\n",
       "      <td>5</td>\n",
       "    </tr>\n",
       "  </tbody>\n",
       "</table>\n",
       "<p>6380 rows × 2 columns</p>\n",
       "</div>"
      ],
      "text/plain": [
       "                                                   Text  Feeling\n",
       "0     인도가 적에게 포위를 당했는데 적들이 은화 백 개를 내놓을 때까지 물러나지 않겠다고...        2\n",
       "1                                  그래서 주민들이 북을 치며 선포하길         2\n",
       "2                            누구든 그 돈을 마련하는 사람을 시장으로 삼겠다        2\n",
       "3                                               라고 했답니다        0\n",
       "4     때마침 가난한 어부가 자신의 아들과 호수에서 물고기를 잡아 생활하다 그 적들이 들이...        5\n",
       "...                                                 ...      ...\n",
       "6378        어떻게 하면 될까 뭘 먹거나 마시면 될 것도 같은데 여기서 질문 그럼 뭘 먹지        5\n",
       "6379  그 질문이 너무도 확고했어요 대체 뭘 먹어야하냐고요앨리스는 주변의 꽃들과 잔디의 풀...        5\n",
       "6380  그나마 다행인건 그녀 가까이에 그녀의 키만큼 커다란 버섯 한 송이가 자라고 있어 그...        5\n",
       "6381                     그녀가 발끝을 들어 버섯 끄트머리 위쪽을 들여다보았어요        5\n",
       "6382   그 순간 그녀의 눈이 양 팔을 접은 채 기다란 물담뱃대를 조용히 피우며 세상 태평...        5\n",
       "\n",
       "[6380 rows x 2 columns]"
      ]
     },
     "execution_count": 116,
     "metadata": {},
     "output_type": "execute_result"
    }
   ],
   "source": [
    "# 한글만 남기기 \n",
    "\n",
    "data['Text'] = data['Text'].str.replace(\"[^ㄱ-ㅎㅏ-ㅣ가-힣 ]\",\"\")\n",
    "data"
   ]
  },
  {
   "cell_type": "code",
   "execution_count": 117,
   "metadata": {},
   "outputs": [],
   "source": [
    "X_train, X_test, y_train, y_test = train_test_split(data['Text'], \n",
    "                                                    data['Feeling'], \n",
    "                                                    test_size=0.1, \n",
    "                                                    random_state=1004)"
   ]
  },
  {
   "cell_type": "code",
   "execution_count": 118,
   "metadata": {},
   "outputs": [
    {
     "name": "stdout",
     "output_type": "stream",
     "text": [
      "3759     그와 동시에 여자마법사가 오더니 아이에게 라푼첼이라는 이름을 지어주고는 아이를 데...\n",
      "2405              으리으리한 성으로 돌아온 다음 왕은 그녀에게 아름다운 의상들을 입혔어요\n",
      "1183               저희는 밤늦도록 이야기꽃을 피우다 그 낯선 이에게 방을 안내해주었지요\n",
      "4502              주방장은 뒤뜰로 가 어린 양을 죽이고 근사하고 맛있는 양념으로 덮었어요\n",
      "4826                                      라는 말밖에 할 수가 없었죠\n",
      "                              ...                        \n",
      "6070                                  모두가 우승자야 모두 상을 받아야해\n",
      "1265    그들은 그 꿀단지를 침실 벽에 고정된 선반 위에 두고 누가 훔쳐가지 않나 또는 생쥐...\n",
      "5448                 처음엔 이 요구가 힘이 들어 그저 왕은 새로운 눈물을 젖서야 했다\n",
      "4130                             아아 제 엄마가 저를 문 밖으로 쫓아내셨어요\n",
      "2574                                그럼 등골이 오싹한 걸 배우게 될 테니\n",
      "Name: Text, Length: 5742, dtype: object\n",
      "1455                  정 그렇다면 공주님이 직접 오시면 제가 믿고 한 마리를 드리지요\n",
      "5228                                            젠장 그게 있었군\n",
      "2111                                네가 가지고 싶은 건 다 착한 개구리야\n",
      "1897    그물을 아래에 설치한 다음 돌출된 바위 위에 선 어부는 물고기들이 내 멜로디에 이끌...\n",
      "4590    그 즉시 자고새들이 자루 속으로 뛰어들었고 그러자 마자 장화 신은 고양이가 끈을 동...\n",
      "                              ...                        \n",
      "2249                   라며 오늘 자신이 한 일에 대단히 만족해하며 고양이가 말했어요\n",
      "6158                                 우리 다이나가 여기 있었음 좋았으련만\n",
      "4975    공주가 고수머리 리케에게 개월 후에 그와 결혼하겠노라고 약속을 하자마자 공주는 자기...\n",
      "265        그들은 이리저리 여행을 다니다 결국 나이 든 왕이 다스리는 왕국에 도착하게 되었지요\n",
      "5821              때때로 그녀는 자기 자신을 신랄하게 비난해 눈물이 쏙 날 때도 있었어요\n",
      "Name: Text, Length: 638, dtype: object\n",
      "3759    5\n",
      "2405    1\n",
      "1183    5\n",
      "4502    4\n",
      "4826    0\n",
      "       ..\n",
      "6070    3\n",
      "1265    5\n",
      "5448    4\n",
      "4130    4\n",
      "2574    2\n",
      "Name: Feeling, Length: 5742, dtype: int64\n",
      "1455    2\n",
      "5228    5\n",
      "2111    5\n",
      "1897    5\n",
      "4590    0\n",
      "       ..\n",
      "2249    2\n",
      "6158    2\n",
      "4975    1\n",
      "265     5\n",
      "5821    4\n",
      "Name: Feeling, Length: 638, dtype: int64\n"
     ]
    }
   ],
   "source": [
    "print(X_train)\n",
    "print(X_test)\n",
    "print(y_train)\n",
    "print(y_test)"
   ]
  },
  {
   "cell_type": "code",
   "execution_count": 119,
   "metadata": {},
   "outputs": [],
   "source": [
    "# 토큰화"
   ]
  },
  {
   "cell_type": "code",
   "execution_count": 120,
   "metadata": {},
   "outputs": [],
   "source": [
    "# 추후 늘리기\n",
    "stopwords = ['의','가','이','은','들','는','좀','잘','걍','과','도','를','으로','자','에','와','한','하다']"
   ]
  },
  {
   "cell_type": "code",
   "execution_count": 121,
   "metadata": {},
   "outputs": [],
   "source": [
    "okt = Okt()\n",
    "X_trains = []\n",
    "for sentence in X_train:\n",
    "    temp_X = okt.morphs(sentence, stem = True) # 토큰화 \n",
    "    temp_X = [word for word in temp_X if not word in stopwords]\n",
    "    X_trains.append(temp_X)"
   ]
  },
  {
   "cell_type": "code",
   "execution_count": 122,
   "metadata": {},
   "outputs": [],
   "source": [
    "okt = Okt()\n",
    "X_tests = []\n",
    "for sentence in X_test:\n",
    "    temp_X = okt.morphs(sentence, stem = True) # 토큰화 \n",
    "    temp_X = [word for word in temp_X if not word in stopwords]\n",
    "    X_tests.append(temp_X)"
   ]
  },
  {
   "cell_type": "code",
   "execution_count": 123,
   "metadata": {},
   "outputs": [],
   "source": [
    "X_train = X_trains\n",
    "X_test = X_tests"
   ]
  },
  {
   "cell_type": "code",
   "execution_count": 124,
   "metadata": {},
   "outputs": [
    {
     "name": "stdout",
     "output_type": "stream",
     "text": [
      "[['그', '동시', '여자', '마법사', '오다', '아이', '에게', '라푼첼', '이라는', '이름', '을', '지다', '아이', '데리', '고', '가버리다'], ['으리', '으리', '성', '돌아오다', '다음', '왕', '그녀', '에게', '아름답다', '의상', '을', '입히다'], ['저희', '밤늦다', '이야기', '꽃', '을', '피우다', '그', '낯선', '에게', '방', '을', '안내', '해주다']]\n",
      "[['정', '그렇다', '공주', '님', '직접', '오시', '면', '제', '믿다', '마리', '드리다'], ['젠장', '그게', '있다'], ['네', '가지', '고', '싶다', '건', '다', '착하다', '개구리', '야']]\n"
     ]
    }
   ],
   "source": [
    "print(X_train[:3])\n",
    "print(X_test[:3])"
   ]
  },
  {
   "cell_type": "code",
   "execution_count": 125,
   "metadata": {},
   "outputs": [],
   "source": [
    "# 정수 인코딩\n",
    "tokenizer = Tokenizer() \n",
    "tokenizer.fit_on_texts(X_train)"
   ]
  },
  {
   "cell_type": "code",
   "execution_count": 126,
   "metadata": {},
   "outputs": [
    {
     "name": "stdout",
     "output_type": "stream",
     "text": [
      "{'을': 1, '그': 2, '말': 3, '있다': 4, '로': 5, '그녀': 6, '그렇다': 7, '보다': 8, '에게': 9, '않다': 10, '라며': 11, '자신': 12, '없다': 13, '이다': 14, '왕': 15, '에서': 16, '것': 17, '내': 18, '게': 19, '가다': 20, '수': 21, '되다': 22, '고': 23, '거': 24, '하지만': 25, '들다': 26, '님': 27, '공주': 28, '다음': 29, '그래서': 30, '다': 31, '요': 32, '더': 33, '저': 34, '네': 35, '제': 36, '말다': 37, '왕자': 38, '오다': 39, '하나': 40, '두': 41, '때': 42, '예요': 43, '되어다': 44, '안': 45, '다시': 46, '만': 47, '생각': 48, '아이': 49, '사람': 50, '못': 51, '걸': 52, '왕비': 53, '크다': 54, '엄마': 55, '뭐': 56, '아니다': 57, '집': 58, '라고': 59, '먹다': 60, '엔': 61, '하고': 62, '소리': 63, '아': 64, '당신': 65, '나': 66, '한스': 67, '날': 68, '청년': 69, '앨리스': 70, '속': 71, '버리다': 72, '자다': 73, '아내': 74, '까지': 75, '지': 76, '모두': 77, '숲': 78, '모든': 79, '그리고': 80, '그러자': 81, '소녀': 82, '눈': 83, '때문': 84, '해주다': 85, '문': 86, '대답': 87, '고양이': 88, '우리': 89, '같다': 90, '인': 91, '이제': 92, '죠': 93, '좋다': 94, '시작': 95, '앉다': 96, '마리': 97, '주다': 98, '손': 99, '위': 100, '받다': 101, '나오다': 102, '난': 103, '어떻다': 104, '번': 105, '알다': 106, '아빠': 107, '아름답다': 108, '나무': 109, '죽다': 110, '딸': 111, '야': 112, '정말': 113, '일': 114, '작다': 115, '세': 116, '늑대': 117, '사랑': 118, '들어가다': 119, '너무도': 120, '이렇게': 121, '보이다': 122, '아들': 123, '또': 124, '새끼': 125, '라': 126, '생쥐': 127, '어리다': 128, '싶다': 129, '방': 130, '앞': 131, '너무': 132, '괴물': 133, '난쟁이': 134, '전': 135, '새': 136, '며': 137, '모르다': 138, '보고': 139, '그때': 140, '아주': 141, '만들다': 142, '여기': 143, '너': 144, '지금': 145, '적': 146, '즉시': 147, '다른': 148, '거기': 149, '함께': 150, '돌아오다': 151, '침대': 152, '염소': 153, '가지': 154, '후': 155, '머리': 156, '소리치다': 157, '많다': 158, '밤': 159, '신데렐라': 160, '뒤': 161, '요정': 162, '대로': 163, '가장': 164, '주인': 165, '도착': 166, '옷': 167, '언니': 168, '바람': 169, '내다': 170, '건': 171, '명': 172, '형': 173, '께': 174, '몸': 175, '당나귀': 176, '물': 177, '서': 178, '애': 179, '이나': 180, '입': 181, '곧': 182, '오': 183, '일이': 184, '자기': 185, '세상': 186, '이지': 187, '거야': 188, '옆': 189, '오빠': 190, '물다': 191, '서다': 192, '이렇다': 193, '여자': 194, '나다': 195, '어느': 196, '개': 197, '입다': 198, '불': 199, '아래': 200, '그게': 201, '남자': 202, '중': 203, '처럼': 204, '정도': 205, '그냥': 206, '번째': 207, '찾다': 208, '누구': 209, '해보다': 210, '요하네스': 211, '떨어지다': 212, '불쌍하다': 213, '얼굴': 214, '토끼': 215, '마침내': 216, '젊다': 217, '아무': 218, '눕다': 219, '보내다': 220, '남편': 221, '마차': 222, '두다': 223, '해': 224, '노루': 225, '알': 226, '곳': 227, '하': 228, '이번': 229, '바로': 230, '이야': 231, '기다': 232, '왜': 233, '열다': 234, '예쁘다': 235, '양': 236, '잡다': 237, '차다': 238, '선': 239, '수염': 240, '줄': 241, '발': 242, '께서': 243, '씩': 244, '궁전': 245, '배우다': 246, '그걸': 247, '모습': 248, '살': 249, '동안': 250, '왜냐면': 251, '사이': 252, '분': 253, '그렇게': 254, '연주가': 255, '수가': 256, '들이다': 257, '막': 258, '목소리': 259, '놀라다': 260, '길': 261, '듯': 262, '기쁘다': 263, '친구': 264, '가죽': 265, '결혼': 266, '아침': 267, '나가다': 268, '그리다': 269, '성': 270, '달라': 271, '저녁': 272, '이며': 273, '니': 274, '걸다': 275, '얘기': 276, '자리': 277, '없이': 278, '엄지': 279, '땅': 280, '같이': 281, '마음': 282, '열쇠': 283, '돌': 284, '그건': 285, '집다': 286, '돼다': 287, '부터': 288, '황금': 289, '변하다': 290, '위해': 291, '테': 292, '왕국': 293, '잠': 294, '채': 295, '듣다': 296, '관': 297, '만약': 298, '갈다': 299, '계속': 300, '살다': 301, '나르다': 302, '또한': 303, '너희': 304, '누가': 305, '장화': 306, '쪽': 307, '얘': 308, '동자': 309, '시간': 310, '들어오다': 311, '어': 312, '하인': 313, '개구리': 314, '드리다': 315, '푸른': 316, '면': 317, '어디': 318, '일어나다': 319, '시키다': 320, '구': 321, '남다': 322, '온': 323, '그리하여': 324, '어찌': 325, '돌아가다': 326, '금': 327, '결국': 328, '무슨': 329, '그런데': 330, '절대': 331, '장': 332, '쥐': 333, '목': 334, '빨갛다': 335, '아기': 336, '치다': 337, '부르다': 338, '계시다': 339, '동생': 340, '든': 341, '아가씨': 342, '이름': 343, '데리': 344, '거지': 345, '다리': 346, '넌': 347, '무척': 348, '빠지다': 349, '이르다': 350, '끝': 351, '꼭': 352, '대모': 353, '여인': 354, '에도': 355, '사실': 356, '누': 357, '생기다': 358, '야하다': 359, '넣다': 360, '깊다': 361, '마치': 362, '대다': 363, '가득': 364, '밖': 365, '나누다': 366, '게다가': 367, '충신': 368, '신다': 369, '결혼식': 370, '말씀': 371, '걸리다': 372, '재치': 373, '만큼': 374, '죄다': 375, '지다': 376, '유리': 377, '하루': 378, '불다': 379, '뜨다': 380, '뭔가': 381, '소년': 382, '따르다': 383, '키': 384, '들리다': 385, '눈물': 386, '뭔': 387, '준비': 388, '년': 389, '시': 390, '올리다': 391, '라푼첼': 392, '올라가다': 393, '기다리다': 394, '등골': 395, '에는': 396, '배': 397, '후작': 398, '나무꾼': 399, '슬프다': 400, '둘': 401, '열리다': 402, '놓다': 403, '곰': 404, '여': 405, '그만': 406, '막내': 407, '선물': 408, '동물': 409, '나타나다': 410, '방법': 411, '빵': 412, '보여주다': 413, '마다': 414, '타고': 415, '약속': 416, '그것': 417, '거리': 418, '열': 419, '전혀': 420, '뛰다': 421, '마법사': 422, '교회': 423, '그래도': 424, '가난하다': 425, '돈': 426, '꺼내다': 427, '쥐다': 428, '사라지다': 429, '쓸다': 430, '드레스': 431, '명의': 432, '대비': 433, '힘': 434, '위로': 435, '울다': 436, '어서': 437, '계단': 438, '서두르다': 439, '상태': 440, '할머니': 441, '귀엽다': 442, '여우': 443, '바닥': 444, '머물다': 445, '발견': 446, '잡아먹다': 447, '다만': 448, '빌다': 449, '방문': 450, '오싹하다': 451, '옛날': 452, '고개': 453, '장미': 454, '내미다': 455, '맞다': 456, '왜냐하면': 457, '냐': 458, '에겐': 459, '가져오다': 460, '만나다': 461, '던지다': 462, '인지': 463, '나아가다': 464, '마법': 465, '끈': 466, '사자': 467, '살리다': 468, '지나가다': 469, '잠시': 470, '쯤': 471, '들려오다': 472, '사랑스럽다': 473, '외치다': 474, '몇': 475, '물어보다': 476, '다가오다': 477, '당장': 478, '죽이다': 479, '서로': 480, '놓이다': 481, '아버지': 482, '어찌나': 483, '꽃': 484, '주방': 485, '돼지': 486, '매일': 487, '나이': 488, '까마귀': 489, '질문': 490, '니까': 491, '끄다': 492, '딱': 493, '내려오다': 494, '새엄마': 495, '급하다': 496, '하느님': 497, '기도': 498, '에게로': 499, '젊은이': 500, '에요': 501, '가보다': 502, '나서다': 503, '마디': 504, '놈': 505, '사냥': 506, '게다': 507, '무엇': 508, '앞발': 509, '물이': 510, '착하다': 511, '많이': 512, '사악하다': 513, '기분': 514, '행복하다': 515, '뭐라다': 516, '완전하다': 517, '이에요': 518, '시골': 519, '희다': 520, '늙다': 521, '대꾸': 522, '공': 523, '대해': 524, '놀다': 525, '산토끼': 526, '병': 527, '전하': 528, '밖에': 529, '달아나다': 530, '리케': 531, '웃다': 532, '지르다': 533, '순간': 534, '앤': 535, '자네': 536, '향': 537, '정말로': 538, '보이지': 539, '마냥': 540, '베다': 541, '그리핀': 542, '여기다': 543, '숨다': 544, '이란': 545, '이건': 546, '주막': 547, '마리아': 548, '풀다': 549, '죽': 550, '반': 551, '울': 552, '손가락': 553, '가지다': 554, '들판': 555, '이라': 556, '낳다': 557, '밑': 558, '수탉': 559, '째': 560, '구멍': 561, '실': 562, '밟다': 563, '떠나다': 564, '때마침': 565, '지나다': 566, '노인': 567, '무도회': 568, '반지': 569, '케이크': 570, '맛': 571, '볼': 572, '검다': 573, '끔찍하다': 574, '라는': 575, '사슴': 576, '혼자': 577, '고수머리': 578, '빨리': 579, '거니': 580, '달려가다': 581, '지키다': 582, '첫': 583, '신부': 584, '흰눈': 585, '어디서': 586, '바르다': 587, '간': 588, '정신': 589, '끼다': 590, '젠': 591, '동의': 592, '살짝': 593, '결심': 594, '기': 595, '데': 596, '가운데': 597, '직접': 598, '꼭대기': 599, '치': 600, '비록': 601, '엄청': 602, '이후': 603, '참새': 604, '접시': 605, '커지다': 606, '구두': 607, '가까이': 608, '정원': 609, '쓰다': 610, '인데': 611, '처음': 612, '우선': 613, '대화': 614, '이고': 615, '얼마나': 616, '고기': 617, '누군가': 618, '쫓다': 619, '좋아하다': 620, '마찬가지': 621, '크게': 622, '오늘': 623, '이미': 624, '속이다': 625, '산이': 626, '마시다': 627, '자르다': 628, '깨다': 629, '창문': 630, '바구니': 631, '물고기': 632, '재봉사': 633, '담다': 634, '물론': 635, '대신': 636, '숨': 637, '의자': 638, '내리다': 639, '자라다': 640, '멈추다': 641, '멀다': 642, '오두막': 643, '믿다': 644, '폴짝': 645, '머리카락': 646, '예전': 647, '채우다': 648, '번은': 649, '등': 650, '튀어나오다': 651, '의상': 652, '광경': 653, '진짜': 654, '난로': 655, '살펴보다': 656, '코': 657, '여전하다': 658, '꿀': 659, '추하다': 660, '해도': 661, '따다': 662, '여행': 663, '제발': 664, '출발': 665, '도도새': 666, '돌다': 667, '상황': 668, '점': 669, '노크': 670, '에게도': 671, '나머지': 672, '요구': 673, '바라다': 674, '말고': 675, '깜짝': 676, '마부': 677, '식사': 678, '벤야민': 679, '리': 680, '탑': 681, '흐르다': 682, '귀': 683, '부자': 684, '달다': 685, '동시': 686, '항아리': 687, '사과': 688, '돌보다': 689, '들어서다': 690, '울창': 691, '맡다': 692, '뭘': 693, '항상': 694, '손님': 695, '연주': 696, '차라리': 697, '벌어지다': 698, '랑': 699, '늘다': 700, '쉬다': 701, '급기야': 702, '커다랗다': 703, '호수': 704, '슬픔': 705, '부부': 706, '씻다': 707, '오르다': 708, '태어나다': 709, '넘다': 710, '얻다': 711, '꼬리': 712, '지니다': 713, '일곱': 714, '바보': 715, '기쁨': 716, '내려가다': 717, '묶다': 718, '신': 719, '가버리다': 720, '덮다': 721, '기어': 722, '음식': 723, '삼키다': 724, '짐승': 725, '겁': 726, '감': 727, '뜰': 728, '아아': 729, '잊다': 730, '꼬': 731, '풀밭': 732, '때리다': 733, '나쁘다': 734, '거인': 735, '끌': 736, '달려들다': 737, '소원': 738, '느끼다': 739, '잃다': 740, '흘리다': 741, '조금': 742, '타다': 743, '화려하다': 744, '막히다': 745, '떨다': 746, '통해': 747, '법': 748, '바': 749, '보석': 750, '엄청나다': 751, '무렵': 752, '그릇': 753, '비명': 754, '기꺼이': 755, '답': 756, '에서도': 757, '원': 758, '가득하다': 759, '상상': 760, '청': 761, '어깨': 762, '단': 763, '움': 764, '추다': 765, '하늘': 766, '금방': 767, '악마': 768, '지내다': 769, '비계': 770, '인간': 771, '거치다': 772, '사방': 773, '우물': 774, '팔': 775, '뻗다': 776, '뿐이다': 777, '무릎': 778, '태우다': 779, '아무리': 780, '하자': 781, '여동생': 782, '단단하다': 783, '확실하다': 784, '대': 785, '상처': 786, '란': 787, '방금': 788, '비': 789, '사냥꾼': 790, '마': 791, '한번': 792, '벗다': 793, '준': 794, '자고': 795, '전나무': 796, '보물': 797, '에게서': 798, '산': 799, '헤엄': 800, '주': 801, '도와주다': 802, '말로': 803, '사': 804, '곁': 805, '왕관': 806, '빛': 807, '로부터': 808, '식탁': 809, '무겁다': 810, '울리다': 811, '잘생기다': 812, '화': 813, '곤': 814, '걱정': 815, '피': 816, '훨씬': 817, '아주머니': 818, '불행': 819, '그날': 820, '모자': 821, '거고': 822, '아뇨': 823, '두꺼비': 824, '탁자': 825, '들여다보다': 826, '남': 827, '근데': 828, '박쥐': 829, '세다': 830, '화가': 831, '만큼이나': 832, '부엌': 833, '수풀': 834, '잠기다': 835, '다다르다': 836, '도로': 837, '그대로': 838, '에다': 839, '둘째': 840, '얼른': 841, '차리다': 842, '가련하다': 843, '식': 844, '이상': 845, '라면': 846, '땐': 847, '훌륭하다': 848, '산아': 849, '원하다': 850, '순무': 851, '국왕': 852, '카라': 853, '바스': 854, '백': 855, '그저': 856, '방망이': 857, '운': 858, '자루': 859, '주변': 860, '해오다': 861, '요리': 862, '지켜보다': 863, '인사': 864, '갑자기': 865, '노래': 866, '바위': 867, '금화': 868, '신사': 869, '라도': 870, '냉큼': 871, '아가': 872, '아직': 873, '녀': 874, '내일': 875, '거의': 876, '상자': 877, '동': 878, '참다': 879, '나라': 880, '원래': 881, '다시다': 882, '달리다': 883, '겨울': 884, '잡고': 885, '바라보다': 886, '다니다': 887, '문제': 888, '이라도': 889, '그림': 890, '벽': 891, '놀란': 892, '돌리다': 893, '꿀꺽': 894, '빠져나가다': 895, '무얼': 896, '감히': 897, '거위': 898, '틈': 899, '학생': 900, '어제': 901, '뛰어다니다': 902, '주위': 903, '우연히': 904, '일단': 905, '이라고': 906, '강아지': 907, '몹시': 908, '찾아오다': 909, '두드리다': 910, '붙다': 911, '첫째': 912, '결과': 913, '모으다': 914, '도망치다': 915, '물리다': 916, '여러분': 917, '쳐다보다': 918, '홀': 919, '아리땁다': 920, '말투': 921, '닫히다': 922, '오리': 923, '가슴': 924, '맞이': 925, '진심': 926, '일찍': 927, '쉬': 928, '분명하다': 929, '흔들다': 930, '깨어나다': 931, '이유': 932, '우린': 933, '책': 934, '산적': 935, '필요': 936, '온통': 937, '먼저': 938, '스스로': 939, '닮다': 940, '데려가다': 941, '처녀': 942, '소': 943, '줍다': 944, '머': 945, '이든': 946, '깃털': 947, '어쩔': 948, '황': 949, '호주머니': 950, '춤': 951, '오래': 952, '벌': 953, '멀리': 954, '닿다': 955, '병들다': 956, '도중': 957, '높다': 958, '주님': 959, '빠르다': 960, '농부': 961, '치고': 962, '마을': 963, '진실로': 964, '태양': 965, '길다': 966, '쭉': 967, '이리': 968, '찰나': 969, '조각': 970, '조심하다': 971, '마르다': 972, '단지': 973, '바이올린': 974, '특히': 975, '까진': 976, '줄기': 977, '뽑다': 978, '털': 979, '물통': 980, '감탄': 981, '닫다': 982, '젬': 983, '가시': 984, '떨리다': 985, '소시지': 986, '마지막': 987, '상추': 988, '차례': 989, '강': 990, '큰소리': 991, '건데': 992, '몰래': 993, '요리사': 994, '끌다': 995, '주지': 996, '생활': 997, '마녀': 998, '몰다': 999, '내지': 1000, '뻔하다': 1001, '깨우다': 1002, '한참': 1003, '오랫동안': 1004, '애가': 1005, '구석': 1006, '명령': 1007, '줄다': 1008, '어보': 1009, '거대하다': 1010, '건네다': 1011, '종종': 1012, '널': 1013, '올라오다': 1014, '텐데': 1015, '그동안': 1016, '혹시': 1017, '떨어뜨리다': 1018, '유령': 1019, '종이': 1020, '아마': 1021, '래': 1022, '어리석다': 1023, '장갑': 1024, '몇몇': 1025, '행복': 1026, '성모': 1027, '시신': 1028, '핥다': 1029, '안다': 1030, '까닭': 1031, '저희': 1032, '피우다': 1033, '가게': 1034, '키우다': 1035, '동굴': 1036, '꿇다': 1037, '연기': 1038, '매달리다': 1039, '리도': 1040, '남아': 1041, '벌써': 1042, '만족하다': 1043, '화들짝': 1044, '도무지': 1045, '예의': 1046, '여름': 1047, '내내': 1048, '그러니까': 1049, '한테': 1050, '구르다': 1051, '수많다': 1052, '모양': 1053, '건너다': 1054, '요술': 1055, '웰레': 1056, '매력': 1057, '능력': 1058, '이오': 1059, '심하다': 1060, '흔들리다': 1061, '히': 1062, '타': 1063, '길이': 1064, '뛰어가다': 1065, '여섯': 1066, '불구': 1067, '별': 1068, '통': 1069, '에서부터': 1070, '힘껏': 1071, '고함': 1072, '최고': 1073, '오누이': 1074, '잖다': 1075, '하곤': 1076, '해내다': 1077, '소용': 1078, '잔뜩': 1079, '저기': 1080, '탓': 1081, '씨': 1082, '보트': 1083, '밀다': 1084, '빼다': 1085, '풀': 1086, '아무래도': 1087, '자가': 1088, '사납다': 1089, '테이블': 1090, '맹세': 1091, '두렵다': 1092, '초대': 1093, '홀로': 1094, '껍질': 1095, '하라': 1096, '옛적': 1097, '곧장': 1098, '충실하다': 1099, '왕도': 1100, '부탁': 1101, '학': 1102, '벗기다': 1103, '마마': 1104, '즐겁다': 1105, '날아가다': 1106, '상냥하다': 1107, '맨': 1108, '드러눕다': 1109, '이루어지다': 1110, '호기심': 1111, '간절하다': 1112, '묻다': 1113, '진주': 1114, '쓰러지다': 1115, '받아들이다': 1116, '개다': 1117, '걸치다': 1118, '하늘나라': 1119, '부드럽다': 1120, '역시': 1121, '둥글다': 1122, '출산': 1123, '관리인': 1124, '성대': 1125, '떡갈나무': 1126, '감사': 1127, '굴뚝': 1128, '점점': 1129, '이해': 1130, '도대체': 1131, '아바마마': 1132, '바다': 1133, '불빛': 1134, '하니': 1135, '대한': 1136, '보기': 1137, '토록': 1138, '낮다': 1139, '수도': 1140, '싫다': 1141, '킬로미터': 1142, '위험': 1143, '빠뜨리다': 1144, '졸리다': 1145, '두운': 1146, '듯이': 1147, '저리': 1148, '소식': 1149, '다소': 1150, '성채': 1151, '약간': 1152, '데려오다': 1153, '드러내다': 1154, '펴다': 1155, '침실': 1156, '따뜻하다': 1157, '뿌리다': 1158, '앞뒤': 1159, '봉': 1160, '굶다': 1161, '대장장이': 1162, '의심': 1163, '싹': 1164, '아저씨': 1165, '핀': 1166, '고통': 1167, '빈': 1168, '무섭다': 1169, '호박': 1170, '순식간': 1171, '품': 1172, '자그마하다': 1173, '자마자': 1174, '짓다': 1175, '잎사귀': 1176, '하리': 1177, '농부가': 1178, '터': 1179, '받치다': 1180, '통과': 1181, '가르치다': 1182, '현명하다': 1183, '터뜨리다': 1184, '족제비': 1185, '처': 1186, '에야': 1187, '장식': 1188, '새롭다': 1189, '미인': 1190, '용서': 1191, '꺼지다': 1192, '챙기다': 1193, '아프다': 1194, '거북이': 1195, '궁': 1196, '하얗다': 1197, '겁니다': 1198, '건지다': 1199, '신하': 1200, '그렇다고': 1201, '게으르다': 1202, '해드리다': 1203, '의하다': 1204, '딸기': 1205, '물어': 1206, '방향': 1207, '암탉': 1208, '미모': 1209, '어부': 1210, '지시': 1211, '나뭇가지': 1212, '보단': 1213, '일부': 1214, '하녀': 1215, '삼다': 1216, '꿈쩍': 1217, '금지': 1218, '잘못': 1219, '혼잣말': 1220, '중얼거리다': 1221, '찍다': 1222, '응': 1223, '거나': 1224, '꼴': 1225, '검': 1226, '다이아몬드': 1227, '뿐': 1228, '두목': 1229, '햇볕': 1230, '가운': 1231, '농장': 1232, '분명': 1233, '시냇물': 1234, '알리다': 1235, '마구간': 1236, '숨기': 1237, '작아지다': 1238, '시도': 1239, '재빨리': 1240, '황소': 1241, '동정녀': 1242, '인정': 1243, '부채': 1244, '불가': 1245, '달': 1246, '써다': 1247, '시계': 1248, '음': 1249, '발톱': 1250, '데리다': 1251, '그제야': 1252, '제안': 1253, '한쪽': 1254, '라일락': 1255, '말씀드리다': 1256, '사용': 1257, '얼마': 1258, '조언': 1259, '도움': 1260, '발자국': 1261, '소유': 1262, '이냐': 1263, '용': 1264, '천사': 1265, '보이': 1266, '멋지다': 1267, '가엾다': 1268, '우유': 1269, '이웃': 1270, '딸아이': 1271, '연': 1272, '종': 1273, '밥': 1274, '복도': 1275, '독수리': 1276, '기겁': 1277, '입히다': 1278, '맛있다': 1279, '스럽게': 1280, '스런': 1281, '한편': 1282, '통로': 1283, '지나': 1284, '냄새': 1285, '종일': 1286, '파리': 1287, '심지어': 1288, '로운': 1289, '금고': 1290, '옮기다': 1291, '숨기다': 1292, '흥겹다': 1293, '양치기': 1294, '아무렇다': 1295, '두려움': 1296, '어쨌든': 1297, '종류': 1298, '갇히다': 1299, '젖': 1300, '먹이다': 1301, '지혜': 1302, '따라오다': 1303, '폐하': 1304, '확인': 1305, '집어넣다': 1306, '행운': 1307, '새다': 1308, '도둑': 1309, '훔치다': 1310, '가시나무': 1311, '당하다': 1312, '변화': 1313, '마저': 1314, '랍': 1315, '용기': 1316, '저녁식사': 1317, '어이': 1318, '운명': 1319, '끼': 1320, '사정': 1321, '또다시': 1322, '미끄러지다': 1323, '잠자리': 1324, '당기다': 1325, '어마': 1326, '다가가다': 1327, '메': 1328, '탄식': 1329, '어둠': 1330, '갖다': 1331, '칼': 1332, '부러지다': 1333, '작고': 1334, '목숨': 1335, '다짐': 1336, '찢다': 1337, '워낙': 1338, '한숨': 1339, '방울': 1340, '벌이': 1341, '메뚜기': 1342, '리하': 1343, '한다는': 1344, '깜빡': 1345, '내려다보다': 1346, '누군지': 1347, '치우다': 1348, '다물다': 1349, '상': 1350, '얼다': 1351, '로는': 1352, '보답': 1353, '물건': 1354, '내려놓다': 1355, '뿔': 1356, '닦다': 1357, '데이': 1358, '색': 1359, '대지': 1360, '열매': 1361, '마련': 1362, '모퉁이': 1363, '끝나다': 1364, '견디다': 1365, '노파': 1366, '커튼': 1367, '늦다': 1368, '일도': 1369, '의사': 1370, '닦이다': 1371, '뻔': 1372, '초상화': 1373, '어딨다': 1374, '걷다': 1375, '온갖': 1376, '거행': 1377, '제대로': 1378, '물레': 1379, '몽둥이': 1380, '피곤하다': 1381, '사다': 1382, '이빨': 1383, '샘': 1384, '수만': 1385, '방앗간': 1386, '남기다': 1387, '위대하다': 1388, '그렇지만': 1389, '상인': 1390, '보라': 1391, '주의': 1392, '가야': 1393, '중요하다': 1394, '아끼다': 1395, '언': 1396, '편하다': 1397, '영리하다': 1398, '버터': 1399, '가능하다': 1400, '칭찬': 1401, '충분하다': 1402, '다행하다': 1403, '앵무새': 1404, '그로': 1405, '가만히': 1406, '고민': 1407, '달려오다': 1408, '잔': 1409, '이틀': 1410, '재판': 1411, '다행': 1412, '기르다': 1413, '조롱': 1414, '벌떡': 1415, '잔디': 1416, '높이': 1417, '이야기': 1418, '낯선': 1419, '완성': 1420, '데우다': 1421, '녀석': 1422, '소용없다': 1423, '의도': 1424, '척': 1425, '천정': 1426, '열두': 1427, '보고서': 1428, '존': 1429, '열심히': 1430, '만은': 1431, '이던': 1432, '라곤': 1433, '거짓말': 1434, '영혼': 1435, '신의': 1436, '자비': 1437, '샛길': 1438, '푼': 1439, '아뢰다': 1440, '곧바로': 1441, '셋': 1442, '비추다': 1443, '걸어가다': 1444, '여보': 1445, '부모님': 1446, '비치다': 1447, '착각': 1448, '여성': 1449, '찾아보다': 1450, '해마': 1451, '얼음': 1452, '필요하다': 1453, '기절': 1454, '굳이': 1455, '송아지': 1456, '바늘': 1457, '그루': 1458, '어쩜': 1459, '당황': 1460, '혀': 1461, '표현': 1462, '구해': 1463, '감다': 1464, '맺다': 1465, '좁다': 1466, '먼지': 1467, '읽다': 1468, '뚝': 1469, '이따금': 1470, '곡식': 1471, '강력하다': 1472, '내놓다': 1473, '음악': 1474, '근처': 1475, '울타리': 1476, '덥다': 1477, '하나로': 1478, '설명': 1479, '오리가': 1480, '특별하다': 1481, '도끼': 1482, '둘러보다': 1483, '올려놓다': 1484, '즐거움': 1485, '포옹': 1486, '내버리다': 1487, '놀이': 1488, '걸음': 1489, '연못': 1490, '놓아두다': 1491, '해치다': 1492, '외': 1493, '이루': 1494, '보드랍다': 1495, '남성': 1496, '빌리다': 1497, '서서': 1498, '가도': 1499, '가방': 1500, '자락': 1501, '빛나다': 1502, '인상': 1503, '가져다주다': 1504, '궁궐': 1505, '불행하다': 1506, '이기': 1507, '군': 1508, '트리': 1509, '살아나다': 1510, '센티미터': 1511, '만이': 1512, '덧붙이다': 1513, '내쉬다': 1514, '아이고': 1515, '밝다': 1516, '뜯다': 1517, '포도주': 1518, '조각상': 1519, '뒤따르다': 1520, '오른쪽': 1521, '정심': 1522, '찬찬하다': 1523, '뛰어들다': 1524, '이불': 1525, '모이다': 1526, '성공하다': 1527, '짓': 1528, '낮': 1529, '밝혀지다': 1530, '조약돌': 1531, '소유자': 1532, '치즈': 1533, '예': 1534, '핫케이크': 1535, '아부지': 1536, '부분': 1537, '빠져나오다': 1538, '똑같다': 1539, '고요': 1540, '기운': 1541, '이리저리': 1542, '포기': 1543, '입도': 1544, '깨부수다': 1545, '어렵다': 1546, '지만': 1547, '꼼짝': 1548, '똑똑': 1549, '차': 1550, '생': 1551, '잽싸다': 1552, '모금': 1553, '시르다': 1554, '버릇': 1555, '호의': 1556, '핏자국': 1557, '반하다': 1558, '류트': 1559, '뒤지다': 1560, '부지런하다': 1561, '불길': 1562, '짜다': 1563, '여기저기': 1564, '자식': 1565, '굳다': 1566, '건네주다': 1567, '가구': 1568, '떠오르다': 1569, '마구': 1570, '움직이다': 1571, '금빛': 1572, '깨': 1573, '금은': 1574, '살며시': 1575, '천': 1576, '사다리': 1577, '공중': 1578, '씩씩하다': 1579, '심부름': 1580, '맛보다': 1581, '붙들다': 1582, '살이': 1583, '만들어지다': 1584, '달리기': 1585, '유산': 1586, '꿈': 1587, '돋다': 1588, '큼직하다': 1589, '가두다': 1590, '피리': 1591, '가르다': 1592, '골': 1593, '매달다': 1594, '행동': 1595, '형제': 1596, '거란': 1597, '주어': 1598, '평생': 1599, '병사': 1600, '마음씨': 1601, '기회': 1602, '조심': 1603, '우물가': 1604, '만에': 1605, '힘들다': 1606, '번만': 1607, '붙잡다': 1608, '배다': 1609, '달래다': 1610, '유모': 1611, '따님': 1612, '지체': 1613, '순': 1614, '발걸음': 1615, '말리': 1616, '포대자루': 1617, '굴': 1618, '허사': 1619, '선반': 1620, '들르다': 1621, '끌어당기다': 1622, '꽁꽁': 1623, '허공': 1624, '지하실': 1625, '다녀가다': 1626, '그나마': 1627, '의붓딸': 1628, '이라는': 1629, '주기': 1630, '바쁘다': 1631, '조건': 1632, '이네': 1633, '없어지다': 1634, '신선하다': 1635, '거닐다': 1636, '놀리다': 1637, '떼': 1638, '이끌다': 1639, '목초지': 1640, '어째': 1641, '강하다': 1642, '품다': 1643, '돌아보다': 1644, '말르다': 1645, '세공품': 1646, '저런': 1647, '벗어나다': 1648, '복': 1649, '비탄': 1650, '에까지': 1651, '잠그다': 1652, '진지하다': 1653, '원체': 1654, '부유하다': 1655, '일으키다': 1656, '부서지다': 1657, '가볍다': 1658, '현관문': 1659, '직전': 1660, '하룻밤': 1661, '부다': 1662, '상대방': 1663, '다르다': 1664, '바뀌다': 1665, '허락': 1666, '살아가다': 1667, '덮이다': 1668, '대가': 1669, '지니': 1670, '글쎄': 1671, '괜찮다': 1672, '다섯': 1673, '가위': 1674, '보호': 1675, '끌리다': 1676, '갈라지다': 1677, '대고': 1678, '젖다': 1679, '더하다': 1680, '들려주다': 1681, '시어': 1682, '본래': 1683, '장이': 1684, '숲속': 1685, '산산조각': 1686, '낼': 1687, '질': 1688, '다짜고짜': 1689, '마당': 1690, '층': 1691, '모루': 1692, '휘두르다': 1693, '치르다': 1694, '물속': 1695, '바치다': 1696, '몸소': 1697, '오로라': 1698, '해달라다': 1699, '잡히다': 1700, '쏙': 1701, '표': 1702, '큰딸': 1703, '뚜껑': 1704, '분노': 1705, '치유': 1706, '그러하다': 1707, '드릴': 1708, '옳다': 1709, '리가': 1710, '담기다': 1711, '고귀하다': 1712, '감추다': 1713, '에게는': 1714, '독사': 1715, '다해': 1716, '까짓': 1717, '하마터면': 1718, '미치다': 1719, '잠들다': 1720, '에선': 1721, '빨': 1722, '들어주다': 1723, '알아보다': 1724, '내뱉다': 1725, '낫다': 1726, '사내': 1727, '부여잡다': 1728, '자녀': 1729, '느낌': 1730, '새총': 1731, '잔인하다': 1732, '허리': 1733, '실패하다': 1734, '지치다': 1735, '기간': 1736, '인걸': 1737, '찾아내다': 1738, '이내': 1739, '춥다': 1740, '똑': 1741, '찢어지다': 1742, '외출': 1743, '달빛': 1744, '끊다': 1745, '식칼': 1746, '소망': 1747, '덫': 1748, '성격': 1749, '진': 1750, '구나': 1751, '제우스': 1752, '꽂다': 1753, '한시': 1754, '휴식': 1755, '이니': 1756, '이어지다': 1757, '저렇게': 1758, '거만하다': 1759, '좋아지다': 1760, '그땐': 1761, '제외': 1762, '막다': 1763, '건드리다': 1764, '자의': 1765, '권총': 1766, '땅바닥': 1767, '눈빛': 1768, '흰색': 1769, '해안가': 1770, '시기': 1771, '장소': 1772, '분별': 1773, '쬐다': 1774, '돕다': 1775, '건가': 1776, '우아하다': 1777, '사뭇': 1778, '사정없이': 1779, '넓다': 1780, '돌이': 1781, '조용하다': 1782, '메리': 1783, '맞추다': 1784, '술': 1785, '보다도': 1786, '기껏': 1787, '숙녀': 1788, '크기': 1789, '최고급': 1790, '베개': 1791, '모': 1792, '으론': 1793, '거두다': 1794, '이슬': 1795, '두둑': 1796, '오지': 1797, '고생': 1798, '신기다': 1799, '얹다': 1800, '공간': 1801, '둥지': 1802, '장난': 1803, '적당하다': 1804, '심장': 1805, '곱다': 1806, '도저히': 1807, '지금껏': 1808, '귀찮다': 1809, '불쑥': 1810, '경우': 1811, '문지르다': 1812, '죄': 1813, '가요': 1814, '지붕': 1815, '햇살': 1816, '웬': 1817, '비참하다': 1818, '구실': 1819, '붙잡히다': 1820, '매': 1821, '뿌리': 1822, '일로': 1823, '휙': 1824, '확신': 1825, '장모님': 1826, '거울': 1827, '복수': 1828, '간신히': 1829, '사형수': 1830, '절망': 1831, '똑같이': 1832, '토끼다': 1833, '도마뱀': 1834, '뛰어내리다': 1835, '비다': 1836, '거머': 1837, '재능': 1838, '쏟다': 1839, '턱수염': 1840, '그물': 1841, '인도': 1842, '차례대로': 1843, '어머나': 1844, '당': 1845, '생전': 1846, '밤새': 1847, '인가': 1848, '안전하다': 1849, '보관': 1850, '붉다': 1851, '아뿔싸': 1852, '확': 1853, '이기다': 1854, '은화': 1855, '변신': 1856, '올려다보다': 1857, '미터': 1858, '느리다': 1859, '궤짝': 1860, '기대다': 1861, '닢': 1862, '윌리엄': 1863, '가기': 1864, '과연': 1865, '마저도': 1866, '달리': 1867, '손수레': 1868, '황새': 1869, '몫': 1870, '익다': 1871, '누더기': 1872, '계획': 1873, '사탕': 1874, '깊숙이': 1875, '투성이': 1876, '탐욕': 1877, '죽음': 1878, '예견': 1879, '평소': 1880, '뽐내다': 1881, '루비': 1882, '빛깔': 1883, '전해': 1884, '망': 1885, '감정': 1886, '불쾌하다': 1887, '괴롭히다': 1888, '당당하다': 1889, '가리키다': 1890, '대리석': 1891, '새기다': 1892, '묵': 1893, '방도': 1894, '풍': 1895, '반면': 1896, '잃어버리다': 1897, '모자라다': 1898, '천하다': 1899, '퍼지다': 1900, '공손하다': 1901, '태도': 1902, '황무지': 1903, '관리': 1904, '세례': 1905, '바가지': 1906, '머릿속': 1907, '무시무시하다': 1908, '수레바퀴': 1909, '소릴': 1910, '아우': 1911, '헨리': 1912, '신중': 1913, '깃점': 1914, '개울': 1915, '선택': 1916, '일보': 1917, '그토록': 1918, '녹다': 1919, '동행': 1920, '역할': 1921, '막대': 1922, '가만': 1923, '지워지다': 1924, '뺨': 1925, '입술': 1926, '먹이': 1927, '악당': 1928, '재산': 1929, '요람': 1930, '안고': 1931, '계시': 1932, '수행원': 1933, '새벽': 1934, '친오빠': 1935, '썩': 1936, '굉음': 1937, '유유': 1938, '에라도': 1939, '초록색': 1940, '감싸다': 1941, '망원경': 1942, '발끈': 1943, '만큼의': 1944, '부족하다': 1945, '래지': 1946, '하인츠': 1947, '심다': 1948, '싸움': 1949, '심해지다': 1950, '탈출': 1951, '겠다': 1952, '코지': 1953, '사촌동생': 1954, '야생': 1955, '암': 1956, '망토': 1957, '섞이다': 1958, '과는': 1959, '멀어지다': 1960, '날다': 1961, '나날이': 1962, '싹둑': 1963, '움직': 1964, '오랜': 1965, '서도': 1966, '회색': 1967, '그나저나': 1968, '조차도': 1969, '쫓아내다': 1970, '성은': 1971, '창백하다': 1972, '다스리다': 1973, '보살피다': 1974, '골짜기': 1975, '첨벙': 1976, '한동안': 1977, '라네': 1978, '지푸라기': 1979, '비슷하다': 1980, '충심': 1981, '충성': 1982, '긁다': 1983, '계란': 1984, '쪼': 1985, '악기': 1986, '돌아서다': 1987, '제일': 1988, '소문': 1989, '통닭': 1990, '느껴지다': 1991, '신랑': 1992, '고무줄': 1993, '벗겨지다': 1994, '재촉': 1995, '건강하다': 1996, '의식': 1997, '전부': 1998, '밉다': 1999, '려고': 2000, '말리다': 2001, '각종': 2002, '속옷': 2003, '잠깐': 2004, '실수': 2005, '갈색': 2006, '방안': 2007, '불가능하다': 2008, '게요': 2009, '도시': 2010, '지도자': 2011, '머릿결': 2012, '한탄': 2013, '샘물': 2014, '해치': 2015, '앉히다': 2016, '재우다': 2017, '청소': 2018, '달콤하다': 2019, '요청': 2020, '부축': 2021, '펼치다': 2022, '창': 2023, '달싹': 2024, '마치다': 2025, '안뜰': 2026, '집안': 2027, '숯': 2028, '바램': 2029, '폭발': 2030, '는걸': 2031, '정중하다': 2032, '가만있다': 2033, '감사하다': 2034, '짐': 2035, '오싹': 2036, '도리': 2037, '이제야': 2038, '날카롭다': 2039, '일랑은': 2040, '놀랍다': 2041, '스르르': 2042, '쑥': 2043, '날아오르다': 2044, '키스': 2045, '줄어들다': 2046, '갖추다': 2047, '똑똑하다': 2048, '반짝이다': 2049, '쌓이다': 2050, '갈망': 2051, '짖다': 2052, '으르렁': 2053, '갈기갈기': 2054, '성주': 2055, '피다': 2056, '아하': 2057, '총': 2058, '즉': 2059, '심': 2060, '짝': 2061, '어쩌': 2062, '잡아먹히다': 2063, '강풍': 2064, '살기': 2065, '일행': 2066, '선포': 2067, '가락': 2068, '환상': 2069, '나중': 2070, '포근하다': 2071, '드르렁': 2072, '배고프다': 2073, '완벽하다': 2074, '쿨쿨': 2075, '구한': 2076, '으로써': 2077, '원숭이': 2078, '그이': 2079, '와장창': 2080, '깨지다': 2081, '주제': 2082, '최상급': 2083, '접다': 2084, '메이': 2085, '꾹': 2086, '연인': 2087, '양식': 2088, '창고': 2089, '초': 2090, '보화': 2091, '달아오르다': 2092, '지상': 2093, '덮개': 2094, '무례하다': 2095, '두건': 2096, '채운': 2097, '파다': 2098, '형상': 2099, '등등': 2100, '후려': 2101, '발끝': 2102, '공작부인': 2103, '흥': 2104, '깊이': 2105, '자빠지다': 2106, '백성': 2107, '묵고': 2108, '복장': 2109, '이러하다': 2110, '고백': 2111, '약': 2112, '넘치다': 2113, '보따리': 2114, '언제나': 2115, '호': 2116, '간단하다': 2117, '골무': 2118, '표정': 2119, '모닥불': 2120, '녹이다': 2121, '눈앞': 2122, '괴롭다': 2123, '마침': 2124, '바꾸다': 2125, '딸애': 2126, '비둘기': 2127, '푹': 2128, '케이스': 2129, '떨치다': 2130, '막내딸': 2131, '신기하다': 2132, '열거': 2133, '며칠': 2134, '전갈': 2135, '정': 2136, '진기하다': 2137, '고맙다': 2138, '두더지': 2139, '한가운데': 2140, '아쉽다': 2141, '건강': 2142, '되찾다': 2143, '경이': 2144, '쥐덫': 2145, '따라잡다': 2146, '죽지': 2147, '침묵': 2148, '재차': 2149, '께선': 2150, '목욕': 2151, '천천히': 2152, '날씨': 2153, '생명': 2154, '붙이다': 2155, '이르렀': 2156, '상한': 2157, '께서는': 2158, '되돌아오다': 2159, '삶': 2160, '지는': 2161, '이상하다': 2162, '깔다': 2163, '짚': 2164, '깜깜': 2165, '연회': 2166, '장작': 2167, '나름': 2168, '민둥산': 2169, '분별이': 2170, '양쪽': 2171, '먹기': 2172, '지난': 2173, '무너지다': 2174, '한밤중': 2175, '아마도': 2176, '순금': 2177, '전달': 2178, '포': 2179, '내겐': 2180, '이군': 2181, '단번': 2182, '세례식': 2183, '호랑이': 2184, '신경': 2185, '이마': 2186, '작정': 2187, '맑은': 2188, '달구지': 2189, '살피다': 2190, '절반': 2191, '이구나': 2192, '빗장': 2193, '물웅덩이': 2194, '담': 2195, '우울하다': 2196, '분도': 2197, '간장': 2198, '넘어지다': 2199, '왼쪽': 2200, '몰골': 2201, '어른': 2202, '농가': 2203, '서둘다': 2204, '거들다': 2205, '의미': 2206, '표시': 2207, '볼품': 2208, '양동이': 2209, '틀리다': 2210, '속삭이다': 2211, '멍청하다': 2212, '외투': 2213, '게으름뱅이': 2214, '엄숙하다': 2215, '구걸': 2216, '값': 2217, '반대쪽': 2218, '어머니': 2219, '뱀': 2220, '찾아가다': 2221, '비싸다': 2222, '차갑다': 2223, '메다': 2224, '쇠사슬': 2225, '영문': 2226, '구름': 2227, '신어': 2228, '절': 2229, '담그다': 2230, '눈치': 2231, '채다': 2232, '펄쩍': 2233, '나리': 2234, '따로': 2235, '전체': 2236, '덜': 2237, '시원하다': 2238, '추위': 2239, '겨': 2240, '자세': 2241, '밖엔': 2242, '부러': 2243, '밤늦다': 2244, '펼쳐지다': 2245, '인하다': 2246, '어딜': 2247, '밝히다': 2248, '동전': 2249, '그림자': 2250, '칠': 2251, '초조하다': 2252, '아우성': 2253, '건물': 2254, '까딱': 2255, '도망가다': 2256, '있었더랬': 2257, '지역': 2258, '글씨': 2259, '주신': 2260, '부위': 2261, '온화하다': 2262, '차분하다': 2263, '선생님': 2264, '복종': 2265, '모여들다': 2266, '방이': 2267, '지경': 2268, '안녕하다': 2269, '메아리': 2270, '그만하다': 2271, '애걸': 2272, '복걸': 2273, '전쟁': 2274, '회복하다': 2275, '정확하다': 2276, '일요일': 2277, '틈새': 2278, '일어서다': 2279, '기어이': 2280, '꼭지': 2281, '과부': 2282, '그대': 2283, '알려지다': 2284, '도리어': 2285, '툭툭': 2286, '위엄': 2287, '재': 2288, '톡': 2289, '베드로': 2290, '찬': 2291, '까지만': 2292, '별반': 2293, '성찬': 2294, '미안하다': 2295, '최대한': 2296, '헹구': 2297, '반기': 2298, '소음': 2299, '가세': 2300, '스럽다': 2301, '방랑': 2302, '두껍다': 2303, '굽다': 2304, '경탄': 2305, '문지기': 2306, '십': 2307, '밤낮': 2308, '찬란하다': 2309, '가공품': 2310, '놀': 2311, '판결': 2312, '매료': 2313, '토지': 2314, '후다닥': 2315, '무사하다': 2316, '상관': 2317, '낡다': 2318, '산지': 2319, '주민': 2320, '비비': 2321, '나이프': 2322, '론': 2323, '구덩이': 2324, '가축': 2325, '유행': 2326, '망하다': 2327, '저건': 2328, '용감하다': 2329, '그치다': 2330, '멧돼지': 2331, '동료': 2332, '전속력': 2333, '위층': 2334, '공기': 2335, '사례': 2336, '권': 2337, '중이': 2338, '되게': 2339, '차려': 2340, '꿀맛': 2341, '도랑': 2342, '앗': 2343, '얼씨구': 2344, '회초리': 2345, '공포': 2346, '어기다': 2347, '찬장': 2348, '미소': 2349, '어조': 2350, '명성': 2351, '이루다': 2352, '아둔하다': 2353, '무시': 2354, '젖히다': 2355, '시체': 2356, '시뻘겋다': 2357, '행렬': 2358, '가로지르다': 2359, '위치': 2360, '마무리': 2361, '둘러싸이다': 2362, '얇다': 2363, '와의': 2364, '사형': 2365, '냄비': 2366, '통째': 2367, '양은': 2368, '젖소': 2369, '결론': 2370, '자도': 2371, '비범하다': 2372, '망설이다': 2373, '쫓아가다': 2374, '갈가리': 2375, '모자라': 2376, '가족': 2377, '가면': 2378, '부리': 2379, '먹고다': 2380, '오렌지': 2381, '싸다': 2382, '장사': 2383, '다녀오다': 2384, '편': 2385, '지지': 2386, '저쪽': 2387, '프랑스': 2388, '완강': 2389, '방황': 2390, '민첩하다': 2391, '생기': 2392, '실력': 2393, '지하': 2394, '재밌다': 2395, '실제': 2396, '시가': 2397, '그간': 2398, '겪다': 2399, '만을': 2400, '아낙': 2401, '만이라도': 2402, '쟁기': 2403, '위험하다': 2404, '은빛': 2405, '보아': 2406, '윗': 2407, '출입구': 2408, '깡충깡충': 2409, '셋째': 2410, '밭': 2411, '하였더랬': 2412, '차마': 2413, '떼다': 2414, '셔츠': 2415, '리자': 2416, '무덤': 2417, '장남': 2418, '성문': 2419, '부리다': 2420, '킬로그램': 2421, '유일하다': 2422, '잡': 2423, '화환': 2424, '옷가지': 2425, '꾼': 2426, '불리다': 2427, '제비': 2428, '휴일': 2429, '거뜬하다': 2430, '가끔': 2431, '깔리다': 2432, '흔적': 2433, '보상': 2434, '대략': 2435, '화사하다': 2436, '가호': 2437, '누리': 2438, '새까맣다': 2439, '강렬하다': 2440, '톡톡': 2441, '헤치다': 2442, '밀': 2443, '안정': 2444, '취하': 2445, '사신': 2446, '너머': 2447, '노력': 2448, '터지다': 2449, '꿀잠': 2450, '벌집': 2451, '손살': 2452, '지나치다': 2453, '내주다': 2454, '인가요': 2455, '암소': 2456, '헤아리다': 2457, '파멸': 2458, '살인자': 2459, '일어나고': 2460, '싸우다': 2461, '강가': 2462, '제공': 2463, '방지': 2464, '살금살금': 2465, '왕궁': 2466, '함': 2467, '시각': 2468, '장점': 2469, '박히다': 2470, '부스러기': 2471, '이를': 2472, '거미': 2473, '나팔': 2474, '소름': 2475, '바란': 2476, '버섯': 2477, '귀부인': 2478, '뜻': 2479, '숙고': 2480, '뒤편': 2481, '꼬마': 2482, '강물': 2483, '흩다': 2484, '웃음': 2485, '스피드': 2486, '굽히다': 2487, '상당하다': 2488, '행사': 2489, '운반': 2490, '넘어서다': 2491, '거듭': 2492, '퍼': 2493, '되살리다': 2494, '황야': 2495, '벌컥': 2496, '와인': 2497, '수건': 2498, '성용': 2499, '웅장': 2500, '여름철': 2501, '판자': 2502, '번개': 2503, '대팻밥': 2504, '시험': 2505, '이파리': 2506, '며느리': 2507, '지라': 2508, '임': 2509, '듬뿍': 2510, '증명': 2511, '건달': 2512, '만난': 2513, '베풀다': 2514, '반도': 2515, '해나': 2516, '깃발': 2517, '사연': 2518, '인생': 2519, '우릴': 2520, '개골개골': 2521, '기만': 2522, '존경': 2523, '편안하다': 2524, '에서야': 2525, '깡충': 2526, '고정': 2527, '시야': 2528, '성안': 2529, '잡아당기다': 2530, '호감': 2531, '갈기': 2532, '이글거리다': 2533, '화염': 2534, '만날': 2535, '위쪽': 2536, '반복': 2537, '희생': 2538, '캐다': 2539, '날개': 2540, '박다': 2541, '더럽다': 2542, '도울': 2543, '동요': 2544, '열병': 2545, '해선': 2546, '애도': 2547, '앓다': 2548, '날아오다': 2549, '무식하다': 2550, '분만': 2551, '뚝뚝': 2552, '낮선': 2553, '무리': 2554, '기울이다': 2555, '거북': 2556, '엿보다': 2557, '시장': 2558, '식량': 2559, '처지': 2560, '가까스로': 2561, '덥석': 2562, '오후': 2563, '에만': 2564, '멍청이': 2565, '풍덩': 2566, '합창': 2567, '꾸준하다': 2568, '탄원': 2569, '렀': 2570, '축복': 2571, '서툴다': 2572, '찔리다': 2573, '가라앉다': 2574, '꾸미다': 2575, '빙빙': 2576, '그거': 2577, '수천': 2578, '우기다': 2579, '불편하다': 2580, '팔자': 2581, '휘파람': 2582, '애쓰다': 2583, '매달': 2584, '작대기': 2585, '휘저': 2586, '적절하다': 2587, '대령': 2588, '빨다': 2589, '파악': 2590, '치의': 2591, '뚫다': 2592, '약하다': 2593, '붙이': 2594, '명량': 2595, '끌어안다': 2596, '시합': 2597, '결승': 2598, '문득': 2599, '돌려주다': 2600, '자꾸': 2601, '으로도': 2602, '앞서': 2603, '쏘다': 2604, '최선': 2605, '아깝다': 2606, '제물': 2607, '무럭무럭': 2608, '몽땅': 2609, '주일': 2610, '증오': 2611, '창조': 2612, '닭장': 2613, '홰': 2614, '상대로': 2615, '사리': 2616, '무거워': 2617, '적히다': 2618, '늘': 2619, '그랬더니': 2620, '집행': 2621, '조마조마하다': 2622, '기대': 2623, '미처': 2624, '거구': 2625, '약초': 2626, '막내아들': 2627, '후회': 2628, '피부': 2629, '치면': 2630, '군대': 2631, '람': 2632, '당연하다': 2633, '재미나': 2634, '휘둥그레지다': 2635, '올려주다': 2636, '성하다': 2637, '고문': 2638, '세수': 2639, '마중': 2640, '오래되다': 2641, '북': 2642, '지고': 2643, '비난': 2644, '이면': 2645, '버티다': 2646, '비웃다': 2647, '껄껄': 2648, '누르다': 2649, '신고': 2650, '영원': 2651, '들뜨다': 2652, '여서': 2653, '마자': 2654, '위엔': 2655, '달라붙다': 2656, '빨래': 2657, '따라가다': 2658, '처리': 2659, '당시': 2660, '적도': 2661, '지속': 2662, '잠잠하다': 2663, '주름': 2664, '부들부들': 2665, '발라': 2666, '내쫓다': 2667, '랍니': 2668, '회의': 2669, '속도': 2670, '불유쾌': 2671, '기억': 2672, '비우다': 2673, '욕': 2674, '충고': 2675, '쾅': 2676, '들어맞다': 2677, '되돌아가다': 2678, '거절': 2679, '친절하다': 2680, '매우': 2681, '질병': 2682, '백작': 2683, '거랍니': 2684, '틀림없다': 2685, '짙다': 2686, '빼': 2687, '송이': 2688, '도취': 2689, '별안간': 2690, '솥': 2691, '해대': 2692, '자초지종': 2693, '나아': 2694, '수영': 2695, '정복': 2696, '궁금하다': 2697, '다치다': 2698, '생각나다': 2699, '좌': 2700, '청혼': 2701, '예배당': 2702, '웅덩이': 2703, '호위': 2704, '반죽': 2705, '얼': 2706, '가을': 2707, '인지도': 2708, '몸집': 2709, '풀리다': 2710, '쌍둥이': 2711, '예정': 2712, '집의': 2713, '밤색': 2714, '심해': 2715, '벙어리': 2716, '떠올리다': 2717, '덩어리': 2718, '황금별': 2719, '자체': 2720, '도통': 2721, '볼링': 2722, '골똘히': 2723, '대체': 2724, '목동': 2725, '애원': 2726, '밀려오다': 2727, '봄': 2728, '고서': 2729, '불평': 2730, '중간': 2731, '썩다': 2732, '기독교인': 2733, '바치': 2734, '답례': 2735, '그깟': 2736, '농작물': 2737, '분수': 2738, '버려진': 2739, '회복': 2740, '가마': 2741, '입구': 2742, '건너편': 2743, '별장': 2744, '개수': 2745, '숙이다': 2746, '달팽이': 2747, '싫어하다': 2748, '움켜잡다': 2749, '시늉': 2750, '곱하기': 2751, '애기': 2752, '로서': 2753, '날쌔': 2754, '뛰어오르다': 2755, '벌벌': 2756, '여자애': 2757, '바다로': 2758, '물방울': 2759, '두개골': 2760, '어머': 2761, '개암나무': 2762, '구부리다': 2763, '발짝': 2764, '자물쇠': 2765, '솟다': 2766, '오래전': 2767, '쿵': 2768, '질투': 2769, '숫': 2770, '으리': 2771, '안내': 2772, '근사하다': 2773, '양념': 2774, '담들다': 2775, '게걸': 2776, '우기': 2777, '요즘': 2778, '분간': 2779, '가든': 2780, '세릴': 2781, '라임': 2782, '튀다': 2783, '순수하다': 2784, '일렬': 2785, '엄중하다': 2786, '경고': 2787, '잔디밭': 2788, '게으름': 2789, '근위병': 2790, '부터는': 2791, '예언': 2792, '농담': 2793, '위풍': 2794, '멍': 2795, '자애롭다': 2796, '꽥': 2797, '나비': 2798, '일시': 2799, '선박': 2800, '차츰': 2801, '진정': 2802, '수년': 2803, '식기': 2804, '마땅하다': 2805, '응보': 2806, '처신': 2807, '고갈': 2808, '털다': 2809, '베': 2810, '자시': 2811, '면서': 2812, '솔직하다': 2813, '캐': 2814, '자존심': 2815, '예수님': 2816, '묵다': 2817, '따지다': 2818, '밖에는': 2819, '상체': 2820, '다정하다': 2821, '상쾌하다': 2822, '잠자코': 2823, '트': 2824, '탈': 2825, '주군': 2826, '왁스': 2827, '장대': 2828, '가난': 2829, '군복': 2830, '무니': 2831, '안녕': 2832, '덕분': 2833, '교수': 2834, '벽난로': 2835, '휘황': 2836, '내려지다': 2837, '선량하다': 2838, '품성': 2839, '격렬하다': 2840, '에다가': 2841, '술잔': 2842, '고삐': 2843, '효과': 2844, '괜히': 2845, '마란': 2846, '기사': 2847, '동화책': 2848, '보리': 2849, '족속': 2850, '울음': 2851, '떨구다': 2852, '비밀': 2853, '재물': 2854, '깨닫다': 2855, '도살업': 2856, '싹둑싹둑': 2857, '서로서로': 2858, '이거지': 2859, '글썽': 2860, '귀가': 2861, '정리': 2862, '퐁당': 2863, '훑다': 2864, '도우': 2865, '러': 2866, '난데없이': 2867, '돌진': 2868, '박아': 2869, '개구': 2870, '탁': 2871, '넘기다': 2872, '만의': 2873, '헌신': 2874, '이쁘다': 2875, '만세': 2876, '끝내주다': 2877, '고치다': 2878, '무늬': 2879, '비교': 2880, '오라비': 2881, '뛰어넘다': 2882, '풀무': 2883, '부정': 2884, '여편네': 2885, '설레다': 2886, '주체': 2887, '긴요': 2888, '가리다': 2889, '자넨': 2890, '에서보다': 2891, '구경': 2892, '질리다': 2893, '쾌활하다': 2894, '신성하다': 2895, '갉아먹다': 2896, '과의': 2897, '우': 2898, '씌우다': 2899, '동이': 2900, '다가': 2901, '반대': 2902, '아버님': 2903, '부로': 2904, '머뭇거리다': 2905, '째다': 2906, '만지다': 2907, '먹여주다': 2908, '기름': 2909, '묻히다': 2910, '외진': 2911, '부디': 2912, '어쨌건': 2913, '알리': 2914, '배기': 2915, '퉁퉁': 2916, '옆방': 2917, '헛수고': 2918, '뚱땡이': 2919, '오이': 2920, '온실': 2921, '주먹질': 2922, '조그마하다': 2923, '세심': 2924, '이어서': 2925, '본능': 2926, '꽉': 2927, '치명': 2928, '전의': 2929, '올라타다': 2930, '씨앗': 2931, '자라나다': 2932, '띠': 2933, '허겁지겁': 2934, '안심': 2935, '이제껏': 2936, '매년': 2937, '장미꽃': 2938, '더구나': 2939, '끊어지다': 2940, '자지': 2941, '취한': 2942, '제멋대로': 2943, '이래도': 2944, '사주다': 2945, '라니까': 2946, '눕힌': 2947, '재미': 2948, '경솔하다': 2949, '덩치': 2950, '연하다': 2951, '지식': 2952, '세차': 2953, '사기': 2954, '진실': 2955, '정치': 2956, '갓': 2957, '추격': 2958, '포위': 2959, '누우': 2960, '관심': 2961, '일지': 2962, '눈망울': 2963, '창가': 2964, '격려': 2965, '연민': 2966, '지빠귀': 2967, '우르르': 2968, '몰리다': 2969, '찾기': 2970, '얼싸안다': 2971, '하란': 2972, '주저앉다': 2973, '펑펑': 2974, '광부': 2975, '더욱': 2976, '영': 2977, '로움': 2978, '깡패': 2979, '떡': 2980, '상하': 2981, '두루미': 2982, '급': 2983, '하든': 2984, '정장': 2985, '넷': 2986, '소도': 2987, '대수': 2988, '신뢰': 2989, '움큼': 2990, '광석': 2991, '시내': 2992, '눈송이': 2993, '으로만': 2994, '나위': 2995, '마주치다': 2996, '캬': 2997, '분위기': 2998, '가나': 2999, '위아래': 3000, '신음': 3001, '마술': 3002, '기교': 3003, '각자': 3004, '설치': 3005, '적지': 3006, '홀아비': 3007, '이행': 3008, '조그만': 3009, '고르다': 3010, '땡기다': 3011, '합치다': 3012, '테로': 3013, '수레': 3014, '소금': 3015, '이끼': 3016, '발생': 3017, '노랫소리': 3018, '옥수수': 3019, '옵': 3020, '자연': 3021, '산발': 3022, '만지작거리다': 3023, '소름끼치다': 3024, '의술': 3025, '쇼': 3026, '빤짝': 3027, '큰일': 3028, '도모': 3029, '실례': 3030, '겨를': 3031, '적다': 3032, '바깥': 3033, '눈길': 3034, '이따': 3035, '눈꺼풀': 3036, '물밀': 3037, '려': 3038, '오신': 3039, '양초': 3040, '졸도': 3041, '장식품': 3042, '세운': 3043, '하고도': 3044, '수북이': 3045, '추측': 3046, '분통': 3047, '사촌': 3048, '방해': 3049, '이웃집': 3050, '고용': 3051, '집안일': 3052, '오늘밤': 3053, '멈칫': 3054, '뼈': 3055, '조이다': 3056, '미연': 3057, '잣': 3058, '패트': 3059, '혹': 3060, '거렸': 3061, '외딴': 3062, '친자': 3063, '에메랄드': 3064, '타킨': 3065, '곯다': 3066, '일원': 3067, '열망': 3068, '열중': 3069, '각각': 3070, '힐': 3071, '잠자다': 3072, '가문': 3073, '출신': 3074, '안식처': 3075, '피로': 3076, '챙': 3077, '끼치다': 3078, '레몬': 3079, '항해': 3080, '인양': 3081, '만치': 3082, '접': 3083, '자질': 3084, '악어': 3085, '깨끗이': 3086, '비늘': 3087, '또래': 3088, '심려': 3089, '자유': 3090, '울적하다': 3091, '개월': 3092, '되돌리다': 3093, '참말': 3094, '베짱이': 3095, '쭈그리다': 3096, '안기다': 3097, '았': 3098, '톤': 3099, '금세': 3100, '공인': 3101, '날짐승': 3102, '건너가다': 3103, '시종': 3104, '등짝': 3105, '지갑': 3106, '어따': 3107, '지독하다': 3108, '비통하다': 3109, '내의': 3110, '셋방': 3111, '새어머니': 3112, '인즉슨': 3113, '또는': 3114, '구슬리다': 3115, '고해': 3116, '박': 3117, '휩쓸다': 3118, '묶인': 3119, '앙갚음': 3120, '성의': 3121, '요컨대': 3122, '주문': 3123, '놓치다': 3124, '구원': 3125, '퓨리': 3126, '여우야': 3127, '재다': 3128, '분과': 3129, '쪼개지다': 3130, '통곡': 3131, '소동': 3132, '시어머니': 3133, '추': 3134, '스르': 3135, '지도': 3136, '까맣다': 3137, '풀잎': 3138, '엉겅퀴': 3139, '왼손': 3140, '안마당': 3141, '최악': 3142, '싹싹': 3143, '일품': 3144, '기술': 3145, '어마나': 3146, '게로': 3147, '술병': 3148, '로선': 3149, '이해도': 3150, '또닥또닥': 3151, '초롱초롱': 3152, '창피하다': 3153, '끼리끼리': 3154, '굽': 3155, '고상하다': 3156, '불어': 3157, '뇨': 3158, '팔다리': 3159, '뛰어나다': 3160, '똥': 3161, '개구쟁이': 3162, '둘러매다': 3163, '더랬': 3164, '기대하다': 3165, '팔로': 3166, '태운': 3167, '불면': 3168, '평안하다': 3169, '백년': 3170, '손톱': 3171, '드리우다': 3172, '경험': 3173, '승낙': 3174, '저물다': 3175, '땔감': 3176, '적어도': 3177, '어쩌다': 3178, '널찍하다': 3179, '박살': 3180, '선고': 3181, '감기': 3182, '쉰': 3183, '사로자다': 3184, '꿰뚫다': 3185, '여념': 3186, '곧이어': 3187, '어차피': 3188, '뒷문': 3189, '손녀': 3190, '심쿵하다': 3191, '빼어나다': 3192, '도록': 3193, '굶주리다': 3194, '열기': 3195, '마음껏': 3196, '기존': 3197, '변': 3198, '어딘': 3199, '로라': 3200, '움키다': 3201, '낚시': 3202, '낚싯줄': 3203, '에게만': 3204, '낙': 3205, '목적': 3206, '울면': 3207, '처참하다': 3208, '제겐': 3209, '못내': 3210, '소금물': 3211, '시선': 3212, '단체': 3213, '뱉다': 3214, '누굴': 3215, '스레': 3216, '식히다': 3217, '더니': 3218, '서서히': 3219, '맡기다': 3220, '감고': 3221, '리본': 3222, '구별': 3223, '수백': 3224, '응당': 3225, '신들': 3226, '재목': 3227, '통나무': 3228, '소스': 3229, '아홉': 3230, '한마디': 3231, '물러나다': 3232, '헤라클레스': 3233, '마음속': 3234, '정이': 3235, '바삐': 3236, '무': 3237, '소심하다': 3238, '달구다': 3239, '발버둥': 3240, '왈칵': 3241, '떠내려가다': 3242, '살림': 3243, '앞치마': 3244, '이세': 3245, '손질': 3246, '레이스': 3247, '납치': 3248, '심심하다': 3249, '피터': 3250, '오거': 3251, '번쩍': 3252, '뱃속': 3253, '지구': 3254, '심술궂': 3255, '누리다': 3256, '뛰어놀다': 3257, '교수대': 3258, '은혜': 3259, '강제': 3260, '굉장하다': 3261, '비키다': 3262, '배려': 3263, '나로': 3264, '하여금': 3265, '비단': 3266, '새매': 3267, '해방': 3268, '완전': 3269, '미덕': 3270, '이쯤': 3271, '판': 3272, '수호': 3273, '존재': 3274, '극명하다': 3275, '만족': 3276, '차고': 3277, '뜻밖': 3278, '허기': 3279, '메추라기': 3280, '전차': 3281, '뜸': 3282, '가선': 3283, '부채질': 3284, '펜싱': 3285, '애달프다': 3286, '몸매': 3287, '우두둑': 3288, '찍': 3289, '안전': 3290, '알아채다': 3291, '원인': 3292, '울부짖다': 3293, '돌아다니다': 3294, '깔끔하다': 3295, '고작': 3296, '값지다': 3297, '끓이다': 3298, '확고하다': 3299, '즐기다': 3300, '쫓기다': 3301, '인들': 3302, '뒷돈': 3303, '살해': 3304, '케': 3305, '당해': 3306, '해롭다': 3307, '킁킁거리다': 3308, '푸르른': 3309, '눈부시다': 3310, '여겨지다': 3311, '나그네': 3312, '여한': 3313, '말문': 3314, '멍하니': 3315, '많아지다': 3316, '애정': 3317, '상심': 3318, '커서': 3319, '틀': 3320, '복판': 3321, '일어나지': 3322, '뵈다': 3323, '쐐기': 3324, '거도': 3325, '합당': 3326, '팔다': 3327, '근': 3328, '회부': 3329, '가로': 3330, '누우렴': 3331, '유명하다': 3332, '정리정돈': 3333, '물르다': 3334, '이랑': 3335, '도마': 3336, '졸졸': 3337, '인식': 3338, '별로': 3339, '낙엽': 3340, '어둑어둑하다': 3341, '진흙': 3342, '방만': 3343, '부츠': 3344, '친애하다': 3345, '창피': 3346, '성큼': 3347, '띄다': 3348, '찰': 3349, '켤레': 3350, '멍멍': 3351, '이로': 3352, '희망': 3353, '죄송하다': 3354, '말괄량이': 3355, '마지못하다': 3356, '묶이다': 3357, '조치': 3358, '할아버지': 3359, '뚱뚱하다': 3360, '유쾌하다': 3361, '친숙하다': 3362, '성향': 3363, '벽장': 3364, '헤어스타일': 3365, '가정': 3366, '켜다': 3367, '울림': 3368, '예리하다': 3369, '누군데': 3370, '어쩐': 3371, '이자': 3372, '마술사': 3373, '밀가루': 3374, '포로': 3375, '수의': 3376, '거부': 3377, '세례명': 3378, '부모': 3379, '누울': 3380, '한데': 3381, '균형': 3382, '감옥': 3383, '치기': 3384, '선사': 3385, '적용': 3386, '열자': 3387, '성과': 3388, '양으로': 3389, '바퀴': 3390, '저주받다': 3391, '와도': 3392, '토론': 3393, '부루퉁하다': 3394, '어려움': 3395, '사무': 3396, '서든': 3397, '주고받다': 3398, '경주로': 3399, '야생동물': 3400, '사건': 3401, '크나크다': 3402, '불기운': 3403, '상해': 3404, '라고만': 3405, '본성': 3406, '누나': 3407, '어디가': 3408, '아줌마': 3409, '가져가다': 3410, '배은망덕하다': 3411, '갚다': 3412, '마주': 3413, '로마': 3414, '고급': 3415, '곰곰': 3416, '해봤다': 3417, '갈래': 3418, '바르게': 3419, '싱싱하다': 3420, '풀칠': 3421, '때때로': 3422, '끼리': 3423, '경비': 3424, '보더': 3425, '햇빛': 3426, '머무르다': 3427, '오자': 3428, '교활하다': 3429, '논쟁': 3430, '신호': 3431, '허다': 3432, '보지': 3433, '떡하니': 3434, '주먹': 3435, '땀': 3436, '우정': 3437, '에구머니': 3438, '범벅': 3439, '희미하다': 3440, '어느새다': 3441, '졸다': 3442, '낫': 3443, '물병': 3444, '영국': 3445, '굴복': 3446, '구도': 3447, '광대하다': 3448, '환영': 3449, '평화': 3450, '어나': 3451, '오라': 3452, '둘러싸다': 3453, '노동자': 3454, '장담': 3455, '고단': 3456, '지멜': 3457, '의붓': 3458, '자매': 3459, '종결': 3460, '세월': 3461, '고소하다': 3462, '밝아지다': 3463, '친엄마': 3464, '의심스럽다': 3465, '충동': 3466, '맵시': 3467, '다야': 3468, '당한': 3469, '피하': 3470, '공개': 3471, '높이다': 3472, '출몰': 3473, '거래': 3474, '자그마치': 3475, '울음소리': 3476, '튀어': 3477, '바라다보다': 3478, '거역': 3479, '발길질': 3480, '여간': 3481, '마누라': 3482, '절름발이': 3483, '목덜미': 3484, '떠보다': 3485, '철제': 3486, '상당량': 3487, '미녀': 3488, '손바닥': 3489, '끄트머리': 3490, '대단하다': 3491, '만들기': 3492, '교수형': 3493, '배심원': 3494, '사람인': 3495, '딸도': 3496, '까지의': 3497, '맏': 3498, '내보내다': 3499, '뎁쇼': 3500, '패': 3501, '틀다': 3502, '조끼': 3503, '건너': 3504, '설득': 3505, '꼬끼오': 3506, '꼬꼬': 3507, '치료법': 3508, '유충': 3509, '벌레': 3510, '라인': 3511, '이만': 3512, '친': 3513, '불씨': 3514, '맙소사': 3515, '회전': 3516, '쿵쾅': 3517, '여야': 3518, '꼬챙이': 3519, '방장': 3520, '측면': 3521, '주마': 3522, '개미': 3523, '천만': 3524, '무례': 3525, '차지': 3526, '인가가': 3527, '감당': 3528, '팔꿈치': 3529, '반대편': 3530, '이겠다': 3531, '결정': 3532, '다락방': 3533, '경의': 3534, '흘러내리다': 3535, '통치': 3536, '덕이': 3537, '이요': 3538, '게임': 3539, '스러운': 3540, '대주교': 3541, '꽤': 3542, '노려보다': 3543, '철봉': 3544, '식인종': 3545, '조르다': 3546, '반드시': 3547, '산딸기': 3548, '육지': 3549, '돛': 3550, '나부끼다': 3551, '망망대해': 3552, '수확': 3553, '회개': 3554, '이르렀다': 3555, '호통': 3556, '영주': 3557, '선하다': 3558, '엉터리': 3559, '갈수록': 3560, '구부러지다': 3561, '고프다': 3562, '로만': 3563, '환호성': 3564, '손쉽다': 3565, '드디어': 3566, '업다': 3567, '글자': 3568, '수수께끼': 3569, '선뜻': 3570, '언덕': 3571, '장도': 3572, '휘감다': 3573, '비열하다': 3574, '명도': 3575, '아래쪽': 3576, '벼르': 3577, '채찍': 3578, '차원': 3579, '지사': 3580, '죄수': 3581, '선언': 3582, '겨울철': 3583, '도망': 3584, '경주': 3585, '발설': 3586, '쓰이다': 3587, '도금': 3588, '고얀': 3589, '신발': 3590, '성스럽다': 3591, '맹세코': 3592, '전과': 3593, '늪': 3594, '묶음': 3595, '뜨릴': 3596, '평화롭다': 3597, '덤불': 3598, '재빠르다': 3599, '작년': 3600, '노곤': 3601, '끼우다': 3602, '슈': 3603, '오시': 3604, '나오니': 3605, '고독': 3606, '시종일관': 3607, '활짝': 3608, '부족함': 3609, '퉁': 3610, '구불구불': 3611, '꿈틀꿈틀': 3612, '품위': 3613, '차오르다': 3614, '시궁창': 3615, '조': 3616, '관련': 3617, '이보': 3618, '행랑': 3619, '반짝반짝': 3620, '꾸욱': 3621, '포플러': 3622, '서식지': 3623, '시렁': 3624, '선견지명': 3625, '석탄': 3626, '요술쟁이': 3627, '꿰매다': 3628, '젖먹이': 3629, '안달': 3630, '감흥': 3631, '리지': 3632, '세인트': 3633, '부시다': 3634, '어린이': 3635, '인척': 3636, '여자아이': 3637, '연속': 3638, '세우다': 3639, '진창': 3640, '일쑤': 3641, '으로선': 3642, '촛불': 3643, '살피': 3644, '파고': 3645, '쉿': 3646, '잠도': 3647, '암벽': 3648, '여하튼': 3649, '일어나며': 3650, '체': 3651, '재혼': 3652, '알현': 3653, '치렁치렁': 3654, '주술': 3655, '혼돈': 3656, '지기': 3657, '곱슬머리': 3658, '작업복': 3659, '출구': 3660, '활동': 3661, '이스트': 3662, '옷감': 3663, '요렇게': 3664, '웅대': 3665, '팔이': 3666, '뒤뜰': 3667, '펄럭': 3668, '엷다': 3669, '청색': 3670, '치마': 3671, '장차': 3672, '산비둘기': 3673, '정오': 3674, '기적': 3675, '곳곳': 3676, '불운': 3677, '걱정거리': 3678, '습관': 3679, '누구신지': 3680, '램프': 3681, '뾰루': 3682, '찾아다니다': 3683, '모이': 3684, '파편': 3685, '담하다': 3686, '데기': 3687, '코찌질': 3688, '센스': 3689, '청아': 3690, '투덜대다': 3691, '오보에': 3692, '연주자': 3693, '에나': 3694, '똥똥하다': 3695, '밀고': 3696, '정의': 3697, '장비': 3698, '우리말': 3699, '실리다': 3700, '수일': 3701, '전시': 3702, '꼬불꼬불': 3703, '성수': 3704, '떠돌아다니다': 3705, '향수병': 3706, '가다듬다': 3707, '측근': 3708, '화목': 3709, '등불': 3710, '단속': 3711, '반향': 3712, '보': 3713, '개인': 3714, '타협': 3715, '축하': 3716, '뉘우침': 3717, '감동': 3718, '기해': 3719, '빌어': 3720, '찬성': 3721, '엄습해': 3722, '납작': 3723, '엎드리다': 3724, '전령': 3725, '종사': 3726, '손대다': 3727, '군데': 3728, '어데': 3729, '염': 3730, '안색': 3731, '핑크색': 3732, '산호': 3733, '여유': 3734, '환대': 3735, '맑다': 3736, '분주하다': 3737, '볼모': 3738, '험상궂다': 3739, '작심': 3740, '워질': 3741, '택': 3742, '사람과': 3743, '권한': 3744, '드라이브': 3745, '동참': 3746, '발린': 3747, '듭니': 3748, '늘어나다': 3749, '발아': 3750, '주장': 3751, '곧잘': 3752, '지침': 3753, '벅': 3754, '파트너': 3755, '영감': 3756, '차도': 3757, '즐비하다': 3758, '보슈': 3759, '부당하다': 3760, '여왕': 3761, '불리': 3762, '광활하다': 3763, '왕인': 3764, '들이키다': 3765, '짐작': 3766, '망치다': 3767, '필욘': 3768, '괜': 3769, '야단': 3770, '법석': 3771, '위고': 3772, '논': 3773, '법도': 3774, '길들다': 3775, '밧줄': 3776, '파헤치다': 3777, '근면하다': 3778, '여쭈다': 3779, '부터라도': 3780, '내보이다': 3781, '하소': 3782, '엿듣': 3783, '본때': 3784, '해머': 3785, '프라이팬': 3786, '쇠똥': 3787, '제거': 3788, '버둥거린': 3789, '무리다': 3790, '주먹다짐': 3791, '한껏': 3792, '찌다': 3793, '유복하다': 3794, '놈팡이': 3795, '게유': 3796, '사이좋다': 3797, '불규칙': 3798, '영웅': 3799, '코로': 3800, '악': 3801, '기척': 3802, '고안': 3803, '상승': 3804, '트이다': 3805, '타고나다': 3806, '재회': 3807, '분열': 3808, '주도': 3809, '사교': 3810, '싫증': 3811, '농': 3812, '체험': 3813, '황금색': 3814, '마름모꼴': 3815, '이랑은': 3816, '골치': 3817, '꼴통': 3818, '잡혀가다': 3819, '사시나무': 3820, '오매불망': 3821, '굴러가다': 3822, '이례': 3823, '옷장': 3824, '샅샅이': 3825, '잔득': 3826, '파랗다': 3827, '다양하다': 3828, '핑계': 3829, '자유롭다': 3830, '만큼은': 3831, '과일': 3832, '포도': 3833, '잿빛': 3834, '구릿빛': 3835, '마여': 3836, '어쩌지': 3837, '치장': 3838, '망연자실하다': 3839, '멀거니': 3840, '미움': 3841, '꿍꿍': 3842, '속사정': 3843, '가로수길': 3844, '고약하다': 3845, '나이트': 3846, '캡': 3847, '살랑살랑': 3848, '텄': 3849, '고결하다': 3850, '입맞춤': 3851, '씌': 3852, '굵다': 3853, '혹은': 3854, '가락지': 3855, '어쨌거': 3856, '언급': 3857, '수줍어하': 3858, '다시금': 3859, '상아': 3860, '오솔길': 3861, '나야': 3862, '살았더랬': 3863, '남아나다': 3864, '사고': 3865, '종아리': 3866, '오오': 3867, '주전자': 3868, '조밀하다': 3869, '꼼꼼하다': 3870, '기민하다': 3871, '작업': 3872, '온기': 3873, '발동': 3874, '은인': 3875, '일체': 3876, '삭둑': 3877, '갈팡질팡': 3878, '복잡하다': 3879, '부랴부랴': 3880, '유독': 3881, '원기': 3882, '왕성': 3883, '자라': 3884, '피어': 3885, '마멀레이드': 3886, '귀리': 3887, '흠뻑': 3888, '다투다': 3889, '나랏님': 3890, '일어난다': 3891, '일찍이': 3892, '실패': 3893, '뒷': 3894, '종인': 3895, '어젯밤': 3896, '상연': 3897, '락불그락': 3898, '걸어오다': 3899, '역사': 3900, '해명': 3901, '대놓고': 3902, '킥킥': 3903, '통사정': 3904, '부담': 3905, '나선': 3906, '저하': 3907, '단념하다': 3908, '따위': 3909, '거짓': 3910, '줌': 3911, '정보': 3912, '마나': 3913, '재주': 3914, '요망': 3915, '노예': 3916, '강도': 3917, '쫒다': 3918, '정당하다': 3919, '렸': 3920, '탄복': 3921, '훈계': 3922, '무덥다': 3923, '고초': 3924, '올바르다': 3925, '결혼식장': 3926, '선원': 3927, '덤': 3928, '심정': 3929, '추악하다': 3930, '시골뜨기': 3931, '성령': 3932, '강림절': 3933, '축제': 3934, '마음대로': 3935, '촌뜨기': 3936, '휙휙': 3937, '천벌': 3938, '상달': 3939, '수북하다': 3940, '낚아채다': 3941, '는가': 3942, '솜씨': 3943, '받았더랬': 3944, '나날': 3945, '긴장감': 3946, '취해': 3947, '샬럿': 3948, '노란색': 3949, '녹': 3950, '컵': 3951, '쫓아오다': 3952, '대개': 3953, '쪼가리': 3954, '설거지': 3955, '식탁보': 3956, '지하방': 3957, '삶일': 3958, '해조': 3959, '죽여주다': 3960, '설사': 3961, '반감': 3962, '갈고': 3963, '성큼성큼': 3964, '번갈아': 3965, '알맞다': 3966, '스푼': 3967, '포크': 3968, '신조': 3969, '잠옷': 3970, '까무러치듯': 3971, '탱탱하다': 3972, '안하무인': 3973, '옥': 3974, '데이지': 3975, '주우': 3976, '구렁': 3977, '왠지': 3978, '사업': 3979, '군림': 3980, '몸뚱이': 3981, '쿠션': 3982, '얘길': 3983, '욕망': 3984, '엿듣곤': 3985, '색조': 3986, '야위다': 3987, '몸무게': 3988, '나란하다': 3989, '잤더랬': 3990, '냅다': 3991, '네까짓': 3992, '잠수': 3993, '난처하다': 3994, '매끄럽다': 3995, '고가': 3996, '친밀하다': 3997, '심보': 3998, '후예': 3999, '익숙해지다': 4000, '구렴': 4001, '거길': 4002, '궁리': 4003, '주둥아리': 4004, '부실': 4005, '쾌차': 4006, '약자': 4007, '도깨비': 4008, '유성': 4009, '스패니얼': 4010, '암컷': 4011, '한두': 4012, '주기도': 4013, '아침식사': 4014, '기울다': 4015, '가가': 4016, '아시': 4017, '양반': 4018, '기독교도': 4019, '선왕': 4020, '성냄': 4021, '젊음': 4022, '충족': 4023, '시집가다': 4024, '사모': 4025, '부딪히다': 4026, '줄줄': 4027, '뒤쪽': 4028, '으로는': 4029, '발사': 4030, '총알': 4031, '튕겨져': 4032, '관통': 4033, '힐끗힐끗': 4034, '청춘': 4035, '으악': 4036, '분홍색': 4037, '앞마당': 4038, '삐었군': 4039, '극히': 4040, '드물다': 4041, '불도': 4042, '자수': 4043, '눕혔어': 4044, '데요': 4045, '누군': 4046, '정교하다': 4047, '피치': 4048, '골수': 4049, '라틴어': 4050, '문법': 4051, '기억나다': 4052, '착오': 4053, '활용': 4054, '그러면': 4055, '숙소': 4056, '헤어지다': 4057, '유고': 4058, '막론': 4059, '가내': 4060, '허용': 4061, '맛임': 4062, '염려': 4063, '지출': 4064, '수단': 4065, '휑하': 4066, '때론': 4067, '심술': 4068, '개도': 4069, '처량하다': 4070, '나가야': 4071, '물리': 4072, '암호': 4073, '프랑스어': 4074, '저주': 4075, '허둥대다': 4076, '너무나도': 4077, '참여': 4078, '갈고리': 4079, '띄엄띄엄': 4080, '매만지다': 4081, '은실로': 4082, '페티코트': 4083, '임신': 4084, '날궂': 4085, '정해': 4086, '윙윙': 4087, '귀의': 4088, '께나': 4089, '흥건': 4090, '자각': 4091, '물담뱃대': 4092, '태평하다': 4093, '애벌레': 4094, '맞닥뜨렸': 4095, '인형': 4096, '기합': 4097, '진동': 4098, '굴레': 4099, '아이참': 4100, '노르만': 4101, '오만': 4102, '방자하다': 4103, '뼛속': 4104, '사려': 4105, '내면': 4106, '뭇': 4107, '나일': 4108, '말쑥하다': 4109, '질질': 4110, '숫자': 4111, '산책': 4112, '보인느': 4113, '땡전': 4114, '마감': 4115, '아저씬': 4116, '살인': 4117, '찬양': 4118, '은잔': 4119, '으로나': 4120, '욕설': 4121, '획': 4122, '장장': 4123, '여러': 4124, '드니': 4125, '성복': 4126, '손보': 4127, '친아빠': 4128, '아두': 4129, '삽': 4130, '늘어서다': 4131, '철도역': 4132, '신용': 4133, '부인': 4134, '계략': 4135, '우리나라': 4136, '세간': 4137, '이색': 4138, '가정교사': 4139, '들러리': 4140, '조수': 4141, '경비원': 4142, '서기': 4143, '중심': 4144, '교대': 4145, '보듬다': 4146, '기필코': 4147, '지옥': 4148, '속담': 4149, '무색': 4150, '사원': 4151, '여신': 4152, '호락호락하다': 4153, '다닥다닥': 4154, '벌러덩': 4155, '재판관': 4156, '소린': 4157, '진정하다': 4158, '행세': 4159, '치우치다': 4160, '연고로': 4161, '다고': 4162, '자연스럽다': 4163, '방식': 4164, '술술': 4165, '띤': 4166, '수증기': 4167, '투명하다': 4168, '저지르다': 4169, '만행': 4170, '유언': 4171, '날아다니다': 4172, '뿔뿔이': 4173, '흩어지다': 4174, '임자': 4175, '까먹다': 4176, '금실': 4177, '소비': 4178, '지불': 4179, '은덕': 4180, '완쾌': 4181, '대환영': 4182, '그럭저럭': 4183, '샤샤': 4184, '샤': 4185, '지배자': 4186, '수야': 4187, '삭': 4188, '에서나': 4189, '툴툴': 4190, '앵': 4191, '굶주림': 4192, '드밀': 4193, '일꾼': 4194, '술래잡기': 4195, '실물': 4196, '동치': 4197, '동강': 4198, '골칫덩': 4199, '상기': 4200, '부재': 4201, '누구세요': 4202, '지휘자': 4203, '겸손하다': 4204, '다오': 4205, '예민하다': 4206, '나이라': 4207, '비스킷': 4208, '사먹다': 4209, '불량': 4210, '개보': 4211, '뒷모습': 4212, '쉬이': 4213, '일과': 4214, '산위': 4215, '약용': 4216, '네네': 4217, '조급하다': 4218, '숫돌': 4219, '뒤꿈치': 4220, '타도': 4221, '오므리': 4222, '버드나무': 4223, '지팡이': 4224, '댕강': 4225, '위함': 4226, '확답': 4227, '애완동물': 4228, '답변': 4229, '총명하다': 4230, '지우다': 4231, '딜레마': 4232, '자칫': 4233, '어쩌려': 4234, '꿋꿋': 4235, '지킴': 4236, '돌다리': 4237, '각': 4238, '사도': 4239, '현혹': 4240, '외모': 4241, '횃대': 4242, '마렴': 4243, '참석': 4244, '성질': 4245, '철': 4246, '극심하다': 4247, '휘': 4248, '어감': 4249, '엄동설한': 4250, '포호': 4251, '갉아먹기': 4252, '논박': 4253, '리야': 4254, '양부': 4255, '약샥': 4256, '대롱대롱': 4257, '가라앉히다': 4258, '요령': 4259, '껏': 4260, '어둡다': 4261, '어쩌겠다': 4262, '고령': 4263, '더없이': 4264, '초래': 4265, '하등': 4266, '어두컴컴하다': 4267, '말미암아': 4268, '갖가지': 4269, '확신범': 4270, '방문객': 4271, '조로': 4272, '숭숭': 4273, '재잘거리다': 4274, '넋': 4275, '밤새다': 4276, '주시': 4277, '힘없다': 4278, '앙앙': 4279, '맞대다': 4280, '자구': 4281, '볕': 4282, '일광욕': 4283, '닷새': 4284, '억세다': 4285, '으로가': 4286, '웃기다': 4287, '한층': 4288, '누었': 4289, '잠겼더랬': 4290, '새색시': 4291, '안내받다': 4292, '설마': 4293, '까무러치': 4294, '우려': 4295, '어렴풋하다': 4296, '아니꼽다': 4297, '변치': 4298, '찌르다': 4299, '평': 4300, '유지': 4301, '남아돌다': 4302, '투덜거리다': 4303, '육장': 4304, '뒷마당': 4305, '깨우치다': 4306, '유향': 4307, '알갱이': 4308, '노름': 4309, '조가': 4310, '한순간': 4311, '들추다': 4312, '나은': 4313, '특권': 4314, '전보': 4315, '신앙': 4316, '양심': 4317, '천국': 4318, '푸르다': 4319, '수근': 4320, '하단': 4321, '떠들썩하다': 4322, '반쯥': 4323, '아래층': 4324, '태피스트리': 4325, '캐비닛': 4326, '스탠드': 4327, '뭉개기': 4328, '이해력': 4329, '빨르다': 4330, '상공': 4331, '자만하다': 4332, '산다': 4333, '푸다': 4334, '얼굴빛': 4335, '헌병': 4336, '머스켓총': 4337, '백방': 4338, '추적자': 4339, '틀림없이': 4340, '종족': 4341, '앞서다': 4342, '섭': 4343, '된서리': 4344, '귀머거리': 4345, '무진': 4346, '로베르': 4347, '쪼무라기': 4348, '기별': 4349, '불안': 4350, '지세': 4351, '밀짚': 4352, '올림포스': 4353, '배치': 4354, '어김없이': 4355, '스승': 4356, '상념이더': 4357, '카드놀이': 4358, '앞장': 4359, '서자': 4360, '복무': 4361, '까닥까닥': 4362, '소자': 4363, '불찰': 4364, '얼마만큼': 4365, '당혹스럽다': 4366, '기니피그': 4367, '문해': 4368, '난폭하다': 4369, '부턴': 4370, '역정': 4371, '내시': 4372, '스타일': 4373, '불시': 4374, '충격': 4375, '신실하다': 4376, '이십': 4377, '치가': 4378, '용의주도하다': 4379, '빚': 4380, '단추': 4381, '공통': 4382, '의견': 4383, '악귀': 4384, '낙하': 4385, '흙투성이': 4386, '목발': 4387, '죽마': 4388, '천둥소리': 4389, '방편': 4390, '후두두': 4391, '에서의': 4392, '후광': 4393, '훤히': 4394, '미끄럽다': 4395, '분배': 4396, '한없다': 4397, '고마움': 4398, '슬그머니': 4399, '승리': 4400, '말고도': 4401, '여타': 4402, '다량': 4403, '수거': 4404, '변두리': 4405, '가만두다': 4406, '도처': 4407, '벨벳': 4408, '갑옷': 4409, '투구': 4410, '부엉이': 4411, '잿빛개구리매': 4412, '실없다': 4413, '손짓': 4414, '가당': 4415, '딱하다': 4416, '어미': 4417, '입장': 4418, '잡아타다': 4419, '덕': 4420, '쪼개다': 4421, '아담하다': 4422, '헤르메스': 4423, '떠돌다': 4424, '이래저래': 4425, '도지': 4426, '팔짝거리다': 4427, '후려치다': 4428, '짤': 4429, '사랑받다': 4430, '매혹': 4431, '평범하다': 4432, '차별': 4433, '개선': 4434, '미남': 4435, '축축하다': 4436, '가냘프다': 4437, '진홍': 4438, '잉꼬': 4439, '수리': 4440, '덩달아': 4441, '상이': 4442, '영어': 4443, '춤추다': 4444, '희희낙락': 4445, '무릅쓰': 4446, '식용': 4447, '달래': 4448, '매복': 4449, '식욕': 4450, '살찐': 4451, '이전': 4452, '나이까': 4453, '성품': 4454, '포박': 4455, '택배': 4456, '노동': 4457, '어림': 4458, '어치': 4459, '디디': 4460, '기여': 4461, '입었더랬': 4462, '연습': 4463, '오른손': 4464, '웃기': 4465, '가사': 4466, '빼기': 4467, '비니': 4468, '보상금': 4469, '슬기': 4470, '롭고': 4471, '딸내미': 4472, '랬': 4473, '이의': 4474, '뭉개주': 4475, '린': 4476, '우당탕': 4477, '꺼꾸러지다': 4478, '적합': 4479, '푸드덕푸드덕': 4480, '날갯짓': 4481, '결점': 4482, '오두막집': 4483, '새하얘지다': 4484, '그야': 4485, '웩': 4486, '마지않다': 4487, '짐짓': 4488, '와중': 4489, '설탕': 4490, '팔팔': 4491, '다발': 4492, '도가머리': 4493, '명상': 4494, '어수선하다': 4495, '산꼭대기': 4496, '믿음': 4497, '혈색': 4498, '함박': 4499, '구역질': 4500, '넉넉하다': 4501, '보수': 4502, '분풀이': 4503, '지은': 4504, '막무가내': 4505, '맞닿다': 4506, '세계': 4507, '글렀군': 4508, '황홀': 4509, '드러나다': 4510, '차라': 4511, '스마트': 4512, '일인': 4513, '대낮': 4514, '리기': 4515, '동일하다': 4516, '창창하다': 4517, '미래': 4518, '식초': 4519, '쓰라리다': 4520, '새싹': 4521, '돋아나다': 4522, '렴': 4523, '리만': 4524, '절명': 4525, '도개교': 4526, '건너오다': 4527, '대궐': 4528, '방어': 4529, '화형': 4530, '움푹': 4531, '텅': 4532, '오므라들다': 4533, '얻지': 4534, '쩍': 4535, '벌리다': 4536, '딱이다': 4537, '카나리아': 4538, '유유상종': 4539, '벼루': 4540, '신앙심': 4541, '파래': 4542, '수고': 4543, '땅속': 4544, '산도': 4545, '따오다': 4546, '문밖': 4547, '라고요': 4548, '왕위': 4549, '오심': 4550, '더위': 4551, '헛수고였': 4552, '외국': 4553, '혈통': 4554, '사후': 4555, '황폐': 4556, '헐떡이다': 4557, '얼자': 4558, '동상': 4559, '마음먹다': 4560, '오물': 4561, '먹어주다': 4562, '솔': 4563, '부유': 4564, '애용': 4565, '구입': 4566, '사색': 4567, '단도': 4568, '옷차림': 4569, '버둥버둥': 4570, '거렸다': 4571, '줄곧': 4572, '격노하다': 4573, '무모하다': 4574, '디디다': 4575, '닳다': 4576, '초가': 4577, '쿨하다': 4578, '상대': 4579, '온전': 4580, '자격': 4581, '여덟': 4582, '망극': 4583, '언젠가': 4584, '내딛다': 4585, '덕지덕지': 4586, '요란하다': 4587, '차려입다': 4588, '상실하다': 4589, '봄철': 4590, '기뻐했더랬': 4591, '씌었다': 4592, '도어': 4593, '오만하다': 4594, '남지': 4595, '사귀다': 4596, '차곡차곡': 4597, '활활': 4598, '타오르다': 4599, '가라': 4600, '소지품': 4601, '툴툴대면': 4602, '숲길': 4603, '독버섯': 4604, '데령': 4605, '모방': 4606, '딸아': 4607, '같이만': 4608, '복되다': 4609, '차하': 4610, '말대꾸': 4611, '드럼': 4612, '꺼리다': 4613, '여관': 4614, '월': 4615, '고래고래': 4616, '청중': 4617, '사나이': 4618, '벨': 4619, '야간': 4620, '한사코': 4621, '터널': 4622, '당근': 4623, '그야말로': 4624, '붐비다': 4625, '응수': 4626, '등치': 4627, '살갗': 4628, '따끔하다': 4629, '텐데도': 4630, '다급하다': 4631, '이중': 4632, '잡아가다': 4633, '쌍': 4634, '북받치다': 4635, '말발굽': 4636, '힐끗': 4637, '윙크': 4638, '하체': 4639, '군침': 4640, '잘잘': 4641, '쭈글쭈글': 4642, '책장': 4643, '체리': 4644, '타트': 4645, '커스터드': 4646, '파인애플': 4647, '칠면조': 4648, '태피': 4649, '토스트': 4650, '시장님': 4651, '룩': 4652, '해진': 4653, '배속': 4654, '아등바등': 4655, '장대비': 4656, '화형식': 4657, '끗다': 4658, '계집아이': 4659, '생활비': 4660, '절약': 4661, '기세': 4662, '독기': 4663, '빈털터리': 4664, '날씬하다': 4665, '어리석음': 4666, '사물': 4667, '다루다': 4668, '이든지': 4669, '꽝': 4670, '아물다': 4671, '구제': 4672, '재임': 4673, '소집': 4674, '안건': 4675, '가지런하다': 4676, '진열': 4677, '시오': 4678, '시궁쥐': 4679, '츠은': 4680, '벌컥벌컥': 4681, '지껄이다': 4682, '팔팔하다': 4683, '어쩌게': 4684, '상석': 4685, '온당': 4686, '연신': 4687, '저장': 4688, '극복': 4689, '열띤': 4690, '아마로': 4691, '빠져들다': 4692, '지인': 4693, '잔치': 4694, '유용하다': 4695, '어요': 4696, '원도': 4697, '풍부하다': 4698, '노': 4699, '누리로': 4700, '우두머리': 4701, '요하': 4702, '산모': 4703, '엄명': 4704, '부수': 4705, '쇠약하다': 4706, '잊어버리다': 4707, '섬세하다': 4708, '장밋빛': 4709, '에서가': 4710, '일어': 4711, '측은하다': 4712, '단다': 4713, '족족': 4714, '바다표범': 4715, '절뚝': 4716, '독극물': 4717, '독침': 4718, '눈동자': 4719, '가감': 4720, '맞닥뜨리': 4721, '처자': 4722, '뭡니까': 4723, '부치다': 4724, '해갈': 4725, '런던': 4726, '그나': 4727, '술자리': 4728, '짧다': 4729, '푸른빛': 4730, '재료': 4731, '이롭다': 4732, '이여': 4733, '뭍': 4734, '하인츠하인츠': 4735, '관목': 4736, '야만스럽다': 4737, '은총': 4738, '생기지': 4739, '보통': 4740, '보시': 4741, '정직하다': 4742, '토닥토닥': 4743, '마디나': 4744, '충직': 4745, '말동무': 4746, '드넓다': 4747, '넝마': 4748, '살점': 4749, '받침': 4750, '바로잡다': 4751, '누비': 4752, '정육점': 4753, '싱크대': 4754, '이분': 4755, '후계': 4756, '푸른색': 4757, '지극히': 4758, '난장': 4759, '번득': 4760, '여자도': 4761, '남구': 4762, '명과': 4763, '예의범절': 4764, '단연': 4765, '동무': 4766, '천지': 4767, '사리다': 4768, '속임수': 4769, '역청': 4770, '먹잇감': 4771, '지엄': 4772, '뵙다': 4773, '차림새': 4774, '라선': 4775, '특이하다': 4776, '말함': 4777, '분부': 4778, '셰익스피어': 4779, '버티고': 4780, '바짝': 4781, '언제': 4782, '쐬다': 4783, '소임': 4784, '예고': 4785, '등장': 4786, '도장': 4787, '삿대질': 4788, '대목': 4789, '왓따': 4790, '얻어먹다': 4791, '포악하다': 4792, '도배': 4793, '숨소리': 4794, '다라': 4795, '이동수': 4796, '방실': 4797, '편찮다': 4798, '끼울다': 4799, '어찌어찌': 4800, '분들': 4801, '교황': 4802, '획득': 4803, '넓이': 4804, '그레이하운드': 4805, '킹킹': 4806, '기력': 4807, '샐러드': 4808, '번영': 4809, '양하다': 4810, '빈곤하다': 4811, '뜨겁다': 4812, '찬물': 4813, '장만': 4814, '소서': 4815, '국': 4816, '동맹국': 4817, '비고': 4818, '오가다': 4819, '극단': 4820, '아수라': 4821, '몰려오다': 4822, '끈질기다': 4823, '기병': 4824, '무기': 4825, '반사': 4826, '으름장': 4827, '자장가': 4828, '급박하다': 4829, '거름': 4830, '나무라다': 4831, '경': 4832, '찰랑이다': 4833, '이물': 4834, '짜증': 4835, '관장': 4836, '사태': 4837, '추천': 4838, '공작': 4839, '남작': 4840, '버찌': 4841, '익': 4842, '까지는': 4843, '다리다': 4844, '여지': 4845, '희한하다': 4846, '모험': 4847, '발검': 4848, '주리': 4849, '빌인뎁쇼': 4850, '유혹': 4851, '장엄하다': 4852, '위선': 4853, '죄목': 4854, '가증': 4855, '카드': 4856, '짊': 4857, '구조': 4858, '헛간': 4859, '부속': 4860, '바이': 4861, '상속': 4862, '수작': 4863, '대규모': 4864, '부아': 4865, '치밀다': 4866, '보구': 4867, '엄': 4868, '여명': 4869, '만원': 4870, '표범': 4871, '친목': 4872, '화난': 4873, '벙긋': 4874, '공세': 4875, '입맛': 4876, '다실': 4877, '헛디디다': 4878, '약해지다': 4879, '이지만': 4880, '땋았던': 4881, '고리': 4882, '달걀': 4883, '버트': 4884, '혼합': 4885, '나아지다': 4886, '야외': 4887, '제품': 4888, '에드': 4889, '승마': 4890, '안장': 4891, '엄습할': 4892, '아낌없이': 4893, '헝클어지다': 4894, '식겁하다': 4895, '몸부림': 4896, '불타다': 4897, '자아내다': 4898, '무한': 4899, '구레나룻': 4900, '밀밭': 4901, '러마': 4902, '잡아매다': 4903, '일말': 4904, '유의': 4905, '머프': 4906, '일만': 4907, '까지와': 4908, '감명': 4909, '돌부리': 4910, '너비': 4911, '사로잡히다': 4912, '쌔': 4913, '겨루다': 4914, '한때': 4915, '살림살이': 4916, '일군': 4917, '가소롭다': 4918, '싫증나다': 4919, '창조자': 4920, '축축': 4921, '감미롭다': 4922, '급속도': 4923, '머스킷': 4924, '꼬박': 4925, '급선무': 4926, '폭소': 4927, '매질': 4928, '한바탕': 4929, '뉴질랜드': 4930, '오스트레일리아': 4931, '구혼': 4932, '사단': 4933, '하마': 4934, '최신': 4935, '맴돌다': 4936, '가정부': 4937, '삶다': 4938, '쉽다': 4939, '기획': 4940, '항구': 4941, '여소': 4942, '급격하다': 4943, '장님': 4944, '움켜잡아': 4945, '수세미': 4946, '불경': 4947, '술수': 4948, '웃': 4949, '잠입': 4950, '쑤시다': 4951, '나루': 4952, '깨끗하다': 4953, '이쁜이': 4954, '꼬부라지다': 4955, '손상': 4956, '웬걸': 4957, '도려내다': 4958, '사각사각': 4959, '긇히': 4960, '절세': 4961, '뼘': 4962, '떤다': 4963, '이미지': 4964, '그립다': 4965, '야다': 4966, '커플': 4967, '닉': 4968, '산보': 4969, '막말': 4970, '미워하다': 4971, '성함': 4972, '사항': 4973, '들보': 4974, '여물': 4975, '건초': 4976, '갈대': 4977, '엮': 4978, '철로': 4979, '까지만이라도': 4980, '정의도': 4981, '모독': 4982, '김': 4983, '사고방식': 4984, '그러나': 4985, '잠기': 4986, '전율': 4987, '신령': 4988, '점지': 4989, '악행': 4990, '그럴듯하다': 4991, '방울방울': 4992, '외마디': 4993, '생뚱맞': 4994, '주둥이': 4995, '기인': 4996, '행적': 4997, '겨우': 4998, '뉴': 4999, '현인': 5000, '독감': 5001, '총애': 5002, '씌우개': 5003, '친지': 5004, '발음': 5005, '자신만만하다': 5006, '길가': 5007, '잔말': 5008, '야만': 5009, '헤매다': 5010, '과학': 5011, '매도': 5012, '전투': 5013, '승패': 5014, '저만': 5015, '주름살': 5016, '관심사': 5017, '용품': 5018, '하옵다': 5019, '널리': 5020, '대길': 5021, '장상': 5022, '밑천': 5023, '환하다': 5024, '첨': 5025, '벙하다': 5026, '멍텅구리': 5027, '횡재': 5028, '빗질': 5029, '땡': 5030, '네겐': 5031, '브랜디': 5032, '정처': 5033, '결실': 5034, '겸비': 5035, '갈아': 5036, '홀린': 5037, '말햇': 5038, '준수': 5039, '조화롭다': 5040, '노랫가락': 5041, '붉으락': 5042, '푸르락': 5043, '유리하다': 5044, '뿅뿅': 5045, '미천하다': 5046, '기타': 5047, '가물다': 5048, '서요': 5049, '얼추': 5050, '장래': 5051, '종소리': 5052, '박애': 5053, '좌절': 5054, '뻘': 5055, '멍충': 5056, '불어오다': 5057, '재판소': 5058, '협박': 5059, '혓바닥': 5060, '기한': 5061, '만료': 5062, '만물': 5063, '젠장': 5064, '깨나': 5065, '키워지다': 5066, '몸속': 5067, '피해': 5068, '충돌': 5069, '다방면': 5070, '문지방': 5071, '뒤집어지다': 5072, '뭉갰어': 5073, '널다': 5074, '재단': 5075, '부단하다': 5076, '현실': 5077, '추슬러보기': 5078, '와들와들': 5079, '자연스레': 5080, '부어': 5081, '홀라당': 5082, '덜컹': 5083, '떠지다': 5084, '꽃들이': 5085, '달라지다': 5086, '주렁주렁': 5087, '적의': 5088, '몸통': 5089, '시름시름': 5090, '핼쑥': 5091, '내려앉다': 5092, '결코': 5093, '장관': 5094, '장가': 5095, '판단력': 5096, '가짜': 5097, '들통': 5098, '크로케': 5099, '흉하다': 5100, '하나요': 5101, '유머': 5102, '매너': 5103, '출생': 5104, '불만족': 5105, '대소': 5106, '깃': 5107, '조만간': 5108, '라벨': 5109, '글씨체': 5110, '여리다': 5111, '시절': 5112, '슬리퍼': 5113, '똥찬': 5114, '라니': 5115, '참내': 5116, '보람': 5117, '넘어오다': 5118, '허둥지둥': 5119, '든지': 5120, '구가': 5121, '통상': 5122, '극도': 5123, '익사': 5124, '외치': 5125, '허무맹랑': 5126, '모욕': 5127, '두르다': 5128, '횡': 5129, '소문나다': 5130, '끼기': 5131, '유리잔': 5132, '작일': 5133, '뱅뱅': 5134, '감겨': 5135, '까마득하다': 5136, '거슬러': 5137, '진시': 5138, '롤': 5139, '물가': 5140, '전날': 5141, '의지': 5142, '겉옷': 5143, '벌다': 5144, '엑스': 5145, '자로': 5146, '치었더랬': 5147, '게오': 5148, '잔소리': 5149, '코끼리': 5150, '할퀴다': 5151, '간간이': 5152, '움찔': 5153, '미나리아재비': 5154, '가관': 5155, '불러일으키다': 5156, '나룻배': 5157, '영락': 5158, '짓거리': 5159, '망나니': 5160, '바랬으니까': 5161, '창밖': 5162, '실현': 5163, '타월': 5164, '오늘날': 5165, '까지도': 5166, '몽땅하다': 5167, '석류나무': 5168, '사과나무': 5169, '벌판': 5170, '모시': 5171, '발의': 5172, '주요한': 5173, '사팔뜨기': 5174, '광채': 5175, '용의': 5176, '손시늉': 5177, '과실': 5178, '시력': 5179, '화창하다': 5180, '년도': 5181, '내용': 5182, '아버': 5183, '합': 5184, '디다': 5185, '안경': 5186, '자칭': 5187, '딱지': 5188, '떠나오다': 5189, '계곡': 5190, '짠하다': 5191, '존엄': 5192, '딱딱하다': 5193, '사냥개': 5194, '소란': 5195, '혼잡': 5196, '유발': 5197, '식다': 5198, '사들이다': 5199, '육': 5200, '팔만': 5201, '임마': 5202, '자리야': 5203, '일자리': 5204, '지겹다': 5205, '손해': 5206, '토라': 5207, '물살': 5208, '열한': 5209, '어께': 5210, '메더': 5211, '법정': 5212, '상속인': 5213, '야비하다': 5214, '구석구석': 5215, '사치': 5216, '공격': 5217, '덜컥': 5218, '예사': 5219, '가혹하다': 5220, '앨': 5221, '함녀': 5222, '관념': 5223, '처마': 5224, '진상': 5225, '면박': 5226, '식구': 5227, '다리미질': 5228, '남겨지다': 5229, '우애': 5230, '맹목': 5231, '아우르다': 5232, '마오': 5233, '헛된': 5234, '남아도': 5235, '꿈꾸다': 5236, '똥찰': 5237, '철저하다': 5238, '꽃사슴': 5239, '노고': 5240, '치하': 5241, '하사': 5242, '코커스': 5243, '주무시다': 5244, '곤란하다': 5245, '어지간하다': 5246, '물러서다': 5247, '캥캥': 5248, '실망하다': 5249, '주교': 5250, '임명': 5251, '펜': 5252, '무수': 5253, '맨날': 5254, '전환': 5255, '입어보다': 5256, '규칙': 5257, '언월도': 5258, '치켜들다': 5259, '유감': 5260, '남매': 5261, '직업': 5262, '줄다리기': 5263, '승인': 5264, '별도': 5265, '궁도': 5266, '모래': 5267, '알몸': 5268, '고요하다': 5269, '괴팍하다': 5270, '변덕': 5271, '절룩거렸': 5272, '홀랑': 5273, '백합': 5274, '요왕': 5275, '로군': 5276, '버클': 5277, '소개': 5278, '대번에': 5279, '어기': 5280, '낯': 5281, '목말': 5282, '곱셈': 5283, '지리': 5284, '의회': 5285, '한낱': 5286, '아양': 5287, '치부': 5288, '두리': 5289, '콘스탄티노플': 5290, '기이하다': 5291, '한결': 5292, '보필': 5293, '번의': 5294, '먹음': 5295, '혼령': 5296, '생생하다': 5297, '마안': 5298, '화장': 5299, '도구': 5300, '습': 5301, '정돈': 5302, '관자놀이': 5303, '양배추': 5304, '전해지다': 5305, '독보': 5306, '어울리다': 5307, '갔더랬': 5308, '부딪치다': 5309, '후후': 5310, '으': 5311, '려던': 5312, '부러워하다': 5313, '법원': 5314, 'ㅜㅜ': 5315, '나빠지다': 5316, '성경': 5317, '어째서': 5318, '보초': 5319, '적중': 5320, '있으슈': 5321, '거유': 5322, '파이프': 5323, '화살': 5324, '익숙하다': 5325, '샀더랬': 5326, '에헴': 5327, '의논': 5328, '숭고하다': 5329, '파': 5330, '옥신각신': 5331, '밀치다': 5332, '밑동': 5333, '거꾸로': 5334, '제자': 5335, '팔인': 5336, '텅빈': 5337, '갈겨': 5338, '왕깨': 5339, '심성': 5340, '왔더랬': 5341, '성공': 5342, '여생': 5343, '자비롭다': 5344, '쇠테': 5345, '풍습': 5346, '꺾다': 5347, '열정': 5348, '서너': 5349, '나가떨어지다': 5350, '누운': 5351, '총신': 5352, '경작지': 5353, '우러러보': 5354, '간식': 5355, '웃옷': 5356, '입지': 5357, '돋보이다': 5358, '주량': 5359, '공터': 5360, '주부': 5361, '수포': 5362, '승리감': 5363, '물들다': 5364, '단박': 5365, '슈트': 5366, '메르': 5367, '살아오다': 5368, '오들오들': 5369, '재앙': 5370, '한텐': 5371, '죄악': 5372, '까치': 5373, '갠': 5374, '낟알': 5375, '여행가': 5376, '미적': 5377, '닿는뎁쇼': 5378, '용하다': 5379, '온천': 5380, '순례': 5381, '집사': 5382, '위안': 5383, '보냈더랬': 5384, '지참금': 5385, '가치': 5386, '마차도': 5387, '아가리': 5388, '턱': 5389, '변장': 5390, '영광': 5391, '주재': 5392, '덧옷': 5393, '모기': 5394, '건설': 5395, '툭': 5396, '착석': 5397, '바지': 5398, '멜빵': 5399, '빨강': 5400, '악수': 5401, '제기랄': 5402, '노릇': 5403, '상사병': 5404, '일종': 5405, '수심': 5406, '천하': 5407, '꼴사납다': 5408, '발가락': 5409, '설교': 5410, '노획': 5411, '이글': 5412, '야기': 5413, '오직': 5414, '머시아': 5415, '노섬브리아': 5416, '에드윈': 5417, '카': 5418, '캔터베리': 5419, '스티갠드': 5420, '사위': 5421, '지하감옥': 5422, '조예': 5423, '뒤죽박죽': 5424, '울며불며': 5425, '니요': 5426, '뚱딴지': 5427, '저걸': 5428, '대보다': 5429, '폐': 5430, '엄나': 5431, '수군거리다': 5432, '소나기': 5433, '오든': 5434, '어마어마하다': 5435, '예절': 5436, '몰인정하다': 5437, '경향': 5438, '부지': 5439, '깽': 5440, '화상': 5441, '칼날': 5442, '한단': 5443, '타당': 5444, '직시': 5445, '때껏': 5446, '아인': 5447, '비병': 5448, '하모니': 5449, '닥치다': 5450, '판사': 5451, '손재주': 5452, '중국': 5453, '도자기': 5454, '땡그': 5455, '꽂히다': 5456, '긋다': 5457, '마루': 5458, '사각형': 5459, '찬미': 5460, '소생': 5461, '저렇다': 5462, '호화롭다': 5463, '작자': 5464, '거렸어': 5465, '문도': 5466, '연한': 5467, '부탁드리다': 5468, '경계': 5469, '늦추다': 5470, '돌멩이': 5471, '포어포메른': 5472, '지대': 5473, '자국': 5474, '초라하다': 5475, '임무': 5476, '호색': 5477, '아이디어': 5478, '갑작스럽다': 5479, '사오다': 5480, '제지': 5481, '명백하다': 5482, '백해무익하다': 5483, '자슥': 5484, '기근': 5485, '비일비재하다': 5486, '치러지다': 5487, '애로': 5488, '심취': 5489, '검댕': 5490, '칠하다': 5491, '주목': 5492, '부끄럽다': 5493, '따분하다': 5494, '아라하': 5495, '뽀롱이': 5496, '초이': 5497, '형태': 5498, '득': 5499, '혼': 5500, '쪼글쪼글하다': 5501, '안식': 5502, '병약하다': 5503, '어르신': 5504, '자취': 5505, '위도': 5506, '주된': 5507, '수입': 5508, '추가': 5509, '쪼그라들다': 5510, '친절': 5511, '경악': 5512, '얼룩': 5513, '점점이': 5514, '납득': 5515, '속인': 5516, '구우러': 5517, '보장': 5518, '건대': 5519, '보였더랬': 5520, '어도': 5521, '장통': 5522, '타일': 5523, '적합하다': 5524, '재고': 5525, '자꾸나': 5526, '내려놓음': 5527, '게단': 5528, '발작': 5529, '올': 5530, '노여움': 5531, '학교': 5532, '야옹이': 5533, '파멸하다': 5534, '거르면서': 5535, '대면': 5536, '수나': 5537, '똘똘했어': 5538, '새집': 5539, '실컷': 5540, '골다': 5541, '팔방': 5542, '어떠하다': 5543, '일가견': 5544, '때려눕혔다': 5545, '브라': 5546, '켈': 5547, '힌': 5548, '르그': 5549, '자네도': 5550, '거머쥐': 5551, '무궁무진': 5552, '걸세': 5553, '신신당부': 5554, '번지르르하다': 5555, '요런': 5556, '얄밉다': 5557, '습성': 5558, '위조': 5559, '용기병': 5560, '머스킷총': 5561, '가르랑거리다': 5562, '미안': 5563, '순순하다': 5564, '꽃송이': 5565, '장하': 5566, '칭호': 5567, '범': 5568, '꾸다': 5569, '놀림': 5570, '억수': 5571, '가능': 5572, '쌩쌩하다': 5573, '쑹': 5574, '훼방': 5575, '작품': 5576, '목장': 5577, '피클': 5578, '펑퍼짐하다': 5579, '안쪽': 5580, '추방': 5581, '바다코끼리': 5582, '하므다': 5583, '독': 5584, '자상하다': 5585, '바닷가': 5586, '이동': 5587, '탈의실': 5588, '간파했더랬': 5589, '절호': 5590, '출세': 5591, '물자': 5592, '금발머리': 5593, '뜻대로': 5594, '짊어': 5595, '쇠': 5596, '동작': 5597, '엿들': 5598, '앞장서다': 5599, '불로': 5600, '고는': 5601, '정신없이': 5602, '확연': 5603, '부의': 5604, '차이': 5605, '종료': 5606, '편지': 5607, '같은뎁쇼': 5608, '벅차다': 5609, '유리상자': 5610, '외우다': 5611, '잠복': 5612, '착': 5613, '특정하다': 5614, '소리내다': 5615, '필수': 5616, '무게중심': 5617, '쏠리다': 5618, '점칠': 5619, '안나': 5620, '달린다': 5621, '감금': 5622, '상관없다': 5623, '오래도록': 5624, '구리': 5625, '전남편': 5626, '울화통': 5627, '런가': 5628, '뜨내기': 5629, '엮이긴': 5630, '대요': 5631, '지름길': 5632, '택했어': 5633, '자긍심': 5634, '국자': 5635, '파내다': 5636, '출타': 5637, '옷자락': 5638, '자넬': 5639, '양보': 5640, '모피': 5641, '다림질': 5642, '관도': 5643, '침대시트': 5644, '대부분': 5645, '점프': 5646, '알아차리다': 5647, '쏟아지다': 5648, '중인': 5649, '긴박하다': 5650, '군요': 5651, '폐허': 5652, '이도': 5653, '지방': 5654, '벌이다': 5655, '간청': 5656, '익히다': 5657, '절차': 5658, '벌겋다': 5659, '구의': 5660, '멀쩡하다': 5661, '암흑': 5662, '늦': 5663, '꾸러기': 5664, '애끼': 5665, '츠': 5666, '무죄': 5667, '합치': 5668, '이발사': 5669, '면도': 5670, '낯설다': 5671, '활': 5672, '력': 5673, '갖은': 5674, '친하다': 5675, '색시': 5676, '지요': 5677, '임금님': 5678, '힐금힐금': 5679, '권리': 5680, '갇': 5681, '고양': 5682, '듣기': 5683, '하진': 5684, '군주': 5685, '상념': 5686, '짹짹': 5687, '여리고': 5688, '이상은': 5689, '초도': 5690, '뽀뽀': 5691, '쩔뚝': 5692, '칙칙하다': 5693, '푸드득': 5694, '정답': 5695, '목뼈': 5696, '뿌러질': 5697, '스럽지': 5698, '칠흑': 5699, '어두워지다': 5700, '갈수': 5701, '끓다': 5702, '수다': 5703, '보유': 5704, '지난번': 5705, '집단': 5706, '드럽다': 5707, '빗방울': 5708, '상금': 5709, '게는': 5710, '레드와인': 5711, '속에댜': 5712, '숯댕': 5713, '고도': 5714, '아슬아슬하다': 5715, '건승': 5716, '셨': 5717, '에서는': 5718, '가까워지다': 5719, '추워지다': 5720, '엉덩이': 5721, '맺힌': 5722, '끊임없다': 5723, '모질다': 5724, '마스터': 5725, '반기다': 5726, '첫마디': 5727, '이대': 5728, '글렸': 5729, '미지': 5730, '소파': 5731, '대야': 5732, '쓸모': 5733, '라서': 5734, '삼위일체': 5735, '씻기다': 5736, '얼간이': 5737, '원자시': 5738, '꼬이다': 5739, '고자질': 5740, '관절': 5741, '잔혹하다': 5742, '완': 5743, '진행': 5744, '놋쇠': 5745, '명패': 5746, '슬레이트': 5747, '느슨하다': 5748, '타조': 5749, '금줄': 5750, '팬': 5751, '책임': 5752, '진실하다': 5753, '건줄': 5754, '이니까': 5755, '깔개': 5756, '흙': 5757, '오른발': 5758, '님께참': 5759, '치자': 5760, '왕족': 5761, '솔개': 5762, '무조건': 5763, '아이거': 5764, '계기': 5765, '뛰어오다': 5766, '캔디': 5767, '넷째': 5768, '선머슴': 5769, '워': 5770, '쌓다': 5771, '애처롭다': 5772, '허참': 5773, '흐느껴': 5774, '유치': 5775, '찢기다': 5776, '포함': 5777, '신분': 5778, '비천하다': 5779, '매번': 5780, '짙어지다': 5781, '그딴': 5782, '달력': 5783, '내기': 5784, '상당': 5785, '판단': 5786, '뭉치': 5787, '이성': 5788, '달랑': 5789, '낭자': 5790, '거대': 5791, '모서리': 5792, '쑤다': 5793, '단절': 5794, '뿜어져': 5795, '자욱이': 5796, '휜': 5797, '꾸벅꾸벅': 5798, '깄': 5799, '어릿광대': 5800, '빈둥거려': 5801, '축척': 5802, '내색': 5803, '점령': 5804, '일구다': 5805, '구해오': 5806, '잇다': 5807, '칸탈': 5808, '부트': 5809, '제국': 5810, '바깥쪽': 5811, '얼어붙다': 5812, '축': 5813, '소산': 5814, '다분하다': 5815, '에네케': 5816, '베네케': 5817, '운동': 5818, '강구': 5819, '상도': 5820, '넘어가다': 5821, '놀래다': 5822, '찍히다': 5823, '앞쪽': 5824, '느릿느릿': 5825, '꽃다발': 5826, '택해': 5827, '달이': 5828, '가뿐하다': 5829, '아들웨렐': 5830, '이스트라': 5831, '잠결': 5832, '역겹다': 5833, '불꽃': 5834, '튀기다': 5835, '저녁놀': 5836, '내뿜': 5837, '매정하다': 5838, '척도': 5839, '수소': 5840, '꿩': 5841, '날름': 5842, '다람쥐': 5843, '발밑': 5844, '지성': 5845, '불끈': 5846, '그만큼': 5847, '비웃음': 5848, '한가득': 5849, '부슬부슬': 5850, '흥얼거리다': 5851, '했더랬다': 5852, '수석': 5853, '토실하다': 5854, '불청객': 5855, '만반': 5856, '태세': 5857, '살살': 5858, '다래': 5859, '근접하다': 5860, '불성': 5861, '축소': 5862, '만족스럽다': 5863, '떠받치다': 5864, '공이': 5865, '에이': 5866, '연다': 5867, '위기일발': 5868, '쓰리다': 5869, '우월하다': 5870, '증거': 5871, '잡지': 5872, '유리창': 5873, '해고': 5874, '서리': 5875, '헤집다': 5876, '무자비하다': 5877, '엘프': 5878, '대위': 5879, '계급': 5880, '쨍쨍': 5881, '따사롭': 5882, '밀지': 5883, '가상하다': 5884, '왕좌': 5885, '작별': 5886, '악의': 5887, '독뱀': 5888, '애고': 5889, '밀리다': 5890, '소중하다': 5891, '별의별': 5892, '예술': 5893, '소송': 5894, '동그랗다': 5895, '용이': 5896, '남성은': 5897, '리케였다': 5898, '오기': 5899, '얻어맞다': 5900, '뒷발': 5901, '귀중': 5902, '않았더랬': 5903, '쉽사리': 5904, '골풀': 5905, '잘리다': 5906, '우승하다': 5907, '주거': 5908, '맨손': 5909, '분필': 5910, '가루': 5911, '가물가물': 5912, '콧대': 5913, '세고': 5914, '도도하다': 5915, '오는': 5916, '백발': 5917, '뾰족': 5918, '막대기': 5919, '굽기': 5920, '청해': 5921, '맷돌': 5922, '껌껌하다': 5923, '대장간': 5924, '더듬다': 5925, '자만': 5926, '꿈나라': 5927, '반창고': 5928, '부럽다': 5929, '미련': 5930, '휴양': 5931, '행차': 5932, '신지': 5933, '나기': 5934, '한지': 5935, '장미라': 5936, '리신': 5937, '테리어': 5938, '곱슬진': 5939, '글러': 5940, '프록': 5941, '코트': 5942, '겨드랑이': 5943, '어떻': 5944, '왕겨': 5945, '방가지똥': 5946, '대자': 5947, '물정': 5948, '접근': 5949, '작': 5950, '천사일': 5951, '시중': 5952, '마르': 5953, '슬슬': 5954, '땔나무': 5955, '우승자': 5956, '발각': 5957, '노심초사': 5958}\n"
     ]
    }
   ],
   "source": [
    "print(tokenizer.word_index)"
   ]
  },
  {
   "cell_type": "code",
   "execution_count": 127,
   "metadata": {},
   "outputs": [
    {
     "name": "stdout",
     "output_type": "stream",
     "text": [
      "단어 집합(vocabulary)의 크기 : 5958\n",
      "등장 빈도가 2번 이하인 희귀 단어의 수: 3188\n",
      "단어 집합에서 희귀 단어의 비율: 53.507888553205774\n",
      "전체 등장 빈도에서 희귀 단어 등장 빈도 비율: 6.637089041652447\n"
     ]
    }
   ],
   "source": [
    "threshold = 3\n",
    "total_cnt = len(tokenizer.word_index) # 단어의 수\n",
    "rare_cnt = 0 # 등장 빈도수가 threshold보다 작은 단어의 개수를 카운트\n",
    "total_freq = 0 # 훈련 데이터의 전체 단어 빈도수 총 합\n",
    "rare_freq = 0 # 등장 빈도수가 threshold보다 작은 단어의 등장 빈도수의 총 합\n",
    "\n",
    "# 단어와 빈도수의 쌍(pair)을 key와 value로 받는다.\n",
    "for key, value in tokenizer.word_counts.items():\n",
    "    total_freq = total_freq + value\n",
    "\n",
    "    # 단어의 등장 빈도수가 threshold보다 작으면\n",
    "    if(value < threshold):\n",
    "        rare_cnt = rare_cnt + 1\n",
    "        rare_freq = rare_freq + value\n",
    "\n",
    "print('단어 집합(vocabulary)의 크기 :',total_cnt)\n",
    "print('등장 빈도가 %s번 이하인 희귀 단어의 수: %s'%(threshold - 1, rare_cnt))\n",
    "print(\"단어 집합에서 희귀 단어의 비율:\", (rare_cnt / total_cnt)*100)\n",
    "print(\"전체 등장 빈도에서 희귀 단어 등장 빈도 비율:\", (rare_freq / total_freq)*100)"
   ]
  },
  {
   "cell_type": "code",
   "execution_count": 128,
   "metadata": {},
   "outputs": [
    {
     "name": "stdout",
     "output_type": "stream",
     "text": [
      "단어 집합의 크기 : 2771\n"
     ]
    }
   ],
   "source": [
    "# 전체 단어 개수 중 빈도수 2이하인 단어는 제거.\n",
    "# 0번 패딩 토큰을 고려하여 + 1\n",
    "vocab_size = total_cnt - rare_cnt + 1\n",
    "print('단어 집합의 크기 :',vocab_size)"
   ]
  },
  {
   "cell_type": "code",
   "execution_count": 130,
   "metadata": {},
   "outputs": [],
   "source": [
    "tokenizer = Tokenizer(vocab_size) \n",
    "tokenizer.fit_on_texts(X_train)\n",
    "X_train = tokenizer.texts_to_sequences(X_train)\n",
    "X_test = tokenizer.texts_to_sequences(X_test)"
   ]
  },
  {
   "cell_type": "code",
   "execution_count": 131,
   "metadata": {},
   "outputs": [
    {
     "name": "stdout",
     "output_type": "stream",
     "text": [
      "[[2, 686, 194, 422, 39, 49, 9, 392, 1629, 343, 1, 376, 49, 344, 23, 720], [270, 151, 29, 15, 6, 9, 108, 652, 1, 1278], [1032, 2244, 1418, 484, 1, 1033, 2, 1419, 9, 130, 1, 85]]\n"
     ]
    }
   ],
   "source": [
    "print(X_train[:3])"
   ]
  },
  {
   "cell_type": "code",
   "execution_count": 132,
   "metadata": {},
   "outputs": [],
   "source": [
    "# 빈 샘플 제거 \n",
    "drop_train = [index for index, sentence in enumerate(X_train) if len(sentence) < 1]\n",
    "drop_train2 = [index for index, sentence in enumerate(X_test) if len(sentence) < 1]"
   ]
  },
  {
   "cell_type": "code",
   "execution_count": 133,
   "metadata": {},
   "outputs": [
    {
     "name": "stdout",
     "output_type": "stream",
     "text": [
      "5742\n",
      "5727\n",
      "5727\n"
     ]
    },
    {
     "name": "stderr",
     "output_type": "stream",
     "text": [
      "/home/jupyter/anaconda3/envs/book/lib/python3.8/site-packages/numpy/core/_asarray.py:83: VisibleDeprecationWarning: Creating an ndarray from ragged nested sequences (which is a list-or-tuple of lists-or-tuples-or ndarrays with different lengths or shapes) is deprecated. If you meant to do this, you must specify 'dtype=object' when creating the ndarray\n",
      "  return array(a, dtype, copy=False, order=order)\n"
     ]
    }
   ],
   "source": [
    "print(len(X_train))\n",
    "y_train = list(y_train)\n",
    "X_train = np.delete(X_train, drop_train, axis=0)\n",
    "y_train = np.delete(y_train, drop_train, axis=0)\n",
    "print(len(X_train))\n",
    "print(len(y_train))"
   ]
  },
  {
   "cell_type": "code",
   "execution_count": 134,
   "metadata": {},
   "outputs": [
    {
     "name": "stdout",
     "output_type": "stream",
     "text": [
      "633\n",
      "633\n"
     ]
    }
   ],
   "source": [
    "y_test = list(y_test)\n",
    "X_test = np.delete(X_test, drop_train2, axis=0)\n",
    "y_test = np.delete(y_test, drop_train2, axis=0)\n",
    "print(len(X_test))\n",
    "print(len(y_test))"
   ]
  },
  {
   "cell_type": "code",
   "execution_count": 135,
   "metadata": {},
   "outputs": [
    {
     "name": "stdout",
     "output_type": "stream",
     "text": [
      "리뷰의 최대 길이 : 74\n",
      "리뷰의 평균 길이 : 10.031255456609045\n"
     ]
    },
    {
     "data": {
      "image/png": "[encoded data removed]",
      "text/plain": [
       "<Figure size 432x288 with 1 Axes>"
      ]
     },
     "metadata": {
      "needs_background": "light"
     },
     "output_type": "display_data"
    }
   ],
   "source": [
    "# 패딩\n",
    "print('리뷰의 최대 길이 :',max(len(l) for l in X_train))\n",
    "print('리뷰의 평균 길이 :',sum(map(len, X_train))/len(X_train))\n",
    "plt.hist([len(s) for s in X_train], bins=50)\n",
    "plt.xlabel('length of samples')\n",
    "plt.ylabel('number of samples')\n",
    "plt.show()"
   ]
  },
  {
   "cell_type": "code",
   "execution_count": 136,
   "metadata": {},
   "outputs": [],
   "source": [
    "def below_threshold_len(max_len, nested_list):\n",
    "  cnt = 0\n",
    "  for s in nested_list:\n",
    "    if(len(s) <= max_len):\n",
    "        cnt = cnt + 1\n",
    "  print('전체 샘플 중 길이가 %s 이하인 샘플의 비율: %s'%(max_len, (cnt / len(nested_list))*100))"
   ]
  },
  {
   "cell_type": "code",
   "execution_count": 137,
   "metadata": {},
   "outputs": [
    {
     "name": "stdout",
     "output_type": "stream",
     "text": [
      "전체 샘플 중 길이가 30 이하인 샘플의 비율: 98.48088004190676\n"
     ]
    }
   ],
   "source": [
    "max_len = 30\n",
    "below_threshold_len(max_len, X_train)"
   ]
  },
  {
   "cell_type": "code",
   "execution_count": 138,
   "metadata": {},
   "outputs": [],
   "source": [
    "X_train = pad_sequences(X_train, maxlen = max_len)\n",
    "X_test = pad_sequences(X_test, maxlen = max_len)"
   ]
  },
  {
   "cell_type": "code",
   "execution_count": 139,
   "metadata": {},
   "outputs": [],
   "source": [
    "# y(결과값) 라벨링\n",
    "from keras.utils import to_categorical\n",
    "y_train = to_categorical(y_train)\n",
    "y_test = to_categorical(y_test)"
   ]
  },
  {
   "cell_type": "code",
   "execution_count": 140,
   "metadata": {},
   "outputs": [],
   "source": [
    "# 모델 시작 (LSTM)"
   ]
  },
  {
   "cell_type": "code",
   "execution_count": 141,
   "metadata": {},
   "outputs": [],
   "source": [
    "from tensorflow.keras.layers import Embedding, Dense, LSTM, GRU, Bidirectional\n",
    "from tensorflow.keras.models import Sequential\n",
    "from tensorflow.keras.models import load_model\n",
    "from tensorflow.keras.callbacks import EarlyStopping, ModelCheckpoint"
   ]
  },
  {
   "cell_type": "code",
   "execution_count": 142,
   "metadata": {},
   "outputs": [],
   "source": [
    "model = Sequential()\n",
    "model.add(Embedding(vocab_size, 100))\n",
    "model.add(Bidirectional(LSTM(256)))\n",
    "# model.add(Dense(256, activation = 'relu'))\n",
    "model.add(Dense(6,activation = 'softmax'))"
   ]
  },
  {
   "cell_type": "code",
   "execution_count": 143,
   "metadata": {},
   "outputs": [],
   "source": [
    "es = EarlyStopping(monitor = 'val_loss', mode = 'min', verbose = 1, patience = 4)\n",
    "mc = ModelCheckpoint('best_model.h5', monitor = 'val_acc', mode = 'max', verbose = 1, save_best_only = True)"
   ]
  },
  {
   "cell_type": "code",
   "execution_count": 144,
   "metadata": {
    "scrolled": true
   },
   "outputs": [
    {
     "name": "stdout",
     "output_type": "stream",
     "text": [
      "Epoch 1/15\n",
      "77/77 [==============================] - 9s 84ms/step - loss: 1.5478 - acc: 0.3607 - val_loss: 1.3846 - val_acc: 0.4311\n",
      "\n",
      "Epoch 00001: val_acc improved from -inf to 0.43106, saving model to best_model.h5\n",
      "Epoch 2/15\n",
      "77/77 [==============================] - 6s 72ms/step - loss: 1.3420 - acc: 0.4469 - val_loss: 1.2996 - val_acc: 0.4756\n",
      "\n",
      "Epoch 00002: val_acc improved from 0.43106 to 0.47557, saving model to best_model.h5\n",
      "Epoch 3/15\n",
      "77/77 [==============================] - 6s 72ms/step - loss: 1.1974 - acc: 0.5227 - val_loss: 1.2630 - val_acc: 0.5026\n",
      "\n",
      "Epoch 00003: val_acc improved from 0.47557 to 0.50262, saving model to best_model.h5\n",
      "Epoch 4/15\n",
      "77/77 [==============================] - 6s 72ms/step - loss: 0.9292 - acc: 0.6423 - val_loss: 1.3639 - val_acc: 0.4869\n",
      "\n",
      "Epoch 00004: val_acc did not improve from 0.50262\n",
      "Epoch 5/15\n",
      "77/77 [==============================] - 6s 72ms/step - loss: 0.7576 - acc: 0.7294 - val_loss: 1.4588 - val_acc: 0.4764\n",
      "\n",
      "Epoch 00005: val_acc did not improve from 0.50262\n",
      "Epoch 6/15\n",
      "77/77 [==============================] - 6s 72ms/step - loss: 0.6422 - acc: 0.7729 - val_loss: 1.5878 - val_acc: 0.4782\n",
      "\n",
      "Epoch 00006: val_acc did not improve from 0.50262\n",
      "Epoch 7/15\n",
      "77/77 [==============================] - 6s 72ms/step - loss: 0.5473 - acc: 0.8152 - val_loss: 1.9065 - val_acc: 0.4721\n",
      "\n",
      "Epoch 00007: val_acc did not improve from 0.50262\n",
      "Epoch 00007: early stopping\n"
     ]
    }
   ],
   "source": [
    "model.compile(optimizer='adam', loss='categorical_crossentropy', metrics=['acc'])\n",
    "history = model.fit(X_train, y_train, epochs=15, callbacks=[es, mc], batch_size=60, validation_split=0.2)\n",
    "# history = model.fit(X_train, y_train, epochs=15, callbacks=[mc], batch_size=60, validation_split=0.2)"
   ]
  },
  {
   "cell_type": "markdown",
   "metadata": {},
   "source": [
    "- LSTM 256\n",
    "    - adam -> 0.4939\n",
    "    - rmsprop -> 0.4311\n",
    "- LSTM 512 \n",
    "    - adam -> 0.4500 큰차이 없음 \n",
    "- GRU 256 \n",
    "    - adam -> 0.49215\n",
    "    - rmsprop -> 0.4180\n",
    "- GRU 512 \n",
    "    - adam -> 0.49825\n",
    "- BiLSTM\n",
    "    - adam -> 0.49651"
   ]
  },
  {
   "cell_type": "code",
   "execution_count": 145,
   "metadata": {},
   "outputs": [
    {
     "name": "stdout",
     "output_type": "stream",
     "text": [
      "20/20 [==============================] - 1s 22ms/step - loss: 1.3648 - acc: 0.4629\n",
      "\n",
      " 테스트 정확도: 0.4629\n"
     ]
    }
   ],
   "source": [
    "loaded_model = load_model('best_model.h5')\n",
    "print(\"\\n 테스트 정확도: %.4f\" % (loaded_model.evaluate(X_test, y_test)[1]))"
   ]
  },
  {
   "cell_type": "code",
   "execution_count": 97,
   "metadata": {},
   "outputs": [],
   "source": [
    "def sentiment_predict(new_sentence):\n",
    "  new_sentence = okt.morphs(new_sentence, stem=True) # 토큰화\n",
    "  new_sentence = [word for word in new_sentence if not word in stopwords] # 불용어 제거\n",
    "  encoded = tokenizer.texts_to_sequences([new_sentence]) # 정수 인코딩\n",
    "  pad_new = pad_sequences(encoded, maxlen = max_len) # 패딩\n",
    "  score = float(loaded_model.predict(pad_new)) # 예측\n",
    "  if(score > 0.5):\n",
    "    print(\"{:.2f}% 확률로 긍정 리뷰입니다.\\n\".format(score))\n",
    "  else:\n",
    "    print(\"{:.2f}% 확률로 부정 리뷰입니다.\\n\".format(score))"
   ]
  },
  {
   "cell_type": "code",
   "execution_count": 98,
   "metadata": {},
   "outputs": [
    {
     "ename": "TypeError",
     "evalue": "only size-1 arrays can be converted to Python scalars",
     "output_type": "error",
     "traceback": [
      "\u001b[0;31m---------------------------------------------------------------------------\u001b[0m",
      "\u001b[0;31mTypeError\u001b[0m                                 Traceback (most recent call last)",
      "\u001b[0;32m<ipython-input-98-b9f9205567c8>\u001b[0m in \u001b[0;36m<module>\u001b[0;34m\u001b[0m\n\u001b[0;32m----> 1\u001b[0;31m \u001b[0msentiment_predict\u001b[0m\u001b[0;34m(\u001b[0m\u001b[0;34m'안녕 나는 너를 만나러 왔어'\u001b[0m\u001b[0;34m)\u001b[0m\u001b[0;34m\u001b[0m\u001b[0;34m\u001b[0m\u001b[0m\n\u001b[0m",
      "\u001b[0;32m<ipython-input-97-77d7e618322b>\u001b[0m in \u001b[0;36msentiment_predict\u001b[0;34m(new_sentence)\u001b[0m\n\u001b[1;32m      4\u001b[0m   \u001b[0mencoded\u001b[0m \u001b[0;34m=\u001b[0m \u001b[0mtokenizer\u001b[0m\u001b[0;34m.\u001b[0m\u001b[0mtexts_to_sequences\u001b[0m\u001b[0;34m(\u001b[0m\u001b[0;34m[\u001b[0m\u001b[0mnew_sentence\u001b[0m\u001b[0;34m]\u001b[0m\u001b[0;34m)\u001b[0m \u001b[0;31m# 정수 인코딩\u001b[0m\u001b[0;34m\u001b[0m\u001b[0;34m\u001b[0m\u001b[0m\n\u001b[1;32m      5\u001b[0m   \u001b[0mpad_new\u001b[0m \u001b[0;34m=\u001b[0m \u001b[0mpad_sequences\u001b[0m\u001b[0;34m(\u001b[0m\u001b[0mencoded\u001b[0m\u001b[0;34m,\u001b[0m \u001b[0mmaxlen\u001b[0m \u001b[0;34m=\u001b[0m \u001b[0mmax_len\u001b[0m\u001b[0;34m)\u001b[0m \u001b[0;31m# 패딩\u001b[0m\u001b[0;34m\u001b[0m\u001b[0;34m\u001b[0m\u001b[0m\n\u001b[0;32m----> 6\u001b[0;31m   \u001b[0mscore\u001b[0m \u001b[0;34m=\u001b[0m \u001b[0mfloat\u001b[0m\u001b[0;34m(\u001b[0m\u001b[0mloaded_model\u001b[0m\u001b[0;34m.\u001b[0m\u001b[0mpredict\u001b[0m\u001b[0;34m(\u001b[0m\u001b[0mpad_new\u001b[0m\u001b[0;34m)\u001b[0m\u001b[0;34m)\u001b[0m \u001b[0;31m# 예측\u001b[0m\u001b[0;34m\u001b[0m\u001b[0;34m\u001b[0m\u001b[0m\n\u001b[0m\u001b[1;32m      7\u001b[0m   \u001b[0;32mif\u001b[0m\u001b[0;34m(\u001b[0m\u001b[0mscore\u001b[0m \u001b[0;34m>\u001b[0m \u001b[0;36m0.5\u001b[0m\u001b[0;34m)\u001b[0m\u001b[0;34m:\u001b[0m\u001b[0;34m\u001b[0m\u001b[0;34m\u001b[0m\u001b[0m\n\u001b[1;32m      8\u001b[0m     \u001b[0mprint\u001b[0m\u001b[0;34m(\u001b[0m\u001b[0;34m\"{:.2f}% 확률로 긍정 리뷰입니다.\\n\"\u001b[0m\u001b[0;34m.\u001b[0m\u001b[0mformat\u001b[0m\u001b[0;34m(\u001b[0m\u001b[0mscore\u001b[0m\u001b[0;34m)\u001b[0m\u001b[0;34m)\u001b[0m\u001b[0;34m\u001b[0m\u001b[0;34m\u001b[0m\u001b[0m\n",
      "\u001b[0;31mTypeError\u001b[0m: only size-1 arrays can be converted to Python scalars"
     ]
    }
   ],
   "source": [
    "sentiment_predict('안녕 나는 너를 만나러 왔어')"
   ]
  },
  {
   "cell_type": "code",
   "execution_count": null,
   "metadata": {},
   "outputs": [],
   "source": [
    "print(y_train)\n",
    "print(type(y_train))\n",
    "print(y_train[0])\n",
    "print(type(y_train[0]))"
   ]
  },
  {
   "cell_type": "code",
   "execution_count": null,
   "metadata": {},
   "outputs": [],
   "source": [
    "np.unique(y_train)"
   ]
  },
  {
   "cell_type": "code",
   "execution_count": null,
   "metadata": {},
   "outputs": [],
   "source": [
    "copy_dt = y_train.copy()"
   ]
  },
  {
   "cell_type": "code",
   "execution_count": null,
   "metadata": {},
   "outputs": [],
   "source": [
    "y_train = copy_dt\n",
    "y_train"
   ]
  },
  {
   "cell_type": "code",
   "execution_count": 475,
   "metadata": {},
   "outputs": [],
   "source": []
  },
  {
   "cell_type": "code",
   "execution_count": null,
   "metadata": {},
   "outputs": [],
   "source": []
  }
 ],
 "metadata": {
  "kernelspec": {
   "display_name": "Python 3",
   "language": "python",
   "name": "python3"
  },
  "language_info": {
   "codemirror_mode": {
    "name": "ipython",
    "version": 3
   },
   "file_extension": ".py",
   "mimetype": "text/x-python",
   "name": "python",
   "nbconvert_exporter": "python",
   "pygments_lexer": "ipython3",
   "version": "3.8.5"
  }
 },
 "nbformat": 4,
 "nbformat_minor": 4
}

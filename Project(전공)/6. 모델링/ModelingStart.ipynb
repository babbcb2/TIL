{
 "cells": [
  {
   "cell_type": "code",
   "execution_count": 1,
   "metadata": {},
   "outputs": [
    {
     "data": {
      "text/plain": [
       "'C:\\\\Users\\\\Changho_Notebook\\\\anaconda3\\\\python.exe'"
      ]
     },
     "execution_count": 1,
     "metadata": {},
     "output_type": "execute_result"
    }
   ],
   "source": [
    "import sys \n",
    "sys.executable"
   ]
  },
  {
   "cell_type": "code",
   "execution_count": 2,
   "metadata": {},
   "outputs": [],
   "source": [
    "import pandas as pd \n",
    "import numpy as np \n",
    "%matplotlib inline\n",
    "import matplotlib.pyplot as plt\n",
    "import re \n",
    "import urllib.request\n",
    "from konlpy.tag import Okt\n",
    "from tensorflow.keras.preprocessing.text import Tokenizer\n",
    "from tensorflow.keras.preprocessing.sequence import pad_sequences\n",
    "\n",
    "from sklearn.model_selection import train_test_split\n",
    "from sklearn.preprocessing import LabelEncoder\n"
   ]
  },
  {
   "cell_type": "code",
   "execution_count": 5,
   "metadata": {},
   "outputs": [],
   "source": [
    "data = pd.read_csv('./data/test_data0414_test.csv', encoding = 'euc-kr')"
   ]
  },
  {
   "cell_type": "code",
   "execution_count": 6,
   "metadata": {},
   "outputs": [
    {
     "data": {
      "text/html": [
       "<div>\n",
       "<style scoped>\n",
       "    .dataframe tbody tr th:only-of-type {\n",
       "        vertical-align: middle;\n",
       "    }\n",
       "\n",
       "    .dataframe tbody tr th {\n",
       "        vertical-align: top;\n",
       "    }\n",
       "\n",
       "    .dataframe thead th {\n",
       "        text-align: right;\n",
       "    }\n",
       "</style>\n",
       "<table border=\"1\" class=\"dataframe\">\n",
       "  <thead>\n",
       "    <tr style=\"text-align: right;\">\n",
       "      <th></th>\n",
       "      <th>Text</th>\n",
       "      <th>Feeling_Saltlux</th>\n",
       "    </tr>\n",
       "  </thead>\n",
       "  <tbody>\n",
       "    <tr>\n",
       "      <th>0</th>\n",
       "      <td>‘인도’가 적에게 포위를 당했는데, 적들이 은화 6백 개를 내놓을 때까지 물러나지 ...</td>\n",
       "      <td>1</td>\n",
       "    </tr>\n",
       "    <tr>\n",
       "      <th>1</th>\n",
       "      <td>그래서 주민들이 북을 치며 선포하길,</td>\n",
       "      <td>2</td>\n",
       "    </tr>\n",
       "    <tr>\n",
       "      <th>2</th>\n",
       "      <td>*누구든 그 돈을 마련하는 사람을 시장으로 삼겠다*</td>\n",
       "      <td>3</td>\n",
       "    </tr>\n",
       "    <tr>\n",
       "      <th>3</th>\n",
       "      <td>라고 했답니다</td>\n",
       "      <td>4</td>\n",
       "    </tr>\n",
       "    <tr>\n",
       "      <th>4</th>\n",
       "      <td>때마침 가난한 어부가 자신의 아들과 호수에서 물고기를 잡아 생활하다, 그 적들이 들...</td>\n",
       "      <td>5</td>\n",
       "    </tr>\n",
       "    <tr>\n",
       "      <th>...</th>\n",
       "      <td>...</td>\n",
       "      <td>...</td>\n",
       "    </tr>\n",
       "    <tr>\n",
       "      <th>13053</th>\n",
       "      <td>그런데 그 호랑이는 바로 옛날에 나무꾼이 도와주었던 호랑이였습니다</td>\n",
       "      <td>4</td>\n",
       "    </tr>\n",
       "    <tr>\n",
       "      <th>13054</th>\n",
       "      <td>*저는 나이가 들어 어차피 죽을 목숨이니 저를 임금에게 제물로 바치십시오*</td>\n",
       "      <td>1</td>\n",
       "    </tr>\n",
       "    <tr>\n",
       "      <th>13055</th>\n",
       "      <td>그러곤 호랑이는 숨을 거두었습니다</td>\n",
       "      <td>4</td>\n",
       "    </tr>\n",
       "    <tr>\n",
       "      <th>13056</th>\n",
       "      <td>나무꾼은 숨을 거둔 호랑이를 차마 제물로 바치지 못하고 양지바른 땅에 묻어주었습니다</td>\n",
       "      <td>5</td>\n",
       "    </tr>\n",
       "    <tr>\n",
       "      <th>13057</th>\n",
       "      <td>목에 걸린 뼈를 나무꾼이 빼준 이후로 죽을 때까지 나무꾼에게 은혜를 갚는 호랑이의 ...</td>\n",
       "      <td>4</td>\n",
       "    </tr>\n",
       "  </tbody>\n",
       "</table>\n",
       "<p>13058 rows × 2 columns</p>\n",
       "</div>"
      ],
      "text/plain": [
       "                                                    Text  Feeling_Saltlux\n",
       "0      ‘인도’가 적에게 포위를 당했는데, 적들이 은화 6백 개를 내놓을 때까지 물러나지 ...                1\n",
       "1                                  그래서 주민들이 북을 치며 선포하길,                 2\n",
       "2                           *누구든 그 돈을 마련하는 사람을 시장으로 삼겠다*                3\n",
       "3                                                라고 했답니다                4\n",
       "4      때마침 가난한 어부가 자신의 아들과 호수에서 물고기를 잡아 생활하다, 그 적들이 들...                5\n",
       "...                                                  ...              ...\n",
       "13053               그런데 그 호랑이는 바로 옛날에 나무꾼이 도와주었던 호랑이였습니다                4\n",
       "13054          *저는 나이가 들어 어차피 죽을 목숨이니 저를 임금에게 제물로 바치십시오*                1\n",
       "13055                                 그러곤 호랑이는 숨을 거두었습니다                4\n",
       "13056     나무꾼은 숨을 거둔 호랑이를 차마 제물로 바치지 못하고 양지바른 땅에 묻어주었습니다                5\n",
       "13057  목에 걸린 뼈를 나무꾼이 빼준 이후로 죽을 때까지 나무꾼에게 은혜를 갚는 호랑이의 ...                4\n",
       "\n",
       "[13058 rows x 2 columns]"
      ]
     },
     "execution_count": 6,
     "metadata": {},
     "output_type": "execute_result"
    }
   ],
   "source": [
    "data"
   ]
  },
  {
   "cell_type": "code",
   "execution_count": 7,
   "metadata": {},
   "outputs": [
    {
     "name": "stdout",
     "output_type": "stream",
     "text": [
      "13058\n"
     ]
    }
   ],
   "source": [
    "print(len(data))"
   ]
  },
  {
   "cell_type": "code",
   "execution_count": 8,
   "metadata": {},
   "outputs": [],
   "source": [
    "data = data.iloc[:,:2]"
   ]
  },
  {
   "cell_type": "code",
   "execution_count": 9,
   "metadata": {},
   "outputs": [
    {
     "data": {
      "text/html": [
       "<div>\n",
       "<style scoped>\n",
       "    .dataframe tbody tr th:only-of-type {\n",
       "        vertical-align: middle;\n",
       "    }\n",
       "\n",
       "    .dataframe tbody tr th {\n",
       "        vertical-align: top;\n",
       "    }\n",
       "\n",
       "    .dataframe thead th {\n",
       "        text-align: right;\n",
       "    }\n",
       "</style>\n",
       "<table border=\"1\" class=\"dataframe\">\n",
       "  <thead>\n",
       "    <tr style=\"text-align: right;\">\n",
       "      <th></th>\n",
       "      <th>Text</th>\n",
       "      <th>Feeling_Saltlux</th>\n",
       "    </tr>\n",
       "  </thead>\n",
       "  <tbody>\n",
       "    <tr>\n",
       "      <th>0</th>\n",
       "      <td>‘인도’가 적에게 포위를 당했는데, 적들이 은화 6백 개를 내놓을 때까지 물러나지 ...</td>\n",
       "      <td>1</td>\n",
       "    </tr>\n",
       "    <tr>\n",
       "      <th>1</th>\n",
       "      <td>그래서 주민들이 북을 치며 선포하길,</td>\n",
       "      <td>2</td>\n",
       "    </tr>\n",
       "    <tr>\n",
       "      <th>2</th>\n",
       "      <td>*누구든 그 돈을 마련하는 사람을 시장으로 삼겠다*</td>\n",
       "      <td>3</td>\n",
       "    </tr>\n",
       "    <tr>\n",
       "      <th>3</th>\n",
       "      <td>라고 했답니다</td>\n",
       "      <td>4</td>\n",
       "    </tr>\n",
       "    <tr>\n",
       "      <th>4</th>\n",
       "      <td>때마침 가난한 어부가 자신의 아들과 호수에서 물고기를 잡아 생활하다, 그 적들이 들...</td>\n",
       "      <td>5</td>\n",
       "    </tr>\n",
       "    <tr>\n",
       "      <th>...</th>\n",
       "      <td>...</td>\n",
       "      <td>...</td>\n",
       "    </tr>\n",
       "    <tr>\n",
       "      <th>13053</th>\n",
       "      <td>그런데 그 호랑이는 바로 옛날에 나무꾼이 도와주었던 호랑이였습니다</td>\n",
       "      <td>4</td>\n",
       "    </tr>\n",
       "    <tr>\n",
       "      <th>13054</th>\n",
       "      <td>*저는 나이가 들어 어차피 죽을 목숨이니 저를 임금에게 제물로 바치십시오*</td>\n",
       "      <td>1</td>\n",
       "    </tr>\n",
       "    <tr>\n",
       "      <th>13055</th>\n",
       "      <td>그러곤 호랑이는 숨을 거두었습니다</td>\n",
       "      <td>4</td>\n",
       "    </tr>\n",
       "    <tr>\n",
       "      <th>13056</th>\n",
       "      <td>나무꾼은 숨을 거둔 호랑이를 차마 제물로 바치지 못하고 양지바른 땅에 묻어주었습니다</td>\n",
       "      <td>5</td>\n",
       "    </tr>\n",
       "    <tr>\n",
       "      <th>13057</th>\n",
       "      <td>목에 걸린 뼈를 나무꾼이 빼준 이후로 죽을 때까지 나무꾼에게 은혜를 갚는 호랑이의 ...</td>\n",
       "      <td>4</td>\n",
       "    </tr>\n",
       "  </tbody>\n",
       "</table>\n",
       "<p>13058 rows × 2 columns</p>\n",
       "</div>"
      ],
      "text/plain": [
       "                                                    Text  Feeling_Saltlux\n",
       "0      ‘인도’가 적에게 포위를 당했는데, 적들이 은화 6백 개를 내놓을 때까지 물러나지 ...                1\n",
       "1                                  그래서 주민들이 북을 치며 선포하길,                 2\n",
       "2                           *누구든 그 돈을 마련하는 사람을 시장으로 삼겠다*                3\n",
       "3                                                라고 했답니다                4\n",
       "4      때마침 가난한 어부가 자신의 아들과 호수에서 물고기를 잡아 생활하다, 그 적들이 들...                5\n",
       "...                                                  ...              ...\n",
       "13053               그런데 그 호랑이는 바로 옛날에 나무꾼이 도와주었던 호랑이였습니다                4\n",
       "13054          *저는 나이가 들어 어차피 죽을 목숨이니 저를 임금에게 제물로 바치십시오*                1\n",
       "13055                                 그러곤 호랑이는 숨을 거두었습니다                4\n",
       "13056     나무꾼은 숨을 거둔 호랑이를 차마 제물로 바치지 못하고 양지바른 땅에 묻어주었습니다                5\n",
       "13057  목에 걸린 뼈를 나무꾼이 빼준 이후로 죽을 때까지 나무꾼에게 은혜를 갚는 호랑이의 ...                4\n",
       "\n",
       "[13058 rows x 2 columns]"
      ]
     },
     "execution_count": 9,
     "metadata": {},
     "output_type": "execute_result"
    }
   ],
   "source": [
    "data"
   ]
  },
  {
   "cell_type": "code",
   "execution_count": 11,
   "metadata": {},
   "outputs": [
    {
     "data": {
      "text/plain": [
       "(11740, 7)"
      ]
     },
     "execution_count": 11,
     "metadata": {},
     "output_type": "execute_result"
    }
   ],
   "source": [
    "data['Text'].nunique(), data['Feeling_Saltlux'].nunique()"
   ]
  },
  {
   "cell_type": "code",
   "execution_count": 12,
   "metadata": {},
   "outputs": [
    {
     "data": {
      "text/html": [
       "<div>\n",
       "<style scoped>\n",
       "    .dataframe tbody tr th:only-of-type {\n",
       "        vertical-align: middle;\n",
       "    }\n",
       "\n",
       "    .dataframe tbody tr th {\n",
       "        vertical-align: top;\n",
       "    }\n",
       "\n",
       "    .dataframe thead th {\n",
       "        text-align: right;\n",
       "    }\n",
       "</style>\n",
       "<table border=\"1\" class=\"dataframe\">\n",
       "  <thead>\n",
       "    <tr style=\"text-align: right;\">\n",
       "      <th></th>\n",
       "      <th>Text</th>\n",
       "      <th>Feeling_Saltlux</th>\n",
       "    </tr>\n",
       "  </thead>\n",
       "  <tbody>\n",
       "    <tr>\n",
       "      <th>54</th>\n",
       "      <td>라고 말했어요</td>\n",
       "      <td>4</td>\n",
       "    </tr>\n",
       "    <tr>\n",
       "      <th>143</th>\n",
       "      <td>*젬지 산아, 젬지 산아, 열리거라*</td>\n",
       "      <td>4</td>\n",
       "    </tr>\n",
       "    <tr>\n",
       "      <th>150</th>\n",
       "      <td>*젬지 산아, 젬지 산아, 닫히거라*</td>\n",
       "      <td>1</td>\n",
       "    </tr>\n",
       "    <tr>\n",
       "      <th>172</th>\n",
       "      <td>*젬지 산아, 젬지 산아, 열리거라*</td>\n",
       "      <td>4</td>\n",
       "    </tr>\n",
       "    <tr>\n",
       "      <th>215</th>\n",
       "      <td>라고 그가 말했어요</td>\n",
       "      <td>5</td>\n",
       "    </tr>\n",
       "    <tr>\n",
       "      <th>...</th>\n",
       "      <td>...</td>\n",
       "      <td>...</td>\n",
       "    </tr>\n",
       "    <tr>\n",
       "      <th>12634</th>\n",
       "      <td>라며 앨리스가 말했어요</td>\n",
       "      <td>4</td>\n",
       "    </tr>\n",
       "    <tr>\n",
       "      <th>12645</th>\n",
       "      <td>라며 앨리스가 말했어요</td>\n",
       "      <td>4</td>\n",
       "    </tr>\n",
       "    <tr>\n",
       "      <th>12975</th>\n",
       "      <td>*뭐라고*</td>\n",
       "      <td>1</td>\n",
       "    </tr>\n",
       "    <tr>\n",
       "      <th>13003</th>\n",
       "      <td>라고 물었습니다</td>\n",
       "      <td>1</td>\n",
       "    </tr>\n",
       "    <tr>\n",
       "      <th>13012</th>\n",
       "      <td>*어이*</td>\n",
       "      <td>1</td>\n",
       "    </tr>\n",
       "  </tbody>\n",
       "</table>\n",
       "<p>1318 rows × 2 columns</p>\n",
       "</div>"
      ],
      "text/plain": [
       "                       Text  Feeling_Saltlux\n",
       "54                  라고 말했어요                4\n",
       "143    *젬지 산아, 젬지 산아, 열리거라*                4\n",
       "150    *젬지 산아, 젬지 산아, 닫히거라*                1\n",
       "172    *젬지 산아, 젬지 산아, 열리거라*                4\n",
       "215              라고 그가 말했어요                5\n",
       "...                     ...              ...\n",
       "12634          라며 앨리스가 말했어요                4\n",
       "12645          라며 앨리스가 말했어요                4\n",
       "12975                 *뭐라고*                1\n",
       "13003              라고 물었습니다                1\n",
       "13012                  *어이*                1\n",
       "\n",
       "[1318 rows x 2 columns]"
      ]
     },
     "metadata": {},
     "output_type": "display_data"
    }
   ],
   "source": [
    "display(data[data.duplicated()])"
   ]
  },
  {
   "cell_type": "code",
   "execution_count": 14,
   "metadata": {},
   "outputs": [
    {
     "data": {
      "text/plain": [
       "4    4969\n",
       "5    4733\n",
       "1    1518\n",
       "3     756\n",
       "2     695\n",
       "7     271\n",
       "6     116\n",
       "Name: Feeling_Saltlux, dtype: int64"
      ]
     },
     "execution_count": 14,
     "metadata": {},
     "output_type": "execute_result"
    }
   ],
   "source": [
    "data['Feeling_Saltlux'].value_counts()"
   ]
  },
  {
   "cell_type": "code",
   "execution_count": 195,
   "metadata": {},
   "outputs": [],
   "source": [
    "data = data[data[\"Feeling\"] != 22.0]"
   ]
  },
  {
   "cell_type": "code",
   "execution_count": 16,
   "metadata": {},
   "outputs": [
    {
     "data": {
      "text/plain": [
       "4    4969\n",
       "5    4733\n",
       "1    1518\n",
       "3     756\n",
       "2     695\n",
       "7     271\n",
       "6     116\n",
       "Name: Feeling_Saltlux, dtype: int64"
      ]
     },
     "execution_count": 16,
     "metadata": {},
     "output_type": "execute_result"
    }
   ],
   "source": [
    "data['Feeling_Saltlux'].value_counts()"
   ]
  },
  {
   "cell_type": "code",
   "execution_count": 18,
   "metadata": {},
   "outputs": [
    {
     "data": {
      "text/plain": [
       "<AxesSubplot:>"
      ]
     },
     "execution_count": 18,
     "metadata": {},
     "output_type": "execute_result"
    },
    {
     "data": {
      "image/png": "[encoded data removed]",
      "text/plain": [
       "<Figure size 432x288 with 1 Axes>"
      ]
     },
     "metadata": {
      "needs_background": "light"
     },
     "output_type": "display_data"
    }
   ],
   "source": [
    "data['Feeling_Saltlux'].value_counts().plot(kind='bar')"
   ]
  },
  {
   "cell_type": "code",
   "execution_count": 198,
   "metadata": {},
   "outputs": [],
   "source": [
    "#  결측치 제거"
   ]
  },
  {
   "cell_type": "code",
   "execution_count": 19,
   "metadata": {},
   "outputs": [
    {
     "data": {
      "text/plain": [
       "Text               0\n",
       "Feeling_Saltlux    0\n",
       "dtype: int64"
      ]
     },
     "execution_count": 19,
     "metadata": {},
     "output_type": "execute_result"
    }
   ],
   "source": [
    "data.isnull().sum()"
   ]
  },
  {
   "cell_type": "code",
   "execution_count": 20,
   "metadata": {},
   "outputs": [
    {
     "name": "stdout",
     "output_type": "stream",
     "text": [
      "False\n"
     ]
    }
   ],
   "source": [
    "data = data.dropna(how = 'any')\n",
    "print(data.isnull().values.any())"
   ]
  },
  {
   "cell_type": "code",
   "execution_count": 22,
   "metadata": {},
   "outputs": [
    {
     "data": {
      "text/plain": [
       "0        1\n",
       "1        2\n",
       "2        3\n",
       "3        4\n",
       "4        5\n",
       "        ..\n",
       "13053    4\n",
       "13054    1\n",
       "13055    4\n",
       "13056    5\n",
       "13057    4\n",
       "Name: Feeling_Saltlux, Length: 13058, dtype: int64"
      ]
     },
     "execution_count": 22,
     "metadata": {},
     "output_type": "execute_result"
    }
   ],
   "source": [
    "data = data.astype({\"Feeling_Saltlux\" : 'int64'})\n",
    "data['Feeling_Saltlux']"
   ]
  },
  {
   "cell_type": "code",
   "execution_count": 23,
   "metadata": {},
   "outputs": [
    {
     "data": {
      "text/html": [
       "<div>\n",
       "<style scoped>\n",
       "    .dataframe tbody tr th:only-of-type {\n",
       "        vertical-align: middle;\n",
       "    }\n",
       "\n",
       "    .dataframe tbody tr th {\n",
       "        vertical-align: top;\n",
       "    }\n",
       "\n",
       "    .dataframe thead th {\n",
       "        text-align: right;\n",
       "    }\n",
       "</style>\n",
       "<table border=\"1\" class=\"dataframe\">\n",
       "  <thead>\n",
       "    <tr style=\"text-align: right;\">\n",
       "      <th></th>\n",
       "      <th>Text</th>\n",
       "      <th>Feeling_Saltlux</th>\n",
       "    </tr>\n",
       "  </thead>\n",
       "  <tbody>\n",
       "    <tr>\n",
       "      <th>0</th>\n",
       "      <td>인도가 적에게 포위를 당했는데 적들이 은화 백 개를 내놓을 때까지 물러나지 않겠다고...</td>\n",
       "      <td>1</td>\n",
       "    </tr>\n",
       "    <tr>\n",
       "      <th>1</th>\n",
       "      <td>그래서 주민들이 북을 치며 선포하길</td>\n",
       "      <td>2</td>\n",
       "    </tr>\n",
       "    <tr>\n",
       "      <th>2</th>\n",
       "      <td>누구든 그 돈을 마련하는 사람을 시장으로 삼겠다</td>\n",
       "      <td>3</td>\n",
       "    </tr>\n",
       "    <tr>\n",
       "      <th>3</th>\n",
       "      <td>라고 했답니다</td>\n",
       "      <td>4</td>\n",
       "    </tr>\n",
       "    <tr>\n",
       "      <th>4</th>\n",
       "      <td>때마침 가난한 어부가 자신의 아들과 호수에서 물고기를 잡아 생활하다 그 적들이 들이...</td>\n",
       "      <td>5</td>\n",
       "    </tr>\n",
       "    <tr>\n",
       "      <th>...</th>\n",
       "      <td>...</td>\n",
       "      <td>...</td>\n",
       "    </tr>\n",
       "    <tr>\n",
       "      <th>13053</th>\n",
       "      <td>그런데 그 호랑이는 바로 옛날에 나무꾼이 도와주었던 호랑이였습니다</td>\n",
       "      <td>4</td>\n",
       "    </tr>\n",
       "    <tr>\n",
       "      <th>13054</th>\n",
       "      <td>저는 나이가 들어 어차피 죽을 목숨이니 저를 임금에게 제물로 바치십시오</td>\n",
       "      <td>1</td>\n",
       "    </tr>\n",
       "    <tr>\n",
       "      <th>13055</th>\n",
       "      <td>그러곤 호랑이는 숨을 거두었습니다</td>\n",
       "      <td>4</td>\n",
       "    </tr>\n",
       "    <tr>\n",
       "      <th>13056</th>\n",
       "      <td>나무꾼은 숨을 거둔 호랑이를 차마 제물로 바치지 못하고 양지바른 땅에 묻어주었습니다</td>\n",
       "      <td>5</td>\n",
       "    </tr>\n",
       "    <tr>\n",
       "      <th>13057</th>\n",
       "      <td>목에 걸린 뼈를 나무꾼이 빼준 이후로 죽을 때까지 나무꾼에게 은혜를 갚는 호랑이의 ...</td>\n",
       "      <td>4</td>\n",
       "    </tr>\n",
       "  </tbody>\n",
       "</table>\n",
       "<p>13058 rows × 2 columns</p>\n",
       "</div>"
      ],
      "text/plain": [
       "                                                    Text  Feeling_Saltlux\n",
       "0      인도가 적에게 포위를 당했는데 적들이 은화 백 개를 내놓을 때까지 물러나지 않겠다고...                1\n",
       "1                                   그래서 주민들이 북을 치며 선포하길                 2\n",
       "2                             누구든 그 돈을 마련하는 사람을 시장으로 삼겠다                3\n",
       "3                                                라고 했답니다                4\n",
       "4      때마침 가난한 어부가 자신의 아들과 호수에서 물고기를 잡아 생활하다 그 적들이 들이...                5\n",
       "...                                                  ...              ...\n",
       "13053               그런데 그 호랑이는 바로 옛날에 나무꾼이 도와주었던 호랑이였습니다                4\n",
       "13054            저는 나이가 들어 어차피 죽을 목숨이니 저를 임금에게 제물로 바치십시오                1\n",
       "13055                                 그러곤 호랑이는 숨을 거두었습니다                4\n",
       "13056     나무꾼은 숨을 거둔 호랑이를 차마 제물로 바치지 못하고 양지바른 땅에 묻어주었습니다                5\n",
       "13057  목에 걸린 뼈를 나무꾼이 빼준 이후로 죽을 때까지 나무꾼에게 은혜를 갚는 호랑이의 ...                4\n",
       "\n",
       "[13058 rows x 2 columns]"
      ]
     },
     "execution_count": 23,
     "metadata": {},
     "output_type": "execute_result"
    }
   ],
   "source": [
    "# 한글만 남기기 \n",
    "\n",
    "data['Text'] = data['Text'].str.replace(\"[^ㄱ-ㅎㅏ-ㅣ가-힣 ]\",\"\")\n",
    "data"
   ]
  },
  {
   "cell_type": "code",
   "execution_count": 26,
   "metadata": {},
   "outputs": [],
   "source": [
    "X_train, X_test, y_train, y_test = train_test_split(data['Text'], \n",
    "                                                    data['Feeling_Saltlux'], \n",
    "                                                    test_size=0.1, \n",
    "                                                    random_state=1004)"
   ]
  },
  {
   "cell_type": "code",
   "execution_count": 27,
   "metadata": {},
   "outputs": [
    {
     "name": "stdout",
     "output_type": "stream",
     "text": [
      "7852                                      잠시 서 있던 농부가 마침내 \n",
      "8312                                           그럼 아내가 맞잖아요\n",
      "8560                                         하느님 제 수명은 얼마죠\n",
      "5538     수줍어하며 그녀가 씻어내자 얼굴과 손이 다시금 상아 빛깔보다 더 새하얗게 변하며 본...\n",
      "12245                                확실히 계속 편치 않아 보일 거 같았죠\n",
      "                               ...                        \n",
      "8206                   숲에 사는 새들이 날아와 어제처럼 죄다 주워 먹고 간 뒤였거든요\n",
      "8391          라며 이름 없던 작은 새가 독수리의 가슴부분 깃털 사이에서 삐져나오며 소리쳤어요\n",
      "9455             하지만 가까워짐에 따라 재봉사의 눈이 휘둥그레지고 입이 딱 벌어지지 뭐예요\n",
      "4127                불쌍한 딸은 엄마를 피해 달아나 거기서 그리 멀지 않은 숲에 숨었어요\n",
      "10763                               뭐 이리 반대를 잘하는 애벌레가 다 있담\n",
      "Name: Text, Length: 11752, dtype: object\n",
      "10302    그 말을 하며 자기도 만족스러웠는지 새끼 독수리는 미소 지은 얼굴을 숙여 감추었다\n",
      "1456                  하녀가 궁전으로 가 그 말을 전하자 공주가 직접 찾아왔어요\n",
      "8721                      저 딴 식으로 건물 지어 멀쩡할 집이 어디 있어  \n",
      "12693                                           으앙 배고파\n",
      "8646                                            모르겠는데요\n",
      "                             ...                      \n",
      "12603                                     라며 앨리스가 말했어요\n",
      "8271                 벽들 위에 걸린 푸른 비단에선 황금 꽃들이 자라나고 있었고요\n",
      "4668     후작은 공주를 도우며 누구보다 제일 먼저 성채 안으로 들어간 왕을 뒤따라 들어갔다\n",
      "9392                                       그들은 깜짝 놀랐어요\n",
      "7229                                        우와 배부르다 이거\n",
      "Name: Text, Length: 1306, dtype: object\n",
      "7852     4\n",
      "8312     4\n",
      "8560     1\n",
      "5538     4\n",
      "12245    4\n",
      "        ..\n",
      "8206     5\n",
      "8391     5\n",
      "9455     4\n",
      "4127     7\n",
      "10763    5\n",
      "Name: Feeling_Saltlux, Length: 11752, dtype: int64\n",
      "10302    5\n",
      "1456     5\n",
      "8721     1\n",
      "12693    1\n",
      "8646     3\n",
      "        ..\n",
      "12603    4\n",
      "8271     4\n",
      "4668     2\n",
      "9392     4\n",
      "7229     4\n",
      "Name: Feeling_Saltlux, Length: 1306, dtype: int64\n"
     ]
    }
   ],
   "source": [
    "print(X_train)\n",
    "print(X_test)\n",
    "print(y_train)\n",
    "print(y_test)"
   ]
  },
  {
   "cell_type": "code",
   "execution_count": 28,
   "metadata": {},
   "outputs": [],
   "source": [
    "# 토큰화"
   ]
  },
  {
   "cell_type": "code",
   "execution_count": 29,
   "metadata": {},
   "outputs": [],
   "source": [
    "# 추후 늘리기\n",
    "stopwords = ['의','가','이','은','들','는','좀','잘','걍','과','도','를','으로','자','에','와','한','하다']"
   ]
  },
  {
   "cell_type": "code",
   "execution_count": 30,
   "metadata": {},
   "outputs": [],
   "source": [
    "okt = Okt()\n",
    "X_trains = []\n",
    "for sentence in X_train:\n",
    "    temp_X = okt.morphs(sentence, stem = True) # 토큰화 \n",
    "    temp_X = [word for word in temp_X if not word in stopwords]\n",
    "    X_trains.append(temp_X)"
   ]
  },
  {
   "cell_type": "code",
   "execution_count": 31,
   "metadata": {},
   "outputs": [],
   "source": [
    "# word_list = []\n",
    "# for word in temp_X :\n",
    "#    if not word in stopwords:\n",
    "#        word_list.append(word)"
   ]
  },
  {
   "cell_type": "code",
   "execution_count": 32,
   "metadata": {},
   "outputs": [],
   "source": [
    "okt = Okt()\n",
    "X_tests = []\n",
    "for sentence in X_test:\n",
    "    temp_X = okt.morphs(sentence, stem = True) # 토큰화 \n",
    "    temp_X = [word for word in temp_X if not word in stopwords]\n",
    "    X_tests.append(temp_X)"
   ]
  },
  {
   "cell_type": "code",
   "execution_count": 33,
   "metadata": {},
   "outputs": [],
   "source": [
    "X_train = X_trains\n",
    "X_test = X_tests"
   ]
  },
  {
   "cell_type": "code",
   "execution_count": 34,
   "metadata": {},
   "outputs": [
    {
     "name": "stdout",
     "output_type": "stream",
     "text": [
      "[['잠시', '서다', '있다', '농부가', '마침내'], ['그렇다', '아내', '맞다'], ['하느님', '제', '수명', '얼마', '죠']]\n",
      "[['그', '말', '을', '자기', '만족스럽다', '새끼', '독수리', '미소', '지은', '얼굴', '을', '숙이다', '감추다'], ['하녀', '궁전', '가다', '그', '말', '을', '전하', '공주', '직접', '찾아오다'], ['저', '따다', '식', '건물', '지다', '멀쩡하다', '집', '어디', '있다']]\n"
     ]
    }
   ],
   "source": [
    "print(X_train[:3])\n",
    "print(X_test[:3])"
   ]
  },
  {
   "cell_type": "code",
   "execution_count": 35,
   "metadata": {},
   "outputs": [],
   "source": [
    "# 정수 인코딩\n",
    "tokenizer = Tokenizer() \n",
    "tokenizer.fit_on_texts(X_train)"
   ]
  },
  {
   "cell_type": "code",
   "execution_count": 36,
   "metadata": {},
   "outputs": [
    {
     "name": "stdout",
     "output_type": "stream",
     "text": [
      "{'을': 1, '그': 2, '말': 3, '있다': 4, '그녀': 5, '라며': 6, '그렇다': 7, '로': 8, '보다': 9, '않다': 10, '에게': 11, '없다': 12, '이다': 13, '에서': 14, '자신': 15, '내': 16, '게': 17, '거': 18, '앨리스': 19, '가다': 20, '되다': 21, '수': 22, '하지만': 23, '것': 24, '왕': 25, '들다': 26, '고': 27, '다': 28, '요': 29, '더': 30, '다음': 31, '네': 32, '그래서': 33, '저': 34, '두': 35, '생각': 36, '다시': 37, '때': 38, '말다': 39, '오다': 40, '안': 41, '하나': 42, '못': 43, '걸': 44, '아니다': 45, '제': 46, '되어다': 47, '님': 48, '사람': 49, '예요': 50, '만': 51, '뭐': 52, '집': 53, '라고': 54, '먹다': 55, '공주': 56, '엔': 57, '아이': 58, '소리': 59, '왕자': 60, '크다': 61, '아': 62, '까지': 63, '당신': 64, '같다': 65, '해주다': 66, '날': 67, '시작': 68, '나': 69, '모두': 70, '하고': 71, '아내': 72, '눈': 73, '알다': 74, '어떻다': 75, '자다': 76, '아빠': 77, '좋다': 78, '앉다': 79, '번': 80, '왕비': 81, '지': 82, '버리다': 83, '그리고': 84, '속': 85, '손': 86, '정말': 87, '이제': 88, '세': 89, '주다': 90, '대답': 91, '일': 92, '야': 93, '나오다': 94, '작다': 95, '난': 96, '받다': 97, '우리': 98, '문': 99, '모든': 100, '위': 101, '죠': 102, '들어가다': 103, '엄마': 104, '또': 105, '그러자': 106, '나무': 107, '고양이': 108, '숲': 109, '때문': 110, '너': 111, '인': 112, '아들': 113, '새': 114, '여기': 115, '전': 116, '며': 117, '토끼': 118, '보고': 119, '지금': 120, '마리': 121, '이렇게': 122, '모르다': 123, '나다': 124, '거기': 125, '다른': 126, '라': 127, '머리': 128, '서': 129, '싶다': 130, '함께': 131, '생쥐': 132, '자기': 133, '곧': 134, '너무': 135, '소녀': 136, '보이다': 137, '적': 138, '건': 139, '바람': 140, '돌아오다': 141, '번째': 142, '죽다': 143, '그때': 144, '어리다': 145, '후': 146, '도착': 147, '앞': 148, '아주': 149, '차다': 150, '물': 151, '몸': 152, '딸': 153, '한스': 154, '뒤': 155, '계속': 156, '이지': 157, '오': 158, '아래': 159, '소리치다': 160, '너무도': 161, '물다': 162, '명': 163, '알': 164, '많다': 165, '해보다': 166, '서다': 167, '아무': 168, '해': 169, '청년': 170, '이렇다': 171, '아름답다': 172, '그건': 173, '난쟁이': 174, '내다': 175, '만들다': 176, '방': 177, '사랑': 178, '즉시': 179, '어느': 180, '가지': 181, '그렇게': 182, '형': 183, '처럼': 184, '얘기': 185, '개': 186, '길': 187, '중': 188, '사이': 189, '거야': 190, '찾다': 191, '주인': 192, '그게': 193, '옆': 194, '나가다': 195, '누구': 196, '줄': 197, '이나': 198, '이야': 199, '남편': 200, '밤': 201, '선': 202, '입': 203, '테': 204, '아가씨': 205, '새끼': 206, '요정': 207, '일이': 208, '잡다': 209, '세상': 210, '분': 211, '얼굴': 212, '침대': 213, '목소리': 214, '어디': 215, '하인': 216, '그냥': 217, '목': 218, '그리다': 219, '이번': 220, '곳': 221, '떨어지다': 222, '가장': 223, '기다': 224, '왜': 225, '듯': 226, '젊은이': 227, '시간': 228, '보내다': 229, '마음': 230, '든': 231, '쪽': 232, '두다': 233, '왜냐면': 234, '같이': 235, '성': 236, '살다': 237, '걸다': 238, '괴물': 239, '온': 240, '니': 241, '자리': 242, '여왕': 243, '살': 244, '채': 245, '년': 246, '그리하여': 247, '치다': 248, '일어나다': 249, '애': 250, '듣다': 251, '동안': 252, '불쌍하다': 253, '소년': 254, '갈다': 255, '돼다': 256, '대로': 257, '정도': 258, '폐하': 259, '언니': 260, '아침': 261, '황금': 262, '께': 263, '눕다': 264, '넌': 265, '옷': 266, '놀라다': 267, '막': 268, '늑대': 269, '발': 270, '모습': 271, '무슨': 272, '없이': 273, '입다': 274, '그걸': 275, '땅': 276, '남자': 277, '씩': 278, '마침내': 279, '결국': 280, '면': 281, '께서': 282, '뜨다': 283, '바로': 284, '나르다': 285, '부르다': 286, '그리핀': 287, '기쁘다': 288, '누가': 289, '모자': 290, '구': 291, '에도': 292, '쥐': 293, '하': 294, '친구': 295, '아프다': 296, '잠': 297, '달라': 298, '돌아가다': 299, '고개': 300, '돈': 301, '거인': 302, '열다': 303, '염소': 304, '들이다': 305, '부터': 306, '어': 307, '시': 308, '꺼내다': 309, '오빠': 310, '하느님': 311, '집다': 312, '마차': 313, '불': 314, '들어오다': 315, '저녁': 316, '동물': 317, '궁전': 318, '장수': 319, '예쁘다': 320, '시키다': 321, '또한': 322, '수가': 323, '마치': 324, '말씀': 325, '변하다': 326, '배우다': 327, '다리': 328, '신데렐라': 329, '야하다': 330, '뭔': 331, '어찌': 332, '마다': 333, '타고': 334, '이며': 335, '잠시': 336, '맞다': 337, '왕국': 338, '둘': 339, '여자': 340, '너희': 341, '거리': 342, '거북이': 343, '희다': 344, '기다리다': 345, '놓다': 346, '거지': 347, '지나가다': 348, '드리다': 349, '무척': 350, '사라지다': 351, '호랑이': 352, '얘': 353, '끝': 354, '젊다': 355, '당나귀': 356, '밖': 357, '아기': 358, '서로': 359, '대다': 360, '나이': 361, '깊다': 362, '떠나다': 363, '이름': 364, '내미다': 365, '양': 366, '지다': 367, '걸리다': 368, '들리다': 369, '서두르다': 370, '노파': 371, '막내': 372, '나누다': 373, '결혼': 374, '뭔가': 375, '가짜': 376, '여': 377, '불다': 378, '전혀': 379, '키': 380, '약속': 381, '만약': 382, '절대': 383, '빵': 384, '지르다': 385, '빠지다': 386, '올리다': 387, '넣다': 388, '그래도': 389, '가득': 390, '요하네스': 391, '위해': 392, '올라가다': 393, '남다': 394, '하루': 395, '때리다': 396, '나서다': 397, '에는': 398, '던지다': 399, '게다가': 400, '노래': 401, '노루': 402, '그것': 403, '죄다': 404, '이르다': 405, '추다': 406, '살짝': 407, '나무꾼': 408, '농부': 409, '수염': 410, '눈물': 411, '병': 412, '들려오다': 413, '돌': 414, '바닥': 415, '계시다': 416, '공작부인': 417, '베다': 418, '그만': 419, '처음': 420, '누': 421, '가져오다': 422, '그런데': 423, '울다': 424, '옛날': 425, '많이': 426, '생기다': 427, '열쇠': 428, '위로': 429, '여인': 430, '빌다': 431, '어서': 432, '발견': 433, '혼자': 434, '니까': 435, '사실': 436, '엄지': 437, '순간': 438, '뛰다': 439, '배': 440, '가죽': 441, '놈': 442, '마법': 443, '관': 444, '풀다': 445, '새엄마': 446, '끄다': 447, '나머지': 448, '만큼': 449, '당장': 450, '쯤': 451, '슬프다': 452, '사방': 453, '나타나다': 454, '유리': 455, '산': 456, '오늘': 457, '따르다': 458, '데리': 459, '라는': 460, '이건': 461, '쥐다': 462, '고슴도치': 463, '외치다': 464, '자네': 465, '금': 466, '선물': 467, '연주가': 468, '매일': 469, '노인': 470, '마디': 471, '질문': 472, '밖에': 473, '할머니': 474, '마을': 475, '결혼식': 476, '가난하다': 477, '나아가다': 478, '동생': 479, '장화': 480, '딱': 481, '재봉사': 482, '커지다': 483, '팔': 484, '가보다': 485, '대꾸': 486, '열리다': 487, '머물다': 488, '간': 489, '내리다': 490, '쓰다': 491, '거위': 492, '데': 493, '몇': 494, '지나다': 495, '급하다': 496, '만나다': 497, '여기다': 498, '기분': 499, '겨울잠': 500, '젠': 501, '빨갛다': 502, '어찌나': 503, '사냥꾼': 504, '밑': 505, '내려가다': 506, '첫': 507, '이에요': 508, '푸른': 509, '배심원': 510, '상태': 511, '우선': 512, '귀엽다': 513, '강아지': 514, '향': 515, '힘': 516, '멀리': 517, '쓸다': 518, '소': 519, '죽': 520, '방법': 521, '뭘': 522, '볼': 523, '준비': 524, '바구니': 525, '밭': 526, '개구리': 527, '가운데': 528, '여행': 529, '공': 530, '믿다': 531, '대화': 532, '관리인': 533, '냐': 534, '아아': 535, '꼭': 536, '때마침': 537, '접시': 538, '원': 539, '실': 540, '놓이다': 541, '다만': 542, '등': 543, '엄청': 544, '이란': 545, '내려오다': 546, '월': 547, '인지': 548, '말투': 549, '물론': 550, '농부가': 551, '정원': 552, '검다': 553, '착하다': 554, '웃다': 555, '쳐다보다': 556, '마냥': 557, '담다': 558, '열': 559, '명의': 560, '행복하다': 561, '화': 562, '음식': 563, '동자': 564, '하늘': 565, '돌리다': 566, '쉬다': 567, '멀다': 568, '마시다': 569, '에겐': 570, '따다': 571, '장미': 572, '드레스': 573, '손가락': 574, '달아나다': 575, '의자': 576, '이라': 577, '책': 578, '가지다': 579, '에요': 580, '잃다': 581, '반지': 582, '까마귀': 583, '아직': 584, '근데': 585, '벌어지다': 586, '무릎': 587, '자르다': 588, '기': 589, '장': 590, '반': 591, '얻다': 592, '멈추다': 593, '난로': 594, '곰': 595, '죽이다': 596, '인데': 597, '맛': 598, '라도': 599, '부자': 600, '겁': 601, '끌': 602, '물어보다': 603, '이미': 604, '신다': 605, '늙다': 606, '끼다': 607, '충신': 608, '보여주다': 609, '식': 610, '돌보다': 611, '숨': 612, '지키다': 613, '귀': 614, '이라도': 615, '뭐라다': 616, '등골': 617, '예전': 618, '말고': 619, '빛': 620, '벌써': 621, '사냥': 622, '문제': 623, '우물': 624, '연못': 625, '방문': 626, '낳다': 627, '물고기': 628, '째': 629, '애벌레': 630, '항상': 631, '마찬가지': 632, '구두': 633, '숨다': 634, '다가오다': 635, '끈': 636, '잊다': 637, '이고': 638, '보이지': 639, '혼잣말': 640, '재치': 641, '자루': 642, '크게': 643, '도도새': 644, '늘다': 645, '수탉': 646, '씨': 647, '주변': 648, '이유': 649, '이리': 650, '상황': 651, '아버지': 652, '계단': 653, '라푼첼': 654, '돼지': 655, '춤': 656, '말씀드리다': 657, '확실하다': 658, '닿다': 659, '얼마나': 660, '커다랗다': 661, '물이': 662, '들판': 663, '떡': 664, '해도': 665, '출발': 666, '게다': 667, '진짜': 668, '좋아하다': 669, '대모': 670, '치': 671, '잡아먹다': 672, '머리카락': 673, '흐르다': 674, '방앗간': 675, '비단': 676, '쫓다': 677, '훨씬': 678, '달다': 679, '대해': 680, '이후': 681, '신부': 682, '백작': 683, '살리다': 684, '바라다': 685, '바보': 686, '조금': 687, '오싹하다': 688, '밥': 689, '놀다': 690, '맛있다': 691, '옮기다': 692, '달': 693, '시골': 694, '마법사': 695, '대신': 696, '도로': 697, '감히': 698, '몰다': 699, '들어서다': 700, '밟다': 701, '사랑스럽다': 702, '구멍': 703, '흔들다': 704, '달려가다': 705, '완전하다': 706, '돌다': 707, '울': 708, '거란': 709, '걱정': 710, '고기': 711, '어쩔': 712, '가까이': 713, '깜짝': 714, '왜냐하면': 715, '건데': 716, '필요': 717, '탁자': 718, '거니': 719, '비명': 720, '비록': 721, '끝나다': 722, '꽃': 723, '한참': 724, '에게도': 725, '들여다보다': 726, '어디서': 727, '덮다': 728, '잡고': 729, '정신': 730, '기도': 731, '금방': 732, '뿐이다': 733, '널': 734, '식탁': 735, '오르다': 736, '무겁다': 737, '후작': 738, '묻다': 739, '에게로': 740, '보석': 741, '다니다': 742, '교회': 743, '아마': 744, '번은': 745, '자라다': 746, '직접': 747, '도둑': 748, '사자': 749, '거고': 750, '창문': 751, '은화': 752, '벗다': 753, '처녀': 754, '도와주다': 755, '이라고': 756, '먼저': 757, '사과': 758, '바르다': 759, '랑': 760, '무엇': 761, '둘러보다': 762, '남': 763, '별': 764, '빨리': 765, '호주머니': 766, '란': 767, '꼬리': 768, '정말로': 769, '성문': 770, '데려가다': 771, '나쁘다': 772, '여동생': 773, '여전하다': 774, '어깨': 775, '그동안': 776, '라면': 777, '뿌리다': 778, '케이크': 779, '쉬': 780, '꼭대기': 781, '달리다': 782, '분명하다': 783, '기꺼이': 784, '동시': 785, '가득하다': 786, '죽음': 787, '한테': 788, '흘리다': 789, '달구지': 790, '찾아오다': 791, '바다': 792, '녀': 793, '에선': 794, '상': 795, '아무래도': 796, '땐': 797, '방금': 798, '하자': 799, '적다': 800, '수도': 801, '에게는': 802, '가버리다': 803, '두꺼비': 804, '누군가': 805, '설명': 806, '편지': 807, '기어': 808, '읽다': 809, '채우다': 810, '벌': 811, '리': 812, '날아가다': 813, '바라보다': 814, '에게서': 815, '곤': 816, '마리아': 817, '노크': 818, '건네다': 819, '말로': 820, '답': 821, '이든': 822, '거치다': 823, '산토끼': 824, '나라': 825, '저기': 826, '짐': 827, '이내': 828, '태우다': 829, '앞발': 830, '대체': 831, '길다': 832, '지치다': 833, '전하': 834, '둘째': 835, '여우': 836, '놀란': 837, '온통': 838, '대비': 839, '인사': 840, '코': 841, '살펴보다': 842, '광경': 843, '오두막': 844, '다시다': 845, '암탉': 846, '목사': 847, '요리사': 848, '부엌': 849, '뽑다': 850, '폴짝': 851, '샘': 852, '상상': 853, '만족하다': 854, '까진': 855, '고함': 856, '동의': 857, '냉큼': 858, '시계': 859, '묶다': 860, '치고': 861, '그대로': 862, '화가': 863, '명령': 864, '그제야': 865, '내려놓다': 866, '급기야': 867, '거의': 868, '데려오다': 869, '하늘나라': 870, '벽': 871, '준': 872, '생명': 873, '마르다': 874, '연주': 875, '신기하다': 876, '부탁': 877, '차라리': 878, '결심': 879, '마지막': 880, '구르다': 881, '텐데': 882, '부부': 883, '엄청나다': 884, '한번': 885, '떨다': 886, '넘다': 887, '그릇': 888, '무렵': 889, '사용': 890, '원래': 891, '조각': 892, '울리다': 893, '헤엄': 894, '꿀': 895, '통해': 896, '원하다': 897, '양반': 898, '단': 899, '깨어나다': 900, '빠져나가다': 901, '홀로': 902, '사악하다': 903, '우린': 904, '앤': 905, '씻다': 906, '박': 907, '놀부': 908, '무섭다': 909, '일단': 910, '법': 911, '올라오다': 912, '그러니까': 913, '둥글다': 914, '깃털': 915, '뜰': 916, '감': 917, '중요하다': 918, '병사': 919, '떡갈나무': 920, '그림': 921, '가련하다': 922, '로부터': 923, '늦다': 924, '드러눕다': 925, '모양': 926, '피': 927, '움직이다': 928, '끔찍하다': 929, '깨다': 930, '바': 931, '지내다': 932, '박쥐': 933, '소식': 934, '맞이': 935, '대': 936, '모이다': 937, '맡다': 938, '자고': 939, '미치다': 940, '얼른': 941, '보단': 942, '두드리다': 943, '신': 944, '여러분': 945, '재판': 946, '음': 947, '어부': 948, '세다': 949, '하얗다': 950, '사': 951, '동': 952, '참다': 953, '주': 954, '뻗다': 955, '주위': 956, '주님': 957, '왕관': 958, '나뭇가지': 959, '기겁': 960, '막히다': 961, '쭉': 962, '지켜보다': 963, '겁니다': 964, '보트': 965, '마': 966, '바위': 967, '줍다': 968, '제발': 969, '느끼다': 970, '건가': 971, '다소': 972, '장갑': 973, '꿈': 974, '빼다': 975, '백': 976, '요구': 977, '속이다': 978, '튀어나오다': 979, '가슴': 980, '타다': 981, '충분하다': 982, '부분': 983, '싫다': 984, '리케': 985, '잔': 986, '지니다': 987, '몇몇': 988, '언덕': 989, '홀': 990, '요리': 991, '아가': 992, '무도회': 993, '낮다': 994, '저리': 995, '매달리다': 996, '형제': 997, '다물다': 998, '비': 999, '곧장': 1000, '도끼': 1001, '삼': 1002, '의상': 1003, '손님': 1004, '킬로미터': 1005, '버터': 1006, '덥다': 1007, '어제': 1008, '풀밭': 1009, '머': 1010, '벤야민': 1011, '일도': 1012, '지붕': 1013, '갇히다': 1014, '길이': 1015, '이상': 1016, '입장': 1017, '에다': 1018, '사형': 1019, '곁': 1020, '풀': 1021, '대한': 1022, '높이': 1023, '떨어뜨리다': 1024, '도깨비': 1025, '떠오르다': 1026, '바꾸다': 1027, '마녀': 1028, '단단하다': 1029, '차리다': 1030, '역시': 1031, '화려하다': 1032, '응': 1033, '점': 1034, '닫히다': 1035, '추하다': 1036, '한쪽': 1037, '바닷가재': 1038, '처': 1039, '흰눈': 1040, '강': 1041, '차례': 1042, '고수머리': 1043, '차': 1044, '해내다': 1045, '상인': 1046, '아무리': 1047, '진주': 1048, '이해': 1049, '통': 1050, '여보': 1051, '삼키다': 1052, '이야기': 1053, '떼': 1054, '주방': 1055, '애가': 1056, '진심': 1057, '키스': 1058, '목숨': 1059, '아뇨': 1060, '지만': 1061, '붙다': 1062, '그저': 1063, '굳이': 1064, 'ㅡ': 1065, '수명': 1066, '펴다': 1067, '호기심': 1068, '주지': 1069, '잖다': 1070, '다르다': 1071, '사뭇': 1072, '첫째': 1073, '듯이': 1074, '연기': 1075, '보기': 1076, '다행하다': 1077, '순': 1078, '떨리다': 1079, '피우다': 1080, '끌다': 1081, '줄다': 1082, '송아지': 1083, '뿐': 1084, '사슴': 1085, '만큼이나': 1086, '수많다': 1087, '모으다': 1088, '수풀': 1089, '비추다': 1090, '포도주': 1091, '운': 1092, '황': 1093, '시도': 1094, '혹시': 1095, '흥': 1096, '우두머리': 1097, '감싸다': 1098, '오래': 1099, '내일': 1100, '대장장이': 1101, '걷다': 1102, '꿇다': 1103, '방향': 1104, '안다': 1105, '뱀': 1106, '용': 1107, '청': 1108, '닮다': 1109, '오랫동안': 1110, '참새': 1111, '짐승': 1112, '식사': 1113, '리도': 1114, '건지다': 1115, '외': 1116, '꼬마': 1117, '짓다': 1118, '이니': 1119, '줄기': 1120, '경우': 1121, '화들짝': 1122, '얼마': 1123, '떼다': 1124, '점점': 1125, '센티미터': 1126, '저희': 1127, '닫다': 1128, '불구': 1129, '걸어가다': 1130, '갑자기': 1131, '도망치다': 1132, '법정': 1133, '스스로': 1134, '방울': 1135, '탑': 1136, '알아보다': 1137, '몹시': 1138, '상냥하다': 1139, '거들다': 1140, '다섯': 1141, '일찍': 1142, '따라오다': 1143, '드러내다': 1144, '도대체': 1145, '출산': 1146, '결과': 1147, '어쨌든': 1148, '비둘기': 1149, '사다': 1150, '일로': 1151, '깜빡': 1152, '스럽게': 1153, '그렇지만': 1154, '주막': 1155, '구석': 1156, '높다': 1157, '상처': 1158, '해오다': 1159, '보물': 1160, '머릿결': 1161, '새롭다': 1162, '일곱': 1163, '대고': 1164, '통과': 1165, '테이블': 1166, '천국': 1167, '뒤지다': 1168, '에서도': 1169, '마부': 1170, '기르다': 1171, '잘생기다': 1172, '조용하다': 1173, '이상하다': 1174, '마저': 1175, '인간': 1176, '굴뚝': 1177, '래': 1178, '움': 1179, '물리다': 1180, '생전': 1181, '부채': 1182, '갖다': 1183, '용기': 1184, '덧붙이다': 1185, '달래다': 1186, '뛰어가다': 1187, '태어나다': 1188, '약간': 1189, '물레': 1190, '모금': 1191, '그루': 1192, '날카롭다': 1193, '마음씨': 1194, '그날': 1195, '에서부터': 1196, '먹이다': 1197, '눈치': 1198, '금화': 1199, '박사': 1200, '찍다': 1201, '단번': 1202, '호의': 1203, '한다는': 1204, '필요하다': 1205, '숨기다': 1206, '챙기다': 1207, '뻔하다': 1208, '게으르다': 1209, '밝다': 1210, '곡식': 1211, '학자': 1212, '산이': 1213, '감추다': 1214, '한숨': 1215, '소용': 1216, '스럽다': 1217, '양치기': 1218, '놀이': 1219, '숨기': 1220, '마구': 1221, '울창': 1222, '소용없다': 1223, '마당': 1224, '초대': 1225, '태양': 1226, '끼': 1227, '심하다': 1228, '담': 1229, '분명': 1230, '단지': 1231, '불행': 1232, '에까지': 1233, '종일': 1234, '할아버지': 1235, '옛적': 1236, '병들다': 1237, '종': 1238, '왕도': 1239, '허공': 1240, '검': 1241, '내내': 1242, '천사': 1243, '복도': 1244, '앵무새': 1245, '자녀': 1246, '훌륭하다': 1247, '도중': 1248, '돌아보다': 1249, '다해': 1250, '예의': 1251, '호수': 1252, '작아지다': 1253, '우연히': 1254, '틈': 1255, '뿌리': 1256, '확': 1257, '달려들다': 1258, '써다': 1259, '너머': 1260, '종종': 1261, '어리석다': 1262, '소원': 1263, '싹': 1264, '꼬': 1265, '딸아이': 1266, '제대로': 1267, '바뀌다': 1268, '달빛': 1269, '독수리': 1270, '무얼': 1271, '잎사귀': 1272, '아주머니': 1273, '순무': 1274, '도마뱀': 1275, '잔뜩': 1276, '날다': 1277, '키우다': 1278, '망토': 1279, '발끈': 1280, '다다르다': 1281, '흘러내리다': 1282, '장소': 1283, '남아': 1284, '아이고': 1285, '가야': 1286, '해드리다': 1287, '두렵다': 1288, '녀석': 1289, '피곤하다': 1290, '우': 1291, '의심': 1292, '시냇물': 1293, '담기다': 1294, '벌떡': 1295, '척': 1296, '행동': 1297, '남기다': 1298, '얹다': 1299, '로는': 1300, '훔치다': 1301, '여섯': 1302, '일부': 1303, '고맙다': 1304, '헛간': 1305, '털': 1306, '만은': 1307, '글쎄': 1308, '달려오다': 1309, '강하다': 1310, '올빼미': 1311, '집어넣다': 1312, '치우다': 1313, '견디다': 1314, '한편': 1315, '내지': 1316, '어머니': 1317, '끌어당기다': 1318, '심지어': 1319, '종이': 1320, '받아들이다': 1321, '터': 1322, '토끼다': 1323, '그거': 1324, '보이': 1325, '봉': 1326, '짜다': 1327, '조심하다': 1328, '암소': 1329, '상자': 1330, '밀다': 1331, '의하다': 1332, '쓰러지다': 1333, '수프': 1334, '요술': 1335, '맞추다': 1336, '데리다': 1337, '악마': 1338, '성모': 1339, '닦다': 1340, '현명하다': 1341, '가게': 1342, '위험': 1343, '작고': 1344, '딸애': 1345, '흔들리다': 1346, '마치다': 1347, '앞뒤': 1348, '석판': 1349, '우유': 1350, '발자국': 1351, '근처': 1352, '당하다': 1353, '소문': 1354, '가시': 1355, '파리': 1356, '힘들다': 1357, '빠져나오다': 1358, '버섯': 1359, '만이': 1360, '물웅덩이': 1361, '어이': 1362, '주의': 1363, '이오': 1364, '이네': 1365, '붙잡다': 1366, '신사': 1367, '짖다': 1368, '상대방': 1369, '건강하다': 1370, '그이': 1371, '산적': 1372, '물어': 1373, '그렇다고': 1374, '느리다': 1375, '조심': 1376, '꺼지다': 1377, '기껏': 1378, '토록': 1379, '잠들다': 1380, '잠기다': 1381, '꿀꺽': 1382, '날개': 1383, '이리저리': 1384, '카라': 1385, '바스': 1386, '깨우다': 1387, '생각나다': 1388, '부러지다': 1389, '어보': 1390, '오리': 1391, '뜻': 1392, '구해': 1393, '나름': 1394, '날아오르다': 1395, '내려다보다': 1396, '베': 1397, '히': 1398, '항아리': 1399, '뺨': 1400, '큰소리': 1401, '부지런하다': 1402, '개다': 1403, '종류': 1404, '소유': 1405, '다가가다': 1406, '까닭': 1407, '붉다': 1408, '만에': 1409, '천': 1410, '맹세': 1411, '생활': 1412, '온갖': 1413, '행운': 1414, '누군지': 1415, '찾아가다': 1416, '뛰어다니다': 1417, '조언': 1418, '피리': 1419, '기억': 1420, '욕심': 1421, '문득': 1422, '정확하다': 1423, '학생': 1424, '뚜껑': 1425, '찾아보다': 1426, '전체': 1427, '땅속': 1428, '울타리': 1429, '넘어지다': 1430, '용서': 1431, '시오': 1432, '금은': 1433, '감사': 1434, '유산': 1435, '콘래드': 1436, '이던': 1437, '장님': 1438, '부다': 1439, '자식': 1440, '최고': 1441, '행복': 1442, '따뜻하다': 1443, '가져가다': 1444, '기운': 1445, '쏙': 1446, '가리키다': 1447, '불행하다': 1448, '고통': 1449, '홍학': 1450, '방망이': 1451, '진지하다': 1452, '힘껏': 1453, '껍질': 1454, '똑같다': 1455, '운명': 1456, '라다': 1457, '빠르다': 1458, '썩': 1459, '굳다': 1460, '제안': 1461, '하니': 1462, '땔감': 1463, '도무지': 1464, '밝혀지다': 1465, '품다': 1466, '감다': 1467, '벌이': 1468, '값': 1469, '금세': 1470, '사정': 1471, '지시': 1472, '장군': 1473, '어쩜': 1474, '즐겁다': 1475, '아저씨': 1476, '잘못': 1477, '걸음': 1478, '에라도': 1479, '솟다': 1480, '몸집': 1481, '통로': 1482, '굶다': 1483, '리하': 1484, '인정': 1485, '간절하다': 1486, '짝': 1487, '재산': 1488, '어둠': 1489, '감옥': 1490, '자마자': 1491, '거두다': 1492, '주제': 1493, '겠다': 1494, '침실': 1495, '증인': 1496, '아무렇다': 1497, '전나무': 1498, '영리하다': 1499, '물통': 1500, '막대기': 1501, '싸움': 1502, '신하': 1503, '술': 1504, '몽둥이': 1505, '기회': 1506, '이틀': 1507, '품': 1508, '불어': 1509, '성대': 1510, '천정': 1511, '보드랍다': 1512, '타': 1513, '어째': 1514, '꼴': 1515, '빌리다': 1516, '웃음': 1517, '터뜨리다': 1518, '짧다': 1519, '턱': 1520, '안전하다': 1521, '소망': 1522, '부유하다': 1523, '농장': 1524, '벗어나다': 1525, '저렇게': 1526, '송곳': 1527, '서서': 1528, '괴롭히다': 1529, '웬': 1530, '표정': 1531, '흥겹다': 1532, '의미': 1533, '버릇': 1534, '짓': 1535, '벗기다': 1536, '느낌': 1537, '낯선': 1538, '소시지': 1539, '고요': 1540, '졸리다': 1541, '만들어지다': 1542, '덩어리': 1543, '사탕': 1544, '열심히': 1545, '배고프다': 1546, '싸우다': 1547, '왼쪽': 1548, '원님': 1549, '입히다': 1550, '나리': 1551, '특히': 1552, '심장': 1553, '부드럽다': 1554, '허락': 1555, '또다시': 1556, '가르다': 1557, '찰나': 1558, '뚝': 1559, '겨울': 1560, '굴': 1561, '인가': 1562, '편하다': 1563, '깊이': 1564, '탓': 1565, '유령': 1566, '하라': 1567, '그물': 1568, '라곤': 1569, '거북': 1570, '비계': 1571, '잔디': 1572, '사납다': 1573, '부모님': 1574, '벌레': 1575, '지팡이': 1576, '깨': 1577, '돌아다니다': 1578, '당황': 1579, '밭고랑': 1580, '심다': 1581, '능력': 1582, '윌리엄': 1583, '내버리다': 1584, '골짜기': 1585, '가르치다': 1586, '깨지다': 1587, '강물': 1588, '시신': 1589, '도움': 1590, '장식': 1591, '걸치다': 1592, '확인': 1593, '으르렁': 1594, '핀': 1595, '어른': 1596, '채다': 1597, '정중하다': 1598, '약': 1599, '혹': 1600, '시르다': 1601, '국왕': 1602, '열매': 1603, '이마': 1604, '창': 1605, '하녀': 1606, '문지르다': 1607, '시원하다': 1608, '가져다주다': 1609, '그대': 1610, '수수께끼': 1611, '베드로': 1612, '바이올린': 1613, '어딨다': 1614, '거나': 1615, '새다': 1616, '거대하다': 1617, '까짓': 1618, '사다리': 1619, '이냐': 1620, '자라': 1621, '음악': 1622, '빼': 1623, '업다': 1624, '자의': 1625, '마마': 1626, '부딪히다': 1627, '빛나다': 1628, '물가': 1629, '벌리다': 1630, '속도': 1631, '크기': 1632, '달콤하다': 1633, '맺다': 1634, '표현': 1635, '지나': 1636, '밝히다': 1637, '마침': 1638, '며칠': 1639, '가만': 1640, '소금': 1641, '절': 1642, '뻐꾸기': 1643, '죄': 1644, '황소': 1645, '묶음': 1646, '변화': 1647, '거만하다': 1648, '몰래': 1649, '머릿속': 1650, '에야': 1651, '나중': 1652, '뻔': 1653, '무덤': 1654, '상심': 1655, '따로': 1656, '파이': 1657, '발톱': 1658, '냄새': 1659, '침묵': 1660, '자가': 1661, '라임': 1662, '느껴지다': 1663, '대가': 1664, '젖': 1665, '맛보다': 1666, '달리기': 1667, '오누이': 1668, '오리가': 1669, '잠깐': 1670, '충실하다': 1671, '눈빛': 1672, '괜찮다': 1673, '평소': 1674, '예': 1675, '순식간': 1676, '점심': 1677, '아끼다': 1678, '시장': 1679, '시기': 1680, '심부름': 1681, '절망': 1682, '끼어들다': 1683, '낮': 1684, '궁': 1685, '받치다': 1686, '잭': 1687, '양쪽': 1688, '메다': 1689, '해달라다': 1690, '말르다': 1691, '이어지다': 1692, '금빛': 1693, '이제야': 1694, '빼기': 1695, '그치다': 1696, '질': 1697, '불빛': 1698, '가도': 1699, '덕분': 1700, '입도': 1701, '이기다': 1702, '찬찬하다': 1703, '여하튼': 1704, '흩다': 1705, '핥다': 1706, '이끌다': 1707, '상추': 1708, '좁다': 1709, '겨': 1710, '건너다': 1711, '원체': 1712, '셋': 1713, '오지': 1714, '재채기': 1715, '신랑': 1716, '언제': 1717, '파다': 1718, '보고서': 1719, '초': 1720, '인걸': 1721, '거울': 1722, '총': 1723, '깔다': 1724, '편': 1725, '동굴': 1726, '당': 1727, '이라는': 1728, '물결': 1729, '해치다': 1730, '활짝': 1731, '삶': 1732, '조약돌': 1733, '젬': 1734, '산아': 1735, '다행': 1736, '지난': 1737, '신경': 1738, '공간': 1739, '아리땁다': 1740, '넘치다': 1741, '낫다': 1742, '언': 1743, '구름': 1744, '매우': 1745, '계획': 1746, '계란': 1747, '숙이다': 1748, '스프': 1749, '뛰어들다': 1750, '이웃': 1751, '삼다': 1752, '뜯다': 1753, '물의': 1754, '빈': 1755, '가면': 1756, '무너지다': 1757, '펼치다': 1758, '아바마마': 1759, '쏘다': 1760, '아마도': 1761, '가라앉다': 1762, '시루': 1763, '건네주다': 1764, '금고': 1765, '가능하다': 1766, '불리다': 1767, '석탄': 1768, '곧바로': 1769, '새벽': 1770, '옳다': 1771, '망부석': 1772, '성공하다': 1773, '벌컥': 1774, '익다': 1775, '접다': 1776, '스레': 1777, '돌아서다': 1778, '팔꿈치': 1779, '보라': 1780, '중얼거리다': 1781, '뒤따르다': 1782, '다이아몬드': 1783, '찢다': 1784, '과일': 1785, '불편하다': 1786, '사내': 1787, '우아하다': 1788, '재빨리': 1789, '선고': 1790, '날아오다': 1791, '내쉬다': 1792, '늘': 1793, '가볍다': 1794, '비참하다': 1795, '야생': 1796, '관리': 1797, '교훈': 1798, '하리': 1799, '표시': 1800, '오른쪽': 1801, '잃어버리다': 1802, '가운': 1803, '줄어들다': 1804, '의도': 1805, '조롱': 1806, '풀리다': 1807, '가두다': 1808, '표': 1809, '없어지다': 1810, '쑥': 1811, '도저히': 1812, '비우다': 1813, '뿔': 1814, '쌓이다': 1815, '학교': 1816, '눈길': 1817, '고민': 1818, '제비': 1819, '탄식': 1820, '자빠지다': 1821, '공사': 1822, '잽싸다': 1823, '보아': 1824, '햇볕': 1825, '재우다': 1826, '변신': 1827, '군': 1828, '로서': 1829, '위대하다': 1830, '하룻밤': 1831, '현관문': 1832, '내놓다': 1833, '미터': 1834, '잡': 1835, '배다': 1836, '칼': 1837, '복종': 1838, '지고': 1839, '으론': 1840, '금지': 1841, '이빨': 1842, '이를': 1843, '정원사': 1844, '망': 1845, '작정': 1846, '지도': 1847, '천천히': 1848, '시험': 1849, '그나저나': 1850, '불쑥': 1851, '지하실': 1852, '집행': 1853, '궁금하다': 1854, '태도': 1855, '사정없이': 1856, '앉은뱅이': 1857, '달리': 1858, '일랑은': 1859, '보답': 1860, '공중': 1861, '땅바닥': 1862, '넓다': 1863, '얼룩': 1864, '저런': 1865, '재주': 1866, '치면': 1867, '지혜': 1868, '반대쪽': 1869, '청소': 1870, '각자': 1871, '공이': 1872, '두운': 1873, '햇살': 1874, '몽땅': 1875, '꾸미다': 1876, '꾹': 1877, '매력': 1878, '반짝': 1879, '건드리다': 1880, '행렬': 1881, '층': 1882, '낼': 1883, '빨': 1884, '지상': 1885, '살며시': 1886, '가만있다': 1887, '외투': 1888, '즐기다': 1889, '먹이': 1890, '밀짚': 1891, '끊다': 1892, '쇠': 1893, '이따금': 1894, '무럭무럭': 1895, '에만': 1896, '축복': 1897, '들려주다': 1898, '색': 1899, '올려다보다': 1900, '거행': 1901, '이루어지다': 1902, '포옹': 1903, '경기': 1904, '연': 1905, '휙': 1906, '거듭': 1907, '깜깜': 1908, '하곤': 1909, '재': 1910, '몸소': 1911, '미끄러지다': 1912, '포기': 1913, '주어': 1914, '월계수': 1915, '든지': 1916, '게임': 1917, '아뿔싸': 1918, '베풀다': 1919, '별로': 1920, '려고': 1921, '펄쩍': 1922, '몫': 1923, '갈라지다': 1924, '솟구치다': 1925, '호통': 1926, '그딴': 1927, '트리': 1928, '가루': 1929, '망원경': 1930, '저쪽': 1931, '의사': 1932, '꾸다': 1933, '전부': 1934, '무리': 1935, '지는': 1936, '그로': 1937, '붙들다': 1938, '간단하다': 1939, '푼': 1940, '가엾다': 1941, '닦이다': 1942, '라일락': 1943, '물건': 1944, '막내딸': 1945, '휴식': 1946, '마련': 1947, '정심': 1948, '위치': 1949, '들르다': 1950, '연인': 1951, '서둘다': 1952, '두르다': 1953, '잠자리': 1954, '바치다': 1955, '허사': 1956, '이브': 1957, '가족': 1958, '똑똑': 1959, '터지다': 1960, '실수': 1961, '잡히다': 1962, '주일': 1963, '직전': 1964, '래지': 1965, '죽지': 1966, '장난': 1967, '회색': 1968, '발언': 1969, '수북이': 1970, '학': 1971, '수업': 1972, '탐욕': 1973, '놓아두다': 1974, '어마': 1975, '불가능하다': 1976, '합창': 1977, '모퉁이': 1978, '닉세': 1979, '드릴': 1980, '컵': 1981, '들뜨다': 1982, '완성': 1983, '크로케': 1984, '퍼지다': 1985, '인도': 1986, '젖다': 1987, '암': 1988, '저녁식사': 1989, '자그마하다': 1990, '가요': 1991, '안고': 1992, '무례하다': 1993, '반대': 1994, '찢어지다': 1995, '매다': 1996, '쫓아가다': 1997, '먼지': 1998, '이따': 1999, '말리다': 2000, '와장창': 2001, '재판관': 2002, '붙이다': 2003, '메이': 2004, '이불': 2005, '철제': 2006, '다짐': 2007, '소릴': 2008, '매': 2009, '호박': 2010, '헷갈리다': 2011, '여름': 2012, '라네': 2013, '바쁘다': 2014, '기절': 2015, '혀': 2016, '마주치다': 2017, '아쉽다': 2018, '내쫓다': 2019, '해안가': 2020, '골무': 2021, '사또': 2022, '성채': 2023, '후춧가루': 2024, '귀족': 2025, '움직': 2026, '진': 2027, '당기다': 2028, '동정녀': 2029, '그랬더니': 2030, '쟁기': 2031, '박히다': 2032, '부정': 2033, '꼼짝': 2034, '올려놓다': 2035, '이루': 2036, '시야': 2037, '갈망': 2038, '내뱉다': 2039, '거랍니': 2040, '말리': 2041, '선생님': 2042, '팔자': 2043, '데이': 2044, '로운': 2045, '따님': 2046, '톡': 2047, '얼씨구': 2048, '켜다': 2049, '즉': 2050, '부여잡다': 2051, '감사하다': 2052, '피다': 2053, '기슭': 2054, '황야': 2055, '작업': 2056, '조건': 2057, '인가요': 2058, '완벽하다': 2059, '대구': 2060, '기니피그': 2061, '건초': 2062, '집안': 2063, '군대': 2064, '슈트': 2065, '깨끗하다': 2066, '재밌다': 2067, '쿵': 2068, '웰레': 2069, '지금껏': 2070, '어렵다': 2071, '제외': 2072, '최고급': 2073, '아홉': 2074, '두목': 2075, '줄이다': 2076, '모험': 2077, '주마': 2078, '데우다': 2079, '부족하다': 2080, '미인': 2081, '보름달': 2082, '미소': 2083, '우울하다': 2084, '눈앞': 2085, '알아차리다': 2086, '통째': 2087, '오래되다': 2088, '반하다': 2089, '빠뜨리다': 2090, '양식': 2091, '땀': 2092, '산다': 2093, '성은': 2094, '발걸음': 2095, '순례': 2096, '더하다': 2097, '보수': 2098, '나아': 2099, '틀리다': 2100, '영혼': 2101, '신의': 2102, '고생': 2103, '살아가다': 2104, '굽다': 2105, '이쁘다': 2106, '악당': 2107, '맨': 2108, '벙어리': 2109, '알리다': 2110, '범인': 2111, '쏟다': 2112, '초상화': 2113, '뚝뚝': 2114, '수만': 2115, '누르다': 2116, '실패하다': 2117, '까먹다': 2118, '부디': 2119, '구한': 2120, '결론': 2121, '맑은': 2122, '기묘하다': 2123, '부러': 2124, '번만': 2125, '신선하다': 2126, '물담뱃대': 2127, '공손하다': 2128, '불가': 2129, '소린': 2130, '시합': 2131, '똑똑하다': 2132, '하인츠': 2133, '한시': 2134, '차분하다': 2135, '진실로': 2136, '허리': 2137, '그러하다': 2138, '먹기': 2139, '뛰어내리다': 2140, '지니': 2141, '살아나다': 2142, '거렸': 2143, '반면': 2144, '비탄': 2145, '지기': 2146, '짚': 2147, '숙녀': 2148, '하나로': 2149, '친절하다': 2150, '갚다': 2151, '미모': 2152, '불길': 2153, '보더': 2154, '바가지': 2155, '아우성': 2156, '더미': 2157, '게요': 2158, '물속': 2159, '그토록': 2160, '냄비': 2161, '둥지': 2162, '놀리다': 2163, '속삭이다': 2164, '별반': 2165, '단어': 2166, '기만': 2167, '속임수': 2168, '송이': 2169, '비다': 2170, '따라가다': 2171, '상하': 2172, '어딜': 2173, '소중하다': 2174, '해선': 2175, '당밀': 2176, '커튼': 2177, '지지': 2178, '거머': 2179, '서도': 2180, '스푼': 2181, '설교': 2182, '일요일': 2183, '랍': 2184, '둥이': 2185, '가기': 2186, '두려움': 2187, '적히다': 2188, '그야': 2189, '제지': 2190, '도망가다': 2191, '거절': 2192, '적당하다': 2193, '또는': 2194, '선하다': 2195, '부리다': 2196, '소심하다': 2197, '오랜': 2198, '날씨': 2199, '허겁지겁': 2200, '휘두르다': 2201, '갈색': 2202, '막다': 2203, '셋째': 2204, '세우다': 2205, '아깝다': 2206, '워낙': 2207, '이면': 2208, '그나마': 2209, '찬란하다': 2210, '프랑스': 2211, '아시': 2212, '시가': 2213, '양동이': 2214, '조차도': 2215, '메뚜기': 2216, '바삐': 2217, '께서는': 2218, '소유자': 2219, '식량': 2220, '으로도': 2221, '넘어가다': 2222, '달팽이': 2223, '찌르다': 2224, '골대': 2225, '올라타다': 2226, '성격': 2227, '얼다': 2228, '잔인하다': 2229, '오기': 2230, '당연하다': 2231, '비치다': 2232, '구렁이': 2233, '사연': 2234, '차지': 2235, '맡기다': 2236, '끌리다': 2237, '다치다': 2238, '장사': 2239, '계시': 2240, '용감하다': 2241, '핏자국': 2242, '어머': 2243, '힘드다': 2244, '전쟁': 2245, '시어': 2246, '원숭이': 2247, '권': 2248, '병아리': 2249, '이루다': 2250, '인생': 2251, '샘물': 2252, '보다도': 2253, '돌려주다': 2254, '칭찬': 2255, '가구': 2256, '노력': 2257, '족제비': 2258, '신기다': 2259, '경멸': 2260, '강력하다': 2261, '시늉': 2262, '이의': 2263, '위엔': 2264, '화사하다': 2265, '참말': 2266, '해대': 2267, '창백하다': 2268, '복수': 2269, '투성이': 2270, '매달다': 2271, '마구간': 2272, '간신히': 2273, '메리': 2274, '자매': 2275, '롬': 2276, '베르크': 2277, '귀가': 2278, '메': 2279, '왕족': 2280, '못내': 2281, '상한': 2282, '살피다': 2283, '차마': 2284, '희한하다': 2285, '에서야': 2286, '칠': 2287, '선반': 2288, '갈기': 2289, '리가': 2290, '틀림없다': 2291, '일으키다': 2292, '외출': 2293, '차례대로': 2294, '웅장': 2295, '들어주다': 2296, '임': 2297, '멍하니': 2298, '깊숙이': 2299, '감탄': 2300, '심해': 2301, '환하다': 2302, '강풍': 2303, '기울이다': 2304, '곱하기': 2305, '부축': 2306, '동산': 2307, '함': 2308, '벗겨지다': 2309, '한탄': 2310, '털다': 2311, '두둑': 2312, '인상': 2313, '다스리다': 2314, '사신': 2315, '썩다': 2316, '여자애': 2317, '연필': 2318, '찾아내다': 2319, '안녕하다': 2320, '자비': 2321, '지체': 2322, '발설': 2323, '발끝': 2324, '절반': 2325, '설득': 2326, '각종': 2327, '허무맹랑': 2328, '판사': 2329, '장작': 2330, '푹': 2331, '해봤다': 2332, '이자': 2333, '감고': 2334, '살이': 2335, '돋다': 2336, '얻어맞다': 2337, '촛불': 2338, '남성': 2339, '포대자루': 2340, '복': 2341, '오시': 2342, '이웃집': 2343, '구나': 2344, '대략': 2345, '째다': 2346, '증명': 2347, '잔소리': 2348, '떠올리다': 2349, '정': 2350, '춥다': 2351, '프랑스어': 2352, '멍청하다': 2353, '카드': 2354, '취하': 2355, '일어서다': 2356, '치즈': 2357, '미처': 2358, '주신': 2359, '막내아들': 2360, '온화하다': 2361, '마저도': 2362, '머무르다': 2363, '도망': 2364, '흰색': 2365, '똑': 2366, '꽁꽁': 2367, '곱다': 2368, '주장': 2369, '핫케이크': 2370, '의식': 2371, '손수레': 2372, '멋지다': 2373, '똑같이': 2374, '까지만': 2375, '쇠사슬': 2376, '대지': 2377, '낫': 2378, '옥수수': 2379, '욕': 2380, '연하다': 2381, '가방': 2382, '분도': 2383, '건너편': 2384, '가만히': 2385, '경주': 2386, '감정': 2387, '책상': 2388, '듣기': 2389, '기어이': 2390, '경기장': 2391, '언제나': 2392, '큼직하다': 2393, '입술': 2394, '베개': 2395, '빨래': 2396, '수영': 2397, '제일': 2398, '진행': 2399, '와의': 2400, '밀려오다': 2401, '치유': 2402, '가락': 2403, '찔리다': 2404, '순금': 2405, '전날': 2406, '덫': 2407, '어머님': 2408, '패': 2409, '생': 2410, '교수형': 2411, '가세': 2412, '샛길': 2413, '공기': 2414, '찾기': 2415, '즐거움': 2416, '그땐': 2417, '은혜': 2418, '밉다': 2419, '노랫소리': 2420, '부스러기': 2421, '부엉이': 2422, '얘길': 2423, '덮이다': 2424, '좋아지다': 2425, '형상': 2426, '싸다': 2427, '걸세': 2428, '어쩐': 2429, '수고': 2430, '가축': 2431, '울음소리': 2432, '방이': 2433, '저건': 2434, '꾸준하다': 2435, '하마터면': 2436, '판': 2437, '묻히다': 2438, '자꾸': 2439, '궁궐': 2440, '착각': 2441, '오른': 2442, '거뜬하다': 2443, '여쭈다': 2444, '토론': 2445, '돕다': 2446, '굉음': 2447, '슬쩍': 2448, '뚫다': 2449, '가을': 2450, '고치다': 2451, '여서': 2452, '도시': 2453, '거짓말': 2454, '부서지다': 2455, '바늘': 2456, '풍수': 2457, '여덟': 2458, '놓치다': 2459, '쫓아내다': 2460, '자락': 2461, '엿보다': 2462, '조각상': 2463, '재미': 2464, '체셔': 2465, '어느새다': 2466, '절굿': 2467, '쥐덫': 2468, '도살업': 2469, '여기저기': 2470, '확신': 2471, '신어': 2472, '적도': 2473, '휘둥그레지다': 2474, '산들바람': 2475, '코지': 2476, '유모': 2477, '골': 2478, '분간': 2479, '열두': 2480, '자초지종': 2481, '절구통': 2482, '고르다': 2483, '모래': 2484, '놀랍다': 2485, '분수': 2486, '큰딸': 2487, '글씨': 2488, '주렁주렁': 2489, '일보': 2490, '시종': 2491, '톡톡': 2492, '흥부': 2493, '재물': 2494, '쉿': 2495, '랍니': 2496, '내기': 2497, '부루퉁하다': 2498, '밤새': 2499, '띄다': 2500, '낚아채다': 2501, '두껍다': 2502, '전해': 2503, '고백': 2504, '움켜잡다': 2505, '자그마치': 2506, '앗': 2507, '소음': 2508, '가시나무': 2509, '박다': 2510, '섞이다': 2511, '움큼': 2512, '저절로': 2513, '도울': 2514, '곯다': 2515, '낯설다': 2516, '주저앉다': 2517, '펑펑': 2518, '건강': 2519, '빗': 2520, '렀': 2521, '모루': 2522, '작': 2523, '다녀가다': 2524, '밤낮': 2525, '싫어하다': 2526, '성의': 2527, '기간': 2528, '딸기': 2529, '스런': 2530, '농담': 2531, '이군': 2532, '붙잡히다': 2533, '유일하다': 2534, '주먹': 2535, '우기다': 2536, '내겐': 2537, '곱슬머리': 2538, '다짜고짜': 2539, '와우': 2540, '빛깔': 2541, '본래': 2542, '더럽다': 2543, '완전': 2544, '장이': 2545, '이구나': 2546, '귀찮다': 2547, '인지도': 2548, '이쯤': 2549, '뼈': 2550, '휘': 2551, '씩씩하다': 2552, '세차': 2553, '매년': 2554, '분별이': 2555, '편안하다': 2556, '때때로': 2557, '말문': 2558, '이기': 2559, '농가': 2560, '경이': 2561, '이슬': 2562, '임금님': 2563, '사람과': 2564, '안마당': 2565, '이탈리아': 2566, '넘기다': 2567, '권리': 2568, '미안하다': 2569, '돛': 2570, '빙빙': 2571, '이랑': 2572, '식칼': 2573, '하든': 2574, '팔팔하다': 2575, '수레바퀴': 2576, '젖소': 2577, '평화': 2578, '정오': 2579, '흠뻑': 2580, '사건': 2581, '로마': 2582, '지나치다': 2583, '구둣방': 2584, '엄숙하다': 2585, '반기': 2586, '대들보': 2587, '덜': 2588, '모': 2589, '피해': 2590, '목동': 2591, '힐끗': 2592, '이거지': 2593, '갈기갈기': 2594, '여간': 2595, '쬐다': 2596, '꿀잠': 2597, '방해': 2598, '부리': 2599, '반복': 2600, '와중': 2601, '마음속': 2602, '사고': 2603, '보리': 2604, '일지': 2605, '여러': 2606, '께선': 2607, '응당': 2608, '해결': 2609, '구걸': 2610, '손수건': 2611, '숯': 2612, '꿀꿀': 2613, '어쩌': 2614, '이동': 2615, '황무지': 2616, '구부리다': 2617, '하품': 2618, '웅덩이': 2619, '손살': 2620, '긁다': 2621, '끼리': 2622, '별안간': 2623, '숲속': 2624, '담그다': 2625, '장점': 2626, '한마디': 2627, '익숙해지다': 2628, '여편네': 2629, '자넨': 2630, '적절하다': 2631, '반갑다': 2632, '기름': 2633, '평결': 2634, '보초': 2635, '바다로': 2636, '꿈쩍': 2637, '새총': 2638, '인즉슨': 2639, '가깝다': 2640, '마무리': 2641, '한두': 2642, '자유롭다': 2643, '빨다': 2644, '앉히다': 2645, '과목': 2646, '고프다': 2647, '공격': 2648, '레테': 2649, '풍': 2650, '가사': 2651, '는걸': 2652, '비슷하다': 2653, '목욕': 2654, '고소하다': 2655, '만큼의': 2656, '정복': 2657, '만지다': 2658, '괴롭다': 2659, '비비': 2660, '깔끔하다': 2661, '살기': 2662, '세공품': 2663, '위쪽': 2664, '묵직하다': 2665, '인식': 2666, '고리': 2667, '깽': 2668, '일렬': 2669, '깨끗이': 2670, '얼음': 2671, '차갑다': 2672, '포도': 2673, '바깥': 2674, '시각': 2675, '아래쪽': 2676, '머뭇거리다': 2677, '목초지': 2678, '기술': 2679, '위험하다': 2680, '쪼개다': 2681, '치기': 2682, '캐': 2683, '선포': 2684, '이르렀': 2685, '되살리다': 2686, '잠그다': 2687, '우물가': 2688, '여성': 2689, '지옥': 2690, '연회': 2691, '댕강': 2692, '용의': 2693, '바치': 2694, '발라': 2695, '연로': 2696, '스르르': 2697, '치르다': 2698, '조': 2699, '빗장': 2700, '대단하다': 2701, '장애물': 2702, '찻잔': 2703, '예리하다': 2704, '누리다': 2705, '전속력': 2706, '목수': 2707, '이겠다': 2708, '틀다': 2709, '찰': 2710, '회초리': 2711, '최대한': 2712, '아뢰다': 2713, '규칙': 2714, '다루다': 2715, '일시': 2716, '맷돌': 2717, '포근하다': 2718, '이세': 2719, '선사': 2720, '독극물': 2721, '밖엔': 2722, '근심': 2723, '판결': 2724, '과연': 2725, '상당하다': 2726, '휘파람': 2727, '가위': 2728, '한데': 2729, '갖추다': 2730, '신고': 2731, '시절': 2732, '눈꺼풀': 2733, '비싸다': 2734, '오래전': 2735, '와도': 2736, '주고받다': 2737, '먹히다': 2738, '분별': 2739, '찍': 2740, '한밤중': 2741, '방도': 2742, '특별하다': 2743, '렸': 2744, '활동': 2745, '창가': 2746, '해마': 2747, '농작물': 2748, '쿨쿨': 2749, '글자': 2750, '전보': 2751, '묵': 2752, '젖히다': 2753, '은빛': 2754, '제우스': 2755, '보살피다': 2756, '턱수염': 2757, '엎드리다': 2758, '번쩍': 2759, '드디어': 2760, '간청': 2761, '지워지다': 2762, '불쾌하다': 2763, '까지도': 2764, '봄': 2765, '람': 2766, '하트': 2767, '동이': 2768, '헤치다': 2769, '깨부수다': 2770, '앞서': 2771, '달싹': 2772, '친': 2773, '달아오르다': 2774, '대리석': 2775, '마자': 2776, '찬장': 2777, '케이스': 2778, '지도자': 2779, '마중': 2780, '세월': 2781, '미리': 2782, '주민': 2783, '산산조각': 2784, '수천': 2785, '푸우': 2786, '쏟아지다': 2787, '에나': 2788, '거닐다': 2789, '갈고': 2790, '년도': 2791, '당시': 2792, '잠잠하다': 2793, '연신': 2794, '흔적': 2795, '이보': 2796, '존': 2797, '넘어서다': 2798, '반도': 2799, '뛰어오르다': 2800, '창피하다': 2801, '창고': 2802, '되돌아오다': 2803, '로만': 2804, '깔리다': 2805, '가지런하다': 2806, '애기': 2807, '천만': 2808, '십': 2809, '겸손하다': 2810, '둘러싸이다': 2811, '이전': 2812, '매번': 2813, '화염': 2814, '높이다': 2815, '일어나며': 2816, '똥': 2817, '재능': 2818, '바램': 2819, '마개': 2820, '장모님': 2821, '어머나': 2822, '밤늦다': 2823, '비난': 2824, '척척': 2825, '아드님': 2826, '오늘밤': 2827, '솜씨': 2828, '등등': 2829, '걷어차다': 2830, '펼쳐지다': 2831, '덮개': 2832, '불평': 2833, '복판': 2834, '내다보다': 2835, '신호': 2836, '류트': 2837, '계세': 2838, '붙이': 2839, '수습': 2840, '아부지': 2841, '퍼': 2842, '주둥이': 2843, '외치': 2844, '시끄럽다': 2845, '깃발': 2846, '린': 2847, '새까맣다': 2848, '물러나다': 2849, '차츰': 2850, '모자라다': 2851, '안심': 2852, '얼마만큼': 2853, '첨벙': 2854, '걷기': 2855, '팔다리': 2856, '뚱뚱하다': 2857, '가까스로': 2858, '막대': 2859, '킬로그램': 2860, '오만': 2861, '어둡다': 2862, '얼': 2863, '지경': 2864, '찬': 2865, '마누라': 2866, '고귀하다': 2867, '진기하다': 2868, '씨앗': 2869, '맘': 2870, '전설': 2871, '보시': 2872, '애정': 2873, '확고하다': 2874, '멀어지다': 2875, '집밖': 2876, '총명하다': 2877, '다가': 2878, '솥': 2879, '가까워지다': 2880, '드넓다': 2881, '살림': 2882, '한사코': 2883, '오렌지': 2884, '술병': 2885, '뭣': 2886, '벙긋': 2887, '쌍둥이': 2888, '처리': 2889, '지식': 2890, '뽐내다': 2891, '아이든': 2892, '따지다': 2893, '제물': 2894, '악기': 2895, '애쓰다': 2896, '또닥또닥': 2897, '고향': 2898, '보관': 2899, '시궁창': 2900, '판자': 2901, '불어오다': 2902, '도리어': 2903, '위엄': 2904, '보': 2905, '가로지르다': 2906, '부의': 2907, '수면': 2908, '구실': 2909, '쓰이다': 2910, '나아지다': 2911, '일자리': 2912, '엉겅퀴': 2913, '무게': 2914, '무시무시하다': 2915, '울부짖다': 2916, '희미하다': 2917, '동행': 2918, '열병': 2919, '만난': 2920, '올려주다': 2921, '벌집': 2922, '사리': 2923, '셔츠': 2924, '들어맞다': 2925, '조마조마하다': 2926, '발생': 2927, '구경': 2928, '소란': 2929, '땋': 2930, '성질': 2931, '추가': 2932, '결승': 2933, '관심': 2934, '때론': 2935, '가나': 2936, '적어도': 2937, '예정': 2938, '민첩하다': 2939, '생기': 2940, '인척': 2941, '벽난로': 2942, '햇빛': 2943, '독사': 2944, '꽉': 2945, '순수하다': 2946, '돌고래': 2947, '방안': 2948, '헨리': 2949, '철': 2950, '더랬': 2951, '바란': 2952, '반창고': 2953, '육지': 2954, '항해': 2955, '볼품': 2956, '다락방': 2957, '분과': 2958, '절뚝': 2959, '휴일': 2960, '전달': 2961, '팔짱': 2962, '지하': 2963, '녹다': 2964, '역할': 2965, '덜커덕': 2966, '틈새': 2967, '도우': 2968, '러': 2969, '경주로': 2970, '밀': 2971, '뜸': 2972, '기억나다': 2973, '무시': 2974, '곧이어': 2975, '긴요': 2976, '대령': 2977, '닢': 2978, '으로써': 2979, '논쟁': 2980, '대주교': 2981, '창조': 2982, '만세': 2983, '방황': 2984, '겨자': 2985, '문지방': 2986, '출몰': 2987, '토': 2988, '자도': 2989, '냅다': 2990, '고무줄': 2991, '교활하다': 2992, '채운': 2993, '죄송하다': 2994, '경솔하다': 2995, '후려': 2996, '희망': 2997, '부풀다': 2998, '오후': 2999, '왼손': 3000, '궤짝': 3001, '골똘히': 3002, '으로만': 3003, '어쩌려': 3004, '성하다': 3005, '건너': 3006, '경': 3007, '울적하다': 3008, '독': 3009, '불유쾌': 3010, '평생': 3011, '머시아': 3012, '노섬브리아': 3013, '에드윈': 3014, '카': 3015, '의원': 3016, '백성': 3017, '듬뿍': 3018, '입구': 3019, '추격': 3020, '벌벌': 3021, '드리우다': 3022, '여겨지다': 3023, '왈칵': 3024, '한동안': 3025, '배부르다': 3026, '세수': 3027, '처자': 3028, '엄': 3029, '폭발': 3030, '다양하다': 3031, '악어': 3032, '반짝이다': 3033, '비늘': 3034, '상쾌하다': 3035, '알맞다': 3036, '누군데': 3037, '행랑': 3038, '개울': 3039, '일꾼': 3040, '있었더랬': 3041, '빠져들다': 3042, '기선': 3043, '루비': 3044, '파': 3045, '보상': 3046, '놀': 3047, '꽤': 3048, '꼬박': 3049, '요람': 3050, '텅': 3051, '염려': 3052, '약하다': 3053, '지라': 3054, '고서': 3055, '에메랄드': 3056, '초록색': 3057, '재빠르다': 3058, '벨벳': 3059, '내딛다': 3060, '호': 3061, '동료': 3062, '날쌔': 3063, '당당하다': 3064, '해치': 3065, '화창하다': 3066, '노릇': 3067, '벌다': 3068, '몰골': 3069, '아낙': 3070, '결정': 3071, '얇다': 3072, '다정하다': 3073, '에구머니': 3074, '누더기': 3075, '감명': 3076, '개암나무': 3077, '브랜디': 3078, '합당': 3079, '더니': 3080, '한가운데': 3081, '쪼개지다': 3082, '경고': 3083, '유유': 3084, '겪다': 3085, '칠하다': 3086, '분위기': 3087, '만치': 3088, '선택': 3089, '탈': 3090, '전갈': 3091, '친절': 3092, '소환': 3093, '식이': 3094, '파묻다': 3095, '앓다': 3096, '낡다': 3097, '개구쟁이': 3098, '삶다': 3099, '물살': 3100, '유감': 3101, '토지': 3102, '돌이': 3103, '늪': 3104, '애처롭다': 3105, '쟁반': 3106, '자구': 3107, '정리': 3108, '스피드': 3109, '분부': 3110, '짊어지': 3111, '내용': 3112, '좌': 3113, '값지다': 3114, '세례식': 3115, '일행': 3116, '재차': 3117, '중간': 3118, '그깟': 3119, '예견': 3120, '바르게': 3121, '산꼭대기': 3122, '멧돼지': 3123, '가다듬다': 3124, '얼싸안다': 3125, '띠': 3126, '귀하다': 3127, '아둔하다': 3128, '쑤시다': 3129, '시렁': 3130, '회의': 3131, '아담하다': 3132, '충심': 3133, '충성': 3134, '환호성': 3135, '이어서': 3136, '의견': 3137, '해나': 3138, '반짝반짝': 3139, '경탄': 3140, '간다': 3141, '가리다': 3142, '가마': 3143, '로라': 3144, '래야': 3145, '오거': 3146, '발짝': 3147, '눈부시다': 3148, '솔직하다': 3149, '보지': 3150, '잡아당기다': 3151, '주리': 3152, '여름철': 3153, '포': 3154, '주머니': 3155, '경악': 3156, '실제': 3157, '론': 3158, '산책': 3159, '내주다': 3160, '단체': 3161, '동강': 3162, '슬슬': 3163, '무거워': 3164, '굽히다': 3165, '설상가상': 3166, '어나': 3167, '안달': 3168, '미녀': 3169, '둑스': 3170, '서서히': 3171, '저물다': 3172, '권하다': 3173, '어울리다': 3174, '증거': 3175, '달라붙다': 3176, '쉰': 3177, '건물': 3178, '추위': 3179, '물병': 3180, '성안': 3181, '새기다': 3182, '특정하다': 3183, '큰일': 3184, '힐': 3185, '화환': 3186, '되돌아가다': 3187, '중이': 3188, '꽃들이': 3189, '살금살금': 3190, '인하다': 3191, '요청': 3192, '의붓딸': 3193, '부츠': 3194, '질리다': 3195, '용이': 3196, '설치': 3197, '싣다': 3198, '어마어마하다': 3199, '나뭇잎': 3200, '충고': 3201, '어따': 3202, '그림자': 3203, '게으름': 3204, '꽂다': 3205, '잠자코': 3206, '쓸모': 3207, '저승사자': 3208, '개수': 3209, '증오': 3210, '늘어서다': 3211, '시장님': 3212, '친애하다': 3213, '손짓': 3214, '오싹': 3215, '더구나': 3216, '아이디어': 3217, '도리': 3218, '애원': 3219, '영문': 3220, '소스': 3221, '사형수': 3222, '영주': 3223, '쇼': 3224, '나이프': 3225, '실력': 3226, '반드시': 3227, '민둥산': 3228, '방만': 3229, '아하': 3230, '임금': 3231, '딸아': 3232, '안뜰': 3233, '종달새': 3234, '누리': 3235, '모여들다': 3236, '집사': 3237, '푸다': 3238, '정직하다': 3239, '꼬집다': 3240, '요즘': 3241, '처지': 3242, '하고도': 3243, '떡하니': 3244, '되찾다': 3245, '열거': 3246, '회복': 3247, '스러운': 3248, '퓨리': 3249, '거부': 3250, '합류': 3251, '과는': 3252, '멀쩡하다': 3253, '잔득': 3254, '무수': 3255, '비교': 3256, '회복하다': 3257, '숭숭': 3258, '엘': 3259, '말끔히': 3260, '황새': 3261, '커서': 3262, '목적': 3263, '두더지': 3264, '석': 3265, '노': 3266, '인양': 3267, '헤매다': 3268, '아담': 3269, '사주다': 3270, '버티다': 3271, '탈출': 3272, '갈수록': 3273, '문장': 3274, '위층': 3275, '에서는': 3276, '제기': 3277, '오이': 3278, '온실': 3279, '깨닫다': 3280, '먹여주다': 3281, '행여': 3282, '휘황': 3283, '초조하다': 3284, '왕궁': 3285, '부하': 3286, '아낙네': 3287, '처신': 3288, '부탁드리다': 3289, '벌이다': 3290, '굶주리다': 3291, '고정': 3292, '반대편': 3293, '조차': 3294, '조금씩': 3295, '환상': 3296, '깃점': 3297, '반짝반짝하다': 3298, '영국': 3299, '마르': 3300, '후회': 3301, '천하다': 3302, '자연': 3303, '바퀴': 3304, '느릿느릿': 3305, '표범': 3306, '감동': 3307, '외딴': 3308, '재촉': 3309, '잡아먹히다': 3310, '추측': 3311, '속옷': 3312, '다과회': 3313, '빗질': 3314, '만이라도': 3315, '숙고': 3316, '부들부들': 3317, '취해': 3318, '보호': 3319, '게으름뱅이': 3320, '낮선': 3321, '수건': 3322, '드르렁': 3323, '팔이': 3324, '구원': 3325, '신중': 3326, '창밖': 3327, '지푸라기': 3328, '두건': 3329, '툭': 3330, '안기다': 3331, '멍': 3332, '조그마하다': 3333, '끝내': 3334, '날짜': 3335, '뛰어나오다': 3336, '몰리다': 3337, '서자': 3338, '절호': 3339, '가끔': 3340, '젓다': 3341, '두개골': 3342, '생난리': 3343, '검정': 3344, '김': 3345, '모락모락': 3346, '작별': 3347, '크나크다': 3348, '설탕': 3349, '기존': 3350, '관념': 3351, '낚시': 3352, '덥석': 3353, '정답': 3354, '빨르다': 3355, '가정': 3356, '출입구': 3357, '진창': 3358, '일쑤': 3359, '간장': 3360, '베짱이': 3361, '짜증나다': 3362, '자존심': 3363, '급': 3364, '돋아나다': 3365, '지역': 3366, '투덜거리다': 3367, '꾸짖다': 3368, '약초': 3369, '먹고다': 3370, '떼굴떼굴': 3371, '할머님': 3372, '실행': 3373, '조그만': 3374, '봉사': 3375, '덤불': 3376, '안녕': 3377, '또래': 3378, '충격': 3379, '분주하다': 3380, '내시': 3381, '고래고래': 3382, '싱긋': 3383, '껏': 3384, '호감': 3385, '단검': 3386, '엿': 3387, '곤장': 3388, '목덜미': 3389, '기이하다': 3390, '되돌리다': 3391, '거고요': 3392, '설마': 3393, '뚱땡이': 3394, '쌀': 3395, '나팔': 3396, '접': 3397, '존재': 3398, '리본': 3399, '강도': 3400, '차이다': 3401, '시어머니': 3402, '누운': 3403, '사태': 3404, '돌멩이': 3405, '렌츠': 3406, '할렐루야': 3407, '쪼': 3408, '려무나': 3409, '친엄마': 3410, '고작': 3411, '가든': 3412, '서든': 3413, '잔치': 3414, '통치': 3415, '그늘': 3416, '방지': 3417, '지불': 3418, '흐느껴': 3419, '면서': 3420, '소금물': 3421, '려': 3422, '인들': 3423, '진실': 3424, '청혼': 3425, '소동': 3426, '재다': 3427, '흐': 3428, '서툴다': 3429, '떠내려가다': 3430, '덩이': 3431, '번갈아': 3432, '유감스럽게': 3433, '설레다': 3434, '급격하다': 3435, '덜컥': 3436, '초라하다': 3437, '팔로': 3438, '사기': 3439, '뒤죽박죽': 3440, '구별': 3441, '부엉': 3442, '탄원': 3443, '불면': 3444, '작대기': 3445, '휘저': 3446, '어도': 3447, '이니까': 3448, '잎': 3449, '야채': 3450, '옆방': 3451, '강둑': 3452, '플루트': 3453, '가령': 3454, '전해지다': 3455, '눈송이': 3456, '힘없다': 3457, '희생': 3458, '수년': 3459, '가만두다': 3460, '버려진': 3461, '스치다': 3462, '살피': 3463, '선박': 3464, '모이': 3465, '파트너': 3466, '발작': 3467, '재혼': 3468, '안정': 3469, '신앙심': 3470, '당근': 3471, '구불구불': 3472, '자넬': 3473, '성공': 3474, '근사하다': 3475, '에이': 3476, '호위': 3477, '질린다': 3478, '널찍하다': 3479, '군주': 3480, '열망': 3481, '욕망': 3482, '곰곰': 3483, '벌컥벌컥': 3484, '지껄이다': 3485, '누울': 3486, '상관없다': 3487, '라오': 3488, '기자': 3489, '사형선고': 3490, '리자': 3491, '옷장': 3492, '야생동물': 3493, '통나무': 3494, '정숙': 3495, '타당': 3496, '느닷없다': 3497, '정체': 3498, '동전': 3499, '떨치다': 3500, '솟아오르다': 3501, '오두막집': 3502, '대개': 3503, '보따리': 3504, '꽥꽥': 3505, '최악': 3506, '안경': 3507, '우정': 3508, '웃기': 3509, '빵가루': 3510, '움켜쥐다': 3511, '유명하다': 3512, '방과': 3513, '땅거북': 3514, '결연하다': 3515, '물줄기': 3516, '식히다': 3517, '직업': 3518, '쐬다': 3519, 'ㅁ': 3520, '본성': 3521, '발음': 3522, '오자': 3523, '저주': 3524, '뇨': 3525, '야옹': 3526, '한지': 3527, '비틀': 3528, '온당': 3529, '무사하다': 3530, '글썽': 3531, '형님': 3532, '그립다': 3533, '뵈다': 3534, '물똥': 3535, '취한': 3536, '도통': 3537, '비통하다': 3538, '거역': 3539, '두리번거리다': 3540, '언급': 3541, '도취': 3542, '지요': 3543, '조끼': 3544, '답례': 3545, '싱싱하다': 3546, '무': 3547, '진흙': 3548, '게로': 3549, '외진': 3550, '별장': 3551, '궁리': 3552, '심쿵하다': 3553, '나기': 3554, '되게': 3555, '오신': 3556, '녹이다': 3557, '거래': 3558, '도랑': 3559, '라고만': 3560, '무례': 3561, '갈대': 3562, '떠들다': 3563, '고단': 3564, '밀가루': 3565, '볼링': 3566, '무기': 3567, '부담': 3568, '노동자': 3569, '남녀': 3570, '딱하다': 3571, '교육': 3572, '정장': 3573, '어린이': 3574, '강렬하다': 3575, '동요': 3576, '주군': 3577, '발아': 3578, '거구': 3579, '양념': 3580, '조치': 3581, '전환': 3582, '입어보다': 3583, '그간': 3584, '중심': 3585, '품위': 3586, '진정': 3587, '축제': 3588, '버드나무': 3589, '내보내다': 3590, '남아나다': 3591, '둘러싸다': 3592, '상해': 3593, '아라하': 3594, '우기': 3595, '멍멍': 3596, '별난': 3597, '등짝': 3598, '지독하다': 3599, '자세': 3600, '우릴': 3601, '분만': 3602, '수행원': 3603, '트': 3604, '친오빠': 3605, '노여움': 3606, '밤색': 3607, '물르다': 3608, '어조': 3609, '고얀': 3610, '존경': 3611, '자세하다': 3612, '부지': 3613, '소나기': 3614, '난폭하다': 3615, '귀부인': 3616, '부채질': 3617, '뒤편': 3618, '껌껌하다': 3619, '대장간': 3620, '몸매': 3621, '바이': 3622, '소름': 3623, '본인': 3624, '심각하다': 3625, '어쩌다': 3626, '숫자': 3627, '황금별': 3628, '자체': 3629, '물방울': 3630, '오오': 3631, '문지기': 3632, '올바르다': 3633, '감기': 3634, '실없다': 3635, '크로켓': 3636, '헐떡이다': 3637, '입지': 3638, '옷감': 3639, '만날': 3640, '여행객': 3641, '여관': 3642, '산골': 3643, '트럼펫': 3644, '두루': 3645, '헤아리다': 3646, '안내': 3647, '주름': 3648, '심해지다': 3649, '용납': 3650, '집의': 3651, '빚': 3652, '빗다': 3653, '고삐': 3654, '겨울철': 3655, '근거': 3656, '에다가': 3657, '대기': 3658, '치료법': 3659, '꾼': 3660, '헛수고': 3661, '명도': 3662, '피로': 3663, '깡충깡충': 3664, '런가': 3665, '돌부리': 3666, '건달': 3667, '수확': 3668, '성찬': 3669, '코커스': 3670, '후다닥': 3671, '외곽': 3672, '달이': 3673, '실컷': 3674, '잠결': 3675, '분개하다': 3676, '비비다': 3677, '통닭': 3678, '부턴': 3679, '오히려': 3680, '꿍꿍': 3681, '나무딸기': 3682, '누누이': 3683, '재미나': 3684, '하였더랬': 3685, '꼬투리': 3686, '이대': 3687, '피터': 3688, '납작': 3689, '아버님': 3690, '제복': 3691, '사단': 3692, '장대': 3693, '거짓': 3694, '싸인': 3695, '출신': 3696, '하소연': 3697, '성큼성큼': 3698, '치의': 3699, '따라잡다': 3700, '구덩이': 3701, '따오다': 3702, '두서너': 3703, '사례': 3704, '연약하다': 3705, '어머님께': 3706, '밝아지다': 3707, '숫': 3708, '작업복': 3709, '써주다': 3710, '펄럭': 3711, '샅샅이': 3712, '그리움': 3713, '몸통': 3714, '별도': 3715, '산지': 3716, '족속': 3717, '매료': 3718, '합치다': 3719, '마렴': 3720, '임무': 3721, '수백': 3722, '과부': 3723, '맙소사': 3724, '풀칠': 3725, '녀역': 3726, '맏': 3727, '네까짓': 3728, '잉크': 3729, '상관': 3730, '괜히': 3731, '나가야': 3732, '끄트머리': 3733, '달라지다': 3734, '수야': 3735, '차려': 3736, '끓이다': 3737, '망설이다': 3738, '사위': 3739, '난처하다': 3740, '멍청이': 3741, '침대시트': 3742, '상금': 3743, '개미': 3744, '공책': 3745, '지빠귀': 3746, '매가': 3747, '연결': 3748, '묵고': 3749, '쫓기다': 3750, '정리정돈': 3751, '피부': 3752, '까치': 3753, '살살': 3754, '풀잎': 3755, '기지개': 3756, '꾸러미': 3757, '법칙': 3758, '윗': 3759, '살인자': 3760, '난데없이': 3761, '돌진': 3762, '부족함': 3763, '와들와들': 3764, '파멸': 3765, '어려움': 3766, '캐다': 3767, '영감': 3768, '어쩌자': 3769, '끊어지다': 3770, '잊어버리다': 3771, '신발': 3772, '만원': 3773, '틀': 3774, '쯧쯧': 3775, '하므다': 3776, '전령': 3777, '굴러가다': 3778, '토닥토닥': 3779, '노랫가락': 3780, '구도': 3781, '방식': 3782, '툭툭': 3783, '반죽': 3784, '악의': 3785, '낙엽': 3786, '마주': 3787, '몰려오다': 3788, '끌어안다': 3789, '교수대': 3790, '박살': 3791, '요란하다': 3792, '차오르다': 3793, '한껏': 3794, '신지': 3795, '알아채다': 3796, '고문': 3797, '어차피': 3798, '사색': 3799, '모자라': 3800, '최선': 3801, '허리띠': 3802, '뒷마당': 3803, '비범하다': 3804, '꾀': 3805, '자주': 3806, '힐데브란트': 3807, '제공': 3808, '보구': 3809, '오로라': 3810, '양보': 3811, '미덕': 3812, '선언': 3813, '체': 3814, '주기': 3815, '나날이': 3816, '만족스럽다': 3817, '노랗다': 3818, '렌즈콩': 3819, '테로': 3820, '주무시다': 3821, '수레': 3822, '타오르다': 3823, '삽': 3824, '만큼은': 3825, '매달': 3826, '점지': 3827, '최상급': 3828, '의지': 3829, '나빠지다': 3830, '연결하다': 3831, '켤레': 3832, '살갗': 3833, '마란': 3834, '비밀': 3835, '쾅': 3836, '빗어주다': 3837, '까맣다': 3838, '기타': 3839, '애초': 3840, '방랑': 3841, '모닥불': 3842, '참고': 3843, '구부러지다': 3844, '철봉': 3845, '다녀오다': 3846, '이만': 3847, '저만': 3848, '며느리': 3849, '손쉽다': 3850, '뱃속': 3851, '환호': 3852, '즉각': 3853, '유지': 3854, '하나같이': 3855, '상대로': 3856, '굉장하다': 3857, '물리': 3858, '성큼': 3859, '비애': 3860, '여념': 3861, '꿀맛': 3862, '사과나무': 3863, '알아맞히다': 3864, '가호': 3865, '개월': 3866, '엉': 3867, '짙다': 3868, '들보': 3869, '비웃다': 3870, '풍덩': 3871, '과도': 3872, '약해지다': 3873, '칠흑': 3874, '나무라다': 3875, '합의': 3876, '가난': 3877, '시내': 3878, '미지': 3879, '만찬': 3880, '식기': 3881, '활': 3882, '장관': 3883, '이요': 3884, '이딴': 3885, '어쩌지': 3886, '데이지': 3887, '상대': 3888, '깨나': 3889, '심술궂': 3890, '부모': 3891, '뎁쇼': 3892, '격렬하다': 3893, '휘감다': 3894, '법원': 3895, '쌓다': 3896, '뵙다': 3897, '소도': 3898, '바스락': 3899, '곧다': 3900, '애도': 3901, '엉덩이': 3902, '부와': 3903, '산들': 3904, '메아리': 3905, '가공품': 3906, '일어나지': 3907, '이서': 3908, '페인트': 3909, '직원': 3910, '카드리유': 3911, '망하다': 3912, '훤히': 3913, '번개': 3914, '꼬락서니': 3915, '차라': 3916, '다가서다': 3917, '지롱': 3918, '걱정스럽다': 3919, '우두둑': 3920, '발각': 3921, '양초': 3922, '숙소': 3923, '차도': 3924, '외마디': 3925, '워': 3926, '빌어': 3927, '분통': 3928, '흙': 3929, '엉터리': 3930, '굴복': 3931, '기독교인': 3932, '일품': 3933, '경계': 3934, '고가': 3935, '지구': 3936, '밀고': 3937, '자라나다': 3938, '아래층': 3939, '쨍그랑': 3940, '끽끽': 3941, '자유': 3942, '쭉쭉': 3943, '뒷발': 3944, '쥐구멍': 3945, '유쾌하다': 3946, '허기': 3947, '키도': 3948, '허풍': 3949, '당한': 3950, '묵다': 3951, '오직': 3952, '축': 3953, '곡간': 3954, '땀방울': 3955, '꼭지': 3956, '위협': 3957, '까딱': 3958, '텐': 3959, '야단': 3960, '참석': 3961, '잠도': 3962, '갈가리': 3963, '효과': 3964, '싸': 3965, '성주': 3966, '얻어먹다': 3967, '빼앗기다': 3968, '죄인': 3969, '튀어': 3970, '보화': 3971, '염병할': 3972, '나은': 3973, '열띤': 3974, '만일': 3975, '일어나고': 3976, '애걸': 3977, '복걸': 3978, '가선': 3979, '이무기': 3980, '왕좌': 3981, '노동': 3982, '주눅': 3983, '공개': 3984, '후투티': 3985, '감금': 3986, '만의': 3987, '리지': 3988, '시선': 3989, '늘어나다': 3990, '조로': 3991, '킥킥': 3992, '주전자': 3993, '탁': 3994, '경비': 3995, '추세': 3996, '절세': 3997, '북': 3998, '가로': 3999, '삭': 4000, '윙윙': 4001, '왕창': 4002, '사이좋다': 4003, '만큼만': 4004, '질병': 4005, '성용': 4006, '강가': 4007, '고상하다': 4008, '뚫리다': 4009, '안식처': 4010, '장남': 4011, '권총': 4012, '싹둑': 4013, '수줍어하': 4014, '상아': 4015, '청아': 4016, '오물': 4017, '열정': 4018, '겨드랑이': 4019, '혼령': 4020, '뜻밖': 4021, '발동': 4022, '많아지다': 4023, '리기': 4024, '더듬다': 4025, '신중하다': 4026, '어마나': 4027, '심술': 4028, '끼우다': 4029, '사로자다': 4030, '애달프다': 4031, '흩어지다': 4032, '반향': 4033, '험상궂다': 4034, '돌기': 4035, '어릿광대': 4036, '딸도': 4037, '범벅': 4038, '마멀레이드': 4039, '닉': 4040, '하염없이': 4041, '졸도': 4042, '쓰리다': 4043, '열자': 4044, '성과': 4045, '앨': 4046, '함녀': 4047, '낚싯줄': 4048, '출구': 4049, '폭풍우': 4050, '하란': 4051, '곱셈': 4052, '지리': 4053, '굶주림': 4054, '가나다': 4055, '페이지': 4056, '상체': 4057, '어데': 4058, '심심하다': 4059, '고독': 4060, '이로써': 4061, '새싹': 4062, '후두두': 4063, '도마': 4064, '양배추': 4065, '이파리': 4066, '따분하다': 4067, '법도': 4068, '파고': 4069, '형벌': 4070, '롭고': 4071, '달래': 4072, '엎': 4073, '런던': 4074, '역정': 4075, '고갈': 4076, '리해': 4077, '묶이다': 4078, '절름발이': 4079, '안되다': 4080, '우시': 4081, '남성은': 4082, '모욕': 4083, '찌다': 4084, '누구신지': 4085, '애로': 4086, '부딪치다': 4087, '아작': 4088, '아이참': 4089, '첨': 4090, '벙하다': 4091, '메추라기': 4092, '충돌': 4093, '누르기': 4094, '충직': 4095, '알려지다': 4096, '측은하다': 4097, '윙크': 4098, '셋방': 4099, '지대': 4100, '눈동자': 4101, '생생하다': 4102, '뜨릴': 4103, '짊': 4104, '손톱': 4105, '개도': 4106, '백년': 4107, '피어': 4108, '왁스': 4109, '벼르': 4110, '사무': 4111, '불안하다': 4112, '식초': 4113, '나위': 4114, '약혼녀': 4115, '미연': 4116, '추천': 4117, '고도': 4118, '소름끼치다': 4119, '이제껏': 4120, '늘리다': 4121, '원인': 4122, '나로': 4123, '소리내다': 4124, '회개': 4125, '상당량': 4126, '핏': 4127, '일과': 4128, '잿더미': 4129, '생물체': 4130, '벅차다': 4131, '유리상자': 4132, '물들다': 4133, '옥': 4134, '본능': 4135, '치명': 4136, '부끄럽다': 4137, '되돌아보다': 4138, '안타깝다': 4139, '나비': 4140, '둘러매다': 4141, '경의': 4142, '주체': 4143, '쪼그라들다': 4144, '태': 4145, '태운': 4146, '으로나': 4147, '배은망덕하다': 4148, '양은': 4149, '와인': 4150, '분홍색': 4151, '엄지발가락': 4152, '으': 4153, '절레절레': 4154, '영어': 4155, '굴속': 4156, '지루하다': 4157, '치자': 4158, '측면': 4159, '아리송하다': 4160, '심': 4161, '손녀': 4162, '장담': 4163, '공짜': 4164, '억': 4165, '가감': 4166, '끝장': 4167, '여한': 4168, '벽장': 4169, '뜨겁다': 4170, '다급하다': 4171, '팔방': 4172, '말똥말똥': 4173, '칭칭': 4174, '어여': 4175, '아찔하다': 4176, '여자아이': 4177, '수의': 4178, '가가': 4179, '씌우다': 4180, '리세': 4181, '울퉁불퉁하다': 4182, '껄껄': 4183, '온종일': 4184, '제멋대로': 4185, '명량': 4186, '카나리아': 4187, '초대장': 4188, '의심스럽다': 4189, '격노하다': 4190, '기록': 4191, '손자': 4192, '간직': 4193, '웅대': 4194, '사소하다': 4195, '멈칫': 4196, '익사': 4197, '성직자': 4198, '야망': 4199, '웃': 4200, '맵시': 4201, '반사': 4202, '월급': 4203, '엄중하다': 4204, '캔터베리': 4205, '스티갠드': 4206, '드니': 4207, '몸부림': 4208, '전의': 4209, '꼬이다': 4210, '괴한': 4211, '꿰뚫다': 4212, '명성': 4213, '삐지다': 4214, '누굴': 4215, '쪼가리': 4216, '연설': 4217, '박수': 4218, '저러다': 4219, '끝내주다': 4220, '더위': 4221, '사각사각': 4222, '긇히': 4223, '파래': 4224, '안절부절': 4225, '밤새다': 4226, '라고요': 4227, '렴': 4228, '도장': 4229, '임시': 4230, '오막살이': 4231, '무식하다': 4232, '낮잠': 4233, '옵': 4234, '씻기다': 4235, '끼리끼리': 4236, '키다리': 4237, '리제': 4238, '야위다': 4239, '말괄량이': 4240, '요술쟁이': 4241, '이래저래': 4242, '램프': 4243, '핑계': 4244, '나일': 4245, '말쑥하다': 4246, '강의': 4247, '맑다': 4248, '저하': 4249, '가르랑거리다': 4250, '달구다': 4251, '쩍': 4252, '하필': 4253, '추악하다': 4254, '북받치다': 4255, '열기': 4256, '피곤': 4257, '재판소': 4258, '협박': 4259, '이신': 4260, '추': 4261, '스르': 4262, '공동묘지': 4263, '인형': 4264, '길길이': 4265, '랬': 4266, '자시': 4267, '만지작거리다': 4268, '금박': 4269, '새장': 4270, '불기운': 4271, '내의': 4272, '호화롭다': 4273, '기근': 4274, '마술': 4275, '기교': 4276, '아야': 4277, '흑': 4278, '육': 4279, '정보': 4280, '시궁쥐': 4281, '자장가': 4282, '번쩍번쩍': 4283, '자애롭다': 4284, '심성': 4285, '부주의하다': 4286, '갑옷': 4287, '새매': 4288, '습': 4289, '정돈': 4290, '평안하다': 4291, '치렁치렁': 4292, '수치': 4293, '해주': 4294, '수나': 4295, '빼어나다': 4296, '질투': 4297, '마땅하다': 4298, '응보': 4299, '어둑어둑하다': 4300, '천둥소리': 4301, '바른대로': 4302, '움푹': 4303, '범': 4304, '바스락바스락': 4305, '흐느낌': 4306, '여타': 4307, '해방': 4308, '균형': 4309, '대목': 4310, '시체': 4311, '임명': 4312, '으름장': 4313, '슬레이트': 4314, '느슨하다': 4315, '번의': 4316, '틀림없이': 4317, '근위병': 4318, '깝쇼': 4319, '넷': 4320, '더욱': 4321, '옷가지': 4322, '허참': 4323, '촬': 4324, '얻지': 4325, '차원': 4326, '극명하다': 4327, '차별': 4328, '멍텅구리': 4329, '온몸': 4330, '앞장': 4331, '는커녕': 4332, '트리어': 4333, '비열하다': 4334, '비누': 4335, '주목': 4336, '성수': 4337, '춤추다': 4338, '날뛰다': 4339, '가라앉히다': 4340, '삼백': 4341, '택배': 4342, '이로': 4343, '안락': 4344, '선뜻': 4345, '풀무': 4346, '홀라당': 4347, '목마름': 4348, '철로': 4349, '까지만이라도': 4350, '남지': 4351, '당국': 4352, '선량하다': 4353, '먹음': 4354, '기미': 4355, '하여금': 4356, '어설프다': 4357, '배열': 4358, '우두커니': 4359, '달도': 4360, '내려지다': 4361, '부당하다': 4362, '주무': 4363, '집안일': 4364, '옛': 4365, '오라버니': 4366, '반기다': 4367, '룩': 4368, '해진': 4369, '남자에게': 4370, '토라': 4371, '담들다': 4372, '게걸': 4373, '걸어오다': 4374, '뛰어넘다': 4375, '어리석음': 4376, '울면': 4377, '총각': 4378, '불씨': 4379, '볶다': 4380, '군요': 4381, '새하얘지다': 4382, '물구나무': 4383, '그만큼': 4384, '세례명': 4385, '덩치': 4386, '덩': 4387, '빈손': 4388, '물자': 4389, '대번에': 4390, '어기': 4391, '인가가': 4392, '뒷': 4393, '떠들썩하다': 4394, '반쯥': 4395, '훑다': 4396, '기장': 4397, '봉지': 4398, '누구세요': 4399, '익히다': 4400, '사과꽃': 4401, '친자': 4402, '소생': 4403, '양피지': 4404, '행사': 4405, '슬그머니': 4406, '데요': 4407, '여럿': 4408, '내색': 4409, '지성': 4410, '후려치다': 4411, '거렸어': 4412, '일어난다': 4413, '예의범절': 4414, '오발탄': 4415, '운동': 4416, '강구': 4417, '등치': 4418, '뛰어놀다': 4419, '울화통': 4420, '권세': 4421, '한가득': 4422, '빙': 4423, '축하': 4424, '하진': 4425, '약혼': 4426, '납치': 4427, '오매불망': 4428, '하루아침': 4429, '배기': 4430, '노고': 4431, '에서보다': 4432, '도모': 4433, '독약': 4434, '어허': 4435, '목뼈': 4436, '뿌러질': 4437, '깔깔': 4438, '내려앉다': 4439, '결코': 4440, '확답': 4441, '건너가다': 4442, '쾌차': 4443, '찾아다니다': 4444, '노곤': 4445, '졸다': 4446, '구석구석': 4447, '싫증나다': 4448, '대낮': 4449, '푸르른': 4450, '부로': 4451, '안색': 4452, '심정': 4453, '네네': 4454, '댁': 4455, '반점': 4456, '오라비': 4457, '애고': 4458, '쫓아오다': 4459, '지난번': 4460, '기사': 4461, '고요하다': 4462, '탐색': 4463, '독감': 4464, '글렸': 4465, '예배당': 4466, '안장': 4467, '감겨': 4468, '시력': 4469, '자갈': 4470, '손도장': 4471, '푸드덕': 4472, '싸하다': 4473, '나야': 4474, '백합꽃': 4475, '오는': 4476, '꿰매다': 4477, '사면': 4478, '구절': 4479, '지우다': 4480, '낙하': 4481, '까옥': 4482, '막상': 4483, '위기': 4484, '하하': 4485, '쿠션': 4486, '관절': 4487, '넘어오다': 4488, '빌어먹을': 4489, '부여': 4490, '어느덧다': 4491, '도시락': 4492, '요렇게': 4493, '깃': 4494, '중간지점': 4495, '술값': 4496, '전차': 4497, '네겐': 4498, '달구': 4499, '어리둥절하다': 4500, '바지': 4501, '멜빵': 4502, '골풀': 4503, '성스럽다': 4504, '세인트': 4505, '필욘': 4506, '소상하다': 4507, '성향': 4508, '잣': 4509, '저렇다': 4510, '환영': 4511, '의술': 4512, '허둥대다': 4513, '주먹다짐': 4514, '헹구': 4515, '오라': 4516, '하옵다': 4517, '조수': 4518, '말다툼': 4519, '든든하다': 4520, '지탱': 4521, '땡기다': 4522, '로움': 4523, '신성하다': 4524, '이상은': 4525, '마굿': 4526, '방어': 4527, '긍정': 4528, '드리워지다': 4529, '쓰기': 4530, '작자': 4531, '거진': 4532, '팔다': 4533, '발해': 4534, '세릴': 4535, '앙갚음': 4536, '더냐': 4537, '뜻대로': 4538, '발버둥': 4539, '니요': 4540, '홀아비': 4541, '순박하다': 4542, '유행': 4543, '사시나무': 4544, '미련': 4545, '터널': 4546, '초롱초롱': 4547, '눈망울': 4548, '엄지손가락': 4549, '곡물': 4550, '사나': 4551, '자네도': 4552, '못지않다': 4553, '나신': 4554, '이래도': 4555, '이러하다': 4556, '주문': 4557, '동무': 4558, '색시': 4559, '근엄하다': 4560, '강제': 4561, '한창': 4562, '바다코끼리': 4563, '이끼': 4564, '나란하다': 4565, '푸르다': 4566, '꼬챙이': 4567, '방장': 4568, '사장': 4569, '산더미': 4570, '타킨': 4571, '말대꾸': 4572, '해머': 4573, '강요': 4574, '큰아들': 4575, '누이동생': 4576, '심려': 4577, '바짝': 4578, '라서': 4579, '포플러': 4580, '로선': 4581, '쫓겨나다': 4582, '나가떨어지다': 4583, '살랑살랑': 4584, '결실': 4585, '실망하다': 4586, '퐁당': 4587, '대부분': 4588, '드물다': 4589, '연속': 4590, '오래도록': 4591, '감감': 4592, '무소식': 4593, '축축하다': 4594, '그리로': 4595, '지갑': 4596, '차려입다': 4597, '뚱딴지': 4598, '저걸': 4599, '꿀벌': 4600, '울며불며': 4601, '아름': 4602, '가마솥': 4603, '붓다': 4604, '귀리': 4605, '시뻘겋다': 4606, '르그': 4607, '갖은': 4608, '웃옷': 4609, '어떻': 4610, '상달': 4611, '포크': 4612, '악수': 4613, '툴툴': 4614, '용무': 4615, '선견지명': 4616, '웃기다': 4617, '라인': 4618, '땡그': 4619, '마루': 4620, '살아오다': 4621, '허튼': 4622, '깍지': 4623, '싹싹': 4624, '물밀': 4625, '밀리다': 4626, '경험': 4627, '학업': 4628, '정치': 4629, '완강': 4630, '우승자': 4631, '애완동물': 4632, '답변': 4633, '쓰라리다': 4634, '천하': 4635, '만들기': 4636, '뉴질랜드': 4637, '오스트레일리아': 4638, '귓가': 4639, '난장': 4640, '재단': 4641, '천원': 4642, '우마': 4643, '깡패': 4644, '어디가': 4645, '과정': 4646, '고용': 4647, '당해': 4648, '창코': 4649, '오늘이': 4650, '반박': 4651, '쯧': 4652, '납작하다': 4653, '젊음': 4654, '세운': 4655, '만물': 4656, '소개': 4657, '읊': 4658, '하마': 4659, '욕설': 4660, '지배자': 4661, '밖에는': 4662, '셰익스피어': 4663, '용하다': 4664, '하나요': 4665, '종결': 4666, '무조건': 4667, '정해': 4668, '파란': 4669, '부터는': 4670, '굵다': 4671, '소송': 4672, '산딸기': 4673, '감흥': 4674, '막말': 4675, '아슬아슬하다': 4676, '곤란하다': 4677, '누우': 4678, '주둥아리': 4679, '발의': 4680, '체리': 4681, '타트': 4682, '커스터드': 4683, '파인애플': 4684, '칠면조': 4685, '태피': 4686, '토스트': 4687, '대보다': 4688, '지느러미': 4689, '세리': 4690, '문밖': 4691, '두루미': 4692, '저항': 4693, '무늬': 4694, '대롱대롱': 4695, '라니': 4696, '두리': 4697, '손질': 4698, '단추': 4699, '레이스': 4700, '광대하다': 4701, '조르다': 4702, '만족': 4703, '왠지': 4704, '스탠드': 4705, '게는': 4706, '도둑질': 4707, '일원': 4708, '불량': 4709, '개보': 4710, '쓸쓸하다': 4711, '발길질': 4712, '가혹하다': 4713, '하늘만': 4714, '꺼리다': 4715, '황금산': 4716, '감방': 4717, '비키다': 4718, '배려': 4719, '구레나룻': 4720, '위풍': 4721, '여행자': 4722, '로베르': 4723, '널다': 4724, '공작': 4725, '어쨌건': 4726, '떠밀다': 4727, '갉아먹다': 4728, '맹세코': 4729, '광활하다': 4730, '파헤치다': 4731, '국': 4732, '불로': 4733, '재수': 4734, '세례': 4735, '장장': 4736, '그러므로': 4737, '박박': 4738, '어두워지다': 4739, '부인': 4740, '자질': 4741, '맞은편': 4742, '해변': 4743, '챙': 4744, '력': 4745, '꽥': 4746, '가소롭다': 4747, '역사': 4748, '해명': 4749, '일해': 4750, '크리스마스': 4751, '치켜들다': 4752, '완': 4753, '바닷물': 4754, '감각': 4755, '지세': 4756, '주먹질': 4757, '햐': 4758, '탱': 4759, '고급': 4760, '써레': 4761, '인근': 4762, '이속': 4763, '저주받다': 4764, '우리말': 4765, '운반': 4766, '입맛': 4767, '깄': 4768, '제겐': 4769, '덕이': 4770, '제사': 4771, '그레이하운드': 4772, '귀머거리': 4773, '뜨끔하다': 4774, '왕인': 4775, '들이키다': 4776, '굴리': 4777, '싹둑싹둑': 4778, '원통': 4779, '외국': 4780, '사후': 4781, '여야': 4782, '연거푸': 4783, '고는': 4784, '어요': 4785, '원도': 4786, '레몬': 4787, '나날': 4788, '버둥거린': 4789, '무리다': 4790, '황홀하다': 4791, '모시': 4792, '의복': 4793, '주술': 4794, '양으로': 4795, '미나리아재비': 4796, '웬걸': 4797, '불리': 4798, '퉁': 4799, '암벽': 4800, '친숙하다': 4801, '에서의': 4802, '초승달': 4803, '까지의': 4804, '영웅': 4805, '서로서로': 4806, '신들': 4807, '나오니': 4808, '미끄럽다': 4809, '군복': 4810, '까마득하다': 4811, '승패': 4812, '앞쪽': 4813, '유충': 4814, '언젠가': 4815, '팔인': 4816, '고을': 4817, '구경꾼': 4818, '이러니': 4819, '천둥': 4820, '지방': 4821, '끊임없다': 4822, '뛰어나다': 4823, '굽': 4824, '전과': 4825, '으리': 4826, '복되다': 4827, '미래': 4828, '서요': 4829, '실직': 4830, '이행': 4831, '시종일관': 4832, '연민': 4833, '어르다': 4834, '책장': 4835, '지속': 4836, '은밀': 4837, '허다': 4838, '매혹': 4839, '파악': 4840, '시민': 4841, '뒷돈': 4842, '주된': 4843, '개인': 4844, '흐리다': 4845, '가문': 4846, '이글거리다': 4847, '사물': 4848, '테두리': 4849, '울음': 4850, '떨구다': 4851, '뽑기': 4852, '깔개': 4853, '오른발': 4854, '님께참': 4855, '붉으락': 4856, '푸르락': 4857, '교황': 4858, '획득': 4859, '친하다': 4860, '예언': 4861, '나누기': 4862, '행세': 4863, '휩쓸다': 4864, '고해': 4865, '에드': 4866, '통사정': 4867, '같은뎁쇼': 4868, '내뿜': 4869, '지사': 4870, '홀쭉하다': 4871, '로구나': 4872, '움키다': 4873, '그만하다': 4874, '가보': 4875, '친밀하다': 4876, '드러나다': 4877, '박씨': 4878, '다래': 4879, '덕': 4880, '사치': 4881, '거실': 4882, '꾸욱': 4883, '요컨대': 4884, '원기': 4885, '왕성': 4886, '주제가': 4887, '혼돈': 4888, '유성': 4889, '왕위': 4890, '자취': 4891, '실례': 4892, '위아래': 4893, '지름길': 4894, '격려': 4895, '훈계': 4896, '적용': 4897, '성나다': 4898, '사오다': 4899, '태평하다': 4900, '맞닥뜨렸': 4901, '까무러치': 4902, '처참하다': 4903, '가물가물': 4904, '단다': 4905, '족족': 4906, '닳다': 4907, '영원': 4908, '관통': 4909, '가발': 4910, '부시다': 4911, '다락': 4912, '하등': 4913, '이기도': 4914, '꼬치꼬치': 4915, '무덥다': 4916, '칙칙하다': 4917, '상응': 4918, '완두콩': 4919, '냠냠': 4920, '시중': 4921, '잠기': 4922, '현관': 4923, '일만': 4924, '거도': 4925, '코로': 4926, '낭비하다': 4927, '예배': 4928, '피하': 4929, '망망대해': 4930, '접근': 4931, '으로선': 4932, '맺힌': 4933, '어기다': 4934, '문외한': 4935, '길가': 4936, '라틴어': 4937, '문법': 4938, '빌인뎁쇼': 4939, '라니까': 4940, '직공': 4941, '오복하다': 4942, '롱': 4943, '바닷가': 4944, '탈의실': 4945, '간파했더랬': 4946, '장엄하다': 4947, '조가': 4948, '아줌마': 4949, '버티고': 4950, '만을': 4951, '장도': 4952, '누었': 4953, '도록': 4954, '앨래스': 4955, '에헴': 4956, '아우': 4957, '영': 4958, '이해도': 4959, '관련': 4960, '금붕어': 4961, '어항': 4962, '웩': 4963, '새어머니': 4964, '팔고': 4965, '달이다': 4966, '어렴풋하다': 4967, '충만': 4968, '깡충': 4969, '단박': 4970, '지참금': 4971, '오른손': 4972, '개간': 4973, '빤짝': 4974, '철도역': 4975, '자연스레': 4976, '재목': 4977, '자칭': 4978, '휜': 4979, '유용하다': 4980, '나부끼다': 4981, '꼴값': 4982, '헤라클레스': 4983, '잠자다': 4984, '이스트': 4985, '되풀이': 4986, '제거': 4987, '배회': 4988, '나그네': 4989, '가수': 4990, '목록': 4991, '대야': 4992, '곡': 4993, '사촌동생': 4994, '눕힌': 4995, '쑹': 4996, '맞장구': 4997, '헤어지다': 4998, '거길': 4999, '떠보다': 5000, '겨를': 5001, '잡지': 5002, '유리창': 5003, '중얼중얼': 5004, '주재': 5005, '어떠하다': 5006, '사고방식': 5007, '쐐기': 5008, '닿는뎁쇼': 5009, '승리감': 5010, '놀림': 5011, '물정': 5012, '살았더랬': 5013, '주시': 5014, '어쩌라고': 5015, '정문': 5016, '덜커덩': 5017, '식다': 5018, '쿵쾅': 5019, '평화롭다': 5020, '납득': 5021, '안내받다': 5022, '힐끗힐끗': 5023, '화상': 5024, '칼날': 5025, '감수': 5026, '휩싸이다': 5027, '노르만': 5028, '방자하다': 5029, '뼛속': 5030, '목장': 5031, '양심': 5032, '변': 5033, '그야말로': 5034, '붐비다': 5035, '은총': 5036, '이쁜이': 5037, '올': 5038, '부위': 5039, '불타다': 5040, '날아다니다': 5041, '흠잡다': 5042, '수호': 5043, '글': 5044, '아버': 5045, '회전': 5046, '가관': 5047, '의붓': 5048, '쟁이': 5049, '동화책': 5050, '해롭다': 5051, '갖가지': 5052, '대머리': 5053, '안건': 5054, '통곡': 5055, '구두쇠': 5056, '부추': 5057, '따사롭': 5058, '대놓고': 5059, '장미꽃': 5060, '덤': 5061, '테리어': 5062, '곱슬진': 5063, '포로': 5064, '기력': 5065, '어딘': 5066, '치러지다': 5067, '펜싱': 5068, '꾀죄죄하다': 5069, '개구': 5070, '트이다': 5071, '대팻밥': 5072, '차고': 5073, '까지는': 5074, '그까짓': 5075, '파닥이다': 5076, '뭍': 5077, '패트': 5078, '각각': 5079, '포위': 5080, '차하': 5081, '손바닥': 5082, '상어': 5083, '근': 5084, '어긋나다': 5085, '누우렴': 5086, '승낙': 5087, '대뜸': 5088, '회부': 5089, '분들': 5090, '메밀': 5091, '신음': 5092, '돋보이다': 5093, '뱉다': 5094, '비웃음': 5095, '도독': 5096, '주우': 5097, '신통하다': 5098, '알리': 5099, '코끼리': 5100, '구부리': 5101, '선원': 5102, '야만스럽다': 5103, '프라이팬': 5104, '필': 5105, '야다': 5106, '묶인': 5107, '닭장': 5108, '홰': 5109, '쌍': 5110, '박수갈채': 5111, '았': 5112, '정의도': 5113, '모독': 5114, '자물쇠': 5115, '뒷문': 5116, '샘솟다': 5117, '딱지': 5118, '꿈틀꿈틀': 5119, '난리': 5120, '빼앗다': 5121, '향기': 5122, '야옹이': 5123, '홀랑': 5124, '망연자실하다': 5125, '후예': 5126, '캬': 5127, '거미': 5128, '그러나': 5129, '잔디밭': 5130, '가치': 5131, '각': 5132, '사도': 5133, '귓방망': 5134, '주기도': 5135, '급선무': 5136, '강인하다': 5137, '교제': 5138, '구해오': 5139, '다투다': 5140, '신랄하다': 5141, '예수님': 5142, '뒤뜰': 5143, '이익': 5144, '손해': 5145, '관해': 5146, '옥신각신': 5147, '여우야': 5148, '배치': 5149, '의기양양하다': 5150, '진홍': 5151, '잉꼬': 5152, '수리': 5153, '자로': 5154, '영차': 5155, '입속': 5156, '바라다보다': 5157, '우승하다': 5158, '숨쉬다': 5159, '자국': 5160, '감당': 5161, '살해': 5162, '국가': 5163, '광부': 5164, '다시금': 5165, '센스': 5166, '아수라': 5167, '때껏': 5168, '아인': 5169, '어엿하다': 5170, '예술': 5171, '맨손': 5172, '문의': 5173, '자만': 5174, '꿈나라': 5175, '양파': 5176, '튤립': 5177, '불운': 5178, '재잘거리다': 5179, '밤나무': 5180, '광란': 5181, '흘러나오다': 5182, '구두약': 5183, '선율': 5184, '마디나': 5185, '윤년': 5186, '유의': 5187, '갈팡질팡': 5188, '치마': 5189, '난장판': 5190, '힐금힐금': 5191, '공정하다': 5192, '장땡': 5193, '정이': 5194, '정성': 5195, '천명': 5196, '피클': 5197, '얕다': 5198, '적기': 5199, '밝혀내다': 5200, '어김없이': 5201, '믿음': 5202, '골프채': 5203, '트집': 5204, '안락하다': 5205, '누리로': 5206, '잡기': 5207, '포함': 5208, '사라': 5209, '일구다': 5210, '완료': 5211, '지목': 5212, '이간': 5213, '세찬': 5214, '가상하다': 5215, '감자': 5216, '빗자루': 5217, '생김새': 5218, '구분': 5219, '형틀': 5220, '궁둥이': 5221, '까발리다': 5222, '철썩': 5223, '움켜잡아': 5224, '등불': 5225, '추궁': 5226, '하렴': 5227, '확연': 5228, '차이': 5229, '빈둥빈둥': 5230, '붓': 5231, '말막': 5232, '정력': 5233, '쓸데없다': 5234, '지피다': 5235, '망극': 5236, '똑바로': 5237, '무언가': 5238, '얼굴빛': 5239, '식욕': 5240, '살찐': 5241, '애끼': 5242, '쫒다': 5243, '정당하다': 5244, '연달': 5245, '중상': 5246, '모략': 5247, '왼발': 5248, '이쑤시개': 5249, '기필코': 5250, '앵': 5251, '포어포메른': 5252, '두서': 5253, '꿈속': 5254, '쉽사리': 5255, '불도': 5256, '다운': 5257, '청춘': 5258, '제아': 5259, '잘나다': 5260, '형도': 5261, '파편': 5262, '라운드': 5263, '나니': 5264, '날자': 5265, '마지않다': 5266, '짐짓': 5267, '지인': 5268, '정각': 5269, '만도': 5270, '시큼하다': 5271, '캐모마일': 5272, '물엿': 5273, '인색하다': 5274, '이미지': 5275, '관장': 5276, '현세': 5277, '이실': 5278, '처량하다': 5279, '모진': 5280, '고려': 5281, '드럼': 5282, '키워지다': 5283, '포악': 5284, '갓': 5285, '가당': 5286, '차분해지다': 5287, '역경': 5288, '진시': 5289, '롤': 5290, '도려내다': 5291, '흔하다': 5292, '약탈': 5293, '제각기': 5294, '사서': 5295, '온기': 5296, '은인': 5297, '모드': 5298, '단절': 5299, '불효자': 5300, '효심': 5301, '지극': 5302, '깨달': 5303, '여자도': 5304, '무자비하다': 5305, '장비': 5306, '아예': 5307, '거룩하다': 5308, '망나니': 5309, '셨': 5310, '주량': 5311, '오냐': 5312, '색조': 5313, '꽃송이': 5314, '지급': 5315, '고약하다': 5316, '후후': 5317, '려던': 5318, '토기': 5319, '서리': 5320, '헤집다': 5321, '거꾸러지다': 5322, '끈질기다': 5323, '가닥': 5324, '경작지': 5325, '시라': 5326, '재깍재깍': 5327, '어쩌게': 5328, '유리하다': 5329, '갇': 5330, '고양': 5331, '재잘재잘': 5332, '건대': 5333, '앙앙': 5334, '와만': 5335, '부부싸움': 5336, '여부': 5337, '떠돌아다니다': 5338, '말함': 5339, '데령': 5340, '퍼덕이다': 5341, '훌쩍': 5342, '주저': 5343, '감시': 5344, '아슬아슬': 5345, '주로': 5346, '귀중': 5347, '않았더랬': 5348, '화분': 5349, '아비': 5350, '따위': 5351, '다수': 5352, '기울다': 5353, '공부': 5354, '벼슬': 5355, '나이트': 5356, '캡': 5357, '구봉': 5358, '비니': 5359, '공세': 5360, '건승': 5361, '발송': 5362, '성경': 5363, '저울': 5364, '발검': 5365, '도배': 5366, '누렁이': 5367, '흉보다': 5368, '물기': 5369, '심각': 5370, '단편': 5371, '도망자': 5372, '뭉개기': 5373, '짓거리': 5374, '도어': 5375, '종교': 5376, '현란하다': 5377, '부추기다': 5378, '계기': 5379, '재회': 5380, '플레이': 5381, '불경': 5382, '술수': 5383, '더듬더듬': 5384, '깜빡이다': 5385, '추방': 5386, '마감': 5387, '죄목': 5388, '맴돌다': 5389, '짜증': 5390, '승리': 5391, '불명': 5392, '남구': 5393, '요긴': 5394, '광석': 5395, '조급하다': 5396, '삶일': 5397, '횡': 5398, '헤': 5399, '까닥': 5400, '위험천만': 5401, '리만': 5402, '푹푹': 5403, '직고': 5404, '해고': 5405, '장만': 5406, '소서': 5407, '닷': 5408, '오만하다': 5409, '여유': 5410, '작업장': 5411, '숫돌': 5412, '바깥쪽': 5413, '얼어붙다': 5414, '청구': 5415, '미안': 5416, '가뿐하다': 5417, '구출': 5418, '매끄럽다': 5419, '흉악하다': 5420, '자진': 5421, '실실': 5422, '예민하다': 5423, '나이라': 5424, '흉년': 5425, '쫄쫄': 5426, '갑쇼': 5427, '옹': 5428, '제품': 5429, '다시피': 5430, '아가리': 5431, '편안': 5432, '매몰': 5433, '이사': 5434, '받침': 5435, '바로잡다': 5436, '누비': 5437, '벼락': 5438, '여행가': 5439, '슈': 5440, '사발': 5441, '갈퀴': 5442, '초록': 5443, '택하': 5444, '빈둥거려': 5445, '축척': 5446, '신체': 5447, '결함': 5448, '검정색': 5449, '속담': 5450, '무색': 5451, '사원': 5452, '여신': 5453, '호락호락하다': 5454, '글쎄요': 5455, '비일비재하다': 5456, '유언': 5457, '익숙하다': 5458, '샀더랬': 5459, '마나': 5460, '병인': 5461, '진실하다': 5462, '원자시': 5463, '왔더랬': 5464, '휴양': 5465, '행차': 5466, '위함': 5467, '수포': 5468, '도처': 5469, '투구': 5470, '잿빛개구리매': 5471, '라테': 5472, '란궁': 5473, '화장': 5474, '도구': 5475, '양부': 5476, '흠집': 5477, '한층': 5478, '박아': 5479, '금도': 5480, '뽀롱이': 5481, '마음먹다': 5482, '이승': 5483, '거슬러': 5484, '현실': 5485, '것일': 5486, '첨벙대': 5487, '혼잡하다': 5488, '왁자지껄': 5489, '방편': 5490, '목발': 5491, '죽마': 5492, '위급하다': 5493, '주교': 5494, '기병': 5495, '벽돌': 5496, '말뚱말뚱': 5497, '뾰루': 5498, '훈시': 5499, '체포하라': 5500, '샬럿': 5501, '노란색': 5502, '마차도': 5503, '극심하다': 5504, '어감': 5505, '삭제': 5506, '무뚝뚝하다': 5507, '평지': 5508, '가라': 5509, '소지품': 5510, '타월': 5511, '오색': 5512, '옻칠': 5513, '광택': 5514, '우지끈': 5515, '절벽': 5516, '낭떠러지': 5517, '누런': 5518, '노름': 5519, '고초': 5520, '세기': 5521, '복무': 5522, '갓난아기': 5523, '레겐스부르크': 5524, '스트라스부르': 5525, '야비하다': 5526, '청결하다': 5527, '검댕': 5528, '어질다': 5529, '사냥터': 5530, '체험': 5531, '츠은': 5532, '천년': 5533, '뭉개지': 5534, '신기': 5535, '쩔뚝': 5536, '그닥': 5537, '정부': 5538, '관계자': 5539, '의문': 5540, '찍히다': 5541, '가시다': 5542, '국자': 5543, '파내다': 5544, '매정하다': 5545, '척도': 5546, '동작': 5547, '오심': 5548, '번쩍이다': 5549, '놋쇠': 5550, '세간': 5551, '끙끙': 5552, '거무스름': 5553, '똥찰': 5554, '어쩌겠어': 5555, '대규모': 5556, '쑥대밭': 5557, '움찔': 5558, '배속': 5559, '아등바등': 5560, '라야': 5561, '타나': 5562, '아장아장': 5563, '귀하': 5564, '공경': 5565, '밑동': 5566, '퉁퉁': 5567, '고퐁': 5568, '빈털터리': 5569, '날씬하다': 5570, '짹짹': 5571, '찍찍거리다': 5572, '호명': 5573, '부족': 5574, '다라': 5575, '말수': 5576, '질질': 5577, '읊어줘': 5578, '토실하다': 5579, '불청객': 5580, '만반': 5581, '태세': 5582, '적합': 5583, '수석': 5584, '락불그락': 5585, '반동': 5586, '상공': 5587, '수렁': 5588, '정치권': 5589, '거물': 5590, '그만두다': 5591, '곁눈질': 5592, '훈': 5593, '좌석': 5594, '설거지': 5595, '식탁보': 5596, '절차': 5597, '고기잡이': 5598, '림': 5599, '꽝': 5600, '똘똘하': 5601, '찬미': 5602, '신청': 5603, '패철': 5604, '드럽다': 5605, '빗방울': 5606, '역장': 5607, '혼': 5608, '쪼글쪼글하다': 5609, '커플': 5610, '후계': 5611, '출렁이다': 5612, '산신': 5613, '굴레': 5614, '사리다': 5615, '한심하다': 5616, '맨날': 5617, '평온하다': 5618, '나루': 5619, '구제': 5620, '타이밍': 5621, '예상': 5622, '단연': 5623, '에전': 5624, '먹어주다': 5625, '사업': 5626, '팽': 5627, '돌다리': 5628, '팽이': 5629, '총신': 5630, '아물다': 5631, '다람쥐': 5632, '둘러쌓다': 5633, '실천': 5634, '줌': 5635, '매만지다': 5636, '은실로': 5637, '페티코트': 5638, '열중': 5639, '일가견': 5640, '때려눕혔다': 5641, '일그러지다': 5642, '누렁': 5643, '퍼거': 5644, '공통': 5645, '알거지': 5646, '작별인사': 5647, '안전': 5648, '엉금엉금': 5649, '구리': 5650, '상륙': 5651, '단도': 5652, '심보': 5653, '간지럽다': 5654, '리치': 5655, '증기': 5656, '기관차': 5657, '란다': 5658, '주어지다': 5659, '호박벌': 5660, '버둥버둥': 5661, '거렸다': 5662, '불과하다': 5663, '반달': 5664, '머리핀': 5665, '병약하다': 5666, '어르신': 5667, '꿈틀': 5668, '꾸벅꾸벅': 5669, '보채다': 5670, '흙투성이': 5671, '홍수': 5672, '뿔뿔이': 5673, '장미라': 5674, '엄습해': 5675, '마지못하다': 5676, '고결하다': 5677, '입맞춤': 5678, '씌': 5679, '핑크색': 5680, '산호': 5681, '늘어지다': 5682, '비고': 5683, '오가다': 5684, '짐작': 5685, '폭압적': 5686, '발뒤꿈치': 5687, '섭': 5688, '티끌': 5689, '꼴다': 5690, '신신당부': 5691, '걱정거리': 5692, '경찰관': 5693, '어걸': 5694, '다한': 5695, '트자': 5696, '근접하다': 5697, '옴짝': 5698, '불꽃': 5699, '튀기다': 5700, '이라니': 5701, '고라': 5702, '수정': 5703, '샹들리': 5704, '에가': 5705, '사항': 5706, '소매': 5707, '무니': 5708, '듭니': 5709, '여소': 5710, '독침': 5711, '승마': 5712, '신형': 5713, '이맘때': 5714, '탱탱하다': 5715, '안하무인': 5716, '촌뜨기': 5717, '전적': 5718, '더군다나': 5719, '넷째': 5720, '서약': 5721, '비병': 5722, '한나절': 5723, '장상': 5724, '밑천': 5725, '발자취': 5726, '독일인': 5727, '표준어': 5728, '나긋하다': 5729, '택': 5730, '백발': 5731, '땅딸막': 5732, '생기발랄하다': 5733, '창의': 5734, '보장': 5735, '후덕': 5736, '근면하다': 5737, '늦': 5738, '꾸러기': 5739, '있으슈': 5740, '거유': 5741, '교환': 5742, '모면': 5743, '성품': 5744, '가파른': 5745, '봉투': 5746, '쿵쾅거리다': 5747, '고자질': 5748, '물기둥': 5749, '왕가': 5750, '정상': 5751, '건조': 5752, '적중': 5753, '주거': 5754, '조만간': 5755, '시로': 5756, '헌병': 5757, '머스켓총': 5758, '백방': 5759, '추적자': 5760, '임자': 5761, '식구': 5762, '임마': 5763, '자리야': 5764, '수줍다': 5765, '가늠': 5766, '약재': 5767, '엮었어': 5768, '이여': 5769, '이용': 5770, '망치다': 5771, '더없이': 5772, '고령': 5773, '프록': 5774, '코트': 5775, '자리다': 5776, '그럭저럭': 5777, '가냘프다': 5778, '에게만': 5779, '습관': 5780, '봄날': 5781, '구형': 5782, '찬물': 5783, '흔쾌하다': 5784, '가정교사': 5785, '들러리': 5786, '경비원': 5787, '서기': 5788, '근육': 5789, '노년': 5790, '무모하다': 5791, '내외': 5792, '진귀하다': 5793, '자격': 5794, '풍습': 5795, '화형': 5796, '훨훨': 5797, '노을': 5798, '단계': 5799, '삭신': 5800, '다애': 5801, '경향': 5802, '의논': 5803, '시퍼레지다': 5804, '상당수': 5805, '다다': 5806, '공터': 5807, '긴장': 5808, '포픈': 5809, '마다의': 5810, '기본': 5811, '암흑': 5812, '푸드덕푸드덕': 5813, '날갯짓': 5814, '또렷하다': 5815, '꽃다발': 5816, '택해': 5817, '주도': 5818, '일어': 5819, '축축': 5820, '동성': 5821, '논박': 5822, '리야': 5823, '닥치다': 5824, '뱅뱅': 5825, '별별': 5826, '소산': 5827, '다분하다': 5828, '미풍': 5829, '나물': 5830, '꿀풀': 5831, '개울물': 5832, '너무하다': 5833, '극단': 5834, '출세': 5835, '시골뜨기': 5836, '명과': 5837, '디디다': 5838, '덜다': 5839, '작업실': 5840, '돌출': 5841, '멜로디': 5842, '곡조': 5843, '매복': 5844, '팔짝': 5845, '기색': 5846, '마음대로': 5847, '예외': 5848, '요망': 5849, '속에댜': 5850, '읍내': 5851, '부풀리다': 5852, '뚜벅뚜벅': 5853, '기획': 5854, '음료수': 5855, '고등학교': 5856, '관심사': 5857, '용품': 5858, '속절없다': 5859, '섬세하다': 5860, '장밋빛': 5861, '에서가': 5862, '자칫': 5863, '썩을': 5864, '동정': 5865, '마르지': 5866, '적색': 5867, '사암': 5868, '솔': 5869, '부유': 5870, '애용': 5871, '구입': 5872, '폭': 5873, '만큼도': 5874, '농민': 5875, '대담무쌍하다': 5876, '선왕': 5877, '지위': 5878, '밀지': 5879, '여명': 5880, '샤샤': 5881, '샤': 5882, '튼튼하다': 5883, '이례': 5884, '절대로': 5885, '쫘': 5886, '진행중': 5887, '유고': 5888, '막론': 5889, '가내': 5890, '허용': 5891, '죄명': 5892, '식용': 5893, '땅땅': 5894, '잤더랬': 5895, '현기증': 5896, '준수': 5897, '조화롭다': 5898, '교': 5899, '고이': 5900, '나가시': 5901, '위오': 5902, '주석': 5903, '남김없이': 5904, '대도': 5905, '전남편': 5906, '과의': 5907, '소의': 5908, '항문': 5909, '쇠약하다': 5910, '뭡': 5911, '디': 5912, '보체': 5913, '던': 5914, '툴툴대면': 5915, '제곱미터': 5916, '부인과': 5917, '호화': 5918, '들락거렸': 5919, '나머진': 5920, '극히': 5921, '후광': 5922, '한바탕': 5923, '천이': 5924, '난간': 5925, '작업량': 5926, '수준': 5927, '지겹다': 5928, '갠': 5929, '낟알': 5930, '무정하다': 5931, '매듭': 5932, '덕지덕지': 5933, '마찰': 5934, '비용': 5935, '차차': 5936, '광': 5937, '곧잘': 5938, '게오': 5939, '풍부하다': 5940, '황급': 5941, '버럭': 5942, '일찍이': 5943, '실패': 5944, '부지런': 5945, '위도': 5946, '자지': 5947, '숲길': 5948, '혓바닥': 5949, '기한': 5950, '만료': 5951, '횃대': 5952, '대요': 5953, '발밑': 5954, '터베': 5955, '찬양': 5956, '향기롭다': 5957, '광선': 5958, '주자': 5959, '벙긋벙긋': 5960, '단념하다': 5961, '신분': 5962, '비천하다': 5963, '상속': 5964, '쭈그리다': 5965, '본받다': 5966, '방울방울': 5967, '충동': 5968, '식겁하다': 5969, '모질다': 5970, '반감': 5971, '전력': 5972, '으로가': 5973, '야외': 5974, '것도': 5975, '뾰족': 5976, '굽기': 5977, '청해': 5978, '걸음걸이': 5979, '점점이': 5980, '헤어': 5981, '브라': 5982, '켈': 5983, '힌': 5984, '허허': 5985, '긴장도': 5986, '경청': 5987, '정지': 5988, '양하다': 5989, '매도': 5990, '손재주': 5991, '중국': 5992, '도자기': 5993, '식사량': 5994, '젖먹이': 5995, '클로버': 5996, '사각형': 5997, '동감': 5998, '말고도': 5999, '다량': 6000, '수거': 6001, '온순하다': 6002, '벨': 6003, '어쨌거': 6004, '군림': 6005, '쿨하다': 6006, '진자': 6007, '탁하다': 6008, '기둥': 6009, '높다랗': 6010, '간격': 6011, '마우스': 6012, '트랩': 6013, '문과': 6014, '메모리': 6015, '스무': 6016, '자수': 6017, '눕혔어': 6018, '힘쓰다': 6019, '간식': 6020, '새우다': 6021, '엿듣곤': 6022, '대수롭다': 6023, '배신': 6024, '불끈': 6025, '엿들': 6026, '물통이': 6027, '겸비': 6028, '꼴사납다': 6029, '친아빠': 6030, '조이다': 6031, '구조': 6032, '부속': 6033, '역겹다': 6034, '세계': 6035, '너도밤나무': 6036, '목재': 6037, '회양': 6038, '곤봉': 6039, '울고불고': 6040, '받았더랬': 6041, '정규': 6042, '넘겨다보다': 6043, '번득': 6044, '나른하다': 6045, '구의': 6046, '생선': 6047, '야마': 6048, '화목': 6049, '천만다행': 6050, '점령': 6051, '찻주전자': 6052, '지은': 6053, '쭈글쭈글': 6054, '특징': 6055, '전만': 6056, '떠돌다': 6057, '타지': 6058, '타작': 6059, '책표지': 6060, '그려지다': 6061, '돈칠': 6062, '아무개': 6063, '문패': 6064, '대문': 6065, '주부': 6066, '일사천리': 6067, '팬케이크': 6068, '곧이': 6069, '우월하다': 6070, '쾌활하다': 6071, '마님': 6072, '부젓가락': 6073, '이야말로': 6074, '충족': 6075, '마가': 6076, '생명체': 6077, '엄동설한': 6078, '불시': 6079, '현인': 6080, '옷자락': 6081, '형국': 6082, '찻숟가락': 6083, '집집': 6084, '따끔하다': 6085, '텐데도': 6086, '압박': 6087, '콧대': 6088, '세고': 6089, '도도하다': 6090, '꼬끼오': 6091, '꼬꼬': 6092, '엿듣': 6093, '자비롭다': 6094, '아니꼽다': 6095, '낙': 6096, '요령': 6097, '지침': 6098, '달걀': 6099, '버트': 6100, '혼합': 6101, '얼버무리다': 6102, '놀래다': 6103, '흉하다': 6104, '유머': 6105, '매너': 6106, '출생': 6107, '불만족': 6108, '흉내': 6109, '승복': 6110, '기척': 6111, '둥둥': 6112, '들통': 6113, '백해무익하다': 6114, '자슥': 6115, '산비둘기': 6116, '섭하다': 6117, '문틈': 6118, '미적': 6119, '남겨지다': 6120, '바다표범': 6121, '성함': 6122, '붓감': 6123, '헛되': 6124, '호호': 6125, '잿빛': 6126, '구릿빛': 6127, '혼잡': 6128, '유발': 6129, '명쾌하다': 6130, '세워지다': 6131, '손길': 6132, '가해진': 6133, '별일': 6134, '왕지': 6135, '보필': 6136, '실현': 6137, '여리다': 6138, '도덕': 6139, '최신': 6140, '꿈일': 6141, '다지다': 6142, '썰다': 6143, '끝내다': 6144, '무게중심': 6145, '우르르': 6146, '쏠리다': 6147, '간만': 6148, '참내': 6149, '대위': 6150, '계급': 6151, '용의주도하다': 6152, '승인': 6153, '슬리퍼': 6154, '날갯짓들': 6155, '뛰어오다': 6156, '캔디': 6157, '엄하': 6158, '스럽지': 6159, '말동무': 6160, '씽긋': 6161, '꿋꿋': 6162, '평': 6163, '아침나절': 6164, '방해꾼': 6165, '해파리': 6166, '태피스트리': 6167, '캐비닛': 6168, '마음껏': 6169, '패턴': 6170, '웃음보': 6171, '건만': 6172, '직': 6173, '꿈침': 6174, '간담': 6175, '덜썩': 6176, '어어': 6177, '이산': 6178, '끝점': 6179, '경구': 6180, '항시': 6181, '단정하다': 6182, '대하': 6183, '줄다리기': 6184, '종인': 6185, '이발사': 6186, '면도': 6187, '멀뚱멀뚱': 6188, '다복': 6189, '마왕': 6190, '축북': 6191, '거처': 6192, '우애': 6193, '곱사등이': 6194, '깨우치다': 6195, '유향': 6196, '알갱이': 6197, '쑥쑥': 6198, '통통하다': 6199, '투입': 6200, '이성': 6201, '펜': 6202, '총애': 6203, '남작': 6204, '휘둘렸지': 6205, '목걸이': 6206, '주르르': 6207, '만요': 6208, '한가롭다': 6209, '미천하다': 6210, '상기': 6211, '잔혹하다': 6212, '박애': 6213, '쌩쌩하다': 6214, '길들다': 6215, '밧줄': 6216, '으로부터는': 6217, '아연': 6218, '질색': 6219, '해하': 6220, '리케였다': 6221, '탕': 6222, '뭉근': 6223, '정의': 6224, '초도': 6225, '점프': 6226, '철저하다': 6227, '가사도': 6228, '합치': 6229, '쨍': 6230, '다빈': 6231, '갈수': 6232, '밥그릇': 6233, '부라리다': 6234, '장차': 6235, '모르타르': 6236, '힘내다': 6237, '볕': 6238, '일광욕': 6239, '닷새': 6240, '억세다': 6241, '지하감옥': 6242, '누나': 6243, '맞닥뜨리': 6244, '금실': 6245, '진중하다': 6246, '쉽다': 6247, '에덴동산': 6248, '불모': 6249, '똥찬': 6250, '맨발': 6251, '발악': 6252, '뭇': 6253, '한결같이': 6254, '몽롱': 6255, '헝가리': 6256, '금기': 6257, '악화': 6258, '사령': 6259, '딴다': 6260, '참여': 6261, '모시다': 6262, '서고': 6263, '불안': 6264, '자포자기': 6265, '실쭉': 6266, '기품': 6267, '도금': 6268, '교수': 6269, '하단': 6270, '삐': 6271, '기우뚱': 6272, '속인': 6273, '사팔뜨기': 6274, '광채': 6275, '격발': 6276, '물품': 6277, '조예': 6278, '알몸': 6279, '쾅쾅': 6280, '탕탕': 6281, '대만': 6282, '손상': 6283, '집도': 6284, '밥줄': 6285, '구가': 6286, '밀치다': 6287, '얼핏': 6288, '단속': 6289, '대수': 6290, '헌신': 6291, '저딴': 6292, '도운': 6293, '바윗돌': 6294, '젠장': 6295, '킹킹': 6296, '수리부엉이': 6297, '흠': 6298, '취향': 6299, '가지가지': 6300, '끄덕이다': 6301, '폭력': 6302, '고충': 6303, '품성': 6304, '술잔': 6305, '공도': 6306, '안나': 6307, '상류': 6308, '사회': 6309, '자두나무': 6310, '고위': 6311, '관료': 6312, '차곡차곡': 6313, '낙농업': 6314, '긴지': 6315, '예사롭다': 6316, '부엉부엉': 6317, '혈통': 6318, '황폐': 6319, '꽃사슴': 6320, '사모': 6321, '달린다': 6322, '앞마당': 6323, '이르렀다': 6324, '게유': 6325, '갔더랬': 6326, '처마': 6327, '살짝궁': 6328, '괴상하다': 6329, '나열': 6330, '간단': 6331, '얽히다': 6332, '짊어': 6333, '둥실둥실': 6334, '개지': 6335, '신비': 6336, '지하방': 6337, '졸라': 6338, '류': 6339, '가두': 6340, '웅크리다': 6341, '글러': 6342, '다오': 6343, '말햇': 6344, '빈곤하다': 6345, '홍길동': 6346, '대환영': 6347, '헛': 6348, '익숙': 6349, '무죄': 6350, '유혹': 6351, '흘러가다': 6352, '색칠': 6353, '떠나오다': 6354, '용감': 6355, '무쌍': 6356, '뒷모습': 6357, '술래잡기': 6358, '논의': 6359, '먹었더랬': 6360, '견습': 6361, '벅': 6362, '천대': 6363, '부옇다': 6364, '섬기다': 6365, '엄명': 6366, '우수수': 6367, '반질반질': 6368, '가려지다': 6369, '소임': 6370, '건장하다': 6371, '장정': 6372, '계집아이': 6373, '둘러보기': 6374, '후딱': 6375, '잠복': 6376, '애지중지': 6377, '다닥다닥': 6378, '벌러덩': 6379, '치가': 6380, '튀다': 6381, '한때': 6382, '살림살이': 6383, '일군': 6384, '싸가지': 6385, '애호가': 6386, '헛된': 6387, '옆구리': 6388, '쿡쿡': 6389, '핏방울': 6390, '화답': 6391, '애석하다': 6392, '이지만': 6393, '벌판': 6394, '압도': 6395, '속사정': 6396, '방실': 6397, '부럽다': 6398, '전역': 6399, '당일': 6400, '몰려들다': 6401, '데기': 6402, '씌었다': 6403, '계곡': 6404, '폐허': 6405, '이도': 6406, '상도': 6407, '승부': 6408, '열심': 6409, '접수': 6410, '골다': 6411, '모임': 6412, '덧옷': 6413, '지칭': 6414, '커버': 6415, '가바': 6416, '보인느': 6417, '존엄': 6418, '왔': 6419, '러마': 6420, '허리춤': 6421, '정육점': 6422, '노심초사': 6423, '템포': 6424, '편찮다': 6425, '패자': 6426, '신조': 6427, '수수료': 6428, '불러일으키다': 6429, '암호': 6430, '생뚱맞': 6431, '기인': 6432, '막무가내': 6433, '보상금': 6434, '똘똘했어': 6435, '현재': 6436, '휙휙': 6437, '우의': 6438, '혔': 6439, '신문': 6440, '말미': 6441, '울림': 6442, '짤': 6443, '사랑받다': 6444, '수입': 6445, '투자': 6446, '몸속': 6447, '흐르르': 6448, '르': 6449, '푸드득': 6450, '난감하다': 6451, '농': 6452, '진담': 6453, '대담하다': 6454, '왓따': 6455, '꼬불꼬불': 6456, '맛임': 6457, '포박': 6458, '빗대다': 6459, '소가': 6460, '전신': 6461, '최상': 6462, '종료': 6463, '관도': 6464, '점칠': 6465, '태초': 6466, '꼬꼬댁': 6467, '손대다': 6468, '부어': 6469, '주소': 6470, '탄복': 6471, '빵칼': 6472, '숨소리': 6473, '친척': 6474, '진정하다': 6475, '어인': 6476, '남아도': 6477, '에까지도': 6478, '골로': 6479, '댕기': 6480, '저녁놀': 6481, '맹목': 6482, '신세': 6483, '떤다': 6484, '공평하다': 6485, '혈색': 6486, '요란': 6487, '대소': 6488, '꽈': 6489, '띤': 6490, '수증기': 6491, '투명하다': 6492, '남고': 6493, '흐느끼': 6494, '득': 6495, '언월도': 6496, '타조': 6497, '금줄': 6498, '할망구': 6499, '침침하다': 6500, '덩달아': 6501, '상이': 6502, '떠나가다': 6503, '본격': 6504, '한자리': 6505, '일부러': 6506, '만물박사': 6507, '보존': 6508, '증표': 6509, '욱': 6510, '창창하다': 6511, '검도': 6512, '섬멸': 6513, '평온': 6514, '반딧불': 6515, '푸른색': 6516, '지극히': 6517, '유독': 6518, '연장': 6519, '초면': 6520, '치장': 6521, '완만': 6522, '경사지다': 6523, '셈': 6524, '산만': 6525, '황량': 6526, '영락': 6527, '우연': 6528, '부슬부슬': 6529, '예수': 6530, '발치': 6531, '켁켁거리': 6532, '메우다': 6533, '배푼': 6534, '독일어': 6535, '어떡하다': 6536, '택했어': 6537, '로란': 6538, '공인': 6539, '심문': 6540, '붕': 6541, '치우치다': 6542, '끼치다': 6543, '된서리': 6544, '잡혀가다': 6545, '해님': 6546, '쪼아댈': 6547, '쏜살같다': 6548, '는가': 6549, '특권': 6550, '요량': 6551, '군중': 6552, '밝기': 6553, '응수': 6554, '유치': 6555, '찢기다': 6556, '현대': 6557, '붕장어': 6558, '코일': 6559, '옴': 6560, '조지': 6561, '자긍심': 6562, '평상시': 6563, '광산': 6564, '행정': 6565, '달랑': 6566, '초가': 6567, '배심': 6568, '내부': 6569, '쓰시': 6570, '다고': 6571, '해조': 6572, '짓눌리다': 6573, '손수': 6574, '애릴스': 6575, '말고는': 6576, '전투': 6577, '오들오들': 6578, '동일하다': 6579, '더불다': 6580, '효도': 6581, '로써': 6582, '읊조리다': 6583, '바랬으니까': 6584, '갈겨': 6585, '뭐더': 6586, '자시다': 6587, '마음상태': 6588, '다발': 6589, '도가머리': 6590, '다리미질': 6591, '곱': 6592, '인적': 6593, '틀어박히다': 6594, '박람회': 6595, '아니렸다': 6596, '외모': 6597, '구부정하다': 6598, '게라': 6599, '핀잔': 6600, '십상': 6601, '저장': 6602, '파랗다': 6603, '묽다': 6604, '언뜻': 6605, '보신': 6606, '메르쿠리우스': 6607, '딸리다': 6608, '땔나무': 6609, '나본': 6610, '불성': 6611, '낄낄': 6612, '판관': 6613, '이름나다': 6614, '성령': 6615, '강림절': 6616, '쉬쉬': 6617, '대동': 6618, '아차': 6619, '끝없다': 6620, '실내': 6621, '다야': 6622, '머프': 6623, '화단': 6624, '하스': 6625, '간간이': 6626, '리신': 6627, '불규칙': 6628, '펑퍼짐하다': 6629, '안쪽': 6630, '바른': 6631, '잘리다': 6632, '변장': 6633, '애별레': 6634, '드밀': 6635, '과학': 6636, '톤': 6637, '낮추다': 6638, '수소': 6639, '청취': 6640, '친목': 6641, '현혹': 6642, '짓궂다': 6643, '엉망': 6644, '종소리': 6645, '경황': 6646, '마스터': 6647, '사안': 6648, '뜨내기': 6649, '엮이긴': 6650, '채찍': 6651, '불경기': 6652, '빠듯하': 6653, '자신만만하다': 6654, '담하다': 6655, '안식': 6656, '여지': 6657, '삼위일체': 6658, '아두': 6659, '갑': 6660, '살그머니': 6661, '여니': 6662, '주치': 6663, '누군': 6664, '기합': 6665, '진동': 6666, '에네케': 6667, '베네케': 6668, '적의': 6669, '남매': 6670, '서너': 6671, '오도': 6672, '험하다': 6673, '산길': 6674, '갑작스럽다': 6675, '거르면서': 6676, '대면': 6677, '피고': 6678, '어짤': 6679, '벤치': 6680, '그람시': 6681, '긴박하다': 6682, '우려': 6683, '판단력': 6684, '잔말': 6685, '움직임': 6686, '간섭': 6687, '시집가다': 6688, '유유상종': 6689, '번영': 6690, '달력': 6691, '포개다': 6692, '스트레스': 6693, '산속': 6694, '잡아매다': 6695, '일말': 6696, '약자': 6697, '복장': 6698, '인거': 6699, '스마트': 6700, '일인': 6701, '전하라': 6702, '수요일': 6703, '흡족하다': 6704, '살찌다': 6705, '발판': 6706, '떨기': 6707, '실신': 6708, '흠칫': 6709, '천연두': 6710, '막연하다': 6711, '열한': 6712, '텄': 6713, '마안': 6714, '몸무게': 6715, '상품': 6716, '부랴부랴': 6717, '초가집': 6718, '알기': 6719, '함정': 6720, '이하': 6721, '어지간하다': 6722, '물러서다': 6723, '엘프': 6724, '소문나다': 6725, '끼기': 6726, '해질녘': 6727, '납': 6728, '순순하다': 6729, '위안': 6730, '장식품': 6731, '맞닿다': 6732, '물개': 6733, '연어': 6734, '위기일발': 6735, '사려': 6736, '내면': 6737, '부실': 6738, '횡재': 6739, '내려놓음': 6740, '과실': 6741, '라지': 6742, '하오': 6743, '일리': 6744, '에서까지': 6745, '탈곡': 6746, '제격': 6747, '다리다': 6748, '까지와': 6749, '힐끔힐끔': 6750, '호출': 6751, '팔만': 6752, '기독교도': 6753, '놈팡이': 6754, '세도': 6755, '곤거렸답': 6756, '사의': 6757, '맥주': 6758, '황금색': 6759, '마름모꼴': 6760, '이랑은': 6761, '아들웨렐': 6762, '이스트라': 6763, '땋았': 6764, '술집': 6765, '싸움질': 6766, '불순': 6767, '가난뱅이': 6768, '십사': 6769, '발린': 6770, '온천': 6771, '얼간이': 6772, '동강이': 6773, '콘서트': 6774, '진열': 6775, '뿜어져': 6776, '자욱이': 6777, '소파': 6778, '퍼붓다': 6779, '은신': 6780, '부수': 6781, '가마니': 6782, '대청': 6783, '나지막하다': 6784, '구혼': 6785, '세심': 6786, '조밀하다': 6787, '꼼꼼하다': 6788, '기민하다': 6789, '고전': 6790, '시뻘': 6791, '축소': 6792, '응접실': 6793, '말끔': 6794, '정신과': 6795, '무뎌': 6796, '날궂': 6797, '가다가': 6798, '초상': 6799, '묏': 6800, '모이라': 6801, '한순간': 6802, '너비': 6803, '착석': 6804, '행방': 6805, '거꾸로': 6806, '제자': 6807, '수세미': 6808, '겉옷': 6809, '체력': 6810, '이분': 6811, '마우이': 6812, '폐': 6813, '엄나': 6814, '일체': 6815, '삭둑': 6816, '반나절': 6817, '검은색': 6818, '나이팅게일': 6819, '콧노래': 6820, '워질': 6821, '전념': 6822, '팔짝팔짝': 6823, '우뚝': 6824, '말미암아': 6825, '잠입': 6826, '건방지다': 6827, '타일러': 6828, '판이하다': 6829, '오므라들다': 6830, '나선': 6831, '뭡니까': 6832, '웬만큼': 6833, '쌔야': 6834, '딜레마': 6835, '골치': 6836, '꼴통': 6837, '신령': 6838, '베이': 6839, '내게로': 6840, '예물': 6841, '슬기': 6842, '왕겨': 6843, '방가지똥': 6844, '대자': 6845, '천사일': 6846, '죽도': 6847, '숟가락': 6848, '댕': 6849, '흘낏': 6850, '기와': 6851, '세려': 6852, '홀린': 6853, '같이만': 6854, '백합': 6855, '마무': 6856, '뚜렷하다': 6857, '대접': 6858, '완쾌': 6859, '종사': 6860, '깊숙하다': 6861, '소용돌이': 6862, '어쩌겠다': 6863, '다급해지다': 6864, '보충': 6865, '심지': 6866, '지배': 6867, '수작': 6868, '원한': 6869, '꼬부라지다': 6870, '땅거미': 6871, '시범': 6872, '뽑히다': 6873, '의원님': 6874, '먹보': 6875, '불한당': 6876, '혼동': 6877, '어리둥절해지다': 6878, '직하다': 6879, '솔개': 6880, '점검': 6881, '혼나다': 6882, '보복': 6883, '신앙': 6884, '예쁘장하다': 6885, '기웃': 6886, '기세': 6887, '독기': 6888, '재앙': 6889, '엷다': 6890, '청색': 6891, '뒤척거리다': 6892, '낭자': 6893, '습성': 6894, '번지르르하다': 6895, '요런': 6896, '얄밉다': 6897, '산발': 6898, '창조자': 6899, '집합': 6900, '안이': 6901, '머금': 6902, '칸탈': 6903, '부트': 6904, '제국': 6905, '멍석': 6906, '변치': 6907, '날리다': 6908, '산모': 6909, '잘살다': 6910, '보통': 6911, '교대': 6912, '꿈꾸다': 6913, '쪼무라기': 6914, '기별': 6915, '베베': 6916, '꼬으': 6917, '으아': 6918, '게단': 6919, '괴성': 6920, '정적': 6921, '들먹이다': 6922, '낭비': 6923, '면목': 6924, '한텐': 6925, '쭈르르': 6926, '캥캥': 6927, '대금': 6928, '향수병': 6929, '싫증': 6930, '숙년': 6931, 'ㅜㅜ': 6932, '효력': 6933, '적지': 6934, '추워지다': 6935, '씌어': 6936, '합': 6937, '디다': 6938, '논바닥': 6939, '쩌억': 6940, '나무껍질': 6941, '내심': 6942, '하듯': 6943, '있었쬬': 6944, '효성': 6945, '산소': 6946, '묘': 6947, '차림': 6948, '물주': 6949, '전자': 6950, '신지도': 6951, '갈래': 6952, '뒤집어지다': 6953, '뭉갰어': 6954, '날짐승': 6955, '딱이다': 6956, '권한': 6957, '드라이브': 6958, '동참': 6959, '탁탁': 6960, '고요한': 6961, '아마로': 6962, '일간': 6963, '관목': 6964, '무더기': 6965, '키로': 6966, '선머슴': 6967, '상속인': 6968, '만장일치': 6969, '간곡히': 6970, '늦가을': 6971, '꿩': 6972, '날름': 6973, '골칫덩': 6974, '죄악': 6975, '으악': 6976, '상념': 6977, '개선': 6978, '전이': 6979, '비스킷': 6980, '사먹다': 6981, '쨍쨍': 6982, '귀로': 6983, '사냥개': 6984, '가로수길': 6985, '스패니얼': 6986, '암컷': 6987, '일거리': 6988, '차례차례': 6989, '자연스럽다': 6990, '술술': 6991, '거니와': 6992, '코찌질': 6993, '부각시키다': 6994, '극복': 6995, '금발머리': 6996, '점심때': 6997, '귓': 6998, '얼얼하다': 6999, '펄': 7000, '잡아가다': 7001, '끼니': 7002, '때우다': 7003, '즐비하다': 7004, '과만': 7005, '연습': 7006, '고국': 7007, '동떨어지다': 7008, '꽂히다': 7009, '긋다': 7010, '포악하다': 7011, '부터라도': 7012, '내보이다': 7013, '하소': 7014, '구렁': 7015, '엎지르': 7016, '상승': 7017, '짙어지다': 7018, '다예': 7019, '건줄': 7020, '멈': 7021, '마분지': 7022, '덧붙이기': 7023, '가격': 7024, '얜': 7025, '약샥': 7026, '탄성': 7027, '훨': 7028, '파고들다': 7029, '어림': 7030, '어치': 7031, '이동수': 7032, '항적': 7033, '꼬장': 7034, '자초': 7035, '볼모': 7036, '창안': 7037, '목말': 7038, '행진': 7039, '괜': 7040, '법석': 7041, '남아돌다': 7042, '석류나무': 7043, '보이시': 7044, '상석': 7045, '아이야': 7046, '얼자': 7047, '동상': 7048, '의회': 7049, '한낱': 7050, '아양': 7051, '치부': 7052, '엘시': 7053, '레이': 7054, '틸리였어': 7055, '가로놓이다': 7056, '기어오르다': 7057, '생계': 7058, '예사': 7059, '구더기': 7060, '특이하다': 7061, '뼘': 7062, '디디': 7063, '기여': 7064, '끼울다': 7065, '어슬렁거리다': 7066, '방긋': 7067, '지휘자': 7068, '팬': 7069, '신나다': 7070, '추어': 7071, '똥똥하다': 7072, '안함': 7073, '도예': 7074, '희희낙락': 7075, '청개구리': 7076, '나이까': 7077, '증언': 7078, '영악': 7079, '미남': 7080, '유심': 7081, '면박': 7082, '널리': 7083, '대길': 7084, '실으': 7085, '모기': 7086, '건설': 7087, '한없다': 7088, '고마움': 7089, '알현': 7090, '집단': 7091, '서식지': 7092, '엊그제': 7093, '연봉': 7094, '비호감': 7095, '갈아': 7096, '헝클어지다': 7097, '국물': 7098, '창피': 7099, '계절': 7100, '벌꿀': 7101, '한없이': 7102, '재판정': 7103, '누그러뜨릴': 7104, '우스꽝스럽다': 7105, '시집': 7106, '헛디디다': 7107, '명예': 7108, '땋았던': 7109, '옷차림': 7110, '변두리': 7111, '들추다': 7112, '수반': 7113, '찌푸리다': 7114, '흩날리다': 7115, '자만하다': 7116, '가증': 7117, '다나': 7118, '소비': 7119, '은덕': 7120, '나룻배': 7121, '할퀴다': 7122, '박음': 7123, '아작이다': 7124, '매질': 7125, '우회': 7126, '흥얼거리다': 7127, '했더랬다': 7128, '넘겨보다': 7129, '대동단결': 7130, '착오': 7131, '활용': 7132, '출타': 7133, '너셕': 7134, '뉘우침': 7135, '어안': 7136, '벙벙하다': 7137, '새색시': 7138, '딸내미': 7139, '야만': 7140, '머스킷': 7141, '이롭다': 7142, '꺼': 7143, '차신': 7144, '동심': 7145, '꼴깍': 7146, '위조': 7147, '독버섯': 7148, '통상': 7149, '극도': 7150, '꾼걸': 7151, '물떼새': 7152, '넉넉하다': 7153, '가주': 7154, '좌우': 7155, '쓸데없이': 7156, '괴팍하다': 7157, '변덕': 7158, '쌩': 7159, '여름날': 7160, '회상': 7161, '꾸밈': 7162, '공지': 7163, '물방아': 7164, '둑': 7165, '성냄': 7166, '사열식': 7167, '어쩌겠': 7168, '의아': 7169, '수감': 7170, '결혼식장': 7171, '사로잡히다': 7172, '저녁때': 7173, '낌새': 7174, '개골개골': 7175, '에서나': 7176, '보냈더랬': 7177, '용한': 7178, '빗나가다': 7179, '삐었군': 7180, '이래': 7181, '들들': 7182, '기해': 7183, '찬성': 7184, '푸른빛': 7185, '나래': 7186, '보다는': 7187, '본때': 7188, '곳곳': 7189, '왜요': 7190, '시간표': 7191, '부시': 7192, '뭐땜시': 7193, '봄철': 7194, '기뻐했더랬': 7195, '아우르다': 7196, '뒷바라지': 7197, '아직도': 7198, '의향': 7199, '연루': 7200, '킁킁거리다': 7201, '무진': 7202, '입었더랬': 7203, '혈육': 7204, '우당탕': 7205, '꺼꾸러지다': 7206, '광물': 7207, '그윽': 7208, '위고': 7209, '논': 7210, '안개': 7211, '말발굽': 7212, '찜질': 7213, '텁수룩': 7214, '전율': 7215, '케': 7216, '명상': 7217, '어수선하다': 7218, '만연하다': 7219, '폭풍': 7220, '마오': 7221, '메모': 7222, '천벌': 7223, '라벨': 7224, '글씨체': 7225, '예고': 7226, '등장': 7227, '렸습': 7228, '어찌어찌': 7229, '복잡하다': 7230, '뿅뿅': 7231, '짓누르다': 7232, '뛰어나가다': 7233, '잠옷': 7234, '까무러치듯': 7235, '거대': 7236, '모서리': 7237, '쑤다': 7238, '항구': 7239, '영양가': 7240, '듬뿍하다': 7241, '한발': 7242, '그나': 7243, '술자리': 7244, '식음': 7245, '전폐': 7246, '쇠테': 7247, '차림새': 7248, '이득': 7249, '실리다': 7250, '수일': 7251, '전시': 7252, '순서': 7253, '뽀뽀': 7254, '도출': 7255, '직빵': 7256, '좌절': 7257, '뻘': 7258, '엄습할': 7259, '쓱쓱': 7260, '뿜': 7261, '미워하다': 7262, '절룩거렸': 7263, '멀거니': 7264, '땡': 7265, '시름시름': 7266, '핼쑥': 7267, '곤충': 7268, '해충': 7269, '깨물다': 7270, '레드와인': 7271, '팔지': 7272, '화난': 7273, '정처': 7274, '뻘뻘': 7275, '등줄기': 7276, '지근': 7277, '불가사리': 7278, '가물다': 7279, '고독감': 7280, '자욱하다': 7281, '고안': 7282, '박음질': 7283, '혼란': 7284, '군침': 7285, '잘잘': 7286, '으로부터': 7287, '치고는': 7288, '카드놀이': 7289, '콩': 7290, '흥부가': 7291, '비결': 7292, '빈둥거리': 7293, '와는': 7294, '귀의': 7295, '얼추': 7296, '갈고리': 7297, '띄엄띄엄': 7298, '뭉개': 7299, '시원찮다': 7300, '시인': 7301, '잠수': 7302, '되새': 7303, '기능': 7304, '마술사': 7305, '살인': 7306, '배우자': 7307, '활기차다': 7308, '영위': 7309, '걷히다': 7310, '낯': 7311, '치료': 7312, '제기랄': 7313, '넓이': 7314, '동맹국': 7315, '이중': 7316, '휑하': 7317, '형성': 7318, '간파': 7319, '참을성': 7320, '아낌없이': 7321, '쇠스랑': 7322, '무장': 7323, '너무나도': 7324, '마여': 7325, '요하': 7326, '거슬리다': 7327, '떠받치다': 7328, '위선': 7329, '띄우다': 7330, '패가': 7331, '대뇌': 7332, '단독': 7333, '어미': 7334, '뻐기다': 7335, '몰아치다': 7336, '뭣땜시': 7337, '가정부': 7338, '식당': 7339, '넋두리': 7340, '부서뜨리다': 7341, '발가락': 7342, '정녕': 7343, '태양도': 7344, '회오리바람': 7345, '아저씬': 7346, '기우': 7347, '뚱하다': 7348, '폭로': 7349, '제갈': 7350, '만신창이': 7351, '제자리': 7352, '앞장서다': 7353, '가능': 7354, '어가': 7355, '무스': 7356, '름': 7357, '오라기': 7358, '잘려지다': 7359, '장가': 7360, '미움': 7361, '없애다': 7362, '노예': 7363, '동풍': 7364, '그루터기': 7365, '훈풍': 7366, '천지': 7367, '다실': 7368, '헤르메스': 7369, '씌우개': 7370, '재임': 7371, '소집': 7372, '베드': 7373, '반란': 7374, '쉬이': 7375, '방문객': 7376, '장통': 7377, '절명': 7378, '하인츠하인츠': 7379, '까닥까닥': 7380, '소자': 7381, '불찰': 7382, '불열': 7383, '찰싹': 7384, '죽여주다': 7385, '생활비': 7386, '절약': 7387, '할멈': 7388, '판단': 7389, '뭉치': 7390, '계략': 7391, '구우러': 7392, '추기': 7393, '스텝': 7394, '거덜': 7395, '메르': 7396, '공증인': 7397, '변호사': 7398, '생기지': 7399, '일련': 7400, '조합': 7401, '바라슈': 7402, '왕림': 7403, '성하': 7404, '래요': 7405, '리다': 7406, '확신범': 7407, '분하다': 7408, '후추': 7409, '뉴': 7410, '산비탈': 7411, '이발': 7412, '아침식사': 7413, '장래': 7414, '빈틈': 7415, '산뜻하다': 7416, '갈증': 7417, '고자': 7418, '임신': 7419, '추구': 7420, '더하기': 7421, '떠다니다': 7422, '천사분': 7423, '은잔': 7424, '진압해': 7425, '속셈': 7426, '연고로': 7427, '한단': 7428, '직시': 7429, '결점': 7430, '강철': 7431, '만큼이라도': 7432, '사례금': 7433, '유명': 7434, '네야': 7435, '편자': 7436, '야간': 7437, '또르르': 7438, '배반': 7439, '분필': 7440, '상사병': 7441, '일종': 7442, '수심': 7443, '샐러드': 7444, '성장하다': 7445, '말론': 7446, '텅빈': 7447, '사촌': 7448, '육장': 7449, '책임': 7450, '부재': 7451, '배우': 7452, '노소': 7453, '기괴하다': 7454, '저지르다': 7455, '만행': 7456, '정신없이': 7457, '기기': 7458, '폭소': 7459, '올림포스': 7460, '착착': 7461, '싸잡다': 7462, '염': 7463, '인과': 7464, '페하': 7465, '격': 7466, '듬직하다': 7467, '설': 7468, '구비': 7469, '자상하다': 7470, '작일': 7471, '변수': 7472, '재료': 7473, '부단하다': 7474, '등신': 7475, '버클': 7476, '밭일': 7477, '흥건': 7478, '자각': 7479, '권위': 7480, '셨답': 7481, '요왕': 7482, '실물': 7483, '동치': 7484, '와르르': 7485, '껍데기': 7486, '궁도': 7487, '말주변': 7488, '비운': 7489, '쇠똥': 7490, '도지': 7491, '먹잇감': 7492, '지엄': 7493, '관자놀이': 7494, '치하': 7495, '하사': 7496, '엑스': 7497, '치었더랬': 7498, '녹슨': 7499, '불쏘시개': 7500, '멍충': 7501, '착': 7502, '오늘날': 7503, '몽땅하다': 7504, '역청': 7505, '넋': 7506, '장대비': 7507, '화형식': 7508, '끗다': 7509, '창자': 7510, '잡아타다': 7511, '약도': 7512, '잠겼더랬': 7513, '긴장감': 7514, '삿대질': 7515, '밥풀': 7516, '주걱': 7517, '억수': 7518, '톱': 7519, '뻣뻣하다': 7520, '각하': 7521, '회': 7522, '발사': 7523, '총알': 7524, '튕겨져': 7525, '가자미': 7526, '뱀장어': 7527, '츠': 7528, '박차다': 7529, '째째하다': 7530, '그르쳐': 7531, '이든지': 7532, '낳을': 7533, '어기적어기적': 7534, '덜걱덜걱': 7535, '기적': 7536, '우러러보': 7537, '외침': 7538, '무릅쓰': 7539, '코끝': 7540, '노획': 7541, '영양': 7542, '움푹하다': 7543, '감미롭다': 7544, '종족': 7545, '앞서다': 7546, '다림질': 7547, '침울하다': 7548, '일반': 7549, '못마땅하다': 7550, '상당': 7551, '인신공격': 7552, '일어나서': 7553, '밀밭': 7554, '화살': 7555, '수군거리다': 7556, '평범하다': 7557, '학년': 7558, '시점': 7559, '빨강': 7560, '예절': 7561, '몰인정하다': 7562, '조달': 7563, '평가': 7564, '녹': 7565, '대궐': 7566, '문구': 7567, '간과': 7568, '놔두다': 7569, '뭉개주': 7570, '자게': 7571, '단장': 7572, '환대': 7573, '보쇼': 7574, '유복하다': 7575, '애란': 7576, '구슬리다': 7577, '보슈': 7578, '수중': 7579, '연다': 7580, '숯댕': 7581, '거려': 7582, '독보': 7583, '아이거': 7584, '의치': 7585, '정교하다': 7586, '피치': 7587, '골수': 7588, '측근': 7589, '다듬다': 7590, '스승': 7591, '찰랑이다': 7592, '이물': 7593, '찻쟁반': 7594, '벌겋다': 7595, '로군': 7596, '오호': 7597, '자아내다': 7598, '무한': 7599, '함박': 7600, '명랑하다': 7601, '넘겨주다': 7602, '여물': 7603, '굴지': 7604, '타일': 7605, '적합하다': 7606, '부아': 7607, '치밀다': 7608, '수다': 7609, '보유': 7610, '토로': 7611, '소로': 7612, '리더': 7613, '글렀군': 7614, '왕깨': 7615, '비치': 7616, '즐거이': 7617, '상실하다': 7618, '다름없다': 7619, '아침햇살': 7620, '겨루다': 7621, '사들이다': 7622, '너무나': 7623, '졸졸': 7624, '엉뚱하다': 7625, '없었쬬': 7626, '성복': 7627, '손보': 7628, '산위': 7629, '풍향계': 7630, '화나다': 7631, '연한': 7632, '왕년': 7633, '만류': 7634, '나뒹굴다': 7635, '작년': 7636, '구렴': 7637, '주요한': 7638, '파멸하다': 7639, '포자': 7640, '군데': 7641, '서양': 7642, '덜컹': 7643, '겸': 7644, '수월하다': 7645, '나랏님': 7646, '분열': 7647, '의거': 7648, '어쩌나': 7649, '라기': 7650, '쵸': 7651, '행적': 7652, '방청': 7653, '객석': 7654, '유리잔': 7655, '빚진': 7656, '장부': 7657, '악행': 7658, '그럴듯하다': 7659, '심각해지다': 7660, '분배': 7661, '일전': 7662, '약조': 7663, '연고': 7664, '유연하다': 7665, '뭐니': 7666, '사두': 7667, '킨데': 7668, '친지': 7669, '자문': 7670, '큼지막하다': 7671, '산도': 7672, '줄곧': 7673, '새집': 7674, '독뱀': 7675, '심취': 7676, '모함': 7677, '재고': 7678, '떠지다': 7679, '벼루': 7680, '사람인': 7681, '죄수': 7682, '일동': 7683, '오보에': 7684, '연주자': 7685, '들락거리': 7686, '분풀이': 7687, '매무새': 7688, '지킴': 7689, '직사각형': 7690, '획': 7691, '급속도': 7692, '대시': 7693, '금발': 7694, '채비': 7695, '약용': 7696, '이해력': 7697, '장하': 7698, '칭호': 7699, '연지': 7700, '일주일': 7701, '청중': 7702, '상념이더': 7703, '안해진': 7704, '깡그리': 7705, '싱크대': 7706, '여생': 7707, '혼내다': 7708, '꺾다': 7709, '타래': 7710, '잇다': 7711, '대패': 7712, '영광': 7713, '엮': 7714, '에멜랄드': 7715, '깍': 7716, '아만': 7717, '흥분하다': 7718, '참으로': 7719, '팍팍': 7720, '럴': 7721, '헛수고였': 7722, '혹은': 7723, '가락지': 7724, '훼방': 7725, '작품': 7726, '뒤꿈치': 7727, '주름살': 7728, '하모니': 7729, '거머쥐': 7730, '무궁무진': 7731, '앞치마': 7732, '셔': 7733, '태양빛': 7734, '악귀': 7735}\n"
     ]
    }
   ],
   "source": [
    "print(tokenizer.word_index)"
   ]
  },
  {
   "cell_type": "code",
   "execution_count": 37,
   "metadata": {},
   "outputs": [
    {
     "name": "stdout",
     "output_type": "stream",
     "text": [
      "단어 집합(vocabulary)의 크기 : 7735\n",
      "등장 빈도가 3번 이하인 희귀 단어의 수: 4404\n",
      "단어 집합에서 희귀 단어의 비율: 56.936005171299286\n",
      "전체 등장 빈도에서 희귀 단어 등장 빈도 비율: 5.870823221952586\n"
     ]
    }
   ],
   "source": [
    "threshold = 4\n",
    "total_cnt = len(tokenizer.word_index) # 단어의 수\n",
    "rare_cnt = 0   # 등장 빈도수가 threshold보다 작은 단어의 개수를 카운트\n",
    "total_freq = 0 # 훈련 데이터의 전체 단어 빈도수 총 합\n",
    "rare_freq = 0  # 등장 빈도수가 threshold보다 작은 단어의 등장 빈도수의 총 합\n",
    "\n",
    "# 단어와 빈도수의 쌍(pair)을 key와 value로 받는다.\n",
    "for key, value in tokenizer.word_counts.items():\n",
    "    total_freq = total_freq + value\n",
    "\n",
    "    # 단어의 등장 빈도수가 threshold보다 작으면\n",
    "    if(value < threshold):\n",
    "        rare_cnt = rare_cnt + 1\n",
    "        rare_freq = rare_freq + value\n",
    "\n",
    "print('단어 집합(vocabulary)의 크기 :',total_cnt)\n",
    "print('등장 빈도가 %s번 이하인 희귀 단어의 수: %s'%(threshold - 1, rare_cnt))\n",
    "print(\"단어 집합에서 희귀 단어의 비율:\", (rare_cnt / total_cnt)*100)\n",
    "print(\"전체 등장 빈도에서 희귀 단어 등장 빈도 비율:\", (rare_freq / total_freq)*100)"
   ]
  },
  {
   "cell_type": "code",
   "execution_count": 38,
   "metadata": {},
   "outputs": [
    {
     "name": "stdout",
     "output_type": "stream",
     "text": [
      "단어 집합의 크기 : 3332\n"
     ]
    }
   ],
   "source": [
    "# 전체 단어 개수 중 빈도수 2이하인 단어는 제거.\n",
    "# 0번 패딩 토큰을 고려하여 + 1\n",
    "vocab_size = total_cnt - rare_cnt + 1\n",
    "print('단어 집합의 크기 :',vocab_size)"
   ]
  },
  {
   "cell_type": "code",
   "execution_count": 39,
   "metadata": {},
   "outputs": [],
   "source": [
    "tokenizer = Tokenizer(vocab_size) \n",
    "tokenizer.fit_on_texts(X_train)\n",
    "X_train = tokenizer.texts_to_sequences(X_train)\n",
    "X_test = tokenizer.texts_to_sequences(X_test)"
   ]
  },
  {
   "cell_type": "code",
   "execution_count": 40,
   "metadata": {},
   "outputs": [
    {
     "name": "stdout",
     "output_type": "stream",
     "text": [
      "[[336, 167, 4, 551, 279], [7, 72, 337], [311, 46, 1066, 1123, 102]]\n"
     ]
    }
   ],
   "source": [
    "print(X_train[:3])"
   ]
  },
  {
   "cell_type": "code",
   "execution_count": 41,
   "metadata": {},
   "outputs": [],
   "source": [
    "# 빈 샘플 제거 \n",
    "drop_train = [index for index, sentence in enumerate(X_train) if len(sentence) < 1]\n",
    "drop_train2 = [index for index, sentence in enumerate(X_test) if len(sentence) < 1]"
   ]
  },
  {
   "cell_type": "code",
   "execution_count": 42,
   "metadata": {},
   "outputs": [
    {
     "name": "stdout",
     "output_type": "stream",
     "text": [
      "11752\n",
      "11707\n",
      "11707\n"
     ]
    },
    {
     "name": "stderr",
     "output_type": "stream",
     "text": [
      "C:\\Users\\Changho_Notebook\\anaconda3\\lib\\site-packages\\numpy\\core\\_asarray.py:83: VisibleDeprecationWarning: Creating an ndarray from ragged nested sequences (which is a list-or-tuple of lists-or-tuples-or ndarrays with different lengths or shapes) is deprecated. If you meant to do this, you must specify 'dtype=object' when creating the ndarray\n",
      "  return array(a, dtype, copy=False, order=order)\n"
     ]
    }
   ],
   "source": [
    "print(len(X_train))\n",
    "y_train = list(y_train)\n",
    "X_train = np.delete(X_train, drop_train, axis=0)\n",
    "y_train = np.delete(y_train, drop_train, axis=0)\n",
    "print(len(X_train))\n",
    "print(len(y_train))"
   ]
  },
  {
   "cell_type": "code",
   "execution_count": 43,
   "metadata": {},
   "outputs": [
    {
     "name": "stdout",
     "output_type": "stream",
     "text": [
      "1300\n",
      "1300\n"
     ]
    }
   ],
   "source": [
    "y_test = list(y_test)\n",
    "X_test = np.delete(X_test, drop_train2, axis=0)\n",
    "y_test = np.delete(y_test, drop_train2, axis=0)\n",
    "print(len(X_test))\n",
    "print(len(y_test))"
   ]
  },
  {
   "cell_type": "code",
   "execution_count": 44,
   "metadata": {},
   "outputs": [
    {
     "name": "stdout",
     "output_type": "stream",
     "text": [
      "리뷰의 최대 길이 : 106\n",
      "리뷰의 평균 길이 : 9.475954557102588\n"
     ]
    },
    {
     "data": {
      "image/png": "[encoded data removed]",
      "text/plain": [
       "<Figure size 432x288 with 1 Axes>"
      ]
     },
     "metadata": {
      "needs_background": "light"
     },
     "output_type": "display_data"
    }
   ],
   "source": [
    "# 패딩\n",
    "print('리뷰의 최대 길이 :',max(len(l) for l in X_train))\n",
    "print('리뷰의 평균 길이 :',sum(map(len, X_train))/len(X_train))\n",
    "plt.hist([len(s) for s in X_train], bins=50)\n",
    "plt.xlabel('length of samples')\n",
    "plt.ylabel('number of samples')\n",
    "plt.show()"
   ]
  },
  {
   "cell_type": "code",
   "execution_count": 45,
   "metadata": {},
   "outputs": [],
   "source": [
    "def below_threshold_len(max_len, nested_list):\n",
    "  cnt = 0\n",
    "  for s in nested_list:\n",
    "    if(len(s) <= max_len):\n",
    "        cnt = cnt + 1\n",
    "  print('전체 샘플 중 길이가 %s 이하인 샘플의 비율: %s'%(max_len, (cnt / len(nested_list))*100))"
   ]
  },
  {
   "cell_type": "code",
   "execution_count": 46,
   "metadata": {},
   "outputs": [
    {
     "name": "stdout",
     "output_type": "stream",
     "text": [
      "전체 샘플 중 길이가 30 이하인 샘플의 비율: 98.65892201247118\n"
     ]
    }
   ],
   "source": [
    "max_len = 30\n",
    "below_threshold_len(max_len, X_train)"
   ]
  },
  {
   "cell_type": "code",
   "execution_count": 47,
   "metadata": {},
   "outputs": [],
   "source": [
    "X_train = pad_sequences(X_train, maxlen = max_len)\n",
    "X_test = pad_sequences(X_test, maxlen = max_len)"
   ]
  },
  {
   "cell_type": "code",
   "execution_count": 48,
   "metadata": {},
   "outputs": [],
   "source": [
    "# y(결과값) 라벨링\n",
    "from tensorflow.keras.utils import to_categorical\n",
    "y_train = to_categorical(y_train)\n",
    "y_test = to_categorical(y_test)"
   ]
  },
  {
   "cell_type": "code",
   "execution_count": 49,
   "metadata": {},
   "outputs": [],
   "source": [
    "# 모델 시작 (LSTM)"
   ]
  },
  {
   "cell_type": "code",
   "execution_count": 50,
   "metadata": {},
   "outputs": [],
   "source": [
    "from tensorflow.keras.layers import Embedding, Dense, LSTM, GRU, Bidirectional\n",
    "from tensorflow.keras.models import Sequential\n",
    "from tensorflow.keras.models import load_model\n",
    "from tensorflow.keras.callbacks import EarlyStopping, ModelCheckpoint"
   ]
  },
  {
   "cell_type": "code",
   "execution_count": 62,
   "metadata": {},
   "outputs": [],
   "source": [
    "model = Sequential()\n",
    "model.add(Embedding(vocab_size, 100))\n",
    "model.add(Bidirectional(LSTM(256)))\n",
    "# model.add(Dense(256, activation = 'relu'))\n",
    "model.add(Dense(8,activation = 'softmax'))"
   ]
  },
  {
   "cell_type": "code",
   "execution_count": 63,
   "metadata": {},
   "outputs": [],
   "source": [
    "es = EarlyStopping(monitor = 'val_loss', mode = 'min', verbose = 1, patience = 4)\n",
    "mc = ModelCheckpoint('best_model.h5', monitor = 'val_acc', mode = 'max', verbose = 1, save_best_only = True)"
   ]
  },
  {
   "cell_type": "code",
   "execution_count": 64,
   "metadata": {
    "scrolled": true
   },
   "outputs": [
    {
     "name": "stdout",
     "output_type": "stream",
     "text": [
      "Epoch 1/15\n",
      "157/157 [==============================] - 9s 22ms/step - loss: 1.5417 - acc: 0.3912 - val_loss: 1.2445 - val_acc: 0.5500\n",
      "\n",
      "Epoch 00001: val_acc improved from -inf to 0.54996, saving model to best_model.h5\n",
      "Epoch 2/15\n",
      "157/157 [==============================] - 2s 13ms/step - loss: 1.1178 - acc: 0.6061 - val_loss: 1.0859 - val_acc: 0.6029\n",
      "\n",
      "Epoch 00002: val_acc improved from 0.54996 to 0.60290, saving model to best_model.h5\n",
      "Epoch 3/15\n",
      "157/157 [==============================] - 2s 13ms/step - loss: 0.8942 - acc: 0.6912 - val_loss: 1.0607 - val_acc: 0.6093\n",
      "\n",
      "Epoch 00003: val_acc improved from 0.60290 to 0.60931, saving model to best_model.h5\n",
      "Epoch 4/15\n",
      "157/157 [==============================] - 2s 13ms/step - loss: 0.7320 - acc: 0.7344 - val_loss: 1.0545 - val_acc: 0.6349\n",
      "\n",
      "Epoch 00004: val_acc improved from 0.60931 to 0.63493, saving model to best_model.h5\n",
      "Epoch 5/15\n",
      "157/157 [==============================] - 2s 14ms/step - loss: 0.5866 - acc: 0.7932 - val_loss: 1.1181 - val_acc: 0.6371\n",
      "\n",
      "Epoch 00005: val_acc improved from 0.63493 to 0.63706, saving model to best_model.h5\n",
      "Epoch 6/15\n",
      "157/157 [==============================] - 2s 14ms/step - loss: 0.4630 - acc: 0.8414 - val_loss: 1.1622 - val_acc: 0.6354\n",
      "\n",
      "Epoch 00006: val_acc did not improve from 0.63706\n",
      "Epoch 7/15\n",
      "157/157 [==============================] - 2s 13ms/step - loss: 0.3805 - acc: 0.8734 - val_loss: 1.2545 - val_acc: 0.6362\n",
      "\n",
      "Epoch 00007: val_acc did not improve from 0.63706\n",
      "Epoch 8/15\n",
      "157/157 [==============================] - 2s 13ms/step - loss: 0.3235 - acc: 0.8898 - val_loss: 1.3933 - val_acc: 0.6401\n",
      "\n",
      "Epoch 00008: val_acc improved from 0.63706 to 0.64005, saving model to best_model.h5\n",
      "Epoch 00008: early stopping\n"
     ]
    }
   ],
   "source": [
    "model.compile(optimizer='adam', loss='categorical_crossentropy', metrics=['acc'])\n",
    "history = model.fit(X_train, y_train, epochs=15, callbacks=[es, mc], batch_size=60, validation_split=0.2)\n",
    "# history = model.fit(X_train, y_train, epochs=15, callbacks=[mc], batch_size=60, validation_split=0.2)"
   ]
  },
  {
   "cell_type": "markdown",
   "metadata": {},
   "source": [
    "- LSTM 256\n",
    "    - adam -> 0.4939\n",
    "    - rmsprop -> 0.4311\n",
    "- LSTM 512 \n",
    "    - adam -> 0.4500 큰차이 없음 \n",
    "- GRU 256 \n",
    "    - adam -> 0.49215\n",
    "    - rmsprop -> 0.4180\n",
    "- GRU 512 \n",
    "    - adam -> 0.49825\n",
    "- BiLSTM\n",
    "    - adam -> 0.49651"
   ]
  },
  {
   "cell_type": "code",
   "execution_count": 65,
   "metadata": {},
   "outputs": [
    {
     "name": "stdout",
     "output_type": "stream",
     "text": [
      "41/41 [==============================] - 1s 6ms/step - loss: 1.5015 - acc: 0.6338\n",
      "\n",
      " 테스트 정확도: 0.6338\n"
     ]
    }
   ],
   "source": [
    "loaded_model = load_model('best_model.h5')\n",
    "print(\"\\n 테스트 정확도: %.4f\" % (loaded_model.evaluate(X_test, y_test)[1]))"
   ]
  },
  {
   "cell_type": "code",
   "execution_count": 53,
   "metadata": {},
   "outputs": [],
   "source": [
    "def sentiment_predict(new_sentence):\n",
    "  new_sentence = okt.morphs(new_sentence, stem=True) # 토큰화\n",
    "  new_sentence = [word for word in new_sentence if not word in stopwords] # 불용어 제거\n",
    "  encoded = tokenizer.texts_to_sequences([new_sentence]) # 정수 인코딩\n",
    "  pad_new = pad_sequences(encoded, maxlen = max_len) # 패딩\n",
    "  score = float(loaded_model.predict(pad_new)) # 예측\n",
    "  if(score > 0.5):\n",
    "    print(\"{:.2f}% 확률로 긍정 리뷰입니다.\\n\".format(score))\n",
    "  else:\n",
    "    print(\"{:.2f}% 확률로 부정 리뷰입니다.\\n\".format(score))"
   ]
  },
  {
   "cell_type": "code",
   "execution_count": 54,
   "metadata": {},
   "outputs": [
    {
     "ename": "TypeError",
     "evalue": "only size-1 arrays can be converted to Python scalars",
     "output_type": "error",
     "traceback": [
      "\u001b[1;31m---------------------------------------------------------------------------\u001b[0m",
      "\u001b[1;31mTypeError\u001b[0m                                 Traceback (most recent call last)",
      "\u001b[1;32m<ipython-input-54-b9f9205567c8>\u001b[0m in \u001b[0;36m<module>\u001b[1;34m\u001b[0m\n\u001b[1;32m----> 1\u001b[1;33m \u001b[0msentiment_predict\u001b[0m\u001b[1;33m(\u001b[0m\u001b[1;34m'안녕 나는 너를 만나러 왔어'\u001b[0m\u001b[1;33m)\u001b[0m\u001b[1;33m\u001b[0m\u001b[1;33m\u001b[0m\u001b[0m\n\u001b[0m",
      "\u001b[1;32m<ipython-input-53-77d7e618322b>\u001b[0m in \u001b[0;36msentiment_predict\u001b[1;34m(new_sentence)\u001b[0m\n\u001b[0;32m      4\u001b[0m   \u001b[0mencoded\u001b[0m \u001b[1;33m=\u001b[0m \u001b[0mtokenizer\u001b[0m\u001b[1;33m.\u001b[0m\u001b[0mtexts_to_sequences\u001b[0m\u001b[1;33m(\u001b[0m\u001b[1;33m[\u001b[0m\u001b[0mnew_sentence\u001b[0m\u001b[1;33m]\u001b[0m\u001b[1;33m)\u001b[0m \u001b[1;31m# 정수 인코딩\u001b[0m\u001b[1;33m\u001b[0m\u001b[1;33m\u001b[0m\u001b[0m\n\u001b[0;32m      5\u001b[0m   \u001b[0mpad_new\u001b[0m \u001b[1;33m=\u001b[0m \u001b[0mpad_sequences\u001b[0m\u001b[1;33m(\u001b[0m\u001b[0mencoded\u001b[0m\u001b[1;33m,\u001b[0m \u001b[0mmaxlen\u001b[0m \u001b[1;33m=\u001b[0m \u001b[0mmax_len\u001b[0m\u001b[1;33m)\u001b[0m \u001b[1;31m# 패딩\u001b[0m\u001b[1;33m\u001b[0m\u001b[1;33m\u001b[0m\u001b[0m\n\u001b[1;32m----> 6\u001b[1;33m   \u001b[0mscore\u001b[0m \u001b[1;33m=\u001b[0m \u001b[0mfloat\u001b[0m\u001b[1;33m(\u001b[0m\u001b[0mloaded_model\u001b[0m\u001b[1;33m.\u001b[0m\u001b[0mpredict\u001b[0m\u001b[1;33m(\u001b[0m\u001b[0mpad_new\u001b[0m\u001b[1;33m)\u001b[0m\u001b[1;33m)\u001b[0m \u001b[1;31m# 예측\u001b[0m\u001b[1;33m\u001b[0m\u001b[1;33m\u001b[0m\u001b[0m\n\u001b[0m\u001b[0;32m      7\u001b[0m   \u001b[1;32mif\u001b[0m\u001b[1;33m(\u001b[0m\u001b[0mscore\u001b[0m \u001b[1;33m>\u001b[0m \u001b[1;36m0.5\u001b[0m\u001b[1;33m)\u001b[0m\u001b[1;33m:\u001b[0m\u001b[1;33m\u001b[0m\u001b[1;33m\u001b[0m\u001b[0m\n\u001b[0;32m      8\u001b[0m     \u001b[0mprint\u001b[0m\u001b[1;33m(\u001b[0m\u001b[1;34m\"{:.2f}% 확률로 긍정 리뷰입니다.\\n\"\u001b[0m\u001b[1;33m.\u001b[0m\u001b[0mformat\u001b[0m\u001b[1;33m(\u001b[0m\u001b[0mscore\u001b[0m\u001b[1;33m)\u001b[0m\u001b[1;33m)\u001b[0m\u001b[1;33m\u001b[0m\u001b[1;33m\u001b[0m\u001b[0m\n",
      "\u001b[1;31mTypeError\u001b[0m: only size-1 arrays can be converted to Python scalars"
     ]
    }
   ],
   "source": [
    "sentiment_predict('안녕 나는 너를 만나러 왔어')"
   ]
  },
  {
   "cell_type": "code",
   "execution_count": null,
   "metadata": {},
   "outputs": [],
   "source": [
    "print(y_train)\n",
    "print(type(y_train))\n",
    "print(y_train[0])\n",
    "print(type(y_train[0]))"
   ]
  },
  {
   "cell_type": "code",
   "execution_count": null,
   "metadata": {},
   "outputs": [],
   "source": [
    "np.unique(y_train)"
   ]
  },
  {
   "cell_type": "code",
   "execution_count": null,
   "metadata": {},
   "outputs": [],
   "source": [
    "copy_dt = y_train.copy()"
   ]
  },
  {
   "cell_type": "code",
   "execution_count": null,
   "metadata": {},
   "outputs": [],
   "source": [
    "y_train = copy_dt\n",
    "y_train"
   ]
  },
  {
   "cell_type": "code",
   "execution_count": 475,
   "metadata": {},
   "outputs": [],
   "source": []
  },
  {
   "cell_type": "code",
   "execution_count": null,
   "metadata": {},
   "outputs": [],
   "source": []
  }
 ],
 "metadata": {
  "kernelspec": {
   "display_name": "Python 3",
   "language": "python",
   "name": "python3"
  },
  "language_info": {
   "codemirror_mode": {
    "name": "ipython",
    "version": 3
   },
   "file_extension": ".py",
   "mimetype": "text/x-python",
   "name": "python",
   "nbconvert_exporter": "python",
   "pygments_lexer": "ipython3",
   "version": "3.8.5"
  }
 },
 "nbformat": 4,
 "nbformat_minor": 4
}

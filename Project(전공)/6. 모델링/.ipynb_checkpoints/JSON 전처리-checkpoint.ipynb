{
 "cells": [
  {
   "cell_type": "code",
   "execution_count": 1,
   "metadata": {},
   "outputs": [
    {
     "data": {
      "text/plain": [
       "'C:\\\\Users\\\\Changho_Notebook\\\\anaconda3\\\\python.exe'"
      ]
     },
     "execution_count": 1,
     "metadata": {},
     "output_type": "execute_result"
    }
   ],
   "source": [
    "import sys \n",
    "sys.executable"
   ]
  },
  {
   "cell_type": "code",
   "execution_count": 2,
   "metadata": {},
   "outputs": [],
   "source": [
    "import pandas as pd \n",
    "import numpy as np \n",
    "%matplotlib inline\n",
    "import matplotlib.pyplot as plt\n",
    "import re \n",
    "import urllib.request\n",
    "from konlpy.tag import Okt\n",
    "from tensorflow.keras.preprocessing.text import Tokenizer\n",
    "from tensorflow.keras.preprocessing.sequence import pad_sequences\n",
    "\n",
    "from sklearn.model_selection import train_test_split\n",
    "from sklearn.preprocessing import LabelEncoder\n"
   ]
  },
  {
   "cell_type": "code",
   "execution_count": 217,
   "metadata": {},
   "outputs": [],
   "source": [
    "data = pd.read_csv('./data/test_data0413.csv', encoding = 'euc-kr')"
   ]
  },
  {
   "cell_type": "code",
   "execution_count": 218,
   "metadata": {},
   "outputs": [
    {
     "data": {
      "text/html": [
       "<div>\n",
       "<style scoped>\n",
       "    .dataframe tbody tr th:only-of-type {\n",
       "        vertical-align: middle;\n",
       "    }\n",
       "\n",
       "    .dataframe tbody tr th {\n",
       "        vertical-align: top;\n",
       "    }\n",
       "\n",
       "    .dataframe thead th {\n",
       "        text-align: right;\n",
       "    }\n",
       "</style>\n",
       "<table border=\"1\" class=\"dataframe\">\n",
       "  <thead>\n",
       "    <tr style=\"text-align: right;\">\n",
       "      <th></th>\n",
       "      <th>Text</th>\n",
       "      <th>Feeling</th>\n",
       "      <th>Talking</th>\n",
       "      <th>book_id</th>\n",
       "      <th>sentence_id</th>\n",
       "    </tr>\n",
       "  </thead>\n",
       "  <tbody>\n",
       "    <tr>\n",
       "      <th>0</th>\n",
       "      <td>‘인도’가 적에게 포위를 당했는데, 적들이 은화 6백 개를 내놓을 때까지 물러나지 ...</td>\n",
       "      <td>2.0</td>\n",
       "      <td>0</td>\n",
       "      <td>5001</td>\n",
       "      <td>1.0</td>\n",
       "    </tr>\n",
       "    <tr>\n",
       "      <th>1</th>\n",
       "      <td>그래서 주민들이 북을 치며 선포하길,</td>\n",
       "      <td>2.0</td>\n",
       "      <td>0</td>\n",
       "      <td>5001</td>\n",
       "      <td>2.0</td>\n",
       "    </tr>\n",
       "    <tr>\n",
       "      <th>2</th>\n",
       "      <td>*누구든 그 돈을 마련하는 사람을 시장으로 삼겠다*</td>\n",
       "      <td>2.0</td>\n",
       "      <td>1</td>\n",
       "      <td>5001</td>\n",
       "      <td>3.0</td>\n",
       "    </tr>\n",
       "    <tr>\n",
       "      <th>3</th>\n",
       "      <td>라고 했답니다</td>\n",
       "      <td>0.0</td>\n",
       "      <td>0</td>\n",
       "      <td>5001</td>\n",
       "      <td>4.0</td>\n",
       "    </tr>\n",
       "    <tr>\n",
       "      <th>4</th>\n",
       "      <td>때마침 가난한 어부가 자신의 아들과 호수에서 물고기를 잡아 생활하다, 그 적들이 들...</td>\n",
       "      <td>5.0</td>\n",
       "      <td>0</td>\n",
       "      <td>5001</td>\n",
       "      <td>5.0</td>\n",
       "    </tr>\n",
       "    <tr>\n",
       "      <th>...</th>\n",
       "      <td>...</td>\n",
       "      <td>...</td>\n",
       "      <td>...</td>\n",
       "      <td>...</td>\n",
       "      <td>...</td>\n",
       "    </tr>\n",
       "    <tr>\n",
       "      <th>13053</th>\n",
       "      <td>그런데 그 호랑이는 바로 옛날에 나무꾼이 도와주었던 호랑이였습니다</td>\n",
       "      <td>4.0</td>\n",
       "      <td>0</td>\n",
       "      <td>7009</td>\n",
       "      <td>30.0</td>\n",
       "    </tr>\n",
       "    <tr>\n",
       "      <th>13054</th>\n",
       "      <td>*저는 나이가 들어 어차피 죽을 목숨이니 저를 임금에게 제물로 바치십시오*</td>\n",
       "      <td>4.0</td>\n",
       "      <td>1</td>\n",
       "      <td>7009</td>\n",
       "      <td>31.0</td>\n",
       "    </tr>\n",
       "    <tr>\n",
       "      <th>13055</th>\n",
       "      <td>그러곤 호랑이는 숨을 거두었습니다</td>\n",
       "      <td>4.0</td>\n",
       "      <td>0</td>\n",
       "      <td>7009</td>\n",
       "      <td>32.0</td>\n",
       "    </tr>\n",
       "    <tr>\n",
       "      <th>13056</th>\n",
       "      <td>나무꾼은 숨을 거둔 호랑이를 차마 제물로 바치지 못하고 양지바른 땅에 묻어주었습니다</td>\n",
       "      <td>4.0</td>\n",
       "      <td>0</td>\n",
       "      <td>7009</td>\n",
       "      <td>33.0</td>\n",
       "    </tr>\n",
       "    <tr>\n",
       "      <th>13057</th>\n",
       "      <td>목에 걸린 뼈를 나무꾼이 빼준 이후로 죽을 때까지 나무꾼에게 은혜를 갚는 호랑이의 ...</td>\n",
       "      <td>4.0</td>\n",
       "      <td>0</td>\n",
       "      <td>7009</td>\n",
       "      <td>34.0</td>\n",
       "    </tr>\n",
       "  </tbody>\n",
       "</table>\n",
       "<p>13058 rows × 5 columns</p>\n",
       "</div>"
      ],
      "text/plain": [
       "                                                    Text  Feeling  Talking  \\\n",
       "0      ‘인도’가 적에게 포위를 당했는데, 적들이 은화 6백 개를 내놓을 때까지 물러나지 ...      2.0        0   \n",
       "1                                  그래서 주민들이 북을 치며 선포하길,       2.0        0   \n",
       "2                           *누구든 그 돈을 마련하는 사람을 시장으로 삼겠다*      2.0        1   \n",
       "3                                                라고 했답니다      0.0        0   \n",
       "4      때마침 가난한 어부가 자신의 아들과 호수에서 물고기를 잡아 생활하다, 그 적들이 들...      5.0        0   \n",
       "...                                                  ...      ...      ...   \n",
       "13053               그런데 그 호랑이는 바로 옛날에 나무꾼이 도와주었던 호랑이였습니다      4.0        0   \n",
       "13054          *저는 나이가 들어 어차피 죽을 목숨이니 저를 임금에게 제물로 바치십시오*      4.0        1   \n",
       "13055                                 그러곤 호랑이는 숨을 거두었습니다      4.0        0   \n",
       "13056     나무꾼은 숨을 거둔 호랑이를 차마 제물로 바치지 못하고 양지바른 땅에 묻어주었습니다      4.0        0   \n",
       "13057  목에 걸린 뼈를 나무꾼이 빼준 이후로 죽을 때까지 나무꾼에게 은혜를 갚는 호랑이의 ...      4.0        0   \n",
       "\n",
       "       book_id  sentence_id  \n",
       "0         5001          1.0  \n",
       "1         5001          2.0  \n",
       "2         5001          3.0  \n",
       "3         5001          4.0  \n",
       "4         5001          5.0  \n",
       "...        ...          ...  \n",
       "13053     7009         30.0  \n",
       "13054     7009         31.0  \n",
       "13055     7009         32.0  \n",
       "13056     7009         33.0  \n",
       "13057     7009         34.0  \n",
       "\n",
       "[13058 rows x 5 columns]"
      ]
     },
     "execution_count": 218,
     "metadata": {},
     "output_type": "execute_result"
    }
   ],
   "source": [
    "data"
   ]
  },
  {
   "cell_type": "code",
   "execution_count": 229,
   "metadata": {},
   "outputs": [],
   "source": [
    "data_df = data['Text'][:9000]"
   ]
  },
  {
   "cell_type": "code",
   "execution_count": 230,
   "metadata": {},
   "outputs": [
    {
     "data": {
      "text/plain": [
       "0       ‘인도’가 적에게 포위를 당했는데, 적들이 은화 6백 개를 내놓을 때까지 물러나지 ...\n",
       "1                                   그래서 주민들이 북을 치며 선포하길, \n",
       "2                            *누구든 그 돈을 마련하는 사람을 시장으로 삼겠다*\n",
       "3                                                 라고 했답니다\n",
       "4       때마침 가난한 어부가 자신의 아들과 호수에서 물고기를 잡아 생활하다, 그 적들이 들...\n",
       "                              ...                        \n",
       "8995     이제 제 마음을 휘저은 광경이 그 애란 걸 당신도 아셨으니, 말씀해주세요, 당신은...\n",
       "8996                백작은 숲에서 어느 노파를 만나 그 책을 건네받게 되었다고 말했어요\n",
       "8997                     *그 노파는 무척 기이한 여자로, 아무래도 마녀 같았습니다\n",
       "8998         하지만 공주님에 관한 소식은 어디서도 전해 듣거나 눈으로 확인한 적은 없습니다*\n",
       "8999                            왕과 왕비는 그 노파를 찾아나서기로 결심했어요\n",
       "Name: Text, Length: 9000, dtype: object"
      ]
     },
     "execution_count": 230,
     "metadata": {},
     "output_type": "execute_result"
    }
   ],
   "source": [
    "data_df"
   ]
  },
  {
   "cell_type": "code",
   "execution_count": 124,
   "metadata": {
    "scrolled": true
   },
   "outputs": [
    {
     "data": {
      "text/plain": [
       "{'query': ' *누구든 시장님이라고 불러야 한다',\n",
       " 'type': '감정분석',\n",
       " 'Result': [[0.6897064447402954, '분노']]}"
      ]
     },
     "execution_count": 124,
     "metadata": {},
     "output_type": "execute_result"
    }
   ],
   "source": [
    "import requests, json\n",
    " \n",
    "# URL 지정\n",
    "url = 'http://svc.saltlux.ai:31781'\n",
    " \n",
    "# Header 정보 지정\n",
    "headers = {'Content-Type': 'application/json; charset=utf-8'}\n",
    " \n",
    "# Request Parameter 정보 지정\n",
    "params = {\n",
    "    \"key\": \"389dddd9-70ee-46a9-9140-9713b9932b02\",\n",
    "    \"serviceId\": \"11987300804\",\n",
    "    \"argument\": {\n",
    "        \"type\": \"1\",\n",
    "        \"query\": \" *누구든 시장님이라고 불러야 한다\"\n",
    "    }\n",
    "}\n",
    " \n",
    "response = requests.post(url, headers = headers, data = json.dumps(params))\n",
    " \n",
    "type(response.content) # bytes 이여서 decode 작업을 해야함\n",
    "    \n",
    "y = response.content\n",
    "z = y.decode('utf-8')\n",
    "dict = json.loads(z)\n",
    "dict"
   ]
  },
  {
   "cell_type": "code",
   "execution_count": 125,
   "metadata": {},
   "outputs": [
    {
     "data": {
      "text/html": [
       "<div>\n",
       "<style scoped>\n",
       "    .dataframe tbody tr th:only-of-type {\n",
       "        vertical-align: middle;\n",
       "    }\n",
       "\n",
       "    .dataframe tbody tr th {\n",
       "        vertical-align: top;\n",
       "    }\n",
       "\n",
       "    .dataframe thead th {\n",
       "        text-align: right;\n",
       "    }\n",
       "</style>\n",
       "<table border=\"1\" class=\"dataframe\">\n",
       "  <thead>\n",
       "    <tr style=\"text-align: right;\">\n",
       "      <th></th>\n",
       "      <th>query</th>\n",
       "      <th>type</th>\n",
       "      <th>Result</th>\n",
       "    </tr>\n",
       "  </thead>\n",
       "  <tbody>\n",
       "    <tr>\n",
       "      <th>0</th>\n",
       "      <td>*누구든 시장님이라고 불러야 한다</td>\n",
       "      <td>감정분석</td>\n",
       "      <td>[0.6897064447402954, 분노]</td>\n",
       "    </tr>\n",
       "  </tbody>\n",
       "</table>\n",
       "</div>"
      ],
      "text/plain": [
       "                 query  type                    Result\n",
       "0   *누구든 시장님이라고 불러야 한다  감정분석  [0.6897064447402954, 분노]"
      ]
     },
     "execution_count": 125,
     "metadata": {},
     "output_type": "execute_result"
    }
   ],
   "source": [
    "test_df = pd.DataFrame(dict)\n",
    "test_df"
   ]
  },
  {
   "cell_type": "code",
   "execution_count": 126,
   "metadata": {},
   "outputs": [],
   "source": [
    "result_df = test_df['Result']\n",
    "result_df.str.split(',')\n",
    "a = result_df[0]\n",
    "a_df = a[0]\n",
    "b_df = a[1]"
   ]
  },
  {
   "cell_type": "code",
   "execution_count": 127,
   "metadata": {},
   "outputs": [
    {
     "data": {
      "text/html": [
       "<div>\n",
       "<style scoped>\n",
       "    .dataframe tbody tr th:only-of-type {\n",
       "        vertical-align: middle;\n",
       "    }\n",
       "\n",
       "    .dataframe tbody tr th {\n",
       "        vertical-align: top;\n",
       "    }\n",
       "\n",
       "    .dataframe thead th {\n",
       "        text-align: right;\n",
       "    }\n",
       "</style>\n",
       "<table border=\"1\" class=\"dataframe\">\n",
       "  <thead>\n",
       "    <tr style=\"text-align: right;\">\n",
       "      <th></th>\n",
       "      <th>query</th>\n",
       "      <th>type</th>\n",
       "      <th>Result</th>\n",
       "    </tr>\n",
       "  </thead>\n",
       "  <tbody>\n",
       "    <tr>\n",
       "      <th>0</th>\n",
       "      <td>*누구든 시장님이라고 불러야 한다</td>\n",
       "      <td>감정분석</td>\n",
       "      <td>0.689706</td>\n",
       "    </tr>\n",
       "  </tbody>\n",
       "</table>\n",
       "</div>"
      ],
      "text/plain": [
       "                 query  type    Result\n",
       "0   *누구든 시장님이라고 불러야 한다  감정분석  0.689706"
      ]
     },
     "execution_count": 127,
     "metadata": {},
     "output_type": "execute_result"
    }
   ],
   "source": [
    "test_df['Result'] = a_df\n",
    "test_df"
   ]
  },
  {
   "cell_type": "code",
   "execution_count": 128,
   "metadata": {},
   "outputs": [
    {
     "data": {
      "text/html": [
       "<div>\n",
       "<style scoped>\n",
       "    .dataframe tbody tr th:only-of-type {\n",
       "        vertical-align: middle;\n",
       "    }\n",
       "\n",
       "    .dataframe tbody tr th {\n",
       "        vertical-align: top;\n",
       "    }\n",
       "\n",
       "    .dataframe thead th {\n",
       "        text-align: right;\n",
       "    }\n",
       "</style>\n",
       "<table border=\"1\" class=\"dataframe\">\n",
       "  <thead>\n",
       "    <tr style=\"text-align: right;\">\n",
       "      <th></th>\n",
       "      <th>query</th>\n",
       "      <th>type</th>\n",
       "      <th>Result</th>\n",
       "      <th>Feel</th>\n",
       "    </tr>\n",
       "  </thead>\n",
       "  <tbody>\n",
       "    <tr>\n",
       "      <th>0</th>\n",
       "      <td>*누구든 시장님이라고 불러야 한다</td>\n",
       "      <td>감정분석</td>\n",
       "      <td>0.689706</td>\n",
       "      <td>분노</td>\n",
       "    </tr>\n",
       "  </tbody>\n",
       "</table>\n",
       "</div>"
      ],
      "text/plain": [
       "                 query  type    Result Feel\n",
       "0   *누구든 시장님이라고 불러야 한다  감정분석  0.689706   분노"
      ]
     },
     "execution_count": 128,
     "metadata": {},
     "output_type": "execute_result"
    }
   ],
   "source": [
    "test_df['Feel'] = b_df\n",
    "test_df"
   ]
  },
  {
   "cell_type": "code",
   "execution_count": null,
   "metadata": {
    "scrolled": true
   },
   "outputs": [],
   "source": [
    "url = 'http://svc.saltlux.ai:31781'\n",
    "headers = {'Content-Type': 'application/json; charset=utf-8'}\n",
    "\n",
    "test_df = []\n",
    "test_df_full = []\n",
    "\n",
    "for idx in data_df:\n",
    "    params = {\n",
    "    \"key\": \"389dddd9-70ee-46a9-9140-9713b9932b02\",\n",
    "    \"serviceId\": \"11987300804\",\n",
    "    \"argument\": {\n",
    "        \"type\": \"1\",\n",
    "        \"query\": idx\n",
    "        }\n",
    "    }\n",
    "    response = requests.post(url, headers = headers, data = json.dumps(params))\n",
    "    y = response.content\n",
    "    z = y.decode('utf-8')\n",
    "    dict = json.loads(z)\n",
    "    # print(dict)\n",
    "    test_df.append(dict['Result'][0][1])\n",
    "    test_df_full.append(dict)\n",
    "print(test_df)"
   ]
  },
  {
   "cell_type": "code",
   "execution_count": null,
   "metadata": {},
   "outputs": [],
   "source": [
    "print(test_df_full)"
   ]
  },
  {
   "cell_type": "code",
   "execution_count": null,
   "metadata": {},
   "outputs": [],
   "source": [
    "test_df = pd.DataFrame (test_df)\n",
    "test_df"
   ]
  },
  {
   "cell_type": "code",
   "execution_count": null,
   "metadata": {},
   "outputs": [],
   "source": []
  }
 ],
 "metadata": {
  "kernelspec": {
   "display_name": "Python 3",
   "language": "python",
   "name": "python3"
  },
  "language_info": {
   "codemirror_mode": {
    "name": "ipython",
    "version": 3
   },
   "file_extension": ".py",
   "mimetype": "text/x-python",
   "name": "python",
   "nbconvert_exporter": "python",
   "pygments_lexer": "ipython3",
   "version": "3.8.5"
  }
 },
 "nbformat": 4,
 "nbformat_minor": 4
}

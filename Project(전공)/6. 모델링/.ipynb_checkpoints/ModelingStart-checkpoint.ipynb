{
 "cells": [
  {
   "cell_type": "code",
   "execution_count": 2,
   "metadata": {},
   "outputs": [
    {
     "data": {
      "text/plain": [
       "'C:\\\\Users\\\\Changho_Notebook\\\\anaconda3\\\\python.exe'"
      ]
     },
     "execution_count": 2,
     "metadata": {},
     "output_type": "execute_result"
    }
   ],
   "source": [
    "import sys \n",
    "sys.executable"
   ]
  },
  {
   "cell_type": "code",
   "execution_count": 97,
   "metadata": {},
   "outputs": [],
   "source": [
    "import pandas as pd \n",
    "import numpy as np \n",
    "%matplotlib inline\n",
    "import matplotlib.pyplot as plt\n",
    "import re \n",
    "import urllib.request\n",
    "from konlpy.tag import Okt\n",
    "from tensorflow.keras.preprocessing.text import Tokenizer\n",
    "from tensorflow.keras.preprocessing.sequence import pad_sequences\n",
    "\n",
    "from sklearn.model_selection import train_test_split\n",
    "from sklearn.preprocessing import LabelEncoder\n"
   ]
  },
  {
   "cell_type": "code",
   "execution_count": 187,
   "metadata": {},
   "outputs": [],
   "source": [
    "data = pd.read_csv('./data/test_data0413.csv', encoding = 'euc-kr')"
   ]
  },
  {
   "cell_type": "code",
   "execution_count": 188,
   "metadata": {},
   "outputs": [
    {
     "data": {
      "text/html": [
       "<div>\n",
       "<style scoped>\n",
       "    .dataframe tbody tr th:only-of-type {\n",
       "        vertical-align: middle;\n",
       "    }\n",
       "\n",
       "    .dataframe tbody tr th {\n",
       "        vertical-align: top;\n",
       "    }\n",
       "\n",
       "    .dataframe thead th {\n",
       "        text-align: right;\n",
       "    }\n",
       "</style>\n",
       "<table border=\"1\" class=\"dataframe\">\n",
       "  <thead>\n",
       "    <tr style=\"text-align: right;\">\n",
       "      <th></th>\n",
       "      <th>Text</th>\n",
       "      <th>Feeling</th>\n",
       "      <th>Talking</th>\n",
       "      <th>book_id</th>\n",
       "      <th>sentence_id</th>\n",
       "    </tr>\n",
       "  </thead>\n",
       "  <tbody>\n",
       "    <tr>\n",
       "      <th>0</th>\n",
       "      <td>‘인도’가 적에게 포위를 당했는데, 적들이 은화 6백 개를 내놓을 때까지 물러나지 ...</td>\n",
       "      <td>2.0</td>\n",
       "      <td>0</td>\n",
       "      <td>5001</td>\n",
       "      <td>1.0</td>\n",
       "    </tr>\n",
       "    <tr>\n",
       "      <th>1</th>\n",
       "      <td>그래서 주민들이 북을 치며 선포하길,</td>\n",
       "      <td>2.0</td>\n",
       "      <td>0</td>\n",
       "      <td>5001</td>\n",
       "      <td>2.0</td>\n",
       "    </tr>\n",
       "    <tr>\n",
       "      <th>2</th>\n",
       "      <td>*누구든 그 돈을 마련하는 사람을 시장으로 삼겠다*</td>\n",
       "      <td>2.0</td>\n",
       "      <td>1</td>\n",
       "      <td>5001</td>\n",
       "      <td>3.0</td>\n",
       "    </tr>\n",
       "    <tr>\n",
       "      <th>3</th>\n",
       "      <td>라고 했답니다</td>\n",
       "      <td>0.0</td>\n",
       "      <td>0</td>\n",
       "      <td>5001</td>\n",
       "      <td>4.0</td>\n",
       "    </tr>\n",
       "    <tr>\n",
       "      <th>4</th>\n",
       "      <td>때마침 가난한 어부가 자신의 아들과 호수에서 물고기를 잡아 생활하다, 그 적들이 들...</td>\n",
       "      <td>5.0</td>\n",
       "      <td>0</td>\n",
       "      <td>5001</td>\n",
       "      <td>5.0</td>\n",
       "    </tr>\n",
       "    <tr>\n",
       "      <th>...</th>\n",
       "      <td>...</td>\n",
       "      <td>...</td>\n",
       "      <td>...</td>\n",
       "      <td>...</td>\n",
       "      <td>...</td>\n",
       "    </tr>\n",
       "    <tr>\n",
       "      <th>13053</th>\n",
       "      <td>그런데 그 호랑이는 바로 옛날에 나무꾼이 도와주었던 호랑이였습니다</td>\n",
       "      <td>4.0</td>\n",
       "      <td>0</td>\n",
       "      <td>7009</td>\n",
       "      <td>30.0</td>\n",
       "    </tr>\n",
       "    <tr>\n",
       "      <th>13054</th>\n",
       "      <td>*저는 나이가 들어 어차피 죽을 목숨이니 저를 임금에게 제물로 바치십시오*</td>\n",
       "      <td>4.0</td>\n",
       "      <td>1</td>\n",
       "      <td>7009</td>\n",
       "      <td>31.0</td>\n",
       "    </tr>\n",
       "    <tr>\n",
       "      <th>13055</th>\n",
       "      <td>그러곤 호랑이는 숨을 거두었습니다</td>\n",
       "      <td>4.0</td>\n",
       "      <td>0</td>\n",
       "      <td>7009</td>\n",
       "      <td>32.0</td>\n",
       "    </tr>\n",
       "    <tr>\n",
       "      <th>13056</th>\n",
       "      <td>나무꾼은 숨을 거둔 호랑이를 차마 제물로 바치지 못하고 양지바른 땅에 묻어주었습니다</td>\n",
       "      <td>4.0</td>\n",
       "      <td>0</td>\n",
       "      <td>7009</td>\n",
       "      <td>33.0</td>\n",
       "    </tr>\n",
       "    <tr>\n",
       "      <th>13057</th>\n",
       "      <td>목에 걸린 뼈를 나무꾼이 빼준 이후로 죽을 때까지 나무꾼에게 은혜를 갚는 호랑이의 ...</td>\n",
       "      <td>4.0</td>\n",
       "      <td>0</td>\n",
       "      <td>7009</td>\n",
       "      <td>34.0</td>\n",
       "    </tr>\n",
       "  </tbody>\n",
       "</table>\n",
       "<p>13058 rows × 5 columns</p>\n",
       "</div>"
      ],
      "text/plain": [
       "                                                    Text  Feeling  Talking  \\\n",
       "0      ‘인도’가 적에게 포위를 당했는데, 적들이 은화 6백 개를 내놓을 때까지 물러나지 ...      2.0        0   \n",
       "1                                  그래서 주민들이 북을 치며 선포하길,       2.0        0   \n",
       "2                           *누구든 그 돈을 마련하는 사람을 시장으로 삼겠다*      2.0        1   \n",
       "3                                                라고 했답니다      0.0        0   \n",
       "4      때마침 가난한 어부가 자신의 아들과 호수에서 물고기를 잡아 생활하다, 그 적들이 들...      5.0        0   \n",
       "...                                                  ...      ...      ...   \n",
       "13053               그런데 그 호랑이는 바로 옛날에 나무꾼이 도와주었던 호랑이였습니다      4.0        0   \n",
       "13054          *저는 나이가 들어 어차피 죽을 목숨이니 저를 임금에게 제물로 바치십시오*      4.0        1   \n",
       "13055                                 그러곤 호랑이는 숨을 거두었습니다      4.0        0   \n",
       "13056     나무꾼은 숨을 거둔 호랑이를 차마 제물로 바치지 못하고 양지바른 땅에 묻어주었습니다      4.0        0   \n",
       "13057  목에 걸린 뼈를 나무꾼이 빼준 이후로 죽을 때까지 나무꾼에게 은혜를 갚는 호랑이의 ...      4.0        0   \n",
       "\n",
       "       book_id  sentence_id  \n",
       "0         5001          1.0  \n",
       "1         5001          2.0  \n",
       "2         5001          3.0  \n",
       "3         5001          4.0  \n",
       "4         5001          5.0  \n",
       "...        ...          ...  \n",
       "13053     7009         30.0  \n",
       "13054     7009         31.0  \n",
       "13055     7009         32.0  \n",
       "13056     7009         33.0  \n",
       "13057     7009         34.0  \n",
       "\n",
       "[13058 rows x 5 columns]"
      ]
     },
     "execution_count": 188,
     "metadata": {},
     "output_type": "execute_result"
    }
   ],
   "source": [
    "data"
   ]
  },
  {
   "cell_type": "code",
   "execution_count": 189,
   "metadata": {},
   "outputs": [
    {
     "name": "stdout",
     "output_type": "stream",
     "text": [
      "13058\n"
     ]
    }
   ],
   "source": [
    "print(len(data))"
   ]
  },
  {
   "cell_type": "code",
   "execution_count": 190,
   "metadata": {},
   "outputs": [],
   "source": [
    "data = data.iloc[:,:2]"
   ]
  },
  {
   "cell_type": "code",
   "execution_count": 191,
   "metadata": {},
   "outputs": [
    {
     "data": {
      "text/html": [
       "<div>\n",
       "<style scoped>\n",
       "    .dataframe tbody tr th:only-of-type {\n",
       "        vertical-align: middle;\n",
       "    }\n",
       "\n",
       "    .dataframe tbody tr th {\n",
       "        vertical-align: top;\n",
       "    }\n",
       "\n",
       "    .dataframe thead th {\n",
       "        text-align: right;\n",
       "    }\n",
       "</style>\n",
       "<table border=\"1\" class=\"dataframe\">\n",
       "  <thead>\n",
       "    <tr style=\"text-align: right;\">\n",
       "      <th></th>\n",
       "      <th>Text</th>\n",
       "      <th>Feeling</th>\n",
       "    </tr>\n",
       "  </thead>\n",
       "  <tbody>\n",
       "    <tr>\n",
       "      <th>0</th>\n",
       "      <td>‘인도’가 적에게 포위를 당했는데, 적들이 은화 6백 개를 내놓을 때까지 물러나지 ...</td>\n",
       "      <td>2.0</td>\n",
       "    </tr>\n",
       "    <tr>\n",
       "      <th>1</th>\n",
       "      <td>그래서 주민들이 북을 치며 선포하길,</td>\n",
       "      <td>2.0</td>\n",
       "    </tr>\n",
       "    <tr>\n",
       "      <th>2</th>\n",
       "      <td>*누구든 그 돈을 마련하는 사람을 시장으로 삼겠다*</td>\n",
       "      <td>2.0</td>\n",
       "    </tr>\n",
       "    <tr>\n",
       "      <th>3</th>\n",
       "      <td>라고 했답니다</td>\n",
       "      <td>0.0</td>\n",
       "    </tr>\n",
       "    <tr>\n",
       "      <th>4</th>\n",
       "      <td>때마침 가난한 어부가 자신의 아들과 호수에서 물고기를 잡아 생활하다, 그 적들이 들...</td>\n",
       "      <td>5.0</td>\n",
       "    </tr>\n",
       "    <tr>\n",
       "      <th>...</th>\n",
       "      <td>...</td>\n",
       "      <td>...</td>\n",
       "    </tr>\n",
       "    <tr>\n",
       "      <th>13053</th>\n",
       "      <td>그런데 그 호랑이는 바로 옛날에 나무꾼이 도와주었던 호랑이였습니다</td>\n",
       "      <td>4.0</td>\n",
       "    </tr>\n",
       "    <tr>\n",
       "      <th>13054</th>\n",
       "      <td>*저는 나이가 들어 어차피 죽을 목숨이니 저를 임금에게 제물로 바치십시오*</td>\n",
       "      <td>4.0</td>\n",
       "    </tr>\n",
       "    <tr>\n",
       "      <th>13055</th>\n",
       "      <td>그러곤 호랑이는 숨을 거두었습니다</td>\n",
       "      <td>4.0</td>\n",
       "    </tr>\n",
       "    <tr>\n",
       "      <th>13056</th>\n",
       "      <td>나무꾼은 숨을 거둔 호랑이를 차마 제물로 바치지 못하고 양지바른 땅에 묻어주었습니다</td>\n",
       "      <td>4.0</td>\n",
       "    </tr>\n",
       "    <tr>\n",
       "      <th>13057</th>\n",
       "      <td>목에 걸린 뼈를 나무꾼이 빼준 이후로 죽을 때까지 나무꾼에게 은혜를 갚는 호랑이의 ...</td>\n",
       "      <td>4.0</td>\n",
       "    </tr>\n",
       "  </tbody>\n",
       "</table>\n",
       "<p>13058 rows × 2 columns</p>\n",
       "</div>"
      ],
      "text/plain": [
       "                                                    Text  Feeling\n",
       "0      ‘인도’가 적에게 포위를 당했는데, 적들이 은화 6백 개를 내놓을 때까지 물러나지 ...      2.0\n",
       "1                                  그래서 주민들이 북을 치며 선포하길,       2.0\n",
       "2                           *누구든 그 돈을 마련하는 사람을 시장으로 삼겠다*      2.0\n",
       "3                                                라고 했답니다      0.0\n",
       "4      때마침 가난한 어부가 자신의 아들과 호수에서 물고기를 잡아 생활하다, 그 적들이 들...      5.0\n",
       "...                                                  ...      ...\n",
       "13053               그런데 그 호랑이는 바로 옛날에 나무꾼이 도와주었던 호랑이였습니다      4.0\n",
       "13054          *저는 나이가 들어 어차피 죽을 목숨이니 저를 임금에게 제물로 바치십시오*      4.0\n",
       "13055                                 그러곤 호랑이는 숨을 거두었습니다      4.0\n",
       "13056     나무꾼은 숨을 거둔 호랑이를 차마 제물로 바치지 못하고 양지바른 땅에 묻어주었습니다      4.0\n",
       "13057  목에 걸린 뼈를 나무꾼이 빼준 이후로 죽을 때까지 나무꾼에게 은혜를 갚는 호랑이의 ...      4.0\n",
       "\n",
       "[13058 rows x 2 columns]"
      ]
     },
     "execution_count": 191,
     "metadata": {},
     "output_type": "execute_result"
    }
   ],
   "source": [
    "data"
   ]
  },
  {
   "cell_type": "code",
   "execution_count": 192,
   "metadata": {},
   "outputs": [
    {
     "data": {
      "text/plain": [
       "(11740, 6)"
      ]
     },
     "execution_count": 192,
     "metadata": {},
     "output_type": "execute_result"
    }
   ],
   "source": [
    "data['Text'].nunique(), data['Feeling'].nunique()"
   ]
  },
  {
   "cell_type": "code",
   "execution_count": 193,
   "metadata": {},
   "outputs": [
    {
     "data": {
      "text/html": [
       "<div>\n",
       "<style scoped>\n",
       "    .dataframe tbody tr th:only-of-type {\n",
       "        vertical-align: middle;\n",
       "    }\n",
       "\n",
       "    .dataframe tbody tr th {\n",
       "        vertical-align: top;\n",
       "    }\n",
       "\n",
       "    .dataframe thead th {\n",
       "        text-align: right;\n",
       "    }\n",
       "</style>\n",
       "<table border=\"1\" class=\"dataframe\">\n",
       "  <thead>\n",
       "    <tr style=\"text-align: right;\">\n",
       "      <th></th>\n",
       "      <th>Text</th>\n",
       "      <th>Feeling</th>\n",
       "    </tr>\n",
       "  </thead>\n",
       "  <tbody>\n",
       "    <tr>\n",
       "      <th>54</th>\n",
       "      <td>라고 말했어요</td>\n",
       "      <td>0.0</td>\n",
       "    </tr>\n",
       "    <tr>\n",
       "      <th>172</th>\n",
       "      <td>*젬지 산아, 젬지 산아, 열리거라*</td>\n",
       "      <td>2.0</td>\n",
       "    </tr>\n",
       "    <tr>\n",
       "      <th>215</th>\n",
       "      <td>라고 그가 말했어요</td>\n",
       "      <td>0.0</td>\n",
       "    </tr>\n",
       "    <tr>\n",
       "      <th>316</th>\n",
       "      <td>라며 당나귀가 말했어요</td>\n",
       "      <td>0.0</td>\n",
       "    </tr>\n",
       "    <tr>\n",
       "      <th>325</th>\n",
       "      <td>라며 그가 말했어요</td>\n",
       "      <td>0.0</td>\n",
       "    </tr>\n",
       "    <tr>\n",
       "      <th>...</th>\n",
       "      <td>...</td>\n",
       "      <td>...</td>\n",
       "    </tr>\n",
       "    <tr>\n",
       "      <th>12622</th>\n",
       "      <td>라며 여왕폐하가 말했어요</td>\n",
       "      <td>0.0</td>\n",
       "    </tr>\n",
       "    <tr>\n",
       "      <th>12630</th>\n",
       "      <td>라며 앨리스가 말했지요</td>\n",
       "      <td>0.0</td>\n",
       "    </tr>\n",
       "    <tr>\n",
       "      <th>12631</th>\n",
       "      <td>*저 애의 목을 쳐라*</td>\n",
       "      <td>3.0</td>\n",
       "    </tr>\n",
       "    <tr>\n",
       "      <th>12634</th>\n",
       "      <td>라며 앨리스가 말했어요</td>\n",
       "      <td>0.0</td>\n",
       "    </tr>\n",
       "    <tr>\n",
       "      <th>12645</th>\n",
       "      <td>라며 앨리스가 말했어요</td>\n",
       "      <td>0.0</td>\n",
       "    </tr>\n",
       "  </tbody>\n",
       "</table>\n",
       "<p>1224 rows × 2 columns</p>\n",
       "</div>"
      ],
      "text/plain": [
       "                       Text  Feeling\n",
       "54                  라고 말했어요      0.0\n",
       "172    *젬지 산아, 젬지 산아, 열리거라*      2.0\n",
       "215              라고 그가 말했어요      0.0\n",
       "316            라며 당나귀가 말했어요      0.0\n",
       "325              라며 그가 말했어요      0.0\n",
       "...                     ...      ...\n",
       "12622         라며 여왕폐하가 말했어요      0.0\n",
       "12630          라며 앨리스가 말했지요      0.0\n",
       "12631          *저 애의 목을 쳐라*      3.0\n",
       "12634          라며 앨리스가 말했어요      0.0\n",
       "12645          라며 앨리스가 말했어요      0.0\n",
       "\n",
       "[1224 rows x 2 columns]"
      ]
     },
     "metadata": {},
     "output_type": "display_data"
    }
   ],
   "source": [
    "display(data[data.duplicated()])"
   ]
  },
  {
   "cell_type": "code",
   "execution_count": 194,
   "metadata": {},
   "outputs": [
    {
     "data": {
      "text/plain": [
       "5.0    5012\n",
       "2.0    3535\n",
       "0.0    2420\n",
       "1.0     947\n",
       "3.0     603\n",
       "4.0     536\n",
       "Name: Feeling, dtype: int64"
      ]
     },
     "execution_count": 194,
     "metadata": {},
     "output_type": "execute_result"
    }
   ],
   "source": [
    "data['Feeling'].value_counts()"
   ]
  },
  {
   "cell_type": "code",
   "execution_count": 195,
   "metadata": {},
   "outputs": [],
   "source": [
    "data = data[data[\"Feeling\"] != 22.0]"
   ]
  },
  {
   "cell_type": "code",
   "execution_count": 196,
   "metadata": {},
   "outputs": [
    {
     "data": {
      "text/plain": [
       "5.0    5012\n",
       "2.0    3535\n",
       "0.0    2420\n",
       "1.0     947\n",
       "3.0     603\n",
       "4.0     536\n",
       "Name: Feeling, dtype: int64"
      ]
     },
     "execution_count": 196,
     "metadata": {},
     "output_type": "execute_result"
    }
   ],
   "source": [
    "data['Feeling'].value_counts()"
   ]
  },
  {
   "cell_type": "code",
   "execution_count": 197,
   "metadata": {},
   "outputs": [
    {
     "data": {
      "text/plain": [
       "<AxesSubplot:>"
      ]
     },
     "execution_count": 197,
     "metadata": {},
     "output_type": "execute_result"
    },
    {
     "data": {
      "image/png": "[encoded data removed]",
      "text/plain": [
       "<Figure size 432x288 with 1 Axes>"
      ]
     },
     "metadata": {
      "needs_background": "light"
     },
     "output_type": "display_data"
    }
   ],
   "source": [
    "data['Feeling'].value_counts().plot(kind='bar')"
   ]
  },
  {
   "cell_type": "code",
   "execution_count": 198,
   "metadata": {},
   "outputs": [],
   "source": [
    "#  결측치 제거"
   ]
  },
  {
   "cell_type": "code",
   "execution_count": 199,
   "metadata": {},
   "outputs": [
    {
     "data": {
      "text/plain": [
       "Text       0\n",
       "Feeling    5\n",
       "dtype: int64"
      ]
     },
     "execution_count": 199,
     "metadata": {},
     "output_type": "execute_result"
    }
   ],
   "source": [
    "data.isnull().sum()"
   ]
  },
  {
   "cell_type": "code",
   "execution_count": 200,
   "metadata": {},
   "outputs": [
    {
     "name": "stdout",
     "output_type": "stream",
     "text": [
      "False\n"
     ]
    }
   ],
   "source": [
    "data = data.dropna(how = 'any')\n",
    "print(data.isnull().values.any())"
   ]
  },
  {
   "cell_type": "code",
   "execution_count": 201,
   "metadata": {},
   "outputs": [
    {
     "data": {
      "text/plain": [
       "0        2\n",
       "1        2\n",
       "2        2\n",
       "3        0\n",
       "4        5\n",
       "        ..\n",
       "13053    4\n",
       "13054    4\n",
       "13055    4\n",
       "13056    4\n",
       "13057    4\n",
       "Name: Feeling, Length: 13053, dtype: int64"
      ]
     },
     "execution_count": 201,
     "metadata": {},
     "output_type": "execute_result"
    }
   ],
   "source": [
    "data = data.astype({\"Feeling\" : 'int64'})\n",
    "data['Feeling']"
   ]
  },
  {
   "cell_type": "code",
   "execution_count": 202,
   "metadata": {},
   "outputs": [
    {
     "data": {
      "text/html": [
       "<div>\n",
       "<style scoped>\n",
       "    .dataframe tbody tr th:only-of-type {\n",
       "        vertical-align: middle;\n",
       "    }\n",
       "\n",
       "    .dataframe tbody tr th {\n",
       "        vertical-align: top;\n",
       "    }\n",
       "\n",
       "    .dataframe thead th {\n",
       "        text-align: right;\n",
       "    }\n",
       "</style>\n",
       "<table border=\"1\" class=\"dataframe\">\n",
       "  <thead>\n",
       "    <tr style=\"text-align: right;\">\n",
       "      <th></th>\n",
       "      <th>Text</th>\n",
       "      <th>Feeling</th>\n",
       "    </tr>\n",
       "  </thead>\n",
       "  <tbody>\n",
       "    <tr>\n",
       "      <th>0</th>\n",
       "      <td>인도가 적에게 포위를 당했는데 적들이 은화 백 개를 내놓을 때까지 물러나지 않겠다고...</td>\n",
       "      <td>2</td>\n",
       "    </tr>\n",
       "    <tr>\n",
       "      <th>1</th>\n",
       "      <td>그래서 주민들이 북을 치며 선포하길</td>\n",
       "      <td>2</td>\n",
       "    </tr>\n",
       "    <tr>\n",
       "      <th>2</th>\n",
       "      <td>누구든 그 돈을 마련하는 사람을 시장으로 삼겠다</td>\n",
       "      <td>2</td>\n",
       "    </tr>\n",
       "    <tr>\n",
       "      <th>3</th>\n",
       "      <td>라고 했답니다</td>\n",
       "      <td>0</td>\n",
       "    </tr>\n",
       "    <tr>\n",
       "      <th>4</th>\n",
       "      <td>때마침 가난한 어부가 자신의 아들과 호수에서 물고기를 잡아 생활하다 그 적들이 들이...</td>\n",
       "      <td>5</td>\n",
       "    </tr>\n",
       "    <tr>\n",
       "      <th>...</th>\n",
       "      <td>...</td>\n",
       "      <td>...</td>\n",
       "    </tr>\n",
       "    <tr>\n",
       "      <th>13053</th>\n",
       "      <td>그런데 그 호랑이는 바로 옛날에 나무꾼이 도와주었던 호랑이였습니다</td>\n",
       "      <td>4</td>\n",
       "    </tr>\n",
       "    <tr>\n",
       "      <th>13054</th>\n",
       "      <td>저는 나이가 들어 어차피 죽을 목숨이니 저를 임금에게 제물로 바치십시오</td>\n",
       "      <td>4</td>\n",
       "    </tr>\n",
       "    <tr>\n",
       "      <th>13055</th>\n",
       "      <td>그러곤 호랑이는 숨을 거두었습니다</td>\n",
       "      <td>4</td>\n",
       "    </tr>\n",
       "    <tr>\n",
       "      <th>13056</th>\n",
       "      <td>나무꾼은 숨을 거둔 호랑이를 차마 제물로 바치지 못하고 양지바른 땅에 묻어주었습니다</td>\n",
       "      <td>4</td>\n",
       "    </tr>\n",
       "    <tr>\n",
       "      <th>13057</th>\n",
       "      <td>목에 걸린 뼈를 나무꾼이 빼준 이후로 죽을 때까지 나무꾼에게 은혜를 갚는 호랑이의 ...</td>\n",
       "      <td>4</td>\n",
       "    </tr>\n",
       "  </tbody>\n",
       "</table>\n",
       "<p>13053 rows × 2 columns</p>\n",
       "</div>"
      ],
      "text/plain": [
       "                                                    Text  Feeling\n",
       "0      인도가 적에게 포위를 당했는데 적들이 은화 백 개를 내놓을 때까지 물러나지 않겠다고...        2\n",
       "1                                   그래서 주민들이 북을 치며 선포하길         2\n",
       "2                             누구든 그 돈을 마련하는 사람을 시장으로 삼겠다        2\n",
       "3                                                라고 했답니다        0\n",
       "4      때마침 가난한 어부가 자신의 아들과 호수에서 물고기를 잡아 생활하다 그 적들이 들이...        5\n",
       "...                                                  ...      ...\n",
       "13053               그런데 그 호랑이는 바로 옛날에 나무꾼이 도와주었던 호랑이였습니다        4\n",
       "13054            저는 나이가 들어 어차피 죽을 목숨이니 저를 임금에게 제물로 바치십시오        4\n",
       "13055                                 그러곤 호랑이는 숨을 거두었습니다        4\n",
       "13056     나무꾼은 숨을 거둔 호랑이를 차마 제물로 바치지 못하고 양지바른 땅에 묻어주었습니다        4\n",
       "13057  목에 걸린 뼈를 나무꾼이 빼준 이후로 죽을 때까지 나무꾼에게 은혜를 갚는 호랑이의 ...        4\n",
       "\n",
       "[13053 rows x 2 columns]"
      ]
     },
     "execution_count": 202,
     "metadata": {},
     "output_type": "execute_result"
    }
   ],
   "source": [
    "# 한글만 남기기 \n",
    "\n",
    "data['Text'] = data['Text'].str.replace(\"[^ㄱ-ㅎㅏ-ㅣ가-힣 ]\",\"\")\n",
    "data"
   ]
  },
  {
   "cell_type": "code",
   "execution_count": 203,
   "metadata": {},
   "outputs": [],
   "source": [
    "X_train, X_test, y_train, y_test = train_test_split(data['Text'], \n",
    "                                                    data['Feeling'], \n",
    "                                                    test_size=0.1, \n",
    "                                                    random_state=1004)"
   ]
  },
  {
   "cell_type": "code",
   "execution_count": 204,
   "metadata": {},
   "outputs": [
    {
     "name": "stdout",
     "output_type": "stream",
     "text": [
      "2673                                        너희들의 손톱 발톱을 보니\n",
      "989                                            이 센스 없는 멍청아\n",
      "3252                                                     쑹\n",
      "2381                         밤이 오자 소녀는 그 나무에 기어들어가 잠을 청했어요\n",
      "387      내 이때껏 신기한 걸 많이 봐 왔다만 이런 괴물 같이 생긴 건 또 처음이구나 이건 ...\n",
      "                               ...                        \n",
      "8210               예쁜 암탉아 귀여운 수탉아 이쁜 얼룩빼기 암소야 너희들의 생각은 어떠니\n",
      "8395                                     뭐 네까짓 게 우리들의 왕이라고\n",
      "9460                                        재봉사가 훌쩍이며 말했어요\n",
      "4129      왕자님은 그녀가 기절할 정도로 예쁜 것을 보고 왜 거기 혼자 숨어서 울고 있는지를...\n",
      "10768    분도 채 안 되서 애벌레가 다시 입에서 물담뱃대를 때고 한두 번 크게 하품을 하는 ...\n",
      "Name: Text, Length: 11747, dtype: object\n",
      "10166    그녀는 그 이유가 자신이 부채를 쥐고 있기 때문인걸 알았답니다 그래서 급히 손에서 ...\n",
      "2405               으리으리한 성으로 돌아온 다음 왕은 그녀에게 아름다운 의상들을 입혔어요\n",
      "942                      그래서 그들이 빗자루를 자여와 곰의 털을 말끔히 털어주었어요\n",
      "9281                            급한 마음에 연못 주위를 돌고 또 돌기만 했지요\n",
      "2945      일곱 명의 새끼 염소들이 그 광경을 지켜보다 우물가로 달려와 환호성을 지르며 소리쳤어요\n",
      "                               ...                        \n",
      "2089     특히나 막내공주님이 아주 예뻤는데요 어찌나 아름다운지 해도 그녀의 얼굴에 햇볕을 비...\n",
      "3205                              저도 한 번 당신의 연주를 배워보고 싶습니다\n",
      "1448                                               라고 말했어요\n",
      "7215                                 들어가려다 발각되면 내 목숨이 위험해져\n",
      "7398                  그런 다음은 그녀는 강한 술을 가져오게 해 작별주로 마시게 했어요\n",
      "Name: Text, Length: 1306, dtype: object\n",
      "2673     2\n",
      "989      2\n",
      "3252     0\n",
      "2381     4\n",
      "387      5\n",
      "        ..\n",
      "8210     5\n",
      "8395     3\n",
      "9460     2\n",
      "4129     5\n",
      "10768    2\n",
      "Name: Feeling, Length: 11747, dtype: int64\n",
      "10166    5\n",
      "2405     1\n",
      "942      5\n",
      "9281     4\n",
      "2945     1\n",
      "        ..\n",
      "2089     1\n",
      "3205     5\n",
      "1448     0\n",
      "7215     0\n",
      "7398     5\n",
      "Name: Feeling, Length: 1306, dtype: int64\n"
     ]
    }
   ],
   "source": [
    "print(X_train)\n",
    "print(X_test)\n",
    "print(y_train)\n",
    "print(y_test)"
   ]
  },
  {
   "cell_type": "code",
   "execution_count": 205,
   "metadata": {},
   "outputs": [],
   "source": [
    "# 토큰화"
   ]
  },
  {
   "cell_type": "code",
   "execution_count": 206,
   "metadata": {},
   "outputs": [],
   "source": [
    "# 추후 늘리기\n",
    "stopwords = ['의','가','이','은','들','는','좀','잘','걍','과','도','를','으로','자','에','와','한','하다']"
   ]
  },
  {
   "cell_type": "code",
   "execution_count": 207,
   "metadata": {},
   "outputs": [],
   "source": [
    "okt = Okt()\n",
    "X_trains = []\n",
    "for sentence in X_train:\n",
    "    temp_X = okt.morphs(sentence, stem = True) # 토큰화 \n",
    "    temp_X = [word for word in temp_X if not word in stopwords]\n",
    "    X_trains.append(temp_X)"
   ]
  },
  {
   "cell_type": "code",
   "execution_count": 208,
   "metadata": {},
   "outputs": [],
   "source": [
    "# word_list = []\n",
    "# for word in temp_X :\n",
    "#    if not word in stopwords:\n",
    "#        word_list.append(word)"
   ]
  },
  {
   "cell_type": "code",
   "execution_count": 209,
   "metadata": {},
   "outputs": [],
   "source": [
    "okt = Okt()\n",
    "X_tests = []\n",
    "for sentence in X_test:\n",
    "    temp_X = okt.morphs(sentence, stem = True) # 토큰화 \n",
    "    temp_X = [word for word in temp_X if not word in stopwords]\n",
    "    X_tests.append(temp_X)"
   ]
  },
  {
   "cell_type": "code",
   "execution_count": 210,
   "metadata": {},
   "outputs": [],
   "source": [
    "X_train = X_trains\n",
    "X_test = X_tests"
   ]
  },
  {
   "cell_type": "code",
   "execution_count": 211,
   "metadata": {},
   "outputs": [
    {
     "name": "stdout",
     "output_type": "stream",
     "text": [
      "[['너희', '손톱', '발톱', '을', '보다'], ['센스', '없다', '멍', '청아'], ['쑹']]\n",
      "[['그녀', '그', '이유', '자신', '부채', '쥐', '고', '있다', '때문', '인걸', '알다', '그래서', '급하다', '손', '에서', '부채', '놓다'], ['으리', '으리', '성', '돌아오다', '다음', '왕', '그녀', '에게', '아름답다', '의상', '을', '입히다'], ['그래서', '그', '빗자루', '자여', '곰', '털', '을', '말끔히', '털다']]\n"
     ]
    }
   ],
   "source": [
    "print(X_train[:3])\n",
    "print(X_test[:3])"
   ]
  },
  {
   "cell_type": "code",
   "execution_count": 212,
   "metadata": {},
   "outputs": [],
   "source": [
    "# 정수 인코딩\n",
    "tokenizer = Tokenizer() \n",
    "tokenizer.fit_on_texts(X_train)"
   ]
  },
  {
   "cell_type": "code",
   "execution_count": 213,
   "metadata": {},
   "outputs": [
    {
     "name": "stdout",
     "output_type": "stream",
     "text": [
      "{'을': 1, '그': 2, '말': 3, '있다': 4, '그녀': 5, '라며': 6, '그렇다': 7, '로': 8, '보다': 9, '않다': 10, '에게': 11, '없다': 12, '에서': 13, '이다': 14, '내': 15, '자신': 16, '게': 17, '가다': 18, '거': 19, '되다': 20, '하지만': 21, '앨리스': 22, '왕': 23, '수': 24, '들다': 25, '것': 26, '고': 27, '다': 28, '요': 29, '더': 30, '네': 31, '다음': 32, '그래서': 33, '저': 34, '다시': 35, '두': 36, '때': 37, '생각': 38, '말다': 39, '안': 40, '하나': 41, '오다': 42, '아니다': 43, '걸': 44, '못': 45, '되어다': 46, '제': 47, '사람': 48, '예요': 49, '님': 50, '만': 51, '뭐': 52, '집': 53, '라고': 54, '먹다': 55, '공주': 56, '엔': 57, '아이': 58, '소리': 59, '크다': 60, '왕자': 61, '당신': 62, '까지': 63, '날': 64, '아': 65, '나': 66, '시작': 67, '해주다': 68, '같다': 69, '아내': 70, '모두': 71, '눈': 72, '하고': 73, '아빠': 74, '알다': 75, '앉다': 76, '자다': 77, '속': 78, '번': 79, '그리고': 80, '어떻다': 81, '좋다': 82, '버리다': 83, '왕비': 84, '정말': 85, '지': 86, '손': 87, '주다': 88, '세': 89, '이제': 90, '작다': 91, '야': 92, '난': 93, '나오다': 94, '엄마': 95, '대답': 96, '들어가다': 97, '모든': 98, '일': 99, '받다': 100, '우리': 101, '문': 102, '위': 103, '또': 104, '죠': 105, '나무': 106, '숲': 107, '고양이': 108, '지금': 109, '보고': 110, '그러자': 111, '아들': 112, '너': 113, '다른': 114, '마리': 115, '때문': 116, '새': 117, '라': 118, '전': 119, '머리': 120, '인': 121, '며': 122, '여기': 123, '토끼': 124, '거기': 125, '모르다': 126, '이렇게': 127, '함께': 128, '나다': 129, '소녀': 130, '싶다': 131, '보이다': 132, '적': 133, '생쥐': 134, '자기': 135, '건': 136, '서': 137, '그때': 138, '번째': 139, '너무': 140, '앞': 141, '물': 142, '어리다': 143, '곧': 144, '한스': 145, '돌아오다': 146, '아주': 147, '바람': 148, '딸': 149, '도착': 150, '소리치다': 151, '죽다': 152, '알': 153, '내다': 154, '몸': 155, '서다': 156, '너무도': 157, '물다': 158, '후': 159, '만들다': 160, '뒤': 161, '난쟁이': 162, '해보다': 163, '명': 164, '아래': 165, '개': 166, '가지': 167, '청년': 168, '차다': 169, '이지': 170, '해': 171, '그렇게': 172, '사랑': 173, '아무': 174, '아름답다': 175, '많다': 176, '형': 177, '계속': 178, '오': 179, '그건': 180, '어느': 181, '길': 182, '방': 183, '옆': 184, '이렇다': 185, '이야': 186, '나가다': 187, '거야': 188, '주인': 189, '중': 190, '즉시': 191, '밤': 192, '누구': 193, '남편': 194, '찾다': 195, '사이': 196, '선': 197, '그게': 198, '이나': 199, '처럼': 200, '아가씨': 201, '줄': 202, '일이': 203, '테': 204, '기다': 205, '하인': 206, '입': 207, '그리다': 208, '잡다': 209, '세상': 210, '침대': 211, '분': 212, '얘기': 213, '듯': 214, '이번': 215, '시간': 216, '새끼': 217, '목': 218, '가장': 219, '니': 220, '얼굴': 221, '떨어지다': 222, '같이': 223, '온': 224, '그냥': 225, '목소리': 226, '살다': 227, '왜': 228, '그리하여': 229, '두다': 230, '곳': 231, '든': 232, '채': 233, '정도': 234, '돼다': 235, '살': 236, '년': 237, '어디': 238, '요정': 239, '늑대': 240, '쪽': 241, '놀라다': 242, '성': 243, '괴물': 244, '소년': 245, '자리': 246, '일어나다': 247, '젊은이': 248, '치다': 249, '왜냐면': 250, '옷': 251, '께': 252, '입다': 253, '걸다': 254, '애': 255, '불쌍하다': 256, '듣다': 257, '마음': 258, '보내다': 259, '동안': 260, '모자': 261, '여왕': 262, '마침내': 263, '넌': 264, '막': 265, '대로': 266, '께서': 267, '아침': 268, '모습': 269, '황금': 270, '폐하': 271, '결국': 272, '그걸': 273, '나르다': 274, '언니': 275, '갈다': 276, '시': 277, '면': 278, '없이': 279, '무슨': 280, '바로': 281, '땅': 282, '씩': 283, '달라': 284, '기쁘다': 285, '들이다': 286, '친구': 287, '하': 288, '돈': 289, '불': 290, '눕다': 291, '발': 292, '부터': 293, '남자': 294, '꺼내다': 295, '에도': 296, '누가': 297, '저녁': 298, '부르다': 299, '구': 300, '뜨다': 301, '열다': 302, '쥐': 303, '당나귀': 304, '아프다': 305, '장수': 306, '그리핀': 307, '예쁘다': 308, '기다리다': 309, '잠': 310, '고개': 311, '말씀': 312, '동물': 313, '돌아가다': 314, '오빠': 315, '집다': 316, '마차': 317, '호랑이': 318, '거인': 319, '수가': 320, '어찌': 321, '또한': 322, '거리': 323, '어': 324, '하느님': 325, '다리': 326, '들어오다': 327, '염소': 328, '야하다': 329, '결혼': 330, '마치': 331, '놓다': 332, '신데렐라': 333, '변하다': 334, '사라지다': 335, '젊다': 336, '지나가다': 337, '마다': 338, '거지': 339, '여자': 340, '거북이': 341, '걸리다': 342, '타고': 343, '서두르다': 344, '아기': 345, '나이': 346, '뭔': 347, '이름': 348, '잠시': 349, '들리다': 350, '둘': 351, '궁전': 352, '만약': 353, '밖': 354, '맞다': 355, '무척': 356, '왕국': 357, '희다': 358, '드리다': 359, '떠나다': 360, '너희': 361, '빵': 362, '시키다': 363, '가죽': 364, '불다': 365, '가짜': 366, '절대': 367, '넣다': 368, '약속': 369, '키': 370, '이며': 371, '양': 372, '배우다': 373, '수염': 374, '대다': 375, '위해': 376, '전혀': 377, '게다가': 378, '끝': 379, '이르다': 380, '생기다': 381, '처음': 382, '요하네스': 383, '서로': 384, '나누다': 385, '노파': 386, '여인': 387, '병': 388, '여': 389, '올라가다': 390, '위로': 391, '노래': 392, '뭔가': 393, '그것': 394, '가득': 395, '던지다': 396, '그래도': 397, '열쇠': 398, '막내': 399, '남다': 400, '내미다': 401, '에는': 402, '공작부인': 403, '농부': 404, '얘': 405, '어서': 406, '바닥': 407, '계시다': 408, '그만': 409, '쯤': 410, '많이': 411, '하루': 412, '나타나다': 413, '노루': 414, '깊다': 415, '살짝': 416, '들려오다': 417, '베다': 418, '올리다': 419, '나서다': 420, '지다': 421, '옛날': 422, '그런데': 423, '지르다': 424, '나무꾼': 425, '데리': 426, '배': 427, '따르다': 428, '빠지다': 429, '순간': 430, '가져오다': 431, '혼자': 432, '놈': 433, '슬프다': 434, '발견': 435, '자네': 436, '사실': 437, '누': 438, '때리다': 439, '끄다': 440, '죄다': 441, '눈물': 442, '니까': 443, '마법': 444, '엄지': 445, '열리다': 446, '산': 447, '돌': 448, '연주가': 449, '관': 450, '당장': 451, '사방': 452, '쥐다': 453, '울다': 454, '매일': 455, '고슴도치': 456, '풀다': 457, '상태': 458, '노인': 459, '밖에': 460, '커지다': 461, '쓰다': 462, '새엄마': 463, '향': 464, '몇': 465, '외치다': 466, '빌다': 467, '유리': 468, '검다': 469, '마디': 470, '딱': 471, '뛰다': 472, '만큼': 473, '금': 474, '실': 475, '힘': 476, '동생': 477, '귀엽다': 478, '장화': 479, '마을': 480, '믿다': 481, '푸른': 482, '머물다': 483, '가난하다': 484, '배심원': 485, '거위': 486, '지나다': 487, '결혼식': 488, '추다': 489, '질문': 490, '가보다': 491, '뭘': 492, '빨갛다': 493, '나머지': 494, '데': 495, '팔': 496, '재봉사': 497, '개구리': 498, '인지': 499, '선물': 500, '우선': 501, '젠': 502, '담다': 503, '라는': 504, '놓이다': 505, '나아가다': 506, '내려가다': 507, '음식': 508, '때마침': 509, '내리다': 510, '등': 511, '기분': 512, '정원': 513, '할머니': 514, '강아지': 515, '착하다': 516, '냐': 517, '이건': 518, '행복하다': 519, '에겐': 520, '바구니': 521, '급하다': 522, '여행': 523, '부자': 524, '말투': 525, '따다': 526, '접시': 527, '내려오다': 528, '겨울잠': 529, '열': 530, '첫': 531, '하늘': 532, '죽': 533, '이에요': 534, '만나다': 535, '돼지': 536, '밭': 537, '예전': 538, '사냥꾼': 539, '멀리': 540, '여기다': 541, '소': 542, '웃다': 543, '돌리다': 544, '쳐다보다': 545, '아직': 546, '기': 547, '공': 548, '간': 549, '원': 550, '가지다': 551, '물론': 552, '대꾸': 553, '크게': 554, '가운데': 555, '쓸다': 556, '오늘': 557, '볼': 558, '방법': 559, '화': 560, '보여주다': 561, '끈': 562, '에게로': 563, '동자': 564, '죽이다': 565, '다가오다': 566, '꼭': 567, '명의': 568, '자르다': 569, '맛': 570, '어찌나': 571, '이라': 572, '난로': 573, '준비': 574, '마냥': 575, '다만': 576, '월': 577, '이란': 578, '엄청': 579, '끌': 580, '대화': 581, '수탉': 582, '관리인': 583, '아아': 584, '쉬다': 585, '이미': 586, '농부가': 587, '장미': 588, '손가락': 589, '라도': 590, '밑': 591, '인데': 592, '말고': 593, '멀다': 594, '곰': 595, '흔들다': 596, '잃다': 597, '장': 598, '마시다': 599, '뭐라다': 600, '가까이': 601, '깜짝': 602, '드레스': 603, '반': 604, '벌어지다': 605, '에요': 606, '멈추다': 607, '방문': 608, '사냥': 609, '바보': 610, '무릎': 611, '째': 612, '귀': 613, '얼마나': 614, '이라도': 615, '숨': 616, '반지': 617, '식': 618, '걱정': 619, '라푼첼': 620, '훨씬': 621, '치': 622, '까마귀': 623, '신다': 624, '벌써': 625, '돌보다': 626, '충신': 627, '도도새': 628, '구두': 629, '끼다': 630, '겁': 631, '책': 632, '빛': 633, '사랑스럽다': 634, '항상': 635, '잊다': 636, '녀': 637, '문제': 638, '달다': 639, '달아나다': 640, '얻다': 641, '아버지': 642, '지키다': 643, '이리': 644, '좋아하다': 645, '의자': 646, '필요': 647, '씨': 648, '늙다': 649, '상황': 650, '낳다': 651, '이고': 652, '물어보다': 653, '진짜': 654, '거니': 655, '쫓다': 656, '잡고': 657, '물고기': 658, '대해': 659, '들판': 660, '방앗간': 661, '이유': 662, '재치': 663, '계단': 664, '출발': 665, '자루': 666, '살리다': 667, '혼잣말': 668, '닿다': 669, '이후': 670, '커다랗다': 671, '도로': 672, '맛있다': 673, '보이지': 674, '연못': 675, '근데': 676, '흐르다': 677, '물이': 678, '머리카락': 679, '우물': 680, '백작': 681, '밟다': 682, '울': 683, '완전하다': 684, '마찬가지': 685, '잡아먹다': 686, '고기': 687, '조금': 688, '신부': 689, '주변': 690, '말씀드리다': 691, '숨다': 692, '비단': 693, '춤': 694, '들어서다': 695, '시골': 696, '금방': 697, '에게도': 698, '교회': 699, '대신': 700, '애벌레': 701, '사자': 702, '건데': 703, '대모': 704, '게다': 705, '식탁': 706, '떡': 707, '몰다': 708, '무엇': 709, '꽃': 710, '거란': 711, '기쁨': 712, '달려가다': 713, '왜냐하면': 714, '번은': 715, '호주머니': 716, '구멍': 717, '마법사': 718, '슬픔': 719, '랑': 720, '사과': 721, '달': 722, '밥': 723, '여전하다': 724, '나쁘다': 725, '확실하다': 726, '늘다': 727, '기도': 728, '탁자': 729, '정신': 730, '들여다보다': 731, '비명': 732, '암탉': 733, '가득하다': 734, '가버리다': 735, '별': 736, '코': 737, '오르다': 738, '끝나다': 739, '해도': 740, '자라다': 741, '빨리': 742, '저기': 743, '돌다': 744, '후작': 745, '은화': 746, '보석': 747, '무겁다': 748, '둘러보다': 749, '감히': 750, '다니다': 751, '직접': 752, '살펴보다': 753, '도둑': 754, '타다': 755, '케이크': 756, '동의': 757, '두꺼비': 758, '아마': 759, '등골': 760, '달리다': 761, '아무래도': 762, '덮다': 763, '뽑다': 764, '먼저': 765, '쉬': 766, '준': 767, '여동생': 768, '정말로': 769, '누군가': 770, '벗다': 771, '방금': 772, '만족하다': 773, '라면': 774, '꼬리': 775, '바라다': 776, '기꺼이': 777, '설명': 778, '대체': 779, '바라보다': 780, '동시': 781, '널': 782, '한참': 783, '어깨': 784, '길다': 785, '비록': 786, '달구지': 787, '어쩔': 788, '어디서': 789, '바다': 790, '기어': 791, '마리아': 792, '거고': 793, '분명하다': 794, '성문': 795, '바르다': 796, '이라고': 797, '묻다': 798, '에선': 799, '일단': 800, '마르다': 801, '대비': 802, '마': 803, '남': 804, '찾아오다': 805, '산토끼': 806, '리': 807, '적다': 808, '이내': 809, '다시다': 810, '통': 811, '한테': 812, '수도': 813, '옮기다': 814, '꼭대기': 815, '창문': 816, '흘리다': 817, '그동안': 818, '도와주다': 819, '잔': 820, '둘째': 821, '뿐이다': 822, '오두막': 823, '사악하다': 824, '깨어나다': 825, '마지막': 826, '전하': 827, '씻다': 828, '땐': 829, '곤': 830, '그대로': 831, '엄청나다': 832, '건네다': 833, '벌': 834, '란': 835, '원하다': 836, '명령': 837, '나라': 838, '읽다': 839, '에게는': 840, '말로': 841, '구르다': 842, '꿀': 843, '인사': 844, '날아가다': 845, '어부': 846, '죽음': 847, '부엌': 848, '이든': 849, '노크': 850, '상': 851, '여우': 852, '생명': 853, '그제야': 854, '요리사': 855, '속이다': 856, '광경': 857, '리케': 858, '얼른': 859, '오싹하다': 860, '앞발': 861, '에게서': 862, '그러니까': 863, '데려오다': 864, '하자': 865, '급기야': 866, '거치다': 867, '뿌리다': 868, '차리다': 869, '냉큼': 870, '놀다': 871, '데려가다': 872, '깨다': 873, '결심': 874, '지치다': 875, '높이': 876, '재판': 877, '편지': 878, '처녀': 879, '온통': 880, '주': 881, '거의': 882, '넘다': 883, '앤': 884, '헤엄': 885, '시계': 886, '내려놓다': 887, '맡다': 888, '채우다': 889, '양반': 890, '차라리': 891, '상인': 892, '중요하다': 893, '답': 894, '연주': 895, '샘': 896, '여러분': 897, '묶다': 898, '놀란': 899, '지니다': 900, '부탁': 901, '떨어뜨리다': 902, '짐': 903, '부부': 904, '벽': 905, '원래': 906, '음': 907, '대한': 908, '한번': 909, '법': 910, '목사': 911, '까진': 912, '신': 913, '지내다': 914, '무렵': 915, '떡갈나무': 916, '로부터': 917, '감': 918, '드러눕다': 919, '뱀': 920, '삼키다': 921, '화가': 922, '텐데': 923, '뜰': 924, '청': 925, '하늘나라': 926, '소식': 927, '고함': 928, '동': 929, '사용': 930, '가련하다': 931, '그릇': 932, '건지다': 933, '장갑': 934, '폴짝': 935, '무도회': 936, '바위': 937, '비': 938, '끔찍하다': 939, '덥다': 940, '올라오다': 941, '애가': 942, '다물다': 943, '사형': 944, '늦다': 945, '깃털': 946, '자고': 947, '빠져나가다': 948, '대': 949, '잖다': 950, '단': 951, '안다': 952, '바': 953, '보단': 954, '모이다': 955, '놀부': 956, '모양': 957, '참다': 958, '그저': 959, '순': 960, '백': 961, '홀로': 962, '고수머리': 963, '풀밭': 964, '아뇨': 965, '주방': 966, '주위': 967, '건가': 968, '요구': 969, '울리다': 970, '보트': 971, '두드리다': 972, '느끼다': 973, '풀': 974, '붙다': 975, '만큼이나': 976, '그림': 977, '차': 978, '일도': 979, '줍다': 980, '갑자기': 981, '떨다': 982, '점점': 983, '피': 984, '혹시': 985, '해오다': 986, '굳이': 987, '겁니다': 988, '둥글다': 989, '상상': 990, '사': 991, '걸어가다': 992, '강': 993, '홀': 994, '응': 995, '의상': 996, '조각': 997, '형제': 998, '세다': 999, '싫다': 1000, '길이': 1001, '박쥐': 1002, '신기하다': 1003, '갇히다': 1004, '가슴': 1005, '주막': 1006, '손님': 1007, '떼': 1008, '빼다': 1009, '포도주': 1010, '달려들다': 1011, '다르다': 1012, '저희': 1013, '꿈': 1014, '굴뚝': 1015, '연기': 1016, '쭉': 1017, '뻗다': 1018, '짐승': 1019, '뒤지다': 1020, '바꾸다': 1021, '지붕': 1022, '금화': 1023, '바닷가재': 1024, '미치다': 1025, '목숨': 1026, '화들짝': 1027, '화려하다': 1028, '단단하다': 1029, '머': 1030, '언덕': 1031, '머릿결': 1032, '점': 1033, '왕관': 1034, '곧장': 1035, '우두머리': 1036, '흥': 1037, '우린': 1038, '이상': 1039, '나뭇가지': 1040, '드러내다': 1041, '통해': 1042, '내일': 1043, '방향': 1044, '걷다': 1045, '부분': 1046, '흰눈': 1047, '여보': 1048, '하얗다': 1049, '참새': 1050, '처': 1051, '요리': 1052, '천국': 1053, '끌다': 1054, '황': 1055, '이해': 1056, '주님': 1057, '상처': 1058, '한쪽': 1059, 'ㅡ': 1060, '어제': 1061, '토끼다': 1062, '기겁': 1063, '이니': 1064, '모금': 1065, '조용하다': 1066, '도깨비': 1067, '움직이다': 1068, '지만': 1069, '대장장이': 1070, '새롭다': 1071, '충분하다': 1072, '외': 1073, '자녀': 1074, '마부': 1075, '다행하다': 1076, '보기': 1077, '병사': 1078, '덧붙이다': 1079, '저리': 1080, '지켜보다': 1081, '운': 1082, '에서도': 1083, '곁': 1084, '사슴': 1085, '울창': 1086, '해내다': 1087, '글쎄': 1088, '뿐': 1089, '수많다': 1090, '킬로미터': 1091, '뻔하다': 1092, '닮다': 1093, '닫히다': 1094, '이상하다': 1095, '짓다': 1096, '추하다': 1097, '제발': 1098, '생전': 1099, '높다': 1100, '탑': 1101, '비둘기': 1102, '오래': 1103, '펴다': 1104, '키스': 1105, '숨기': 1106, '도끼': 1107, '식사': 1108, '도대체': 1109, '용': 1110, '아가': 1111, '놀이': 1112, '무섭다': 1113, '모으다': 1114, '보물': 1115, '찍다': 1116, '오랫동안': 1117, '역시': 1118, '이야기': 1119, '깜빡': 1120, '뿌리': 1121, '어쨌든': 1122, '뛰어가다': 1123, '치고': 1124, '양치기': 1125, '삼': 1126, '박': 1127, '진심': 1128, '태우다': 1129, '얼마': 1130, '도중': 1131, '밀다': 1132, '첫째': 1133, '떨리다': 1134, '확': 1135, '가게': 1136, '마저': 1137, '테이블': 1138, '거들다': 1139, '갖다': 1140, '몇몇': 1141, '끼': 1142, '소용': 1143, '입장': 1144, '검': 1145, '부채': 1146, '맞이': 1147, '경우': 1148, '스스로': 1149, '일곱': 1150, '다소': 1151, '매달리다': 1152, '한다는': 1153, '꿇다': 1154, '수명': 1155, '줄기': 1156, '물리다': 1157, '센티미터': 1158, '비추다': 1159, '꿀꺽': 1160, '호기심': 1161, '감추다': 1162, '그렇지만': 1163, '떼다': 1164, '시도': 1165, '일찍': 1166, '복도': 1167, '옛적': 1168, '에다': 1169, '진주': 1170, '벤야민': 1171, '불행': 1172, '단지': 1173, '뜻': 1174, '왕도': 1175, '주지': 1176, '행동': 1177, '그거': 1178, '인간': 1179, '막히다': 1180, '털': 1181, '사뭇': 1182, '구석': 1183, '출산': 1184, '약간': 1185, '결과': 1186, '낮다': 1187, '차례': 1188, '예의': 1189, '기운': 1190, '다해': 1191, '쓰러지다': 1192, '움': 1193, '게으르다': 1194, '수풀': 1195, '마음씨': 1196, '그날': 1197, '받아들이다': 1198, '피우다': 1199, '맹세': 1200, '꼬마': 1201, '박사': 1202, '닫다': 1203, '무얼': 1204, '끌어당기다': 1205, '송아지': 1206, '떠오르다': 1207, '숨기다': 1208, '상냥하다': 1209, '챙기다': 1210, '키우다': 1211, '불구': 1212, '일로': 1213, '소용없다': 1214, '암소': 1215, '내내': 1216, '용기': 1217, '짜다': 1218, '시냇물': 1219, '어딨다': 1220, '제대로': 1221, '작아지다': 1222, '깨우다': 1223, '초대': 1224, '남기다': 1225, '다섯': 1226, '훌륭하다': 1227, '호의': 1228, '래': 1229, '심지어': 1230, '그렇다고': 1231, '천사': 1232, '허공': 1233, '마당': 1234, '내지': 1235, '도망치다': 1236, '맞추다': 1237, '장소': 1238, '법정': 1239, '그루': 1240, '잘생기다': 1241, '튀어나오다': 1242, '알아보다': 1243, '벌떡': 1244, '아무리': 1245, '몹시': 1246, '잔뜩': 1247, '남아': 1248, '할아버지': 1249, '마녀': 1250, '통과': 1251, '대고': 1252, '종일': 1253, '버터': 1254, '조심하다': 1255, '강하다': 1256, '수프': 1257, '항아리': 1258, '따라오다': 1259, '우연히': 1260, '빠져나오다': 1261, '기껏': 1262, '에까지': 1263, '만이': 1264, '틈': 1265, '한편': 1266, '똑같다': 1267, '기르다': 1268, '감싸다': 1269, '우': 1270, '크기': 1271, '하니': 1272, '방울': 1273, '욕심': 1274, '필요하다': 1275, '달빛': 1276, '아주머니': 1277, '버섯': 1278, '순무': 1279, '스럽다': 1280, '그이': 1281, '빠르다': 1282, '소원': 1283, '어머니': 1284, '값': 1285, '곡식': 1286, '장님': 1287, '날카롭다': 1288, '어보': 1289, '훔치다': 1290, '의하다': 1291, '산이': 1292, '딸애': 1293, '사다': 1294, '신사': 1295, '콘래드': 1296, '달리기': 1297, '발끈': 1298, '마구': 1299, '껍질': 1300, '날다': 1301, '리하': 1302, '찾아보다': 1303, '허락': 1304, '거나': 1305, '치우다': 1306, '조심': 1307, '태어나다': 1308, '턱': 1309, '헛간': 1310, '제안': 1311, '제비': 1312, '견디다': 1313, '단번': 1314, '리도': 1315, '망토': 1316, '피곤하다': 1317, '잠기다': 1318, '달래다': 1319, '발자국': 1320, '나름': 1321, '듯이': 1322, '터': 1323, '부러지다': 1324, '까닭': 1325, '걸치다': 1326, '종류': 1327, '보이': 1328, '심하다': 1329, '부다': 1330, '나중': 1331, '생활': 1332, '상자': 1333, '해드리다': 1334, '여섯': 1335, '독수리': 1336, '내려다보다': 1337, '물통': 1338, '의심': 1339, '성모': 1340, '먹이다': 1341, '느리다': 1342, '물레': 1343, '써다': 1344, '악마': 1345, '덩어리': 1346, '종종': 1347, '짖다': 1348, '싹': 1349, '다가가다': 1350, '요술': 1351, '봉': 1352, '학생': 1353, '스럽게': 1354, '두렵다': 1355, '침실': 1356, '오리': 1357, '얹다': 1358, '빌리다': 1359, '뛰어다니다': 1360, '어리석다': 1361, '분명': 1362, '탓': 1363, '닦다': 1364, '담': 1365, '로는': 1366, '줄다': 1367, '고통': 1368, '날아오르다': 1369, '온갖': 1370, '소시지': 1371, '히': 1372, '빛나다': 1373, '통로': 1374, '겠다': 1375, '밝다': 1376, '보드랍다': 1377, '이오': 1378, '터뜨리다': 1379, '녀석': 1380, '달려오다': 1381, '굳다': 1382, '건강하다': 1383, '위험': 1384, '도마뱀': 1385, '호수': 1386, '잘못': 1387, '물웅덩이': 1388, '딸아이': 1389, '찰나': 1390, '아저씨': 1391, '부지런하다': 1392, '베': 1393, '비계': 1394, '고맙다': 1395, '척': 1396, '천': 1397, '집어넣다': 1398, '벗기다': 1399, '앵무새': 1400, '구해': 1401, '잠들다': 1402, '다다르다': 1403, '꼴': 1404, '내버리다': 1405, '사납다': 1406, '이리저리': 1407, '즐겁다': 1408, '도무지': 1409, '수수께끼': 1410, '만은': 1411, '마치다': 1412, '꺼지다': 1413, '솟다': 1414, '어이': 1415, '굶다': 1416, '걸음': 1417, '한숨': 1418, '넘어지다': 1419, '개다': 1420, '소문': 1421, '인가': 1422, '병들다': 1423, '이네': 1424, '당하다': 1425, '성대': 1426, '토록': 1427, '건너다': 1428, '행운': 1429, '종이': 1430, '거대하다': 1431, '정확하다': 1432, '근처': 1433, '젖': 1434, '우유': 1435, '힘껏': 1436, '음악': 1437, '아이고': 1438, '찾아가다': 1439, '학자': 1440, '장군': 1441, '흘러내리다': 1442, '낯선': 1443, '어둠': 1444, '꼬': 1445, '유령': 1446, '타': 1447, '현명하다': 1448, '가만있다': 1449, '작고': 1450, '당황': 1451, '카라': 1452, '바스': 1453, '석판': 1454, '에서부터': 1455, '금세': 1456, '문득': 1457, '힘들다': 1458, '금은': 1459, '품': 1460, '날개': 1461, '붉다': 1462, '열매': 1463, '눈치': 1464, '그대': 1465, '저렇게': 1466, '국왕': 1467, '잔디': 1468, '누군지': 1469, '방망이': 1470, '이를': 1471, '찬찬하다': 1472, '주의': 1473, '흔들리다': 1474, '파리': 1475, '으르렁': 1476, '도움': 1477, '돌아보다': 1478, '신하': 1479, '인정': 1480, '올빼미': 1481, '감사': 1482, '앞뒤': 1483, '가만': 1484, '잠깐': 1485, '특히': 1486, '입도': 1487, '싸움': 1488, '시오': 1489, '생각나다': 1490, '군': 1491, '뺨': 1492, '자마자': 1493, '자그마하다': 1494, '골짜기': 1495, '영리하다': 1496, '눈빛': 1497, '따뜻하다': 1498, '종': 1499, '막대기': 1500, '정중하다': 1501, '몸집': 1502, '잎사귀': 1503, '배고프다': 1504, '최고': 1505, '만에': 1506, '땅속': 1507, '거두다': 1508, '가르치다': 1509, '감옥': 1510, '너머': 1511, '자식': 1512, '라다': 1513, '쏘다': 1514, '다행': 1515, '주제': 1516, '소망': 1517, '괴롭히다': 1518, '지팡이': 1519, '담기다': 1520, '지시': 1521, '열심히': 1522, '업다': 1523, '데리다': 1524, '중얼거리다': 1525, '침묵': 1526, '느낌': 1527, '물가': 1528, '불빛': 1529, '문지르다': 1530, '원체': 1531, '의미': 1532, '벌레': 1533, '아무렇다': 1534, '뚜껑': 1535, '입히다': 1536, '능력': 1537, '덕분': 1538, '술': 1539, '뜯다': 1540, '윌리엄': 1541, '변화': 1542, '소유': 1543, '벗어나다': 1544, '썩': 1545, '몰래': 1546, '가시': 1547, '느껴지다': 1548, '태양': 1549, '농장': 1550, '에야': 1551, '줄어들다': 1552, '증인': 1553, '뻔': 1554, '대가': 1555, '어쩜': 1556, '버릇': 1557, '핥다': 1558, '동굴': 1559, '유산': 1560, '뚝': 1561, '예': 1562, '사다리': 1563, '감다': 1564, '오누이': 1565, '가리키다': 1566, '오지': 1567, '나리': 1568, '짝': 1569, '진지하다': 1570, '표정': 1571, '이마': 1572, '어째': 1573, '고요': 1574, '가르다': 1575, '이제야': 1576, '내놓다': 1577, '울타리': 1578, '에라도': 1579, '머릿속': 1580, '장식': 1581, '송곳': 1582, '새다': 1583, '까짓': 1584, '이기다': 1585, '아리땁다': 1586, '뒤따르다': 1587, '싸우다': 1588, '메다': 1589, '쏙': 1590, '상대방': 1591, '워낙': 1592, '서서': 1593, '무덤': 1594, '이던': 1595, '하녀': 1596, '졸리다': 1597, '굴': 1598, '시원하다': 1599, '부모님': 1600, '라곤': 1601, '심다': 1602, '재산': 1603, '산적': 1604, '사정': 1605, '신랑': 1606, '불어': 1607, '피리': 1608, '지하실': 1609, '빈': 1610, '부드럽다': 1611, '바이올린': 1612, '용서': 1613, '평소': 1614, '붙이다': 1615, '베드로': 1616, '운명': 1617, '강물': 1618, '좁다': 1619, '흥겹다': 1620, '가도': 1621, '가져다주다': 1622, '사탕': 1623, '발톱': 1624, '가두다': 1625, '가면': 1626, '이끌다': 1627, '즐기다': 1628, '해달라다': 1629, '재채기': 1630, '깨': 1631, '금지': 1632, '핀': 1633, '사연': 1634, '해치다': 1635, '겨': 1636, '무너지다': 1637, '교훈': 1638, '하곤': 1639, '일부': 1640, '지도': 1641, '전체': 1642, '보고서': 1643, '돌아다니다': 1644, '적히다': 1645, '부유하다': 1646, '괜찮다': 1647, '표현': 1648, '약': 1649, '곧바로': 1650, '펼치다': 1651, '몫': 1652, '거만하다': 1653, '붙잡다': 1654, '대구': 1655, '죄': 1656, '얼룩': 1657, '흩다': 1658, '일랑은': 1659, '천정': 1660, '가요': 1661, '계란': 1662, '부딪히다': 1663, '거북': 1664, '구름': 1665, '간신히': 1666, '위대하다': 1667, '맨': 1668, '보답': 1669, '재빨리': 1670, '진실로': 1671, '간절하다': 1672, '꾹': 1673, '벌리다': 1674, '상추': 1675, '선고': 1676, '당': 1677, '원님': 1678, '들려주다': 1679, '마마': 1680, '받치다': 1681, '불행하다': 1682, '스레': 1683, '겨울': 1684, '공간': 1685, '미끄러지다': 1686, '절망': 1687, '황소': 1688, '궁': 1689, '로서': 1690, '맛보다': 1691, '인가요': 1692, '천천히': 1693, '그물': 1694, '뿔': 1695, '행렬': 1696, '따로': 1697, '변신': 1698, '며칠': 1699, '언제': 1700, '정원사': 1701, '쇠': 1702, '칼': 1703, '품다': 1704, '짓': 1705, '재주': 1706, '낼': 1707, '질': 1708, '재밌다': 1709, '인걸': 1710, '물어': 1711, '낫다': 1712, '가져가다': 1713, '땔감': 1714, '앉은뱅이': 1715, '시기': 1716, '말르다': 1717, '각자': 1718, '벌컥': 1719, '기회': 1720, '지나': 1721, '혹': 1722, '넘치다': 1723, '기대다': 1724, '기억': 1725, '뻐꾸기': 1726, '이어지다': 1727, '매우': 1728, '가야': 1729, '파다': 1730, '야생': 1731, '홍학': 1732, '젬': 1733, '산아': 1734, '만들어지다': 1735, '칭찬': 1736, '전나무': 1737, '깨지다': 1738, '이냐': 1739, '공중': 1740, '도망가다': 1741, '서둘다': 1742, '짧다': 1743, '몽둥이': 1744, '자의': 1745, '이웃': 1746, '저녁식사': 1747, '삼다': 1748, '배다': 1749, '익다': 1750, '속도': 1751, '휙': 1752, '맺다': 1753, '기울이다': 1754, '복종': 1755, '시르다': 1756, '지혜': 1757, '공이': 1758, '석탄': 1759, '귀족': 1760, '어렵다': 1761, '게임': 1762, '가라앉다': 1763, '으론': 1764, '순식간': 1765, '이따금': 1766, '날아오다': 1767, '거듭': 1768, '려고': 1769, '불편하다': 1770, '들르다': 1771, '뛰어들다': 1772, '소금': 1773, '활짝': 1774, '양쪽': 1775, '들어주다': 1776, '빼기': 1777, '관리': 1778, '프랑스': 1779, '물의': 1780, '찢다': 1781, '파이': 1782, '두운': 1783, '햇살': 1784, '한시': 1785, '햇볕': 1786, '고민': 1787, '하리': 1788, '밝혀지다': 1789, '보라': 1790, '틀리다': 1791, '동정녀': 1792, '거울': 1793, '다짐': 1794, '소릴': 1795, '삶': 1796, '조언': 1797, '편': 1798, '차분하다': 1799, '시험': 1800, '건네주다': 1801, '허사': 1802, '찢어지다': 1803, '재우다': 1804, '의도': 1805, '늘': 1806, '잃어버리다': 1807, '기대': 1808, '빠뜨리다': 1809, '냄비': 1810, '셋': 1811, '수북이': 1812, '젖다': 1813, '놓아두다': 1814, '드릴': 1815, '끼어들다': 1816, '웬': 1817, '없어지다': 1818, '궁금하다': 1819, '지난': 1820, '크로케': 1821, '회색': 1822, '바뀌다': 1823, '내기': 1824, '밭고랑': 1825, '옳다': 1826, '자라': 1827, '오리가': 1828, '잡': 1829, '불리다': 1830, '수만': 1831, '지고': 1832, '먼지': 1833, '족제비': 1834, '시합': 1835, '심부름': 1836, '충실하다': 1837, '안전하다': 1838, '박히다': 1839, '행복': 1840, '푼': 1841, '이라는': 1842, '다치다': 1843, '그로': 1844, '가엾다': 1845, '보아': 1846, '미터': 1847, '사정없이': 1848, '연인': 1849, '내쉬다': 1850, '달리': 1851, '미인': 1852, '쑥': 1853, '시장': 1854, '상심': 1855, '이틀': 1856, '불쑥': 1857, '깊이': 1858, '건초': 1859, '라네': 1860, '당기다': 1861, '밝히다': 1862, '땅바닥': 1863, '팔꿈치': 1864, '그야': 1865, '조차도': 1866, '사또': 1867, '웰레': 1868, '매력': 1869, '래지': 1870, '금빛': 1871, '이빨': 1872, '하라': 1873, '학교': 1874, '아끼다': 1875, '망부석': 1876, '확신': 1877, '또다시': 1878, '마침': 1879, '가기': 1880, '청소': 1881, '금고': 1882, '숙이다': 1883, '묶음': 1884, '군대': 1885, '스프': 1886, '치면': 1887, '먹이': 1888, '끊다': 1889, '건드리다': 1890, '메리': 1891, '반짝': 1892, '아마도': 1893, '이불': 1894, '내쫓다': 1895, '빼': 1896, '큰소리': 1897, '망': 1898, '발걸음': 1899, '참말': 1900, '휴식': 1901, '부족하다': 1902, '올려놓다': 1903, '놀리다': 1904, '꾸다': 1905, '맑은': 1906, '비우다': 1907, '탐욕': 1908, '가볍다': 1909, '톡': 1910, '깨끗하다': 1911, '똑같이': 1912, '재': 1913, '몸소': 1914, '그치다': 1915, '메이': 1916, '와장창': 1917, '정심': 1918, '주어': 1919, '별로': 1920, '불가능하다': 1921, '냄새': 1922, '두려움': 1923, '선생님': 1924, '월계수': 1925, '컵': 1926, '서도': 1927, '벌이': 1928, '눈길': 1929, '내뱉다': 1930, '골무': 1931, '막다': 1932, '표': 1933, '트리': 1934, '물속': 1935, '이루어지다': 1936, '보수': 1937, '지는': 1938, '이쁘다': 1939, '매다': 1940, '달콤하다': 1941, '띄다': 1942, '과일': 1943, '축복': 1944, '날씨': 1945, '색': 1946, '층': 1947, '울음소리': 1948, '바쁘다': 1949, '자가': 1950, '잭': 1951, '혀': 1952, '왼쪽': 1953, '거행': 1954, '이브': 1955, '무럭무럭': 1956, '완벽하다': 1957, '간단하다': 1958, '말리': 1959, '오른쪽': 1960, '세우다': 1961, '으로도': 1962, '조건': 1963, '시야': 1964, '쫓아가다': 1965, '전쟁': 1966, '가능하다': 1967, '성채': 1968, '인상': 1969, '언': 1970, '남성': 1971, '말리다': 1972, '결론': 1973, '절': 1974, '멋지다': 1975, '태도': 1976, '꼼짝': 1977, '막내아들': 1978, '마련': 1979, '둥지': 1980, '기절': 1981, '불가': 1982, '집안': 1983, '비다': 1984, '단어': 1985, '살피다': 1986, '저쪽': 1987, '포옹': 1988, '퍼지다': 1989, '무례하다': 1990, '뛰어내리다': 1991, '두르다': 1992, '도저히': 1993, '조약돌': 1994, '용감하다': 1995, '깊숙이': 1996, '편하다': 1997, '사내': 1998, '라임': 1999, '따라가다': 2000, '여하튼': 2001, '초상화': 2002, '시신': 2003, '적당하다': 2004, '차지': 2005, '의사': 2006, '포기': 2007, '부리다': 2008, '연': 2009, '든지': 2010, '인도': 2011, '어른': 2012, '미소': 2013, '반대쪽': 2014, '미모': 2015, '무리': 2016, '부정': 2017, '아우성': 2018, '웃음': 2019, '그나저나': 2020, '하룻밤': 2021, '켜다': 2022, '터지다': 2023, '지니': 2024, '새벽': 2025, '외투': 2026, '움직': 2027, '마구간': 2028, '더미': 2029, '송이': 2030, '모': 2031, '일으키다': 2032, '보름달': 2033, '그나마': 2034, '시루': 2035, '반대': 2036, '성공하다': 2037, '이루다': 2038, '붙들다': 2039, '빨': 2040, '당연하다': 2041, '여름': 2042, '딸기': 2043, '넓다': 2044, '하나로': 2045, '메뚜기': 2046, '전부': 2047, '심장': 2048, '물결': 2049, '총': 2050, '쌓이다': 2051, '창': 2052, '아깝다': 2053, '꾸미다': 2054, '평생': 2055, '자매': 2056, '합창': 2057, '발언': 2058, '넘어가다': 2059, '전해': 2060, '나아': 2061, '황야': 2062, '집행': 2063, '이따': 2064, '푹': 2065, '살아나다': 2066, '허겁지겁': 2067, '초': 2068, '실수': 2069, '그랬더니': 2070, '밀짚': 2071, '몽땅': 2072, '수업': 2073, '깔다': 2074, '매': 2075, '베개': 2076, '장사': 2077, '찬란하다': 2078, '이면': 2079, '후춧가루': 2080, '로운': 2081, '칠': 2082, '리가': 2083, '호': 2084, '반면': 2085, '장이': 2086, '올려다보다': 2087, '기묘하다': 2088, '바늘': 2089, '헷갈리다': 2090, '제일': 2091, '저절로': 2092, '알리다': 2093, '두목': 2094, '해마': 2095, '경기': 2096, '위치': 2097, '그토록': 2098, '갈망': 2099, '잔인하다': 2100, '우아하다': 2101, '공손하다': 2102, '바치다': 2103, '속삭이다': 2104, '확인': 2105, '얼씨구': 2106, '성격': 2107, '영혼': 2108, '공사': 2109, '묻히다': 2110, '깜깜': 2111, '뚝뚝': 2112, '즉': 2113, '왕족': 2114, '굽다': 2115, '벙어리': 2116, '채다': 2117, '저런': 2118, '우울하다': 2119, '눈앞': 2120, '닦이다': 2121, '큰딸': 2122, '막내딸': 2123, '돋다': 2124, '완성': 2125, '엿보다': 2126, '이의': 2127, '닉세': 2128, '아뿔싸': 2129, '다이아몬드': 2130, '장난': 2131, '여자애': 2132, '번만': 2133, '줄이다': 2134, '잽싸다': 2135, '기만': 2136, '간청': 2137, '소유자': 2138, '하마터면': 2139, '갚다': 2140, '허리': 2141, '탄식': 2142, '망원경': 2143, '지체': 2144, '까먹다': 2145, '되찾다': 2146, '여기저기': 2147, '살아가다': 2148, '하인츠': 2149, '판': 2150, '걷어차다': 2151, '피다': 2152, '작업': 2153, '힘드다': 2154, '땀': 2155, '잠자리': 2156, '렀': 2157, '거렸': 2158, '해대': 2159, '제지': 2160, '기니피그': 2161, '산다': 2162, '기름': 2163, '고프다': 2164, '스푼': 2165, '악당': 2166, '신경': 2167, '고치다': 2168, '실패하다': 2169, '휘두르다': 2170, '학': 2171, '아쉽다': 2172, '순례': 2173, '불평': 2174, '계획': 2175, '따님': 2176, '갈라지다': 2177, '짚': 2178, '자빠지다': 2179, '엎드리다': 2180, '모퉁이': 2181, '에만': 2182, '부러': 2183, '착각': 2184, '주일': 2185, '당밀': 2186, '올라타다': 2187, '아시': 2188, '낮': 2189, '아바마마': 2190, '해선': 2191, '한동안': 2192, '두둑': 2193, '암': 2194, '우기다': 2195, '잡히다': 2196, '지기': 2197, '알아차리다': 2198, '방이': 2199, '슈트': 2200, '펄쩍': 2201, '둥이': 2202, '매달다': 2203, '이군': 2204, '생': 2205, '분수': 2206, '도시': 2207, '물건': 2208, '재판관': 2209, '산산조각': 2210, '들뜨다': 2211, '오시': 2212, '랍': 2213, '죽지': 2214, '풀리다': 2215, '솟구치다': 2216, '마주치다': 2217, '설교': 2218, '셋째': 2219, '지금껏': 2220, '빗': 2221, '비탄': 2222, '반하다': 2223, '마중': 2224, '돕다': 2225, '꿈쩍': 2226, '화사하다': 2227, '이자': 2228, '작정': 2229, '그딴': 2230, '달팽이': 2231, '불길': 2232, '베풀다': 2233, '시늉': 2234, '점심': 2235, '감정': 2236, '이루': 2237, '손수레': 2238, '빨래': 2239, '거머': 2240, '구렁이': 2241, '현관문': 2242, '부여잡다': 2243, '메': 2244, '속임수': 2245, '도살업': 2246, '가운': 2247, '팔자': 2248, '통째': 2249, '고생': 2250, '열두': 2251, '숙녀': 2252, '샘물': 2253, '부디': 2254, '지상': 2255, '마자': 2256, '낫': 2257, '시어': 2258, '권': 2259, '살며시': 2260, '분도': 2261, '범인': 2262, '적도': 2263, '잠잠하다': 2264, '돌려주다': 2265, '친절하다': 2266, '누르다': 2267, '선하다': 2268, '거랍니': 2269, '등등': 2270, '소중하다': 2271, '양동이': 2272, '복수': 2273, '아부지': 2274, '진': 2275, '쟁기': 2276, '핏자국': 2277, '쬐다': 2278, '안고': 2279, '얼다': 2280, '치유': 2281, '제외': 2282, '표시': 2283, '흥부': 2284, '번쩍': 2285, '쏟다': 2286, '카드': 2287, '오기': 2288, '이구나': 2289, '귀찮다': 2290, '밤낮': 2291, '밤늦다': 2292, '소란': 2293, '멍하니': 2294, '세수': 2295, '연신': 2296, '아홉': 2297, '조롱': 2298, '오래전': 2299, '패': 2300, '이세': 2301, '오후': 2302, '모루': 2303, '바가지': 2304, '기어이': 2305, '멍청하다': 2306, '선반': 2307, '캐': 2308, '감탄': 2309, '이슬': 2310, '이거지': 2311, '도울': 2312, '노력': 2313, '그땐': 2314, '발설': 2315, '새기다': 2316, '비비': 2317, '골대': 2318, '경기장': 2319, '벗겨지다': 2320, '위엔': 2321, '친': 2322, '지지': 2323, '건너': 2324, '신선하다': 2325, '썩다': 2326, '데우다': 2327, '연필': 2328, '찾아내다': 2329, '신의': 2330, '연하다': 2331, '감사하다': 2332, '어느새다': 2333, '슬쩍': 2334, '멀쩡하다': 2335, '판사': 2336, '철제': 2337, '권리': 2338, '얻어맞다': 2339, '고백': 2340, '경멸': 2341, '어딜': 2342, '바삐': 2343, '비치다': 2344, '꾸준하다': 2345, '복': 2346, '에서야': 2347, '체셔': 2348, '은혜': 2349, '찔리다': 2350, '신기다': 2351, '임': 2352, '접다': 2353, '찻잔': 2354, '가축': 2355, '이웃집': 2356, '어머': 2357, '프랑스어': 2358, '다짜고짜': 2359, '움켜잡다': 2360, '배부르다': 2361, '모험': 2362, '스르르': 2363, '공기': 2364, '세차': 2365, '호박': 2366, '조각상': 2367, '고르다': 2368, '온화하다': 2369, '치즈': 2370, '양식': 2371, '주신': 2372, '사람과': 2373, '성의': 2374, '여서': 2375, '당당하다': 2376, '주머니': 2377, '와의': 2378, '싸다': 2379, '쫓아내다': 2380, '밤새': 2381, '곱다': 2382, '거짓말': 2383, '주마': 2384, '어마': 2385, '그러하다': 2386, '농담': 2387, '다스리다': 2388, '젖히다': 2389, '부엉이': 2390, '어머나': 2391, '계시': 2392, '방안': 2393, '가세': 2394, '선포': 2395, '걸세': 2396, '미처': 2397, '가락': 2398, '케이스': 2399, '똑똑하다': 2400, '톡톡': 2401, '사신': 2402, '경주': 2403, '구둣방': 2404, '진행': 2405, '듣기': 2406, '적어도': 2407, '보더': 2408, '킬로그램': 2409, '노랫소리': 2410, '여편네': 2411, '앞서': 2412, '괴롭다': 2413, '인지도': 2414, '해결': 2415, '여덟': 2416, '두껍다': 2417, '소린': 2418, '큼직하다': 2419, '놓치다': 2420, '흰색': 2421, '끼리': 2422, '수천': 2423, '가루': 2424, '욕': 2425, '롬': 2426, '베르크': 2427, '반갑다': 2428, '차례대로': 2429, '유일하다': 2430, '유모': 2431, '더하다': 2432, '교수형': 2433, '물담뱃대': 2434, '가방': 2435, '오랜': 2436, '부스러기': 2437, '돌아서다': 2438, '쿵': 2439, '여간': 2440, '똑똑': 2441, '형상': 2442, '주먹': 2443, '사고': 2444, '거뜬하다': 2445, '앗': 2446, '께서는': 2447, '기슭': 2448, '아뢰다': 2449, '하품': 2450, '멀어지다': 2451, '인생': 2452, '해봤다': 2453, '세월': 2454, '일요일': 2455, '맷돌': 2456, '펑펑': 2457, '다녀가다': 2458, '오만': 2459, '절반': 2460, '가을': 2461, '주렁주렁': 2462, '복장': 2463, '최고급': 2464, '갈색': 2465, '식량': 2466, '보다도': 2467, '뛰어오르다': 2468, '좋아지다': 2469, '조': 2470, '랍니': 2471, '부루퉁하다': 2472, '가시나무': 2473, '붙이': 2474, '밉다': 2475, '맡기다': 2476, '끌리다': 2477, '거절': 2478, '붙잡히다': 2479, '되돌아오다': 2480, '창백하다': 2481, '건강': 2482, '수고': 2483, '째다': 2484, '근심': 2485, '절굿': 2486, '포대자루': 2487, '매번': 2488, '커튼': 2489, '산들바람': 2490, '와우': 2491, '이기': 2492, '기간': 2493, '오래되다': 2494, '동산': 2495, '스런': 2496, '분간': 2497, '과연': 2498, '박다': 2499, '정': 2500, '데이': 2501, '미리': 2502, '도망': 2503, '엄숙하다': 2504, '상하': 2505, '와도': 2506, '패트': 2507, '절구통': 2508, '책상': 2509, '글씨': 2510, '섞이다': 2511, '언제나': 2512, '심해': 2513, '즐거움': 2514, '증명': 2515, '가위': 2516, '여성': 2517, '지나치다': 2518, '석': 2519, '휘파람': 2520, '시끄럽다': 2521, '잔소리': 2522, '밀려오다': 2523, '또는': 2524, '게요': 2525, '장작': 2526, '환하다': 2527, '똑': 2528, '춥다': 2529, '찌르다': 2530, '부축': 2531, '싫어하다': 2532, '차마': 2533, '전날': 2534, '물러나다': 2535, '별반': 2536, '마저도': 2537, '가만히': 2538, '가사': 2539, '는걸': 2540, '쉿': 2541, '토론': 2542, '내겐': 2543, '취하': 2544, '직전': 2545, '곱하기': 2546, '고리': 2547, '이전': 2548, '목초지': 2549, '휘': 2550, '경이': 2551, '이보': 2552, '덜': 2553, '바르게': 2554, '촛불': 2555, '구나': 2556, '모자라': 2557, '반드시': 2558, '깃점': 2559, '넘기다': 2560, '증오': 2561, '한마디': 2562, '재차': 2563, '농가': 2564, '본래': 2565, '목욕': 2566, '무사하다': 2567, '흔적': 2568, '부리': 2569, '장점': 2570, '뚱뚱하다': 2571, '수습': 2572, '진기하다': 2573, '글자': 2574, '만큼의': 2575, '순금': 2576, '에나': 2577, '덮이다': 2578, '척척': 2579, '솜씨': 2580, '어쩌': 2581, '오오': 2582, '평화': 2583, '궤짝': 2584, '바램': 2585, '악기': 2586, '성은': 2587, '정복': 2588, '제물': 2589, '빗장': 2590, '노': 2591, '고귀하다': 2592, '놀랍다': 2593, '충격': 2594, '사건': 2595, '모자라다': 2596, '주둥이': 2597, '안녕하다': 2598, '자비': 2599, '하든': 2600, '위험하다': 2601, '젖소': 2602, '레테': 2603, '선사': 2604, '가족': 2605, '꿀꿀': 2606, '펼쳐지다': 2607, '구실': 2608, '감고': 2609, '무식하다': 2610, '살이': 2611, '인양': 2612, '린': 2613, '갈기갈기': 2614, '휘둥그레지다': 2615, '구부리다': 2616, '달아오르다': 2617, '깽': 2618, '예리하다': 2619, '응당': 2620, '상당하다': 2621, '묵직하다': 2622, '목동': 2623, '빗다': 2624, '로마': 2625, '돌진': 2626, '증거': 2627, '머뭇거리다': 2628, '눈꺼풀': 2629, '똥': 2630, '일시': 2631, '모여들다': 2632, '달라붙다': 2633, '예정': 2634, '일어서다': 2635, '내주다': 2636, '로만': 2637, '첨벙': 2638, '와중': 2639, '자넨': 2640, '채운': 2641, '구걸': 2642, '산책': 2643, '임금님': 2644, '자유롭다': 2645, '설득': 2646, '찰': 2647, '얼마만큼': 2648, '꽁꽁': 2649, '지하': 2650, '정오': 2651, '턱수염': 2652, '창가': 2653, '새총': 2654, '십': 2655, '담그다': 2656, '어따': 2657, '봄': 2658, '충심': 2659, '겸손하다': 2660, '도리': 2661, '대지': 2662, '연로': 2663, '주기': 2664, '장애물': 2665, '호통': 2666, '납작': 2667, '희한하다': 2668, '꽂다': 2669, '일지': 2670, '수레바퀴': 2671, '투성이': 2672, '쇠사슬': 2673, '잠그다': 2674, '함': 2675, '반기': 2676, '비슷하다': 2677, '창고': 2678, '람': 2679, '쪼개다': 2680, '살기': 2681, '외출': 2682, '여쭈다': 2683, '병아리': 2684, '평결': 2685, '추가': 2686, '우물가': 2687, '가지런하다': 2688, '아낙': 2689, '닢': 2690, '고소하다': 2691, '드디어': 2692, '익숙해지다': 2693, '사형수': 2694, '차갑다': 2695, '라일락': 2696, '용의': 2697, '포도': 2698, '초록색': 2699, '강력하다': 2700, '별안간': 2701, '틀림없다': 2702, '흠뻑': 2703, '오로라': 2704, '자그마치': 2705, '천만': 2706, '맏': 2707, '곧이어': 2708, '헤치다': 2709, '작': 2710, '회초리': 2711, '방도': 2712, '솔직하다': 2713, '과는': 2714, '곯다': 2715, '조차': 2716, '누군데': 2717, '자초지종': 2718, '대략': 2719, '공격': 2720, '마누라': 2721, '포근하다': 2722, '풍덩': 2723, '위쪽': 2724, '팔짱': 2725, '떡하니': 2726, '수행원': 2727, '바깥': 2728, '안심': 2729, '갈고': 2730, '꿍꿍': 2731, '돌이': 2732, '늪': 2733, '높이다': 2734, '굉음': 2735, '완전': 2736, '계세': 2737, '골': 2738, '재미': 2739, '코지': 2740, '머무르다': 2741, '빙빙': 2742, '시가': 2743, '시절': 2744, '곱슬머리': 2745, '앓다': 2746, '거부': 2747, '저건': 2748, '까지도': 2749, '화염': 2750, '안마당': 2751, '마음속': 2752, '갖추다': 2753, '한데': 2754, '구한': 2755, '창피하다': 2756, '샛길': 2757, '자락': 2758, '규칙': 2759, '이쯤': 2760, '부서지다': 2761, '가리다': 2762, '시종': 2763, '소심하다': 2764, '강풍': 2765, '보살피다': 2766, '웅장': 2767, '매년': 2768, '분노': 2769, '오른': 2770, '건너편': 2771, '이탈리아': 2772, '허무맹랑': 2773, '동이': 2774, '주장': 2775, '론': 2776, '손살': 2777, '깔리다': 2778, '좌': 2779, '댕강': 2780, '황무지': 2781, '주저앉다': 2782, '주민': 2783, '하트': 2784, '다과회': 2785, '최대한': 2786, '피해': 2787, '푸우': 2788, '쥐덫': 2789, '독사': 2790, '이랑': 2791, '팔다리': 2792, '건물': 2793, '헤매다': 2794, '존': 2795, '핫케이크': 2796, '보관': 2797, '만족스럽다': 2798, '찾기': 2799, '자세': 2800, '차츰': 2801, '황새': 2802, '중이': 2803, '오늘밤': 2804, '경': 2805, '팔팔하다': 2806, '나아지다': 2807, '이겠다': 2808, '바퀴': 2809, '덮개': 2810, '움큼': 2811, '개수': 2812, '면서': 2813, '브랜디': 2814, '수영': 2815, '발끝': 2816, '불쾌하다': 2817, '철': 2818, '먹기': 2819, '의붓딸': 2820, '애정': 2821, '전속력': 2822, '지옥': 2823, '은빛': 2824, '무시무시하다': 2825, '지워지다': 2826, '빛깔': 2827, '보리': 2828, '도우': 2829, '찬': 2830, '씩씩하다': 2831, '장모님': 2832, '해안가': 2833, '제우스': 2834, '가깝다': 2835, '애쓰다': 2836, '특별하다': 2837, '원숭이': 2838, '분별이': 2839, '비참하다': 2840, '편안하다': 2841, '류트': 2842, '귀가': 2843, '달싹': 2844, '퍼': 2845, '내다보다': 2846, '미안하다': 2847, '기술': 2848, '다루다': 2849, '낚아채다': 2850, '자꾸': 2851, '털다': 2852, '보': 2853, '전보': 2854, '어둡다': 2855, '식칼': 2856, '신어': 2857, '친애하다': 2858, '때때로': 2859, '덫': 2860, '치르다': 2861, '아드님': 2862, '새까맣다': 2863, '충고': 2864, '나날이': 2865, '걷기': 2866, '모래': 2867, '잔치': 2868, '애기': 2869, '독극물': 2870, '놀': 2871, '처지': 2872, '낡다': 2873, '권총': 2874, '각종': 2875, '궁궐': 2876, '골똘히': 2877, '밖엔': 2878, '상한': 2879, '낯설다': 2880, '보호': 2881, '멍': 2882, '오자': 2883, '씨앗': 2884, '휘황': 2885, '이르렀': 2886, '있었더랬': 2887, '재촉': 2888, '딸아': 2889, '시각': 2890, '똑바로': 2891, '주리': 2892, '되게': 2893, '벽난로': 2894, '비싸다': 2895, '빠져들다': 2896, '표범': 2897, '포': 2898, '요즘': 2899, '스러운': 2900, '선택': 2901, '경고': 2902, '환호성': 2903, '낚시': 2904, '정답': 2905, '다양하다': 2906, '빗어주다': 2907, '한사코': 2908, '간장': 2909, '위층': 2910, '개구쟁이': 2911, '해나': 2912, '권하다': 2913, '추측': 2914, '더구나': 2915, '대단하다': 2916, '돛': 2917, '이어서': 2918, '뽐내다': 2919, '기대하다': 2920, '둘러싸이다': 2921, '지도자': 2922, '재물': 2923, '영': 2924, '어차피': 2925, '임금': 2926, '조그만': 2927, '물르다': 2928, '시궁창': 2929, '삭': 2930, '자구': 2931, '판자': 2932, '합당': 2933, '누울': 2934, '쑤시다': 2935, '삶다': 2936, '한두': 2937, '창밖': 2938, '덜커덕': 2939, '부의': 2940, '파묻다': 2941, '왈칵': 2942, '그림자': 2943, '그깟': 2944, '보상': 2945, '후회': 2946, '막대': 2947, '사촌동생': 2948, '기억나다': 2949, '지식': 2950, '수면': 2951, '확고하다': 2952, '가나': 2953, '만난': 2954, '실제': 2955, '뼈': 2956, '감명': 2957, '굽히다': 2958, '따라잡다': 2959, '쪼': 2960, '되돌아가다': 2961, '소스': 2962, '다정하다': 2963, '반짝반짝하다': 2964, '경주로': 2965, '달이': 2966, '문장': 2967, '어나': 2968, '뒷발': 2969, '민첩하다': 2970, '생기': 2971, '신앙심': 2972, '버티다': 2973, '돌멩이': 2974, '대들보': 2975, '가정': 2976, '신호': 2977, '바스락': 2978, '흐': 2979, '돌고래': 2980, '순수하다': 2981, '넘어서다': 2982, '육지': 2983, '항해': 2984, '드넓다': 2985, '땋': 2986, '합의': 2987, '난처하다': 2988, '살금살금': 2989, '잠결': 2990, '특정하다': 2991, '되살리다': 2992, '안식처': 2993, '의원': 2994, '문지기': 2995, '고무줄': 2996, '공포': 2997, '인식': 2998, '무시': 2999, '분별': 3000, '만의': 3001, '드리우다': 3002, '추위': 3003, '창조': 3004, '의식': 3005, '대령': 3006, '인즉슨': 3007, '한가운데': 3008, '뭣': 3009, '빨다': 3010, '갈기': 3011, '웅덩이': 3012, '친절': 3013, '깨닫다': 3014, '꽉': 3015, '열망': 3016, '여념': 3017, '꼬집다': 3018, '종달새': 3019, '상대': 3020, '외치': 3021, '말끔히': 3022, '구경': 3023, '저물다': 3024, '긴요': 3025, '에구머니': 3026, '발생': 3027, '분부': 3028, '쪼개지다': 3029, '화창하다': 3030, '활동': 3031, '떨치다': 3032, '왼손': 3033, '깔끔하다': 3034, '회복': 3035, '안경': 3036, '처리': 3037, '입술': 3038, '워': 3039, '트럼펫': 3040, '래야': 3041, '해치': 3042, '약하다': 3043, '겨자': 3044, '몰려오다': 3045, '분통': 3046, '누리다': 3047, '플루트': 3048, '조끼': 3049, '발짝': 3050, '한밤중': 3051, '요람': 3052, '독': 3053, '얼': 3054, '보지': 3055, '바치': 3056, '오이': 3057, '온실': 3058, '숲속': 3059, '만치': 3060, '당시': 3061, '동행': 3062, '인하다': 3063, '살림': 3064, '얘길': 3065, '심': 3066, '말문': 3067, '일꾼': 3068, '거래': 3069, '스치다': 3070, '강둑': 3071, '행여': 3072, '개암나무': 3073, '못내': 3074, '거구': 3075, '벌다': 3076, '짊어지': 3077, '어쩐': 3078, '윗': 3079, '부탁드리다': 3080, '농작물': 3081, '외딴': 3082, '소환': 3083, '느닷없다': 3084, '까지만': 3085, '분위기': 3086, '치기': 3087, '두더지': 3088, '게으름뱅이': 3089, '소금물': 3090, '탈': 3091, '마무리': 3092, '전갈': 3093, '오거': 3094, '동료': 3095, '일렬': 3096, '도리어': 3097, '아둔하다': 3098, '의견': 3099, '안달': 3100, '희망': 3101, '부풀다': 3102, '꿀맛': 3103, '날쌔': 3104, '백성': 3105, '건달': 3106, '묵고': 3107, '얇다': 3108, '뚫다': 3109, '드르렁': 3110, '얼음': 3111, '틀다': 3112, '쌍둥이': 3113, '뒷마당': 3114, '솥': 3115, '헨리': 3116, '힐': 3117, '산꼭대기': 3118, '알맞다': 3119, '인척': 3120, '가다듬다': 3121, '띠': 3122, '더랬': 3123, '어머님': 3124, '에메랄드': 3125, '부채질': 3126, '시렁': 3127, '또닥또닥': 3128, '물살': 3129, '잠자코': 3130, '교활하다': 3131, '반짝반짝': 3132, '묵': 3133, '만지다': 3134, '더럽다': 3135, '생난리': 3136, '툭': 3137, '년도': 3138, '숯': 3139, '재미나': 3140, '요청': 3141, '둑스': 3142, '풍': 3143, '왕궁': 3144, '틈새': 3145, '엘': 3146, '만세': 3147, '힘없다': 3148, '게으름': 3149, '재빠르다': 3150, '아이든': 3151, '누더기': 3152, '절뚝': 3153, '충성': 3154, '멧돼지': 3155, '먹여주다': 3156, '내딛다': 3157, '폭발': 3158, '메아리': 3159, '뜸': 3160, '미녀': 3161, '방만': 3162, '안기다': 3163, '몰골': 3164, '만이라도': 3165, '정리': 3166, '반복': 3167, '기사': 3168, '꽃들이': 3169, '실없다': 3170, '반짝이다': 3171, '엉겅퀴': 3172, '쏟아지다': 3173, '총명하다': 3174, '알아맞히다': 3175, '잔득': 3176, '부츠': 3177, '사주다': 3178, '소상하다': 3179, '여름철': 3180, '모락모락': 3181, '테로': 3182, '물병': 3183, '문지방': 3184, '정직하다': 3185, '대리석': 3186, '제기': 3187, '옥수수': 3188, '열기': 3189, '만원': 3190, '도랑': 3191, '질병': 3192, '라니': 3193, '화환': 3194, '거닐다': 3195, '안뜰': 3196, '실력': 3197, '찬장': 3198, '햇빛': 3199, '죄송하다': 3200, '결정': 3201, '분과': 3202, '약해지다': 3203, '팔이': 3204, '고는': 3205, '떠올리다': 3206, '가끔': 3207, '강인하다': 3208, '후려': 3209, '빗질': 3210, '합류': 3211, '추격': 3212, '벌벌': 3213, '일자리': 3214, '조마조마하다': 3215, '이만': 3216, '굉장하다': 3217, '탈출': 3218, '고정': 3219, '일어나며': 3220, '파': 3221, '내용': 3222, '지탱': 3223, '애원': 3224, '김': 3225, '라인': 3226, '회복하다': 3227, '합치다': 3228, '민둥산': 3229, '마개': 3230, '설치': 3231, '끓이다': 3232, '단체': 3233, '러': 3234, '오렌지': 3235, '집사': 3236, '한탄': 3237, '아담하다': 3238, '지경': 3239, '저승사자': 3240, '기선': 3241, '반도': 3242, '경탄': 3243, '열거': 3244, '최선': 3245, '셔츠': 3246, '조금씩': 3247, '유명하다': 3248, '딱하다': 3249, '세례': 3250, '아담': 3251, '노릇': 3252, '누리': 3253, '복판': 3254, '쇼': 3255, '반창고': 3256, '슬슬': 3257, '뒤편': 3258, '역할': 3259, '께선': 3260, '값지다': 3261, '끌어안다': 3262, '힐끗': 3263, '갈수록': 3264, '가구': 3265, '벙긋': 3266, '어쩌려': 3267, '커서': 3268, '렸': 3269, '환상': 3270, '소음': 3271, '겪다': 3272, '북': 3273, '올려주다': 3274, '아래쪽': 3275, '무거워': 3276, '손수건': 3277, '냅다': 3278, '때론': 3279, '발라': 3280, '숫자': 3281, '낮선': 3282, '아낙네': 3283, '가까워지다': 3284, '설상가상': 3285, '처신': 3286, '들어맞다': 3287, '조그마하다': 3288, '결승': 3289, '비난': 3290, '성질': 3291, '보시': 3292, '풍수': 3293, '반대편': 3294, '위엄': 3295, '신중': 3296, '따지다': 3297, '자라나다': 3298, '부하': 3299, '유감': 3300, '판결': 3301, '푸다': 3302, '최악': 3303, '고향': 3304, '출몰': 3305, '일보': 3306, '세공품': 3307, '듬뿍': 3308, '영주': 3309, '쓰이다': 3310, '잡아먹히다': 3311, '속옷': 3312, '연회': 3313, '성주': 3314, '헤아리다': 3315, '자주': 3316, '염려': 3317, '신고': 3318, '군주': 3319, '주고받다': 3320, '전달': 3321, '느릿느릿': 3322, '보초': 3323, '지푸라기': 3324, '어울리다': 3325, '초조하다': 3326, '청아': 3327, '가공품': 3328, '언급': 3329, '오싹': 3330, '동요': 3331, '전해지다': 3332, '다녀오다': 3333, '올바르다': 3334, '희미하다': 3335, '반죽': 3336, '꼭지': 3337, '투덜거리다': 3338, '나이프': 3339, '와인': 3340, '고문': 3341, '빼앗기다': 3342, '뭍': 3343, '술병': 3344, '고서': 3345, '먹히다': 3346, '덥석': 3347, '노여움': 3348, '감각': 3349, '과도': 3350, '유쾌하다': 3351, '킥킥': 3352, '놋쇠': 3353, '악어': 3354, '마술': 3355, '더니': 3356, '요란하다': 3357, '나빠지다': 3358, '켤레': 3359, '휴일': 3360, '약초': 3361, '이파리': 3362, '먹고다': 3363, '아우': 3364, '친엄마': 3365, '급격하다': 3366, '안녕': 3367, '퓨리': 3368, '토지': 3369, '검정': 3370, '잎': 3371, '꾸짖다': 3372, '색시': 3373, '식기': 3374, '싸': 3375, '장식품': 3376, '덤불': 3377, '부담': 3378, '굶주리다': 3379, '어쩌지': 3380, '가로지르다': 3381, '목덜미': 3382, '유감스럽게': 3383, '뚱땡이': 3384, '피터': 3385, '고삐': 3386, '효과': 3387, '개울': 3388, '유유': 3389, '떠내려가다': 3390, '만큼만': 3391, '나비': 3392, '쫓기다': 3393, '부들부들': 3394, '리본': 3395, '질리다': 3396, '무게': 3397, '덤': 3398, '시장님': 3399, '눈부시다': 3400, '다가': 3401, '벌집': 3402, '볼품': 3403, '사리': 3404, '부지': 3405, '날짜': 3406, '백년': 3407, '뇨': 3408, '물똥': 3409, '갈대': 3410, '싱긋': 3411, '안전': 3412, '온당': 3413, '벨벳': 3414, '누운': 3415, '본인': 3416, '꼬락서니': 3417, '감기': 3418, '쐬다': 3419, '청혼': 3420, '재다': 3421, '바이': 3422, '캐다': 3423, '땀방울': 3424, '소나기': 3425, '빵가루': 3426, '회의': 3427, '기장': 3428, '야옹': 3429, '시체': 3430, '두개골': 3431, '볼링': 3432, '지독하다': 3433, '입지': 3434, '서툴다': 3435, '고래고래': 3436, '쟁반': 3437, '쨍그랑': 3438, '끽끽': 3439, '애처롭다': 3440, '잠도': 3441, '이동': 3442, '옥': 3443, '잣': 3444, '유지': 3445, '밀가루': 3446, '대기': 3447, '싣다': 3448, '위풍': 3449, '구별': 3450, '녹다': 3451, '분만': 3452, '까지의': 3453, '서든': 3454, '옆방': 3455, '꿀잠': 3456, '사례': 3457, '제겐': 3458, '저항': 3459, '식이': 3460, '할머님': 3461, '무례': 3462, '교육': 3463, '미덕': 3464, '덕': 3465, '파트너': 3466, '발작': 3467, '즉각': 3468, '어기다': 3469, '지요': 3470, '리지': 3471, '겨울철': 3472, '로움': 3473, '희생': 3474, '적절하다': 3475, '살피': 3476, '파멸': 3477, '끊어지다': 3478, '만일': 3479, '가선': 3480, '활': 3481, '지라': 3482, '노랫가락': 3483, '지불': 3484, '이러하다': 3485, '경악': 3486, '작대기': 3487, '천하다': 3488, '대번에': 3489, '깨나': 3490, '고얀': 3491, '맙소사': 3492, '침대시트': 3493, '정숙': 3494, '부당하다': 3495, '욕망': 3496, '곰곰': 3497, '밀고': 3498, '각각': 3499, '리자': 3500, '울적하다': 3501, '산들': 3502, '급': 3503, '교수대': 3504, '늘어서다': 3505, '통나무': 3506, '키도': 3507, '애걸': 3508, '복걸': 3509, '치의': 3510, '걱정스럽다': 3511, '툭툭': 3512, '명성': 3513, '힐데브란트': 3514, '오두막집': 3515, '대개': 3516, '보따리': 3517, '웃기': 3518, '두루': 3519, '만찬': 3520, '라고만': 3521, '눈망울': 3522, '무수': 3523, '백합꽃': 3524, '실행': 3525, '사태': 3526, '칠흑': 3527, '맑다': 3528, '상쾌하다': 3529, '눈송이': 3530, '식히다': 3531, '직업': 3532, '영문': 3533, '꾼': 3534, '려무나': 3535, '껄껄': 3536, '해방': 3537, '꾀': 3538, '취한': 3539, '악의': 3540, '동무': 3541, '조치': 3542, '방지': 3543, '웃기다': 3544, '허풍': 3545, '답례': 3546, '게로': 3547, '버드나무': 3548, '새장': 3549, '수건': 3550, '차오르다': 3551, '엉터리': 3552, '심쿵하다': 3553, '성큼성큼': 3554, '질투': 3555, '한지': 3556, '황금별': 3557, '귓방망': 3558, '엉': 3559, '나팔': 3560, '양심': 3561, '늘어나다': 3562, '발아': 3563, '고단': 3564, '간다': 3565, '쓸모': 3566, '긁다': 3567, '에이': 3568, '내시': 3569, '가만두다': 3570, '왕좌': 3571, '본성': 3572, '둘러싸다': 3573, '들보': 3574, '손짓': 3575, '집밖': 3576, '외곽': 3577, '실컷': 3578, '그리움': 3579, '무': 3580, '뜨겁다': 3581, '품위': 3582, '쉰': 3583, '진정': 3584, '아슬아슬하다': 3585, '장엄하다': 3586, '불안하다': 3587, '참석': 3588, '뽑기': 3589, '통치': 3590, '이요': 3591, '멍멍': 3592, '상해': 3593, '출신': 3594, '하소연': 3595, '부족함': 3596, '하고도': 3597, '보화': 3598, '영웅': 3599, '우릴': 3600, '솟아오르다': 3601, '천둥': 3602, '트': 3603, '친오빠': 3604, '버려진': 3605, '짙다': 3606, '봄날': 3607, '동전': 3608, '어쩌다': 3609, '주군': 3610, '숙소': 3611, '제공': 3612, '부엉': 3613, '밤색': 3614, '으로만': 3615, '알리': 3616, '기지개': 3617, '심각하다': 3618, '뛰어넘다': 3619, '려': 3620, '인들': 3621, '헛수고': 3622, '낙엽': 3623, '쿨쿨': 3624, '멍청이': 3625, '동작': 3626, '어설프다': 3627, '소름': 3628, '일품': 3629, '물방울': 3630, '열병': 3631, '라니까': 3632, '헹구': 3633, '서자': 3634, '페인트': 3635, '날리다': 3636, '젊음': 3637, '상관없다': 3638, '여겨지다': 3639, '이글거리다': 3640, '작업복': 3641, '주름': 3642, '심해지다': 3643, '튀어': 3644, '팔로': 3645, '뱉다': 3646, '개골개골': 3647, '에서나': 3648, '세운': 3649, '맞은편': 3650, '두건': 3651, '영감': 3652, '자도': 3653, '끝내': 3654, '수백': 3655, '끄트머리': 3656, '지구': 3657, '아이디어': 3658, '강도': 3659, '질린다': 3660, '근사하다': 3661, '치명': 3662, '가든': 3663, '톤': 3664, '통닭': 3665, '임무': 3666, '오히려': 3667, '대머리': 3668, '처자': 3669, '별난': 3670, '비통하다': 3671, '가마': 3672, '덩이': 3673, '하였더랬': 3674, '개미': 3675, '그간': 3676, '가까스로': 3677, '실례': 3678, '알아채다': 3679, '휘감다': 3680, '망하다': 3681, '성하다': 3682, '시선': 3683, '잡아당기다': 3684, '사단': 3685, '장대': 3686, '텅': 3687, '방해': 3688, '쫓아오다': 3689, '나뭇잎': 3690, '예배당': 3691, '입구': 3692, '갈가리': 3693, '그늘': 3694, '일행': 3695, '두서너': 3696, '후다닥': 3697, '앞치마': 3698, '명도': 3699, '도통': 3700, '꾸러미': 3701, '자물쇠': 3702, '옷감': 3703, '진흙': 3704, '나은': 3705, '방랑': 3706, '유행': 3707, '최상급': 3708, '점지': 3709, '산지': 3710, '족속': 3711, '벌이다': 3712, '부위': 3713, '굴러가다': 3714, '살살': 3715, '풀잎': 3716, '차도': 3717, '차려': 3718, '따오다': 3719, '소동': 3720, '소도': 3721, '녀역': 3722, '루비': 3723, '귀하다': 3724, '피어': 3725, '틀림없이': 3726, '나가야': 3727, '부인': 3728, '꽤': 3729, '시어머니': 3730, '막상': 3731, '묶이다': 3732, '타오르다': 3733, '이딴': 3734, '연결하다': 3735, '틀': 3736, '공책': 3737, '껌껌하다': 3738, '전설': 3739, '얼싸안다': 3740, '정리정돈': 3741, '구불구불': 3742, '정장': 3743, '쪼그라들다': 3744, '찌다': 3745, '지은': 3746, '존재': 3747, '법칙': 3748, '불어오다': 3749, '뱃속': 3750, '살인자': 3751, '와들와들': 3752, '피부': 3753, '재혼': 3754, '동강': 3755, '기이하다': 3756, '낭비하다': 3757, '옷장': 3758, '비교': 3759, '전령': 3760, '얻어먹다': 3761, '나란하다': 3762, '여행객': 3763, '보구': 3764, '어마어마하다': 3765, '가르랑거리다': 3766, '박살': 3767, '마주': 3768, '헐떡이다': 3769, '누나': 3770, '괜히': 3771, '등짝': 3772, '가령': 3773, '재능': 3774, '의지': 3775, '넘어오다': 3776, '전의': 3777, '덩': 3778, '물리': 3779, '베짱이': 3780, '고작': 3781, '예견': 3782, '저만': 3783, '주전자': 3784, '움켜쥐다': 3785, '렌츠': 3786, '비열하다': 3787, '논쟁': 3788, '몸통': 3789, '사형선고': 3790, '기자': 3791, '행사': 3792, '지속': 3793, '기타': 3794, '공개': 3795, '아버님': 3796, '모이': 3797, '찍': 3798, '만날': 3799, '지빠귀': 3800, '결연하다': 3801, '앉히다': 3802, '분개하다': 3803, '뜻밖': 3804, '성안': 3805, '타당': 3806, '대주교': 3807, '노랗다': 3808, '써주다': 3809, '안내': 3810, '아라하': 3811, '자국': 3812, '나무라다': 3813, '하나같이': 3814, '매달': 3815, '젓다': 3816, '거짓': 3817, '자넬': 3818, '외진': 3819, '땅거북': 3820, '감당': 3821, '되풀이': 3822, '알려지다': 3823, '살갗': 3824, '개보': 3825, '상관': 3826, '모닥불': 3827, '깨끗이': 3828, '고을': 3829, '쭉쭉': 3830, 'ㅁ': 3831, '탁': 3832, '휘저': 3833, '방과': 3834, '은총': 3835, '싱싱하다': 3836, '이속': 3837, '구원': 3838, '풀칠': 3839, '어조': 3840, '법원': 3841, '양념': 3842, '비틀': 3843, '오발탄': 3844, '대팻밥': 3845, '건너가다': 3846, '남녀': 3847, '으로써': 3848, '묵다': 3849, '이서': 3850, '꽥꽥': 3851, '발음': 3852, '숭숭': 3853, '뚫리다': 3854, '대장간': 3855, '과부': 3856, '다급하다': 3857, '염병할': 3858, '닉': 3859, '운반': 3860, '번개': 3861, '존경': 3862, '박씨': 3863, '피로': 3864, '방황': 3865, '비웃다': 3866, '설레다': 3867, '자체': 3868, '네겐': 3869, '카드리유': 3870, '진실': 3871, '에서는': 3872, '용이': 3873, '빨르다': 3874, '깨부수다': 3875, '성큼': 3876, '붓다': 3877, '마르': 3878, '환호': 3879, '곤장': 3880, '크나크다': 3881, '토': 3882, '선언': 3883, '상금': 3884, '할렐루야': 3885, '다락방': 3886, '옥신각신': 3887, '코커스': 3888, '설마': 3889, '개월': 3890, '용납': 3891, '흐느껴': 3892, '목수': 3893, '녹이다': 3894, '머시아': 3895, '노섬브리아': 3896, '에드윈': 3897, '카': 3898, '로라': 3899, '깡충': 3900, '단검': 3901, '일어나지': 3902, '주무시다': 3903, '까맣다': 3904, '잊어버리다': 3905, '구두쇠': 3906, '감금': 3907, '번갈아': 3908, '부와': 3909, '잉크': 3910, '짜증나다': 3911, '체': 3912, '신발': 3913, '나무딸기': 3914, '성찬': 3915, '까딱': 3916, '양초': 3917, '섭': 3918, '한껏': 3919, '어도': 3920, '비애': 3921, '성공': 3922, '무기': 3923, '장남': 3924, '비밀': 3925, '수야': 3926, '렌즈콩': 3927, '후투티': 3928, '망설이다': 3929, '구덩이': 3930, '칠하다': 3931, '완강': 3932, '쌓다': 3933, '왕창': 3934, '거고요': 3935, '세례식': 3936, '차고': 3937, '빌어': 3938, '바다로': 3939, '수레': 3940, '내뿜': 3941, '그만하다': 3942, '열띤': 3943, '큰일': 3944, '텐': 3945, '참고': 3946, '구부러지다': 3947, '직원': 3948, '숙고': 3949, '빼앗다': 3950, '서서히': 3951, '아래층': 3952, '위협': 3953, '며느리': 3954, '축제': 3955, '사이좋다': 3956, '야생동물': 3957, '누굴': 3958, '가로': 3959, '감동': 3960, '밀': 3961, '애초': 3962, '기존': 3963, '관념': 3964, '난데없이': 3965, '완두콩': 3966, '야채': 3967, '동화책': 3968, '법도': 3969, '절호': 3970, '사색': 3971, '어린이': 3972, '노동': 3973, '네까짓': 3974, '오신': 3975, '쌀': 3976, '노동자': 3977, '엄': 3978, '윙윙': 3979, '아하': 3980, '쯧쯧': 3981, '비늘': 3982, '취해': 3983, '쫓겨나다': 3984, '딸도': 3985, '죄인': 3986, '제복': 3987, '내보내다': 3988, '데이지': 3989, '여러': 3990, '마렴': 3991, '숫': 3992, '여관': 3993, '꼬박': 3994, '가난': 3995, '추세': 3996, '별도': 3997, '쾅': 3998, '양보': 3999, '드러나다': 4000, '하므다': 4001, '궁리': 4002, '쥐구멍': 4003, '밝아지다': 4004, '사위': 4005, '빚': 4006, '불유쾌': 4007, '누누이': 4008, '손톱': 4009, '쑹': 4010, '둘러매다': 4011, '시범': 4012, '몰아치다': 4013, '부턴': 4014, '어쩌나': 4015, '사면': 4016, '고용': 4017, '넷': 4018, '감흥': 4019, '뒷돈': 4020, '주된': 4021, '불운': 4022, '뵈다': 4023, '아줌마': 4024, '땡그': 4025, '포크': 4026, '총각': 4027, '드니': 4028, '눈동자': 4029, '생생하다': 4030, '젠장': 4031, '꼬치꼬치': 4032, '출구': 4033, '자존심': 4034, '열자': 4035, '성과': 4036, '쓸쓸하다': 4037, '낚싯줄': 4038, '핑계': 4039, '아직도': 4040, '그러므로': 4041, '벽장': 4042, '자연': 4043, '대놓고': 4044, '명패': 4045, '축하': 4046, '진홍': 4047, '잉꼬': 4048, '수리': 4049, '효력': 4050, '손질': 4051, '손바닥': 4052, '리해': 4053, '이로': 4054, '범벅': 4055, '양배추': 4056, '굴복': 4057, '라벨': 4058, '글씨체': 4059, '이해도': 4060, '망망대해': 4061, '파고': 4062, '적합하다': 4063, '광대하다': 4064, '엎': 4065, '분주하다': 4066, '외마디': 4067, '경솔하다': 4068, '장가': 4069, '지참금': 4070, '하하': 4071, '푸드덕': 4072, '절름발이': 4073, '곧다': 4074, '가치': 4075, '팔다': 4076, '유용하다': 4077, '몰리다': 4078, '누르기': 4079, '충직': 4080, '봉사': 4081, '차이다': 4082, '일쑤': 4083, '메추라기': 4084, '룩': 4085, '라틴어': 4086, '문법': 4087, '역사': 4088, '해명': 4089, '개구': 4090, '읊조리다': 4091, '산발': 4092, '지대': 4093, '대낮': 4094, '푸르른': 4095, '혼령': 4096, '목뼈': 4097, '뿌러질': 4098, '화상': 4099, '칼날': 4100, '현실': 4101, '바스락바스락': 4102, '것일': 4103, '흐느낌': 4104, '여타': 4105, '떠들다': 4106, '로베르': 4107, '런던': 4108, '별장': 4109, '쿠션': 4110, '화나다': 4111, '어요': 4112, '원도': 4113, '까마득하다': 4114, '지롱': 4115, '뎁쇼': 4116, '낙하': 4117, '어여': 4118, '교제': 4119, '성나다': 4120, '초라하다': 4121, '의복': 4122, '떠들썩하다': 4123, '반쯥': 4124, '관련': 4125, '여한': 4126, '떠보다': 4127, '따사롭': 4128, '써레': 4129, '정의도': 4130, '모독': 4131, '편자': 4132, '새하얘지다': 4133, '살인': 4134, '작자': 4135, '어둑어둑하다': 4136, '온몸': 4137, '주재': 4138, '봉지': 4139, '독감': 4140, '상당량': 4141, '가냘프다': 4142, '가나다': 4143, '페이지': 4144, '어마나': 4145, '맘': 4146, '안절부절': 4147, '뵙다': 4148, '인근': 4149, '연거푸': 4150, '부끄럽다': 4151, '되돌아보다': 4152, '출입구': 4153, '자취': 4154, '양은': 4155, '가물가물': 4156, '지름길': 4157, '비키다': 4158, '울퉁불퉁하다': 4159, '수줍다': 4160, '라고요': 4161, '쵸': 4162, '트이다': 4163, '대보다': 4164, '이래도': 4165, '폭풍': 4166, '오는': 4167, '격려': 4168, '샅샅이': 4169, '자연스레': 4170, '결실': 4171, '짜증': 4172, '오복하다': 4173, '골치': 4174, '용하다': 4175, '날아다니다': 4176, '보필': 4177, '관해': 4178, '어디가': 4179, '마음대로': 4180, '우승자': 4181, '자네도': 4182, '못지않다': 4183, '미련': 4184, '뜨끔하다': 4185, '서요': 4186, '갈래': 4187, '소개': 4188, '뜨릴': 4189, '툴툴': 4190, '꼬챙이': 4191, '방장': 4192, '리기': 4193, '거대': 4194, '남지': 4195, '열중': 4196, '주제가': 4197, '가호': 4198, '헤어스타일': 4199, '엿': 4200, '다시피': 4201, '정돈': 4202, '흩어지다': 4203, '억': 4204, '더없이': 4205, '공짜': 4206, '고독': 4207, '곡물': 4208, '두리번거리다': 4209, '오직': 4210, '목마름': 4211, '벌컥벌컥': 4212, '애고': 4213, '학업': 4214, '승낙': 4215, '쓰기': 4216, '귓가': 4217, '휜': 4218, '식다': 4219, '사람인': 4220, '이래저래': 4221, '벼르': 4222, '납득': 4223, '치료법': 4224, '지갑': 4225, '극명하다': 4226, '심심하다': 4227, '장담': 4228, '자격': 4229, '만큼이라도': 4230, '안정': 4231, '쪼가리': 4232, '달도': 4233, '수요일': 4234, '파래': 4235, '홀쭉하다': 4236, '우정': 4237, '도장': 4238, '목장': 4239, '균형': 4240, '몸매': 4241, '옵': 4242, '양피지': 4243, '요술쟁이': 4244, '집안일': 4245, '다야': 4246, '는커녕': 4247, '샘솟다': 4248, '어렴풋하다': 4249, '수군거리다': 4250, '어두워지다': 4251, '애도': 4252, '달구다': 4253, '한창': 4254, '실망하다': 4255, '씻기다': 4256, '싸하다': 4257, '배기': 4258, '매혹': 4259, '지위': 4260, '작년': 4261, '협박': 4262, '충동': 4263, '조가': 4264, '마지못하다': 4265, '걸어오다': 4266, '거역': 4267, '싫증나다': 4268, '콘서트': 4269, '가수': 4270, '목록': 4271, '의술': 4272, '임시': 4273, '미연': 4274, '추천': 4275, '알현': 4276, '기교': 4277, '배은망덕하다': 4278, '자세하다': 4279, '쟁이': 4280, '바란': 4281, '육': 4282, '태': 4283, '해머': 4284, '예배': 4285, '울부짖다': 4286, '마감': 4287, '어데': 4288, '자애롭다': 4289, '부주의하다': 4290, '도처': 4291, '갑옷': 4292, '새매': 4293, '숨소리': 4294, '해주': 4295, '되돌리다': 4296, '이니까': 4297, '깔개': 4298, '흙': 4299, '오른발': 4300, '님께참': 4301, '빼어나다': 4302, '아작': 4303, '나기': 4304, '지방': 4305, '웃': 4306, '탄원': 4307, '자시': 4308, '깃발': 4309, '나누기': 4310, '굴속': 4311, '지루하다': 4312, '살아오다': 4313, '자장가': 4314, '라서': 4315, '입맛': 4316, '임명': 4317, '어긋나다': 4318, '깨물다': 4319, '전과': 4320, '안내받다': 4321, '춤추다': 4322, '얻지': 4323, '마다의': 4324, '으로나': 4325, '낭떠러지': 4326, '뛰어나오다': 4327, '챙': 4328, '메밀': 4329, '필': 4330, '리제': 4331, '사고방식': 4332, '괴한': 4333, '당국': 4334, '아찔하다': 4335, '트리어': 4336, '에다가': 4337, '박박': 4338, '비비다': 4339, '팔방': 4340, '말똥말똥': 4341, '성수': 4342, '목적': 4343, '크로켓': 4344, '초대장': 4345, '장관': 4346, '덕이': 4347, '헌신': 4348, '대목': 4349, '소생': 4350, '풀무': 4351, '홀라당': 4352, '이로써': 4353, '씌우다': 4354, '사각사각': 4355, '긇히': 4356, '삐지다': 4357, '폭풍우': 4358, '쩍': 4359, '신뢰': 4360, '삽': 4361, '쓰라리다': 4362, '고갈': 4363, '어리석음': 4364, '사물': 4365, '울림': 4366, '허다': 4367, '가발': 4368, '심술': 4369, '온종일': 4370, '귀리': 4371, '그만큼': 4372, '수치': 4373, '부딪치다': 4374, '구슬리다': 4375, '원기': 4376, '왕성': 4377, '깝쇼': 4378, '난폭하다': 4379, '매료': 4380, '램프': 4381, '조로': 4382, '일어난다': 4383, '재목': 4384, '사나': 4385, '테리어': 4386, '곱슬진': 4387, '덩치': 4388, '피곤': 4389, '지껄이다': 4390, '빌인뎁쇼': 4391, '깍지': 4392, '간직': 4393, '주목': 4394, '셋방': 4395, '공작': 4396, '친자': 4397, '꼬투리': 4398, '늘어지다': 4399, '네네': 4400, '사소하다': 4401, '정이': 4402, '여야': 4403, '아리송하다': 4404, '태운': 4405, '애달프다': 4406, '안이': 4407, '밤새다': 4408, '헤어지다': 4409, '성용': 4410, '행랑': 4411, '이러니': 4412, '거렸어': 4413, '주눅': 4414, '중간': 4415, '에서보다': 4416, '평지': 4417, '행세': 4418, '옷가지': 4419, '지난번': 4420, '정체': 4421, '이도': 4422, '맵시': 4423, '우두커니': 4424, '도모': 4425, '글썽': 4426, '오물': 4427, '아수라': 4428, '어허': 4429, '문밖': 4430, '깔깔': 4431, '내려앉다': 4432, '결코': 4433, '우두둑': 4434, '부여': 4435, '꾀죄죄하다': 4436, '치렁치렁': 4437, '푸르다': 4438, '사장': 4439, '중얼중얼': 4440, '병약하다': 4441, '일과': 4442, '잿더미': 4443, '한순간': 4444, '프라이팬': 4445, '처참하다': 4446, '강렬하다': 4447, '겨를': 4448, '깄': 4449, '만지작거리다': 4450, '소름끼치다': 4451, '신들': 4452, '귀머거리': 4453, '읊': 4454, '움푹': 4455, '후두두': 4456, '야옹이': 4457, '용무': 4458, '모욕': 4459, '배열': 4460, '농': 4461, '집의': 4462, '터널': 4463, '분들': 4464, '먹음': 4465, '무니': 4466, '의심스럽다': 4467, '안장': 4468, '복되다': 4469, '미래': 4470, '당한': 4471, '휩쓸다': 4472, '약혼녀': 4473, '절세': 4474, '에드': 4475, '직공': 4476, '월급': 4477, '따분하다': 4478, '꿰매다': 4479, '무늬': 4480, '구절': 4481, '혼잡': 4482, '유발': 4483, '안건': 4484, '개인': 4485, '벅차다': 4486, '유리상자': 4487, '떼굴떼굴': 4488, '내색': 4489, '빌어먹을': 4490, '꼴값': 4491, '물자': 4492, '후려치다': 4493, '나가떨어지다': 4494, '술값': 4495, '충돌': 4496, '손자': 4497, '여자아이': 4498, '서식지': 4499, '기독교인': 4500, '오라비': 4501, '신중하다': 4502, '성스럽다': 4503, '세인트': 4504, '크리스마스': 4505, '어느덧다': 4506, '도시락': 4507, '성향': 4508, '등치': 4509, '안락': 4510, '도취': 4511, '평화롭다': 4512, '얼추': 4513, '누렁이': 4514, '죄수': 4515, '익히다': 4516, '접': 4517, '신성하다': 4518, '꿰뚫다': 4519, '차곡차곡': 4520, '바른대로': 4521, '고요하다': 4522, '가마솥': 4523, '경비': 4524, '연결': 4525, '소송': 4526, '만들기': 4527, '가보': 4528, '사무': 4529, '화형': 4530, '사기': 4531, '포플러': 4532, '하필': 4533, '범': 4534, '끼치다': 4535, '장장': 4536, '꿈틀꿈틀': 4537, '세릴': 4538, '가감': 4539, '박수갈채': 4540, '뜻대로': 4541, '불타다': 4542, '전차': 4543, '대담하다': 4544, '그리로': 4545, '어쩌라고': 4546, '에헴': 4547, '기근': 4548, '시뻘겋다': 4549, '축': 4550, '으로선': 4551, '내의': 4552, '공인': 4553, '책장': 4554, '본능': 4555, '상달': 4556, '사후': 4557, '지역': 4558, '뉴질랜드': 4559, '오스트레일리아': 4560, '뭉치': 4561, '황금산': 4562, '과목': 4563, '로구나': 4564, '추': 4565, '스르': 4566, '전념': 4567, '정해': 4568, '이끼': 4569, '나룻배': 4570, '미안': 4571, '그립다': 4572, '야다': 4573, '버티고': 4574, '오른손': 4575, '까치': 4576, '아야': 4577, '흑': 4578, '바짝': 4579, '엉덩이': 4580, '일어나고': 4581, '오막살이': 4582, '맹세코': 4583, '향기': 4584, '꿀벌': 4585, '드물다': 4586, '하마': 4587, '슬레이트': 4588, '느슨하다': 4589, '만큼은': 4590, '놀림': 4591, '경의': 4592, '시종일관': 4593, '사로자다': 4594, '구레나룻': 4595, '굶주림': 4596, '승패': 4597, '키다리': 4598, '야위다': 4599, '철로': 4600, '까지만이라도': 4601, '사시나무': 4602, '나날': 4603, '물줄기': 4604, '라오': 4605, '앞쪽': 4606, '반향': 4607, '안타깝다': 4608, '천둥소리': 4609, '통곡': 4610, '감방': 4611, '남아나다': 4612, '하진': 4613, '인가가': 4614, '웃옷': 4615, '졸도': 4616, '상속': 4617, '왕위': 4618, '어떻': 4619, '정상': 4620, '더듬다': 4621, '차차': 4622, '발동': 4623, '르그': 4624, '나그네': 4625, '당해': 4626, '훌쩍': 4627, '점점이': 4628, '허리띠': 4629, '마루': 4630, '눕힌': 4631, '초롱초롱': 4632, '싹싹': 4633, '잔디밭': 4634, '번의': 4635, '물밀': 4636, '경험': 4637, '풍향계': 4638, '연속': 4639, '안색': 4640, '저렇다': 4641, '불로': 4642, '개간': 4643, '긍정': 4644, '탱': 4645, '아름': 4646, '천하': 4647, '퍼덕이다': 4648, '질색': 4649, '통사정': 4650, '마멀레이드': 4651, '수나': 4652, '재단': 4653, '등불': 4654, '연민': 4655, '랬': 4656, '그야말로': 4657, '붐비다': 4658, '딸리다': 4659, '백합': 4660, '꼬이다': 4661, '근위병': 4662, '오라': 4663, '팔고': 4664, '상대로': 4665, '남자에게': 4666, '손도장': 4667, '겨드랑이': 4668, '대야': 4669, '짊': 4670, '엄지발가락': 4671, '차하': 4672, '말대꾸': 4673, '무더기': 4674, '기웃': 4675, '굽': 4676, '우승하다': 4677, '우기': 4678, '국': 4679, '댁': 4680, '로선': 4681, '여행자': 4682, '토라': 4683, '마굿': 4684, '심성': 4685, '쾌차': 4686, '경계': 4687, '가격': 4688, '오래도록': 4689, '감감': 4690, '무소식': 4691, '불량': 4692, '급선무': 4693, '으': 4694, '부터는': 4695, '올': 4696, '드리워지다': 4697, '산딸기': 4698, '일거리': 4699, '난장': 4700, '훑다': 4701, '후예': 4702, '삼백': 4703, '입속': 4704, '앙앙': 4705, '어딘': 4706, '이르렀다': 4707, '장미꽃': 4708, '방식': 4709, '창코': 4710, '일해': 4711, '거도': 4712, '불면': 4713, '과의': 4714, '뒤뜰': 4715, '공동묘지': 4716, '감겨': 4717, '일원': 4718, '자유': 4719, '하등': 4720, '어쩌자': 4721, '미지': 4722, '레몬': 4723, '꺼리다': 4724, '도둑질': 4725, '발각': 4726, '파란': 4727, '굵다': 4728, '철봉': 4729, '어쨌건': 4730, '허기': 4731, '달래': 4732, '배려': 4733, '파헤치다': 4734, '윙크': 4735, '적용': 4736, '깡충깡충': 4737, '가관': 4738, '주체': 4739, '친하다': 4740, '다투다': 4741, '하여금': 4742, '하나요': 4743, '차라': 4744, '근거': 4745, '포위': 4746, '지느러미': 4747, '야만스럽다': 4748, '납치': 4749, '멍텅구리': 4750, '택배': 4751, '화난': 4752, '까무러치': 4753, '캬': 4754, '저녁때': 4755, '달구': 4756, '선뜻': 4757, '바닷물': 4758, '부어': 4759, '매가': 4760, '수확': 4761, '다지다': 4762, '썰다': 4763, '지세': 4764, '구도': 4765, '귀부인': 4766, '누우': 4767, '허튼': 4768, '널찍하다': 4769, '신음': 4770, '시력': 4771, '수년': 4772, '해변': 4773, '안되다': 4774, '야비하다': 4775, '사과나무': 4776, '주먹질': 4777, '번쩍번쩍': 4778, '킁킁거리다': 4779, '사치': 4780, '로써': 4781, '가소롭다': 4782, '금박': 4783, '부로': 4784, '싫증': 4785, '불씨': 4786, '외모': 4787, '캔터베리': 4788, '스티갠드': 4789, '정보': 4790, '칙칙하다': 4791, '물정': 4792, '도마': 4793, '치켜들다': 4794, '만족': 4795, '나신': 4796, '잠자다': 4797, '가문': 4798, '진창': 4799, '우르르': 4800, '습': 4801, '나니': 4802, '식초': 4803, '모시': 4804, '모시다': 4805, '어려움': 4806, '평안하다': 4807, '달라지다': 4808, '스탠드': 4809, '주술': 4810, '양으로': 4811, '더위': 4812, '퉁': 4813, '만물': 4814, '암벽': 4815, '서로서로': 4816, '엄명': 4817, '내려지다': 4818, '이제껏': 4819, '벌러덩': 4820, '튀다': 4821, '사촌': 4822, '빙': 4823, '군복': 4824, '마분지': 4825, '우리말': 4826, '마란': 4827, '셰익스피어': 4828, '위도': 4829, '쭈그리다': 4830, '전환': 4831, '유충': 4832, '언젠가': 4833, '엄중하다': 4834, '연설': 4835, '박수': 4836, '당일': 4837, '구경꾼': 4838, '왁스': 4839, '두리': 4840, '땡기다': 4841, '오늘이': 4842, '하늘만': 4843, '돋아나다': 4844, '개도': 4845, '마음껏': 4846, '잡지': 4847, '유리창': 4848, '더욱': 4849, '어리둥절하다': 4850, '이무기': 4851, '심정': 4852, '사도': 4853, '무덥다': 4854, '싹둑싹둑': 4855, '단추': 4856, '오매불망': 4857, '쯧': 4858, '휙휙': 4859, '형벌': 4860, '이신': 4861, '자갈': 4862, '불기운': 4863, '하루아침': 4864, '입맞춤': 4865, '저주받다': 4866, '오냐': 4867, '시궁쥐': 4868, '요렇게': 4869, '구부리': 4870, '지배자': 4871, '오라버니': 4872, '깃촉': 4873, '호감': 4874, '비웃음': 4875, '웩': 4876, '부모': 4877, '코끝': 4878, '수의': 4879, '리세': 4880, '노르만': 4881, '방자하다': 4882, '뼛속': 4883, '물품': 4884, '가라앉히다': 4885, '깃': 4886, '앙갚음': 4887, '저주': 4888, '정치': 4889, '발길질': 4890, '도독': 4891, '거진': 4892, '무진': 4893, '오들오들': 4894, '불리': 4895, '큼지막하다': 4896, '롱': 4897, '단다': 4898, '족족': 4899, '여우야': 4900, '떠밀다': 4901, '혼돈': 4902, '하란': 4903, '길가': 4904, '갉아먹다': 4905, '연약하다': 4906, '어머님께': 4907, '고안': 4908, '많아지다': 4909, '대롱대롱': 4910, '우시': 4911, '첨': 4912, '벙하다': 4913, '감수': 4914, '한텐': 4915, '미나리아재비': 4916, '슬그머니': 4917, '닳다': 4918, '영원': 4919, '마땅하다': 4920, '응보': 4921, '가가': 4922, '방어': 4923, '어기': 4924, '볶다': 4925, '꽥': 4926, '애완동물': 4927, '답변': 4928, '끔벅': 4929, '이기도': 4930, '울화통': 4931, '런가': 4932, '천원': 4933, '우마': 4934, '무조건': 4935, '열한': 4936, '앨': 4937, '함녀': 4938, '소리내다': 4939, '다락': 4940, '냠냠': 4941, '실직': 4942, '퐁당': 4943, '늘리다': 4944, '잠기': 4945, '애로': 4946, '신통하다': 4947, '물들다': 4948, '신지': 4949, '꾸욱': 4950, '해진': 4951, '앨래스': 4952, '돌부리': 4953, '피하': 4954, '비결': 4955, '심술궂': 4956, '곡간': 4957, '문외한': 4958, '노곤': 4959, '졸다': 4960, '부시다': 4961, '울면': 4962, '충만': 4963, '조이다': 4964, '유성': 4965, '시내': 4966, '멈칫': 4967, '누우렴': 4968, '반기다': 4969, '더냐': 4970, '숨쉬다': 4971, '말괄량이': 4972, '웬걸': 4973, '울컥': 4974, '외국': 4975, '수줍어하': 4976, '력': 4977, '곱셈': 4978, '지리': 4979, '납작하다': 4980, '권세': 4981, '한가득': 4982, '데요': 4983, '망연자실하다': 4984, '멀거니': 4985, '금붕어': 4986, '어항': 4987, '뒷문': 4988, '핏방울': 4989, '화답': 4990, '이대': 4991, '맺힌': 4992, '여럿': 4993, '강제': 4994, '자로': 4995, '발버둥': 4996, '지사': 4997, '끝장': 4998, '관통': 4999, '움키다': 5000, '비운': 5001, '시중': 5002, '뱀장어': 5003, '대부분': 5004, '주무': 5005, '덜컥': 5006, '다래': 5007, '인형': 5008, '격렬하다': 5009, '코로': 5010, '상응': 5011, '차림': 5012, '스피드': 5013, '울음': 5014, '울며불며': 5015, '치우치다': 5016, '심려': 5017, '사과꽃': 5018, '초승달': 5019, '뾰족': 5020, '이스트': 5021, '거길': 5022, '싸인': 5023, '위기': 5024, '딱지': 5025, '비범하다': 5026, '힐끗힐끗': 5027, '완': 5028, '게는': 5029, '건줄': 5030, '살랑살랑': 5031, '질질': 5032, '쐐기': 5033, '만을': 5034, '승리감': 5035, '악수': 5036, '담들다': 5037, '버둥거린': 5038, '무리다': 5039, '반사': 5040, '으름장': 5041, '우려': 5042, '어떠하다': 5043, '덜커덩': 5044, '훤히': 5045, '카나리아': 5046, '테두리': 5047, '고등학교': 5048, '의붓': 5049, '회전': 5050, '휩싸이다': 5051, '이쁜이': 5052, '세례명': 5053, '탐색': 5054, '앞장': 5055, '주우': 5056, '노고': 5057, '기미': 5058, '조르다': 5059, '비누': 5060, '끼리끼리': 5061, '절레절레': 5062, '글': 5063, '파악': 5064, '았': 5065, '제거': 5066, '해롭다': 5067, '측면': 5068, '당근': 5069, '어릿광대': 5070, '뽀롱이': 5071, '순박하다': 5072, '변': 5073, '부추': 5074, '포로': 5075, '은밀': 5076, '주둥아리': 5077, '주시': 5078, '가혹하다': 5079, '이익': 5080, '뒤죽박죽': 5081, '까지는': 5082, '그까짓': 5083, '옛': 5084, '파이프': 5085, '화살': 5086, '흠잡다': 5087, '단박': 5088, '갖은': 5089, '익사': 5090, '세간': 5091, '날짐승': 5092, '요컨대': 5093, '분홍색': 5094, '아버': 5095, '까옥': 5096, '빤짝': 5097, '허참': 5098, '차별': 5099, '근': 5100, '치러지다': 5101, '식인종': 5102, '반점': 5103, '곡': 5104, '작별': 5105, '롭고': 5106, '대뜸': 5107, '돋보이다': 5108, '그러나': 5109, '뚱딴지': 5110, '저걸': 5111, '바다코끼리': 5112, '새어머니': 5113, '드럼': 5114, '도금': 5115, '레이스': 5116, '광부': 5117, '홀아비': 5118, '게걸': 5119, '역정': 5120, '원인': 5121, '장도': 5122, '성직자': 5123, '붉으락': 5124, '푸르락': 5125, '닭장': 5126, '홰': 5127, '형님': 5128, '의기양양하다': 5129, '독약': 5130, '나야': 5131, '각': 5132, '홀랑': 5133, '헤라클레스': 5134, '손녀': 5135, '든든하다': 5136, '약혼': 5137, '곤란하다': 5138, '고상하다': 5139, '수호': 5140, '밖에는': 5141, '고해': 5142, '동정': 5143, '거미': 5144, '차려입다': 5145, '축축하다': 5146, '접근': 5147, '니요': 5148, '북받치다': 5149, '여명': 5150, '회개': 5151, '구해오': 5152, '제사': 5153, '지우다': 5154, '고급': 5155, '같은뎁쇼': 5156, '생기지': 5157, '쌍': 5158, '나선': 5159, '추악하다': 5160, '예수님': 5161, '밀치다': 5162, '손해': 5163, '펄럭': 5164, '정문': 5165, '그레이하운드': 5166, '살해': 5167, '관심': 5168, '나로': 5169, '영차': 5170, '이행': 5171, '상아': 5172, '골풀': 5173, '싹둑': 5174, '햐': 5175, '웅대': 5176, '떠지다': 5177, '또래': 5178, '난리': 5179, '센스': 5180, '때껏': 5181, '아인': 5182, '창의': 5183, '장땡': 5184, '쇠테': 5185, '불과하다': 5186, '즐비하다': 5187, '하단': 5188, '렴': 5189, '리만': 5190, '점령': 5191, '사냥개': 5192, '참으로': 5193, '팍팍': 5194, '수입': 5195, '잔말': 5196, '불가사리': 5197, '손재주': 5198, '중국': 5199, '도자기': 5200, '두서': 5201, '꿈속': 5202, '된서리': 5203, '들락거렸': 5204, '청개구리': 5205, '역장': 5206, '토기': 5207, '아닌뎁쇼': 5208, '데령': 5209, '대도': 5210, '강요': 5211, '와르르': 5212, '관자놀이': 5213, '풍부하다': 5214, '형성': 5215, '간파': 5216, '어김없이': 5217, '검도': 5218, '섬멸': 5219, '평온': 5220, '줌': 5221, '박애': 5222, '교황': 5223, '영국': 5224, '획득': 5225, '스마트': 5226, '일인': 5227, '텅빈': 5228, '일구다': 5229, '오심': 5230, '생뚱맞': 5231, '기인': 5232, '구두약': 5233, '트집': 5234, '꼬박꼬박': 5235, '나래': 5236, '라야': 5237, '주기도': 5238, '거려': 5239, '고가': 5240, '먹었더랬': 5241, '영락': 5242, '색조': 5243, '움켜잡아': 5244, '확연': 5245, '차이': 5246, '무두': 5247, '꽃다발': 5248, '택해': 5249, '교': 5250, '건방지다': 5251, '사례금': 5252, '유명': 5253, '얼굴빛': 5254, '연달': 5255, '식욕': 5256, '살찐': 5257, '정신과': 5258, '무뎌': 5259, '애끼': 5260, '흐리다': 5261, '거니와': 5262, '대동': 5263, '포어포메른': 5264, '보냈더랬': 5265, '가당': 5266, '고양': 5267, '벼락': 5268, '첨벙대': 5269, '혼잡하다': 5270, '왁자지껄': 5271, '낙': 5272, '검토': 5273, '우와': 5274, '붕': 5275, '쨍쨍': 5276, '모진': 5277, '압박': 5278, '읊어보': 5279, '키워지다': 5280, '갓': 5281, '물구나무': 5282, '뻘뻘': 5283, '등줄기': 5284, '지근': 5285, '씌어': 5286, '뻐기다': 5287, '타지': 5288, '도려내다': 5289, '의치': 5290, '발치': 5291, '켁켁거리': 5292, '메우다': 5293, '공평하다': 5294, '고약하다': 5295, '찻쟁반': 5296, '신문': 5297, '말미': 5298, '불효자': 5299, '효심': 5300, '지극': 5301, '여자도': 5302, '보인느': 5303, '장비': 5304, '후광': 5305, '다수': 5306, '못마땅하다': 5307, '제각기': 5308, '사서': 5309, '발자취': 5310, '생계': 5311, '달걀': 5312, '버트': 5313, '혼합': 5314, '오솔길': 5315, '금실': 5316, '넘겨주다': 5317, '택했어': 5318, '다리미': 5319, '관계': 5320, '튕겨': 5321, '요긴': 5322, '꽃송이': 5323, '푸드덕푸드덕': 5324, '날갯짓': 5325, '서리': 5326, '헤집다': 5327, '회부': 5328, '의논': 5329, '용한': 5330, '그닥': 5331, '훈계': 5332, '측근': 5333, '어쩌겠': 5334, '갈증': 5335, '고자': 5336, '들이키다': 5337, '에서까지': 5338, '위험천만': 5339, '찜질': 5340, '싸가지': 5341, '촬': 5342, '뭐더': 5343, '온천': 5344, '무죄': 5345, '왕지': 5346, '복잡하다': 5347, '예수': 5348, '귀중': 5349, '않았더랬': 5350, '꿈꾸다': 5351, '일동': 5352, '감자': 5353, '흠': 5354, '취향': 5355, '가지가지': 5356, '팔짝거리다': 5357, '디디': 5358, '기여': 5359, '예절': 5360, '몰인정하다': 5361, '또르르': 5362, '격발': 5363, '쉽사리': 5364, '그럭저럭': 5365, '준수': 5366, '조화롭다': 5367, '모서리': 5368, '쑤다': 5369, '란다': 5370, '건승': 5371, '이라니': 5372, '고라': 5373, '순서': 5374, '매만지다': 5375, '은실로': 5376, '페티코트': 5377, '알기': 5378, '함정': 5379, '이하': 5380, '모방': 5381, '일사천리': 5382, '팬케이크': 5383, '저울': 5384, '뭉개기': 5385, '엘시': 5386, '레이': 5387, '틸리였어': 5388, '한심하다': 5389, '가로놓이다': 5390, '대담무쌍하다': 5391, '다운': 5392, '추방': 5393, '빈틈': 5394, '힘쓰다': 5395, '이롭다': 5396, '근접하다': 5397, '기본': 5398, '흥분하다': 5399, '힐끔힐끔': 5400, '몸부림': 5401, '황급': 5402, '운동': 5403, '강구': 5404, '결점': 5405, '건대': 5406, '숫돌': 5407, '광석': 5408, '가려지다': 5409, '쌩쌩하다': 5410, '조급하다': 5411, '횡': 5412, '소로': 5413, '놀래다': 5414, '종족': 5415, '앞서다': 5416, '빈털터리': 5417, '날씬하다': 5418, '해고': 5419, '장만': 5420, '소서': 5421, '보채다': 5422, '있으슈': 5423, '거유': 5424, '딱딱하다': 5425, '영양가': 5426, '듬뿍하다': 5427, '광물': 5428, '항적': 5429, '반딧불': 5430, '여소': 5431, '기다랗': 5432, '왕림': 5433, '정각': 5434, '닷': 5435, '위오': 5436, '신분': 5437, '비천하다': 5438, '짤': 5439, '사랑받다': 5440, '신형': 5441, '으앙': 5442, '재판소': 5443, '수세미': 5444, '흉년': 5445, '쫄쫄': 5446, '식겁하다': 5447, '얜': 5448, '아장아장': 5449, '진자': 5450, '억수': 5451, '둥둥': 5452, '면박': 5453, '유유상종': 5454, '뭉개지': 5455, '꿈틀': 5456, '힘내다': 5457, '사발': 5458, '갈퀴': 5459, '빈둥거려': 5460, '축척': 5461, '진귀하다': 5462, '교대': 5463, '시뻘': 5464, '부단하다': 5465, '과학': 5466, '너무하다': 5467, '관장': 5468, '말수': 5469, '유언': 5470, '보장': 5471, '익숙하다': 5472, '샀더랬': 5473, '속사정': 5474, '물주': 5475, '전자': 5476, '어질다': 5477, '애석하다': 5478, '물떼새': 5479, '땡전': 5480, '태평하다': 5481, '맞닥뜨렸': 5482, '끌어내리다': 5483, '다빈': 5484, '부각시키다': 5485, '원자시': 5486, '콧대': 5487, '세고': 5488, '도도하다': 5489, '에전': 5490, '투구': 5491, '잿빛개구리매': 5492, '라테': 5493, '란궁': 5494, '떠받치다': 5495, '마음상태': 5496, '한층': 5497, '없애다': 5498, '매정하다': 5499, '척도': 5500, '떠다니다': 5501, '누런': 5502, '친척': 5503, '호소': 5504, '식사량': 5505, '래요': 5506, '구부정하다': 5507, '게라': 5508, '핀잔': 5509, '십상': 5510, '대규모': 5511, '방긋': 5512, '목발': 5513, '죽마': 5514, '위급하다': 5515, '주교': 5516, '노름': 5517, '겨우': 5518, '박차다': 5519, '깨달': 5520, '창안': 5521, '착': 5522, '버럭': 5523, '일찍이': 5524, '실패': 5525, '일전': 5526, '신나다': 5527, '추어': 5528, '구제': 5529, '하오': 5530, '술잔': 5531, '글렀군': 5532, '궁정': 5533, '우지끈': 5534, '절벽': 5535, '계기': 5536, '동풍': 5537, '그루터기': 5538, '훈풍': 5539, '판이하다': 5540, '부시': 5541, '정부': 5542, '관계자': 5543, '선량하다': 5544, '세기': 5545, '복무': 5546, '갓난아기': 5547, '레겐스부르크': 5548, '스트라스부르': 5549, '청결하다': 5550, '단속': 5551, '주저': 5552, '두루미': 5553, '약조': 5554, '공세': 5555, '호위': 5556, '손색': 5557, '아침햇살': 5558, '웃음보': 5559, '깨우치다': 5560, '유향': 5561, '알갱이': 5562, '습성': 5563, '접수': 5564, '미적': 5565, '찬미': 5566, '밝혀내다': 5567, '나이트': 5568, '캡': 5569, '독침': 5570, '우누': 5571, '이맘때': 5572, '엄해': 5573, '극복': 5574, '수반': 5575, '찌푸리다': 5576, '분배': 5577, '예물': 5578, '끼니': 5579, '때우다': 5580, '시시덕거리다': 5581, '찍히다': 5582, '재앙': 5583, '철도역': 5584, '남구': 5585, '항구': 5586, '나위': 5587, '삶일': 5588, '설탕': 5589, '부족': 5590, '밑동': 5591, '무언가': 5592, '왕인': 5593, '훨': 5594, '밭일': 5595, '왕년': 5596, '국가': 5597, '방문객': 5598, '팽': 5599, '위안': 5600, '얼자': 5601, '동상': 5602, '거룩하다': 5603, '다라': 5604, '팔짝팔짝': 5605, '곁눈질': 5606, '갈리다': 5607, '단절': 5608, '적합': 5609, '금도': 5610, '풍습': 5611, '락불그락': 5612, '삼위일체': 5613, '상공': 5614, '이사': 5615, '선율': 5616, '짠하다': 5617, '덜다': 5618, '펀치': 5619, '선머슴': 5620, '날쌔게': 5621, '출입': 5622, '요원': 5623, '관도': 5624, '끙끙': 5625, '남작': 5626, '마여': 5627, '문도': 5628, '셨': 5629, '군중': 5630, '밝기': 5631, '무릅쓰': 5632, '드럽다': 5633, '빗방울': 5634, '혼': 5635, '쪼글쪼글하다': 5636, '쾌활하다': 5637, '산비둘기': 5638, '굴레': 5639, '엉뚱하다': 5640, '없었쬬': 5641, '종결': 5642, '투덜대다': 5643, '충족': 5644, '나루': 5645, '확답': 5646, '입었더랬': 5647, '전적': 5648, '꽂히다': 5649, '긋다': 5650, '천지': 5651, '사귀다': 5652, '들추다': 5653, '이간': 5654, '정해진': 5655, '닞': 5656, '꼬부': 5657, '프록': 5658, '코트': 5659, '인신공격': 5660, '누렁': 5661, '쫒다': 5662, '정당하다': 5663, '만도': 5664, '엉금엉금': 5665, '구리': 5666, '늦': 5667, '꾸러기': 5668, '기록': 5669, '간지럽다': 5670, '리치': 5671, '애지중지': 5672, '낮추다': 5673, '주어지다': 5674, '채찍': 5675, '확신범': 5676, '타조': 5677, '금줄': 5678, '자두나무': 5679, '산모': 5680, '버둥대다': 5681, '콧노래': 5682, '포호': 5683, '갉아먹기': 5684, '어르신': 5685, '흔하다': 5686, '똘똘하': 5687, '빗나가다': 5688, '수작': 5689, '제멋대로': 5690, '마디나': 5691, '장미라': 5692, '지출': 5693, '수단': 5694, '힘차다': 5695, '저음': 5696, '고독감': 5697, '자욱하다': 5698, '꽈': 5699, '폐': 5700, '엄나': 5701, '마음먹다': 5702, '비고': 5703, '오가다': 5704, '일어나서': 5705, '공정하다': 5706, '낳을': 5707, '위조': 5708, '다예': 5709, '남성은': 5710, '명과': 5711, '껏': 5712, '드밀': 5713, '걱정거리': 5714, '염': 5715, '발해': 5716, '트자': 5717, '똥찬': 5718, '용기병': 5719, '머스킷총': 5720, '짊어': 5721, '탁하다': 5722, '기둥': 5723, '높다랗': 5724, '간격': 5725, '보체': 5726, '던': 5727, '진담': 5728, '불꽃': 5729, '튀기다': 5730, '물기': 5731, '가파른': 5732, '사항': 5733, '간담': 5734, '듭니': 5735, '상속인': 5736, '배회': 5737, '부랴부랴': 5738, '불경': 5739, '술수': 5740, '승마': 5741, '진실하다': 5742, '촌뜨기': 5743, '대환영': 5744, '똘망똘망': 5745, '뼘': 5746, '우러러보': 5747, '주치': 5748, '팽이': 5749, '한나절': 5750, '장상': 5751, '밑천': 5752, '심각해지다': 5753, '백발': 5754, '그릇되다': 5755, '다름없다': 5756, '계집아이': 5757, '최신': 5758, '땋았': 5759, '가능': 5760, '근면하다': 5761, '백해무익하다': 5762, '자슥': 5763, '만장일치': 5764, '게유': 5765, '쿵쾅거리다': 5766, '셨답': 5767, '미풍': 5768, '나물': 5769, '꿀풀': 5770, '개울물': 5771, '아가리': 5772, '동감': 5773, '연지': 5774, '일주일': 5775, '주거': 5776, '부재': 5777, '배우자': 5778, '서너': 5779, '필수': 5780, '완쾌': 5781, '빗대다': 5782, '가늠': 5783, '약재': 5784, '온전': 5785, '집단': 5786, '멈': 5787, '명량': 5788, '행방': 5789, '행정': 5790, '잔혹하다': 5791, '마무': 5792, '도운': 5793, '중상': 5794, '모략': 5795, '허둥대다': 5796, '하염없이': 5797, '출렁이다': 5798, '씌었다': 5799, '평가': 5800, '예언': 5801, '에게만': 5802, '곳도': 5803, '문해': 5804, '활활': 5805, '호화롭다': 5806, '수정': 5807, '샹들리': 5808, '에가': 5809, '형국': 5810, '삭신': 5811, '증기': 5812, '기관차': 5813, '다애': 5814, '종료': 5815, '아두': 5816, '대소': 5817, '저하': 5818, '반대신문': 5819, '시퍼레지다': 5820, '연고': 5821, '유연하다': 5822, '뭐니': 5823, '사두': 5824, '유혹': 5825, '구더기': 5826, '세워지다': 5827, '손길': 5828, '가해진': 5829, '부치다': 5830, '해갈': 5831, '발악': 5832, '단편': 5833, '누구신지': 5834, '주도': 5835, '일어': 5836, '악행': 5837, '그럴듯하다': 5838, '별별': 5839, '근엄하다': 5840, '방청': 5841, '객석': 5842, '달린다': 5843, '마리나': 5844, '출타': 5845, '득': 5846, '시집가다': 5847, '흠칫': 5848, '쿨하다': 5849, '볼모': 5850, '급박하다': 5851, '매복': 5852, '비일비재하다': 5853, '혓바닥': 5854, '기한': 5855, '만료': 5856, '속에댜': 5857, '실물': 5858, '동치': 5859, '수석': 5860, '장대비': 5861, '화형식': 5862, '끗다': 5863, '파닥이다': 5864, '응징': 5865, '보람': 5866, '황금색': 5867, '마름모꼴': 5868, '이랑은': 5869, '넋': 5870, '기필코': 5871, '환영': 5872, '이지만': 5873, '이례': 5874, '윤년': 5875, '절대로': 5876, '아랫': 5877, '예민하다': 5878, '나이라': 5879, '휴양': 5880, '행차': 5881, '죄명': 5882, '화목': 5883, '고국': 5884, '동떨어지다': 5885, '잤더랬': 5886, '강철': 5887, '용감': 5888, '무쌍': 5889, '해님': 5890, '쪼아댈': 5891, '앞장서다': 5892, '너셕': 5893, '쇠약하다': 5894, '살그머니': 5895, '여니': 5896, '분필': 5897, '슬리퍼': 5898, '직고': 5899, '에서의': 5900, '떠나가다': 5901, '들락거리': 5902, '버려지다': 5903, '외로이': 5904, '징표': 5905, '실내': 5906, '극히': 5907, '어색하다': 5908, '불시': 5909, '적기': 5910, '지겹다': 5911, '마지않다': 5912, '짐짓': 5913, '유고': 5914, '막론': 5915, '가내': 5916, '허용': 5917, '전투': 5918, '끊임없다': 5919, '날뛰다': 5920, '와만': 5921, '왼발': 5922, '곧잘': 5923, '강의': 5924, '게오': 5925, '헛된': 5926, '이동수': 5927, '압도': 5928, '구가': 5929, '자지': 5930, '간과': 5931, '횃대': 5932, '대요': 5933, '까지와': 5934, '부서뜨리다': 5935, '찬양': 5936, '골칫덩': 5937, '투입': 5938, '거슬러': 5939, '숭고하다': 5940, '읊어줘': 5941, '가물다': 5942, '퍼붓다': 5943, '단념하다': 5944, '웅크리다': 5945, '방울방울': 5946, '역겹다': 5947, '으로가': 5948, '평온하다': 5949, '어젯밤': 5950, '상연': 5951, '승복': 5952, '비용': 5953, '온기': 5954, '은인': 5955, '브라': 5956, '켈': 5957, '힌': 5958, '생물체': 5959, '긴장도': 5960, '경청': 5961, '신령': 5962, '매도': 5963, '걸음걸이': 5964, '헤어': 5965, '젖먹이': 5966, '클로버': 5967, '사각형': 5968, '몸뚱이': 5969, '짓눌리다': 5970, '사팔뜨기': 5971, '광채': 5972, '일랑': 5973, '철저하다': 5974, '밀리다': 5975, '훈시': 5976, '돌기': 5977, '불성': 5978, '떨구다': 5979, '핑크색': 5980, '산호': 5981, '뭉근': 5982, '뛰어나가다': 5983, '거꾸러지다': 5984, '신비': 5985, '꼴사납다': 5986, '친아빠': 5987, '뒷모습': 5988, '시골뜨기': 5989, '이글': 5990, '노려보다': 5991, '일간': 5992, '구조': 5993, '부속': 5994, '통상': 5995, '극도': 5996, '어찌어찌': 5997, '너도밤나무': 5998, '목재': 5999, '회양': 6000, '곤봉': 6001, '울고불고': 6002, '받았더랬': 6003, '끼울다': 6004, '로란': 6005, '저장': 6006, '조예': 6007, '뾰루': 6008, '찬물': 6009, '사열식': 6010, '군림': 6011, '분풀이': 6012, '잘리다': 6013, '손쉽다': 6014, '쭈글쭈글': 6015, '선견지명': 6016, '싸잡다': 6017, '뚜벅뚜벅': 6018, '영역': 6019, '손발': 6020, '별의별': 6021, '꿩': 6022, '날름': 6023, '이득': 6024, '혼내다': 6025, '갑': 6026, '어걸': 6027, '다한': 6028, '썩을': 6029, '쇠스랑': 6030, '무장': 6031, '추슬러보기': 6032, '으로부터는': 6033, '아연': 6034, '해하': 6035, '휘둘렸지': 6036, '살짝궁': 6037, '어지간하다': 6038, '물러서다': 6039, '망극': 6040, '글쎄요': 6041, '언뜻': 6042, '보신': 6043, '현인': 6044, '체포하라': 6045, '리더': 6046, '집집': 6047, '츠': 6048, '왔더랬': 6049, '포함': 6050, '닿는뎁쇼': 6051, '꼬끼오': 6052, '꼬꼬': 6053, '상품': 6054, '만요': 6055, '이중': 6056, '째째하다': 6057, '그르쳐': 6058, '아니꼽다': 6059, '지침': 6060, '흉내': 6061, '금발': 6062, '망치다': 6063, '필욘': 6064, '머금': 6065, '머릿결들': 6066, '말론': 6067, '택하': 6068, '압쇼': 6069, '세찬': 6070, '아니렸다': 6071, '항시': 6072, '단정하다': 6073, '다실': 6074, '성냄': 6075, '판관': 6076, '이름나다': 6077, '식용': 6078, '안개': 6079, '어엿하다': 6080, '번득': 6081, '남겨지다': 6082, '자아내다': 6083, '무한': 6084, '아비': 6085, '황량': 6086, '붓감': 6087, '공로': 6088, '잿빛': 6089, '구릿빛': 6090, '작업장': 6091, '나오니': 6092, '별일': 6093, '주소': 6094, '안식': 6095, '청구': 6096, '심보': 6097, '여리다': 6098, '꿋꿋': 6099, '당사자': 6100, '자연스럽다': 6101, '술술': 6102, '허허': 6103, '악': 6104, '가라': 6105, '소지품': 6106, '박자': 6107, '라기': 6108, '불경기': 6109, '빠듯하': 6110, '도개교': 6111, '건너오다': 6112, '엄동설한': 6113, '변장': 6114, '한결': 6115, '폭소': 6116, '말동무': 6117, '쫘': 6118, '재잘거리다': 6119, '단호': 6120, '부러워하다': 6121, '신용': 6122, '뱅뱅': 6123, '노소': 6124, '럴': 6125, '행적': 6126, '어리둥절해지다': 6127, '빗자루': 6128, '에덴동산': 6129, '불모': 6130, '소임': 6131, '시인': 6132, '팔만': 6133, '직': 6134, '꿈침': 6135, '안함': 6136, '쓱쓱': 6137, '화분': 6138, '줄다리기': 6139, '이발사': 6140, '면도': 6141, '낙농업': 6142, '우애': 6143, '차원': 6144, '성하': 6145, '수감': 6146, '본받다': 6147, '펜': 6148, '성함': 6149, '일반': 6150, '우회': 6151, '총신': 6152, '측은하다': 6153, '죄악': 6154, '소문나다': 6155, '끼기': 6156, '지배': 6157, '시라': 6158, '치자': 6159, '재깍재깍': 6160, '유복하다': 6161, '습관': 6162, '재회': 6163, '넓이': 6164, '길들다': 6165, '밧줄': 6166, '다음해': 6167, '타일러': 6168, '구봉': 6169, '재임': 6170, '소집': 6171, '아물다': 6172, '뛰어놀다': 6173, '가두': 6174, '치가': 6175, '스커트': 6176, '점프': 6177, '헛': 6178, '똘똘했어': 6179, '엄하': 6180, '불열': 6181, '흉하다': 6182, '유머': 6183, '매너': 6184, '출생': 6185, '불만족': 6186, '밥그릇': 6187, '자만': 6188, '꿈나라': 6189, '내외': 6190, '흉보다': 6191, '타협': 6192, '재고': 6193, '다가서다': 6194, '뽑히다': 6195, '앵': 6196, '맛임': 6197, '긴박하다': 6198, '사의': 6199, '맥주': 6200, '멧새': 6201, '핀치': 6202, '빠귀': 6203, '방울새': 6204, '이발': 6205, '뻣뻣하다': 6206, '후계': 6207, '사라': 6208, '밀지': 6209, '봄철': 6210, '기뻐했더랬': 6211, '물통이': 6212, '반나절': 6213, '죽여주다': 6214, '원통': 6215, '얌전하다': 6216, '맞대다': 6217, '툴툴거렸어': 6218, '포자': 6219, '사령': 6220, '땅땅': 6221, '넝마': 6222, '살점': 6223, '딴다': 6224, '참여': 6225, '형틀': 6226, '궁둥이': 6227, '까발리다': 6228, '철썩': 6229, '불안': 6230, '뭉개주': 6231, '흠집': 6232, '호색': 6233, '짙어지다': 6234, '옷차림': 6235, '짹짹': 6236, '찍찍거리다': 6237, '벨': 6238, '샬럿': 6239, '노란색': 6240, '어쨌거': 6241, '파랗다': 6242, '돌출': 6243, '멜로디': 6244, '곡조': 6245, '알몸': 6246, '스패니얼': 6247, '암컷': 6248, '이음': 6249, '배우': 6250, '오보에': 6251, '연주자': 6252, '쨍': 6253, '움찔': 6254, '산보': 6255, '정력': 6256, '쓸데없다': 6257, '막말': 6258, '그윽': 6259, '의향': 6260, '새집': 6261, '사공': 6262, '바윗돌': 6263, '동그랗다': 6264, '색칠': 6265, '료약': 6266, '잠겼더랬': 6267, '달력': 6268, '명예': 6269, '침침하다': 6270, '누구세요': 6271, '끄덕이다': 6272, '초록': 6273, '영광': 6274, '거슬리다': 6275, '숙년': 6276, '사교계': 6277, '돌다리': 6278, '기와': 6279, '불명': 6280, '신기': 6281, '적령': 6282, '뿜': 6283, '노예': 6284, '스럽지': 6285, '앞마당': 6286, '지하감옥': 6287, '어안': 6288, '벙벙하다': 6289, '갈수': 6290, '무게중심': 6291, '쏠리다': 6292, '화장': 6293, '도구': 6294, '곱사등이': 6295, '날자': 6296, '체리': 6297, '타트': 6298, '커스터드': 6299, '파인애플': 6300, '칠면조': 6301, '태피': 6302, '토스트': 6303, '얽히다': 6304, '뒤집어지다': 6305, '뭉갰어': 6306, '귓': 6307, '얼얼하다': 6308, '개지': 6309, '류': 6310, '유리잔': 6311, '더듬더듬': 6312, '글러': 6313, '구의': 6314, '커플': 6315, '고려': 6316, '빈곤하다': 6317, '맞장구': 6318, '찰랑이다': 6319, '이물': 6320, '것도': 6321, '네야': 6322, '패턴': 6323, '술래잡기': 6324, '나가시': 6325, '공터': 6326, '배푼': 6327, '벅': 6328, '우수수': 6329, '반질반질': 6330, '딸내미': 6331, '엄습해': 6332, '문의': 6333, '서약': 6334, '데기': 6335, '금발머리': 6336, '둘러보기': 6337, '후딱': 6338, '불끈': 6339, '잠복': 6340, '로군': 6341, '다닥다닥': 6342, '한때': 6343, '살림살이': 6344, '일군': 6345, '말뚱말뚱': 6346, '진열': 6347, '수중': 6348, '작심': 6349, '왜요': 6350, '학년': 6351, '시점': 6352, '토로': 6353, '샤샤': 6354, '샤': 6355, '주문': 6356, '포악하다': 6357, '손수': 6358, '정치권': 6359, '거물': 6360, '방실': 6361, '우월하다': 6362, '전역': 6363, '몰려들다': 6364, '왠지': 6365, '흡족하다': 6366, '장래': 6367, '구분': 6368, '멀뚱멀뚱': 6369, '다복': 6370, '새싹': 6371, '가주': 6372, '후후': 6373, '려던': 6374, '빈둥빈둥': 6375, '뛰어나다': 6376, '엿듣': 6377, '덧옷': 6378, '마님': 6379, '가정부': 6380, '커버': 6381, '어쩌겠어': 6382, '응접실': 6383, '말끔': 6384, '간만': 6385, '타래': 6386, '신랄하다': 6387, '잘살다': 6388, '토실하다': 6389, '불청객': 6390, '만반': 6391, '태세': 6392, '성품': 6393, '이실': 6394, '우연': 6395, '식구': 6396, '꺼': 6397, '보상금': 6398, '제갈': 6399, '만신창이': 6400, '꿈일': 6401, '퍼덕': 6402, '먹구름': 6403, '자문': 6404, '주량': 6405, '납': 6406, '숯댕': 6407, '종사': 6408, '알거지': 6409, '몸속': 6410, '푸드득': 6411, '난감하다': 6412, '고결하다': 6413, '씌': 6414, '승부': 6415, '열심': 6416, '주름살': 6417, '일가견': 6418, '때려눕혔다': 6419, '야기': 6420, '보통': 6421, '죄목': 6422, '착석': 6423, '구려': 6424, '포박': 6425, '둥실둥실': 6426, '무자비하다': 6427, '미천하다': 6428, '점칠': 6429, '뚜렷하다': 6430, '발송': 6431, '생김새': 6432, '레드와인': 6433, '산골': 6434, '진정하다': 6435, '간수': 6436, '침울하다': 6437, '자칭': 6438, '대박': 6439, '건만': 6440, '창자': 6441, '기해': 6442, '찬성': 6443, '찻숟가락': 6444, '남아도': 6445, '옷자락': 6446, '댕기': 6447, '배치': 6448, '저녁놀': 6449, '더군다나': 6450, '나이팅게일': 6451, '소비': 6452, '은덕': 6453, '자비롭다': 6454, '깡패': 6455, '다나': 6456, '소산': 6457, '다분하다': 6458, '낮잠': 6459, '요란': 6460, '경향': 6461, '띤': 6462, '수증기': 6463, '투명하다': 6464, '이쑤시개': 6465, '뒷': 6466, '종인': 6467, '키로': 6468, '설거지': 6469, '식탁보': 6470, '놈팡이': 6471, '어기적어기적': 6472, '덜걱덜걱': 6473, '만연하다': 6474, '홍길동': 6475, '껑충': 6476, '부리부리하다': 6477, '눈매': 6478, '어짤': 6479, '벤치': 6480, '그람시': 6481, '발가락': 6482, '뭇': 6483, '보충': 6484, '심지': 6485, '내게로': 6486, '수북하다': 6487, '끝없다': 6488, '유독': 6489, '도출': 6490, '직빵': 6491, '실실': 6492, '치장': 6493, '연봉': 6494, '쓰다듬다': 6495, '왕가': 6496, '정성': 6497, '자신만만하다': 6498, '어미': 6499, '끝내다': 6500, '진중하다': 6501, '분열': 6502, '애릴스': 6503, '말고는': 6504, '영어': 6505, '조지': 6506, '거르면서': 6507, '대면': 6508, '보듬다': 6509, '안락하다': 6510, '오색': 6511, '옻칠': 6512, '광택': 6513, '잡혀가다': 6514, '쏜살같다': 6515, '조달': 6516, '터베': 6517, '특권': 6518, '주르르': 6519, '속인': 6520, '자긍심': 6521, '시로': 6522, '태피스트리': 6523, '캐비닛': 6524, '달랑': 6525, '초가': 6526, '배심': 6527, '광활하다': 6528, '쓰시': 6529, '다고': 6530, '박아': 6531, '검정색': 6532, '도예': 6533, '세리': 6534, '망나니': 6535, '은잔': 6536, '발판': 6537, '떨기': 6538, '실신': 6539, '인과': 6540, '페하': 6541, '격': 6542, '졸졸': 6543, '멍충': 6544, '이야말로': 6545, '향수병': 6546, '연고로': 6547, '흥건': 6548, '자각': 6549, '떠나오다': 6550, '캥캥': 6551, '동일하다': 6552, '쉽다': 6553, '검댕': 6554, '선박': 6555, '실리다': 6556, '수일': 6557, '전시': 6558, '더불다': 6559, '효도': 6560, '건조': 6561, '쉬이': 6562, '부라리다': 6563, '곧이': 6564, '예사롭다': 6565, '부엉부엉': 6566, '갈겨': 6567, '우뚝': 6568, '흐르르': 6569, '르': 6570, '생선': 6571, '야마': 6572, '출세': 6573, '자시다': 6574, '수렁': 6575, '교환': 6576, '애호가': 6577, '자칫': 6578, '묽다': 6579, '패자': 6580, '야외': 6581, '빚진': 6582, '장부': 6583, '살찌다': 6584, '가정교사': 6585, '들러리': 6586, '조수': 6587, '경비원': 6588, '서기': 6589, '지급': 6590, '나본': 6591, '혈색': 6592, '잡아매다': 6593, '일말': 6594, '낄낄': 6595, '성령': 6596, '강림절': 6597, '둘러쌓다': 6598, '기우': 6599, '뚱하다': 6600, '아차': 6601, '증표': 6602, '힐금힐금': 6603, '리신': 6604, '다다': 6605, '펑퍼짐하다': 6606, '안쪽': 6607, '바른': 6608, '급속도': 6609, '인거': 6610, '머프': 6611, '일만': 6612, '흥부가': 6613, '속담': 6614, '무색': 6615, '사원': 6616, '여신': 6617, '호락호락하다': 6618, '청취': 6619, '영롱하다': 6620, '심각': 6621, '벙긋벙긋': 6622, '양부': 6623, '뜨내기': 6624, '엮이긴': 6625, '구비': 6626, '발밑': 6627, '치마': 6628, '땋았던': 6629, '꾸벅꾸벅': 6630, '짓궂다': 6631, '일리': 6632, '혈육': 6633, '해조': 6634, '기합': 6635, '진동': 6636, '에네케': 6637, '베네케': 6638, '적의': 6639, '천명': 6640, '에까지도': 6641, '험하다': 6642, '산길': 6643, '장통': 6644, '들먹이다': 6645, '사로잡히다': 6646, '새우다': 6647, '무스': 6648, '름': 6649, '누었': 6650, '뒤척거리다': 6651, '튼튼하다': 6652, '간섭': 6653, '오라기': 6654, '잘려지다': 6655, '혈통': 6656, '황폐': 6657, '군침': 6658, '잘잘': 6659, '다리다': 6660, '따위': 6661, '산속': 6662, '유의': 6663, '대동단결': 6664, '석류나무': 6665, '강가': 6666, '베드': 6667, '반란': 6668, '부젓가락': 6669, '친지': 6670, '아우르다': 6671, '연다': 6672, '허약하다': 6673, '목욕탕': 6674, '욕조': 6675, '나른하다': 6676, '추궁': 6677, '막연하다': 6678, '흙투성이': 6679, '희희낙락': 6680, '폭로': 6681, '덜썩': 6682, '텄': 6683, '몸무게': 6684, '산신': 6685, '여물': 6686, '디': 6687, '엑스': 6688, '치었더랬': 6689, '약도': 6690, '박음': 6691, '아작이다': 6692, '아이참': 6693, '언월도': 6694, '순순하다': 6695, '갠': 6696, '낟알': 6697, '골로': 6698, '헛디디다': 6699, '맞닿다': 6700, '예외': 6701, '입어보다': 6702, '호출': 6703, '탁탁': 6704, '물개': 6705, '연어': 6706, '쩔뚝': 6707, '교수': 6708, '말뜻': 6709, '빈둥거리': 6710, '횡재': 6711, '뒤꿈치': 6712, '무뚝뚝하다': 6713, '킨데': 6714, '끝점': 6715, '불규칙': 6716, '넋두리': 6717, '요망': 6718, '탈곡': 6719, '제격': 6720, '탄복': 6721, '기독교도': 6722, '아침나절': 6723, '똥찰': 6724, '안나': 6725, '플레이': 6726, '고위': 6727, '관료': 6728, '마우스': 6729, '트랩': 6730, '문과': 6731, '메모리': 6732, '스무': 6733, '훼방': 6734, '작품': 6735, '솔': 6736, '부유': 6737, '애용': 6738, '구입': 6739, '흘러가다': 6740, '굽기': 6741, '청해': 6742, '합치': 6743, '아들웨렐': 6744, '이스트라': 6745, '실천': 6746, '작업실': 6747, '애란': 6748, '불순': 6749, '책임': 6750, '가난뱅이': 6751, '발린': 6752, '시큼하다': 6753, '캐모마일': 6754, '물엿': 6755, '인색하다': 6756, '땔나무': 6757, '사교': 6758, '잠입': 6759, '뿜어져': 6760, '자욱이': 6761, '발검': 6762, '약용': 6763, '배반': 6764, '공도': 6765, '선왕': 6766, '가마니': 6767, '대청': 6768, '보존': 6769, '나지막하다': 6770, '하모니': 6771, '섭하다': 6772, '러마': 6773, '세심': 6774, '조밀하다': 6775, '꼼꼼하다': 6776, '기민하다': 6777, '넘겨보다': 6778, '고전': 6779, '축소': 6780, '부지런': 6781, '팔팔': 6782, '방해꾼': 6783, '해파리': 6784, '날궂': 6785, '매무새': 6786, '극단': 6787, '택': 6788, '그나': 6789, '술자리': 6790, '타월': 6791, '너비': 6792, '전하라': 6793, '거꾸로': 6794, '제자': 6795, '어지럽다': 6796, '겉옷': 6797, '마우이': 6798, '장차': 6799, '하옵다': 6800, '검은색': 6801, '비병': 6802, '일체': 6803, '삭둑': 6804, '벌꿀': 6805, '한없이': 6806, '워질': 6807, '동강이': 6808, '칭얼거리다': 6809, '욱': 6810, '말미암아': 6811, '필로': 6812, '오므라들다': 6813, '골다': 6814, '살았더랬': 6815, '약자': 6816, '웬만큼': 6817, '쌔야': 6818, '모르타르': 6819, '신신당부': 6820, '나일': 6821, '말쑥하다': 6822, '떠돌다': 6823, '할퀴다': 6824, '빨강': 6825, '시민': 6826, '기병': 6827, '임마': 6828, '자리야': 6829, '절차': 6830, '뭉개': 6831, '시원찮다': 6832, '나이까': 6833, '체력': 6834, '천대': 6835, '부옇다': 6836, '지성': 6837, '섬기다': 6838, '파멸하다': 6839, '펄럭이다': 6840, '황금머릿결': 6841, '세려': 6842, '같이만': 6843, '정녕': 6844, '대접': 6845, '모피': 6846, '집도': 6847, '방편': 6848, '셔': 6849, '막무가내': 6850, '고도': 6851, '다급해지다': 6852, '멸망': 6853, '독일어': 6854, '대금': 6855, '포개다': 6856, '종소리': 6857, '전신': 6858, '최상': 6859, '금기': 6860, '악화': 6861, '배움': 6862, '갈아': 6863, '꼬부라지다': 6864, '꼬기': 6865, '부부싸움': 6866, '여부': 6867, '혼동': 6868, '치고는': 6869, '직하다': 6870, '명백하다': 6871, '솔개': 6872, '친숙하다': 6873, '벌판': 6874, '신앙': 6875, '기세': 6876, '독기': 6877, '양하다': 6878, '번지르르하다': 6879, '요런': 6880, '얄밉다': 6881, '지인': 6882, '창조자': 6883, '현관': 6884, '상체': 6885, '산뜻하다': 6886, '사냥터': 6887, '정처': 6888, '동맹국': 6889, '벽돌': 6890, '바깥쪽': 6891, '얼어붙다': 6892, '구형': 6893, '외침': 6894, '있었쬬': 6895, '개선': 6896, '쪼무라기': 6897, '기별': 6898, '치하': 6899, '하사': 6900, '특징': 6901, '덩달아': 6902, '상이': 6903, '으아': 6904, '게단': 6905, '정교하다': 6906, '피치': 6907, '골수': 6908, '고초': 6909, '뛰어오다': 6910, '캔디': 6911, '미남': 6912, '땅거미': 6913, '덧붙이기': 6914, '되새': 6915, '너무나': 6916, '시름시름': 6917, '핼쑥': 6918, '디디다': 6919, '태초': 6920, '글렸': 6921, '청중': 6922, '모면': 6923, '어쩌겠다': 6924, '양파': 6925, '튤립': 6926, '적지': 6927, '다리미질': 6928, '천벌': 6929, '하듯': 6930, '흩날리다': 6931, '논바닥': 6932, '쩌억': 6933, '나무껍질': 6934, '밥줄': 6935, '부럽다': 6936, '내심': 6937, '미끄럽다': 6938, '공통': 6939, '효성': 6940, '산소': 6941, '묘': 6942, '신지도': 6943, '쇠똥': 6944, '현세': 6945, '재수': 6946, '나부끼다': 6947, '딱이다': 6948, '잡아타다': 6949, '폭력': 6950, '고충': 6951, '아마로': 6952, '지정': 6953, '집합': 6954, '졸라': 6955, '다발': 6956, '도가머리': 6957, '대위': 6958, '계급': 6959, '간곡히': 6960, '늦가을': 6961, '가시다': 6962, '읍내': 6963, '엄지손가락': 6964, '폭': 6965, '만큼도': 6966, '농민': 6967, '쾅쾅': 6968, '탕탕': 6969, '소파': 6970, '음료수': 6971, '자포자기': 6972, '상념': 6973, '보슈': 6974, '변치': 6975, '기력': 6976, '판단': 6977, '참내': 6978, '전이': 6979, '낭비': 6980, '면목': 6981, '밤나무': 6982, '비스킷': 6983, '사먹다': 6984, '목말': 6985, '사업': 6986, '귀로': 6987, '칸탈': 6988, '부트': 6989, '제국': 6990, '장하': 6991, '칭호': 6992, '위아래': 6993, '먹어주다': 6994, '어쩌게': 6995, '수다': 6996, '보유': 6997, '다림질': 6998, '계략': 6999, '생활비': 7000, '절약': 7001, '점심때': 7002, '자진': 7003, '쭈르르': 7004, '잡아가다': 7005, '쑥쑥': 7006, '통통하다': 7007, '문틈': 7008, '과만': 7009, '맨발': 7010, '짐작': 7011, '신세': 7012, '폐허': 7013, '망가지다': 7014, '고오': 7015, '역경': 7016, '정의': 7017, '진행중': 7018, '부터라도': 7019, '내보이다': 7020, '하소': 7021, '구렁': 7022, '상승': 7023, '익숙': 7024, '조만간': 7025, '약샥': 7026, '탄성': 7027, '내려놓음': 7028, '슝': 7029, '예고': 7030, '등장': 7031, '어림': 7032, '어치': 7033, '두뇌': 7034, '난장판': 7035, '부슬부슬': 7036, '지피다': 7037, '림': 7038, 'ㅜㅜ': 7039, '누군': 7040, '반감': 7041, '전력': 7042, '주먹다짐': 7043, '광란': 7044, '흘러나오다': 7045, '보이시': 7046, '간식': 7047, '제품': 7048, '휑하': 7049, '험상궂다': 7050, '당혹스럽다': 7051, '우리나라': 7052, '이색': 7053, '코끼리': 7054, '듬직하다': 7055, '자질': 7056, '놔두다': 7057, '기획': 7058, '쓰리다': 7059, '메르쿠리우스': 7060, '예사': 7061, '배신': 7062, '꽝': 7063, '오호': 7064, '특이하다': 7065, '본격': 7066, '한자리': 7067, '맴돌다': 7068, '상기': 7069, '오도': 7070, '제기랄': 7071, '상당수': 7072, '합': 7073, '디다': 7074, '푸른색': 7075, '지극히': 7076, '부실': 7077, '증언': 7078, '흉악하다': 7079, '멍석': 7080, '유심': 7081, '연한': 7082, '헤': 7083, '까닥': 7084, '기척': 7085, '모기': 7086, '건설': 7087, '한없다': 7088, '고마움': 7089, '나뒹굴다': 7090, '신청': 7091, '소매': 7092, '고이': 7093, '도망자': 7094, '영악': 7095, '헝클어지다': 7096, '슬기': 7097, '일부러': 7098, '국물': 7099, '탱탱하다': 7100, '안하무인': 7101, '황홀하다': 7102, '나머진': 7103, '재판정': 7104, '쉬쉬': 7105, '구출': 7106, '바다표범': 7107, '우스꽝스럽다': 7108, '엄습할': 7109, '광선': 7110, '라지': 7111, '전만': 7112, '오만하다': 7113, '물방아': 7114, '둑': 7115, '자만하다': 7116, '뭐땜시': 7117, '창창하다': 7118, '하스': 7119, '팔짝': 7120, '기색': 7121, '갈팡질팡': 7122, '논의': 7123, '혹은': 7124, '가락지': 7125, '마안': 7126, '설': 7127, '대만': 7128, '맨손': 7129, '굴리': 7130, '비치': 7131, '즐거이': 7132, '서양': 7133, '어어': 7134, '이산': 7135, '독뱀': 7136, '으악': 7137, '몽롱': 7138, '에멜랄드': 7139, '깍': 7140, '아만': 7141, '새색시': 7142, '코찌질': 7143, '불게': 7144, '야만': 7145, '펄': 7146, '직사각형': 7147, '장막': 7148, '걷히다': 7149, '착오': 7150, '활용': 7151, '사오다': 7152, '논박': 7153, '리야': 7154, '동심': 7155, '이성': 7156, '꼴깍': 7157, '편찮다': 7158, '독버섯': 7159, '얼핏': 7160, '꾼걸': 7161, '인적': 7162, '틀어박히다': 7163, '수수료': 7164, '천사분': 7165, '예의범절': 7166, '단연': 7167, '쌩': 7168, '여름날': 7169, '회상': 7170, '꾸밈': 7171, '고기잡이': 7172, '칭칭': 7173, '공지': 7174, '모이라': 7175, '부수': 7176, '무정하다': 7177, '타고나다': 7178, '의아': 7179, '차신': 7180, '위고': 7181, '논': 7182, '이승': 7183, '소가': 7184, '낌새': 7185, '잠수': 7186, '삐었군': 7187, '명랑하다': 7188, '활기차다': 7189, '영위': 7190, '매끄럽다': 7191, '푸른빛': 7192, '기괴하다': 7193, '향기롭다': 7194, '야망': 7195, '종교': 7196, '현란하다': 7197, '부추기다': 7198, '묶인': 7199, '보다는': 7200, '샐러드': 7201, '반달': 7202, '머리핀': 7203, '시간표': 7204, '한결같이': 7205, '이래': 7206, '도덕': 7207, '꼴통': 7208, '연루': 7209, '끝내주다': 7210, '중간지점': 7211, '핏': 7212, '권위': 7213, '딜레마': 7214, '고령': 7215, '그러면': 7216, '말발굽': 7217, '딴': 7218, '어연': 7219, '하체': 7220, '템포': 7221, '의회': 7222, '한낱': 7223, '아양': 7224, '치부': 7225, '상도': 7226, '플리': 7227, '마오': 7228, '푹푹': 7229, '한단': 7230, '직시': 7231, '격노하다': 7232, '무모하다': 7233, '렸습': 7234, '반동': 7235, '곤거렸답': 7236, '고요한': 7237, '성경': 7238, '헝가리': 7239, '위기일발': 7240, '식음': 7241, '전폐': 7242, '세계': 7243, '지칭': 7244, '차분해지다': 7245, '번영': 7246, '엎지르': 7247, '박음질': 7248, '매질': 7249, '비호감': 7250, '절룩거렸': 7251, '수근': 7252, '실쭉': 7253, '땡': 7254, '어떡하다': 7255, '곤충': 7256, '해충': 7257, '번쩍이다': 7258, '광산': 7259, '말다툼': 7260, '근육': 7261, '노년': 7262, '경찰관': 7263, '마차도': 7264, '헤르메스': 7265, '갔더랬': 7266, '삐': 7267, '기우뚱': 7268, '번데기': 7269, '저딴': 7270, '말함': 7271, '유리하다': 7272, '어인': 7273, '라운드': 7274, '엘프': 7275, '예상': 7276, '와는': 7277, '줄줄': 7278, '죽도': 7279, '숟가락': 7280, '남고': 7281, '흐느끼': 7282, '귀의': 7283, '우의': 7284, '혔': 7285, '도지': 7286, '피고': 7287, '마술사': 7288, '간단': 7289, '떠돌아다니다': 7290, '큰아들': 7291, '낯': 7292, '치료': 7293, '말고도': 7294, '다량': 7295, '수거': 7296, '상당': 7297, '겸비': 7298, '존엄': 7299, '도록': 7300, '어께': 7301, '메더': 7302, '예술': 7303, '독보': 7304, '타작': 7305, '움직임': 7306, '요하': 7307, '박람회': 7308, '총애': 7309, '갖가지': 7310, '목도': 7311, '고통스럽다': 7312, '낭자': 7313, '기울다': 7314, '각하': 7315, '올림포스': 7316, '괴팍하다': 7317, '변덕': 7318, '왕겨': 7319, '방가지똥': 7320, '대자': 7321, '뭣땜시': 7322, '함박': 7323, '축축': 7324, '등신': 7325, '뉴': 7326, '콩': 7327, '팔지': 7328, '들들': 7329, '목걸이': 7330, '지하방': 7331, '진시': 7332, '롤': 7333, '제자리': 7334, '잇다': 7335, '꼬장': 7336, '자초': 7337, '애별레': 7338, '빈손': 7339, '전남편': 7340, '임자': 7341, '사안': 7342, '흥얼거리다': 7343, '했더랬다': 7344, '어두컴컴하다': 7345, '씌우개': 7346, '친목': 7347, '생명체': 7348, '정육점': 7349, '잠옷': 7350, '까무러치듯': 7351, '어가': 7352, '본때': 7353, '절명': 7354, '하인츠하인츠': 7355, '지목': 7356, '라선': 7357, '섬세하다': 7358, '장밋빛': 7359, '에서가': 7360, '한바탕': 7361, '십사': 7362, '찾아다니다': 7363, '떤다': 7364, '불도': 7365, '퍼거': 7366, '응수': 7367, '할멈': 7368, '대수롭다': 7369, '구우러': 7370, '추기': 7371, '스텝': 7372, '거덜': 7373, '메르': 7374, '일련': 7375, '조합': 7376, '바라슈': 7377, '꼬꼬댁': 7378, '리다': 7379, '분하다': 7380, '후추': 7381, '물기둥': 7382, '암호': 7383, '산비탈': 7384, '또렷하다': 7385, '삿대질': 7386, '언어': 7387, '마왕': 7388, '축북': 7389, '거처': 7390, '천연두': 7391, '베이': 7392, '임신': 7393, '추구': 7394, '더하기': 7395, '아저씬': 7396, '책표지': 7397, '그려지다': 7398, '돈칠': 7399, '아무개': 7400, '문패': 7401, '대문': 7402, '겸': 7403, '댕': 7404, '흘낏': 7405, '평': 7406, '진압해': 7407, '속셈': 7408, '믿음': 7409, '회오리바람': 7410, '저지르다': 7411, '만행': 7412, '얼버무리다': 7413, '야간': 7414, '왕깨': 7415, '타이밍': 7416, '관목': 7417, '점검': 7418, '혼나다': 7419, '붓': 7420, '말막': 7421, '작별인사': 7422, '다툼': 7423, '성장하다': 7424, '완료': 7425, '자상하다': 7426, '반박': 7427, '손시늉': 7428, '헌병': 7429, '머스켓총': 7430, '백방': 7431, '추적자': 7432, '어르다': 7433, '수포': 7434, '구혼': 7435, '다오': 7436, '쑥대밭': 7437, '옴짝': 7438, '유치': 7439, '찢기다': 7440, '상륙': 7441, '정신없이': 7442, '의거': 7443, '텁수룩': 7444, '기기': 7445, '날갯짓들': 7446, '건장하다': 7447, '장정': 7448, '킹킹': 7449, '비눗물': 7450, '화단': 7451, '남매': 7452, '긴장': 7453, '찰싹': 7454, '작일': 7455, '변수': 7456, '재료': 7457, '용의주도하다': 7458, '가증': 7459, '버클': 7460, '제곱미터': 7461, '현대': 7462, '붕장어': 7463, '코일': 7464, '넉넉하다': 7465, '중심': 7466, '추워지다': 7467, '황홀': 7468, '케': 7469, '띄우다': 7470, '궁도': 7471, '남아돌다': 7472, '마나': 7473, '상류': 7474, '사회': 7475, '츠은': 7476, '말주변': 7477, '마찰': 7478, '부인과': 7479, '호화': 7480, '육장': 7481, '자수': 7482, '눕혔어': 7483, '닥치다': 7484, '대하': 7485, '손대다': 7486, '미워하다': 7487, '평상시': 7488, '오늘날': 7489, '몽땅하다': 7490, '역청': 7491, '다시금': 7492, '구렴': 7493, '얕다': 7494, '창피': 7495, '밥풀': 7496, '주걱': 7497, '자리다': 7498, '엉망': 7499, '졸리': 7500, '웠': 7501, '스멀스멀': 7502, '다듬다': 7503, '바지': 7504, '멜빵': 7505, '엮었어': 7506, '톱': 7507, '홍수': 7508, '뿔뿔이': 7509, '모임': 7510, '맹목': 7511, '현재': 7512, '발사': 7513, '총알': 7514, '튕겨져': 7515, '이상은': 7516, '초도': 7517, '덕지덕지': 7518, '가자미': 7519, '꼬불꼬불': 7520, '불러일으키다': 7521, '널리': 7522, '대길': 7523, '짓거리': 7524, '갑쇼': 7525, '노획': 7526, '영양': 7527, '움푹하다': 7528, '대시': 7529, '말햇': 7530, '고퐁': 7531, '타일': 7532, '대궐': 7533, '허리춤': 7534, '요령': 7535, '기능': 7536, '밀밭': 7537, '어째서': 7538, '배속': 7539, '아등바등': 7540, '까닥까닥': 7541, '소자': 7542, '불찰': 7543, '누리로': 7544, '뒷바라지': 7545, '여유': 7546, '맞닥뜨리': 7547, '재잘재잘': 7548, '견습': 7549, '신조': 7550, '군요': 7551, '의원님': 7552, '굴지': 7553, '흔쾌하다': 7554, '녹': 7555, '문구': 7556, '숲길': 7557, '뭡': 7558, '깜빡이다': 7559, '환대': 7560, '보쇼': 7561, '상사병': 7562, '일종': 7563, '수심': 7564, '경황': 7565, '따끔하다': 7566, '텐데도': 7567, '모질다': 7568, '괴성': 7569, '정적': 7570, '거실': 7571, '벼루': 7572, '쓸데없이': 7573, '기품': 7574, '아슬아슬': 7575, '참을성': 7576, '과정': 7577, '대수': 7578, '헛되': 7579, '스승': 7580, '가사도': 7581, '넘겨다보다': 7582, '흥이': 7583, '신체': 7584, '결함': 7585, '벌겋다': 7586, '가닥': 7587, '탕': 7588, '곱': 7589, '넷째': 7590, '기적': 7591, '과실': 7592, '감미롭다': 7593, '바라다보다': 7594, '호명': 7595, '자게': 7596, '모드': 7597, '끼우다': 7598, '남김없이': 7599, '부아': 7600, '치밀다': 7601, '사리다': 7602, '광': 7603, '옹': 7604, '널다': 7605, '단도': 7606, '쌔': 7607, '겨루다': 7608, '수소': 7609, '버둥버둥': 7610, '거렸다': 7611, '연장': 7612, '긴지': 7613, '이해력': 7614, '산위': 7615, '할망구': 7616, '만류': 7617, '발의': 7618, '주요한': 7619, '자꾸나': 7620, '미움': 7621, '끓다': 7622, '허둥지둥': 7623, '군데': 7624, '덜컹': 7625, '귀하': 7626, '공경': 7627, '실으': 7628, '안해진': 7629, '스타일': 7630, '나랏님': 7631, '저러다': 7632, '대거': 7633, '이분': 7634, '이용': 7635, '상실하다': 7636, '갈고리': 7637, '띄엄띄엄': 7638, '완만': 7639, '경사지다': 7640, '승리': 7641, '일그러지다': 7642, '주부': 7643, '메모': 7644, '경직': 7645, '티끌': 7646, '꼴다': 7647, '초래': 7648, '악귀': 7649, '뽀뽀': 7650, '산도': 7651, '파편': 7652, '씽긋': 7653, '약탈': 7654, '사들이다': 7655, '계절': 7656, '누이동생': 7657, '모함': 7658, '먹보': 7659, '불한당': 7660, '세도': 7661, '받침': 7662, '바로잡다': 7663, '누비': 7664, '다방면': 7665, '노심초사': 7666, '팬': 7667, '똥똥하다': 7668, '달이다': 7669, '욕설': 7670, '획': 7671, '거무스름': 7672, '채비': 7673, '깡그리': 7674, '처량하다': 7675, '수리부엉이': 7676, '들통': 7677, '왓따': 7678, '상념이더': 7679, '엷다': 7680, '청색': 7681, '싱크대': 7682, '여생': 7683, '차림새': 7684, '승인': 7685, '현혹': 7686, '독일인': 7687, '표준어': 7688, '나긋하다': 7689, '엮': 7690, '개운하다': 7691, '열정': 7692, '헛수고였': 7693, '변두리': 7694, '도배': 7695, '원한': 7696, '봉투': 7697, '기어오르다': 7698, '위선': 7699, '비췬': 7700, '거머쥐': 7701, '무궁무진': 7702, '그으': 7703, '빔': 7704, '누그러뜨릴': 7705}\n"
     ]
    }
   ],
   "source": [
    "print(tokenizer.word_index)"
   ]
  },
  {
   "cell_type": "code",
   "execution_count": 214,
   "metadata": {},
   "outputs": [
    {
     "name": "stdout",
     "output_type": "stream",
     "text": [
      "단어 집합(vocabulary)의 크기 : 7705\n",
      "등장 빈도가 3번 이하인 희귀 단어의 수: 4379\n",
      "단어 집합에서 희귀 단어의 비율: 56.83322517845555\n",
      "전체 등장 빈도에서 희귀 단어 등장 빈도 비율: 5.846538923370935\n"
     ]
    }
   ],
   "source": [
    "threshold = 4\n",
    "total_cnt = len(tokenizer.word_index) # 단어의 수\n",
    "rare_cnt = 0   # 등장 빈도수가 threshold보다 작은 단어의 개수를 카운트\n",
    "total_freq = 0 # 훈련 데이터의 전체 단어 빈도수 총 합\n",
    "rare_freq = 0  # 등장 빈도수가 threshold보다 작은 단어의 등장 빈도수의 총 합\n",
    "\n",
    "# 단어와 빈도수의 쌍(pair)을 key와 value로 받는다.\n",
    "for key, value in tokenizer.word_counts.items():\n",
    "    total_freq = total_freq + value\n",
    "\n",
    "    # 단어의 등장 빈도수가 threshold보다 작으면\n",
    "    if(value < threshold):\n",
    "        rare_cnt = rare_cnt + 1\n",
    "        rare_freq = rare_freq + value\n",
    "\n",
    "print('단어 집합(vocabulary)의 크기 :',total_cnt)\n",
    "print('등장 빈도가 %s번 이하인 희귀 단어의 수: %s'%(threshold - 1, rare_cnt))\n",
    "print(\"단어 집합에서 희귀 단어의 비율:\", (rare_cnt / total_cnt)*100)\n",
    "print(\"전체 등장 빈도에서 희귀 단어 등장 빈도 비율:\", (rare_freq / total_freq)*100)"
   ]
  },
  {
   "cell_type": "code",
   "execution_count": 215,
   "metadata": {},
   "outputs": [
    {
     "name": "stdout",
     "output_type": "stream",
     "text": [
      "단어 집합의 크기 : 3327\n"
     ]
    }
   ],
   "source": [
    "# 전체 단어 개수 중 빈도수 2이하인 단어는 제거.\n",
    "# 0번 패딩 토큰을 고려하여 + 1\n",
    "vocab_size = total_cnt - rare_cnt + 1\n",
    "print('단어 집합의 크기 :',vocab_size)"
   ]
  },
  {
   "cell_type": "code",
   "execution_count": 216,
   "metadata": {},
   "outputs": [],
   "source": [
    "tokenizer = Tokenizer(vocab_size) \n",
    "tokenizer.fit_on_texts(X_train)\n",
    "X_train = tokenizer.texts_to_sequences(X_train)\n",
    "X_test = tokenizer.texts_to_sequences(X_test)"
   ]
  },
  {
   "cell_type": "code",
   "execution_count": 217,
   "metadata": {},
   "outputs": [
    {
     "name": "stdout",
     "output_type": "stream",
     "text": [
      "[[361, 1624, 1, 9], [12, 2882], []]\n"
     ]
    }
   ],
   "source": [
    "print(X_train[:3])"
   ]
  },
  {
   "cell_type": "code",
   "execution_count": 218,
   "metadata": {},
   "outputs": [],
   "source": [
    "# 빈 샘플 제거 \n",
    "drop_train = [index for index, sentence in enumerate(X_train) if len(sentence) < 1]\n",
    "drop_train2 = [index for index, sentence in enumerate(X_test) if len(sentence) < 1]"
   ]
  },
  {
   "cell_type": "code",
   "execution_count": 219,
   "metadata": {},
   "outputs": [
    {
     "name": "stdout",
     "output_type": "stream",
     "text": [
      "11747\n",
      "11699\n",
      "11699\n"
     ]
    },
    {
     "name": "stderr",
     "output_type": "stream",
     "text": [
      "C:\\Users\\Changho_Notebook\\anaconda3\\lib\\site-packages\\numpy\\core\\_asarray.py:83: VisibleDeprecationWarning: Creating an ndarray from ragged nested sequences (which is a list-or-tuple of lists-or-tuples-or ndarrays with different lengths or shapes) is deprecated. If you meant to do this, you must specify 'dtype=object' when creating the ndarray\n",
      "  return array(a, dtype, copy=False, order=order)\n"
     ]
    }
   ],
   "source": [
    "print(len(X_train))\n",
    "y_train = list(y_train)\n",
    "X_train = np.delete(X_train, drop_train, axis=0)\n",
    "y_train = np.delete(y_train, drop_train, axis=0)\n",
    "print(len(X_train))\n",
    "print(len(y_train))"
   ]
  },
  {
   "cell_type": "code",
   "execution_count": 220,
   "metadata": {},
   "outputs": [
    {
     "name": "stdout",
     "output_type": "stream",
     "text": [
      "1300\n",
      "1300\n"
     ]
    }
   ],
   "source": [
    "y_test = list(y_test)\n",
    "X_test = np.delete(X_test, drop_train2, axis=0)\n",
    "y_test = np.delete(y_test, drop_train2, axis=0)\n",
    "print(len(X_test))\n",
    "print(len(y_test))"
   ]
  },
  {
   "cell_type": "code",
   "execution_count": 221,
   "metadata": {},
   "outputs": [
    {
     "name": "stdout",
     "output_type": "stream",
     "text": [
      "리뷰의 최대 길이 : 106\n",
      "리뷰의 평균 길이 : 9.517394649115309\n"
     ]
    },
    {
     "data": {
      "image/png": "[encoded data removed]",
      "text/plain": [
       "<Figure size 432x288 with 1 Axes>"
      ]
     },
     "metadata": {
      "needs_background": "light"
     },
     "output_type": "display_data"
    }
   ],
   "source": [
    "# 패딩\n",
    "print('리뷰의 최대 길이 :',max(len(l) for l in X_train))\n",
    "print('리뷰의 평균 길이 :',sum(map(len, X_train))/len(X_train))\n",
    "plt.hist([len(s) for s in X_train], bins=50)\n",
    "plt.xlabel('length of samples')\n",
    "plt.ylabel('number of samples')\n",
    "plt.show()"
   ]
  },
  {
   "cell_type": "code",
   "execution_count": 222,
   "metadata": {},
   "outputs": [],
   "source": [
    "def below_threshold_len(max_len, nested_list):\n",
    "  cnt = 0\n",
    "  for s in nested_list:\n",
    "    if(len(s) <= max_len):\n",
    "        cnt = cnt + 1\n",
    "  print('전체 샘플 중 길이가 %s 이하인 샘플의 비율: %s'%(max_len, (cnt / len(nested_list))*100))"
   ]
  },
  {
   "cell_type": "code",
   "execution_count": 223,
   "metadata": {},
   "outputs": [
    {
     "name": "stdout",
     "output_type": "stream",
     "text": [
      "전체 샘플 중 길이가 30 이하인 샘플의 비율: 98.6836481750577\n"
     ]
    }
   ],
   "source": [
    "max_len = 30\n",
    "below_threshold_len(max_len, X_train)"
   ]
  },
  {
   "cell_type": "code",
   "execution_count": 224,
   "metadata": {},
   "outputs": [],
   "source": [
    "X_train = pad_sequences(X_train, maxlen = max_len)\n",
    "X_test = pad_sequences(X_test, maxlen = max_len)"
   ]
  },
  {
   "cell_type": "code",
   "execution_count": 225,
   "metadata": {},
   "outputs": [],
   "source": [
    "# y(결과값) 라벨링\n",
    "from tensorflow.keras.utils import to_categorical\n",
    "y_train = to_categorical(y_train)\n",
    "y_test = to_categorical(y_test)"
   ]
  },
  {
   "cell_type": "code",
   "execution_count": 226,
   "metadata": {},
   "outputs": [],
   "source": [
    "# 모델 시작 (LSTM)"
   ]
  },
  {
   "cell_type": "code",
   "execution_count": 227,
   "metadata": {},
   "outputs": [],
   "source": [
    "from tensorflow.keras.layers import Embedding, Dense, LSTM, GRU, Bidirectional\n",
    "from tensorflow.keras.models import Sequential\n",
    "from tensorflow.keras.models import load_model\n",
    "from tensorflow.keras.callbacks import EarlyStopping, ModelCheckpoint"
   ]
  },
  {
   "cell_type": "code",
   "execution_count": 228,
   "metadata": {},
   "outputs": [],
   "source": [
    "model = Sequential()\n",
    "model.add(Embedding(vocab_size, 100))\n",
    "model.add(Bidirectional(LSTM(256)))\n",
    "# model.add(Dense(256, activation = 'relu'))\n",
    "model.add(Dense(6,activation = 'softmax'))"
   ]
  },
  {
   "cell_type": "code",
   "execution_count": 229,
   "metadata": {},
   "outputs": [],
   "source": [
    "es = EarlyStopping(monitor = 'val_loss', mode = 'min', verbose = 1, patience = 4)\n",
    "mc = ModelCheckpoint('best_model.h5', monitor = 'val_acc', mode = 'max', verbose = 1, save_best_only = True)"
   ]
  },
  {
   "cell_type": "code",
   "execution_count": 230,
   "metadata": {
    "scrolled": true
   },
   "outputs": [
    {
     "name": "stdout",
     "output_type": "stream",
     "text": [
      "Epoch 1/15\n",
      "156/156 [==============================] - 9s 37ms/step - loss: 1.4940 - acc: 0.3881 - val_loss: 1.3399 - val_acc: 0.4688\n",
      "\n",
      "Epoch 00001: val_acc improved from -inf to 0.46880, saving model to best_model.h5\n",
      "Epoch 2/15\n",
      "156/156 [==============================] - 5s 32ms/step - loss: 1.2408 - acc: 0.5068 - val_loss: 1.2889 - val_acc: 0.4957\n",
      "\n",
      "Epoch 00002: val_acc improved from 0.46880 to 0.49573, saving model to best_model.h5\n",
      "Epoch 3/15\n",
      "156/156 [==============================] - 5s 33ms/step - loss: 1.0140 - acc: 0.6223 - val_loss: 1.2824 - val_acc: 0.5154\n",
      "\n",
      "Epoch 00003: val_acc improved from 0.49573 to 0.51538, saving model to best_model.h5\n",
      "Epoch 4/15\n",
      "156/156 [==============================] - 5s 33ms/step - loss: 0.8530 - acc: 0.6800 - val_loss: 1.3485 - val_acc: 0.5120\n",
      "\n",
      "Epoch 00004: val_acc did not improve from 0.51538\n",
      "Epoch 5/15\n",
      "156/156 [==============================] - 5s 33ms/step - loss: 0.7586 - acc: 0.7264 - val_loss: 1.4396 - val_acc: 0.5137\n",
      "\n",
      "Epoch 00005: val_acc did not improve from 0.51538\n",
      "Epoch 6/15\n",
      "156/156 [==============================] - 5s 34ms/step - loss: 0.6392 - acc: 0.7676 - val_loss: 1.5413 - val_acc: 0.5188\n",
      "\n",
      "Epoch 00006: val_acc improved from 0.51538 to 0.51880, saving model to best_model.h5\n",
      "Epoch 7/15\n",
      "156/156 [==============================] - 5s 34ms/step - loss: 0.5643 - acc: 0.7951 - val_loss: 1.6124 - val_acc: 0.5188\n",
      "\n",
      "Epoch 00007: val_acc did not improve from 0.51880\n",
      "Epoch 00007: early stopping\n"
     ]
    }
   ],
   "source": [
    "model.compile(optimizer='adam', loss='categorical_crossentropy', metrics=['acc'])\n",
    "history = model.fit(X_train, y_train, epochs=15, callbacks=[es, mc], batch_size=60, validation_split=0.2)\n",
    "# history = model.fit(X_train, y_train, epochs=15, callbacks=[mc], batch_size=60, validation_split=0.2)"
   ]
  },
  {
   "cell_type": "markdown",
   "metadata": {},
   "source": [
    "- LSTM 256\n",
    "    - adam -> 0.4939\n",
    "    - rmsprop -> 0.4311\n",
    "- LSTM 512 \n",
    "    - adam -> 0.4500 큰차이 없음 \n",
    "- GRU 256 \n",
    "    - adam -> 0.49215\n",
    "    - rmsprop -> 0.4180\n",
    "- GRU 512 \n",
    "    - adam -> 0.49825\n",
    "- BiLSTM\n",
    "    - adam -> 0.49651"
   ]
  },
  {
   "cell_type": "code",
   "execution_count": 72,
   "metadata": {},
   "outputs": [
    {
     "name": "stdout",
     "output_type": "stream",
     "text": [
      "41/41 [==============================] - 2s 10ms/step - loss: 1.2053 - acc: 0.5530\n",
      "\n",
      " 테스트 정확도: 0.5530\n"
     ]
    }
   ],
   "source": [
    "loaded_model = load_model('best_model.h5')\n",
    "print(\"\\n 테스트 정확도: %.4f\" % (loaded_model.evaluate(X_test, y_test)[1]))"
   ]
  },
  {
   "cell_type": "code",
   "execution_count": 53,
   "metadata": {},
   "outputs": [],
   "source": [
    "def sentiment_predict(new_sentence):\n",
    "  new_sentence = okt.morphs(new_sentence, stem=True) # 토큰화\n",
    "  new_sentence = [word for word in new_sentence if not word in stopwords] # 불용어 제거\n",
    "  encoded = tokenizer.texts_to_sequences([new_sentence]) # 정수 인코딩\n",
    "  pad_new = pad_sequences(encoded, maxlen = max_len) # 패딩\n",
    "  score = float(loaded_model.predict(pad_new)) # 예측\n",
    "  if(score > 0.5):\n",
    "    print(\"{:.2f}% 확률로 긍정 리뷰입니다.\\n\".format(score))\n",
    "  else:\n",
    "    print(\"{:.2f}% 확률로 부정 리뷰입니다.\\n\".format(score))"
   ]
  },
  {
   "cell_type": "code",
   "execution_count": 54,
   "metadata": {},
   "outputs": [
    {
     "ename": "TypeError",
     "evalue": "only size-1 arrays can be converted to Python scalars",
     "output_type": "error",
     "traceback": [
      "\u001b[1;31m---------------------------------------------------------------------------\u001b[0m",
      "\u001b[1;31mTypeError\u001b[0m                                 Traceback (most recent call last)",
      "\u001b[1;32m<ipython-input-54-b9f9205567c8>\u001b[0m in \u001b[0;36m<module>\u001b[1;34m\u001b[0m\n\u001b[1;32m----> 1\u001b[1;33m \u001b[0msentiment_predict\u001b[0m\u001b[1;33m(\u001b[0m\u001b[1;34m'안녕 나는 너를 만나러 왔어'\u001b[0m\u001b[1;33m)\u001b[0m\u001b[1;33m\u001b[0m\u001b[1;33m\u001b[0m\u001b[0m\n\u001b[0m",
      "\u001b[1;32m<ipython-input-53-77d7e618322b>\u001b[0m in \u001b[0;36msentiment_predict\u001b[1;34m(new_sentence)\u001b[0m\n\u001b[0;32m      4\u001b[0m   \u001b[0mencoded\u001b[0m \u001b[1;33m=\u001b[0m \u001b[0mtokenizer\u001b[0m\u001b[1;33m.\u001b[0m\u001b[0mtexts_to_sequences\u001b[0m\u001b[1;33m(\u001b[0m\u001b[1;33m[\u001b[0m\u001b[0mnew_sentence\u001b[0m\u001b[1;33m]\u001b[0m\u001b[1;33m)\u001b[0m \u001b[1;31m# 정수 인코딩\u001b[0m\u001b[1;33m\u001b[0m\u001b[1;33m\u001b[0m\u001b[0m\n\u001b[0;32m      5\u001b[0m   \u001b[0mpad_new\u001b[0m \u001b[1;33m=\u001b[0m \u001b[0mpad_sequences\u001b[0m\u001b[1;33m(\u001b[0m\u001b[0mencoded\u001b[0m\u001b[1;33m,\u001b[0m \u001b[0mmaxlen\u001b[0m \u001b[1;33m=\u001b[0m \u001b[0mmax_len\u001b[0m\u001b[1;33m)\u001b[0m \u001b[1;31m# 패딩\u001b[0m\u001b[1;33m\u001b[0m\u001b[1;33m\u001b[0m\u001b[0m\n\u001b[1;32m----> 6\u001b[1;33m   \u001b[0mscore\u001b[0m \u001b[1;33m=\u001b[0m \u001b[0mfloat\u001b[0m\u001b[1;33m(\u001b[0m\u001b[0mloaded_model\u001b[0m\u001b[1;33m.\u001b[0m\u001b[0mpredict\u001b[0m\u001b[1;33m(\u001b[0m\u001b[0mpad_new\u001b[0m\u001b[1;33m)\u001b[0m\u001b[1;33m)\u001b[0m \u001b[1;31m# 예측\u001b[0m\u001b[1;33m\u001b[0m\u001b[1;33m\u001b[0m\u001b[0m\n\u001b[0m\u001b[0;32m      7\u001b[0m   \u001b[1;32mif\u001b[0m\u001b[1;33m(\u001b[0m\u001b[0mscore\u001b[0m \u001b[1;33m>\u001b[0m \u001b[1;36m0.5\u001b[0m\u001b[1;33m)\u001b[0m\u001b[1;33m:\u001b[0m\u001b[1;33m\u001b[0m\u001b[1;33m\u001b[0m\u001b[0m\n\u001b[0;32m      8\u001b[0m     \u001b[0mprint\u001b[0m\u001b[1;33m(\u001b[0m\u001b[1;34m\"{:.2f}% 확률로 긍정 리뷰입니다.\\n\"\u001b[0m\u001b[1;33m.\u001b[0m\u001b[0mformat\u001b[0m\u001b[1;33m(\u001b[0m\u001b[0mscore\u001b[0m\u001b[1;33m)\u001b[0m\u001b[1;33m)\u001b[0m\u001b[1;33m\u001b[0m\u001b[1;33m\u001b[0m\u001b[0m\n",
      "\u001b[1;31mTypeError\u001b[0m: only size-1 arrays can be converted to Python scalars"
     ]
    }
   ],
   "source": [
    "sentiment_predict('안녕 나는 너를 만나러 왔어')"
   ]
  },
  {
   "cell_type": "code",
   "execution_count": null,
   "metadata": {},
   "outputs": [],
   "source": [
    "print(y_train)\n",
    "print(type(y_train))\n",
    "print(y_train[0])\n",
    "print(type(y_train[0]))"
   ]
  },
  {
   "cell_type": "code",
   "execution_count": null,
   "metadata": {},
   "outputs": [],
   "source": [
    "np.unique(y_train)"
   ]
  },
  {
   "cell_type": "code",
   "execution_count": null,
   "metadata": {},
   "outputs": [],
   "source": [
    "copy_dt = y_train.copy()"
   ]
  },
  {
   "cell_type": "code",
   "execution_count": null,
   "metadata": {},
   "outputs": [],
   "source": [
    "y_train = copy_dt\n",
    "y_train"
   ]
  },
  {
   "cell_type": "code",
   "execution_count": 475,
   "metadata": {},
   "outputs": [],
   "source": []
  },
  {
   "cell_type": "code",
   "execution_count": null,
   "metadata": {},
   "outputs": [],
   "source": []
  }
 ],
 "metadata": {
  "kernelspec": {
   "display_name": "Python 3",
   "language": "python",
   "name": "python3"
  },
  "language_info": {
   "codemirror_mode": {
    "name": "ipython",
    "version": 3
   },
   "file_extension": ".py",
   "mimetype": "text/x-python",
   "name": "python",
   "nbconvert_exporter": "python",
   "pygments_lexer": "ipython3",
   "version": "3.8.5"
  }
 },
 "nbformat": 4,
 "nbformat_minor": 4
}

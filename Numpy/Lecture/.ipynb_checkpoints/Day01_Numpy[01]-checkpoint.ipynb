{
 "cells": [
  {
   "cell_type": "markdown",
   "metadata": {},
   "source": [
    "### Numpy"
   ]
  },
  {
   "cell_type": "markdown",
   "metadata": {},
   "source": [
    "## 1. 학습목표"
   ]
  },
  {
   "cell_type": "markdown",
   "metadata": {},
   "source": [
    "### 배열과 리스트의 차이점을 배워보자"
   ]
  },
  {
   "cell_type": "code",
   "execution_count": 1,
   "metadata": {},
   "outputs": [],
   "source": [
    "import numpy as np"
   ]
  },
  {
   "cell_type": "code",
   "execution_count": 2,
   "metadata": {},
   "outputs": [
    {
     "data": {
      "text/plain": [
       "'1.19.2'"
      ]
     },
     "execution_count": 2,
     "metadata": {},
     "output_type": "execute_result"
    }
   ],
   "source": [
    "np.__version__"
   ]
  },
  {
   "cell_type": "markdown",
   "metadata": {},
   "source": [
    "### 배열 자료구조 클래스인 nderray - vector, metrix \n",
    "### 배열의 차원과 크기 - ndim, shape"
   ]
  },
  {
   "cell_type": "code",
   "execution_count": 3,
   "metadata": {},
   "outputs": [],
   "source": [
    "def aryinfo(arr) :\n",
    "    print(\"type : {}\".format(type(arr)))\n",
    "    print(\"shape : {}, dimension : {}, dtype : {} \".format(arr.shape, arr.ndim, arr.dtype))\n",
    "    print(\"Array's date :\\n\", arr)"
   ]
  },
  {
   "cell_type": "markdown",
   "metadata": {},
   "source": [
    "### 1차원 배열 만들기"
   ]
  },
  {
   "cell_type": "code",
   "execution_count": 4,
   "metadata": {},
   "outputs": [
    {
     "data": {
      "text/plain": [
       "array([0, 1, 2, 3, 4, 5, 6, 7, 8, 9])"
      ]
     },
     "execution_count": 4,
     "metadata": {},
     "output_type": "execute_result"
    }
   ],
   "source": [
    "ary = np.array([0,1,2,3,4,5,6,7,8,9])\n",
    "ary"
   ]
  },
  {
   "cell_type": "code",
   "execution_count": 5,
   "metadata": {},
   "outputs": [
    {
     "name": "stdout",
     "output_type": "stream",
     "text": [
      "type : <class 'numpy.ndarray'>\n",
      "shape : (10,), dimension : 1, dtype : int32 \n",
      "Array's date :\n",
      " [0 1 2 3 4 5 6 7 8 9]\n"
     ]
    }
   ],
   "source": [
    "aryinfo(ary)"
   ]
  },
  {
   "cell_type": "markdown",
   "metadata": {},
   "source": [
    "- ndarray : Numpy에서 가장 강력한 무기로 칭송받고 있는 n차원의 배열객체, ndarray 는 기존 파이썬과 다르게 오직 같은종류의 데이터만을 배열에 담을 수 있다."
   ]
  },
  {
   "cell_type": "markdown",
   "metadata": {},
   "source": [
    "### Vectorized operation (백터화 연산)"
   ]
  },
  {
   "cell_type": "code",
   "execution_count": 6,
   "metadata": {},
   "outputs": [
    {
     "data": {
      "text/plain": [
       "[0, 1, 2, 3, 4, 5, 6, 7, 8, 9, 0, 1, 2, 3, 4, 5, 6, 7, 8, 9]"
      ]
     },
     "execution_count": 6,
     "metadata": {},
     "output_type": "execute_result"
    }
   ],
   "source": [
    "data = [0,1,2,3,4,5,6,7,8,9]\n",
    "data * 2"
   ]
  },
  {
   "cell_type": "code",
   "execution_count": 7,
   "metadata": {},
   "outputs": [
    {
     "data": {
      "text/plain": [
       "[0, 2, 4, 6, 8, 10, 12, 14, 16, 18]"
      ]
     },
     "execution_count": 7,
     "metadata": {},
     "output_type": "execute_result"
    }
   ],
   "source": [
    "answer = []\n",
    "for d in data :\n",
    "    answer.append(d * 2)\n",
    "answer"
   ]
  },
  {
   "cell_type": "code",
   "execution_count": 8,
   "metadata": {},
   "outputs": [
    {
     "name": "stdout",
     "output_type": "stream",
     "text": [
      "[0 1 2 3 4 5 6 7 8 9] <class 'numpy.ndarray'>\n"
     ]
    }
   ],
   "source": [
    "x = np.array(data)\n",
    "x * 2\n",
    "print(x, type(x))"
   ]
  },
  {
   "cell_type": "code",
   "execution_count": 9,
   "metadata": {},
   "outputs": [
    {
     "name": "stdout",
     "output_type": "stream",
     "text": [
      "[0, 2, 4, 6, 8, 10, 12, 14, 16, 18] <class 'list'>\n"
     ]
    }
   ],
   "source": [
    "data2 = [i*2 for i in data ]\n",
    "print (data2, type(data2))"
   ]
  },
  {
   "cell_type": "markdown",
   "metadata": {},
   "source": [
    "### 비교연산, 논리연산"
   ]
  },
  {
   "cell_type": "code",
   "execution_count": 10,
   "metadata": {},
   "outputs": [
    {
     "data": {
      "text/plain": [
       "array([21, 42, 63])"
      ]
     },
     "execution_count": 10,
     "metadata": {},
     "output_type": "execute_result"
    }
   ],
   "source": [
    "oneAry = np.array([1,2,3])\n",
    "twoAry = np.array([10,20,30])\n",
    "oneAry + twoAry * 2"
   ]
  },
  {
   "cell_type": "code",
   "execution_count": 14,
   "metadata": {},
   "outputs": [
    {
     "data": {
      "text/plain": [
       "array([False,  True, False])"
      ]
     },
     "execution_count": 14,
     "metadata": {},
     "output_type": "execute_result"
    }
   ],
   "source": [
    "oneAry == 2"
   ]
  },
  {
   "cell_type": "code",
   "execution_count": 15,
   "metadata": {},
   "outputs": [
    {
     "data": {
      "text/plain": [
       "array([False,  True,  True])"
      ]
     },
     "execution_count": 15,
     "metadata": {},
     "output_type": "execute_result"
    }
   ],
   "source": [
    "twoAry > 10"
   ]
  },
  {
   "cell_type": "code",
   "execution_count": 16,
   "metadata": {},
   "outputs": [
    {
     "data": {
      "text/plain": [
       "array([False,  True, False])"
      ]
     },
     "execution_count": 16,
     "metadata": {},
     "output_type": "execute_result"
    }
   ],
   "source": [
    "(oneAry == 2) & (twoAry > 10)"
   ]
  },
  {
   "cell_type": "markdown",
   "metadata": {},
   "source": [
    "### 2차원 배열 (행렬, matrix)"
   ]
  },
  {
   "cell_type": "code",
   "execution_count": 20,
   "metadata": {
    "scrolled": true
   },
   "outputs": [
    {
     "name": "stdout",
     "output_type": "stream",
     "text": [
      "type : <class 'numpy.ndarray'>\n",
      "shape : (2, 3), dimension : 2, dtype : int32 \n",
      "Array's date :\n",
      " [[0 1 2]\n",
      " [3 4 5]]\n"
     ]
    }
   ],
   "source": [
    "matrix = np.array([[0,1,2],[3,4,5]])\n",
    "aryinfo(matrix)"
   ]
  },
  {
   "cell_type": "code",
   "execution_count": 18,
   "metadata": {},
   "outputs": [
    {
     "name": "stdout",
     "output_type": "stream",
     "text": [
      "행의 갯수 : 2\n",
      "열의 갯수 : 3\n"
     ]
    }
   ],
   "source": [
    "print(\"행의 갯수 :\", len(matrix))\n",
    "print(\"열의 갯수 :\", len(matrix[1]))"
   ]
  },
  {
   "cell_type": "markdown",
   "metadata": {},
   "source": [
    "### 3차원 배열"
   ]
  },
  {
   "cell_type": "code",
   "execution_count": 21,
   "metadata": {},
   "outputs": [],
   "source": [
    "threeDimAry = np.array([[[1,2,3,4],\n",
    "                         [5,6,7,8],\n",
    "                         [9,10,11,12]],\n",
    "                        [[11,12,13,14],\n",
    "                         [15,16,17,18],\n",
    "                         [19,20,21,22]]])"
   ]
  },
  {
   "cell_type": "code",
   "execution_count": 22,
   "metadata": {},
   "outputs": [
    {
     "name": "stdout",
     "output_type": "stream",
     "text": [
      "type : <class 'numpy.ndarray'>\n",
      "shape : (2, 3, 4), dimension : 3, dtype : int32 \n",
      "Array's date :\n",
      " [[[ 1  2  3  4]\n",
      "  [ 5  6  7  8]\n",
      "  [ 9 10 11 12]]\n",
      "\n",
      " [[11 12 13 14]\n",
      "  [15 16 17 18]\n",
      "  [19 20 21 22]]]\n"
     ]
    }
   ],
   "source": [
    "aryinfo(threeDimAry)"
   ]
  },
  {
   "cell_type": "code",
   "execution_count": 23,
   "metadata": {},
   "outputs": [
    {
     "name": "stdout",
     "output_type": "stream",
     "text": [
      "2\n",
      "3\n",
      "4\n"
     ]
    }
   ],
   "source": [
    "print (len(threeDimAry))\n",
    "print (len(threeDimAry[0]))\n",
    "print (len(threeDimAry[0][0]))"
   ]
  },
  {
   "cell_type": "code",
   "execution_count": 24,
   "metadata": {},
   "outputs": [
    {
     "name": "stdout",
     "output_type": "stream",
     "text": [
      "array ['100' 'hello' '3.14']\n",
      "type <class 'numpy.ndarray'>\n",
      "x.type <U11\n",
      "x[0] type <class 'numpy.str_'>\n"
     ]
    }
   ],
   "source": [
    "x = np.array([100, 'hello', 3.14])\n",
    "\n",
    "print ('array {}'.format(x))\n",
    "print ('type {}'.format(type(x)))\n",
    "print ('x.type {}'.format(x.dtype))\n",
    "print ('x[0] type {}'.format(type(x[0])))"
   ]
  },
  {
   "cell_type": "markdown",
   "metadata": {},
   "source": [
    "- u11 = 문자열로 형변환"
   ]
  },
  {
   "cell_type": "code",
   "execution_count": 25,
   "metadata": {},
   "outputs": [
    {
     "name": "stdout",
     "output_type": "stream",
     "text": [
      "type : <class 'numpy.ndarray'>\n",
      "shape : (6,), dimension : 1, dtype : int32 \n",
      "Array's date :\n",
      " [0 1 2 3 4 5]\n"
     ]
    }
   ],
   "source": [
    "data = np.array([0,1,2,3,4,5])\n",
    "aryinfo(data)"
   ]
  },
  {
   "cell_type": "code",
   "execution_count": 26,
   "metadata": {},
   "outputs": [
    {
     "data": {
      "text/plain": [
       "2"
      ]
     },
     "execution_count": 26,
     "metadata": {},
     "output_type": "execute_result"
    }
   ],
   "source": [
    "data[2]"
   ]
  },
  {
   "cell_type": "code",
   "execution_count": 27,
   "metadata": {},
   "outputs": [
    {
     "data": {
      "text/plain": [
       "5"
      ]
     },
     "execution_count": 27,
     "metadata": {},
     "output_type": "execute_result"
    }
   ],
   "source": [
    "data[-1]"
   ]
  },
  {
   "cell_type": "code",
   "execution_count": 28,
   "metadata": {},
   "outputs": [
    {
     "name": "stdout",
     "output_type": "stream",
     "text": [
      "type : <class 'numpy.ndarray'>\n",
      "shape : (2, 3), dimension : 2, dtype : int32 \n",
      "Array's date :\n",
      " [[0 1 2]\n",
      " [3 4 5]]\n"
     ]
    }
   ],
   "source": [
    "matrix = np.array([[0,1,2],[3,4,5]])\n",
    "aryinfo(matrix)"
   ]
  },
  {
   "cell_type": "code",
   "execution_count": 29,
   "metadata": {},
   "outputs": [
    {
     "data": {
      "text/plain": [
       "(2, 1, 4, 5)"
      ]
     },
     "execution_count": 29,
     "metadata": {},
     "output_type": "execute_result"
    }
   ],
   "source": [
    "matrix[0,2], matrix[0,1], matrix[1,1], matrix[-1,-1]"
   ]
  },
  {
   "cell_type": "code",
   "execution_count": 30,
   "metadata": {},
   "outputs": [
    {
     "name": "stdout",
     "output_type": "stream",
     "text": [
      "[0 1 2]\n",
      "[1 4]\n",
      "[4 5]\n"
     ]
    }
   ],
   "source": [
    "# 슬라이싱\n",
    "# 첫번째 행의 전체\n",
    "print (matrix [0, : ])\n",
    "\n",
    "# 두번째 열의 전체\n",
    "print (matrix [ : , 1 ])\n",
    "\n",
    "# 두번째 행의 두번째 열부터 끝까지\n",
    "print (matrix [ 1 , 1 : ])"
   ]
  },
  {
   "cell_type": "code",
   "execution_count": 31,
   "metadata": {},
   "outputs": [],
   "source": [
    "m = np.array([[ 0,  1,  2,  3,  4],\n",
    "            [ 5,  6,  7,  8,  9],\n",
    "            [10, 11, 12, 13, 14]])"
   ]
  },
  {
   "cell_type": "code",
   "execution_count": 87,
   "metadata": {},
   "outputs": [
    {
     "name": "stdout",
     "output_type": "stream",
     "text": [
      "7\n",
      "14\n",
      "[6 7]\n",
      "[ 7 12]\n",
      "[[3 4]\n",
      " [8 9]]\n"
     ]
    }
   ],
   "source": [
    "# 값 7을 인덱싱하라\n",
    "print (m[1,2])\n",
    "\n",
    "# 값 14를 인덱싱하라\n",
    "print (m[2,-1])\n",
    "\n",
    "# 배열 [6,7]를 슬라이싱 하라\n",
    "print (m[1,1:3])\n",
    "\n",
    "# 배열 [7,12]를 슬라이싱하라\n",
    "print (m[1:,2])\n",
    "\n",
    "# 배열 [[8,4],[8,9]]를 슬라이싱하라\n",
    "print (m[0:2,3:5])"
   ]
  },
  {
   "cell_type": "code",
   "execution_count": 32,
   "metadata": {
    "scrolled": true
   },
   "outputs": [
    {
     "name": "stdout",
     "output_type": "stream",
     "text": [
      "type : <class 'numpy.ndarray'>\n",
      "shape : (10,), dimension : 1, dtype : int32 \n",
      "Array's date :\n",
      " [0 1 2 3 4 5 6 7 8 9]\n"
     ]
    }
   ],
   "source": [
    "# boolean indexing\n",
    "odd_even = np.array([0,1,2,3,4,5,6,7,8,9])\n",
    "idx = np.array([True, False, True, False, True, False, True, False, True, False])\n",
    "aryinfo(odd_even)"
   ]
  },
  {
   "cell_type": "code",
   "execution_count": 93,
   "metadata": {},
   "outputs": [
    {
     "data": {
      "text/plain": [
       "array([0, 2, 4, 6, 8])"
      ]
     },
     "execution_count": 93,
     "metadata": {},
     "output_type": "execute_result"
    }
   ],
   "source": [
    "odd_even[idx]"
   ]
  },
  {
   "cell_type": "code",
   "execution_count": 33,
   "metadata": {},
   "outputs": [
    {
     "data": {
      "text/plain": [
       "array([0, 1, 0, 1, 0, 1, 0, 1, 0, 1], dtype=int32)"
      ]
     },
     "execution_count": 33,
     "metadata": {},
     "output_type": "execute_result"
    }
   ],
   "source": [
    "odd_even % 2"
   ]
  },
  {
   "cell_type": "code",
   "execution_count": 34,
   "metadata": {},
   "outputs": [
    {
     "data": {
      "text/plain": [
       "array([ True, False,  True, False,  True, False,  True, False,  True,\n",
       "       False])"
      ]
     },
     "execution_count": 34,
     "metadata": {},
     "output_type": "execute_result"
    }
   ],
   "source": [
    "odd_even % 2 == 0"
   ]
  },
  {
   "cell_type": "code",
   "execution_count": 35,
   "metadata": {},
   "outputs": [
    {
     "data": {
      "text/plain": [
       "array([0, 2, 4, 6, 8])"
      ]
     },
     "execution_count": 35,
     "metadata": {},
     "output_type": "execute_result"
    }
   ],
   "source": [
    "odd_even [odd_even % 2 == 0]"
   ]
  },
  {
   "cell_type": "code",
   "execution_count": 36,
   "metadata": {},
   "outputs": [
    {
     "data": {
      "text/plain": [
       "array([1, 3, 5, 7, 9])"
      ]
     },
     "execution_count": 36,
     "metadata": {},
     "output_type": "execute_result"
    }
   ],
   "source": [
    "# fancing indexing\n",
    "data = np.array([1,2,3,4,5,6,7,8,9])\n",
    "idx  = np.array([0, 2, 4, 6, 8])\n",
    "\n",
    "data [idx]"
   ]
  },
  {
   "cell_type": "code",
   "execution_count": 37,
   "metadata": {},
   "outputs": [
    {
     "data": {
      "text/plain": [
       "array([1, 1, 1, 2, 2, 2, 3, 3, 3])"
      ]
     },
     "execution_count": 37,
     "metadata": {},
     "output_type": "execute_result"
    }
   ],
   "source": [
    "idx = np.array([0,0,0,1,1,1,2,2,2])\n",
    "data[idx]"
   ]
  },
  {
   "cell_type": "code",
   "execution_count": 38,
   "metadata": {},
   "outputs": [
    {
     "name": "stdout",
     "output_type": "stream",
     "text": [
      "type : <class 'numpy.ndarray'>\n",
      "shape : (3, 4), dimension : 2, dtype : int32 \n",
      "Array's date :\n",
      " [[ 1  2  3  4]\n",
      " [ 5  6  7  8]\n",
      " [ 9 10 11 12]]\n"
     ]
    }
   ],
   "source": [
    "n_dim_ary = np.array([[1,2,3,4],[5,6,7,8],[9,10,11,12]])\n",
    "aryinfo(n_dim_ary)"
   ]
  },
  {
   "cell_type": "code",
   "execution_count": 39,
   "metadata": {},
   "outputs": [
    {
     "name": "stdout",
     "output_type": "stream",
     "text": [
      "[1 5 9]\n",
      "[ 4  8 12]\n"
     ]
    }
   ],
   "source": [
    "print (n_dim_ary[0:,0])\n",
    "print (n_dim_ary[0:,3])"
   ]
  },
  {
   "cell_type": "code",
   "execution_count": 41,
   "metadata": {},
   "outputs": [
    {
     "data": {
      "text/plain": [
       "array([[ 1,  4],\n",
       "       [ 5,  8],\n",
       "       [ 9, 12]])"
      ]
     },
     "execution_count": 41,
     "metadata": {},
     "output_type": "execute_result"
    }
   ],
   "source": [
    "n_dim_ary[ : , [0, 3]]"
   ]
  },
  {
   "cell_type": "code",
   "execution_count": 42,
   "metadata": {},
   "outputs": [
    {
     "data": {
      "text/plain": [
       "array([[ 1,  4],\n",
       "       [ 5,  8],\n",
       "       [ 9, 12]])"
      ]
     },
     "execution_count": 42,
     "metadata": {},
     "output_type": "execute_result"
    }
   ],
   "source": [
    "# 불리언\n",
    "n_dim_ary[ : , [True, False, False, True]]"
   ]
  },
  {
   "cell_type": "code",
   "execution_count": 43,
   "metadata": {},
   "outputs": [
    {
     "data": {
      "text/plain": [
       "array([[ 9, 10, 11, 12],\n",
       "       [ 1,  2,  3,  4],\n",
       "       [ 5,  6,  7,  8]])"
      ]
     },
     "execution_count": 43,
     "metadata": {},
     "output_type": "execute_result"
    }
   ],
   "source": [
    "n_dim_ary[[2,0,1], : ]"
   ]
  },
  {
   "cell_type": "code",
   "execution_count": 44,
   "metadata": {},
   "outputs": [],
   "source": [
    "x = np.array([1, 2, 3, 4, 5, 6, 7, 8, 9, 10,\n",
    "             11, 12, 13, 14, 15, 16, 17, 18, 19, 20])"
   ]
  },
  {
   "cell_type": "code",
   "execution_count": 45,
   "metadata": {},
   "outputs": [
    {
     "name": "stdout",
     "output_type": "stream",
     "text": [
      "[ 3  6  9 12 15 18]\n"
     ]
    }
   ],
   "source": [
    "# 3의 배수를 찾아라\n",
    "print (x [x % 3 == 0])"
   ]
  },
  {
   "cell_type": "code",
   "execution_count": 46,
   "metadata": {},
   "outputs": [
    {
     "name": "stdout",
     "output_type": "stream",
     "text": [
      "[ 1  5  9 13 17]\n"
     ]
    }
   ],
   "source": [
    "# 4로 나누면 1이 남는 수를 찾아라\n",
    "print (x [x % 4 == 1])"
   ]
  },
  {
   "cell_type": "code",
   "execution_count": 47,
   "metadata": {},
   "outputs": [
    {
     "name": "stdout",
     "output_type": "stream",
     "text": [
      "[9]\n",
      "<class 'numpy.ndarray'>\n"
     ]
    }
   ],
   "source": [
    "# 3으로 나누면 나누어지고 4로 나누면1이 남는 수를 찾아라\n",
    "print (x[ (x % 3 == 0) & (x % 4 == 1)])\n",
    "print (type(x[ (x % 3 == 0) & (x % 4 == 1)]))"
   ]
  },
  {
   "cell_type": "markdown",
   "metadata": {},
   "source": [
    "### 배열의 생성과변형"
   ]
  },
  {
   "cell_type": "code",
   "execution_count": 48,
   "metadata": {},
   "outputs": [
    {
     "name": "stdout",
     "output_type": "stream",
     "text": [
      "type : <class 'numpy.ndarray'>\n",
      "shape : (3, 4), dimension : 2, dtype : int32 \n",
      "Array's date :\n",
      " [[ 0  1  2  3]\n",
      " [ 4  5  6  7]\n",
      " [ 8  9 10 11]]\n"
     ]
    }
   ],
   "source": [
    "ary = np.arange(0,12,1).reshape(3,4)\n",
    "aryinfo(ary)"
   ]
  },
  {
   "cell_type": "code",
   "execution_count": 49,
   "metadata": {},
   "outputs": [
    {
     "name": "stdout",
     "output_type": "stream",
     "text": [
      "10 <class 'numpy.int32'>\n"
     ]
    }
   ],
   "source": [
    "# 10을 찾고자한다면\n",
    "print(ary[2, 2], type(ary[2,2]))"
   ]
  },
  {
   "cell_type": "code",
   "execution_count": 50,
   "metadata": {},
   "outputs": [
    {
     "name": "stdout",
     "output_type": "stream",
     "text": [
      "[6] <class 'numpy.ndarray'>\n",
      "[[5]] <class 'numpy.ndarray'>\n"
     ]
    }
   ],
   "source": [
    "# 6을 찾고자한다면\n",
    "print(ary[1:2, 2], type(ary[1:2,2]))\n",
    "\n",
    "# 5을 찾고자한다면\n",
    "print(ary[1:2, 1:2], type(ary[1:2, 1:2]))"
   ]
  },
  {
   "cell_type": "markdown",
   "metadata": {},
   "source": [
    "- Vector(1차원 - 배열) - pnadas (series)\n",
    "- Matrix(n차원 - 행렬) - pandas (DtaFrame)"
   ]
  },
  {
   "cell_type": "code",
   "execution_count": 51,
   "metadata": {},
   "outputs": [
    {
     "name": "stdout",
     "output_type": "stream",
     "text": [
      "[[ 0  2]\n",
      " [ 4  6]\n",
      " [ 8 10]] <class 'numpy.ndarray'>\n"
     ]
    }
   ],
   "source": [
    "print (ary[ : , [0, 2]], type(ary[ : , [0, 2]]))"
   ]
  },
  {
   "cell_type": "code",
   "execution_count": 55,
   "metadata": {},
   "outputs": [
    {
     "name": "stdout",
     "output_type": "stream",
     "text": [
      "type : <class 'numpy.ndarray'>\n",
      "shape : (2,), dimension : 1, dtype : int32 \n",
      "Array's date :\n",
      " [ 2 10]\n",
      "type : <class 'numpy.ndarray'>\n",
      "shape : (2, 1), dimension : 2, dtype : int32 \n",
      "Array's date :\n",
      " [[ 2]\n",
      " [10]]\n"
     ]
    }
   ],
   "source": [
    "# 2, 10을 찾는다면?\n",
    "aryinfo (ary[[0,2],2])\n",
    "\n",
    "aryinfo (ary[[0,2],2:3])"
   ]
  },
  {
   "cell_type": "code",
   "execution_count": 54,
   "metadata": {},
   "outputs": [
    {
     "name": "stdout",
     "output_type": "stream",
     "text": [
      "type : <class 'numpy.ndarray'>\n",
      "shape : (2,), dimension : 1, dtype : int32 \n",
      "Array's date :\n",
      " [ 0 10]\n",
      "np.ix_() --->\n",
      "[[ 0  2]\n",
      " [ 8 10]]\n",
      "**************************************************\n",
      "rowdix : [0 2]\n",
      "**************************************************\n",
      "coldix : [0 2]\n",
      "**************************************************\n",
      "rowdix : [[ 0  1  2  3]\n",
      " [ 8  9 10 11]]\n",
      "**************************************************\n",
      "[[ 0  2]\n",
      " [ 8 10]]\n",
      "**************************************************\n",
      "[[ 0  2]\n",
      " [ 8 10]]\n"
     ]
    },
    {
     "name": "stderr",
     "output_type": "stream",
     "text": [
      "<ipython-input-54-bc5082aa1309>:18: FutureWarning: Using a non-tuple sequence for multidimensional indexing is deprecated; use `arr[tuple(seq)]` instead of `arr[seq]`. In the future this will be interpreted as an array index, `arr[np.array(seq)]`, which will result either in an error or a different result.\n",
      "  print('rowdix :',ary[[rowidx]])\n",
      "<ipython-input-54-bc5082aa1309>:21: FutureWarning: Using a non-tuple sequence for multidimensional indexing is deprecated; use `arr[tuple(seq)]` instead of `arr[seq]`. In the future this will be interpreted as an array index, `arr[np.array(seq)]`, which will result either in an error or a different result.\n",
      "  print(ary[[rowidx]][ : , colidx])\n"
     ]
    }
   ],
   "source": [
    "# [[0 2 ]\n",
    "#  [8 10]] 을 찾는다면?\n",
    "aryinfo (ary[[0,2],[0,2]])\n",
    "\n",
    "# np.ix_()\n",
    "print ('np.ix_() --->')\n",
    "print(ary[np.ix_([0,2],[0,2])])\n",
    "\n",
    "print ('*'*50)\n",
    "rowidx = np.array([0,2])\n",
    "print ('rowdix :', rowidx)\n",
    "\n",
    "print ('*'*50)\n",
    "colidx = np.array([0,2])\n",
    "print ('coldix :', rowidx)\n",
    "\n",
    "print ('*'*50)\n",
    "print('rowdix :',ary[[rowidx]])\n",
    "\n",
    "print ('*'*50)\n",
    "print(ary[[rowidx]][ : , colidx])\n",
    "\n",
    "print ('*'*50)\n",
    "print(ary[[0,2]][ : , [0,2]])"
   ]
  },
  {
   "cell_type": "code",
   "execution_count": 56,
   "metadata": {},
   "outputs": [
    {
     "name": "stdout",
     "output_type": "stream",
     "text": [
      "type : <class 'numpy.ndarray'>\n",
      "shape : (3,), dimension : 1, dtype : float32 \n",
      "Array's date :\n",
      " [1. 2. 3.]\n"
     ]
    }
   ],
   "source": [
    "x = np.array([1,2,3], dtype = 'f')\n",
    "aryinfo (x)"
   ]
  },
  {
   "cell_type": "code",
   "execution_count": 57,
   "metadata": {},
   "outputs": [
    {
     "data": {
      "text/plain": [
       "3.0"
      ]
     },
     "execution_count": 57,
     "metadata": {},
     "output_type": "execute_result"
    }
   ],
   "source": [
    "x[0] + x[1]"
   ]
  },
  {
   "cell_type": "markdown",
   "metadata": {},
   "source": [
    "- inf (np.innf(infinity))\n",
    "- NaN (np.nan(not a number))"
   ]
  },
  {
   "cell_type": "code",
   "execution_count": 58,
   "metadata": {},
   "outputs": [
    {
     "name": "stderr",
     "output_type": "stream",
     "text": [
      "<ipython-input-58-6ab12ec6e7a4>:1: RuntimeWarning: divide by zero encountered in true_divide\n",
      "  np.array([0, 1, -1, 0]) / np.array([1, 0, 0, 0])\n",
      "<ipython-input-58-6ab12ec6e7a4>:1: RuntimeWarning: invalid value encountered in true_divide\n",
      "  np.array([0, 1, -1, 0]) / np.array([1, 0, 0, 0])\n"
     ]
    },
    {
     "data": {
      "text/plain": [
       "array([  0.,  inf, -inf,  nan])"
      ]
     },
     "execution_count": 58,
     "metadata": {},
     "output_type": "execute_result"
    }
   ],
   "source": [
    "np.array([0, 1, -1, 0]) / np.array([1, 0, 0, 0])"
   ]
  },
  {
   "cell_type": "code",
   "execution_count": 59,
   "metadata": {},
   "outputs": [
    {
     "name": "stderr",
     "output_type": "stream",
     "text": [
      "<ipython-input-59-f6e7c0610b57>:1: RuntimeWarning: divide by zero encountered in log\n",
      "  np.log(0)\n"
     ]
    },
    {
     "data": {
      "text/plain": [
       "-inf"
      ]
     },
     "execution_count": 59,
     "metadata": {},
     "output_type": "execute_result"
    }
   ],
   "source": [
    "np.log(0)"
   ]
  },
  {
   "cell_type": "code",
   "execution_count": 60,
   "metadata": {},
   "outputs": [
    {
     "data": {
      "text/plain": [
       "0.0"
      ]
     },
     "execution_count": 60,
     "metadata": {},
     "output_type": "execute_result"
    }
   ],
   "source": [
    "np.exp(-np.inf)"
   ]
  },
  {
   "cell_type": "markdown",
   "metadata": {},
   "source": [
    "### 배열생성시 사용할수 있는 함수\n",
    "- array()\n",
    "- arange()\n",
    "- zeros(), ones()\n",
    "- zeros_like(), ones_like()\n",
    "- empty()\n",
    "- linspace()"
   ]
  },
  {
   "cell_type": "code",
   "execution_count": 61,
   "metadata": {},
   "outputs": [
    {
     "name": "stdout",
     "output_type": "stream",
     "text": [
      "type : <class 'numpy.ndarray'>\n",
      "shape : (5,), dimension : 1, dtype : float64 \n",
      "Array's date :\n",
      " [0. 0. 0. 0. 0.]\n"
     ]
    }
   ],
   "source": [
    "z = np.zeros(5)\n",
    "aryinfo(z)"
   ]
  },
  {
   "cell_type": "code",
   "execution_count": 62,
   "metadata": {},
   "outputs": [
    {
     "name": "stdout",
     "output_type": "stream",
     "text": [
      "type : <class 'numpy.ndarray'>\n",
      "shape : (2, 3), dimension : 2, dtype : float64 \n",
      "Array's date :\n",
      " [[0. 0. 0.]\n",
      " [0. 0. 0.]]\n"
     ]
    }
   ],
   "source": [
    "z = np.zeros((2,3))\n",
    "aryinfo(z)"
   ]
  },
  {
   "cell_type": "code",
   "execution_count": 65,
   "metadata": {},
   "outputs": [
    {
     "name": "stdout",
     "output_type": "stream",
     "text": [
      "type : <class 'numpy.ndarray'>\n",
      "shape : (5, 2), dimension : 2, dtype : int32 \n",
      "Array's date :\n",
      " [[0 0]\n",
      " [0 0]\n",
      " [0 0]\n",
      " [0 0]\n",
      " [0 0]]\n"
     ]
    }
   ],
   "source": [
    "z = np.zeros((5,2), dtype='i')\n",
    "aryinfo(z)"
   ]
  },
  {
   "cell_type": "code",
   "execution_count": 64,
   "metadata": {},
   "outputs": [
    {
     "name": "stdout",
     "output_type": "stream",
     "text": [
      "type : <class 'numpy.ndarray'>\n",
      "shape : (2, 3, 4), dimension : 3, dtype : int32 \n",
      "Array's date :\n",
      " [[[1 1 1 1]\n",
      "  [1 1 1 1]\n",
      "  [1 1 1 1]]\n",
      "\n",
      " [[1 1 1 1]\n",
      "  [1 1 1 1]\n",
      "  [1 1 1 1]]]\n"
     ]
    }
   ],
   "source": [
    "o = np.ones((2,3,4), dtype='i')\n",
    "aryinfo(o)"
   ]
  },
  {
   "cell_type": "code",
   "execution_count": 66,
   "metadata": {},
   "outputs": [
    {
     "name": "stdout",
     "output_type": "stream",
     "text": [
      "type : <class 'numpy.ndarray'>\n",
      "shape : (5, 2), dimension : 2, dtype : float32 \n",
      "Array's date :\n",
      " [[0. 0.]\n",
      " [0. 0.]\n",
      " [0. 0.]\n",
      " [0. 0.]\n",
      " [0. 0.]]\n"
     ]
    }
   ],
   "source": [
    "zl = np.zeros_like(z, dtype='f')\n",
    "aryinfo(zl)"
   ]
  },
  {
   "cell_type": "code",
   "execution_count": 67,
   "metadata": {},
   "outputs": [
    {
     "name": "stdout",
     "output_type": "stream",
     "text": [
      "type : <class 'numpy.ndarray'>\n",
      "shape : (5, 2), dimension : 2, dtype : float32 \n",
      "Array's date :\n",
      " [[1. 1.]\n",
      " [1. 1.]\n",
      " [1. 1.]\n",
      " [1. 1.]\n",
      " [1. 1.]]\n"
     ]
    }
   ],
   "source": [
    "zl = np.ones_like(z, dtype='f')\n",
    "aryinfo(zl)"
   ]
  },
  {
   "cell_type": "code",
   "execution_count": 68,
   "metadata": {},
   "outputs": [
    {
     "name": "stdout",
     "output_type": "stream",
     "text": [
      "type : <class 'numpy.ndarray'>\n",
      "shape : (4, 3), dimension : 2, dtype : float64 \n",
      "Array's date :\n",
      " [[1.08107119e-311 3.16202013e-322 0.00000000e+000]\n",
      " [0.00000000e+000 0.00000000e+000 2.33654681e-052]\n",
      " [4.16149903e-061 3.98660431e-062 3.27677013e+179]\n",
      " [1.49054409e+161 5.69852245e-066 8.44922341e+169]]\n"
     ]
    }
   ],
   "source": [
    "e = np.empty((4,3))\n",
    "aryinfo(e)"
   ]
  },
  {
   "cell_type": "code",
   "execution_count": 69,
   "metadata": {},
   "outputs": [
    {
     "data": {
      "text/plain": [
       "array([0, 1, 2, 3, 4, 5, 6, 7, 8, 9])"
      ]
     },
     "execution_count": 69,
     "metadata": {},
     "output_type": "execute_result"
    }
   ],
   "source": [
    "np.arange(10)"
   ]
  },
  {
   "cell_type": "code",
   "execution_count": 70,
   "metadata": {},
   "outputs": [
    {
     "data": {
      "text/plain": [
       "array([ 3,  5,  7,  9, 11, 13, 15, 17, 19])"
      ]
     },
     "execution_count": 70,
     "metadata": {},
     "output_type": "execute_result"
    }
   ],
   "source": [
    "np.arange(3, 21, 2) # 시작, 끝(포함하지 않는다), 단계"
   ]
  },
  {
   "cell_type": "code",
   "execution_count": 71,
   "metadata": {},
   "outputs": [
    {
     "data": {
      "text/plain": [
       "array([  0.,  25.,  50.,  75., 100.])"
      ]
     },
     "execution_count": 71,
     "metadata": {},
     "output_type": "execute_result"
    }
   ],
   "source": [
    "np.linspace(0,100,5)"
   ]
  },
  {
   "cell_type": "markdown",
   "metadata": {},
   "source": [
    "- 전체행렬(transpose matrix) ?\n",
    "- 행렬의 행은 열로, 열은 행으로 바꾼 행렬을 의미한다\n",
    "- T (속성)"
   ]
  },
  {
   "cell_type": "code",
   "execution_count": 72,
   "metadata": {},
   "outputs": [
    {
     "name": "stdout",
     "output_type": "stream",
     "text": [
      "type : <class 'numpy.ndarray'>\n",
      "shape : (2, 3), dimension : 2, dtype : int32 \n",
      "Array's date :\n",
      " [[1 2 3]\n",
      " [4 5 6]]\n"
     ]
    }
   ],
   "source": [
    "ary = np.array([[1,2,3],[4,5,6]])\n",
    "aryinfo(ary)"
   ]
  },
  {
   "cell_type": "code",
   "execution_count": 73,
   "metadata": {},
   "outputs": [
    {
     "name": "stdout",
     "output_type": "stream",
     "text": [
      "type : <class 'numpy.ndarray'>\n",
      "shape : (3, 2), dimension : 2, dtype : int32 \n",
      "Array's date :\n",
      " [[1 4]\n",
      " [2 5]\n",
      " [3 6]]\n"
     ]
    }
   ],
   "source": [
    "ary_t = ary.T\n",
    "aryinfo(ary_t)"
   ]
  },
  {
   "cell_type": "code",
   "execution_count": 74,
   "metadata": {},
   "outputs": [
    {
     "name": "stdout",
     "output_type": "stream",
     "text": [
      "type : <class 'numpy.ndarray'>\n",
      "shape : (10,), dimension : 1, dtype : int32 \n",
      "Array's date :\n",
      " [0 1 2 3 4 5 6 7 8 9]\n"
     ]
    }
   ],
   "source": [
    "# Vector 에 trnspose 가능할까?\n",
    "vec = np.arange(10)\n",
    "aryinfo(vec)"
   ]
  },
  {
   "cell_type": "code",
   "execution_count": 75,
   "metadata": {},
   "outputs": [
    {
     "name": "stdout",
     "output_type": "stream",
     "text": [
      "type : <class 'numpy.ndarray'>\n",
      "shape : (10,), dimension : 1, dtype : int32 \n",
      "Array's date :\n",
      " [0 1 2 3 4 5 6 7 8 9]\n"
     ]
    }
   ],
   "source": [
    "vec_t = vec.T\n",
    "aryinfo(vec_t)"
   ]
  },
  {
   "cell_type": "code",
   "execution_count": 76,
   "metadata": {},
   "outputs": [
    {
     "name": "stdout",
     "output_type": "stream",
     "text": [
      "type : <class 'numpy.ndarray'>\n",
      "shape : (10, 1), dimension : 2, dtype : int32 \n",
      "Array's date :\n",
      " [[0]\n",
      " [1]\n",
      " [2]\n",
      " [3]\n",
      " [4]\n",
      " [5]\n",
      " [6]\n",
      " [7]\n",
      " [8]\n",
      " [9]]\n"
     ]
    }
   ],
   "source": [
    "vec_r_t = vec.reshape(1,10).T\n",
    "aryinfo(vec_r_t)"
   ]
  },
  {
   "cell_type": "code",
   "execution_count": 77,
   "metadata": {},
   "outputs": [
    {
     "name": "stdout",
     "output_type": "stream",
     "text": [
      "type : <class 'numpy.ndarray'>\n",
      "shape : (12,), dimension : 1, dtype : int32 \n",
      "Array's date :\n",
      " [ 0  1  2  3  4  5  6  7  8  9 10 11]\n"
     ]
    }
   ],
   "source": [
    "x = np.arange(12)\n",
    "aryinfo(x)"
   ]
  },
  {
   "cell_type": "code",
   "execution_count": 78,
   "metadata": {},
   "outputs": [
    {
     "name": "stdout",
     "output_type": "stream",
     "text": [
      "type : <class 'numpy.ndarray'>\n",
      "shape : (3, 4), dimension : 2, dtype : int32 \n",
      "Array's date :\n",
      " [[ 0  1  2  3]\n",
      " [ 4  5  6  7]\n",
      " [ 8  9 10 11]]\n"
     ]
    }
   ],
   "source": [
    "xx = x.reshape(3,4)\n",
    "aryinfo(xx)"
   ]
  },
  {
   "cell_type": "code",
   "execution_count": 79,
   "metadata": {},
   "outputs": [
    {
     "name": "stdout",
     "output_type": "stream",
     "text": [
      "type : <class 'numpy.ndarray'>\n",
      "shape : (2, 2, 3), dimension : 3, dtype : int32 \n",
      "Array's date :\n",
      " [[[ 0  1  2]\n",
      "  [ 3  4  5]]\n",
      "\n",
      " [[ 6  7  8]\n",
      "  [ 9 10 11]]]\n"
     ]
    }
   ],
   "source": [
    "x_reshape = x.reshape(2, 2, -1)\n",
    "aryinfo(x_reshape)"
   ]
  },
  {
   "cell_type": "code",
   "execution_count": 80,
   "metadata": {},
   "outputs": [
    {
     "name": "stdout",
     "output_type": "stream",
     "text": [
      "type : <class 'numpy.ndarray'>\n",
      "shape : (2, 3, 2), dimension : 3, dtype : int32 \n",
      "Array's date :\n",
      " [[[ 0  1]\n",
      "  [ 2  3]\n",
      "  [ 4  5]]\n",
      "\n",
      " [[ 6  7]\n",
      "  [ 8  9]\n",
      "  [10 11]]]\n"
     ]
    }
   ],
   "source": [
    "x_reshape = x.reshape(2, -1, 2)\n",
    "aryinfo(x_reshape)"
   ]
  },
  {
   "cell_type": "markdown",
   "metadata": {},
   "source": [
    "- 행열을 백터로 변형하고자 한다면 (flatten())"
   ]
  },
  {
   "cell_type": "code",
   "execution_count": 81,
   "metadata": {},
   "outputs": [
    {
     "name": "stdout",
     "output_type": "stream",
     "text": [
      "type : <class 'numpy.ndarray'>\n",
      "shape : (12,), dimension : 1, dtype : int32 \n",
      "Array's date :\n",
      " [ 0  1  2  3  4  5  6  7  8  9 10 11]\n"
     ]
    }
   ],
   "source": [
    "aryinfo(x_reshape.flatten())"
   ]
  },
  {
   "cell_type": "code",
   "execution_count": 82,
   "metadata": {},
   "outputs": [
    {
     "name": "stdout",
     "output_type": "stream",
     "text": [
      "type : <class 'numpy.ndarray'>\n",
      "shape : (5,), dimension : 1, dtype : int32 \n",
      "Array's date :\n",
      " [0 1 2 3 4]\n"
     ]
    }
   ],
   "source": [
    "# 변형할때 주의점\n",
    "x = np.arange(5)\n",
    "aryinfo(x)"
   ]
  },
  {
   "cell_type": "code",
   "execution_count": 84,
   "metadata": {},
   "outputs": [
    {
     "name": "stdout",
     "output_type": "stream",
     "text": [
      "type : <class 'numpy.ndarray'>\n",
      "shape : (1, 5), dimension : 2, dtype : int32 \n",
      "Array's date :\n",
      " [[0 1 2 3 4]]\n"
     ]
    }
   ],
   "source": [
    "x_re = x.reshape (1,5)\n",
    "aryinfo(x_re)"
   ]
  },
  {
   "cell_type": "code",
   "execution_count": 83,
   "metadata": {},
   "outputs": [
    {
     "name": "stdout",
     "output_type": "stream",
     "text": [
      "type : <class 'numpy.ndarray'>\n",
      "shape : (5, 1), dimension : 2, dtype : int32 \n",
      "Array's date :\n",
      " [[0]\n",
      " [1]\n",
      " [2]\n",
      " [3]\n",
      " [4]]\n"
     ]
    }
   ],
   "source": [
    "x_re = x.reshape (5,1)\n",
    "aryinfo(x_re)"
   ]
  },
  {
   "cell_type": "markdown",
   "metadata": {},
   "source": [
    "- ndarray iterator - nditer()"
   ]
  },
  {
   "cell_type": "code",
   "execution_count": 85,
   "metadata": {},
   "outputs": [
    {
     "name": "stdout",
     "output_type": "stream",
     "text": [
      "0 <class 'numpy.int32'>\n",
      "1 <class 'numpy.int32'>\n",
      "2 <class 'numpy.int32'>\n",
      "3 <class 'numpy.int32'>\n",
      "4 <class 'numpy.int32'>\n"
     ]
    }
   ],
   "source": [
    "# 1차형 배열에 대한 순차적 접근을 한다면?\n",
    "for tmp in x :\n",
    "    print (tmp, end=\" \")\n",
    "    print (type(tmp))"
   ]
  },
  {
   "cell_type": "code",
   "execution_count": 86,
   "metadata": {},
   "outputs": [
    {
     "name": "stdout",
     "output_type": "stream",
     "text": [
      "0 1 2 3 4 "
     ]
    }
   ],
   "source": [
    "ite = np.nditer(x, flags=['c_index'])\n",
    "while not ite.finished :\n",
    "    print(x[ite.index], end=\" \")\n",
    "    ite.iternext()"
   ]
  },
  {
   "cell_type": "code",
   "execution_count": 87,
   "metadata": {},
   "outputs": [
    {
     "name": "stdout",
     "output_type": "stream",
     "text": [
      "type : <class 'numpy.ndarray'>\n",
      "shape : (2, 3), dimension : 2, dtype : int32 \n",
      "Array's date :\n",
      " [[1 2 3]\n",
      " [4 5 6]]\n"
     ]
    }
   ],
   "source": [
    "# 2차형 배열에 대한 순차접근\n",
    "two_dim_ary = np.array([[1,2,3],[4,5,6]])\n",
    "aryinfo(two_dim_ary)"
   ]
  },
  {
   "cell_type": "code",
   "execution_count": 88,
   "metadata": {},
   "outputs": [
    {
     "name": "stdout",
     "output_type": "stream",
     "text": [
      "[[1 2 3]\n",
      " [4 5 6]]\n",
      "2\n",
      "3\n"
     ]
    }
   ],
   "source": [
    "print (two_dim_ary)\n",
    "print (two_dim_ary.shape[0]) # row\n",
    "print (two_dim_ary.shape[1]) # col"
   ]
  },
  {
   "cell_type": "code",
   "execution_count": 311,
   "metadata": {},
   "outputs": [
    {
     "name": "stdout",
     "output_type": "stream",
     "text": [
      "1 2 3 \n",
      "\n",
      "4 5 6 \n",
      "\n"
     ]
    }
   ],
   "source": [
    "for i in range(two_dim_ary.shape[0]):\n",
    "    for j in range(two_dim_ary.shape[1]):\n",
    "        print (two_dim_ary[i][j], end=\" \")\n",
    "    print('\\n')"
   ]
  },
  {
   "cell_type": "code",
   "execution_count": 312,
   "metadata": {},
   "outputs": [
    {
     "name": "stdout",
     "output_type": "stream",
     "text": [
      "1 2 3 4 5 6 "
     ]
    }
   ],
   "source": [
    "ite = np.nditer(two_dim_ary, flags=['multi_index'])\n",
    "while not ite.finished :\n",
    "    print(two_dim_ary[ite.multi_index], end=\" \")\n",
    "    ite.iternext()"
   ]
  }
 ],
 "metadata": {
  "kernelspec": {
   "display_name": "Python 3",
   "language": "python",
   "name": "python3"
  },
  "language_info": {
   "codemirror_mode": {
    "name": "ipython",
    "version": 3
   },
   "file_extension": ".py",
   "mimetype": "text/x-python",
   "name": "python",
   "nbconvert_exporter": "python",
   "pygments_lexer": "ipython3",
   "version": "3.8.5"
  }
 },
 "nbformat": 4,
 "nbformat_minor": 4
}
